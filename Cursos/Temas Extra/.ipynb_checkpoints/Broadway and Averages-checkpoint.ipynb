{
 "cells": [
  {
   "cell_type": "code",
   "execution_count": 1,
   "metadata": {},
   "outputs": [
    {
     "name": "stderr",
     "output_type": "stream",
     "text": [
      "-- \u001b[1mAttaching packages\u001b[22m --------------------------------------- tidyverse 1.3.0 --\n",
      "\n",
      "\u001b[32mv\u001b[39m \u001b[34mggplot2\u001b[39m 3.3.0     \u001b[32mv\u001b[39m \u001b[34mpurrr  \u001b[39m 0.3.4\n",
      "\u001b[32mv\u001b[39m \u001b[34mtibble \u001b[39m 3.0.1     \u001b[32mv\u001b[39m \u001b[34mdplyr  \u001b[39m 0.8.5\n",
      "\u001b[32mv\u001b[39m \u001b[34mtidyr  \u001b[39m 1.1.0     \u001b[32mv\u001b[39m \u001b[34mstringr\u001b[39m 1.4.0\n",
      "\u001b[32mv\u001b[39m \u001b[34mreadr  \u001b[39m 1.3.1     \u001b[32mv\u001b[39m \u001b[34mforcats\u001b[39m 0.5.0\n",
      "\n",
      "-- \u001b[1mConflicts\u001b[22m ------------------------------------------ tidyverse_conflicts() --\n",
      "\u001b[31mx\u001b[39m \u001b[34mdplyr\u001b[39m::\u001b[32mfilter()\u001b[39m masks \u001b[34mstats\u001b[39m::filter()\n",
      "\u001b[31mx\u001b[39m \u001b[34mdplyr\u001b[39m::\u001b[32mlag()\u001b[39m    masks \u001b[34mstats\u001b[39m::lag()\n",
      "\n"
     ]
    }
   ],
   "source": [
    "#https://www.youtube.com/watch?v=OhY5ZaILRpg\n",
    "library(tidytuesdayR)\n",
    "library(tidyverse)"
   ]
  },
  {
   "cell_type": "code",
   "execution_count": 2,
   "metadata": {},
   "outputs": [
    {
     "name": "stderr",
     "output_type": "stream",
     "text": [
      "--- Downloading #TidyTuesday Information for 2020-04-28 ----\n",
      "\n",
      "--- Identified 4 files available for download ----\n",
      "\n",
      "--- Downloading files ---\n",
      "\n",
      "Warning message:\n",
      "\"71078 parsing failures.\n",
      " row              col           expected actual                                                                         file\n",
      "6862 potential_gross  1/0/T/F/TRUE/FALSE 383843 'C:\\Users\\fedeZzZ\\AppData\\Local\\Temp\\Rtmp4KNBKx\\file2a1474a4230f.csv'\n",
      "6862 top_ticket_price 1/0/T/F/TRUE/FALSE 50     'C:\\Users\\fedeZzZ\\AppData\\Local\\Temp\\Rtmp4KNBKx\\file2a1474a4230f.csv'\n",
      "6885 potential_gross  1/0/T/F/TRUE/FALSE 383843 'C:\\Users\\fedeZzZ\\AppData\\Local\\Temp\\Rtmp4KNBKx\\file2a1474a4230f.csv'\n",
      "6885 top_ticket_price 1/0/T/F/TRUE/FALSE 50     'C:\\Users\\fedeZzZ\\AppData\\Local\\Temp\\Rtmp4KNBKx\\file2a1474a4230f.csv'\n",
      "6909 potential_gross  1/0/T/F/TRUE/FALSE 383843 'C:\\Users\\fedeZzZ\\AppData\\Local\\Temp\\Rtmp4KNBKx\\file2a1474a4230f.csv'\n",
      ".... ................ .................. ...... ............................................................................\n",
      "See problems(...) for more details.\n",
      "\"\n",
      "--- Download complete ---\n",
      "\n"
     ]
    }
   ],
   "source": [
    "tuesdata <- tidytuesdayR::tt_load(2020, week = 18)"
   ]
  },
  {
   "cell_type": "code",
   "execution_count": 3,
   "metadata": {},
   "outputs": [],
   "source": [
    "grosses <- tuesdata$grosses"
   ]
  },
  {
   "cell_type": "code",
   "execution_count": 4,
   "metadata": {},
   "outputs": [
    {
     "data": {
      "text/html": [
       "<style>\n",
       ".list-inline {list-style: none; margin:0; padding: 0}\n",
       ".list-inline>li {display: inline-block}\n",
       ".list-inline>li:not(:last-child)::after {content: \"\\00b7\"; padding: 0 .5ex}\n",
       "</style>\n",
       "<ol class=list-inline><li>'week_ending'</li><li>'week_number'</li><li>'weekly_gross_overall'</li><li>'show'</li><li>'theatre'</li><li>'weekly_gross'</li><li>'potential_gross'</li><li>'avg_ticket_price'</li><li>'top_ticket_price'</li><li>'seats_sold'</li><li>'seats_in_theatre'</li><li>'pct_capacity'</li><li>'performances'</li><li>'previews'</li></ol>\n"
      ],
      "text/latex": [
       "\\begin{enumerate*}\n",
       "\\item 'week\\_ending'\n",
       "\\item 'week\\_number'\n",
       "\\item 'weekly\\_gross\\_overall'\n",
       "\\item 'show'\n",
       "\\item 'theatre'\n",
       "\\item 'weekly\\_gross'\n",
       "\\item 'potential\\_gross'\n",
       "\\item 'avg\\_ticket\\_price'\n",
       "\\item 'top\\_ticket\\_price'\n",
       "\\item 'seats\\_sold'\n",
       "\\item 'seats\\_in\\_theatre'\n",
       "\\item 'pct\\_capacity'\n",
       "\\item 'performances'\n",
       "\\item 'previews'\n",
       "\\end{enumerate*}\n"
      ],
      "text/markdown": [
       "1. 'week_ending'\n",
       "2. 'week_number'\n",
       "3. 'weekly_gross_overall'\n",
       "4. 'show'\n",
       "5. 'theatre'\n",
       "6. 'weekly_gross'\n",
       "7. 'potential_gross'\n",
       "8. 'avg_ticket_price'\n",
       "9. 'top_ticket_price'\n",
       "10. 'seats_sold'\n",
       "11. 'seats_in_theatre'\n",
       "12. 'pct_capacity'\n",
       "13. 'performances'\n",
       "14. 'previews'\n",
       "\n",
       "\n"
      ],
      "text/plain": [
       " [1] \"week_ending\"          \"week_number\"          \"weekly_gross_overall\"\n",
       " [4] \"show\"                 \"theatre\"              \"weekly_gross\"        \n",
       " [7] \"potential_gross\"      \"avg_ticket_price\"     \"top_ticket_price\"    \n",
       "[10] \"seats_sold\"           \"seats_in_theatre\"     \"pct_capacity\"        \n",
       "[13] \"performances\"         \"previews\"            "
      ]
     },
     "metadata": {},
     "output_type": "display_data"
    }
   ],
   "source": [
    "names(grosses)"
   ]
  },
  {
   "cell_type": "markdown",
   "metadata": {},
   "source": [
    "### Averages using tidymetrics\n",
    "\n",
    "to do rolling windows use windows argument."
   ]
  },
  {
   "cell_type": "code",
   "execution_count": 5,
   "metadata": {},
   "outputs": [
    {
     "name": "stderr",
     "output_type": "stream",
     "text": [
      "\n",
      "Attaching package: 'tidymetrics'\n",
      "\n",
      "\n",
      "The following object is masked from 'package:stats':\n",
      "\n",
      "    filter\n",
      "\n",
      "\n"
     ]
    }
   ],
   "source": [
    "library(tidymetrics)"
   ]
  },
  {
   "cell_type": "code",
   "execution_count": 6,
   "metadata": {},
   "outputs": [
    {
     "name": "stderr",
     "output_type": "stream",
     "text": [
      "Warning message:\n",
      "\"unnest() has a new interface. See ?unnest for details.\n",
      "Try `df %>% unnest(c(offset))`, with `mutate()` if needed\"\n"
     ]
    }
   ],
   "source": [
    "lion_king_processed <- \n",
    "    grosses %>% \n",
    "        filter(show == \"The Lion King\") %>% \n",
    "        rename(date = week_ending) %>% \n",
    "        cross_by_periods(periods = c(\"month\", \"quarter\", \"year\"), \n",
    "                         windows = c(28)) %>% \n",
    "        summarise(usd_gross = sum(weekly_gross), \n",
    "                  avg_ticket_price = mean(avg_ticket_price), \n",
    "                  mean_capacity = mean(pct_capacity)) "
   ]
  },
  {
   "cell_type": "code",
   "execution_count": 7,
   "metadata": {},
   "outputs": [
    {
     "data": {
      "text/html": [
       "<table>\n",
       "<caption>A grouped_df: 6 × 5</caption>\n",
       "<thead>\n",
       "\t<tr><th scope=col>period</th><th scope=col>date</th><th scope=col>usd_gross</th><th scope=col>avg_ticket_price</th><th scope=col>mean_capacity</th></tr>\n",
       "\t<tr><th scope=col>&lt;chr&gt;</th><th scope=col>&lt;date&gt;</th><th scope=col>&lt;dbl&gt;</th><th scope=col>&lt;dbl&gt;</th><th scope=col>&lt;dbl&gt;</th></tr>\n",
       "</thead>\n",
       "<tbody>\n",
       "\t<tr><td>month</td><td>1997-10-01</td><td>1355041</td><td>58.6900</td><td>0.882050</td></tr>\n",
       "\t<tr><td>month</td><td>1997-11-01</td><td>3636271</td><td>56.6660</td><td>0.919180</td></tr>\n",
       "\t<tr><td>month</td><td>1997-12-01</td><td>3262879</td><td>57.8025</td><td>1.010825</td></tr>\n",
       "\t<tr><td>month</td><td>1998-01-01</td><td>3250823</td><td>57.8675</td><td>1.005925</td></tr>\n",
       "\t<tr><td>month</td><td>1998-02-01</td><td>3202440</td><td>57.1250</td><td>1.003925</td></tr>\n",
       "\t<tr><td>month</td><td>1998-03-01</td><td>4007274</td><td>56.9220</td><td>1.008620</td></tr>\n",
       "</tbody>\n",
       "</table>\n"
      ],
      "text/latex": [
       "A grouped\\_df: 6 × 5\n",
       "\\begin{tabular}{lllll}\n",
       " period & date & usd\\_gross & avg\\_ticket\\_price & mean\\_capacity\\\\\n",
       " <chr> & <date> & <dbl> & <dbl> & <dbl>\\\\\n",
       "\\hline\n",
       "\t month & 1997-10-01 & 1355041 & 58.6900 & 0.882050\\\\\n",
       "\t month & 1997-11-01 & 3636271 & 56.6660 & 0.919180\\\\\n",
       "\t month & 1997-12-01 & 3262879 & 57.8025 & 1.010825\\\\\n",
       "\t month & 1998-01-01 & 3250823 & 57.8675 & 1.005925\\\\\n",
       "\t month & 1998-02-01 & 3202440 & 57.1250 & 1.003925\\\\\n",
       "\t month & 1998-03-01 & 4007274 & 56.9220 & 1.008620\\\\\n",
       "\\end{tabular}\n"
      ],
      "text/markdown": [
       "\n",
       "A grouped_df: 6 × 5\n",
       "\n",
       "| period &lt;chr&gt; | date &lt;date&gt; | usd_gross &lt;dbl&gt; | avg_ticket_price &lt;dbl&gt; | mean_capacity &lt;dbl&gt; |\n",
       "|---|---|---|---|---|\n",
       "| month | 1997-10-01 | 1355041 | 58.6900 | 0.882050 |\n",
       "| month | 1997-11-01 | 3636271 | 56.6660 | 0.919180 |\n",
       "| month | 1997-12-01 | 3262879 | 57.8025 | 1.010825 |\n",
       "| month | 1998-01-01 | 3250823 | 57.8675 | 1.005925 |\n",
       "| month | 1998-02-01 | 3202440 | 57.1250 | 1.003925 |\n",
       "| month | 1998-03-01 | 4007274 | 56.9220 | 1.008620 |\n",
       "\n"
      ],
      "text/plain": [
       "  period date       usd_gross avg_ticket_price mean_capacity\n",
       "1 month  1997-10-01 1355041   58.6900          0.882050     \n",
       "2 month  1997-11-01 3636271   56.6660          0.919180     \n",
       "3 month  1997-12-01 3262879   57.8025          1.010825     \n",
       "4 month  1998-01-01 3250823   57.8675          1.005925     \n",
       "5 month  1998-02-01 3202440   57.1250          1.003925     \n",
       "6 month  1998-03-01 4007274   56.9220          1.008620     "
      ]
     },
     "metadata": {},
     "output_type": "display_data"
    }
   ],
   "source": [
    "lion_king_processed %>% head()"
   ]
  },
  {
   "cell_type": "code",
   "execution_count": 8,
   "metadata": {},
   "outputs": [
    {
     "data": {
      "image/png": "[encoded data removed]",
      "text/plain": [
       "plot without title"
      ]
     },
     "metadata": {
      "image/png": {
       "height": 420,
       "width": 420
      }
     },
     "output_type": "display_data"
    }
   ],
   "source": [
    "lion_king_processed %>% \n",
    "    ggplot(aes(date, usd_gross, color = period)) +\n",
    "        geom_line(size = 1.1)"
   ]
  },
  {
   "cell_type": "code",
   "execution_count": 9,
   "metadata": {},
   "outputs": [
    {
     "data": {
      "image/png": "[encoded data removed]",
      "text/plain": [
       "plot without title"
      ]
     },
     "metadata": {
      "image/png": {
       "height": 420,
       "width": 420
      }
     },
     "output_type": "display_data"
    }
   ],
   "source": [
    "lion_king_processed %>% \n",
    "    filter(period != \"rolling_28d\") %>% \n",
    "    ggplot(aes(date, avg_ticket_price, color = period)) +\n",
    "        geom_line(size = 1.2, alpha = 0.5) +\n",
    "        scale_y_continuous(labels = scales::dollar_format()) +\n",
    "        expand_limits(y = 0) +\n",
    "        labs(x = \"time\", \n",
    "             y = \"average ticket price\", \n",
    "             color = \"period\")"
   ]
  },
  {
   "cell_type": "code",
   "execution_count": 10,
   "metadata": {},
   "outputs": [
    {
     "data": {
      "image/png": "[encoded data removed]",
      "text/plain": [
       "plot without title"
      ]
     },
     "metadata": {
      "image/png": {
       "height": 420,
       "width": 420
      }
     },
     "output_type": "display_data"
    }
   ],
   "source": [
    "lion_king_processed %>% \n",
    "    filter(period %in% c(\"month\", \"rolling_28d\")) %>% \n",
    "    ggplot(aes(date, avg_ticket_price, color = period)) +\n",
    "        geom_line(size = 1.2, alpha = 0.5) +\n",
    "        scale_y_continuous(labels = scales::dollar_format()) +\n",
    "        expand_limits(y = 0) +\n",
    "        labs(x = \"time\", \n",
    "             y = \"average ticket price\", \n",
    "             color = \"period\", \n",
    "             title = \"Moving average and mean over a period\")"
   ]
  },
  {
   "cell_type": "code",
   "execution_count": 11,
   "metadata": {},
   "outputs": [
    {
     "data": {
      "image/png": "[encoded data removed]",
      "text/plain": [
       "plot without title"
      ]
     },
     "metadata": {
      "image/png": {
       "height": 420,
       "width": 420
      }
     },
     "output_type": "display_data"
    }
   ],
   "source": [
    "lion_king_processed %>% \n",
    "    filter(period == \"rolling_28d\") %>% \n",
    "    ggplot(aes(date, mean_capacity, color = period)) +\n",
    "        geom_line(size = 1.2, alpha = 0.5) +\n",
    "        scale_y_continuous(labels = scales::percent_format()) +\n",
    "        expand_limits(y = 0) +\n",
    "        labs(x = \"time\", \n",
    "             y = \"average capacity\", \n",
    "             color = \"period\")"
   ]
  },
  {
   "cell_type": "markdown",
   "metadata": {},
   "source": [
    "## Dashboards"
   ]
  },
  {
   "cell_type": "code",
   "execution_count": 12,
   "metadata": {},
   "outputs": [
    {
     "data": {
      "text/html": [
       "<table>\n",
       "<caption>A spec_tbl_df: 1 × 1</caption>\n",
       "<thead>\n",
       "\t<tr><th scope=col>show</th></tr>\n",
       "\t<tr><th scope=col>&lt;chr&gt;</th></tr>\n",
       "</thead>\n",
       "<tbody>\n",
       "\t<tr><td>Harry Potter and the Cursed Child, Parts One and Two</td></tr>\n",
       "</tbody>\n",
       "</table>\n"
      ],
      "text/latex": [
       "A spec\\_tbl\\_df: 1 × 1\n",
       "\\begin{tabular}{l}\n",
       " show\\\\\n",
       " <chr>\\\\\n",
       "\\hline\n",
       "\t Harry Potter and the Cursed Child, Parts One and Two\\\\\n",
       "\\end{tabular}\n"
      ],
      "text/markdown": [
       "\n",
       "A spec_tbl_df: 1 × 1\n",
       "\n",
       "| show &lt;chr&gt; |\n",
       "|---|\n",
       "| Harry Potter and the Cursed Child, Parts One and Two |\n",
       "\n"
      ],
      "text/plain": [
       "  show                                                \n",
       "1 Harry Potter and the Cursed Child, Parts One and Two"
      ]
     },
     "metadata": {},
     "output_type": "display_data"
    }
   ],
   "source": [
    "# Harry Potter musical?\n",
    "grosses %>%\n",
    "    filter(str_detect(show, \"Potter\"))  %>% \n",
    "    distinct(show)"
   ]
  },
  {
   "cell_type": "code",
   "execution_count": 13,
   "metadata": {},
   "outputs": [
    {
     "name": "stderr",
     "output_type": "stream",
     "text": [
      "Warning message:\n",
      "\"unnest() has a new interface. See ?unnest for details.\n",
      "Try `df %>% unnest(c(offset))`, with `mutate()` if needed\"\n"
     ]
    }
   ],
   "source": [
    "shows_summarized <- \n",
    "    grosses %>% \n",
    "        filter(show %in% \n",
    "               c(\"Hamilton\", \n",
    "                 \"The Lion King\", \n",
    "                 \"Rent\", \n",
    "                 \"Wicked\", \n",
    "                 \"Harry Potter and the Cursed Child, Parts One and Two\", \n",
    "                 \"The Book of Mormon\")) %>% \n",
    "        mutate(show = str_remove(show, \"\\\\, Parts.*\")) %>% \n",
    "        rename(date = week_ending) %>% \n",
    "        cross_by_dimensions(show) %>% # same as group_by??? No, has an all group/level\n",
    "        cross_by_periods(periods = c(\"month\", \"quarter\", \"year\"), \n",
    "                         windows = c(28)) %>% \n",
    "        summarise(usd_gross = sum(weekly_gross), \n",
    "                  avg_ticket_price = mean(avg_ticket_price), \n",
    "                  mean_capacity = mean(pct_capacity))  %>% \n",
    "        ungroup()"
   ]
  },
  {
   "cell_type": "code",
   "execution_count": 14,
   "metadata": {},
   "outputs": [
    {
     "data": {
      "image/png": "[encoded data removed]",
      "text/plain": [
       "plot without title"
      ]
     },
     "metadata": {
      "image/png": {
       "height": 420,
       "width": 420
      }
     },
     "output_type": "display_data"
    }
   ],
   "source": [
    "shows_summarized %>% \n",
    "    filter(period == \"quarter\", \n",
    "           show != \"All\") %>% \n",
    "    ggplot(aes(date, usd_gross, fill = show)) +\n",
    "        geom_col() +\n",
    "        scale_y_continuous(labels = scales::dollar_format())"
   ]
  },
  {
   "cell_type": "code",
   "execution_count": 15,
   "metadata": {},
   "outputs": [
    {
     "data": {
      "image/png": "[encoded data removed]",
      "text/plain": [
       "plot without title"
      ]
     },
     "metadata": {
      "image/png": {
       "height": 420,
       "width": 420
      }
     },
     "output_type": "display_data"
    }
   ],
   "source": [
    "shows_summarized %>% \n",
    "    filter(period == \"quarter\", \n",
    "           show != \"All\") %>% \n",
    "    ggplot(aes(date, avg_ticket_price, color = show)) +\n",
    "        geom_line(size = 1) +\n",
    "        scale_y_continuous(labels = scales::dollar_format()) + \n",
    "        expand_limits(y = 0)"
   ]
  },
  {
   "cell_type": "code",
   "execution_count": 16,
   "metadata": {},
   "outputs": [
    {
     "data": {
      "text/html": [
       "<table>\n",
       "<caption>A tibble: 6 × 6</caption>\n",
       "<thead>\n",
       "\t<tr><th scope=col>show</th><th scope=col>period</th><th scope=col>date</th><th scope=col>usd_gross</th><th scope=col>avg_ticket_price</th><th scope=col>mean_capacity</th></tr>\n",
       "\t<tr><th scope=col>&lt;chr&gt;</th><th scope=col>&lt;chr&gt;</th><th scope=col>&lt;date&gt;</th><th scope=col>&lt;dbl&gt;</th><th scope=col>&lt;dbl&gt;</th><th scope=col>&lt;dbl&gt;</th></tr>\n",
       "</thead>\n",
       "<tbody>\n",
       "\t<tr><td>All</td><td>month</td><td>1996-04-01</td><td> 894317</td><td>48.2700</td><td>0.98765</td></tr>\n",
       "\t<tr><td>All</td><td>month</td><td>1996-05-01</td><td>1798022</td><td>47.0575</td><td>1.01790</td></tr>\n",
       "\t<tr><td>All</td><td>month</td><td>1996-06-01</td><td>2439314</td><td>51.0320</td><td>1.01880</td></tr>\n",
       "\t<tr><td>All</td><td>month</td><td>1996-07-01</td><td>1989411</td><td>52.0250</td><td>1.01880</td></tr>\n",
       "\t<tr><td>All</td><td>month</td><td>1996-08-01</td><td>2019736</td><td>52.8175</td><td>1.01880</td></tr>\n",
       "\t<tr><td>All</td><td>month</td><td>1996-09-01</td><td>2520455</td><td>52.7300</td><td>1.01880</td></tr>\n",
       "</tbody>\n",
       "</table>\n"
      ],
      "text/latex": [
       "A tibble: 6 × 6\n",
       "\\begin{tabular}{llllll}\n",
       " show & period & date & usd\\_gross & avg\\_ticket\\_price & mean\\_capacity\\\\\n",
       " <chr> & <chr> & <date> & <dbl> & <dbl> & <dbl>\\\\\n",
       "\\hline\n",
       "\t All & month & 1996-04-01 &  894317 & 48.2700 & 0.98765\\\\\n",
       "\t All & month & 1996-05-01 & 1798022 & 47.0575 & 1.01790\\\\\n",
       "\t All & month & 1996-06-01 & 2439314 & 51.0320 & 1.01880\\\\\n",
       "\t All & month & 1996-07-01 & 1989411 & 52.0250 & 1.01880\\\\\n",
       "\t All & month & 1996-08-01 & 2019736 & 52.8175 & 1.01880\\\\\n",
       "\t All & month & 1996-09-01 & 2520455 & 52.7300 & 1.01880\\\\\n",
       "\\end{tabular}\n"
      ],
      "text/markdown": [
       "\n",
       "A tibble: 6 × 6\n",
       "\n",
       "| show &lt;chr&gt; | period &lt;chr&gt; | date &lt;date&gt; | usd_gross &lt;dbl&gt; | avg_ticket_price &lt;dbl&gt; | mean_capacity &lt;dbl&gt; |\n",
       "|---|---|---|---|---|---|\n",
       "| All | month | 1996-04-01 |  894317 | 48.2700 | 0.98765 |\n",
       "| All | month | 1996-05-01 | 1798022 | 47.0575 | 1.01790 |\n",
       "| All | month | 1996-06-01 | 2439314 | 51.0320 | 1.01880 |\n",
       "| All | month | 1996-07-01 | 1989411 | 52.0250 | 1.01880 |\n",
       "| All | month | 1996-08-01 | 2019736 | 52.8175 | 1.01880 |\n",
       "| All | month | 1996-09-01 | 2520455 | 52.7300 | 1.01880 |\n",
       "\n"
      ],
      "text/plain": [
       "  show period date       usd_gross avg_ticket_price mean_capacity\n",
       "1 All  month  1996-04-01  894317   48.2700          0.98765      \n",
       "2 All  month  1996-05-01 1798022   47.0575          1.01790      \n",
       "3 All  month  1996-06-01 2439314   51.0320          1.01880      \n",
       "4 All  month  1996-07-01 1989411   52.0250          1.01880      \n",
       "5 All  month  1996-08-01 2019736   52.8175          1.01880      \n",
       "6 All  month  1996-09-01 2520455   52.7300          1.01880      "
      ]
     },
     "metadata": {},
     "output_type": "display_data"
    }
   ],
   "source": [
    "shows_summarized %>% head()"
   ]
  },
  {
   "cell_type": "code",
   "execution_count": 17,
   "metadata": {},
   "outputs": [],
   "source": [
    "library(shinymetrics)"
   ]
  },
  {
   "cell_type": "code",
   "execution_count": 18,
   "metadata": {},
   "outputs": [
    {
     "ename": "ERROR",
     "evalue": "Error: RStudio not running\n",
     "output_type": "error",
     "traceback": [
      "Error: RStudio not running\nTraceback:\n",
      "1. create_metrics(shows_summarized)",
      "2. get_metric_docs(rmd_file)",
      "3. rstudioapi::getActiveDocumentContext()",
      "4. getDocumentContext(\"getActiveDocumentContext\")",
      "5. callFun(fn)",
      "6. verifyAvailable()",
      "7. stop(\"RStudio not running\", call. = FALSE)"
     ]
    }
   ],
   "source": [
    "shows_metrics <- create_metrics(shows_summarized)"
   ]
  },
  {
   "cell_type": "code",
   "execution_count": null,
   "metadata": {},
   "outputs": [],
   "source": []
  }
 ],
 "metadata": {
  "kernelspec": {
   "display_name": "R",
   "language": "R",
   "name": "ir"
  },
  "language_info": {
   "codemirror_mode": "r",
   "file_extension": ".r",
   "mimetype": "text/x-r-source",
   "name": "R",
   "pygments_lexer": "r",
   "version": "4.0.0"
  }
 },
 "nbformat": 4,
 "nbformat_minor": 4
}
