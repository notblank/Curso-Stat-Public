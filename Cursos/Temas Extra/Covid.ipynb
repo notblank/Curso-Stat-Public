{
 "cells": [
  {
   "cell_type": "code",
   "execution_count": 1,
   "metadata": {
    "scrolled": false
   },
   "outputs": [
    {
     "name": "stderr",
     "output_type": "stream",
     "text": [
      "── \u001b[1mAttaching packages\u001b[22m ─────────────────────────────────────── tidyverse 1.3.0 ──\n",
      "\n",
      "\u001b[32m✔\u001b[39m \u001b[34mggplot2\u001b[39m 3.3.0     \u001b[32m✔\u001b[39m \u001b[34mpurrr  \u001b[39m 0.3.4\n",
      "\u001b[32m✔\u001b[39m \u001b[34mtibble \u001b[39m 3.0.1     \u001b[32m✔\u001b[39m \u001b[34mdplyr  \u001b[39m 0.8.5\n",
      "\u001b[32m✔\u001b[39m \u001b[34mtidyr  \u001b[39m 1.0.2     \u001b[32m✔\u001b[39m \u001b[34mstringr\u001b[39m 1.4.0\n",
      "\u001b[32m✔\u001b[39m \u001b[34mreadr  \u001b[39m 1.3.1     \u001b[32m✔\u001b[39m \u001b[34mforcats\u001b[39m 0.5.0\n",
      "\n",
      "── \u001b[1mConflicts\u001b[22m ────────────────────────────────────────── tidyverse_conflicts() ──\n",
      "\u001b[31m✖\u001b[39m \u001b[34mdplyr\u001b[39m::\u001b[32mfilter()\u001b[39m masks \u001b[34mstats\u001b[39m::filter()\n",
      "\u001b[31m✖\u001b[39m \u001b[34mdplyr\u001b[39m::\u001b[32mlag()\u001b[39m    masks \u001b[34mstats\u001b[39m::lag()\n",
      "\n",
      "\n",
      "Attaching package: ‘lubridate’\n",
      "\n",
      "\n",
      "The following objects are masked from ‘package:dplyr’:\n",
      "\n",
      "    intersect, setdiff, union\n",
      "\n",
      "\n",
      "The following objects are masked from ‘package:base’:\n",
      "\n",
      "    date, intersect, setdiff, union\n",
      "\n",
      "\n"
     ]
    }
   ],
   "source": [
    "library(tidyverse)\n",
    "library(lubridate)"
   ]
  },
  {
   "cell_type": "code",
   "execution_count": 2,
   "metadata": {
    "scrolled": true
   },
   "outputs": [
    {
     "name": "stderr",
     "output_type": "stream",
     "text": [
      "Parsed with column specification:\n",
      "cols(\n",
      "  dateRep = \u001b[31mcol_character()\u001b[39m,\n",
      "  day = \u001b[32mcol_double()\u001b[39m,\n",
      "  month = \u001b[32mcol_double()\u001b[39m,\n",
      "  year = \u001b[32mcol_double()\u001b[39m,\n",
      "  cases = \u001b[32mcol_double()\u001b[39m,\n",
      "  deaths = \u001b[32mcol_double()\u001b[39m,\n",
      "  countriesAndTerritories = \u001b[31mcol_character()\u001b[39m,\n",
      "  geoId = \u001b[31mcol_character()\u001b[39m,\n",
      "  countryterritoryCode = \u001b[31mcol_character()\u001b[39m,\n",
      "  popData2018 = \u001b[32mcol_double()\u001b[39m\n",
      ")\n",
      "\n"
     ]
    }
   ],
   "source": [
    "COVID_19 <- read_csv(\"./covid19model-1.0/data/COVID-19-up-to-date.csv\") %>% \n",
    "                unite(date, year, month, day, sep = \"-\") %>% \n",
    "                rename(Country = countriesAndTerritories) %>% \n",
    "                mutate(date =  as.Date(date)) %>% \n",
    "                ungroup()  \n"
   ]
  },
  {
   "cell_type": "code",
   "execution_count": 3,
   "metadata": {},
   "outputs": [
    {
     "data": {
      "text/html": [
       "<style>\n",
       ".list-inline {list-style: none; margin:0; padding: 0}\n",
       ".list-inline>li {display: inline-block}\n",
       ".list-inline>li:not(:last-child)::after {content: \"\\00b7\"; padding: 0 .5ex}\n",
       "</style>\n",
       "<ol class=list-inline><li>7320</li><li>8</li></ol>\n"
      ],
      "text/latex": [
       "\\begin{enumerate*}\n",
       "\\item 7320\n",
       "\\item 8\n",
       "\\end{enumerate*}\n"
      ],
      "text/markdown": [
       "1. 7320\n",
       "2. 8\n",
       "\n",
       "\n"
      ],
      "text/plain": [
       "[1] 7320    8"
      ]
     },
     "metadata": {},
     "output_type": "display_data"
    },
    {
     "data": {
      "text/html": [
       "<style>\n",
       ".list-inline {list-style: none; margin:0; padding: 0}\n",
       ".list-inline>li {display: inline-block}\n",
       ".list-inline>li:not(:last-child)::after {content: \"\\00b7\"; padding: 0 .5ex}\n",
       "</style>\n",
       "<ol class=list-inline><li>'dateRep'</li><li>'date'</li><li>'cases'</li><li>'deaths'</li><li>'Country'</li><li>'geoId'</li><li>'countryterritoryCode'</li><li>'popData2018'</li></ol>\n"
      ],
      "text/latex": [
       "\\begin{enumerate*}\n",
       "\\item 'dateRep'\n",
       "\\item 'date'\n",
       "\\item 'cases'\n",
       "\\item 'deaths'\n",
       "\\item 'Country'\n",
       "\\item 'geoId'\n",
       "\\item 'countryterritoryCode'\n",
       "\\item 'popData2018'\n",
       "\\end{enumerate*}\n"
      ],
      "text/markdown": [
       "1. 'dateRep'\n",
       "2. 'date'\n",
       "3. 'cases'\n",
       "4. 'deaths'\n",
       "5. 'Country'\n",
       "6. 'geoId'\n",
       "7. 'countryterritoryCode'\n",
       "8. 'popData2018'\n",
       "\n",
       "\n"
      ],
      "text/plain": [
       "[1] \"dateRep\"              \"date\"                 \"cases\"               \n",
       "[4] \"deaths\"               \"Country\"              \"geoId\"               \n",
       "[7] \"countryterritoryCode\" \"popData2018\"         "
      ]
     },
     "metadata": {},
     "output_type": "display_data"
    }
   ],
   "source": [
    "dim(COVID_19)\n",
    "names(COVID_19)"
   ]
  },
  {
   "cell_type": "code",
   "execution_count": 4,
   "metadata": {},
   "outputs": [],
   "source": [
    "countries_wo_code <- c(\"Anguilla\", \"Eritrea\", \"Cases_on_an_international_conveyance_Japan\")\n",
    "COVID_19_processed  <- \n",
    "        COVID_19 %>%\n",
    "            filter(!(Country %in% countries_wo_code)) %>% \n",
    "            select(-geoId, -dateRep) %>% \n",
    "            rename(new_cases = cases, \n",
    "                   new_deaths = deaths, \n",
    "                   code = countryterritoryCode, \n",
    "                   population = popData2018) %>% \n",
    "            complete(Country, date) %>% \n",
    "            group_by(Country) %>% \n",
    "            mutate(new_cases = ifelse(is.na(new_cases), 0, new_cases), \n",
    "                   new_deaths = ifelse(is.na(new_deaths), 0, new_deaths)) %>% \n",
    "            group_by(Country) %>% \n",
    "            mutate(total_cases = cumsum(new_cases), \n",
    "                   total_deaths = cumsum(new_deaths))  %>% \n",
    "            arrange(population) %>% \n",
    "            fill(c(code, population), c(code, population)) "
   ]
  },
  {
   "cell_type": "code",
   "execution_count": 5,
   "metadata": {},
   "outputs": [
    {
     "data": {
      "text/html": [
       "<style>\n",
       ".list-inline {list-style: none; margin:0; padding: 0}\n",
       ".list-inline>li {display: inline-block}\n",
       ".list-inline>li:not(:last-child)::after {content: \"\\00b7\"; padding: 0 .5ex}\n",
       "</style>\n",
       "<ol class=list-inline><li>17177</li><li>8</li></ol>\n"
      ],
      "text/latex": [
       "\\begin{enumerate*}\n",
       "\\item 17177\n",
       "\\item 8\n",
       "\\end{enumerate*}\n"
      ],
      "text/markdown": [
       "1. 17177\n",
       "2. 8\n",
       "\n",
       "\n"
      ],
      "text/plain": [
       "[1] 17177     8"
      ]
     },
     "metadata": {},
     "output_type": "display_data"
    },
    {
     "data": {
      "text/html": [
       "<style>\n",
       ".list-inline {list-style: none; margin:0; padding: 0}\n",
       ".list-inline>li {display: inline-block}\n",
       ".list-inline>li:not(:last-child)::after {content: \"\\00b7\"; padding: 0 .5ex}\n",
       "</style>\n",
       "<ol class=list-inline><li>'Country'</li><li>'date'</li><li>'new_cases'</li><li>'new_deaths'</li><li>'code'</li><li>'population'</li><li>'total_cases'</li><li>'total_deaths'</li></ol>\n"
      ],
      "text/latex": [
       "\\begin{enumerate*}\n",
       "\\item 'Country'\n",
       "\\item 'date'\n",
       "\\item 'new\\_cases'\n",
       "\\item 'new\\_deaths'\n",
       "\\item 'code'\n",
       "\\item 'population'\n",
       "\\item 'total\\_cases'\n",
       "\\item 'total\\_deaths'\n",
       "\\end{enumerate*}\n"
      ],
      "text/markdown": [
       "1. 'Country'\n",
       "2. 'date'\n",
       "3. 'new_cases'\n",
       "4. 'new_deaths'\n",
       "5. 'code'\n",
       "6. 'population'\n",
       "7. 'total_cases'\n",
       "8. 'total_deaths'\n",
       "\n",
       "\n"
      ],
      "text/plain": [
       "[1] \"Country\"      \"date\"         \"new_cases\"    \"new_deaths\"   \"code\"        \n",
       "[6] \"population\"   \"total_cases\"  \"total_deaths\""
      ]
     },
     "metadata": {},
     "output_type": "display_data"
    },
    {
     "data": {
      "text/html": [
       "<table>\n",
       "<caption>A grouped_df: 6 × 8</caption>\n",
       "<thead>\n",
       "\t<tr><th scope=col>Country</th><th scope=col>date</th><th scope=col>new_cases</th><th scope=col>new_deaths</th><th scope=col>code</th><th scope=col>population</th><th scope=col>total_cases</th><th scope=col>total_deaths</th></tr>\n",
       "\t<tr><th scope=col>&lt;chr&gt;</th><th scope=col>&lt;date&gt;</th><th scope=col>&lt;dbl&gt;</th><th scope=col>&lt;dbl&gt;</th><th scope=col>&lt;chr&gt;</th><th scope=col>&lt;dbl&gt;</th><th scope=col>&lt;dbl&gt;</th><th scope=col>&lt;dbl&gt;</th></tr>\n",
       "</thead>\n",
       "<tbody>\n",
       "\t<tr><td>Holy_See</td><td>2020-03-07</td><td>1</td><td>0</td><td>VAT</td><td>1000</td><td>1</td><td>0</td></tr>\n",
       "\t<tr><td>Holy_See</td><td>2020-03-16</td><td>0</td><td>0</td><td>VAT</td><td>1000</td><td>1</td><td>0</td></tr>\n",
       "\t<tr><td>Holy_See</td><td>2020-03-17</td><td>0</td><td>0</td><td>VAT</td><td>1000</td><td>1</td><td>0</td></tr>\n",
       "\t<tr><td>Holy_See</td><td>2020-03-18</td><td>0</td><td>0</td><td>VAT</td><td>1000</td><td>1</td><td>0</td></tr>\n",
       "\t<tr><td>Holy_See</td><td>2020-03-19</td><td>0</td><td>0</td><td>VAT</td><td>1000</td><td>1</td><td>0</td></tr>\n",
       "\t<tr><td>Holy_See</td><td>2020-03-20</td><td>0</td><td>0</td><td>VAT</td><td>1000</td><td>1</td><td>0</td></tr>\n",
       "</tbody>\n",
       "</table>\n"
      ],
      "text/latex": [
       "A grouped\\_df: 6 × 8\n",
       "\\begin{tabular}{llllllll}\n",
       " Country & date & new\\_cases & new\\_deaths & code & population & total\\_cases & total\\_deaths\\\\\n",
       " <chr> & <date> & <dbl> & <dbl> & <chr> & <dbl> & <dbl> & <dbl>\\\\\n",
       "\\hline\n",
       "\t Holy\\_See & 2020-03-07 & 1 & 0 & VAT & 1000 & 1 & 0\\\\\n",
       "\t Holy\\_See & 2020-03-16 & 0 & 0 & VAT & 1000 & 1 & 0\\\\\n",
       "\t Holy\\_See & 2020-03-17 & 0 & 0 & VAT & 1000 & 1 & 0\\\\\n",
       "\t Holy\\_See & 2020-03-18 & 0 & 0 & VAT & 1000 & 1 & 0\\\\\n",
       "\t Holy\\_See & 2020-03-19 & 0 & 0 & VAT & 1000 & 1 & 0\\\\\n",
       "\t Holy\\_See & 2020-03-20 & 0 & 0 & VAT & 1000 & 1 & 0\\\\\n",
       "\\end{tabular}\n"
      ],
      "text/markdown": [
       "\n",
       "A grouped_df: 6 × 8\n",
       "\n",
       "| Country &lt;chr&gt; | date &lt;date&gt; | new_cases &lt;dbl&gt; | new_deaths &lt;dbl&gt; | code &lt;chr&gt; | population &lt;dbl&gt; | total_cases &lt;dbl&gt; | total_deaths &lt;dbl&gt; |\n",
       "|---|---|---|---|---|---|---|---|\n",
       "| Holy_See | 2020-03-07 | 1 | 0 | VAT | 1000 | 1 | 0 |\n",
       "| Holy_See | 2020-03-16 | 0 | 0 | VAT | 1000 | 1 | 0 |\n",
       "| Holy_See | 2020-03-17 | 0 | 0 | VAT | 1000 | 1 | 0 |\n",
       "| Holy_See | 2020-03-18 | 0 | 0 | VAT | 1000 | 1 | 0 |\n",
       "| Holy_See | 2020-03-19 | 0 | 0 | VAT | 1000 | 1 | 0 |\n",
       "| Holy_See | 2020-03-20 | 0 | 0 | VAT | 1000 | 1 | 0 |\n",
       "\n"
      ],
      "text/plain": [
       "  Country  date       new_cases new_deaths code population total_cases\n",
       "1 Holy_See 2020-03-07 1         0          VAT  1000       1          \n",
       "2 Holy_See 2020-03-16 0         0          VAT  1000       1          \n",
       "3 Holy_See 2020-03-17 0         0          VAT  1000       1          \n",
       "4 Holy_See 2020-03-18 0         0          VAT  1000       1          \n",
       "5 Holy_See 2020-03-19 0         0          VAT  1000       1          \n",
       "6 Holy_See 2020-03-20 0         0          VAT  1000       1          \n",
       "  total_deaths\n",
       "1 0           \n",
       "2 0           \n",
       "3 0           \n",
       "4 0           \n",
       "5 0           \n",
       "6 0           "
      ]
     },
     "metadata": {},
     "output_type": "display_data"
    }
   ],
   "source": [
    "dim(COVID_19_processed)\n",
    "names(COVID_19_processed)\n",
    "head(COVID_19_processed)"
   ]
  },
  {
   "cell_type": "code",
   "execution_count": 6,
   "metadata": {
    "scrolled": true
   },
   "outputs": [
    {
     "name": "stderr",
     "output_type": "stream",
     "text": [
      "Warning message:\n",
      "\"Missing column names filled in: 'X9' [9], 'X14' [14], 'X15' [15], 'X16' [16], 'X17' [17], 'X18' [18], 'X19' [19], 'X20' [20], 'X21' [21]\"\n",
      "Parsed with column specification:\n",
      "cols(\n",
      "  .default = col_character(),\n",
      "  travel_restrictions = \u001b[34mcol_date(format = \"\")\u001b[39m,\n",
      "  X9 = \u001b[33mcol_logical()\u001b[39m,\n",
      "  X14 = \u001b[33mcol_logical()\u001b[39m,\n",
      "  X15 = \u001b[33mcol_logical()\u001b[39m,\n",
      "  X16 = \u001b[33mcol_logical()\u001b[39m,\n",
      "  X17 = \u001b[33mcol_logical()\u001b[39m,\n",
      "  X18 = \u001b[33mcol_logical()\u001b[39m,\n",
      "  X19 = \u001b[33mcol_logical()\u001b[39m,\n",
      "  X20 = \u001b[33mcol_logical()\u001b[39m,\n",
      "  X21 = \u001b[33mcol_logical()\u001b[39m\n",
      ")\n",
      "\n",
      "See spec(...) for full column specifications.\n",
      "\n"
     ]
    }
   ],
   "source": [
    "interventions  <- read_csv(\"./covid19model-1.0/data/interventions.csv\")  %>% \n",
    "                    select(-contains(\"X\")) %>% \n",
    "                    mutate(travel_restrictions = as.character(travel_restrictions))"
   ]
  },
  {
   "cell_type": "code",
   "execution_count": 7,
   "metadata": {},
   "outputs": [
    {
     "data": {
      "text/html": [
       "<style>\n",
       ".list-inline {list-style: none; margin:0; padding: 0}\n",
       ".list-inline>li {display: inline-block}\n",
       ".list-inline>li:not(:last-child)::after {content: \"\\00b7\"; padding: 0 .5ex}\n",
       "</style>\n",
       "<ol class=list-inline><li>78</li><li>13</li></ol>\n"
      ],
      "text/latex": [
       "\\begin{enumerate*}\n",
       "\\item 78\n",
       "\\item 13\n",
       "\\end{enumerate*}\n"
      ],
      "text/markdown": [
       "1. 78\n",
       "2. 13\n",
       "\n",
       "\n"
      ],
      "text/plain": [
       "[1] 78 13"
      ]
     },
     "metadata": {},
     "output_type": "display_data"
    },
    {
     "data": {
      "text/html": [
       "<style>\n",
       ".list-inline {list-style: none; margin:0; padding: 0}\n",
       ".list-inline>li {display: inline-block}\n",
       ".list-inline>li:not(:last-child)::after {content: \"\\00b7\"; padding: 0 .5ex}\n",
       "</style>\n",
       "<ol class=list-inline><li>'Country'</li><li>'schools_universities'</li><li>'travel_restrictions'</li><li>'public_events'</li><li>'sport'</li><li>'lockdown'</li><li>'social_distancing_encouraged'</li><li>'self_isolating_if_ill'</li><li>'Data inputted by'</li><li>'note: enter the date on which the closing occurred, e.g. as the last day of UK schools will be 2020-03-20, I entered 2020-03-21'</li><li>'comments'</li><li>'Enter your github username below'</li><li>'startdate'</li></ol>\n"
      ],
      "text/latex": [
       "\\begin{enumerate*}\n",
       "\\item 'Country'\n",
       "\\item 'schools\\_universities'\n",
       "\\item 'travel\\_restrictions'\n",
       "\\item 'public\\_events'\n",
       "\\item 'sport'\n",
       "\\item 'lockdown'\n",
       "\\item 'social\\_distancing\\_encouraged'\n",
       "\\item 'self\\_isolating\\_if\\_ill'\n",
       "\\item 'Data inputted by'\n",
       "\\item 'note: enter the date on which the closing occurred, e.g. as the last day of UK schools will be 2020-03-20, I entered 2020-03-21'\n",
       "\\item 'comments'\n",
       "\\item 'Enter your github username below'\n",
       "\\item 'startdate'\n",
       "\\end{enumerate*}\n"
      ],
      "text/markdown": [
       "1. 'Country'\n",
       "2. 'schools_universities'\n",
       "3. 'travel_restrictions'\n",
       "4. 'public_events'\n",
       "5. 'sport'\n",
       "6. 'lockdown'\n",
       "7. 'social_distancing_encouraged'\n",
       "8. 'self_isolating_if_ill'\n",
       "9. 'Data inputted by'\n",
       "10. 'note: enter the date on which the closing occurred, e.g. as the last day of UK schools will be 2020-03-20, I entered 2020-03-21'\n",
       "11. 'comments'\n",
       "12. 'Enter your github username below'\n",
       "13. 'startdate'\n",
       "\n",
       "\n"
      ],
      "text/plain": [
       " [1] \"Country\"                                                                                                                        \n",
       " [2] \"schools_universities\"                                                                                                           \n",
       " [3] \"travel_restrictions\"                                                                                                            \n",
       " [4] \"public_events\"                                                                                                                  \n",
       " [5] \"sport\"                                                                                                                          \n",
       " [6] \"lockdown\"                                                                                                                       \n",
       " [7] \"social_distancing_encouraged\"                                                                                                   \n",
       " [8] \"self_isolating_if_ill\"                                                                                                          \n",
       " [9] \"Data inputted by\"                                                                                                               \n",
       "[10] \"note: enter the date on which the closing occurred, e.g. as the last day of UK schools will be 2020-03-20, I entered 2020-03-21\"\n",
       "[11] \"comments\"                                                                                                                       \n",
       "[12] \"Enter your github username below\"                                                                                               \n",
       "[13] \"startdate\"                                                                                                                      "
      ]
     },
     "metadata": {},
     "output_type": "display_data"
    }
   ],
   "source": [
    "dim(interventions)\n",
    "names(interventions)"
   ]
  },
  {
   "cell_type": "markdown",
   "metadata": {},
   "source": [
    "## Some of the date rows are information..."
   ]
  },
  {
   "cell_type": "code",
   "execution_count": 8,
   "metadata": {},
   "outputs": [
    {
     "data": {
      "text/html": [
       "<table>\n",
       "<caption>A spec_tbl_df: 7 × 13</caption>\n",
       "<thead>\n",
       "\t<tr><th scope=col>Country</th><th scope=col>schools_universities</th><th scope=col>travel_restrictions</th><th scope=col>public_events</th><th scope=col>sport</th><th scope=col>lockdown</th><th scope=col>social_distancing_encouraged</th><th scope=col>self_isolating_if_ill</th><th scope=col>Data inputted by</th><th scope=col>note: enter the date on which the closing occurred, e.g. as the last day of UK schools will be 2020-03-20, I entered 2020-03-21</th><th scope=col>comments</th><th scope=col>Enter your github username below</th><th scope=col>startdate</th></tr>\n",
       "\t<tr><th scope=col>&lt;chr&gt;</th><th scope=col>&lt;chr&gt;</th><th scope=col>&lt;chr&gt;</th><th scope=col>&lt;chr&gt;</th><th scope=col>&lt;chr&gt;</th><th scope=col>&lt;chr&gt;</th><th scope=col>&lt;chr&gt;</th><th scope=col>&lt;chr&gt;</th><th scope=col>&lt;chr&gt;</th><th scope=col>&lt;chr&gt;</th><th scope=col>&lt;chr&gt;</th><th scope=col>&lt;chr&gt;</th><th scope=col>&lt;chr&gt;</th></tr>\n",
       "</thead>\n",
       "<tbody>\n",
       "\t<tr><td>Italy</td><td>2020-03-05                                                                    </td><td>2020-03-09</td><td>2020-03-09</td><td>2020-03-09                       </td><td>2020-03-11</td><td>2020-03-09</td><td>2020-03-09</td><td>Harrison </td><td>NA       </td><td>NA        </td><td>NA</td><td>2020-03-14</td></tr>\n",
       "\t<tr><td>Italy</td><td>Lockdown of Lombardy region and 14 other provinces                            </td><td>NA        </td><td>2020-03-08</td><td>26%                              </td><td>NA        </td><td>NA        </td><td>NA        </td><td>NA       </td><td>NA       </td><td>NA        </td><td>NA</td><td>2020-03-13</td></tr>\n",
       "\t<tr><td>Italy</td><td>self-isolate if ill and quarantine if tested positive                         </td><td>NA        </td><td>2020-03-08</td><td>extended to whole country on 9/03</td><td>NA        </td><td>NA        </td><td>NA        </td><td>NA       </td><td>NA       </td><td>NA        </td><td>NA</td><td>2020-03-13</td></tr>\n",
       "\t<tr><td>Italy</td><td>Extended lockdown (non-essential shops + restaurants + caffee still open)     </td><td>NA        </td><td>2020-03-09</td><td>NA                               </td><td>NA        </td><td>NA        </td><td>NA        </td><td>NA       </td><td>NA       </td><td>NA        </td><td>NA</td><td>2020-03-12</td></tr>\n",
       "\t<tr><td>Italy</td><td>Extended lockdown + closure of non-essential shops                            </td><td>NA        </td><td>2020-03-11</td><td>NA                               </td><td>NA        </td><td>NA        </td><td>NA        </td><td>NA       </td><td>NA       </td><td>NA        </td><td>NA</td><td>2020-03-14</td></tr>\n",
       "\t<tr><td>Italy</td><td>Extended lockdown + further closure of non-essential businesses and activities</td><td>NA        </td><td>2020-03-22</td><td>NA                               </td><td>NA        </td><td>NA        </td><td>NA        </td><td>NA       </td><td>NA       </td><td>NA        </td><td>NA</td><td>2020-03-16</td></tr>\n",
       "\t<tr><td>Italy</td><td>4.994.995                                                                     </td><td>NA        </td><td>5.733.448 </td><td>6.998.434                        </td><td>9.022.004 </td><td>9.567.192 </td><td>7.484.862 </td><td>6.028.908</td><td>4.528.549</td><td>54.358.392</td><td>NA</td><td>21/03/2020</td></tr>\n",
       "</tbody>\n",
       "</table>\n"
      ],
      "text/latex": [
       "A spec\\_tbl\\_df: 7 × 13\n",
       "\\begin{tabular}{lllllllllllll}\n",
       " Country & schools\\_universities & travel\\_restrictions & public\\_events & sport & lockdown & social\\_distancing\\_encouraged & self\\_isolating\\_if\\_ill & Data inputted by & note: enter the date on which the closing occurred, e.g. as the last day of UK schools will be 2020-03-20, I entered 2020-03-21 & comments & Enter your github username below & startdate\\\\\n",
       " <chr> & <chr> & <chr> & <chr> & <chr> & <chr> & <chr> & <chr> & <chr> & <chr> & <chr> & <chr> & <chr>\\\\\n",
       "\\hline\n",
       "\t Italy & 2020-03-05                                                                     & 2020-03-09 & 2020-03-09 & 2020-03-09                        & 2020-03-11 & 2020-03-09 & 2020-03-09 & Harrison  & NA        & NA         & NA & 2020-03-14\\\\\n",
       "\t Italy & Lockdown of Lombardy region and 14 other provinces                             & NA         & 2020-03-08 & 26\\%                               & NA         & NA         & NA         & NA        & NA        & NA         & NA & 2020-03-13\\\\\n",
       "\t Italy & self-isolate if ill and quarantine if tested positive                          & NA         & 2020-03-08 & extended to whole country on 9/03 & NA         & NA         & NA         & NA        & NA        & NA         & NA & 2020-03-13\\\\\n",
       "\t Italy & Extended lockdown (non-essential shops + restaurants + caffee still open)      & NA         & 2020-03-09 & NA                                & NA         & NA         & NA         & NA        & NA        & NA         & NA & 2020-03-12\\\\\n",
       "\t Italy & Extended lockdown + closure of non-essential shops                             & NA         & 2020-03-11 & NA                                & NA         & NA         & NA         & NA        & NA        & NA         & NA & 2020-03-14\\\\\n",
       "\t Italy & Extended lockdown + further closure of non-essential businesses and activities & NA         & 2020-03-22 & NA                                & NA         & NA         & NA         & NA        & NA        & NA         & NA & 2020-03-16\\\\\n",
       "\t Italy & 4.994.995                                                                      & NA         & 5.733.448  & 6.998.434                         & 9.022.004  & 9.567.192  & 7.484.862  & 6.028.908 & 4.528.549 & 54.358.392 & NA & 21/03/2020\\\\\n",
       "\\end{tabular}\n"
      ],
      "text/markdown": [
       "\n",
       "A spec_tbl_df: 7 × 13\n",
       "\n",
       "| Country &lt;chr&gt; | schools_universities &lt;chr&gt; | travel_restrictions &lt;chr&gt; | public_events &lt;chr&gt; | sport &lt;chr&gt; | lockdown &lt;chr&gt; | social_distancing_encouraged &lt;chr&gt; | self_isolating_if_ill &lt;chr&gt; | Data inputted by &lt;chr&gt; | note: enter the date on which the closing occurred, e.g. as the last day of UK schools will be 2020-03-20, I entered 2020-03-21 &lt;chr&gt; | comments &lt;chr&gt; | Enter your github username below &lt;chr&gt; | startdate &lt;chr&gt; |\n",
       "|---|---|---|---|---|---|---|---|---|---|---|---|---|\n",
       "| Italy | 2020-03-05                                                                     | 2020-03-09 | 2020-03-09 | 2020-03-09                        | 2020-03-11 | 2020-03-09 | 2020-03-09 | Harrison  | NA        | NA         | NA | 2020-03-14 |\n",
       "| Italy | Lockdown of Lombardy region and 14 other provinces                             | NA         | 2020-03-08 | 26%                               | NA         | NA         | NA         | NA        | NA        | NA         | NA | 2020-03-13 |\n",
       "| Italy | self-isolate if ill and quarantine if tested positive                          | NA         | 2020-03-08 | extended to whole country on 9/03 | NA         | NA         | NA         | NA        | NA        | NA         | NA | 2020-03-13 |\n",
       "| Italy | Extended lockdown (non-essential shops + restaurants + caffee still open)      | NA         | 2020-03-09 | NA                                | NA         | NA         | NA         | NA        | NA        | NA         | NA | 2020-03-12 |\n",
       "| Italy | Extended lockdown + closure of non-essential shops                             | NA         | 2020-03-11 | NA                                | NA         | NA         | NA         | NA        | NA        | NA         | NA | 2020-03-14 |\n",
       "| Italy | Extended lockdown + further closure of non-essential businesses and activities | NA         | 2020-03-22 | NA                                | NA         | NA         | NA         | NA        | NA        | NA         | NA | 2020-03-16 |\n",
       "| Italy | 4.994.995                                                                      | NA         | 5.733.448  | 6.998.434                         | 9.022.004  | 9.567.192  | 7.484.862  | 6.028.908 | 4.528.549 | 54.358.392 | NA | 21/03/2020 |\n",
       "\n"
      ],
      "text/plain": [
       "  Country\n",
       "1 Italy  \n",
       "2 Italy  \n",
       "3 Italy  \n",
       "4 Italy  \n",
       "5 Italy  \n",
       "6 Italy  \n",
       "7 Italy  \n",
       "  schools_universities                                                          \n",
       "1 2020-03-05                                                                    \n",
       "2 Lockdown of Lombardy region and 14 other provinces                            \n",
       "3 self-isolate if ill and quarantine if tested positive                         \n",
       "4 Extended lockdown (non-essential shops + restaurants + caffee still open)     \n",
       "5 Extended lockdown + closure of non-essential shops                            \n",
       "6 Extended lockdown + further closure of non-essential businesses and activities\n",
       "7 4.994.995                                                                     \n",
       "  travel_restrictions public_events sport                            \n",
       "1 2020-03-09          2020-03-09    2020-03-09                       \n",
       "2 NA                  2020-03-08    26%                              \n",
       "3 NA                  2020-03-08    extended to whole country on 9/03\n",
       "4 NA                  2020-03-09    NA                               \n",
       "5 NA                  2020-03-11    NA                               \n",
       "6 NA                  2020-03-22    NA                               \n",
       "7 NA                  5.733.448     6.998.434                        \n",
       "  lockdown   social_distancing_encouraged self_isolating_if_ill\n",
       "1 2020-03-11 2020-03-09                   2020-03-09           \n",
       "2 NA         NA                           NA                   \n",
       "3 NA         NA                           NA                   \n",
       "4 NA         NA                           NA                   \n",
       "5 NA         NA                           NA                   \n",
       "6 NA         NA                           NA                   \n",
       "7 9.022.004  9.567.192                    7.484.862            \n",
       "  Data inputted by\n",
       "1 Harrison        \n",
       "2 NA              \n",
       "3 NA              \n",
       "4 NA              \n",
       "5 NA              \n",
       "6 NA              \n",
       "7 6.028.908       \n",
       "  note: enter the date on which the closing occurred, e.g. as the last day of UK schools will be 2020-03-20, I entered 2020-03-21\n",
       "1 NA                                                                                                                             \n",
       "2 NA                                                                                                                             \n",
       "3 NA                                                                                                                             \n",
       "4 NA                                                                                                                             \n",
       "5 NA                                                                                                                             \n",
       "6 NA                                                                                                                             \n",
       "7 4.528.549                                                                                                                      \n",
       "  comments   Enter your github username below startdate \n",
       "1 NA         NA                               2020-03-14\n",
       "2 NA         NA                               2020-03-13\n",
       "3 NA         NA                               2020-03-13\n",
       "4 NA         NA                               2020-03-12\n",
       "5 NA         NA                               2020-03-14\n",
       "6 NA         NA                               2020-03-16\n",
       "7 54.358.392 NA                               21/03/2020"
      ]
     },
     "metadata": {},
     "output_type": "display_data"
    }
   ],
   "source": [
    "interventions %>% \n",
    "            filter(Country == \"Italy\")"
   ]
  },
  {
   "cell_type": "markdown",
   "metadata": {},
   "source": [
    "## Restrictions by Countries"
   ]
  },
  {
   "cell_type": "code",
   "execution_count": 9,
   "metadata": {},
   "outputs": [],
   "source": [
    "germany <- c(\"NRW\",\"Bayern\", \"BW\", \"Niedersachsen\", \"Hessen\", \"RP\", \"Sachsen\",\n",
    "             \"Berlin\", \"SH\", \"Brandenburg\", \"Sachsen A\", \"Thueringen\", \"Hamburg\", \n",
    "             \"MeckPom\", \"Saarland\", \"Bremen 683\")\n",
    "extra_info <- c(\"Country\",\"Partial lockdowns\")\n",
    "\n",
    "restriction_dates <- interventions %>% \n",
    "                        select(1:8) %>%  \n",
    "                        pivot_longer(cols = 2:8, \n",
    "                                     names_to = \"restriction_type\", \n",
    "                                     values_to = \"restriction_date\") %>%\n",
    "                        filter(!is.na(Country), \n",
    "                               !(Country %in% c(extra_info, germany))) %>% \n",
    "                        filter(grepl(pattern = \"2020-\", x = restriction_date)) %>% \n",
    "                        mutate(restriction_date = as.Date(restriction_date))"
   ]
  },
  {
   "cell_type": "code",
   "execution_count": 10,
   "metadata": {},
   "outputs": [
    {
     "data": {
      "text/html": [
       "<style>\n",
       ".list-inline {list-style: none; margin:0; padding: 0}\n",
       ".list-inline>li {display: inline-block}\n",
       ".list-inline>li:not(:last-child)::after {content: \"\\00b7\"; padding: 0 .5ex}\n",
       "</style>\n",
       "<ol class=list-inline><li>104</li><li>3</li></ol>\n"
      ],
      "text/latex": [
       "\\begin{enumerate*}\n",
       "\\item 104\n",
       "\\item 3\n",
       "\\end{enumerate*}\n"
      ],
      "text/markdown": [
       "1. 104\n",
       "2. 3\n",
       "\n",
       "\n"
      ],
      "text/plain": [
       "[1] 104   3"
      ]
     },
     "metadata": {},
     "output_type": "display_data"
    },
    {
     "data": {
      "text/html": [
       "<table>\n",
       "<caption>A tibble: 12 × 3</caption>\n",
       "<thead>\n",
       "\t<tr><th scope=col>Country</th><th scope=col>restriction_type</th><th scope=col>restriction_date</th></tr>\n",
       "\t<tr><th scope=col>&lt;chr&gt;</th><th scope=col>&lt;chr&gt;</th><th scope=col>&lt;date&gt;</th></tr>\n",
       "</thead>\n",
       "<tbody>\n",
       "\t<tr><td>Italy</td><td>schools_universities        </td><td>2020-03-05</td></tr>\n",
       "\t<tr><td>Italy</td><td>travel_restrictions         </td><td>2020-03-09</td></tr>\n",
       "\t<tr><td>Italy</td><td>public_events               </td><td>2020-03-09</td></tr>\n",
       "\t<tr><td>Italy</td><td>sport                       </td><td>2020-03-09</td></tr>\n",
       "\t<tr><td>Italy</td><td>lockdown                    </td><td>2020-03-11</td></tr>\n",
       "\t<tr><td>Italy</td><td>social_distancing_encouraged</td><td>2020-03-09</td></tr>\n",
       "\t<tr><td>Italy</td><td>self_isolating_if_ill       </td><td>2020-03-09</td></tr>\n",
       "\t<tr><td>Italy</td><td>public_events               </td><td>2020-03-08</td></tr>\n",
       "\t<tr><td>Italy</td><td>public_events               </td><td>2020-03-08</td></tr>\n",
       "\t<tr><td>Italy</td><td>public_events               </td><td>2020-03-09</td></tr>\n",
       "\t<tr><td>Italy</td><td>public_events               </td><td>2020-03-11</td></tr>\n",
       "\t<tr><td>Italy</td><td>public_events               </td><td>2020-03-22</td></tr>\n",
       "</tbody>\n",
       "</table>\n"
      ],
      "text/latex": [
       "A tibble: 12 × 3\n",
       "\\begin{tabular}{lll}\n",
       " Country & restriction\\_type & restriction\\_date\\\\\n",
       " <chr> & <chr> & <date>\\\\\n",
       "\\hline\n",
       "\t Italy & schools\\_universities         & 2020-03-05\\\\\n",
       "\t Italy & travel\\_restrictions          & 2020-03-09\\\\\n",
       "\t Italy & public\\_events                & 2020-03-09\\\\\n",
       "\t Italy & sport                        & 2020-03-09\\\\\n",
       "\t Italy & lockdown                     & 2020-03-11\\\\\n",
       "\t Italy & social\\_distancing\\_encouraged & 2020-03-09\\\\\n",
       "\t Italy & self\\_isolating\\_if\\_ill        & 2020-03-09\\\\\n",
       "\t Italy & public\\_events                & 2020-03-08\\\\\n",
       "\t Italy & public\\_events                & 2020-03-08\\\\\n",
       "\t Italy & public\\_events                & 2020-03-09\\\\\n",
       "\t Italy & public\\_events                & 2020-03-11\\\\\n",
       "\t Italy & public\\_events                & 2020-03-22\\\\\n",
       "\\end{tabular}\n"
      ],
      "text/markdown": [
       "\n",
       "A tibble: 12 × 3\n",
       "\n",
       "| Country &lt;chr&gt; | restriction_type &lt;chr&gt; | restriction_date &lt;date&gt; |\n",
       "|---|---|---|\n",
       "| Italy | schools_universities         | 2020-03-05 |\n",
       "| Italy | travel_restrictions          | 2020-03-09 |\n",
       "| Italy | public_events                | 2020-03-09 |\n",
       "| Italy | sport                        | 2020-03-09 |\n",
       "| Italy | lockdown                     | 2020-03-11 |\n",
       "| Italy | social_distancing_encouraged | 2020-03-09 |\n",
       "| Italy | self_isolating_if_ill        | 2020-03-09 |\n",
       "| Italy | public_events                | 2020-03-08 |\n",
       "| Italy | public_events                | 2020-03-08 |\n",
       "| Italy | public_events                | 2020-03-09 |\n",
       "| Italy | public_events                | 2020-03-11 |\n",
       "| Italy | public_events                | 2020-03-22 |\n",
       "\n"
      ],
      "text/plain": [
       "   Country restriction_type             restriction_date\n",
       "1  Italy   schools_universities         2020-03-05      \n",
       "2  Italy   travel_restrictions          2020-03-09      \n",
       "3  Italy   public_events                2020-03-09      \n",
       "4  Italy   sport                        2020-03-09      \n",
       "5  Italy   lockdown                     2020-03-11      \n",
       "6  Italy   social_distancing_encouraged 2020-03-09      \n",
       "7  Italy   self_isolating_if_ill        2020-03-09      \n",
       "8  Italy   public_events                2020-03-08      \n",
       "9  Italy   public_events                2020-03-08      \n",
       "10 Italy   public_events                2020-03-09      \n",
       "11 Italy   public_events                2020-03-11      \n",
       "12 Italy   public_events                2020-03-22      "
      ]
     },
     "metadata": {},
     "output_type": "display_data"
    }
   ],
   "source": [
    "dim(restriction_dates)\n",
    "restriction_dates %>% filter(Country == \"Italy\")"
   ]
  },
  {
   "cell_type": "markdown",
   "metadata": {},
   "source": [
    "## Italy was the first european  country to have a lockdown "
   ]
  },
  {
   "cell_type": "code",
   "execution_count": 11,
   "metadata": {},
   "outputs": [
    {
     "data": {
      "text/html": [
       "<table>\n",
       "<caption>A tibble: 10 × 3</caption>\n",
       "<thead>\n",
       "\t<tr><th scope=col>Country</th><th scope=col>restriction_type</th><th scope=col>restriction_date</th></tr>\n",
       "\t<tr><th scope=col>&lt;chr&gt;</th><th scope=col>&lt;chr&gt;</th><th scope=col>&lt;date&gt;</th></tr>\n",
       "</thead>\n",
       "<tbody>\n",
       "\t<tr><td>Italy         </td><td>lockdown</td><td>2020-03-11</td></tr>\n",
       "\t<tr><td>Spain         </td><td>lockdown</td><td>2020-03-14</td></tr>\n",
       "\t<tr><td>Austria       </td><td>lockdown</td><td>2020-03-16</td></tr>\n",
       "\t<tr><td>France        </td><td>lockdown</td><td>2020-03-17</td></tr>\n",
       "\t<tr><td>Belgium       </td><td>lockdown</td><td>2020-03-18</td></tr>\n",
       "\t<tr><td>Denmark       </td><td>lockdown</td><td>2020-03-18</td></tr>\n",
       "\t<tr><td>Switzerland   </td><td>lockdown</td><td>2020-03-20</td></tr>\n",
       "\t<tr><td>Germany       </td><td>lockdown</td><td>2020-03-22</td></tr>\n",
       "\t<tr><td>Norway        </td><td>lockdown</td><td>2020-03-24</td></tr>\n",
       "\t<tr><td>United_Kingdom</td><td>lockdown</td><td>2020-03-24</td></tr>\n",
       "</tbody>\n",
       "</table>\n"
      ],
      "text/latex": [
       "A tibble: 10 × 3\n",
       "\\begin{tabular}{lll}\n",
       " Country & restriction\\_type & restriction\\_date\\\\\n",
       " <chr> & <chr> & <date>\\\\\n",
       "\\hline\n",
       "\t Italy          & lockdown & 2020-03-11\\\\\n",
       "\t Spain          & lockdown & 2020-03-14\\\\\n",
       "\t Austria        & lockdown & 2020-03-16\\\\\n",
       "\t France         & lockdown & 2020-03-17\\\\\n",
       "\t Belgium        & lockdown & 2020-03-18\\\\\n",
       "\t Denmark        & lockdown & 2020-03-18\\\\\n",
       "\t Switzerland    & lockdown & 2020-03-20\\\\\n",
       "\t Germany        & lockdown & 2020-03-22\\\\\n",
       "\t Norway         & lockdown & 2020-03-24\\\\\n",
       "\t United\\_Kingdom & lockdown & 2020-03-24\\\\\n",
       "\\end{tabular}\n"
      ],
      "text/markdown": [
       "\n",
       "A tibble: 10 × 3\n",
       "\n",
       "| Country &lt;chr&gt; | restriction_type &lt;chr&gt; | restriction_date &lt;date&gt; |\n",
       "|---|---|---|\n",
       "| Italy          | lockdown | 2020-03-11 |\n",
       "| Spain          | lockdown | 2020-03-14 |\n",
       "| Austria        | lockdown | 2020-03-16 |\n",
       "| France         | lockdown | 2020-03-17 |\n",
       "| Belgium        | lockdown | 2020-03-18 |\n",
       "| Denmark        | lockdown | 2020-03-18 |\n",
       "| Switzerland    | lockdown | 2020-03-20 |\n",
       "| Germany        | lockdown | 2020-03-22 |\n",
       "| Norway         | lockdown | 2020-03-24 |\n",
       "| United_Kingdom | lockdown | 2020-03-24 |\n",
       "\n"
      ],
      "text/plain": [
       "   Country        restriction_type restriction_date\n",
       "1  Italy          lockdown         2020-03-11      \n",
       "2  Spain          lockdown         2020-03-14      \n",
       "3  Austria        lockdown         2020-03-16      \n",
       "4  France         lockdown         2020-03-17      \n",
       "5  Belgium        lockdown         2020-03-18      \n",
       "6  Denmark        lockdown         2020-03-18      \n",
       "7  Switzerland    lockdown         2020-03-20      \n",
       "8  Germany        lockdown         2020-03-22      \n",
       "9  Norway         lockdown         2020-03-24      \n",
       "10 United_Kingdom lockdown         2020-03-24      "
      ]
     },
     "metadata": {},
     "output_type": "display_data"
    }
   ],
   "source": [
    "restriction_dates %>% \n",
    "        filter(restriction_type == \"lockdown\") %>% \n",
    "        arrange(restriction_date)                                                 "
   ]
  },
  {
   "cell_type": "code",
   "execution_count": 12,
   "metadata": {},
   "outputs": [
    {
     "data": {
      "image/png": "[encoded data removed]",
      "text/plain": [
       "plot without title"
      ]
     },
     "metadata": {
      "image/png": {
       "height": 420,
       "width": 420
      }
     },
     "output_type": "display_data"
    }
   ],
   "source": [
    "COVID_19_processed %>% \n",
    "    inner_join(restriction_dates %>% filter(restriction_type == \"lockdown\"), \n",
    "               by = \"Country\") %>%\n",
    "    ggplot() +\n",
    "        geom_line(aes(date, total_cases/population)) +\n",
    "        geom_line(aes(date, new_cases/population), color = \"red\") +\n",
    "        geom_vline(aes(xintercept = restriction_date), lty = 2) +\n",
    "        facet_wrap(~Country) +\n",
    "        scale_y_continuous(labels = scales::percent_format()) +\n",
    "        labs(x = \"Date\", \n",
    "             y = \"Percent of total and new cases\", \n",
    "             title = \"Total and new cases over time\", \n",
    "             subtitle = \"Dashed line: Lockdown date\")"
   ]
  },
  {
   "cell_type": "code",
   "execution_count": 13,
   "metadata": {},
   "outputs": [
    {
     "data": {
      "image/png": "[encoded data removed]",
      "text/plain": [
       "plot without title"
      ]
     },
     "metadata": {
      "image/png": {
       "height": 420,
       "width": 420
      }
     },
     "output_type": "display_data"
    }
   ],
   "source": [
    "COVID_19_processed %>% \n",
    "    inner_join(restriction_dates %>% filter(restriction_type == \"lockdown\"), \n",
    "               by = \"Country\") %>%\n",
    "    ggplot() +\n",
    "        geom_line(aes(date, total_deaths/population)) +\n",
    "        geom_line(aes(date, new_deaths/population), color = \"red\") +\n",
    "        geom_vline(aes(xintercept = restriction_date), lty = 2) +\n",
    "        facet_wrap(~Country) +\n",
    "        scale_y_continuous(labels = scales::percent_format()) +\n",
    "        labs(x = \"Date\", \n",
    "             y = \"Percent of total and new deaths\", \n",
    "             title = \"Total and new deaths over time\", \n",
    "             subtitle = \"Dashed line: Lockdown date\")"
   ]
  },
  {
   "cell_type": "code",
   "execution_count": 14,
   "metadata": {},
   "outputs": [
    {
     "data": {
      "image/png": "[encoded data removed]",
      "text/plain": [
       "plot without title"
      ]
     },
     "metadata": {
      "image/png": {
       "height": 420,
       "width": 420
      }
     },
     "output_type": "display_data"
    }
   ],
   "source": [
    "COVID_19_processed %>% \n",
    "    mutate(percent_cases = new_cases/population, \n",
    "           percent_deaths = new_deaths/population) %>% \n",
    "    inner_join(restriction_dates %>% filter(restriction_type == \"lockdown\"), \n",
    "               by = \"Country\") %>%\n",
    "    filter(date > as.Date(\"2020-02-20\")) %>% \n",
    "    ggplot() +\n",
    "        geom_line(aes(date, percent_deaths, color = Country), size = 1.2, alpha = 0.5) +\n",
    "        scale_y_continuous(labels = scales::percent_format()) +\n",
    "        labs(title = \"Deaths by country\", \n",
    "             x = \"Date\", y = \"Percentage of deaths\")"
   ]
  },
  {
   "cell_type": "markdown",
   "metadata": {},
   "source": [
    "### Cummulative Cases and Deaths"
   ]
  },
  {
   "cell_type": "code",
   "execution_count": 15,
   "metadata": {
    "scrolled": false
   },
   "outputs": [
    {
     "data": {
      "image/png": "[encoded data removed]",
      "text/plain": [
       "plot without title"
      ]
     },
     "metadata": {
      "image/png": {
       "height": 420,
       "width": 420
      }
     },
     "output_type": "display_data"
    }
   ],
   "source": [
    "restriction_dates %>%\n",
    "    inner_join(COVID_19_processed, by = c(\"Country\", restriction_date = \"date\")) %>% \n",
    "    filter(restriction_date > as.Date(\"2020-02-20\")) %>% \n",
    "    ggplot(aes(x = restriction_date, \n",
    "               y = total_cases, \n",
    "               color = restriction_type, \n",
    "               size = new_cases)) +\n",
    "        geom_point() +\n",
    "        geom_vline(aes(xintercept = restriction_date), \n",
    "                   data = restriction_dates %>% \n",
    "                               filter(restriction_type == \"lockdown\")) +\n",
    "        facet_wrap(~Country) +\n",
    "        labs(title = \"Types of restrictions and number of cases\", \n",
    "             subtitle = \"Vertical line: Lockdown date\",\n",
    "             x = \"Restrictions dates\", y = \"Cummulative Number of cases\")"
   ]
  },
  {
   "cell_type": "markdown",
   "metadata": {},
   "source": [
    "## Cases maps"
   ]
  },
  {
   "cell_type": "code",
   "execution_count": 16,
   "metadata": {},
   "outputs": [],
   "source": [
    "world <- map_data('world') %>% filter(region != 'Antarctica')\n",
    "\n",
    "COVID_maps <- \n",
    "    COVID_19_processed %>%\n",
    "            group_by(Country, date = floor_date(date, \"week\")) %>% \n",
    "            summarise(code = unique(code), \n",
    "                      total_cases = max(total_cases), \n",
    "                      population = max(population)) %>% \n",
    "            left_join(world, by = c(Country = 'region')) %>% \n",
    "            ungroup() %>% \n",
    "            filter(total_cases > 50)"
   ]
  },
  {
   "cell_type": "code",
   "execution_count": 17,
   "metadata": {},
   "outputs": [],
   "source": [
    "#COVID_maps %>% filter(Country == \"Afghanistan\", date == \"2020-03-01\") %>% dim()\n",
    "#world %>% filter(region == \"Afghanistan\") %>% dim()\n",
    "#COVID_maps %>% distinct(date) %>% dim()"
   ]
  },
  {
   "cell_type": "code",
   "execution_count": 18,
   "metadata": {},
   "outputs": [
    {
     "data": {
      "image/png": "[encoded data removed]",
      "text/plain": [
       "plot without title"
      ]
     },
     "metadata": {
      "image/png": {
       "height": 420,
       "width": 420
      }
     },
     "output_type": "display_data"
    }
   ],
   "source": [
    "world_cases_week <- \n",
    "    ggplot(COVID_maps, aes(long, lat, group = group, fill = log(total_cases, base = 10))) + \n",
    "        geom_polygon() +\n",
    "        scale_fill_gradient2(low = '#fee8c8', mid = \"#fdbb84\",high = '#e34a33', midpoint = 2) +\n",
    "        facet_wrap(~date) +\n",
    "        coord_quickmap() +\n",
    "        labs(fill = \"log(cases)\", \n",
    "             title = \"Total Registered Cases per week\") +\n",
    "        theme_void()\n",
    "\n",
    "world_cases_week"
   ]
  },
  {
   "cell_type": "code",
   "execution_count": 19,
   "metadata": {},
   "outputs": [
    {
     "name": "stderr",
     "output_type": "stream",
     "text": [
      "Saving 6.67 x 6.67 in image\n",
      "\n"
     ]
    }
   ],
   "source": [
    "ggsave(filename=\"world_cases_week.png\", \n",
    "       plot=world_cases_week, \n",
    "       device=\"png\", \n",
    "       dpi=500)"
   ]
  },
  {
   "cell_type": "markdown",
   "metadata": {},
   "source": [
    "# Rolling averages and days since"
   ]
  },
  {
   "cell_type": "code",
   "execution_count": 106,
   "metadata": {},
   "outputs": [
    {
     "data": {
      "image/png": "[encoded data removed]",
      "text/plain": [
       "plot without title"
      ]
     },
     "metadata": {
      "image/png": {
       "height": 420,
       "width": 420
      }
     },
     "output_type": "display_data"
    }
   ],
   "source": [
    "random_countries <- sample(unique(COVID_19_processed$Country), 6)\n",
    "\n",
    "COVID_19_processed %>% \n",
    "        filter(Country %in% random_countries) %>% \n",
    "        ggplot(aes(date, total_cases + 1, color = Country)) +\n",
    "            geom_line(size = 1.4) +\n",
    "            scale_y_log10()"
   ]
  },
  {
   "cell_type": "code",
   "execution_count": 108,
   "metadata": {},
   "outputs": [
    {
     "data": {
      "image/png": "[encoded data removed]",
      "text/plain": [
       "plot without title"
      ]
     },
     "metadata": {
      "image/png": {
       "height": 420,
       "width": 420
      }
     },
     "output_type": "display_data"
    }
   ],
   "source": [
    "COVID_19_processed %>% \n",
    "        group_by(Country) %>% \n",
    "        mutate(day = 1:89,\n",
    "               cases_per_million = 1e6*total_cases/population) %>%   \n",
    "        mutate(rolling_mean = RcppRoll::roll_mean(x = new_cases, 7, fill = NA))  %>%\n",
    "        filter(cases_per_million > 0.1, \n",
    "               !is.na(rolling_mean), \n",
    "               Country %in% random_countries) %>% \n",
    "        mutate(days_since = day - min(day)) %>% \n",
    "        select(Country, \n",
    "               rolling_mean, \n",
    "               day, \n",
    "               days_since)  %>% \n",
    "        ggplot(aes(days_since, rolling_mean + 1, color = Country)) + \n",
    "            geom_line(size = 1.4) +\n",
    "            scale_y_log10() +\n",
    "            labs(x = \"Days since cases/million > 0.1\", \n",
    "                 y = \"Moving 1 week average new cases\")\n"
   ]
  },
  {
   "cell_type": "code",
   "execution_count": null,
   "metadata": {},
   "outputs": [],
   "source": []
  }
 ],
 "metadata": {
  "kernelspec": {
   "display_name": "R",
   "language": "R",
   "name": "ir"
  },
  "language_info": {
   "codemirror_mode": "r",
   "file_extension": ".r",
   "mimetype": "text/x-r-source",
   "name": "R",
   "pygments_lexer": "r",
   "version": "3.6.3"
  }
 },
 "nbformat": 4,
 "nbformat_minor": 4
}
