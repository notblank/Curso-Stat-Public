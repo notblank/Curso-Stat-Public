{
 "cells": [
  {
   "cell_type": "markdown",
   "metadata": {},
   "source": [
    "# Inferencia estadística\n",
    "\n",
    "conclusiones basadas en datos provenientes de un muestreo aleatorio.\n",
    "\n",
    "    Quién va a ser presidente? \n",
    "\n",
    "    Quién escribió estos libros? \n",
    "\n",
    "Preguntas se reducen a la estimación de un número: el % de votantes. \n",
    "\n",
    "Estimación de un valor desconocido. Dos cosas diferentes: \n",
    "\n",
    "            La estimación y \n",
    "               \n",
    "            el valor real. \n",
    "            \n",
    "\n",
    "El valor real es fijo. La estimación depende del muestreo! Hay que tomar en cuenta los otros posibles resultados del muestreo y para eso usamos estadística. \n",
    "\n",
    "Hay que asumir cosas.\n",
    "\n",
    "Estimar cantidad de buses en Quito para saber si necesitamos mas:\n",
    "\n",
    "Tienen un número! \n",
    "    \n",
    "    Supongamos que es un número serial: 1,2,...,N.\n",
    "    No conocemos N.\n",
    "    Queremos estiamar N usando los buses que vemos en la calle. \n",
    "    \n",
    "    Vamos a asumir que los números que vemos en los buses son una muestra uniforme aleatoria de 1,2,...,N.\n",
    "    \n",
    "\n",
    "## Dos preguntas: \n",
    "\n",
    "Si vemos 25 15 178 190 205 255, cómo estimar N? \n",
    "\n",
    "Podemos usar el max!\n",
    "\n",
    "Pero qué tan cerca está el max? Y qué tan probable es ese número de buses?\n",
    "\n",
    "\n",
    "### Opción 1:\n",
    "\n",
    "Calcular las probas y dibujar un histograma. \n",
    "\n",
    "### Opción 2:\n",
    "\n",
    "Simular y dibujar el histograma empírico.\n",
    "\n",
    "\n",
    "El histograma empírico se va a parecer al histograma real si hacemos una simulación grande. "
   ]
  },
  {
   "cell_type": "code",
   "execution_count": 1,
   "metadata": {},
   "outputs": [],
   "source": [
    "library(ggplot2)\n",
    "\n",
    "Nbuses = 500\n",
    "\n",
    "rep = 10000\n",
    "maxSerial <- {}\n",
    "\n",
    "for(i in 1:rep){\n",
    "    numSerie <- sample(x = 1:Nbuses, size = 30, replace = TRUE)\n",
    "    maxSerial[i] <- max(numSerie)\n",
    "}\n",
    "\n",
    "maxSerial <- data.frame(max = maxSerial)\n",
    "#maxSerial"
   ]
  },
  {
   "cell_type": "code",
   "execution_count": 33,
   "metadata": {},
   "outputs": [
    {
     "name": "stderr",
     "output_type": "stream",
     "text": [
      "`stat_bin()` using `bins = 30`. Pick better value with `binwidth`.\n"
     ]
    },
    {
     "data": {},
     "metadata": {},
     "output_type": "display_data"
    },
    {
     "data": {
      "image/png": "[encoded data removed]",
      "text/plain": [
       "plot without title"
      ]
     },
     "metadata": {},
     "output_type": "display_data"
    }
   ],
   "source": [
    "ggplot(maxSerial, aes(x=max)) + geom_histogram()\n",
    "\n",
    "# errores solo  pueden ser menores que el max!\n",
    "# además el histograma estó concentrado cerca del max. "
   ]
  },
  {
   "cell_type": "markdown",
   "metadata": {},
   "source": [
    "## Otra forma: usar el promedio y multiplicar por 2! Es mas fácil de manipular matemáticamente. \n",
    "\n",
    "Este puede sobreestimar. "
   ]
  },
  {
   "cell_type": "code",
   "execution_count": 4,
   "metadata": {
    "scrolled": true
   },
   "outputs": [
    {
     "data": {
      "text/html": [
       "<table>\n",
       "<thead><tr><th scope=col>mean</th></tr></thead>\n",
       "<tbody>\n",
       "\t<tr><td>440.3333</td></tr>\n",
       "\t<tr><td>474.1333</td></tr>\n",
       "\t<tr><td>512.8000</td></tr>\n",
       "\t<tr><td>468.4667</td></tr>\n",
       "\t<tr><td>572.8000</td></tr>\n",
       "\t<tr><td>430.2000</td></tr>\n",
       "\t<tr><td>477.9333</td></tr>\n",
       "\t<tr><td>558.2667</td></tr>\n",
       "\t<tr><td>480.2000</td></tr>\n",
       "\t<tr><td>533.8667</td></tr>\n",
       "\t<tr><td>439.0667</td></tr>\n",
       "\t<tr><td>552.8000</td></tr>\n",
       "\t<tr><td>596.6667</td></tr>\n",
       "\t<tr><td>537.8000</td></tr>\n",
       "\t<tr><td>456.2667</td></tr>\n",
       "\t<tr><td>547.4667</td></tr>\n",
       "\t<tr><td>368.6000</td></tr>\n",
       "\t<tr><td>632.3333</td></tr>\n",
       "\t<tr><td>534.9333</td></tr>\n",
       "\t<tr><td>584.2000</td></tr>\n",
       "\t<tr><td>496.0000</td></tr>\n",
       "\t<tr><td>472.4000</td></tr>\n",
       "\t<tr><td>435.2000</td></tr>\n",
       "\t<tr><td>490.8667</td></tr>\n",
       "\t<tr><td>479.6667</td></tr>\n",
       "\t<tr><td>516.4000</td></tr>\n",
       "\t<tr><td>489.5333</td></tr>\n",
       "\t<tr><td>505.5333</td></tr>\n",
       "\t<tr><td>462.5333</td></tr>\n",
       "\t<tr><td>434.0000</td></tr>\n",
       "\t<tr><td>...</td></tr>\n",
       "\t<tr><td>509.7333</td></tr>\n",
       "\t<tr><td>579.2000</td></tr>\n",
       "\t<tr><td>571.9333</td></tr>\n",
       "\t<tr><td>545.2667</td></tr>\n",
       "\t<tr><td>468.2667</td></tr>\n",
       "\t<tr><td>469.3333</td></tr>\n",
       "\t<tr><td>444.8000</td></tr>\n",
       "\t<tr><td>438.4667</td></tr>\n",
       "\t<tr><td>491.2000</td></tr>\n",
       "\t<tr><td>543.7333</td></tr>\n",
       "\t<tr><td>430.8000</td></tr>\n",
       "\t<tr><td>536.7333</td></tr>\n",
       "\t<tr><td>453.1333</td></tr>\n",
       "\t<tr><td>518.4667</td></tr>\n",
       "\t<tr><td>442.0667</td></tr>\n",
       "\t<tr><td>494.8000</td></tr>\n",
       "\t<tr><td>464.6667</td></tr>\n",
       "\t<tr><td>464.3333</td></tr>\n",
       "\t<tr><td>483.2667</td></tr>\n",
       "\t<tr><td>523.5333</td></tr>\n",
       "\t<tr><td>473.7333</td></tr>\n",
       "\t<tr><td>509.8667</td></tr>\n",
       "\t<tr><td>536.5333</td></tr>\n",
       "\t<tr><td>532.8000</td></tr>\n",
       "\t<tr><td>571.4667</td></tr>\n",
       "\t<tr><td>460.9333</td></tr>\n",
       "\t<tr><td>606.0667</td></tr>\n",
       "\t<tr><td>442.2000</td></tr>\n",
       "\t<tr><td>547.3333</td></tr>\n",
       "\t<tr><td>455.4000</td></tr>\n",
       "</tbody>\n",
       "</table>\n"
      ],
      "text/latex": [
       "\\begin{tabular}{r|l}\n",
       " mean\\\\\n",
       "\\hline\n",
       "\t 440.3333\\\\\n",
       "\t 474.1333\\\\\n",
       "\t 512.8000\\\\\n",
       "\t 468.4667\\\\\n",
       "\t 572.8000\\\\\n",
       "\t 430.2000\\\\\n",
       "\t 477.9333\\\\\n",
       "\t 558.2667\\\\\n",
       "\t 480.2000\\\\\n",
       "\t 533.8667\\\\\n",
       "\t 439.0667\\\\\n",
       "\t 552.8000\\\\\n",
       "\t 596.6667\\\\\n",
       "\t 537.8000\\\\\n",
       "\t 456.2667\\\\\n",
       "\t 547.4667\\\\\n",
       "\t 368.6000\\\\\n",
       "\t 632.3333\\\\\n",
       "\t 534.9333\\\\\n",
       "\t 584.2000\\\\\n",
       "\t 496.0000\\\\\n",
       "\t 472.4000\\\\\n",
       "\t 435.2000\\\\\n",
       "\t 490.8667\\\\\n",
       "\t 479.6667\\\\\n",
       "\t 516.4000\\\\\n",
       "\t 489.5333\\\\\n",
       "\t 505.5333\\\\\n",
       "\t 462.5333\\\\\n",
       "\t 434.0000\\\\\n",
       "\t ...\\\\\n",
       "\t 509.7333\\\\\n",
       "\t 579.2000\\\\\n",
       "\t 571.9333\\\\\n",
       "\t 545.2667\\\\\n",
       "\t 468.2667\\\\\n",
       "\t 469.3333\\\\\n",
       "\t 444.8000\\\\\n",
       "\t 438.4667\\\\\n",
       "\t 491.2000\\\\\n",
       "\t 543.7333\\\\\n",
       "\t 430.8000\\\\\n",
       "\t 536.7333\\\\\n",
       "\t 453.1333\\\\\n",
       "\t 518.4667\\\\\n",
       "\t 442.0667\\\\\n",
       "\t 494.8000\\\\\n",
       "\t 464.6667\\\\\n",
       "\t 464.3333\\\\\n",
       "\t 483.2667\\\\\n",
       "\t 523.5333\\\\\n",
       "\t 473.7333\\\\\n",
       "\t 509.8667\\\\\n",
       "\t 536.5333\\\\\n",
       "\t 532.8000\\\\\n",
       "\t 571.4667\\\\\n",
       "\t 460.9333\\\\\n",
       "\t 606.0667\\\\\n",
       "\t 442.2000\\\\\n",
       "\t 547.3333\\\\\n",
       "\t 455.4000\\\\\n",
       "\\end{tabular}\n"
      ],
      "text/markdown": [
       "\n",
       "mean | \n",
       "|---|---|---|---|---|---|---|---|---|---|---|---|---|---|---|---|---|---|---|---|---|---|---|---|---|---|---|---|---|---|---|---|---|---|---|---|---|---|---|---|---|---|---|---|---|---|---|---|---|---|---|---|---|---|---|---|---|---|---|---|---|\n",
       "| 440.3333 | \n",
       "| 474.1333 | \n",
       "| 512.8000 | \n",
       "| 468.4667 | \n",
       "| 572.8000 | \n",
       "| 430.2000 | \n",
       "| 477.9333 | \n",
       "| 558.2667 | \n",
       "| 480.2000 | \n",
       "| 533.8667 | \n",
       "| 439.0667 | \n",
       "| 552.8000 | \n",
       "| 596.6667 | \n",
       "| 537.8000 | \n",
       "| 456.2667 | \n",
       "| 547.4667 | \n",
       "| 368.6000 | \n",
       "| 632.3333 | \n",
       "| 534.9333 | \n",
       "| 584.2000 | \n",
       "| 496.0000 | \n",
       "| 472.4000 | \n",
       "| 435.2000 | \n",
       "| 490.8667 | \n",
       "| 479.6667 | \n",
       "| 516.4000 | \n",
       "| 489.5333 | \n",
       "| 505.5333 | \n",
       "| 462.5333 | \n",
       "| 434.0000 | \n",
       "| ... | \n",
       "| 509.7333 | \n",
       "| 579.2000 | \n",
       "| 571.9333 | \n",
       "| 545.2667 | \n",
       "| 468.2667 | \n",
       "| 469.3333 | \n",
       "| 444.8000 | \n",
       "| 438.4667 | \n",
       "| 491.2000 | \n",
       "| 543.7333 | \n",
       "| 430.8000 | \n",
       "| 536.7333 | \n",
       "| 453.1333 | \n",
       "| 518.4667 | \n",
       "| 442.0667 | \n",
       "| 494.8000 | \n",
       "| 464.6667 | \n",
       "| 464.3333 | \n",
       "| 483.2667 | \n",
       "| 523.5333 | \n",
       "| 473.7333 | \n",
       "| 509.8667 | \n",
       "| 536.5333 | \n",
       "| 532.8000 | \n",
       "| 571.4667 | \n",
       "| 460.9333 | \n",
       "| 606.0667 | \n",
       "| 442.2000 | \n",
       "| 547.3333 | \n",
       "| 455.4000 | \n",
       "\n",
       "\n"
      ],
      "text/plain": [
       "      mean    \n",
       "1     440.3333\n",
       "2     474.1333\n",
       "3     512.8000\n",
       "4     468.4667\n",
       "5     572.8000\n",
       "6     430.2000\n",
       "7     477.9333\n",
       "8     558.2667\n",
       "9     480.2000\n",
       "10    533.8667\n",
       "11    439.0667\n",
       "12    552.8000\n",
       "13    596.6667\n",
       "14    537.8000\n",
       "15    456.2667\n",
       "16    547.4667\n",
       "17    368.6000\n",
       "18    632.3333\n",
       "19    534.9333\n",
       "20    584.2000\n",
       "21    496.0000\n",
       "22    472.4000\n",
       "23    435.2000\n",
       "24    490.8667\n",
       "25    479.6667\n",
       "26    516.4000\n",
       "27    489.5333\n",
       "28    505.5333\n",
       "29    462.5333\n",
       "30    434.0000\n",
       "...   ...     \n",
       "9971  509.7333\n",
       "9972  579.2000\n",
       "9973  571.9333\n",
       "9974  545.2667\n",
       "9975  468.2667\n",
       "9976  469.3333\n",
       "9977  444.8000\n",
       "9978  438.4667\n",
       "9979  491.2000\n",
       "9980  543.7333\n",
       "9981  430.8000\n",
       "9982  536.7333\n",
       "9983  453.1333\n",
       "9984  518.4667\n",
       "9985  442.0667\n",
       "9986  494.8000\n",
       "9987  464.6667\n",
       "9988  464.3333\n",
       "9989  483.2667\n",
       "9990  523.5333\n",
       "9991  473.7333\n",
       "9992  509.8667\n",
       "9993  536.5333\n",
       "9994  532.8000\n",
       "9995  571.4667\n",
       "9996  460.9333\n",
       "9997  606.0667\n",
       "9998  442.2000\n",
       "9999  547.3333\n",
       "10000 455.4000"
      ]
     },
     "metadata": {},
     "output_type": "display_data"
    }
   ],
   "source": [
    "N <- 500\n",
    "rep <- 10000\n",
    "\n",
    "meanSerial <- vector()\n",
    "\n",
    "for(i in 1:rep){\n",
    "    numSerie <- sample(x = 1:N, size = 30, replace = TRUE)\n",
    "    meanSerial[i] <- mean(numSerie)\n",
    "}\n",
    "\n",
    "\n",
    "meanSerial <- data.frame(mean = 2*meanSerial)\n",
    "meanSerial"
   ]
  },
  {
   "cell_type": "code",
   "execution_count": 5,
   "metadata": {},
   "outputs": [
    {
     "name": "stderr",
     "output_type": "stream",
     "text": [
      "`stat_bin()` using `bins = 30`. Pick better value with `binwidth`.\n"
     ]
    },
    {
     "data": {},
     "metadata": {},
     "output_type": "display_data"
    },
    {
     "data": {
      "image/png": "[encoded data removed]",
      "text/plain": [
       "plot without title"
      ]
     },
     "metadata": {},
     "output_type": "display_data"
    }
   ],
   "source": [
    "ggplot(meanSerial, aes(x=mean)) + geom_histogram()"
   ]
  },
  {
   "cell_type": "code",
   "execution_count": 12,
   "metadata": {},
   "outputs": [
    {
     "data": {
      "text/html": [
       "<table>\n",
       "<thead><tr><th scope=col>mean</th></tr></thead>\n",
       "<tbody>\n",
       "\t<tr><td>440.3333</td></tr>\n",
       "\t<tr><td>474.1333</td></tr>\n",
       "\t<tr><td>512.8000</td></tr>\n",
       "\t<tr><td>468.4667</td></tr>\n",
       "\t<tr><td>572.8000</td></tr>\n",
       "\t<tr><td>430.2000</td></tr>\n",
       "</tbody>\n",
       "</table>\n"
      ],
      "text/latex": [
       "\\begin{tabular}{r|l}\n",
       " mean\\\\\n",
       "\\hline\n",
       "\t 440.3333\\\\\n",
       "\t 474.1333\\\\\n",
       "\t 512.8000\\\\\n",
       "\t 468.4667\\\\\n",
       "\t 572.8000\\\\\n",
       "\t 430.2000\\\\\n",
       "\\end{tabular}\n"
      ],
      "text/markdown": [
       "\n",
       "mean | \n",
       "|---|---|---|---|---|---|\n",
       "| 440.3333 | \n",
       "| 474.1333 | \n",
       "| 512.8000 | \n",
       "| 468.4667 | \n",
       "| 572.8000 | \n",
       "| 430.2000 | \n",
       "\n",
       "\n"
      ],
      "text/plain": [
       "  mean    \n",
       "1 440.3333\n",
       "2 474.1333\n",
       "3 512.8000\n",
       "4 468.4667\n",
       "5 572.8000\n",
       "6 430.2000"
      ]
     },
     "metadata": {},
     "output_type": "display_data"
    },
    {
     "data": {
      "text/html": [
       "<table>\n",
       "<thead><tr><th scope=col>max</th></tr></thead>\n",
       "<tbody>\n",
       "\t<tr><td>474</td></tr>\n",
       "\t<tr><td>500</td></tr>\n",
       "\t<tr><td>500</td></tr>\n",
       "\t<tr><td>496</td></tr>\n",
       "\t<tr><td>497</td></tr>\n",
       "\t<tr><td>490</td></tr>\n",
       "</tbody>\n",
       "</table>\n"
      ],
      "text/latex": [
       "\\begin{tabular}{r|l}\n",
       " max\\\\\n",
       "\\hline\n",
       "\t 474\\\\\n",
       "\t 500\\\\\n",
       "\t 500\\\\\n",
       "\t 496\\\\\n",
       "\t 497\\\\\n",
       "\t 490\\\\\n",
       "\\end{tabular}\n"
      ],
      "text/markdown": [
       "\n",
       "max | \n",
       "|---|---|---|---|---|---|\n",
       "| 474 | \n",
       "| 500 | \n",
       "| 500 | \n",
       "| 496 | \n",
       "| 497 | \n",
       "| 490 | \n",
       "\n",
       "\n"
      ],
      "text/plain": [
       "  max\n",
       "1 474\n",
       "2 500\n",
       "3 500\n",
       "4 496\n",
       "5 497\n",
       "6 490"
      ]
     },
     "metadata": {},
     "output_type": "display_data"
    },
    {
     "data": {
      "text/html": [
       "<table>\n",
       "<thead><tr><th scope=col>mean</th><th scope=col>max</th></tr></thead>\n",
       "<tbody>\n",
       "\t<tr><td>440.3333</td><td>474     </td></tr>\n",
       "\t<tr><td>474.1333</td><td>500     </td></tr>\n",
       "\t<tr><td>512.8000</td><td>500     </td></tr>\n",
       "\t<tr><td>468.4667</td><td>496     </td></tr>\n",
       "\t<tr><td>572.8000</td><td>497     </td></tr>\n",
       "\t<tr><td>430.2000</td><td>490     </td></tr>\n",
       "</tbody>\n",
       "</table>\n"
      ],
      "text/latex": [
       "\\begin{tabular}{r|ll}\n",
       " mean & max\\\\\n",
       "\\hline\n",
       "\t 440.3333 & 474     \\\\\n",
       "\t 474.1333 & 500     \\\\\n",
       "\t 512.8000 & 500     \\\\\n",
       "\t 468.4667 & 496     \\\\\n",
       "\t 572.8000 & 497     \\\\\n",
       "\t 430.2000 & 490     \\\\\n",
       "\\end{tabular}\n"
      ],
      "text/markdown": [
       "\n",
       "mean | max | \n",
       "|---|---|---|---|---|---|\n",
       "| 440.3333 | 474      | \n",
       "| 474.1333 | 500      | \n",
       "| 512.8000 | 500      | \n",
       "| 468.4667 | 496      | \n",
       "| 572.8000 | 497      | \n",
       "| 430.2000 | 490      | \n",
       "\n",
       "\n"
      ],
      "text/plain": [
       "  mean     max\n",
       "1 440.3333 474\n",
       "2 474.1333 500\n",
       "3 512.8000 500\n",
       "4 468.4667 496\n",
       "5 572.8000 497\n",
       "6 430.2000 490"
      ]
     },
     "metadata": {},
     "output_type": "display_data"
    }
   ],
   "source": [
    "head(meanSerial)\n",
    "head(maxSerial)\n",
    "\n",
    "Buses <- data.frame(mean = meanSerial$mean, max = maxSerial$max)\n",
    "head(Buses)"
   ]
  },
  {
   "cell_type": "code",
   "execution_count": 14,
   "metadata": {},
   "outputs": [
    {
     "name": "stderr",
     "output_type": "stream",
     "text": [
      "`stat_bin()` using `bins = 30`. Pick better value with `binwidth`.\n",
      "`stat_bin()` using `bins = 30`. Pick better value with `binwidth`.\n"
     ]
    },
    {
     "data": {},
     "metadata": {},
     "output_type": "display_data"
    },
    {
     "data": {
      "image/png": "[encoded data removed]",
      "text/plain": [
       "plot without title"
      ]
     },
     "metadata": {},
     "output_type": "display_data"
    }
   ],
   "source": [
    "ggplot(Buses) + geom_histogram(aes(x=max), fill=\"red\", alpha=0.2) +\n",
    "                geom_histogram(aes(x=mean), fill=\"blue\", alpha=0.2)"
   ]
  },
  {
   "cell_type": "markdown",
   "metadata": {},
   "source": [
    "# Cómo podemos ver el bias?\n",
    "\n",
    "La mitad! Es lo que queremos estimar. En promedio el azul es mejor: no tiene bias.  \n",
    "\n",
    "# Cómo podemos ver la variabilidad?\n",
    "\n",
    "Qué tanto ancho es el histograma? El rojo es mejor. Ademas es mas alto: Está mas concentrado alrededor de N=500.\n",
    "\n",
    "\n",
    "# Trade-off Variabilidad y Bias\n",
    "\n",
    "low bias high variability and vice-versa. \n",
    "\n",
    "Cuál usar? Depende de lo que les interese. En este caso el azul tiene bias pequeño: Tenemos una estimación mas cercana a la realidad. Pero si el problema son los recursos tal vez es mejor no sobreestimar el número de buses. \n"
   ]
  },
  {
   "cell_type": "markdown",
   "metadata": {},
   "source": [
    "# Promedio"
   ]
  },
  {
   "cell_type": "code",
   "execution_count": 2,
   "metadata": {},
   "outputs": [
    {
     "data": {
      "text/html": [
       "4"
      ],
      "text/latex": [
       "4"
      ],
      "text/markdown": [
       "4"
      ],
      "text/plain": [
       "[1] 4"
      ]
     },
     "metadata": {},
     "output_type": "display_data"
    },
    {
     "data": {
      "text/html": [
       "4"
      ],
      "text/latex": [
       "4"
      ],
      "text/markdown": [
       "4"
      ],
      "text/plain": [
       "[1] 4"
      ]
     },
     "metadata": {},
     "output_type": "display_data"
    }
   ],
   "source": [
    "plata <- c(3, 3, 4, 4, 4, 4, 5, 5)\n",
    "\n",
    "mean(plata)\n",
    "sum(plata)/length(plata)"
   ]
  },
  {
   "cell_type": "markdown",
   "metadata": {},
   "source": [
    "Si reparto 4, todos van a tener lo mismo. Un promedio iguala. En mate, un promedio suaviza funciones con saltos. "
   ]
  },
  {
   "cell_type": "code",
   "execution_count": 7,
   "metadata": {},
   "outputs": [
    {
     "data": {},
     "metadata": {},
     "output_type": "display_data"
    },
    {
     "data": {
      "image/png": "[encoded data removed]",
      "text/plain": [
       "plot without title"
      ]
     },
     "metadata": {},
     "output_type": "display_data"
    }
   ],
   "source": [
    "library(ggplot2)\n",
    "sym <- data.frame(sym=plata)\n",
    "ggplot(sym, aes(sym)) + geom_histogram(aes(y=..count../sum(..count..)), breaks=seq(2, 5, by=1), color=\"white\") + ylab(\"\")"
   ]
  },
  {
   "cell_type": "markdown",
   "metadata": {},
   "source": [
    "El promedio no siempre está en la mitad: la media divide los datos en la mitad. "
   ]
  },
  {
   "cell_type": "code",
   "execution_count": 23,
   "metadata": {},
   "outputs": [
    {
     "data": {},
     "metadata": {},
     "output_type": "display_data"
    },
    {
     "data": {
      "text/html": [
       "5.25"
      ],
      "text/latex": [
       "5.25"
      ],
      "text/markdown": [
       "5.25"
      ],
      "text/plain": [
       "[1] 5.25"
      ]
     },
     "metadata": {},
     "output_type": "display_data"
    },
    {
     "data": {
      "text/html": [
       "4"
      ],
      "text/latex": [
       "4"
      ],
      "text/markdown": [
       "4"
      ],
      "text/plain": [
       "[1] 4"
      ]
     },
     "metadata": {},
     "output_type": "display_data"
    },
    {
     "data": {
      "image/png": "[encoded data removed]",
      "text/plain": [
       "plot without title"
      ]
     },
     "metadata": {},
     "output_type": "display_data"
    }
   ],
   "source": [
    "asym <- c(3, 3, 4, 4, 4, 4, 10, 10)\n",
    "\n",
    "asym <- data.frame(asym=asym)\n",
    "\n",
    "dists <- cbind(sym, asym)\n",
    "\n",
    "ggplot(dists) + geom_histogram(aes(sym), breaks=0:max(sym), alpha=1, fill = \"blue\") +\n",
    "        geom_histogram(aes(asym), breaks=0:max(asym), alpha=1, fill = \"red\") \n",
    "        \n",
    "\n",
    "mean(asym$asym)\n",
    "median(asym$asym)"
   ]
  },
  {
   "cell_type": "markdown",
   "metadata": {},
   "source": [
    "# Variabilidad\n"
   ]
  },
  {
   "cell_type": "code",
   "execution_count": 24,
   "metadata": {},
   "outputs": [
    {
     "data": {
      "text/html": [
       "<table>\n",
       "<thead><tr><th scope=col>Verein</th><th scope=col>Name</th><th scope=col>Pos</th><th scope=col>Spec</th><th scope=col>PosSpec</th><th scope=col>Age</th><th scope=col>Age.group</th><th scope=col>cm</th><th scope=col>kg</th><th scope=col>BMI</th><th scope=col>...</th><th scope=col>Off</th><th scope=col>Dis</th><th scope=col>Trn</th><th scope=col>A.1</th><th scope=col>KP.1</th><th scope=col>Avg.P</th><th scope=col>PS.</th><th scope=col>C</th><th scope=col>LB</th><th scope=col>TB</th></tr></thead>\n",
       "<tbody>\n",
       "\t<tr><td>Wolfsburg      </td><td>Ashkan Dejagah </td><td>AM             </td><td>C              </td><td>AM(C)          </td><td>27             </td><td>bis 30         </td><td>181            </td><td>77             </td><td>23.50356       </td><td>...            </td><td>-              </td><td>2              </td><td>3              </td><td>-              </td><td>2              </td><td>26             </td><td>73.1           </td><td>2              </td><td>2              </td><td>-              </td></tr>\n",
       "\t<tr><td>Wolfsburg      </td><td>Ashkan Dejagah </td><td>AM             </td><td>C              </td><td>AM(C)          </td><td>27             </td><td>bis 30         </td><td>181            </td><td>77             </td><td>23.50356       </td><td>...            </td><td>-              </td><td>2              </td><td>3              </td><td>-              </td><td>2              </td><td>26             </td><td>73.1           </td><td>2              </td><td>2              </td><td>-              </td></tr>\n",
       "\t<tr><td>Nürnberg       </td><td>Marcos Antonio </td><td>D              </td><td>               </td><td>D              </td><td>30             </td><td>bis 30         </td><td>187            </td><td>87             </td><td>24.87918       </td><td>...            </td><td>-              </td><td>-              </td><td>-              </td><td>-              </td><td>-              </td><td>20             </td><td>90             </td><td>-              </td><td>2              </td><td>-              </td></tr>\n",
       "\t<tr><td>Wolfsburg      </td><td>Ashkan Dejagah </td><td>FW             </td><td>               </td><td>FW             </td><td>27             </td><td>bis 30         </td><td>181            </td><td>77             </td><td>23.50356       </td><td>...            </td><td>-              </td><td>2              </td><td>3              </td><td>-              </td><td>2              </td><td>26             </td><td>73.1           </td><td>2              </td><td>2              </td><td>-              </td></tr>\n",
       "\t<tr><td>Düsseldorf     </td><td>Christian Weber</td><td>M              </td><td>               </td><td>M              </td><td>29             </td><td>bis 30         </td><td>175            </td><td>72             </td><td>23.51020       </td><td>...            </td><td>-              </td><td>-              </td><td>-              </td><td>-              </td><td>1              </td><td>35             </td><td>85.7           </td><td>1              </td><td>4              </td><td>-              </td></tr>\n",
       "\t<tr><td>Freiburg       </td><td>Sebastian Kerk </td><td>M              </td><td>               </td><td>M              </td><td>19             </td><td>bis 20         </td><td>185            </td><td>75             </td><td>21.91381       </td><td>...            </td><td>1              </td><td>3              </td><td>-              </td><td>-              </td><td>-              </td><td>28             </td><td>82.1           </td><td>-              </td><td>1              </td><td>-              </td></tr>\n",
       "</tbody>\n",
       "</table>\n"
      ],
      "text/latex": [
       "\\begin{tabular}{r|lllllllllllllllllllllllllllllllllllll}\n",
       " Verein & Name & Pos & Spec & PosSpec & Age & Age.group & cm & kg & BMI & ... & Off & Dis & Trn & A.1 & KP.1 & Avg.P & PS. & C & LB & TB\\\\\n",
       "\\hline\n",
       "\t Wolfsburg       & Ashkan Dejagah  & AM              & C               & AM(C)           & 27              & bis 30          & 181             & 77              & 23.50356        & ...             & -               & 2               & 3               & -               & 2               & 26              & 73.1            & 2               & 2               & -              \\\\\n",
       "\t Wolfsburg       & Ashkan Dejagah  & AM              & C               & AM(C)           & 27              & bis 30          & 181             & 77              & 23.50356        & ...             & -               & 2               & 3               & -               & 2               & 26              & 73.1            & 2               & 2               & -              \\\\\n",
       "\t Nürnberg        & Marcos Antonio  & D               &                 & D               & 30              & bis 30          & 187             & 87              & 24.87918        & ...             & -               & -               & -               & -               & -               & 20              & 90              & -               & 2               & -              \\\\\n",
       "\t Wolfsburg       & Ashkan Dejagah  & FW              &                 & FW              & 27              & bis 30          & 181             & 77              & 23.50356        & ...             & -               & 2               & 3               & -               & 2               & 26              & 73.1            & 2               & 2               & -              \\\\\n",
       "\t Düsseldorf      & Christian Weber & M               &                 & M               & 29              & bis 30          & 175             & 72              & 23.51020        & ...             & -               & -               & -               & -               & 1               & 35              & 85.7            & 1               & 4               & -              \\\\\n",
       "\t Freiburg        & Sebastian Kerk  & M               &                 & M               & 19              & bis 20          & 185             & 75              & 21.91381        & ...             & 1               & 3               & -               & -               & -               & 28              & 82.1            & -               & 1               & -              \\\\\n",
       "\\end{tabular}\n"
      ],
      "text/markdown": [
       "\n",
       "Verein | Name | Pos | Spec | PosSpec | Age | Age.group | cm | kg | BMI | ... | Off | Dis | Trn | A.1 | KP.1 | Avg.P | PS. | C | LB | TB | \n",
       "|---|---|---|---|---|---|\n",
       "| Wolfsburg       | Ashkan Dejagah  | AM              | C               | AM(C)           | 27              | bis 30          | 181             | 77              | 23.50356        | ...             | -               | 2               | 3               | -               | 2               | 26              | 73.1            | 2               | 2               | -               | \n",
       "| Wolfsburg       | Ashkan Dejagah  | AM              | C               | AM(C)           | 27              | bis 30          | 181             | 77              | 23.50356        | ...             | -               | 2               | 3               | -               | 2               | 26              | 73.1            | 2               | 2               | -               | \n",
       "| Nürnberg        | Marcos Antonio  | D               |                 | D               | 30              | bis 30          | 187             | 87              | 24.87918        | ...             | -               | -               | -               | -               | -               | 20              | 90              | -               | 2               | -               | \n",
       "| Wolfsburg       | Ashkan Dejagah  | FW              |                 | FW              | 27              | bis 30          | 181             | 77              | 23.50356        | ...             | -               | 2               | 3               | -               | 2               | 26              | 73.1            | 2               | 2               | -               | \n",
       "| Düsseldorf      | Christian Weber | M               |                 | M               | 29              | bis 30          | 175             | 72              | 23.51020        | ...             | -               | -               | -               | -               | 1               | 35              | 85.7            | 1               | 4               | -               | \n",
       "| Freiburg        | Sebastian Kerk  | M               |                 | M               | 19              | bis 20          | 185             | 75              | 21.91381        | ...             | 1               | 3               | -               | -               | -               | 28              | 82.1            | -               | 1               | -               | \n",
       "\n",
       "\n"
      ],
      "text/plain": [
       "  Verein     Name            Pos Spec PosSpec Age Age.group cm  kg BMI      ...\n",
       "1 Wolfsburg  Ashkan Dejagah  AM  C    AM(C)   27  bis 30    181 77 23.50356 ...\n",
       "2 Wolfsburg  Ashkan Dejagah  AM  C    AM(C)   27  bis 30    181 77 23.50356 ...\n",
       "3 Nürnberg   Marcos Antonio  D        D       30  bis 30    187 87 24.87918 ...\n",
       "4 Wolfsburg  Ashkan Dejagah  FW       FW      27  bis 30    181 77 23.50356 ...\n",
       "5 Düsseldorf Christian Weber M        M       29  bis 30    175 72 23.51020 ...\n",
       "6 Freiburg   Sebastian Kerk  M        M       19  bis 20    185 75 21.91381 ...\n",
       "  Off Dis Trn A.1 KP.1 Avg.P PS.  C LB TB\n",
       "1 -   2   3   -   2    26    73.1 2 2  - \n",
       "2 -   2   3   -   2    26    73.1 2 2  - \n",
       "3 -   -   -   -   -    20    90   - 2  - \n",
       "4 -   2   3   -   2    26    73.1 2 2  - \n",
       "5 -   -   -   -   1    35    85.7 1 4  - \n",
       "6 1   3   -   -   -    28    82.1 - 1  - "
      ]
     },
     "metadata": {},
     "output_type": "display_data"
    },
    {
     "name": "stderr",
     "output_type": "stream",
     "text": [
      "`stat_bin()` using `bins = 30`. Pick better value with `binwidth`.\n"
     ]
    },
    {
     "data": {},
     "metadata": {},
     "output_type": "display_data"
    },
    {
     "data": {
      "image/png": "[encoded data removed]",
      "text/plain": [
       "plot without title"
      ]
     },
     "metadata": {},
     "output_type": "display_data"
    }
   ],
   "source": [
    "jugadores <- read.table(file = \"../../Tables/Bundesliga-Spieler-All-Data_Pos_App.csv\", header = T, sep = \";\")\n",
    "head(jugadores)\n",
    "\n",
    "ggplot(jugadores) + geom_histogram(aes(cm))"
   ]
  },
  {
   "cell_type": "markdown",
   "metadata": {},
   "source": [
    "## Candidato 1: valor mas grande - mas pequeño.\n",
    "\n",
    "Lo bueno: Fácil de interpretar.\n",
    "\n",
    "Problemas: Un punto puede afectar la medida. No sabes dónde están el resto de los valores. \n",
    "\n",
    "Usemos el centro:\n",
    "\n",
    "## Candidato 2: la variación alrededor del centro(promedio).\n"
   ]
  },
  {
   "cell_type": "code",
   "execution_count": 26,
   "metadata": {},
   "outputs": [
    {
     "data": {
      "text/html": [
       "3.75"
      ],
      "text/latex": [
       "3.75"
      ],
      "text/markdown": [
       "3.75"
      ],
      "text/plain": [
       "[1] 3.75"
      ]
     },
     "metadata": {},
     "output_type": "display_data"
    }
   ],
   "source": [
    "library(dplyr)\n",
    "\n",
    "nums <- data.frame(num = c(1, 2, 2, 10))\n",
    "\n",
    "mean(nums$num)"
   ]
  },
  {
   "cell_type": "code",
   "execution_count": 28,
   "metadata": {},
   "outputs": [
    {
     "data": {
      "text/html": [
       "<table>\n",
       "<thead><tr><th scope=col>num</th><th scope=col>dif</th></tr></thead>\n",
       "<tbody>\n",
       "\t<tr><td> 1   </td><td>-2.75</td></tr>\n",
       "\t<tr><td> 2   </td><td>-1.75</td></tr>\n",
       "\t<tr><td> 2   </td><td>-1.75</td></tr>\n",
       "\t<tr><td>10   </td><td> 6.25</td></tr>\n",
       "</tbody>\n",
       "</table>\n"
      ],
      "text/latex": [
       "\\begin{tabular}{r|ll}\n",
       " num & dif\\\\\n",
       "\\hline\n",
       "\t  1    & -2.75\\\\\n",
       "\t  2    & -1.75\\\\\n",
       "\t  2    & -1.75\\\\\n",
       "\t 10    &  6.25\\\\\n",
       "\\end{tabular}\n"
      ],
      "text/markdown": [
       "\n",
       "num | dif | \n",
       "|---|---|---|---|\n",
       "|  1    | -2.75 | \n",
       "|  2    | -1.75 | \n",
       "|  2    | -1.75 | \n",
       "| 10    |  6.25 | \n",
       "\n",
       "\n"
      ],
      "text/plain": [
       "  num dif  \n",
       "1  1  -2.75\n",
       "2  2  -1.75\n",
       "3  2  -1.75\n",
       "4 10   6.25"
      ]
     },
     "metadata": {},
     "output_type": "display_data"
    }
   ],
   "source": [
    "nums <- nums %>% mutate(dif = num - mean(nums$num))\n",
    "\n",
    "nums"
   ]
  },
  {
   "cell_type": "code",
   "execution_count": 29,
   "metadata": {},
   "outputs": [
    {
     "data": {
      "text/html": [
       "0"
      ],
      "text/latex": [
       "0"
      ],
      "text/markdown": [
       "0"
      ],
      "text/plain": [
       "[1] 0"
      ]
     },
     "metadata": {},
     "output_type": "display_data"
    }
   ],
   "source": [
    "mean(nums$dif) # 0 es un problema..."
   ]
  },
  {
   "cell_type": "code",
   "execution_count": 119,
   "metadata": {},
   "outputs": [
    {
     "data": {
      "text/html": [
       "13.1875"
      ],
      "text/latex": [
       "13.1875"
      ],
      "text/markdown": [
       "13.1875"
      ],
      "text/plain": [
       "[1] 13.1875"
      ]
     },
     "metadata": {},
     "output_type": "display_data"
    },
    {
     "data": {
      "text/html": [
       "3.63145976158349"
      ],
      "text/latex": [
       "3.63145976158349"
      ],
      "text/markdown": [
       "3.63145976158349"
      ],
      "text/plain": [
       "[1] 3.63146"
      ]
     },
     "metadata": {},
     "output_type": "display_data"
    }
   ],
   "source": [
    "# El problema es el signp de dif. tenemos dos opciones: abs y ()^2\n",
    "\n",
    "nums <- nums %>% mutate(var = (num - mean(nums$num))^2)\n",
    "\n",
    "mean(nums$var)\n",
    "\n",
    "# está bien pero no tiene las mimas dimensiones\n",
    "sqrt(mean(nums$var))\n"
   ]
  },
  {
   "cell_type": "markdown",
   "metadata": {},
   "source": [
    "promedio -> dist al promedio -> sqrt() para tener las buenas dims"
   ]
  },
  {
   "cell_type": "code",
   "execution_count": 30,
   "metadata": {},
   "outputs": [
    {
     "data": {
      "text/html": [
       "<table>\n",
       "<thead><tr><th scope=col>Name</th><th scope=col>Pos</th><th scope=col>Age</th><th scope=col>cm</th><th scope=col>kg</th></tr></thead>\n",
       "<tbody>\n",
       "\t<tr><td>Ashkan Dejagah </td><td>AM             </td><td>27             </td><td>181            </td><td>77             </td></tr>\n",
       "\t<tr><td>Ashkan Dejagah </td><td>AM             </td><td>27             </td><td>181            </td><td>77             </td></tr>\n",
       "\t<tr><td>Marcos Antonio </td><td>D              </td><td>30             </td><td>187            </td><td>87             </td></tr>\n",
       "\t<tr><td>Ashkan Dejagah </td><td>FW             </td><td>27             </td><td>181            </td><td>77             </td></tr>\n",
       "\t<tr><td>Christian Weber</td><td>M              </td><td>29             </td><td>175            </td><td>72             </td></tr>\n",
       "\t<tr><td>Sebastian Kerk </td><td>M              </td><td>19             </td><td>185            </td><td>75             </td></tr>\n",
       "</tbody>\n",
       "</table>\n"
      ],
      "text/latex": [
       "\\begin{tabular}{r|lllll}\n",
       " Name & Pos & Age & cm & kg\\\\\n",
       "\\hline\n",
       "\t Ashkan Dejagah  & AM              & 27              & 181             & 77             \\\\\n",
       "\t Ashkan Dejagah  & AM              & 27              & 181             & 77             \\\\\n",
       "\t Marcos Antonio  & D               & 30              & 187             & 87             \\\\\n",
       "\t Ashkan Dejagah  & FW              & 27              & 181             & 77             \\\\\n",
       "\t Christian Weber & M               & 29              & 175             & 72             \\\\\n",
       "\t Sebastian Kerk  & M               & 19              & 185             & 75             \\\\\n",
       "\\end{tabular}\n"
      ],
      "text/markdown": [
       "\n",
       "Name | Pos | Age | cm | kg | \n",
       "|---|---|---|---|---|---|\n",
       "| Ashkan Dejagah  | AM              | 27              | 181             | 77              | \n",
       "| Ashkan Dejagah  | AM              | 27              | 181             | 77              | \n",
       "| Marcos Antonio  | D               | 30              | 187             | 87              | \n",
       "| Ashkan Dejagah  | FW              | 27              | 181             | 77              | \n",
       "| Christian Weber | M               | 29              | 175             | 72              | \n",
       "| Sebastian Kerk  | M               | 19              | 185             | 75              | \n",
       "\n",
       "\n"
      ],
      "text/plain": [
       "  Name            Pos Age cm  kg\n",
       "1 Ashkan Dejagah  AM  27  181 77\n",
       "2 Ashkan Dejagah  AM  27  181 77\n",
       "3 Marcos Antonio  D   30  187 87\n",
       "4 Ashkan Dejagah  FW  27  181 77\n",
       "5 Christian Weber M   29  175 72\n",
       "6 Sebastian Kerk  M   19  185 75"
      ]
     },
     "metadata": {},
     "output_type": "display_data"
    },
    {
     "name": "stderr",
     "output_type": "stream",
     "text": [
      "`stat_bin()` using `bins = 30`. Pick better value with `binwidth`.\n"
     ]
    },
    {
     "data": {},
     "metadata": {},
     "output_type": "display_data"
    },
    {
     "data": {
      "image/png": "[encoded data removed]",
      "text/plain": [
       "plot without title"
      ]
     },
     "metadata": {},
     "output_type": "display_data"
    }
   ],
   "source": [
    "jugadores <- jugadores %>% select(Name, Pos, Age, cm, kg)\n",
    "\n",
    "head(jugadores)\n",
    "\n",
    "ggplot(jugadores) + geom_histogram(aes(cm))"
   ]
  },
  {
   "cell_type": "code",
   "execution_count": 31,
   "metadata": {},
   "outputs": [
    {
     "data": {
      "text/html": [
       "182.888198757764"
      ],
      "text/latex": [
       "182.888198757764"
      ],
      "text/markdown": [
       "182.888198757764"
      ],
      "text/plain": [
       "[1] 182.8882"
      ]
     },
     "metadata": {},
     "output_type": "display_data"
    },
    {
     "data": {
      "text/html": [
       "6.52625179927276"
      ],
      "text/latex": [
       "6.52625179927276"
      ],
      "text/markdown": [
       "6.52625179927276"
      ],
      "text/plain": [
       "[1] 6.526252"
      ]
     },
     "metadata": {},
     "output_type": "display_data"
    }
   ],
   "source": [
    "mean(jugadores$cm)\n",
    "sd(jugadores$cm)\n",
    "\n",
    "# 182 con mas o menos 6.5 cms."
   ]
  },
  {
   "cell_type": "code",
   "execution_count": 43,
   "metadata": {},
   "outputs": [
    {
     "data": {
      "text/html": [
       "<table>\n",
       "<thead><tr><th scope=col>Name</th><th scope=col>Pos</th><th scope=col>Age</th><th scope=col>cm</th><th scope=col>kg</th></tr></thead>\n",
       "<tbody>\n",
       "\t<tr><td>Jannik Löhden     </td><td>D                 </td><td>24                </td><td>201               </td><td> 97               </td></tr>\n",
       "\t<tr><td>Jannik Vestergaard</td><td>D                 </td><td>20                </td><td>199               </td><td> 96               </td></tr>\n",
       "\t<tr><td>Lars Unnerstall   </td><td>GK                </td><td>23                </td><td>198               </td><td>100               </td></tr>\n",
       "\t<tr><td>Naldo             </td><td>D                 </td><td>30                </td><td>198               </td><td> 89               </td></tr>\n",
       "\t<tr><td>Benedikt Röcker   </td><td>D                 </td><td>23                </td><td>197               </td><td> 90               </td></tr>\n",
       "\t<tr><td>Daniel van Buyten </td><td>D                 </td><td>35                </td><td>197               </td><td> 95               </td></tr>\n",
       "</tbody>\n",
       "</table>\n"
      ],
      "text/latex": [
       "\\begin{tabular}{r|lllll}\n",
       " Name & Pos & Age & cm & kg\\\\\n",
       "\\hline\n",
       "\t Jannik Löhden      & D                  & 24                 & 201                &  97               \\\\\n",
       "\t Jannik Vestergaard & D                  & 20                 & 199                &  96               \\\\\n",
       "\t Lars Unnerstall    & GK                 & 23                 & 198                & 100               \\\\\n",
       "\t Naldo              & D                  & 30                 & 198                &  89               \\\\\n",
       "\t Benedikt Röcker    & D                  & 23                 & 197                &  90               \\\\\n",
       "\t Daniel van Buyten  & D                  & 35                 & 197                &  95               \\\\\n",
       "\\end{tabular}\n"
      ],
      "text/markdown": [
       "\n",
       "Name | Pos | Age | cm | kg | \n",
       "|---|---|---|---|---|---|\n",
       "| Jannik Löhden      | D                  | 24                 | 201                |  97                | \n",
       "| Jannik Vestergaard | D                  | 20                 | 199                |  96                | \n",
       "| Lars Unnerstall    | GK                 | 23                 | 198                | 100                | \n",
       "| Naldo              | D                  | 30                 | 198                |  89                | \n",
       "| Benedikt Röcker    | D                  | 23                 | 197                |  90                | \n",
       "| Daniel van Buyten  | D                  | 35                 | 197                |  95                | \n",
       "\n",
       "\n"
      ],
      "text/plain": [
       "  Name               Pos Age cm  kg \n",
       "1 Jannik Löhden      D   24  201  97\n",
       "2 Jannik Vestergaard D   20  199  96\n",
       "3 Lars Unnerstall    GK  23  198 100\n",
       "4 Naldo              D   30  198  89\n",
       "5 Benedikt Röcker    D   23  197  90\n",
       "6 Daniel van Buyten  D   35  197  95"
      ]
     },
     "metadata": {},
     "output_type": "display_data"
    },
    {
     "data": {
      "text/html": [
       "2.7752225625518"
      ],
      "text/latex": [
       "2.7752225625518"
      ],
      "text/markdown": [
       "2.7752225625518"
      ],
      "text/plain": [
       "[1] 2.775223"
      ]
     },
     "metadata": {},
     "output_type": "display_data"
    }
   ],
   "source": [
    "head(arrange(jugadores, desc(cm)))\n",
    "\n",
    "# el mas alto mide 201\n",
    "\n",
    "(201 - mean(jugadores$cm))/sd(jugadores$cm) # casi 3 veces sds mas allâ del promedio.\n"
   ]
  },
  {
   "cell_type": "code",
   "execution_count": 140,
   "metadata": {},
   "outputs": [
    {
     "data": {
      "text/html": [
       "<table>\n",
       "<thead><tr><th scope=col>Name</th><th scope=col>Pos</th><th scope=col>Age</th><th scope=col>cm</th><th scope=col>kg</th></tr></thead>\n",
       "<tbody>\n",
       "\t<tr><td>Yohandry Orozco</td><td>M              </td><td>22             </td><td>164            </td><td>55             </td></tr>\n",
       "\t<tr><td>Genki Omae     </td><td>FW             </td><td>23             </td><td>166            </td><td>67             </td></tr>\n",
       "\t<tr><td>Arthur Boka    </td><td>D              </td><td>30             </td><td>166            </td><td>67             </td></tr>\n",
       "\t<tr><td>Arthur Boka    </td><td>D              </td><td>30             </td><td>166            </td><td>67             </td></tr>\n",
       "\t<tr><td>Arthur Boka    </td><td>DM             </td><td>30             </td><td>166            </td><td>67             </td></tr>\n",
       "\t<tr><td>Arthur Boka    </td><td>M              </td><td>30             </td><td>166            </td><td>67             </td></tr>\n",
       "</tbody>\n",
       "</table>\n"
      ],
      "text/latex": [
       "\\begin{tabular}{r|lllll}\n",
       " Name & Pos & Age & cm & kg\\\\\n",
       "\\hline\n",
       "\t Yohandry Orozco & M               & 22              & 164             & 55             \\\\\n",
       "\t Genki Omae      & FW              & 23              & 166             & 67             \\\\\n",
       "\t Arthur Boka     & D               & 30              & 166             & 67             \\\\\n",
       "\t Arthur Boka     & D               & 30              & 166             & 67             \\\\\n",
       "\t Arthur Boka     & DM              & 30              & 166             & 67             \\\\\n",
       "\t Arthur Boka     & M               & 30              & 166             & 67             \\\\\n",
       "\\end{tabular}\n"
      ],
      "text/markdown": [
       "\n",
       "Name | Pos | Age | cm | kg | \n",
       "|---|---|---|---|---|---|\n",
       "| Yohandry Orozco | M               | 22              | 164             | 55              | \n",
       "| Genki Omae      | FW              | 23              | 166             | 67              | \n",
       "| Arthur Boka     | D               | 30              | 166             | 67              | \n",
       "| Arthur Boka     | D               | 30              | 166             | 67              | \n",
       "| Arthur Boka     | DM              | 30              | 166             | 67              | \n",
       "| Arthur Boka     | M               | 30              | 166             | 67              | \n",
       "\n",
       "\n"
      ],
      "text/plain": [
       "  Name            Pos Age cm  kg\n",
       "1 Yohandry Orozco M   22  164 55\n",
       "2 Genki Omae      FW  23  166 67\n",
       "3 Arthur Boka     D   30  166 67\n",
       "4 Arthur Boka     D   30  166 67\n",
       "5 Arthur Boka     DM  30  166 67\n",
       "6 Arthur Boka     M   30  166 67"
      ]
     },
     "metadata": {},
     "output_type": "display_data"
    },
    {
     "data": {
      "text/html": [
       "-2.89418786444445"
      ],
      "text/latex": [
       "-2.89418786444445"
      ],
      "text/markdown": [
       "-2.89418786444445"
      ],
      "text/plain": [
       "[1] -2.894188"
      ]
     },
     "metadata": {},
     "output_type": "display_data"
    }
   ],
   "source": [
    "# el mas bajo 164\n",
    "head(arrange(jugadores, cm))\n",
    "\n",
    "(164 - mean(jugadores$cm))/sd(jugadores$cm) # casi 3 veces sds menos del promedio."
   ]
  },
  {
   "cell_type": "code",
   "execution_count": 44,
   "metadata": {},
   "outputs": [
    {
     "data": {
      "text/html": [
       "25.4633540372671"
      ],
      "text/latex": [
       "25.4633540372671"
      ],
      "text/markdown": [
       "25.4633540372671"
      ],
      "text/plain": [
       "[1] 25.46335"
      ]
     },
     "metadata": {},
     "output_type": "display_data"
    },
    {
     "data": {
      "text/html": [
       "3.99753794628199"
      ],
      "text/latex": [
       "3.99753794628199"
      ],
      "text/markdown": [
       "3.99753794628199"
      ],
      "text/plain": [
       "[1] 3.997538"
      ]
     },
     "metadata": {},
     "output_type": "display_data"
    },
    {
     "data": {},
     "metadata": {},
     "output_type": "display_data"
    },
    {
     "data": {
      "image/png": "[encoded data removed]",
      "text/plain": [
       "plot without title"
      ]
     },
     "metadata": {},
     "output_type": "display_data"
    }
   ],
   "source": [
    "mean(jugadores$Age)\n",
    "sd(jugadores$Age)\n",
    "\n",
    "ggplot(jugadores) + geom_histogram(aes(Age), breaks=17:40)"
   ]
  },
  {
   "cell_type": "code",
   "execution_count": 154,
   "metadata": {},
   "outputs": [
    {
     "data": {
      "text/html": [
       "<table>\n",
       "<thead><tr><th scope=col>Name</th><th scope=col>Pos</th><th scope=col>Age</th><th scope=col>cm</th><th scope=col>kg</th></tr></thead>\n",
       "<tbody>\n",
       "\t<tr><td>Pierre Höjbjerg  </td><td>M                </td><td>17               </td><td>186              </td><td>81               </td></tr>\n",
       "\t<tr><td>Max Meyer        </td><td>M                </td><td>17               </td><td>169              </td><td>65               </td></tr>\n",
       "\t<tr><td>Niklas Süle      </td><td>D                </td><td>17               </td><td>194              </td><td>91               </td></tr>\n",
       "\t<tr><td>Marc Stendera    </td><td>M                </td><td>17               </td><td>171              </td><td>64               </td></tr>\n",
       "\t<tr><td>Marc-Oliver Kempf</td><td>D                </td><td>18               </td><td>185              </td><td>82               </td></tr>\n",
       "\t<tr><td>Cristian Ramirez </td><td>D                </td><td>18               </td><td>173              </td><td>74               </td></tr>\n",
       "</tbody>\n",
       "</table>\n"
      ],
      "text/latex": [
       "\\begin{tabular}{r|lllll}\n",
       " Name & Pos & Age & cm & kg\\\\\n",
       "\\hline\n",
       "\t Pierre Höjbjerg   & M                 & 17                & 186               & 81               \\\\\n",
       "\t Max Meyer         & M                 & 17                & 169               & 65               \\\\\n",
       "\t Niklas Süle       & D                 & 17                & 194               & 91               \\\\\n",
       "\t Marc Stendera     & M                 & 17                & 171               & 64               \\\\\n",
       "\t Marc-Oliver Kempf & D                 & 18                & 185               & 82               \\\\\n",
       "\t Cristian Ramirez  & D                 & 18                & 173               & 74               \\\\\n",
       "\\end{tabular}\n"
      ],
      "text/markdown": [
       "\n",
       "Name | Pos | Age | cm | kg | \n",
       "|---|---|---|---|---|---|\n",
       "| Pierre Höjbjerg   | M                 | 17                | 186               | 81                | \n",
       "| Max Meyer         | M                 | 17                | 169               | 65                | \n",
       "| Niklas Süle       | D                 | 17                | 194               | 91                | \n",
       "| Marc Stendera     | M                 | 17                | 171               | 64                | \n",
       "| Marc-Oliver Kempf | D                 | 18                | 185               | 82                | \n",
       "| Cristian Ramirez  | D                 | 18                | 173               | 74                | \n",
       "\n",
       "\n"
      ],
      "text/plain": [
       "  Name              Pos Age cm  kg\n",
       "1 Pierre Höjbjerg   M   17  186 81\n",
       "2 Max Meyer         M   17  169 65\n",
       "3 Niklas Süle       D   17  194 91\n",
       "4 Marc Stendera     M   17  171 64\n",
       "5 Marc-Oliver Kempf D   18  185 82\n",
       "6 Cristian Ramirez  D   18  173 74"
      ]
     },
     "metadata": {},
     "output_type": "display_data"
    },
    {
     "data": {
      "text/html": [
       "-2.11714163842738"
      ],
      "text/latex": [
       "-2.11714163842738"
      ],
      "text/markdown": [
       "-2.11714163842738"
      ],
      "text/plain": [
       "[1] -2.117142"
      ]
     },
     "metadata": {},
     "output_type": "display_data"
    },
    {
     "data": {
      "text/html": [
       "<table>\n",
       "<thead><tr><th scope=col>Name</th><th scope=col>Pos</th><th scope=col>Age</th><th scope=col>cm</th><th scope=col>kg</th></tr></thead>\n",
       "<tbody>\n",
       "\t<tr><td>Oka Nikolov        </td><td>GK                 </td><td>39                 </td><td>187                </td><td>86                 </td></tr>\n",
       "\t<tr><td>Simon Jentzsch     </td><td>GK                 </td><td>37                 </td><td>196                </td><td>97                 </td></tr>\n",
       "\t<tr><td>Marc Ziegler       </td><td>GK                 </td><td>37                 </td><td>193                </td><td>92                 </td></tr>\n",
       "\t<tr><td>Alexander Manninger</td><td>GK                 </td><td>36                 </td><td>189                </td><td>85                 </td></tr>\n",
       "\t<tr><td>Jens Langeneke     </td><td>D                  </td><td>36                 </td><td>185                </td><td>78                 </td></tr>\n",
       "\t<tr><td>Timmy Simons       </td><td>DM                 </td><td>36                 </td><td>186                </td><td>78                 </td></tr>\n",
       "</tbody>\n",
       "</table>\n"
      ],
      "text/latex": [
       "\\begin{tabular}{r|lllll}\n",
       " Name & Pos & Age & cm & kg\\\\\n",
       "\\hline\n",
       "\t Oka Nikolov         & GK                  & 39                  & 187                 & 86                 \\\\\n",
       "\t Simon Jentzsch      & GK                  & 37                  & 196                 & 97                 \\\\\n",
       "\t Marc Ziegler        & GK                  & 37                  & 193                 & 92                 \\\\\n",
       "\t Alexander Manninger & GK                  & 36                  & 189                 & 85                 \\\\\n",
       "\t Jens Langeneke      & D                   & 36                  & 185                 & 78                 \\\\\n",
       "\t Timmy Simons        & DM                  & 36                  & 186                 & 78                 \\\\\n",
       "\\end{tabular}\n"
      ],
      "text/markdown": [
       "\n",
       "Name | Pos | Age | cm | kg | \n",
       "|---|---|---|---|---|---|\n",
       "| Oka Nikolov         | GK                  | 39                  | 187                 | 86                  | \n",
       "| Simon Jentzsch      | GK                  | 37                  | 196                 | 97                  | \n",
       "| Marc Ziegler        | GK                  | 37                  | 193                 | 92                  | \n",
       "| Alexander Manninger | GK                  | 36                  | 189                 | 85                  | \n",
       "| Jens Langeneke      | D                   | 36                  | 185                 | 78                  | \n",
       "| Timmy Simons        | DM                  | 36                  | 186                 | 78                  | \n",
       "\n",
       "\n"
      ],
      "text/plain": [
       "  Name                Pos Age cm  kg\n",
       "1 Oka Nikolov         GK  39  187 86\n",
       "2 Simon Jentzsch      GK  37  196 97\n",
       "3 Marc Ziegler        GK  37  193 92\n",
       "4 Alexander Manninger GK  36  189 85\n",
       "5 Jens Langeneke      D   36  185 78\n",
       "6 Timmy Simons        DM  36  186 78"
      ]
     },
     "metadata": {},
     "output_type": "display_data"
    },
    {
     "data": {
      "text/html": [
       "3.38624577043053"
      ],
      "text/latex": [
       "3.38624577043053"
      ],
      "text/markdown": [
       "3.38624577043053"
      ],
      "text/plain": [
       "[1] 3.386246"
      ]
     },
     "metadata": {},
     "output_type": "display_data"
    }
   ],
   "source": [
    "# el mas joven\n",
    "head(arrange(jugadores, Age))\n",
    "\n",
    "(17 - mean(jugadores$Age))/sd(jugadores$Age) # casi 3 veces sds menos del promedio.\n",
    "\n",
    "# el mas viejo\n",
    "head(arrange(jugadores, desc(Age)))\n",
    "\n",
    "(39 - mean(jugadores$Age))/sd(jugadores$Age) # casi 3 veces sds menos del promedio."
   ]
  },
  {
   "cell_type": "markdown",
   "metadata": {},
   "source": [
    "## Los extremos están a algunos sd's de la media. \n",
    "\n",
    "Sin importar la forma de la distribución. La mayoría de los datos están a promedio +- algunas sd. \n",
    "\n",
    "Pero cuánto es la mayoría?\n",
    "\n",
    "# Desigualdad de Chebyshev\n",
    "\n",
    "La proporción de los datos en el rango promedio +- z*sd es\n",
    "\n",
    "    por lo menos: 1 - 1/z^2\n",
    "    \n",
    "Para z = 2, la fracción es por lo menos 1 - 1/4 = 3/4 (el 75%). \n",
    "\n",
    "Para z = 5 tenemos por lo menos el 96%.\n",
    "\n",
    "para z = 1 la proporción es por lo menos 0. \n",
    "\n",
    "z = 1/2? No es útil. Solo sirve cuando nos alejamos del promedio.\n",
    "\n",
    "### z \n",
    "\n",
    "Cuantas unidades lejos del promedio. \n",
    "\n",
    "z puede ser negativo, debajo del promedio. \n",
    "\n",
    "z se llaman unidades estandar.  \n",
    "\n",
    "z tipicamente está entre -5 y 5.\n",
    "\n",
    "para convertir un valor en unidades standard: \n",
    "\n",
    "    (val - mean(val))/sd(val)\n",
    "    \n",
    "\n",
    "obs: sd difícil de ver en el histograma. \n",
    "    "
   ]
  },
  {
   "cell_type": "code",
   "execution_count": 156,
   "metadata": {},
   "outputs": [
    {
     "name": "stderr",
     "output_type": "stream",
     "text": [
      "`stat_bin()` using `bins = 30`. Pick better value with `binwidth`.\n"
     ]
    },
    {
     "data": {},
     "metadata": {},
     "output_type": "display_data"
    },
    {
     "data": {
      "image/png": "[encoded data removed]",
      "text/plain": [
       "plot without title"
      ]
     },
     "metadata": {},
     "output_type": "display_data"
    }
   ],
   "source": [
    "ggplot(jugadores) + geom_histogram(aes(kg))"
   ]
  }
 ],
 "metadata": {
  "anaconda-cloud": {},
  "kernelspec": {
   "display_name": "R 3.3",
   "language": "R",
   "name": "ir33"
  },
  "language_info": {
   "codemirror_mode": "r",
   "file_extension": ".r",
   "mimetype": "text/x-r-source",
   "name": "R",
   "pygments_lexer": "r",
   "version": "3.3.3"
  }
 },
 "nbformat": 4,
 "nbformat_minor": 1
}
