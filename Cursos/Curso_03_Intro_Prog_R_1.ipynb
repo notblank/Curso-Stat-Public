{
 "cells": [
  {
   "cell_type": "markdown",
   "metadata": {},
   "source": [
    "# Introducción a R"
   ]
  },
  {
   "cell_type": "markdown",
   "metadata": {},
   "source": [
    "Lenguajes de Programación.\n",
    "\n",
    "[Roger Peng <- canal youtube https://www.youtube.com/channel/UCZA0RbbSK1IXeeJysKYRWuQ ]\n",
    "\n",
    "[foundations of Data Science, Lecture 3 <- https://data-8.appspot.com/sp16/unit?unit=2&lesson=10]\n",
    "\n",
    "\n",
    "No se parecen a los lenguages naturales ( Ver \"In the Land Of Invented Languages\").\n",
    "\n",
    "Pero todos se parecen un poco. \n",
    "\n",
    "    Vamos a aprender las ideas básicas del lenguaje. \n",
    "    \n",
    "    Pero como con los lenguajes humanos, es mejor aprender practicando. "
   ]
  },
  {
   "cell_type": "markdown",
   "metadata": {},
   "source": [
    "## Buscar Ayuda"
   ]
  },
  {
   "cell_type": "markdown",
   "metadata": {},
   "source": [
    "En el mundo: \n",
    "\n",
    "    Googlear el problema usando la notación del programa:\n",
    "        Mal: no funcina la regresión lineal !!! :'(\n",
    "        Bien: lm() not working with large data frame\n",
    "        \n",
    "Buenos lugares: \n",
    "\n",
    "    sitios tipo: \n",
    "            http://stackoverflow.com/questions/21502465/replacement-for-rename-in-dplyr\n",
    "    "
   ]
  },
  {
   "cell_type": "markdown",
   "metadata": {},
   "source": [
    "##  Operaciones"
   ]
  },
  {
   "cell_type": "code",
   "execution_count": 1,
   "metadata": {},
   "outputs": [
    {
     "data": {
      "text/html": [
       "8"
      ],
      "text/latex": [
       "8"
      ],
      "text/markdown": [
       "8"
      ],
      "text/plain": [
       "[1] 8"
      ]
     },
     "metadata": {},
     "output_type": "display_data"
    }
   ],
   "source": [
    "3+5"
   ]
  },
  {
   "cell_type": "code",
   "execution_count": 2,
   "metadata": {},
   "outputs": [
    {
     "data": {
      "text/html": [
       "0.00900900900900901"
      ],
      "text/latex": [
       "0.00900900900900901"
      ],
      "text/markdown": [
       "0.00900900900900901"
      ],
      "text/plain": [
       "[1] 0.009009009"
      ]
     },
     "metadata": {},
     "output_type": "display_data"
    }
   ],
   "source": [
    "6/666"
   ]
  },
  {
   "cell_type": "code",
   "execution_count": 3,
   "metadata": {},
   "outputs": [
    {
     "data": {
      "text/html": [
       "184"
      ],
      "text/latex": [
       "184"
      ],
      "text/markdown": [
       "184"
      ],
      "text/plain": [
       "[1] 184"
      ]
     },
     "metadata": {},
     "output_type": "display_data"
    }
   ],
   "source": [
    "23*8"
   ]
  },
  {
   "cell_type": "code",
   "execution_count": 5,
   "metadata": {},
   "outputs": [
    {
     "data": {
      "text/html": [
       "8"
      ],
      "text/latex": [
       "8"
      ],
      "text/markdown": [
       "8"
      ],
      "text/plain": [
       "[1] 8"
      ]
     },
     "metadata": {},
     "output_type": "display_data"
    },
    {
     "data": {
      "text/html": [
       "8"
      ],
      "text/latex": [
       "8"
      ],
      "text/markdown": [
       "8"
      ],
      "text/plain": [
       "[1] 8"
      ]
     },
     "metadata": {},
     "output_type": "display_data"
    }
   ],
   "source": [
    "2**3\n",
    "2^3"
   ]
  },
  {
   "cell_type": "code",
   "execution_count": 8,
   "metadata": {},
   "outputs": [
    {
     "data": {
      "text/html": [
       "16"
      ],
      "text/latex": [
       "16"
      ],
      "text/markdown": [
       "16"
      ],
      "text/plain": [
       "[1] 16"
      ]
     },
     "metadata": {},
     "output_type": "display_data"
    }
   ],
   "source": [
    "# Lenguajes de programación no perdonan:\n",
    "# Cuidado con la sintaxis. \n",
    "\n",
    "2 ** 4\n",
    "\n",
    "# No pasa nada con los errors, no tengan miedo: experimenten. "
   ]
  },
  {
   "cell_type": "code",
   "execution_count": 9,
   "metadata": {},
   "outputs": [
    {
     "data": {
      "text/html": [
       "16"
      ],
      "text/latex": [
       "16"
      ],
      "text/markdown": [
       "16"
      ],
      "text/plain": [
       "[1] 16"
      ]
     },
     "metadata": {},
     "output_type": "display_data"
    },
    {
     "data": {
      "text/html": [
       "16"
      ],
      "text/latex": [
       "16"
      ],
      "text/markdown": [
       "16"
      ],
      "text/plain": [
       "[1] 16"
      ]
     },
     "metadata": {},
     "output_type": "display_data"
    },
    {
     "data": {
      "text/html": [
       "16"
      ],
      "text/latex": [
       "16"
      ],
      "text/markdown": [
       "16"
      ],
      "text/plain": [
       "[1] 16"
      ]
     },
     "metadata": {},
     "output_type": "display_data"
    }
   ],
   "source": [
    "# Cambios en el código producen respeustas muy diferentes:\n",
    "\n",
    "2**4\n",
    "2 * 2 * 2 * 2\n",
    "2^4"
   ]
  },
  {
   "cell_type": "markdown",
   "metadata": {},
   "source": [
    "# Dos tipos de datos ( int y float)"
   ]
  },
  {
   "cell_type": "code",
   "execution_count": 10,
   "metadata": {},
   "outputs": [
    {
     "data": {
      "text/html": [
       "0.666666666666667"
      ],
      "text/latex": [
       "0.666666666666667"
      ],
      "text/markdown": [
       "0.666666666666667"
      ],
      "text/plain": [
       "[1] 0.6666667"
      ]
     },
     "metadata": {},
     "output_type": "display_data"
    },
    {
     "data": {
      "text/html": [
       "3.14159265358979"
      ],
      "text/latex": [
       "3.14159265358979"
      ],
      "text/markdown": [
       "3.14159265358979"
      ],
      "text/plain": [
       "[1] 3.141593"
      ]
     },
     "metadata": {},
     "output_type": "display_data"
    }
   ],
   "source": [
    "2/3\n",
    "pi"
   ]
  },
  {
   "cell_type": "code",
   "execution_count": 11,
   "metadata": {
    "scrolled": true
   },
   "outputs": [
    {
     "data": {
      "text/html": [
       "Inf"
      ],
      "text/latex": [
       "Inf"
      ],
      "text/markdown": [
       "Inf"
      ],
      "text/plain": [
       "[1] Inf"
      ]
     },
     "metadata": {},
     "output_type": "display_data"
    }
   ],
   "source": [
    "2/0"
   ]
  },
  {
   "cell_type": "code",
   "execution_count": 13,
   "metadata": {},
   "outputs": [
    {
     "data": {
      "text/html": [
       "NaN"
      ],
      "text/latex": [
       "NaN"
      ],
      "text/markdown": [
       "NaN"
      ],
      "text/plain": [
       "[1] NaN"
      ]
     },
     "metadata": {},
     "output_type": "display_data"
    }
   ],
   "source": [
    "0/0"
   ]
  },
  {
   "cell_type": "code",
   "execution_count": 14,
   "metadata": {},
   "outputs": [
    {
     "data": {
      "text/html": [
       "16.5555555555556"
      ],
      "text/latex": [
       "16.5555555555556"
      ],
      "text/markdown": [
       "16.5555555555556"
      ],
      "text/plain": [
       "[1] 16.55556"
      ]
     },
     "metadata": {},
     "output_type": "display_data"
    }
   ],
   "source": [
    "# Pueden combinar las operaciones\n",
    "\n",
    "1 + 2 * 3 * 4 * 5  / 6 ^ 3 + 7 + 8 "
   ]
  },
  {
   "cell_type": "code",
   "execution_count": 17,
   "metadata": {},
   "outputs": [
    {
     "data": {
      "text/html": [
       "2016"
      ],
      "text/latex": [
       "2016"
      ],
      "text/markdown": [
       "2016"
      ],
      "text/plain": [
       "[1] 2016"
      ]
     },
     "metadata": {},
     "output_type": "display_data"
    }
   ],
   "source": [
    "1 + 2 * ( 3 * 4 * 5  / 6 )  ^ 3 + 7 + 8 \n",
    "\n",
    "# en general es mejor usar paréntesis"
   ]
  },
  {
   "cell_type": "markdown",
   "metadata": {},
   "source": [
    "Luego de un rato la expansión para:"
   ]
  },
  {
   "cell_type": "code",
   "execution_count": 18,
   "metadata": {},
   "outputs": [
    {
     "data": {
      "text/html": [
       "0.666666666666667"
      ],
      "text/latex": [
       "0.666666666666667"
      ],
      "text/markdown": [
       "0.666666666666667"
      ],
      "text/plain": [
       "[1] 0.6666667"
      ]
     },
     "metadata": {},
     "output_type": "display_data"
    }
   ],
   "source": [
    "2 / 3"
   ]
  },
  {
   "cell_type": "code",
   "execution_count": 20,
   "metadata": {},
   "outputs": [
    {
     "data": {
      "text/html": [
       "6.66666666666667e-09"
      ],
      "text/latex": [
       "6.66666666666667e-09"
      ],
      "text/markdown": [
       "6.66666666666667e-09"
      ],
      "text/plain": [
       "[1] 6.666667e-09"
      ]
     },
     "metadata": {},
     "output_type": "display_data"
    }
   ],
   "source": [
    "# Cambio a escritura científica:\n",
    "2/300000000"
   ]
  },
  {
   "cell_type": "code",
   "execution_count": 21,
   "metadata": {},
   "outputs": [
    {
     "data": {
      "text/html": [
       "1e-06"
      ],
      "text/latex": [
       "1e-06"
      ],
      "text/markdown": [
       "1e-06"
      ],
      "text/plain": [
       "[1] 1e-06"
      ]
     },
     "metadata": {},
     "output_type": "display_data"
    }
   ],
   "source": [
    "1 / 10^6"
   ]
  },
  {
   "cell_type": "code",
   "execution_count": 22,
   "metadata": {},
   "outputs": [
    {
     "data": {
      "text/html": [
       "1e+06"
      ],
      "text/latex": [
       "1e+06"
      ],
      "text/markdown": [
       "1e+06"
      ],
      "text/plain": [
       "[1] 1e+06"
      ]
     },
     "metadata": {},
     "output_type": "display_data"
    },
    {
     "data": {
      "text/html": [
       "1e+06"
      ],
      "text/latex": [
       "1e+06"
      ],
      "text/markdown": [
       "1e+06"
      ],
      "text/plain": [
       "[1] 1e+06"
      ]
     },
     "metadata": {},
     "output_type": "display_data"
    }
   ],
   "source": [
    "10^6\n",
    "1000000"
   ]
  },
  {
   "cell_type": "code",
   "execution_count": 24,
   "metadata": {},
   "outputs": [
    {
     "data": {
      "text/html": [
       "1e+10"
      ],
      "text/latex": [
       "1e+10"
      ],
      "text/markdown": [
       "1e+10"
      ],
      "text/plain": [
       "[1] 1e+10"
      ]
     },
     "metadata": {},
     "output_type": "display_data"
    }
   ],
   "source": [
    "1e10"
   ]
  },
  {
   "cell_type": "markdown",
   "metadata": {},
   "source": [
    "R solo guarda 17 dígitos: algunos números tienen una representación incompleta"
   ]
  },
  {
   "cell_type": "code",
   "execution_count": 25,
   "metadata": {},
   "outputs": [
    {
     "data": {
      "text/html": [
       "0.666666666666667"
      ],
      "text/latex": [
       "0.666666666666667"
      ],
      "text/markdown": [
       "0.666666666666667"
      ],
      "text/plain": [
       "[1] 0.6666667"
      ]
     },
     "metadata": {},
     "output_type": "display_data"
    }
   ],
   "source": [
    "0.66666666666666668989898"
   ]
  },
  {
   "cell_type": "code",
   "execution_count": 26,
   "metadata": {},
   "outputs": [
    {
     "data": {
      "text/html": [
       "0"
      ],
      "text/latex": [
       "0"
      ],
      "text/markdown": [
       "0"
      ],
      "text/plain": [
       "[1] 0"
      ]
     },
     "metadata": {},
     "output_type": "display_data"
    }
   ],
   "source": [
    "0.6666666666666666645646456546 - 0.66666666666666666"
   ]
  },
  {
   "cell_type": "markdown",
   "metadata": {},
   "source": [
    "Aproximaciones pueden causar problemas: algunas cosas que deberían ser cero se ven de otra manera."
   ]
  },
  {
   "cell_type": "code",
   "execution_count": 30,
   "metadata": {},
   "outputs": [
    {
     "data": {
      "text/html": [
       "1.4142135623731"
      ],
      "text/latex": [
       "1.4142135623731"
      ],
      "text/markdown": [
       "1.4142135623731"
      ],
      "text/plain": [
       "[1] 1.414214"
      ]
     },
     "metadata": {},
     "output_type": "display_data"
    },
    {
     "data": {
      "text/html": [
       "1.4142135623731"
      ],
      "text/latex": [
       "1.4142135623731"
      ],
      "text/markdown": [
       "1.4142135623731"
      ],
      "text/plain": [
       "[1] 1.414214"
      ]
     },
     "metadata": {},
     "output_type": "display_data"
    },
    {
     "data": {
      "text/html": [
       "1.4142135623731"
      ],
      "text/latex": [
       "1.4142135623731"
      ],
      "text/markdown": [
       "1.4142135623731"
      ],
      "text/plain": [
       "[1] 1.414214"
      ]
     },
     "metadata": {},
     "output_type": "display_data"
    }
   ],
   "source": [
    "2**0.5\n",
    "2^0.5\n",
    "2^(1/2)"
   ]
  },
  {
   "cell_type": "code",
   "execution_count": 44,
   "metadata": {},
   "outputs": [
    {
     "data": {
      "text/html": [
       "2.00000000000001"
      ],
      "text/latex": [
       "2.00000000000001"
      ],
      "text/markdown": [
       "2.00000000000001"
      ],
      "text/plain": [
       "[1] 2"
      ]
     },
     "metadata": {},
     "output_type": "display_data"
    },
    {
     "data": {
      "text/html": [
       "-1.4210854715202e-14"
      ],
      "text/latex": [
       "-1.4210854715202e-14"
      ],
      "text/markdown": [
       "-1.4210854715202e-14"
      ],
      "text/plain": [
       "[1] -1.421085e-14"
      ]
     },
     "metadata": {},
     "output_type": "display_data"
    }
   ],
   "source": [
    "1.4142135623731 * 1.4142135623731 \n",
    "\n",
    "2 - 1.4142135623731 * 1.4142135623731 "
   ]
  },
  {
   "cell_type": "markdown",
   "metadata": {},
   "source": [
    "Con los eteros no hay problema:"
   ]
  },
  {
   "cell_type": "code",
   "execution_count": 31,
   "metadata": {},
   "outputs": [
    {
     "data": {
      "text/html": [
       "1.25488794658667e+36"
      ],
      "text/latex": [
       "1.25488794658667e+36"
      ],
      "text/markdown": [
       "1.25488794658667e+36"
      ],
      "text/plain": [
       "[1] 1.254888e+36"
      ]
     },
     "metadata": {},
     "output_type": "display_data"
    }
   ],
   "source": [
    "1254887946586666666666666666665848487"
   ]
  },
  {
   "cell_type": "markdown",
   "metadata": {},
   "source": [
    "## En resumen:\n",
    "\n",
    "int: es un entero de cualquier tamaño.\n",
    "\n",
    "float: es una fracción con tamaño limitado. \n",
    "\n",
    "Por qué se llama así? Luego, tal vez. \n",
    "\n",
    "    Un float puede presentarse en notació a*e^k;\n",
    "    \n",
    "    Solo tiene 16-17 cifras significativas.\n",
    "    \n",
    "\n",
    "Un consejo'(Will Kahan): \n",
    "\n",
    "        Los errores se pueden acumular cuando hacen un montón de operacioes. En esos casos solo usen la mitad de las cifras. "
   ]
  },
  {
   "cell_type": "markdown",
   "metadata": {},
   "source": [
    "# Nombres"
   ]
  },
  {
   "cell_type": "code",
   "execution_count": 33,
   "metadata": {},
   "outputs": [],
   "source": [
    "x = 1"
   ]
  },
  {
   "cell_type": "code",
   "execution_count": 34,
   "metadata": {},
   "outputs": [
    {
     "data": {
      "text/html": [
       "1"
      ],
      "text/latex": [
       "1"
      ],
      "text/markdown": [
       "1"
      ],
      "text/plain": [
       "[1] 1"
      ]
     },
     "metadata": {},
     "output_type": "display_data"
    }
   ],
   "source": [
    "x"
   ]
  },
  {
   "cell_type": "code",
   "execution_count": 36,
   "metadata": {},
   "outputs": [
    {
     "ename": "ERROR",
     "evalue": "Error in parse(text = x, srcfile = src): <text>:3:5: unexpected symbol\n2: \n3: mas de\n       ^\n",
     "output_type": "error",
     "traceback": [
      "Error in parse(text = x, srcfile = src): <text>:3:5: unexpected symbol\n2: \n3: mas de\n       ^\nTraceback:\n"
     ]
    }
   ],
   "source": [
    "# no hay espacios en un nombre\n",
    "\n",
    "mas de 1 = 2 + 3"
   ]
  },
  {
   "cell_type": "code",
   "execution_count": 39,
   "metadata": {
    "collapsed": true
   },
   "outputs": [],
   "source": [
    "mas_de_1 <- 2 + 3\n",
    "masDe1 <- 2 + 3\n",
    "mas.de.1 <- 2 + 3"
   ]
  },
  {
   "cell_type": "code",
   "execution_count": 47,
   "metadata": {},
   "outputs": [],
   "source": [
    "7 + 3 -> mas.de.1"
   ]
  },
  {
   "cell_type": "code",
   "execution_count": 49,
   "metadata": {},
   "outputs": [
    {
     "data": {
      "text/html": [
       "10"
      ],
      "text/latex": [
       "10"
      ],
      "text/markdown": [
       "10"
      ],
      "text/plain": [
       "[1] 10"
      ]
     },
     "metadata": {},
     "output_type": "display_data"
    }
   ],
   "source": [
    "mas.de.1"
   ]
  },
  {
   "cell_type": "code",
   "execution_count": 51,
   "metadata": {
    "collapsed": true
   },
   "outputs": [],
   "source": [
    "7  -> mas.de.1"
   ]
  },
  {
   "cell_type": "code",
   "execution_count": 52,
   "metadata": {},
   "outputs": [
    {
     "data": {
      "text/html": [
       "7"
      ],
      "text/latex": [
       "7"
      ],
      "text/markdown": [
       "7"
      ],
      "text/plain": [
       "[1] 7"
      ]
     },
     "metadata": {},
     "output_type": "display_data"
    }
   ],
   "source": [
    "mas.de.1"
   ]
  },
  {
   "cell_type": "markdown",
   "metadata": {},
   "source": [
    "Relaciona el nombre a una expresión.\n",
    "\n",
    "Cambia el significado de mas_de_1."
   ]
  },
  {
   "cell_type": "code",
   "execution_count": 55,
   "metadata": {},
   "outputs": [],
   "source": [
    "x <- 3\n",
    "y <- x + 7"
   ]
  },
  {
   "cell_type": "code",
   "execution_count": 56,
   "metadata": {},
   "outputs": [
    {
     "data": {
      "text/html": [
       "10"
      ],
      "text/latex": [
       "10"
      ],
      "text/markdown": [
       "10"
      ],
      "text/plain": [
       "[1] 10"
      ]
     },
     "metadata": {},
     "output_type": "display_data"
    }
   ],
   "source": [
    "y"
   ]
  },
  {
   "cell_type": "code",
   "execution_count": 61,
   "metadata": {},
   "outputs": [
    {
     "data": {
      "text/html": [
       "17"
      ],
      "text/latex": [
       "17"
      ],
      "text/markdown": [
       "17"
      ],
      "text/plain": [
       "[1] 17"
      ]
     },
     "metadata": {},
     "output_type": "display_data"
    }
   ],
   "source": [
    "x <- 10\n",
    "y "
   ]
  },
  {
   "cell_type": "markdown",
   "metadata": {},
   "source": [
    "El nombre está relacionado con el primer valor de x NO con la expresión x + 3."
   ]
  },
  {
   "cell_type": "markdown",
   "metadata": {},
   "source": [
    "# Un ejemplo (Crecimiento exponencial)"
   ]
  },
  {
   "cell_type": "markdown",
   "metadata": {},
   "source": [
    "Polación mundial:\n",
    "\n",
    "        https://en.wikipedia.org/wiki/World_population\n",
    "        \n",
    "Qué significa crecimiento exponencial? \n",
    "\n",
    "Tomamos un periodo fijo. La razón después/antes es constante.\n",
    "\n",
    "Un ejercicio: \n",
    "        \n",
    "        (Supongamos que) Amebas hacen mitosis una vez cada hora.\n",
    "        \n",
    "        Si comienzo con una, cuántas hay lueo de t horas? \n",
    "        \n",
    "        2*2* ... *2 = 2^t\n",
    "        \n",
    "        A ver. Al comienzo hay ant = 1, luego de una hora hay desp = 2. \n",
    "        La razón desp/ant = 2.  \n",
    "        \n",
    "\n",
    "Tasa de crecimiento := la razón por unidad de tiempo. \n",
    "\n",
    "                    := (desp / ant) - 1\n",
    "                    \n",
    "                    \n",
    "Obs: \n",
    "    ant y desp están a 1 unidad de tiempo. \n",
    "    \n",
    "    por qué -1? Solo nos interesa el cambio. Para las amebas es  1.\n",
    "    \n",
    "Qué pasa si ant y desp no están a una unidad de tiempo sino a t? \n",
    "    \n",
    "    Usen: (desp/ant)^(1/t) -1 \n",
    "    \n",
    "    Amebas: ant es la población en la primera hora\n",
    "            \n",
    "            desp en la tercera. \n",
    "            \n",
    "            Podemos calcular la razón de cambio? \n",
    "            \n",
    "            (desp/ant)^(1/3) = 2\n",
    "            "
   ]
  },
  {
   "cell_type": "code",
   "execution_count": 62,
   "metadata": {},
   "outputs": [],
   "source": [
    "# Probemos la ecucación en la población mundial:\n",
    "pop_1800 = 1 # en miles de millones. \n",
    "pop_1900 = 1.5"
   ]
  },
  {
   "cell_type": "code",
   "execution_count": 63,
   "metadata": {},
   "outputs": [
    {
     "data": {
      "text/html": [
       "0.5"
      ],
      "text/latex": [
       "0.5"
      ],
      "text/markdown": [
       "0.5"
      ],
      "text/plain": [
       "[1] 0.5"
      ]
     },
     "metadata": {},
     "output_type": "display_data"
    }
   ],
   "source": [
    "crec_cada_100 = pop_1900/pop_1800 - 1\n",
    "crec_cada_100"
   ]
  },
  {
   "cell_type": "code",
   "execution_count": 45,
   "metadata": {},
   "outputs": [
    {
     "data": {
      "text/html": [
       "2.25"
      ],
      "text/latex": [
       "2.25"
      ],
      "text/markdown": [
       "2.25"
      ],
      "text/plain": [
       "[1] 2.25"
      ]
     },
     "metadata": {},
     "output_type": "display_data"
    }
   ],
   "source": [
    "pop_2000 = pop_1900 * (1 + crec_cada_100)\n",
    "pop_2000"
   ]
  },
  {
   "cell_type": "code",
   "execution_count": 4,
   "metadata": {
    "collapsed": true
   },
   "outputs": [],
   "source": [
    "# En realidad pop_2000 = 7. Crecimiento mas rápido que exponencial?"
   ]
  },
  {
   "cell_type": "code",
   "execution_count": 46,
   "metadata": {},
   "outputs": [
    {
     "data": {
      "text/html": [
       "0.00406288229992313"
      ],
      "text/latex": [
       "0.00406288229992313"
      ],
      "text/markdown": [
       "0.00406288229992313"
      ],
      "text/plain": [
       "[1] 0.004062882"
      ]
     },
     "metadata": {},
     "output_type": "display_data"
    }
   ],
   "source": [
    "# Como calcular el crecimiento anual? \n",
    "\n",
    "crec_cada_1 = (pop_1900/pop_1800)^(1/100) - 1\n",
    "crec_cada_1"
   ]
  },
  {
   "cell_type": "markdown",
   "metadata": {},
   "source": [
    "Como se leer ese resultado? \n",
    "\n",
    "Antes de seguir explorando, tenemos que aprender un par de cosas nuevas sobre R."
   ]
  },
  {
   "cell_type": "code",
   "execution_count": 48,
   "metadata": {},
   "outputs": [
    {
     "data": {
      "text/html": [
       "0.0361361720834685"
      ],
      "text/latex": [
       "0.0361361720834685"
      ],
      "text/markdown": [
       "0.0361361720834685"
      ],
      "text/plain": [
       "[1] 0.03613617"
      ]
     },
     "metadata": {},
     "output_type": "display_data"
    }
   ],
   "source": [
    "fed_2002 = 2.37\n",
    "fed_2012 = 3.38\n",
    "\n",
    "g = (fed_2012/fed_2002)^(1/10) - 1 \n",
    "g"
   ]
  },
  {
   "cell_type": "code",
   "execution_count": 73,
   "metadata": {},
   "outputs": [
    {
     "data": {
      "text/html": [
       "0.0361361720834685"
      ],
      "text/latex": [
       "0.0361361720834685"
      ],
      "text/markdown": [
       "0.0361361720834685"
      ],
      "text/plain": [
       "[1] 0.03613617"
      ]
     },
     "metadata": {},
     "output_type": "display_data"
    }
   ],
   "source": [
    "g # crec. anual\n",
    "x <- 2.37 # presp. inicial. "
   ]
  },
  {
   "cell_type": "code",
   "execution_count": 83,
   "metadata": {},
   "outputs": [
    {
     "data": {
      "text/html": [
       "3.38"
      ],
      "text/latex": [
       "3.38"
      ],
      "text/markdown": [
       "3.38"
      ],
      "text/plain": [
       "[1] 3.38"
      ]
     },
     "metadata": {},
     "output_type": "display_data"
    }
   ],
   "source": [
    "# Repetir 10 veces los comandos.  \n",
    "\n",
    "x <- x * (1 + g)\n",
    "x"
   ]
  },
  {
   "cell_type": "code",
   "execution_count": 85,
   "metadata": {},
   "outputs": [
    {
     "data": {
      "text/html": [
       "3.38"
      ],
      "text/latex": [
       "3.38"
      ],
      "text/markdown": [
       "3.38"
      ],
      "text/plain": [
       "[1] 3.38"
      ]
     },
     "metadata": {},
     "output_type": "display_data"
    }
   ],
   "source": [
    "x <- 2.37\n",
    "for(i in 1:10){\n",
    "    x <- x * (1 + g)\n",
    "}\n",
    "x"
   ]
  }
 ],
 "metadata": {
  "anaconda-cloud": {},
  "kernelspec": {
   "display_name": "R 3.3",
   "language": "R",
   "name": "ir33"
  },
  "language_info": {
   "codemirror_mode": "r",
   "file_extension": ".r",
   "mimetype": "text/x-r-source",
   "name": "R",
   "pygments_lexer": "r",
   "version": "3.3.3"
  }
 },
 "nbformat": 4,
 "nbformat_minor": 1
}
