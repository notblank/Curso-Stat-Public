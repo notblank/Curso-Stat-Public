{
 "cells": [
  {
   "cell_type": "markdown",
   "metadata": {},
   "source": [
    "# Prerequisitos (necesitan conexión a internet)\n",
    "\n",
    "Antes de programar necesitan instalar un par de cosas en sus computadoras. \n",
    "\n",
    "\n",
    "Primero la última versión de R estable: \n",
    "\n",
    "    https://www.r-project.org/\n",
    "\n",
    "Luego Anaconda: \n",
    "     \n",
    "    https://anaconda.org/\n",
    "     \n",
    "Por último abran R y copien:\n",
    "\n",
    "    install.packages(c('repr', 'IRdisplay', 'crayon', 'pbdZMQ', 'devtools'))\n",
    "    \n",
    "    devtools::install_github('IRkernel/IRkernel')\n",
    "    \n",
    "    IRkernel::installspec()  \n",
    "    \n",
    "    # in R 3.2\n",
    "    IRkernel::installspec(name = 'ir32', displayname = 'R 3.2')"
   ]
  },
  {
   "cell_type": "markdown",
   "metadata": {},
   "source": [
    "# Como correr un Jupyter NoteBook\n",
    "\n",
    "Abran Anaconda;\n",
    "\n",
    "Click en Jupyter; \n",
    "\n",
    "Nuevo -> R 3.2\n"
   ]
  }
 ],
 "metadata": {
  "kernelspec": {
   "display_name": "R 3.2",
   "language": "R",
   "name": "ir32"
  },
  "language_info": {
   "codemirror_mode": "r",
   "file_extension": ".r",
   "mimetype": "text/x-r-source",
   "name": "R",
   "pygments_lexer": "r",
   "version": "3.3.2"
  }
 },
 "nbformat": 4,
 "nbformat_minor": 1
}
