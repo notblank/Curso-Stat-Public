{
 "cells": [
  {
   "cell_type": "markdown",
   "metadata": {},
   "source": [
    "# Para qué sirve el muestreo? \n",
    "\n",
    "Resolver problemas en proba y stats.\n",
    "    \n",
    "    Proba: si sabes como funciona un proceso aleatorio, qué clase de resultados deberías esperar?\n",
    "    \n",
    "    Stats: tienes algunos resultados, qué tipo de proceso generó esos resultados? qué características tiene?\n",
    "    \n",
    "\n",
    "Muestreo: realciona estad dos nociones. Si sabemos las probas podemos generar datos. Ademas si tenemos datos y sabemos como fueron generados los datos podemos decir cosas sobre el proceso generador. \n",
    "    \n",
    "    \n",
    "Vamos a usar computadoras, mucho. Simplifica mucho la teoría!\n",
    "\n",
    "\n",
    "Sistemático: una de las 10 primeras al azar. Luego tenemos las demás.\n",
    "\n",
    "Uniforme: escogemos cada película con la misma proba. \n",
    "\n",
    "    con reemplazo: tickets con los nombres en una urna. Escoges uno, escribes el nombre y vuelves a poner el papel dentro de la urna.\n",
    "    Sin Reemplazo: Escoges un ticket y lo descartas. \n"
   ]
  },
  {
   "cell_type": "code",
   "execution_count": 1,
   "metadata": {},
   "outputs": [
    {
     "name": "stderr",
     "output_type": "stream",
     "text": [
      "\n",
      "Attaching package: ‘dplyr’\n",
      "\n",
      "The following objects are masked from ‘package:stats’:\n",
      "\n",
      "    filter, lag\n",
      "\n",
      "The following objects are masked from ‘package:base’:\n",
      "\n",
      "    intersect, setdiff, setequal, union\n",
      "\n"
     ]
    }
   ],
   "source": [
    "library(ggplot2)\n",
    "library(ggplot2movies)\n",
    "library(dplyr)"
   ]
  },
  {
   "cell_type": "code",
   "execution_count": 2,
   "metadata": {},
   "outputs": [
    {
     "data": {
      "text/html": [
       "<style>\n",
       ".list-inline {list-style: none; margin:0; padding: 0}\n",
       ".list-inline>li {display: inline-block}\n",
       ".list-inline>li:not(:last-child)::after {content: \"\\00b7\"; padding: 0 .5ex}\n",
       "</style>\n",
       "<ol class=list-inline><li>2</li><li>56</li></ol>\n"
      ],
      "text/latex": [
       "\\begin{enumerate*}\n",
       "\\item 2\n",
       "\\item 56\n",
       "\\end{enumerate*}\n"
      ],
      "text/markdown": [
       "1. 2\n",
       "2. 56\n",
       "\n",
       "\n"
      ],
      "text/plain": [
       "[1]  2 56"
      ]
     },
     "metadata": {},
     "output_type": "display_data"
    }
   ],
   "source": [
    "sample(c(1,2,45,889,56,97,4), size = 2)"
   ]
  },
  {
   "cell_type": "code",
   "execution_count": 3,
   "metadata": {},
   "outputs": [
    {
     "data": {
      "text/html": [
       "<style>\n",
       ".list-inline {list-style: none; margin:0; padding: 0}\n",
       ".list-inline>li {display: inline-block}\n",
       ".list-inline>li:not(:last-child)::after {content: \"\\00b7\"; padding: 0 .5ex}\n",
       "</style>\n",
       "<ol class=list-inline><li>22</li><li>45</li><li>31</li><li>4</li><li>27</li><li>22</li><li>32</li><li>3</li><li>11</li><li>18</li><li>16</li><li>26</li><li>42</li><li>9</li><li>18</li><li>1</li><li>6</li><li>1</li><li>26</li><li>25</li></ol>\n"
      ],
      "text/latex": [
       "\\begin{enumerate*}\n",
       "\\item 22\n",
       "\\item 45\n",
       "\\item 31\n",
       "\\item 4\n",
       "\\item 27\n",
       "\\item 22\n",
       "\\item 32\n",
       "\\item 3\n",
       "\\item 11\n",
       "\\item 18\n",
       "\\item 16\n",
       "\\item 26\n",
       "\\item 42\n",
       "\\item 9\n",
       "\\item 18\n",
       "\\item 1\n",
       "\\item 6\n",
       "\\item 1\n",
       "\\item 26\n",
       "\\item 25\n",
       "\\end{enumerate*}\n"
      ],
      "text/markdown": [
       "1. 22\n",
       "2. 45\n",
       "3. 31\n",
       "4. 4\n",
       "5. 27\n",
       "6. 22\n",
       "7. 32\n",
       "8. 3\n",
       "9. 11\n",
       "10. 18\n",
       "11. 16\n",
       "12. 26\n",
       "13. 42\n",
       "14. 9\n",
       "15. 18\n",
       "16. 1\n",
       "17. 6\n",
       "18. 1\n",
       "19. 26\n",
       "20. 25\n",
       "\n",
       "\n"
      ],
      "text/plain": [
       " [1] 22 45 31  4 27 22 32  3 11 18 16 26 42  9 18  1  6  1 26 25"
      ]
     },
     "metadata": {},
     "output_type": "display_data"
    },
    {
     "data": {
      "text/html": [
       "<style>\n",
       ".list-inline {list-style: none; margin:0; padding: 0}\n",
       ".list-inline>li {display: inline-block}\n",
       ".list-inline>li:not(:last-child)::after {content: \"\\00b7\"; padding: 0 .5ex}\n",
       "</style>\n",
       "<ol class=list-inline><li>1</li><li>1</li><li>3</li><li>4</li><li>6</li><li>9</li><li>11</li><li>16</li><li>18</li><li>18</li><li>22</li><li>22</li><li>25</li><li>26</li><li>26</li><li>27</li><li>31</li><li>32</li><li>42</li><li>45</li></ol>\n"
      ],
      "text/latex": [
       "\\begin{enumerate*}\n",
       "\\item 1\n",
       "\\item 1\n",
       "\\item 3\n",
       "\\item 4\n",
       "\\item 6\n",
       "\\item 9\n",
       "\\item 11\n",
       "\\item 16\n",
       "\\item 18\n",
       "\\item 18\n",
       "\\item 22\n",
       "\\item 22\n",
       "\\item 25\n",
       "\\item 26\n",
       "\\item 26\n",
       "\\item 27\n",
       "\\item 31\n",
       "\\item 32\n",
       "\\item 42\n",
       "\\item 45\n",
       "\\end{enumerate*}\n"
      ],
      "text/markdown": [
       "1. 1\n",
       "2. 1\n",
       "3. 3\n",
       "4. 4\n",
       "5. 6\n",
       "6. 9\n",
       "7. 11\n",
       "8. 16\n",
       "9. 18\n",
       "10. 18\n",
       "11. 22\n",
       "12. 22\n",
       "13. 25\n",
       "14. 26\n",
       "15. 26\n",
       "16. 27\n",
       "17. 31\n",
       "18. 32\n",
       "19. 42\n",
       "20. 45\n",
       "\n",
       "\n"
      ],
      "text/plain": [
       " [1]  1  1  3  4  6  9 11 16 18 18 22 22 25 26 26 27 31 32 42 45"
      ]
     },
     "metadata": {},
     "output_type": "display_data"
    },
    {
     "data": {
      "text/html": [
       "<table>\n",
       "<caption>A tibble: 20 × 24</caption>\n",
       "<thead>\n",
       "\t<tr><th scope=col>title</th><th scope=col>year</th><th scope=col>length</th><th scope=col>budget</th><th scope=col>rating</th><th scope=col>votes</th><th scope=col>r1</th><th scope=col>r2</th><th scope=col>r3</th><th scope=col>r4</th><th scope=col>⋯</th><th scope=col>r9</th><th scope=col>r10</th><th scope=col>mpaa</th><th scope=col>Action</th><th scope=col>Animation</th><th scope=col>Comedy</th><th scope=col>Drama</th><th scope=col>Documentary</th><th scope=col>Romance</th><th scope=col>Short</th></tr>\n",
       "\t<tr><th scope=col>&lt;chr&gt;</th><th scope=col>&lt;int&gt;</th><th scope=col>&lt;int&gt;</th><th scope=col>&lt;int&gt;</th><th scope=col>&lt;dbl&gt;</th><th scope=col>&lt;int&gt;</th><th scope=col>&lt;dbl&gt;</th><th scope=col>&lt;dbl&gt;</th><th scope=col>&lt;dbl&gt;</th><th scope=col>&lt;dbl&gt;</th><th scope=col>⋯</th><th scope=col>&lt;dbl&gt;</th><th scope=col>&lt;dbl&gt;</th><th scope=col>&lt;chr&gt;</th><th scope=col>&lt;int&gt;</th><th scope=col>&lt;int&gt;</th><th scope=col>&lt;int&gt;</th><th scope=col>&lt;int&gt;</th><th scope=col>&lt;int&gt;</th><th scope=col>&lt;int&gt;</th><th scope=col>&lt;int&gt;</th></tr>\n",
       "</thead>\n",
       "<tbody>\n",
       "\t<tr><td>'High Sign', The                                </td><td>1921</td><td> 18</td><td>    NA</td><td>7.8</td><td>145</td><td> 0.0</td><td>0.0</td><td>4.5</td><td> 0.0</td><td>⋯</td><td>24.5</td><td>14.5</td><td>     </td><td>0</td><td>0</td><td>1</td><td>0</td><td>0</td><td>0</td><td>1</td></tr>\n",
       "\t<tr><td>'G' Men                                         </td><td>1935</td><td> 85</td><td>450000</td><td>7.2</td><td>281</td><td> 0.0</td><td>4.5</td><td>4.5</td><td> 4.5</td><td>⋯</td><td> 4.5</td><td> 4.5</td><td>     </td><td>0</td><td>0</td><td>0</td><td>1</td><td>0</td><td>0</td><td>0</td></tr>\n",
       "\t<tr><td>'Hyp-Nut-Tist', The                             </td><td>1935</td><td>  6</td><td>    NA</td><td>6.2</td><td> 18</td><td> 4.5</td><td>0.0</td><td>0.0</td><td>24.5</td><td>⋯</td><td>14.5</td><td> 0.0</td><td>     </td><td>0</td><td>1</td><td>1</td><td>0</td><td>0</td><td>0</td><td>1</td></tr>\n",
       "\t<tr><td>'G' Men                                         </td><td>1935</td><td> 85</td><td>450000</td><td>7.2</td><td>281</td><td> 0.0</td><td>4.5</td><td>4.5</td><td> 4.5</td><td>⋯</td><td> 4.5</td><td> 4.5</td><td>     </td><td>0</td><td>0</td><td>0</td><td>1</td><td>0</td><td>0</td><td>0</td></tr>\n",
       "\t<tr><td>$21 a Day Once a Month                          </td><td>1941</td><td>  7</td><td>    NA</td><td>8.2</td><td>  5</td><td> 0.0</td><td>0.0</td><td>0.0</td><td> 0.0</td><td>⋯</td><td>24.5</td><td>24.5</td><td>     </td><td>0</td><td>1</td><td>0</td><td>0</td><td>0</td><td>0</td><td>1</td></tr>\n",
       "\t<tr><td>'Pimpernel' Smith                               </td><td>1941</td><td>120</td><td>    NA</td><td>7.2</td><td>139</td><td> 4.5</td><td>4.5</td><td>4.5</td><td> 4.5</td><td>⋯</td><td>14.5</td><td>24.5</td><td>     </td><td>0</td><td>0</td><td>0</td><td>1</td><td>0</td><td>0</td><td>0</td></tr>\n",
       "\t<tr><td>'Bullitt': Steve McQueen's Commitment to Reality</td><td>1968</td><td> 10</td><td>    NA</td><td>6.6</td><td> 37</td><td> 0.0</td><td>0.0</td><td>4.5</td><td> 4.5</td><td>⋯</td><td> 4.5</td><td> 4.5</td><td>     </td><td>0</td><td>0</td><td>0</td><td>0</td><td>1</td><td>0</td><td>1</td></tr>\n",
       "\t<tr><td>'Bullitt': Steve McQueen's Commitment to Reality</td><td>1968</td><td> 10</td><td>    NA</td><td>6.6</td><td> 37</td><td> 0.0</td><td>0.0</td><td>4.5</td><td> 4.5</td><td>⋯</td><td> 4.5</td><td> 4.5</td><td>     </td><td>0</td><td>0</td><td>0</td><td>0</td><td>1</td><td>0</td><td>1</td></tr>\n",
       "\t<tr><td>$                                               </td><td>1971</td><td>121</td><td>    NA</td><td>6.4</td><td>348</td><td> 4.5</td><td>4.5</td><td>4.5</td><td> 4.5</td><td>⋯</td><td> 4.5</td><td> 4.5</td><td>     </td><td>0</td><td>0</td><td>1</td><td>1</td><td>0</td><td>0</td><td>0</td></tr>\n",
       "\t<tr><td>$                                               </td><td>1971</td><td>121</td><td>    NA</td><td>6.4</td><td>348</td><td> 4.5</td><td>4.5</td><td>4.5</td><td> 4.5</td><td>⋯</td><td> 4.5</td><td> 4.5</td><td>     </td><td>0</td><td>0</td><td>1</td><td>1</td><td>0</td><td>0</td><td>0</td></tr>\n",
       "\t<tr><td>'Sheba, Baby'                                   </td><td>1975</td><td> 90</td><td>    NA</td><td>5.5</td><td> 91</td><td> 4.5</td><td>4.5</td><td>4.5</td><td>14.5</td><td>⋯</td><td> 4.5</td><td> 4.5</td><td>     </td><td>1</td><td>0</td><td>0</td><td>1</td><td>0</td><td>0</td><td>0</td></tr>\n",
       "\t<tr><td>'Hukkunud Alpinisti' hotell                     </td><td>1979</td><td> 80</td><td>    NA</td><td>7.7</td><td> 45</td><td> 4.5</td><td>0.0</td><td>4.5</td><td> 4.5</td><td>⋯</td><td>14.5</td><td>34.5</td><td>     </td><td>0</td><td>0</td><td>0</td><td>0</td><td>0</td><td>0</td><td>0</td></tr>\n",
       "\t<tr><td>'Hukkunud Alpinisti' hotell                     </td><td>1979</td><td> 80</td><td>    NA</td><td>7.7</td><td> 45</td><td> 4.5</td><td>0.0</td><td>4.5</td><td> 4.5</td><td>⋯</td><td>14.5</td><td>34.5</td><td>     </td><td>0</td><td>0</td><td>0</td><td>0</td><td>0</td><td>0</td><td>0</td></tr>\n",
       "\t<tr><td>'Je vous salue, Marie'                          </td><td>1985</td><td>105</td><td>    NA</td><td>6.4</td><td>322</td><td> 4.5</td><td>4.5</td><td>4.5</td><td> 4.5</td><td>⋯</td><td>14.5</td><td>14.5</td><td>     </td><td>0</td><td>0</td><td>0</td><td>1</td><td>0</td><td>0</td><td>0</td></tr>\n",
       "\t<tr><td>'Kaash'                                         </td><td>1987</td><td>140</td><td>    NA</td><td>5.9</td><td> 13</td><td> 4.5</td><td>4.5</td><td>0.0</td><td> 0.0</td><td>⋯</td><td> 0.0</td><td>14.5</td><td>     </td><td>0</td><td>0</td><td>0</td><td>1</td><td>0</td><td>0</td><td>0</td></tr>\n",
       "\t<tr><td>'A' gai waak juk jaap                           </td><td>1987</td><td>101</td><td>    NA</td><td>7.2</td><td>614</td><td> 4.5</td><td>4.5</td><td>4.5</td><td> 4.5</td><td>⋯</td><td>14.5</td><td>14.5</td><td>PG-13</td><td>1</td><td>0</td><td>1</td><td>0</td><td>0</td><td>0</td><td>0</td></tr>\n",
       "\t<tr><td>'38                                             </td><td>1987</td><td> 97</td><td>    NA</td><td>6.6</td><td> 18</td><td> 4.5</td><td>4.5</td><td>4.5</td><td> 0.0</td><td>⋯</td><td> 4.5</td><td>24.5</td><td>     </td><td>0</td><td>0</td><td>0</td><td>1</td><td>0</td><td>0</td><td>0</td></tr>\n",
       "\t<tr><td>'68                                             </td><td>1988</td><td> 99</td><td>    NA</td><td>5.4</td><td> 23</td><td> 4.5</td><td>0.0</td><td>4.5</td><td>14.5</td><td>⋯</td><td>14.5</td><td> 4.5</td><td>     </td><td>0</td><td>0</td><td>0</td><td>1</td><td>0</td><td>0</td><td>0</td></tr>\n",
       "\t<tr><td>$40,000                                         </td><td>1996</td><td> 70</td><td>    NA</td><td>8.2</td><td>  6</td><td>14.5</td><td>0.0</td><td>0.0</td><td> 0.0</td><td>⋯</td><td>34.5</td><td>45.5</td><td>     </td><td>0</td><td>0</td><td>1</td><td>0</td><td>0</td><td>0</td><td>0</td></tr>\n",
       "\t<tr><td>$pent                                           </td><td>2000</td><td> 91</td><td>    NA</td><td>4.3</td><td> 45</td><td> 4.5</td><td>4.5</td><td>4.5</td><td>14.5</td><td>⋯</td><td>14.5</td><td>14.5</td><td>     </td><td>0</td><td>0</td><td>0</td><td>1</td><td>0</td><td>0</td><td>0</td></tr>\n",
       "</tbody>\n",
       "</table>\n"
      ],
      "text/latex": [
       "A tibble: 20 × 24\n",
       "\\begin{tabular}{lllllllllllllllllllll}\n",
       " title & year & length & budget & rating & votes & r1 & r2 & r3 & r4 & ⋯ & r9 & r10 & mpaa & Action & Animation & Comedy & Drama & Documentary & Romance & Short\\\\\n",
       " <chr> & <int> & <int> & <int> & <dbl> & <int> & <dbl> & <dbl> & <dbl> & <dbl> & ⋯ & <dbl> & <dbl> & <chr> & <int> & <int> & <int> & <int> & <int> & <int> & <int>\\\\\n",
       "\\hline\n",
       "\t 'High Sign', The                                 & 1921 &  18 &     NA & 7.8 & 145 &  0.0 & 0.0 & 4.5 &  0.0 & ⋯ & 24.5 & 14.5 &       & 0 & 0 & 1 & 0 & 0 & 0 & 1\\\\\n",
       "\t 'G' Men                                          & 1935 &  85 & 450000 & 7.2 & 281 &  0.0 & 4.5 & 4.5 &  4.5 & ⋯ &  4.5 &  4.5 &       & 0 & 0 & 0 & 1 & 0 & 0 & 0\\\\\n",
       "\t 'Hyp-Nut-Tist', The                              & 1935 &   6 &     NA & 6.2 &  18 &  4.5 & 0.0 & 0.0 & 24.5 & ⋯ & 14.5 &  0.0 &       & 0 & 1 & 1 & 0 & 0 & 0 & 1\\\\\n",
       "\t 'G' Men                                          & 1935 &  85 & 450000 & 7.2 & 281 &  0.0 & 4.5 & 4.5 &  4.5 & ⋯ &  4.5 &  4.5 &       & 0 & 0 & 0 & 1 & 0 & 0 & 0\\\\\n",
       "\t \\$21 a Day Once a Month                           & 1941 &   7 &     NA & 8.2 &   5 &  0.0 & 0.0 & 0.0 &  0.0 & ⋯ & 24.5 & 24.5 &       & 0 & 1 & 0 & 0 & 0 & 0 & 1\\\\\n",
       "\t 'Pimpernel' Smith                                & 1941 & 120 &     NA & 7.2 & 139 &  4.5 & 4.5 & 4.5 &  4.5 & ⋯ & 14.5 & 24.5 &       & 0 & 0 & 0 & 1 & 0 & 0 & 0\\\\\n",
       "\t 'Bullitt': Steve McQueen's Commitment to Reality & 1968 &  10 &     NA & 6.6 &  37 &  0.0 & 0.0 & 4.5 &  4.5 & ⋯ &  4.5 &  4.5 &       & 0 & 0 & 0 & 0 & 1 & 0 & 1\\\\\n",
       "\t 'Bullitt': Steve McQueen's Commitment to Reality & 1968 &  10 &     NA & 6.6 &  37 &  0.0 & 0.0 & 4.5 &  4.5 & ⋯ &  4.5 &  4.5 &       & 0 & 0 & 0 & 0 & 1 & 0 & 1\\\\\n",
       "\t \\$                                                & 1971 & 121 &     NA & 6.4 & 348 &  4.5 & 4.5 & 4.5 &  4.5 & ⋯ &  4.5 &  4.5 &       & 0 & 0 & 1 & 1 & 0 & 0 & 0\\\\\n",
       "\t \\$                                                & 1971 & 121 &     NA & 6.4 & 348 &  4.5 & 4.5 & 4.5 &  4.5 & ⋯ &  4.5 &  4.5 &       & 0 & 0 & 1 & 1 & 0 & 0 & 0\\\\\n",
       "\t 'Sheba, Baby'                                    & 1975 &  90 &     NA & 5.5 &  91 &  4.5 & 4.5 & 4.5 & 14.5 & ⋯ &  4.5 &  4.5 &       & 1 & 0 & 0 & 1 & 0 & 0 & 0\\\\\n",
       "\t 'Hukkunud Alpinisti' hotell                      & 1979 &  80 &     NA & 7.7 &  45 &  4.5 & 0.0 & 4.5 &  4.5 & ⋯ & 14.5 & 34.5 &       & 0 & 0 & 0 & 0 & 0 & 0 & 0\\\\\n",
       "\t 'Hukkunud Alpinisti' hotell                      & 1979 &  80 &     NA & 7.7 &  45 &  4.5 & 0.0 & 4.5 &  4.5 & ⋯ & 14.5 & 34.5 &       & 0 & 0 & 0 & 0 & 0 & 0 & 0\\\\\n",
       "\t 'Je vous salue, Marie'                           & 1985 & 105 &     NA & 6.4 & 322 &  4.5 & 4.5 & 4.5 &  4.5 & ⋯ & 14.5 & 14.5 &       & 0 & 0 & 0 & 1 & 0 & 0 & 0\\\\\n",
       "\t 'Kaash'                                          & 1987 & 140 &     NA & 5.9 &  13 &  4.5 & 4.5 & 0.0 &  0.0 & ⋯ &  0.0 & 14.5 &       & 0 & 0 & 0 & 1 & 0 & 0 & 0\\\\\n",
       "\t 'A' gai waak juk jaap                            & 1987 & 101 &     NA & 7.2 & 614 &  4.5 & 4.5 & 4.5 &  4.5 & ⋯ & 14.5 & 14.5 & PG-13 & 1 & 0 & 1 & 0 & 0 & 0 & 0\\\\\n",
       "\t '38                                              & 1987 &  97 &     NA & 6.6 &  18 &  4.5 & 4.5 & 4.5 &  0.0 & ⋯ &  4.5 & 24.5 &       & 0 & 0 & 0 & 1 & 0 & 0 & 0\\\\\n",
       "\t '68                                              & 1988 &  99 &     NA & 5.4 &  23 &  4.5 & 0.0 & 4.5 & 14.5 & ⋯ & 14.5 &  4.5 &       & 0 & 0 & 0 & 1 & 0 & 0 & 0\\\\\n",
       "\t \\$40,000                                          & 1996 &  70 &     NA & 8.2 &   6 & 14.5 & 0.0 & 0.0 &  0.0 & ⋯ & 34.5 & 45.5 &       & 0 & 0 & 1 & 0 & 0 & 0 & 0\\\\\n",
       "\t \\$pent                                            & 2000 &  91 &     NA & 4.3 &  45 &  4.5 & 4.5 & 4.5 & 14.5 & ⋯ & 14.5 & 14.5 &       & 0 & 0 & 0 & 1 & 0 & 0 & 0\\\\\n",
       "\\end{tabular}\n"
      ],
      "text/markdown": [
       "\n",
       "A tibble: 20 × 24\n",
       "\n",
       "| title &lt;chr&gt; | year &lt;int&gt; | length &lt;int&gt; | budget &lt;int&gt; | rating &lt;dbl&gt; | votes &lt;int&gt; | r1 &lt;dbl&gt; | r2 &lt;dbl&gt; | r3 &lt;dbl&gt; | r4 &lt;dbl&gt; | ⋯ ⋯ | r9 &lt;dbl&gt; | r10 &lt;dbl&gt; | mpaa &lt;chr&gt; | Action &lt;int&gt; | Animation &lt;int&gt; | Comedy &lt;int&gt; | Drama &lt;int&gt; | Documentary &lt;int&gt; | Romance &lt;int&gt; | Short &lt;int&gt; |\n",
       "|---|---|---|---|---|---|---|---|---|---|---|---|---|---|---|---|---|---|---|---|---|\n",
       "| 'High Sign', The                                 | 1921 |  18 |     NA | 7.8 | 145 |  0.0 | 0.0 | 4.5 |  0.0 | ⋯ | 24.5 | 14.5 | <!----> | 0 | 0 | 1 | 0 | 0 | 0 | 1 |\n",
       "| 'G' Men                                          | 1935 |  85 | 450000 | 7.2 | 281 |  0.0 | 4.5 | 4.5 |  4.5 | ⋯ |  4.5 |  4.5 | <!----> | 0 | 0 | 0 | 1 | 0 | 0 | 0 |\n",
       "| 'Hyp-Nut-Tist', The                              | 1935 |   6 |     NA | 6.2 |  18 |  4.5 | 0.0 | 0.0 | 24.5 | ⋯ | 14.5 |  0.0 | <!----> | 0 | 1 | 1 | 0 | 0 | 0 | 1 |\n",
       "| 'G' Men                                          | 1935 |  85 | 450000 | 7.2 | 281 |  0.0 | 4.5 | 4.5 |  4.5 | ⋯ |  4.5 |  4.5 | <!----> | 0 | 0 | 0 | 1 | 0 | 0 | 0 |\n",
       "| $21 a Day Once a Month                           | 1941 |   7 |     NA | 8.2 |   5 |  0.0 | 0.0 | 0.0 |  0.0 | ⋯ | 24.5 | 24.5 | <!----> | 0 | 1 | 0 | 0 | 0 | 0 | 1 |\n",
       "| 'Pimpernel' Smith                                | 1941 | 120 |     NA | 7.2 | 139 |  4.5 | 4.5 | 4.5 |  4.5 | ⋯ | 14.5 | 24.5 | <!----> | 0 | 0 | 0 | 1 | 0 | 0 | 0 |\n",
       "| 'Bullitt': Steve McQueen's Commitment to Reality | 1968 |  10 |     NA | 6.6 |  37 |  0.0 | 0.0 | 4.5 |  4.5 | ⋯ |  4.5 |  4.5 | <!----> | 0 | 0 | 0 | 0 | 1 | 0 | 1 |\n",
       "| 'Bullitt': Steve McQueen's Commitment to Reality | 1968 |  10 |     NA | 6.6 |  37 |  0.0 | 0.0 | 4.5 |  4.5 | ⋯ |  4.5 |  4.5 | <!----> | 0 | 0 | 0 | 0 | 1 | 0 | 1 |\n",
       "| $                                                | 1971 | 121 |     NA | 6.4 | 348 |  4.5 | 4.5 | 4.5 |  4.5 | ⋯ |  4.5 |  4.5 | <!----> | 0 | 0 | 1 | 1 | 0 | 0 | 0 |\n",
       "| $                                                | 1971 | 121 |     NA | 6.4 | 348 |  4.5 | 4.5 | 4.5 |  4.5 | ⋯ |  4.5 |  4.5 | <!----> | 0 | 0 | 1 | 1 | 0 | 0 | 0 |\n",
       "| 'Sheba, Baby'                                    | 1975 |  90 |     NA | 5.5 |  91 |  4.5 | 4.5 | 4.5 | 14.5 | ⋯ |  4.5 |  4.5 | <!----> | 1 | 0 | 0 | 1 | 0 | 0 | 0 |\n",
       "| 'Hukkunud Alpinisti' hotell                      | 1979 |  80 |     NA | 7.7 |  45 |  4.5 | 0.0 | 4.5 |  4.5 | ⋯ | 14.5 | 34.5 | <!----> | 0 | 0 | 0 | 0 | 0 | 0 | 0 |\n",
       "| 'Hukkunud Alpinisti' hotell                      | 1979 |  80 |     NA | 7.7 |  45 |  4.5 | 0.0 | 4.5 |  4.5 | ⋯ | 14.5 | 34.5 | <!----> | 0 | 0 | 0 | 0 | 0 | 0 | 0 |\n",
       "| 'Je vous salue, Marie'                           | 1985 | 105 |     NA | 6.4 | 322 |  4.5 | 4.5 | 4.5 |  4.5 | ⋯ | 14.5 | 14.5 | <!----> | 0 | 0 | 0 | 1 | 0 | 0 | 0 |\n",
       "| 'Kaash'                                          | 1987 | 140 |     NA | 5.9 |  13 |  4.5 | 4.5 | 0.0 |  0.0 | ⋯ |  0.0 | 14.5 | <!----> | 0 | 0 | 0 | 1 | 0 | 0 | 0 |\n",
       "| 'A' gai waak juk jaap                            | 1987 | 101 |     NA | 7.2 | 614 |  4.5 | 4.5 | 4.5 |  4.5 | ⋯ | 14.5 | 14.5 | PG-13 | 1 | 0 | 1 | 0 | 0 | 0 | 0 |\n",
       "| '38                                              | 1987 |  97 |     NA | 6.6 |  18 |  4.5 | 4.5 | 4.5 |  0.0 | ⋯ |  4.5 | 24.5 | <!----> | 0 | 0 | 0 | 1 | 0 | 0 | 0 |\n",
       "| '68                                              | 1988 |  99 |     NA | 5.4 |  23 |  4.5 | 0.0 | 4.5 | 14.5 | ⋯ | 14.5 |  4.5 | <!----> | 0 | 0 | 0 | 1 | 0 | 0 | 0 |\n",
       "| $40,000                                          | 1996 |  70 |     NA | 8.2 |   6 | 14.5 | 0.0 | 0.0 |  0.0 | ⋯ | 34.5 | 45.5 | <!----> | 0 | 0 | 1 | 0 | 0 | 0 | 0 |\n",
       "| $pent                                            | 2000 |  91 |     NA | 4.3 |  45 |  4.5 | 4.5 | 4.5 | 14.5 | ⋯ | 14.5 | 14.5 | <!----> | 0 | 0 | 0 | 1 | 0 | 0 | 0 |\n",
       "\n"
      ],
      "text/plain": [
       "   title                                            year length budget rating\n",
       "1  'High Sign', The                                 1921  18        NA 7.8   \n",
       "2  'G' Men                                          1935  85    450000 7.2   \n",
       "3  'Hyp-Nut-Tist', The                              1935   6        NA 6.2   \n",
       "4  'G' Men                                          1935  85    450000 7.2   \n",
       "5  $21 a Day Once a Month                           1941   7        NA 8.2   \n",
       "6  'Pimpernel' Smith                                1941 120        NA 7.2   \n",
       "7  'Bullitt': Steve McQueen's Commitment to Reality 1968  10        NA 6.6   \n",
       "8  'Bullitt': Steve McQueen's Commitment to Reality 1968  10        NA 6.6   \n",
       "9  $                                                1971 121        NA 6.4   \n",
       "10 $                                                1971 121        NA 6.4   \n",
       "11 'Sheba, Baby'                                    1975  90        NA 5.5   \n",
       "12 'Hukkunud Alpinisti' hotell                      1979  80        NA 7.7   \n",
       "13 'Hukkunud Alpinisti' hotell                      1979  80        NA 7.7   \n",
       "14 'Je vous salue, Marie'                           1985 105        NA 6.4   \n",
       "15 'Kaash'                                          1987 140        NA 5.9   \n",
       "16 'A' gai waak juk jaap                            1987 101        NA 7.2   \n",
       "17 '38                                              1987  97        NA 6.6   \n",
       "18 '68                                              1988  99        NA 5.4   \n",
       "19 $40,000                                          1996  70        NA 8.2   \n",
       "20 $pent                                            2000  91        NA 4.3   \n",
       "   votes r1   r2  r3  r4   ⋯ r9   r10  mpaa  Action Animation Comedy Drama\n",
       "1  145    0.0 0.0 4.5  0.0 ⋯ 24.5 14.5       0      0         1      0    \n",
       "2  281    0.0 4.5 4.5  4.5 ⋯  4.5  4.5       0      0         0      1    \n",
       "3   18    4.5 0.0 0.0 24.5 ⋯ 14.5  0.0       0      1         1      0    \n",
       "4  281    0.0 4.5 4.5  4.5 ⋯  4.5  4.5       0      0         0      1    \n",
       "5    5    0.0 0.0 0.0  0.0 ⋯ 24.5 24.5       0      1         0      0    \n",
       "6  139    4.5 4.5 4.5  4.5 ⋯ 14.5 24.5       0      0         0      1    \n",
       "7   37    0.0 0.0 4.5  4.5 ⋯  4.5  4.5       0      0         0      0    \n",
       "8   37    0.0 0.0 4.5  4.5 ⋯  4.5  4.5       0      0         0      0    \n",
       "9  348    4.5 4.5 4.5  4.5 ⋯  4.5  4.5       0      0         1      1    \n",
       "10 348    4.5 4.5 4.5  4.5 ⋯  4.5  4.5       0      0         1      1    \n",
       "11  91    4.5 4.5 4.5 14.5 ⋯  4.5  4.5       1      0         0      1    \n",
       "12  45    4.5 0.0 4.5  4.5 ⋯ 14.5 34.5       0      0         0      0    \n",
       "13  45    4.5 0.0 4.5  4.5 ⋯ 14.5 34.5       0      0         0      0    \n",
       "14 322    4.5 4.5 4.5  4.5 ⋯ 14.5 14.5       0      0         0      1    \n",
       "15  13    4.5 4.5 0.0  0.0 ⋯  0.0 14.5       0      0         0      1    \n",
       "16 614    4.5 4.5 4.5  4.5 ⋯ 14.5 14.5 PG-13 1      0         1      0    \n",
       "17  18    4.5 4.5 4.5  0.0 ⋯  4.5 24.5       0      0         0      1    \n",
       "18  23    4.5 0.0 4.5 14.5 ⋯ 14.5  4.5       0      0         0      1    \n",
       "19   6   14.5 0.0 0.0  0.0 ⋯ 34.5 45.5       0      0         1      0    \n",
       "20  45    4.5 4.5 4.5 14.5 ⋯ 14.5 14.5       0      0         0      1    \n",
       "   Documentary Romance Short\n",
       "1  0           0       1    \n",
       "2  0           0       0    \n",
       "3  0           0       1    \n",
       "4  0           0       0    \n",
       "5  0           0       1    \n",
       "6  0           0       0    \n",
       "7  1           0       1    \n",
       "8  1           0       1    \n",
       "9  0           0       0    \n",
       "10 0           0       0    \n",
       "11 0           0       0    \n",
       "12 0           0       0    \n",
       "13 0           0       0    \n",
       "14 0           0       0    \n",
       "15 0           0       0    \n",
       "16 0           0       0    \n",
       "17 0           0       0    \n",
       "18 0           0       0    \n",
       "19 0           0       0    \n",
       "20 0           0       0    "
      ]
     },
     "metadata": {},
     "output_type": "display_data"
    }
   ],
   "source": [
    "randIndex <- sample(x = 1:50, size = 20, replace = TRUE)\n",
    "\n",
    "randIndex\n",
    "sort(randIndex)\n",
    "\n",
    "movies %>% slice(randIndex) %>% arrange(year)\n",
    "\n",
    "# Lo mismo que el problema del cumpleaños."
   ]
  },
  {
   "cell_type": "markdown",
   "metadata": {},
   "source": [
    "## Proba de que '68 salga en un muestreo de 2 películas con reempazo y sin?\n",
    "\n",
    "P('68 en el primer intento) = 1/200\n",
    "\n",
    "P('68 en el segundo intento) = 199/200 * 1/200\n",
    "\n",
    "P('68 en el primer intento y '68 en el segundo intento) = 0\n",
    "\n",
    "P('68 en el primer intento o '68 en el segundo intento SR) = 1/200 + 1/200 * 1/200\n",
    "\n",
    "P('68 en el primer intento o '68 en el segundo intento CR) = 1/200 + 199/200 * 1/200\n",
    "\n",
    "    1/200\n",
    "\n",
    "    199/200 -> 1/200\n",
    "            -> 199/200  \n",
    "            \n",
    "            \n",
    "    1/200\n",
    "\n",
    "    199/200 -> 1/199\n",
    "            -> 199/199"
   ]
  },
  {
   "cell_type": "markdown",
   "metadata": {},
   "source": [
    "## Distribuciones\n",
    "\n",
    "Cómo vamos a describir el comportamiento de un dado? \n"
   ]
  },
  {
   "cell_type": "code",
   "execution_count": 4,
   "metadata": {},
   "outputs": [
    {
     "data": {
      "text/html": [
       "<table>\n",
       "<caption>A data.frame: 6 × 1</caption>\n",
       "<thead>\n",
       "\t<tr><th scope=col>Caras</th></tr>\n",
       "\t<tr><th scope=col>&lt;int&gt;</th></tr>\n",
       "</thead>\n",
       "<tbody>\n",
       "\t<tr><td>1</td></tr>\n",
       "\t<tr><td>2</td></tr>\n",
       "\t<tr><td>3</td></tr>\n",
       "\t<tr><td>4</td></tr>\n",
       "\t<tr><td>5</td></tr>\n",
       "\t<tr><td>6</td></tr>\n",
       "</tbody>\n",
       "</table>\n"
      ],
      "text/latex": [
       "A data.frame: 6 × 1\n",
       "\\begin{tabular}{l}\n",
       " Caras\\\\\n",
       " <int>\\\\\n",
       "\\hline\n",
       "\t 1\\\\\n",
       "\t 2\\\\\n",
       "\t 3\\\\\n",
       "\t 4\\\\\n",
       "\t 5\\\\\n",
       "\t 6\\\\\n",
       "\\end{tabular}\n"
      ],
      "text/markdown": [
       "\n",
       "A data.frame: 6 × 1\n",
       "\n",
       "| Caras &lt;int&gt; |\n",
       "|---|\n",
       "| 1 |\n",
       "| 2 |\n",
       "| 3 |\n",
       "| 4 |\n",
       "| 5 |\n",
       "| 6 |\n",
       "\n"
      ],
      "text/plain": [
       "  Caras\n",
       "1 1    \n",
       "2 2    \n",
       "3 3    \n",
       "4 4    \n",
       "5 5    \n",
       "6 6    "
      ]
     },
     "metadata": {},
     "output_type": "display_data"
    }
   ],
   "source": [
    "dado <- data.frame(Caras = 1:6)\n",
    "dado"
   ]
  },
  {
   "cell_type": "code",
   "execution_count": 5,
   "metadata": {},
   "outputs": [
    {
     "data": {
      "text/html": [
       "<style>\n",
       ".list-inline {list-style: none; margin:0; padding: 0}\n",
       ".list-inline>li {display: inline-block}\n",
       ".list-inline>li:not(:last-child)::after {content: \"\\00b7\"; padding: 0 .5ex}\n",
       "</style>\n",
       "<ol class=list-inline><li>2</li><li>5</li><li>4</li><li>1</li><li>6</li><li>4</li><li>3</li></ol>\n"
      ],
      "text/latex": [
       "\\begin{enumerate*}\n",
       "\\item 2\n",
       "\\item 5\n",
       "\\item 4\n",
       "\\item 1\n",
       "\\item 6\n",
       "\\item 4\n",
       "\\item 3\n",
       "\\end{enumerate*}\n"
      ],
      "text/markdown": [
       "1. 2\n",
       "2. 5\n",
       "3. 4\n",
       "4. 1\n",
       "5. 6\n",
       "6. 4\n",
       "7. 3\n",
       "\n",
       "\n"
      ],
      "text/plain": [
       "[1] 2 5 4 1 6 4 3"
      ]
     },
     "metadata": {},
     "output_type": "display_data"
    }
   ],
   "source": [
    "sample(dado$Caras, size = 7, replace = TRUE)"
   ]
  },
  {
   "cell_type": "code",
   "execution_count": 6,
   "metadata": {
    "scrolled": false
   },
   "outputs": [
    {
     "data": {
      "image/png": "[encoded data removed]",
      "text/plain": [
       "plot without title"
      ]
     },
     "metadata": {},
     "output_type": "display_data"
    }
   ],
   "source": [
    "library(ggplot2)\n",
    "\n",
    "ggplot(dado) + geom_histogram(breaks = seq(0, 6), alpha = 0.6, color = \"white\", \n",
    "                              aes(Caras,  y = (..count..)/sum(..count..))) + ylab(\"\")\n",
    "\n",
    "# proporciones que de los resultados que obtendríamos si lanzáramos un dado. "
   ]
  },
  {
   "cell_type": "code",
   "execution_count": 7,
   "metadata": {},
   "outputs": [
    {
     "data": {
      "text/html": [
       "<table>\n",
       "<caption>A data.frame: 10 × 1</caption>\n",
       "<thead>\n",
       "\t<tr><th scope=col>Caras</th></tr>\n",
       "\t<tr><th scope=col>&lt;int&gt;</th></tr>\n",
       "</thead>\n",
       "<tbody>\n",
       "\t<tr><td>2</td></tr>\n",
       "\t<tr><td>4</td></tr>\n",
       "\t<tr><td>6</td></tr>\n",
       "\t<tr><td>2</td></tr>\n",
       "\t<tr><td>5</td></tr>\n",
       "\t<tr><td>4</td></tr>\n",
       "\t<tr><td>2</td></tr>\n",
       "\t<tr><td>4</td></tr>\n",
       "\t<tr><td>1</td></tr>\n",
       "\t<tr><td>1</td></tr>\n",
       "</tbody>\n",
       "</table>\n"
      ],
      "text/latex": [
       "A data.frame: 10 × 1\n",
       "\\begin{tabular}{l}\n",
       " Caras\\\\\n",
       " <int>\\\\\n",
       "\\hline\n",
       "\t 2\\\\\n",
       "\t 4\\\\\n",
       "\t 6\\\\\n",
       "\t 2\\\\\n",
       "\t 5\\\\\n",
       "\t 4\\\\\n",
       "\t 2\\\\\n",
       "\t 4\\\\\n",
       "\t 1\\\\\n",
       "\t 1\\\\\n",
       "\\end{tabular}\n"
      ],
      "text/markdown": [
       "\n",
       "A data.frame: 10 × 1\n",
       "\n",
       "| Caras &lt;int&gt; |\n",
       "|---|\n",
       "| 2 |\n",
       "| 4 |\n",
       "| 6 |\n",
       "| 2 |\n",
       "| 5 |\n",
       "| 4 |\n",
       "| 2 |\n",
       "| 4 |\n",
       "| 1 |\n",
       "| 1 |\n",
       "\n"
      ],
      "text/plain": [
       "   Caras\n",
       "1  2    \n",
       "2  4    \n",
       "3  6    \n",
       "4  2    \n",
       "5  5    \n",
       "6  4    \n",
       "7  2    \n",
       "8  4    \n",
       "9  1    \n",
       "10 1    "
      ]
     },
     "metadata": {},
     "output_type": "display_data"
    }
   ],
   "source": [
    "muestraCaras <- sample(dado$Caras, size = 10, replace = TRUE)\n",
    "dadoExp <- data.frame(Caras = muestraCaras)\n",
    "dadoExp\n"
   ]
  },
  {
   "cell_type": "code",
   "execution_count": 8,
   "metadata": {
    "scrolled": false
   },
   "outputs": [
    {
     "data": {
      "image/png": "[encoded data removed]",
      "text/plain": [
       "plot without title"
      ]
     },
     "metadata": {},
     "output_type": "display_data"
    }
   ],
   "source": [
    "muestraCaras <- sample(dado$Caras, size = 10, replace = TRUE)\n",
    "dadoExp <- data.frame(Caras = muestraCaras)\n",
    "\n",
    "ggplot(dadoExp, aes(x=Caras)) + \n",
    "    geom_histogram(breaks = 0:6, color=\"white\") "
   ]
  },
  {
   "cell_type": "code",
   "execution_count": 9,
   "metadata": {},
   "outputs": [
    {
     "data": {
      "text/html": [
       "<table>\n",
       "<caption>A data.frame: 10 × 2</caption>\n",
       "<thead>\n",
       "\t<tr><th scope=col>Caras</th><th scope=col>DosCaras</th></tr>\n",
       "\t<tr><th scope=col>&lt;int&gt;</th><th scope=col>&lt;dbl&gt;</th></tr>\n",
       "</thead>\n",
       "<tbody>\n",
       "\t<tr><td>3</td><td> 6</td></tr>\n",
       "\t<tr><td>2</td><td> 4</td></tr>\n",
       "\t<tr><td>6</td><td>12</td></tr>\n",
       "\t<tr><td>1</td><td> 2</td></tr>\n",
       "\t<tr><td>4</td><td> 8</td></tr>\n",
       "\t<tr><td>6</td><td>12</td></tr>\n",
       "\t<tr><td>4</td><td> 8</td></tr>\n",
       "\t<tr><td>1</td><td> 2</td></tr>\n",
       "\t<tr><td>5</td><td>10</td></tr>\n",
       "\t<tr><td>4</td><td> 8</td></tr>\n",
       "</tbody>\n",
       "</table>\n"
      ],
      "text/latex": [
       "A data.frame: 10 × 2\n",
       "\\begin{tabular}{ll}\n",
       " Caras & DosCaras\\\\\n",
       " <int> & <dbl>\\\\\n",
       "\\hline\n",
       "\t 3 &  6\\\\\n",
       "\t 2 &  4\\\\\n",
       "\t 6 & 12\\\\\n",
       "\t 1 &  2\\\\\n",
       "\t 4 &  8\\\\\n",
       "\t 6 & 12\\\\\n",
       "\t 4 &  8\\\\\n",
       "\t 1 &  2\\\\\n",
       "\t 5 & 10\\\\\n",
       "\t 4 &  8\\\\\n",
       "\\end{tabular}\n"
      ],
      "text/markdown": [
       "\n",
       "A data.frame: 10 × 2\n",
       "\n",
       "| Caras &lt;int&gt; | DosCaras &lt;dbl&gt; |\n",
       "|---|---|\n",
       "| 3 |  6 |\n",
       "| 2 |  4 |\n",
       "| 6 | 12 |\n",
       "| 1 |  2 |\n",
       "| 4 |  8 |\n",
       "| 6 | 12 |\n",
       "| 4 |  8 |\n",
       "| 1 |  2 |\n",
       "| 5 | 10 |\n",
       "| 4 |  8 |\n",
       "\n"
      ],
      "text/plain": [
       "   Caras DosCaras\n",
       "1  3      6      \n",
       "2  2      4      \n",
       "3  6     12      \n",
       "4  1      2      \n",
       "5  4      8      \n",
       "6  6     12      \n",
       "7  4      8      \n",
       "8  1      2      \n",
       "9  5     10      \n",
       "10 4      8      "
      ]
     },
     "metadata": {},
     "output_type": "display_data"
    }
   ],
   "source": [
    "data.frame(Caras = muestraCaras, DosCaras = 2*muestraCaras)"
   ]
  },
  {
   "cell_type": "code",
   "execution_count": 10,
   "metadata": {},
   "outputs": [],
   "source": [
    "dadoExpHist <- function(n) {\n",
    "    muestraCaras <- sample(dado$Caras, size = n, replace = TRUE)\n",
    "    dadoExp <- data.frame(Caras = muestraCaras)\n",
    "    return(ggplot(dadoExp) + geom_histogram(breaks = seq(0, 6), alpha = 0.6, color = \"white\", \n",
    "                              aes(Caras, y = (..count..)/sum(..count..))) + ylab(\"\"))\n",
    "}\n"
   ]
  },
  {
   "cell_type": "code",
   "execution_count": 11,
   "metadata": {},
   "outputs": [
    {
     "data": {
      "image/png": "[encoded data removed]",
      "text/plain": [
       "plot without title"
      ]
     },
     "metadata": {},
     "output_type": "display_data"
    }
   ],
   "source": [
    "dadoExpHist(1000000)"
   ]
  },
  {
   "cell_type": "markdown",
   "metadata": {},
   "source": [
    "# Histogramas y Distribuciones\n",
    "\n",
    "Ya sabíamos la forma del histograma! Sabes las proporciones de antemano. \n",
    "\n",
    "Histograma es un resumen visual de la distribución.\n",
    "\n",
    "El histograma del experimento (del muestreo) se llama histograma empírico.\n",
    "\n",
    "    En el mundo es igual: hay un proceso que genera un resultado pero solo observamos una parte de los resultados. \n",
    "    "
   ]
  },
  {
   "cell_type": "markdown",
   "metadata": {},
   "source": [
    "# Ley de los promedios (TCL CLT)\n",
    "\n",
    "Hay una razón por la que el hsitograma empírico se parece al modelo teórico.\n",
    "\n",
    "Si un experimento se repite en las mismas condiciones y de manera independiente, a la larga la proporción de veces que un resultado aparece se va a parecer mas y mas a la probabilidad teórica."
   ]
  },
  {
   "cell_type": "markdown",
   "metadata": {},
   "source": [
    "# Iteraciones:\n",
    "\n",
    "for (i in seq(1,10)) { print(i) }\n",
    "\n",
    "El cuerpo, todo lo que dentro de { }, es ejecutado para cada elemento en una secuencia. \n",
    "\n",
    "Puede tener varias líneas. El cuerpo tiene que hacer algo.\n"
   ]
  },
  {
   "cell_type": "code",
   "execution_count": 12,
   "metadata": {},
   "outputs": [
    {
     "name": "stdout",
     "output_type": "stream",
     "text": [
      "[1] 1\n",
      "[1] 2\n",
      "[1] 3\n",
      "[1] 4\n",
      "[1] 5\n",
      "[1] 6\n",
      "[1] 7\n",
      "[1] 8\n",
      "[1] 9\n",
      "[1] 10\n"
     ]
    }
   ],
   "source": [
    "for(x in 1:10) {print(x)}"
   ]
  },
  {
   "cell_type": "code",
   "execution_count": 13,
   "metadata": {},
   "outputs": [
    {
     "name": "stdout",
     "output_type": "stream",
     "text": [
      "[1] 3\n",
      "[1] 8\n",
      "[1] 10\n"
     ]
    }
   ],
   "source": [
    "for(i in c(3,8,10)) {print(i)}"
   ]
  },
  {
   "cell_type": "code",
   "execution_count": 14,
   "metadata": {},
   "outputs": [],
   "source": [
    "lDado <- function(n){\n",
    "    sample(x = 1:n, size = 1)\n",
    "}"
   ]
  },
  {
   "cell_type": "code",
   "execution_count": 15,
   "metadata": {},
   "outputs": [
    {
     "data": {
      "text/html": [
       "1"
      ],
      "text/latex": [
       "1"
      ],
      "text/markdown": [
       "1"
      ],
      "text/plain": [
       "[1] 1"
      ]
     },
     "metadata": {},
     "output_type": "display_data"
    }
   ],
   "source": [
    "lDado(3)"
   ]
  },
  {
   "cell_type": "code",
   "execution_count": 16,
   "metadata": {},
   "outputs": [
    {
     "data": {
      "text/html": [
       "<table>\n",
       "<caption>A data.frame: 1 × 2</caption>\n",
       "<thead>\n",
       "\t<tr><th></th><th scope=col>primerL</th><th scope=col>segundoL</th></tr>\n",
       "\t<tr><th></th><th scope=col>&lt;int&gt;</th><th scope=col>&lt;int&gt;</th></tr>\n",
       "</thead>\n",
       "<tbody>\n",
       "\t<tr><th scope=row>1</th><td>2</td><td>3</td></tr>\n",
       "</tbody>\n",
       "</table>\n"
      ],
      "text/latex": [
       "A data.frame: 1 × 2\n",
       "\\begin{tabular}{r|ll}\n",
       "  & primerL & segundoL\\\\\n",
       "  & <int> & <int>\\\\\n",
       "\\hline\n",
       "\t1 & 2 & 3\\\\\n",
       "\\end{tabular}\n"
      ],
      "text/markdown": [
       "\n",
       "A data.frame: 1 × 2\n",
       "\n",
       "| <!--/--> | primerL &lt;int&gt; | segundoL &lt;int&gt; |\n",
       "|---|---|---|\n",
       "| 1 | 2 | 3 |\n",
       "\n"
      ],
      "text/plain": [
       "  primerL segundoL\n",
       "1 2       3       "
      ]
     },
     "metadata": {},
     "output_type": "display_data"
    }
   ],
   "source": [
    "# Dos lanzamientos de dados, 1000 veces.\n",
    "\n",
    "dosL <- data.frame(primerL=lDado(6), segundoL=lDado(6))\n",
    "\n",
    "dosL[1, ]"
   ]
  },
  {
   "cell_type": "code",
   "execution_count": 17,
   "metadata": {},
   "outputs": [
    {
     "data": {
      "text/html": [
       "<table>\n",
       "<caption>A data.frame: 6 × 2</caption>\n",
       "<thead>\n",
       "\t<tr><th></th><th scope=col>primerL</th><th scope=col>segundoL</th></tr>\n",
       "\t<tr><th></th><th scope=col>&lt;int&gt;</th><th scope=col>&lt;int&gt;</th></tr>\n",
       "</thead>\n",
       "<tbody>\n",
       "\t<tr><th scope=row>1</th><td>2</td><td>3</td></tr>\n",
       "\t<tr><th scope=row>2</th><td>6</td><td>1</td></tr>\n",
       "\t<tr><th scope=row>3</th><td>5</td><td>4</td></tr>\n",
       "\t<tr><th scope=row>4</th><td>3</td><td>5</td></tr>\n",
       "\t<tr><th scope=row>5</th><td>3</td><td>5</td></tr>\n",
       "\t<tr><th scope=row>6</th><td>3</td><td>1</td></tr>\n",
       "</tbody>\n",
       "</table>\n"
      ],
      "text/latex": [
       "A data.frame: 6 × 2\n",
       "\\begin{tabular}{r|ll}\n",
       "  & primerL & segundoL\\\\\n",
       "  & <int> & <int>\\\\\n",
       "\\hline\n",
       "\t1 & 2 & 3\\\\\n",
       "\t2 & 6 & 1\\\\\n",
       "\t3 & 5 & 4\\\\\n",
       "\t4 & 3 & 5\\\\\n",
       "\t5 & 3 & 5\\\\\n",
       "\t6 & 3 & 1\\\\\n",
       "\\end{tabular}\n"
      ],
      "text/markdown": [
       "\n",
       "A data.frame: 6 × 2\n",
       "\n",
       "| <!--/--> | primerL &lt;int&gt; | segundoL &lt;int&gt; |\n",
       "|---|---|---|\n",
       "| 1 | 2 | 3 |\n",
       "| 2 | 6 | 1 |\n",
       "| 3 | 5 | 4 |\n",
       "| 4 | 3 | 5 |\n",
       "| 5 | 3 | 5 |\n",
       "| 6 | 3 | 1 |\n",
       "\n"
      ],
      "text/plain": [
       "  primerL segundoL\n",
       "1 2       3       \n",
       "2 6       1       \n",
       "3 5       4       \n",
       "4 3       5       \n",
       "5 3       5       \n",
       "6 3       1       "
      ]
     },
     "metadata": {},
     "output_type": "display_data"
    }
   ],
   "source": [
    "for(i in 1:10000){\n",
    "    dosL[i,] <- c(lDado(6), lDado(6))\n",
    "}\n",
    "\n",
    "head(dosL)"
   ]
  },
  {
   "cell_type": "code",
   "execution_count": 18,
   "metadata": {},
   "outputs": [
    {
     "data": {
      "image/png": "[encoded data removed]",
      "text/plain": [
       "plot without title"
      ]
     },
     "metadata": {},
     "output_type": "display_data"
    }
   ],
   "source": [
    "# Podemos comparar dos histogramas:\n",
    "\n",
    "ggplot(dosL) + geom_histogram(breaks = seq(0, 6), aes(x=primerL, y = (..count..)/sum(..count..)), fill = \"red\", alpha = 0.2) +\n",
    "        geom_histogram(breaks = seq(0, 6), aes(x=segundoL, y = (..count..)/sum(..count..)), fill = \"blue\", alpha = 0.2) +\n",
    "        ylab(\"\") + xlab(\"cara\") + scale_x_continuous(breaks=seq(0, 6)) \n"
   ]
  },
  {
   "cell_type": "code",
   "execution_count": 19,
   "metadata": {},
   "outputs": [
    {
     "data": {
      "text/html": [
       "<table>\n",
       "<caption>A data.frame: 6 × 3</caption>\n",
       "<thead>\n",
       "\t<tr><th></th><th scope=col>d1</th><th scope=col>d2</th><th scope=col>suma</th></tr>\n",
       "\t<tr><th></th><th scope=col>&lt;int&gt;</th><th scope=col>&lt;int&gt;</th><th scope=col>&lt;int&gt;</th></tr>\n",
       "</thead>\n",
       "<tbody>\n",
       "\t<tr><th scope=row>1</th><td>5</td><td>5</td><td>10</td></tr>\n",
       "\t<tr><th scope=row>2</th><td>6</td><td>2</td><td> 8</td></tr>\n",
       "\t<tr><th scope=row>3</th><td>2</td><td>1</td><td> 3</td></tr>\n",
       "\t<tr><th scope=row>4</th><td>5</td><td>4</td><td> 9</td></tr>\n",
       "\t<tr><th scope=row>5</th><td>4</td><td>4</td><td> 8</td></tr>\n",
       "\t<tr><th scope=row>6</th><td>2</td><td>6</td><td> 8</td></tr>\n",
       "</tbody>\n",
       "</table>\n"
      ],
      "text/latex": [
       "A data.frame: 6 × 3\n",
       "\\begin{tabular}{r|lll}\n",
       "  & d1 & d2 & suma\\\\\n",
       "  & <int> & <int> & <int>\\\\\n",
       "\\hline\n",
       "\t1 & 5 & 5 & 10\\\\\n",
       "\t2 & 6 & 2 &  8\\\\\n",
       "\t3 & 2 & 1 &  3\\\\\n",
       "\t4 & 5 & 4 &  9\\\\\n",
       "\t5 & 4 & 4 &  8\\\\\n",
       "\t6 & 2 & 6 &  8\\\\\n",
       "\\end{tabular}\n"
      ],
      "text/markdown": [
       "\n",
       "A data.frame: 6 × 3\n",
       "\n",
       "| <!--/--> | d1 &lt;int&gt; | d2 &lt;int&gt; | suma &lt;int&gt; |\n",
       "|---|---|---|---|\n",
       "| 1 | 5 | 5 | 10 |\n",
       "| 2 | 6 | 2 |  8 |\n",
       "| 3 | 2 | 1 |  3 |\n",
       "| 4 | 5 | 4 |  9 |\n",
       "| 5 | 4 | 4 |  8 |\n",
       "| 6 | 2 | 6 |  8 |\n",
       "\n"
      ],
      "text/plain": [
       "  d1 d2 suma\n",
       "1 5  5  10  \n",
       "2 6  2   8  \n",
       "3 2  1   3  \n",
       "4 5  4   9  \n",
       "5 4  4   8  \n",
       "6 2  6   8  "
      ]
     },
     "metadata": {},
     "output_type": "display_data"
    }
   ],
   "source": [
    "# Ejercicio 23/Nov/2017\n",
    "# Lancen dos dados d1 y d2, 10k veces. Dibujen el histograma de la suma de los resultados. \n",
    "# Cuál es mas probable?  P(d1+d2=6) o P(d1+d2=7)?\n",
    "# Aplicación: Colonos de Catán.\n",
    "N <- 1e5\n",
    "d1 <- sample(1:6, N, replace=TRUE)\n",
    "d2 <- sample(1:6, N, replace=TRUE)\n",
    "\n",
    "dosDados <- data.frame(d1=d1, d2=d2) %>% mutate(suma = d1 + d2)\n",
    "head(dosDados)"
   ]
  },
  {
   "cell_type": "code",
   "execution_count": 20,
   "metadata": {},
   "outputs": [
    {
     "data": {
      "image/png": "[encoded data removed]",
      "text/plain": [
       "plot without title"
      ]
     },
     "metadata": {},
     "output_type": "display_data"
    }
   ],
   "source": [
    "ggplot(dosDados, aes(x=suma, y=..count../sum(..count..))) + geom_histogram(breaks=seq(1, 12, 1)) + \n",
    "    scale_x_continuous(breaks=seq(0, 12, 1))"
   ]
  },
  {
   "cell_type": "markdown",
   "metadata": {},
   "source": [
    "<img src='Tournament-Board-1-1.jpg'>"
   ]
  }
 ],
 "metadata": {
  "anaconda-cloud": {},
  "kernelspec": {
   "display_name": "R",
   "language": "R",
   "name": "ir"
  },
  "language_info": {
   "codemirror_mode": "r",
   "file_extension": ".r",
   "mimetype": "text/x-r-source",
   "name": "R",
   "pygments_lexer": "r",
   "version": "3.6.0"
  }
 },
 "nbformat": 4,
 "nbformat_minor": 1
}
