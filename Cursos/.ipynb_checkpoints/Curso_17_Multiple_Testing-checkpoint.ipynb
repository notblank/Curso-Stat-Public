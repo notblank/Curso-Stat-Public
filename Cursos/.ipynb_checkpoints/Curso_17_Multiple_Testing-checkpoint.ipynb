{
 "cells": [
  {
   "cell_type": "code",
   "execution_count": 1,
   "metadata": {},
   "outputs": [
    {
     "name": "stderr",
     "output_type": "stream",
     "text": [
      "── \u001b[1mAttaching packages\u001b[22m ─────────────────────────────────────── tidyverse 1.2.1 ──\n",
      "\u001b[32m✔\u001b[39m \u001b[34mggplot2\u001b[39m 3.2.0     \u001b[32m✔\u001b[39m \u001b[34mpurrr  \u001b[39m 0.3.2\n",
      "\u001b[32m✔\u001b[39m \u001b[34mtibble \u001b[39m 2.1.3     \u001b[32m✔\u001b[39m \u001b[34mdplyr  \u001b[39m 0.8.2\n",
      "\u001b[32m✔\u001b[39m \u001b[34mtidyr  \u001b[39m 0.8.3     \u001b[32m✔\u001b[39m \u001b[34mstringr\u001b[39m 1.4.0\n",
      "\u001b[32m✔\u001b[39m \u001b[34mreadr  \u001b[39m 1.3.1     \u001b[32m✔\u001b[39m \u001b[34mforcats\u001b[39m 0.4.0\n",
      "── \u001b[1mConflicts\u001b[22m ────────────────────────────────────────── tidyverse_conflicts() ──\n",
      "\u001b[31m✖\u001b[39m \u001b[34mdplyr\u001b[39m::\u001b[32mfilter()\u001b[39m masks \u001b[34mstats\u001b[39m::filter()\n",
      "\u001b[31m✖\u001b[39m \u001b[34mdplyr\u001b[39m::\u001b[32mlag()\u001b[39m    masks \u001b[34mstats\u001b[39m::lag()\n"
     ]
    }
   ],
   "source": [
    "library(tidyverse)"
   ]
  },
  {
   "cell_type": "markdown",
   "metadata": {},
   "source": [
    "## P-Hacking\n",
    "\n",
    "https://github.com/fivethirtyeight/data/tree/master/nutrition-studies\n",
    "\n",
    "https://www.textbook.ds100.org/ch/18/hyp_phacking.html"
   ]
  },
  {
   "cell_type": "code",
   "execution_count": 2,
   "metadata": {},
   "outputs": [
    {
     "name": "stderr",
     "output_type": "stream",
     "text": [
      "Parsed with column specification:\n",
      "cols(\n",
      "  .default = col_double(),\n",
      "  cancer = \u001b[31mcol_character()\u001b[39m,\n",
      "  diabetes = \u001b[31mcol_character()\u001b[39m,\n",
      "  heart_disease = \u001b[31mcol_character()\u001b[39m,\n",
      "  belly = \u001b[31mcol_character()\u001b[39m,\n",
      "  ever_smoked = \u001b[31mcol_character()\u001b[39m,\n",
      "  currently_smoke = \u001b[31mcol_character()\u001b[39m,\n",
      "  smoke_often = \u001b[31mcol_character()\u001b[39m,\n",
      "  smoke_rarely = \u001b[31mcol_character()\u001b[39m,\n",
      "  never_smoked = \u001b[31mcol_character()\u001b[39m,\n",
      "  quit_smoking = \u001b[31mcol_character()\u001b[39m,\n",
      "  left_hand = \u001b[31mcol_character()\u001b[39m,\n",
      "  right_hand = \u001b[31mcol_character()\u001b[39m,\n",
      "  readingMath = \u001b[31mcol_character()\u001b[39m,\n",
      "  mathReading = \u001b[31mcol_character()\u001b[39m,\n",
      "  favCable = \u001b[31mcol_character()\u001b[39m,\n",
      "  unfavCable = \u001b[31mcol_character()\u001b[39m,\n",
      "  neutralCable = \u001b[31mcol_character()\u001b[39m,\n",
      "  noCrash = \u001b[31mcol_character()\u001b[39m,\n",
      "  yesCrash = \u001b[31mcol_character()\u001b[39m,\n",
      "  uhCrash = \u001b[31mcol_character()\u001b[39m\n",
      "  # ... with 6 more columns\n",
      ")\n",
      "See spec(...) for full column specifications.\n"
     ]
    }
   ],
   "source": [
    "raw_anonymized_data <- read_csv(\"../tablas/raw_anonymized_data.csv\")"
   ]
  },
  {
   "cell_type": "code",
   "execution_count": 3,
   "metadata": {},
   "outputs": [
    {
     "data": {
      "text/html": [
       "<table>\n",
       "<caption>A tibble: 6 × 4</caption>\n",
       "<thead>\n",
       "\t<tr><th scope=col>cat</th><th scope=col>dog</th><th scope=col>left_hand</th><th scope=col>right_hand</th></tr>\n",
       "\t<tr><th scope=col>&lt;dbl&gt;</th><th scope=col>&lt;dbl&gt;</th><th scope=col>&lt;dbl&gt;</th><th scope=col>&lt;dbl&gt;</th></tr>\n",
       "</thead>\n",
       "<tbody>\n",
       "\t<tr><td>0</td><td>0</td><td>0</td><td>1</td></tr>\n",
       "\t<tr><td>0</td><td>0</td><td>0</td><td>1</td></tr>\n",
       "\t<tr><td>0</td><td>1</td><td>0</td><td>1</td></tr>\n",
       "\t<tr><td>0</td><td>0</td><td>0</td><td>1</td></tr>\n",
       "\t<tr><td>0</td><td>0</td><td>0</td><td>1</td></tr>\n",
       "\t<tr><td>1</td><td>0</td><td>1</td><td>0</td></tr>\n",
       "</tbody>\n",
       "</table>\n"
      ],
      "text/latex": [
       "A tibble: 6 × 4\n",
       "\\begin{tabular}{r|llll}\n",
       " cat & dog & left\\_hand & right\\_hand\\\\\n",
       " <dbl> & <dbl> & <dbl> & <dbl>\\\\\n",
       "\\hline\n",
       "\t 0 & 0 & 0 & 1\\\\\n",
       "\t 0 & 0 & 0 & 1\\\\\n",
       "\t 0 & 1 & 0 & 1\\\\\n",
       "\t 0 & 0 & 0 & 1\\\\\n",
       "\t 0 & 0 & 0 & 1\\\\\n",
       "\t 1 & 0 & 1 & 0\\\\\n",
       "\\end{tabular}\n"
      ],
      "text/markdown": [
       "\n",
       "A tibble: 6 × 4\n",
       "\n",
       "| cat &lt;dbl&gt; | dog &lt;dbl&gt; | left_hand &lt;dbl&gt; | right_hand &lt;dbl&gt; |\n",
       "|---|---|---|---|\n",
       "| 0 | 0 | 0 | 1 |\n",
       "| 0 | 0 | 0 | 1 |\n",
       "| 0 | 1 | 0 | 1 |\n",
       "| 0 | 0 | 0 | 1 |\n",
       "| 0 | 0 | 0 | 1 |\n",
       "| 1 | 0 | 1 | 0 |\n",
       "\n"
      ],
      "text/plain": [
       "  cat dog left_hand right_hand\n",
       "1 0   0   0         1         \n",
       "2 0   0   0         1         \n",
       "3 0   1   0         1         \n",
       "4 0   0   0         1         \n",
       "5 0   0   0         1         \n",
       "6 1   0   1         0         "
      ]
     },
     "metadata": {},
     "output_type": "display_data"
    }
   ],
   "source": [
    "#raw_anonymized_data %>% names()\n",
    "raw_cat_dog <- raw_anonymized_data %>% select(cat, dog, left_hand, right_hand) %>%\n",
    "                    mutate(cat = ifelse(cat =='Yes', 1, 0), \n",
    "                           dog = ifelse(dog =='Yes', 1, 0), \n",
    "                           left_hand = ifelse(left_hand =='Yes', 1, 0), \n",
    "                           right_hand = ifelse(right_hand =='Yes', 1, 0))\n",
    "head(raw_cat_dog)"
   ]
  },
  {
   "cell_type": "code",
   "execution_count": 4,
   "metadata": {},
   "outputs": [
    {
     "data": {
      "text/html": [
       "<table>\n",
       "<caption>A tibble: 6 × 3</caption>\n",
       "<thead>\n",
       "\t<tr><th scope=col>eggrolls</th><th scope=col>shellfish</th><th scope=col>coffee</th></tr>\n",
       "\t<tr><th scope=col>&lt;dbl&gt;</th><th scope=col>&lt;dbl&gt;</th><th scope=col>&lt;dbl&gt;</th></tr>\n",
       "</thead>\n",
       "<tbody>\n",
       "\t<tr><td>1</td><td>3</td><td>2</td></tr>\n",
       "\t<tr><td>1</td><td>2</td><td>3</td></tr>\n",
       "\t<tr><td>2</td><td>3</td><td>3</td></tr>\n",
       "\t<tr><td>3</td><td>2</td><td>1</td></tr>\n",
       "\t<tr><td>2</td><td>2</td><td>2</td></tr>\n",
       "\t<tr><td>2</td><td>2</td><td>4</td></tr>\n",
       "</tbody>\n",
       "</table>\n"
      ],
      "text/latex": [
       "A tibble: 6 × 3\n",
       "\\begin{tabular}{r|lll}\n",
       " eggrolls & shellfish & coffee\\\\\n",
       " <dbl> & <dbl> & <dbl>\\\\\n",
       "\\hline\n",
       "\t 1 & 3 & 2\\\\\n",
       "\t 1 & 2 & 3\\\\\n",
       "\t 2 & 3 & 3\\\\\n",
       "\t 3 & 2 & 1\\\\\n",
       "\t 2 & 2 & 2\\\\\n",
       "\t 2 & 2 & 4\\\\\n",
       "\\end{tabular}\n"
      ],
      "text/markdown": [
       "\n",
       "A tibble: 6 × 3\n",
       "\n",
       "| eggrolls &lt;dbl&gt; | shellfish &lt;dbl&gt; | coffee &lt;dbl&gt; |\n",
       "|---|---|---|\n",
       "| 1 | 3 | 2 |\n",
       "| 1 | 2 | 3 |\n",
       "| 2 | 3 | 3 |\n",
       "| 3 | 2 | 1 |\n",
       "| 2 | 2 | 2 |\n",
       "| 2 | 2 | 4 |\n",
       "\n"
      ],
      "text/plain": [
       "  eggrolls shellfish coffee\n",
       "1 1        3         2     \n",
       "2 1        2         3     \n",
       "3 2        3         3     \n",
       "4 3        2         1     \n",
       "5 2        2         2     \n",
       "6 2        2         4     "
      ]
     },
     "metadata": {},
     "output_type": "display_data"
    }
   ],
   "source": [
    "raw_food <- raw_anonymized_data %>% select(eggrolls = EGGROLLQUAN, \n",
    "                                           shellfish = SHELLFISHQUAN, \n",
    "                                           coffee =COFFEEDRINKSFREQ) \n",
    "\n",
    "raw_food %>% head()"
   ]
  },
  {
   "cell_type": "code",
   "execution_count": 5,
   "metadata": {},
   "outputs": [
    {
     "data": {
      "text/html": [
       "'eggrolls-shellfish'"
      ],
      "text/latex": [
       "'eggrolls-shellfish'"
      ],
      "text/markdown": [
       "'eggrolls-shellfish'"
      ],
      "text/plain": [
       "[1] \"eggrolls-shellfish\""
      ]
     },
     "metadata": {},
     "output_type": "display_data"
    }
   ],
   "source": [
    "paste(names(raw_food[1]), names(raw_food[2]), sep='-')"
   ]
  },
  {
   "cell_type": "code",
   "execution_count": 6,
   "metadata": {},
   "outputs": [],
   "source": [
    "vars <- {}\n",
    "p_vals <- {}\n",
    "\n",
    "\n",
    "raw_cat_dog_mat <- as.matrix(raw_cat_dog)\n",
    "raw_food_mat <- as.matrix(raw_food)\n",
    "\n",
    "j <- 1\n",
    "for(c in names(raw_cat_dog)){\n",
    "    k <- 1\n",
    "    for(f in names(raw_food)){\n",
    "        vars <- c(vars, paste(c, f, sep='-'))\n",
    "        p_vals <- c(p_vals, cor.test(raw_cat_dog_mat[, j], raw_food_mat[, k])$p.value)\n",
    "        k <- k + 1\n",
    "    }\n",
    "    j <- j + 1\n",
    "}"
   ]
  },
  {
   "cell_type": "code",
   "execution_count": 7,
   "metadata": {},
   "outputs": [
    {
     "data": {
      "text/html": [
       "<table>\n",
       "<caption>A data.frame: 12 × 2</caption>\n",
       "<thead>\n",
       "\t<tr><th scope=col>vars</th><th scope=col>p.vals</th></tr>\n",
       "\t<tr><th scope=col>&lt;fct&gt;</th><th scope=col>&lt;dbl&gt;</th></tr>\n",
       "</thead>\n",
       "<tbody>\n",
       "\t<tr><td>cat-eggrolls        </td><td>0.6930</td></tr>\n",
       "\t<tr><td>cat-shellfish       </td><td>0.3991</td></tr>\n",
       "\t<tr><td>cat-coffee          </td><td>0.0016</td></tr>\n",
       "\t<tr><td>dog-eggrolls        </td><td>0.0000</td></tr>\n",
       "\t<tr><td>dog-shellfish       </td><td>0.1471</td></tr>\n",
       "\t<tr><td>dog-coffee          </td><td>0.3507</td></tr>\n",
       "\t<tr><td>left_hand-eggrolls  </td><td>0.7580</td></tr>\n",
       "\t<tr><td>left_hand-shellfish </td><td>0.0004</td></tr>\n",
       "\t<tr><td>left_hand-coffee    </td><td>0.1692</td></tr>\n",
       "\t<tr><td>right_hand-eggrolls </td><td>0.2012</td></tr>\n",
       "\t<tr><td>right_hand-shellfish</td><td>0.0002</td></tr>\n",
       "\t<tr><td>right_hand-coffee   </td><td>0.4869</td></tr>\n",
       "</tbody>\n",
       "</table>\n"
      ],
      "text/latex": [
       "A data.frame: 12 × 2\n",
       "\\begin{tabular}{r|ll}\n",
       " vars & p.vals\\\\\n",
       " <fct> & <dbl>\\\\\n",
       "\\hline\n",
       "\t cat-eggrolls         & 0.6930\\\\\n",
       "\t cat-shellfish        & 0.3991\\\\\n",
       "\t cat-coffee           & 0.0016\\\\\n",
       "\t dog-eggrolls         & 0.0000\\\\\n",
       "\t dog-shellfish        & 0.1471\\\\\n",
       "\t dog-coffee           & 0.3507\\\\\n",
       "\t left\\_hand-eggrolls   & 0.7580\\\\\n",
       "\t left\\_hand-shellfish  & 0.0004\\\\\n",
       "\t left\\_hand-coffee     & 0.1692\\\\\n",
       "\t right\\_hand-eggrolls  & 0.2012\\\\\n",
       "\t right\\_hand-shellfish & 0.0002\\\\\n",
       "\t right\\_hand-coffee    & 0.4869\\\\\n",
       "\\end{tabular}\n"
      ],
      "text/markdown": [
       "\n",
       "A data.frame: 12 × 2\n",
       "\n",
       "| vars &lt;fct&gt; | p.vals &lt;dbl&gt; |\n",
       "|---|---|\n",
       "| cat-eggrolls         | 0.6930 |\n",
       "| cat-shellfish        | 0.3991 |\n",
       "| cat-coffee           | 0.0016 |\n",
       "| dog-eggrolls         | 0.0000 |\n",
       "| dog-shellfish        | 0.1471 |\n",
       "| dog-coffee           | 0.3507 |\n",
       "| left_hand-eggrolls   | 0.7580 |\n",
       "| left_hand-shellfish  | 0.0004 |\n",
       "| left_hand-coffee     | 0.1692 |\n",
       "| right_hand-eggrolls  | 0.2012 |\n",
       "| right_hand-shellfish | 0.0002 |\n",
       "| right_hand-coffee    | 0.4869 |\n",
       "\n"
      ],
      "text/plain": [
       "   vars                 p.vals\n",
       "1  cat-eggrolls         0.6930\n",
       "2  cat-shellfish        0.3991\n",
       "3  cat-coffee           0.0016\n",
       "4  dog-eggrolls         0.0000\n",
       "5  dog-shellfish        0.1471\n",
       "6  dog-coffee           0.3507\n",
       "7  left_hand-eggrolls   0.7580\n",
       "8  left_hand-shellfish  0.0004\n",
       "9  left_hand-coffee     0.1692\n",
       "10 right_hand-eggrolls  0.2012\n",
       "11 right_hand-shellfish 0.0002\n",
       "12 right_hand-coffee    0.4869"
      ]
     },
     "metadata": {},
     "output_type": "display_data"
    }
   ],
   "source": [
    "pvals <- data.frame(vars = vars, `p-vals` =  round(p_vals, 4))\n",
    "pvals"
   ]
  },
  {
   "cell_type": "markdown",
   "metadata": {},
   "source": [
    "## Bonferroni and FDR"
   ]
  },
  {
   "cell_type": "code",
   "execution_count": 8,
   "metadata": {},
   "outputs": [],
   "source": [
    "p_val_mu3 <- rep(0, 50)\n",
    "Tstat_mu3 <- rep(0, 50)\n",
    "p_val_mu0 <- rep(0, 950)\n",
    "Tstat_mu0 <- rep(0, 950)\n",
    "\n",
    "N <- 1000\n",
    "n <- 6\n",
    "alpha <- 0.05"
   ]
  },
  {
   "cell_type": "code",
   "execution_count": 9,
   "metadata": {},
   "outputs": [
    {
     "data": {
      "text/html": [
       "<table>\n",
       "<caption>A tibble: 2 × 2</caption>\n",
       "<thead>\n",
       "\t<tr><th scope=col>FDR</th><th scope=col>max(p_vals)</th></tr>\n",
       "\t<tr><th scope=col>&lt;chr&gt;</th><th scope=col>&lt;dbl&gt;</th></tr>\n",
       "</thead>\n",
       "<tbody>\n",
       "\t<tr><td>dont  </td><td>0.998557641</td></tr>\n",
       "\t<tr><td>reject</td><td>0.002062909</td></tr>\n",
       "</tbody>\n",
       "</table>\n"
      ],
      "text/latex": [
       "A tibble: 2 × 2\n",
       "\\begin{tabular}{r|ll}\n",
       " FDR & max(p\\_vals)\\\\\n",
       " <chr> & <dbl>\\\\\n",
       "\\hline\n",
       "\t dont   & 0.998557641\\\\\n",
       "\t reject & 0.002062909\\\\\n",
       "\\end{tabular}\n"
      ],
      "text/markdown": [
       "\n",
       "A tibble: 2 × 2\n",
       "\n",
       "| FDR &lt;chr&gt; | max(p_vals) &lt;dbl&gt; |\n",
       "|---|---|\n",
       "| dont   | 0.998557641 |\n",
       "| reject | 0.002062909 |\n",
       "\n"
      ],
      "text/plain": [
       "  FDR    max(p_vals)\n",
       "1 dont   0.998557641\n",
       "2 reject 0.002062909"
      ]
     },
     "metadata": {},
     "output_type": "display_data"
    }
   ],
   "source": [
    "for(j in 1:50){\n",
    "  Yj <- rnorm(n = n, mean = 2, sd = 1)\n",
    "  Tstat_mu3[j] <- sqrt(n) * mean(Yj)\n",
    "  p_val_mu3[j] <- 2*pnorm(q = -abs(Tstat_mu3[j]), mean = 0, sd = 1) \n",
    "}\n",
    "\n",
    "for(j in 1:950){\n",
    "  Yj <- rnorm(n = n, mean = 0, sd = 1)\n",
    "  Tstat_mu0[j] <- sqrt(n) * mean(Yj)\n",
    "  p_val_mu0[j] <- 2*pnorm(q = -abs(Tstat_mu0[j]), mean = 0, sd = 1) \n",
    "}\n",
    "\n",
    "p_vals <- data.frame(index = 1:1000, \n",
    "                     Tstats = c(Tstat_mu3, Tstat_mu0),\n",
    "                     p_vals = c(p_val_mu3, p_val_mu0), \n",
    "                     mu = c(rep('mu = 2', 50), rep('mu = 0', 950)))\n",
    "\n",
    "p_vals <- p_vals %>% arrange(p_vals) %>% \n",
    "            mutate(index = 1:1000, FDR = ifelse(p_vals < index * alpha / N, 'reject', 'dont'))\n",
    "\n",
    "p_vals %>% group_by(FDR) %>% summarise(max(p_vals))"
   ]
  },
  {
   "cell_type": "code",
   "execution_count": 11,
   "metadata": {},
   "outputs": [
    {
     "data": {
      "image/png": "[encoded data removed]",
      "text/plain": [
       "plot without title"
      ]
     },
     "metadata": {},
     "output_type": "display_data"
    }
   ],
   "source": [
    "eps = log(2)\n",
    "ggplot(p_vals, aes(x = 1:N, y = log(p_vals), color = mu)) + \n",
    "    geom_point(alpha = 0.3) +\n",
    "    geom_abline(slope = 0, intercept = log(alpha/N)) +\n",
    "    annotate(\"text\", x = 700, y = log(alpha/N) + eps, label= \"Bonferroni\") + \n",
    "    geom_abline(slope = 0, intercept = log(0.002671507)) +\n",
    "    annotate(\"text\", x = 700, y = log(0.002671507) + eps, label= \"BH-FDR\") + \n",
    "    geom_abline(slope = 0, intercept = log(alpha)) +\n",
    "    annotate(\"text\", x = 700, y = log(alpha) + eps, label= \"Alpha\") +\n",
    "    ggtitle('Alpha and FDR and Bonferroni Corrected Thresholds') +\n",
    "    xlab('') + ylab('log(p-value)')"
   ]
  },
  {
   "cell_type": "code",
   "execution_count": null,
   "metadata": {},
   "outputs": [],
   "source": []
  }
 ],
 "metadata": {
  "kernelspec": {
   "display_name": "R",
   "language": "R",
   "name": "ir"
  },
  "language_info": {
   "codemirror_mode": "r",
   "file_extension": ".r",
   "mimetype": "text/x-r-source",
   "name": "R",
   "pygments_lexer": "r",
   "version": "3.6.0"
  }
 },
 "nbformat": 4,
 "nbformat_minor": 2
}
