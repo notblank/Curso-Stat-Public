{
 "cells": [
  {
   "cell_type": "code",
   "execution_count": 1,
   "metadata": {
    "scrolled": true
   },
   "outputs": [
    {
     "name": "stderr",
     "output_type": "stream",
     "text": [
      "Loading tidyverse: ggplot2\n",
      "Loading tidyverse: tibble\n",
      "Loading tidyverse: tidyr\n",
      "Loading tidyverse: readr\n",
      "Loading tidyverse: purrr\n",
      "Loading tidyverse: dplyr\n",
      "Conflicts with tidy packages ---------------------------------------------------\n",
      "filter(): dplyr, stats\n",
      "lag():    dplyr, stats\n"
     ]
    }
   ],
   "source": [
    "# referencias:\n",
    "# data8.org \n",
    "# https://www.inferentialthinking.com/chapters/11/2/bootstrap.html\n",
    "# https://www.inferentialthinking.com/chapters/16/2/ab-testing.html\n",
    "# Intermediate Statistics, L. Wasserman. http://www.stat.cmu.edu/~larry/=stat705/\n",
    "\n",
    "library(tidyverse)\n",
    "library(ggplot2)"
   ]
  },
  {
   "cell_type": "markdown",
   "metadata": {},
   "source": [
    "## Percentiles \n",
    "\n",
    "Datos numéricos se pueden ordenar. \n",
    "\n",
    "Cada valor tiene un rango. \n",
    "\n",
    "Un percentíl es el valor de un rango particular. "
   ]
  },
  {
   "cell_type": "code",
   "execution_count": 3,
   "metadata": {},
   "outputs": [
    {
     "data": {
      "text/html": [
       "<ol class=list-inline>\n",
       "\t<li>1</li>\n",
       "\t<li>15</li>\n",
       "\t<li>12</li>\n",
       "\t<li>8</li>\n",
       "\t<li>7</li>\n",
       "</ol>\n"
      ],
      "text/latex": [
       "\\begin{enumerate*}\n",
       "\\item 1\n",
       "\\item 15\n",
       "\\item 12\n",
       "\\item 8\n",
       "\\item 7\n",
       "\\end{enumerate*}\n"
      ],
      "text/markdown": [
       "1. 1\n",
       "2. 15\n",
       "3. 12\n",
       "4. 8\n",
       "5. 7\n",
       "\n",
       "\n"
      ],
      "text/plain": [
       "[1]  1 15 12  8  7"
      ]
     },
     "metadata": {},
     "output_type": "display_data"
    }
   ],
   "source": [
    "x <- c(1, 15, 12, 8, 7)\n",
    "x"
   ]
  },
  {
   "cell_type": "code",
   "execution_count": 5,
   "metadata": {},
   "outputs": [
    {
     "data": {
      "text/html": [
       "<ol class=list-inline>\n",
       "\t<li>1</li>\n",
       "\t<li>7</li>\n",
       "\t<li>8</li>\n",
       "\t<li>12</li>\n",
       "\t<li>15</li>\n",
       "</ol>\n"
      ],
      "text/latex": [
       "\\begin{enumerate*}\n",
       "\\item 1\n",
       "\\item 7\n",
       "\\item 8\n",
       "\\item 12\n",
       "\\item 15\n",
       "\\end{enumerate*}\n"
      ],
      "text/markdown": [
       "1. 1\n",
       "2. 7\n",
       "3. 8\n",
       "4. 12\n",
       "5. 15\n",
       "\n",
       "\n"
      ],
      "text/plain": [
       "[1]  1  7  8 12 15"
      ]
     },
     "metadata": {},
     "output_type": "display_data"
    }
   ],
   "source": [
    "sort(x)"
   ]
  },
  {
   "cell_type": "code",
   "execution_count": 6,
   "metadata": {},
   "outputs": [
    {
     "data": {
      "text/html": [
       "3.325"
      ],
      "text/latex": [
       "3.325"
      ],
      "text/markdown": [
       "3.325"
      ],
      "text/plain": [
       "[1] 3.325"
      ]
     },
     "metadata": {},
     "output_type": "display_data"
    }
   ],
   "source": [
    "5*66.5/100"
   ]
  },
  {
   "cell_type": "markdown",
   "metadata": {},
   "source": [
    "12 es mayor o igual al 80% del resto de los números en x. \n",
    "\n",
    "El 80 percentíl es 12.\n",
    "\n",
    "### Función percentíl\n",
    "\n",
    "    1- Ordenar x, x_s <- sort(x). \n",
    "    2- Calcular k <- p*n/100\n",
    "    3- Si k es un entero x_s[k] es el p-percentíl. Sino usen el mas grande entero próximo. "
   ]
  },
  {
   "cell_type": "code",
   "execution_count": 13,
   "metadata": {
    "collapsed": true
   },
   "outputs": [],
   "source": [
    "percentil <- function(x, p){\n",
    "    n <- length(x)\n",
    "    k <- ceiling(p*n/100)\n",
    "    \n",
    "    x_s <- sort(x)\n",
    "    return(x_s[k])\n",
    "}"
   ]
  },
  {
   "cell_type": "code",
   "execution_count": 13,
   "metadata": {},
   "outputs": [
    {
     "data": {
      "text/html": [
       "8"
      ],
      "text/latex": [
       "8"
      ],
      "text/markdown": [
       "8"
      ],
      "text/plain": [
       "[1] 8"
      ]
     },
     "metadata": {},
     "output_type": "display_data"
    }
   ],
   "source": [
    "percentil(x, 45)"
   ]
  },
  {
   "cell_type": "markdown",
   "metadata": {},
   "source": [
    "#### Un ejemplo: "
   ]
  },
  {
   "cell_type": "code",
   "execution_count": 2,
   "metadata": {},
   "outputs": [
    {
     "data": {
      "text/html": [
       "<table>\n",
       "<thead><tr><th scope=col>bwt</th><th scope=col>gestation</th><th scope=col>parity</th><th scope=col>age</th><th scope=col>height</th><th scope=col>weight</th><th scope=col>smoke</th></tr></thead>\n",
       "<tbody>\n",
       "\t<tr><td>120</td><td>284</td><td>0  </td><td>27 </td><td>62 </td><td>100</td><td>0  </td></tr>\n",
       "\t<tr><td>113</td><td>282</td><td>0  </td><td>33 </td><td>64 </td><td>135</td><td>0  </td></tr>\n",
       "\t<tr><td>128</td><td>279</td><td>0  </td><td>28 </td><td>64 </td><td>115</td><td>1  </td></tr>\n",
       "\t<tr><td>123</td><td>999</td><td>0  </td><td>36 </td><td>69 </td><td>190</td><td>0  </td></tr>\n",
       "\t<tr><td>108</td><td>282</td><td>0  </td><td>23 </td><td>67 </td><td>125</td><td>1  </td></tr>\n",
       "\t<tr><td>136</td><td>286</td><td>0  </td><td>25 </td><td>62 </td><td> 93</td><td>0  </td></tr>\n",
       "</tbody>\n",
       "</table>\n"
      ],
      "text/latex": [
       "\\begin{tabular}{r|lllllll}\n",
       " bwt & gestation & parity & age & height & weight & smoke\\\\\n",
       "\\hline\n",
       "\t 120 & 284 & 0   & 27  & 62  & 100 & 0  \\\\\n",
       "\t 113 & 282 & 0   & 33  & 64  & 135 & 0  \\\\\n",
       "\t 128 & 279 & 0   & 28  & 64  & 115 & 1  \\\\\n",
       "\t 123 & 999 & 0   & 36  & 69  & 190 & 0  \\\\\n",
       "\t 108 & 282 & 0   & 23  & 67  & 125 & 1  \\\\\n",
       "\t 136 & 286 & 0   & 25  & 62  &  93 & 0  \\\\\n",
       "\\end{tabular}\n"
      ],
      "text/markdown": [
       "\n",
       "bwt | gestation | parity | age | height | weight | smoke | \n",
       "|---|---|---|---|---|---|\n",
       "| 120 | 284 | 0   | 27  | 62  | 100 | 0   | \n",
       "| 113 | 282 | 0   | 33  | 64  | 135 | 0   | \n",
       "| 128 | 279 | 0   | 28  | 64  | 115 | 1   | \n",
       "| 123 | 999 | 0   | 36  | 69  | 190 | 0   | \n",
       "| 108 | 282 | 0   | 23  | 67  | 125 | 1   | \n",
       "| 136 | 286 | 0   | 25  | 62  |  93 | 0   | \n",
       "\n",
       "\n"
      ],
      "text/plain": [
       "  bwt gestation parity age height weight smoke\n",
       "1 120 284       0      27  62     100    0    \n",
       "2 113 282       0      33  64     135    0    \n",
       "3 128 279       0      28  64     115    1    \n",
       "4 123 999       0      36  69     190    0    \n",
       "5 108 282       0      23  67     125    1    \n",
       "6 136 286       0      25  62      93    0    "
      ]
     },
     "metadata": {},
     "output_type": "display_data"
    }
   ],
   "source": [
    "babies <- read.table(\"C:/Users/Personal/Data-Science-Students/Tables/babies.data\", header = TRUE, sep = \"\")\n",
    "head(babies)"
   ]
  },
  {
   "cell_type": "code",
   "execution_count": 3,
   "metadata": {},
   "outputs": [
    {
     "data": {
      "text/html": [
       "<table>\n",
       "<thead><tr><th scope=col>bwt</th><th scope=col>gestation</th><th scope=col>ratio_BWG_GEST</th><th scope=col>age</th></tr></thead>\n",
       "<tbody>\n",
       "\t<tr><td>120      </td><td>284      </td><td>0.4225352</td><td>27       </td></tr>\n",
       "\t<tr><td>113      </td><td>282      </td><td>0.4007092</td><td>33       </td></tr>\n",
       "\t<tr><td>128      </td><td>279      </td><td>0.4587814</td><td>28       </td></tr>\n",
       "\t<tr><td>123      </td><td>999      </td><td>0.1231231</td><td>36       </td></tr>\n",
       "\t<tr><td>108      </td><td>282      </td><td>0.3829787</td><td>23       </td></tr>\n",
       "\t<tr><td>136      </td><td>286      </td><td>0.4755245</td><td>25       </td></tr>\n",
       "</tbody>\n",
       "</table>\n"
      ],
      "text/latex": [
       "\\begin{tabular}{r|llll}\n",
       " bwt & gestation & ratio\\_BWG\\_GEST & age\\\\\n",
       "\\hline\n",
       "\t 120       & 284       & 0.4225352 & 27       \\\\\n",
       "\t 113       & 282       & 0.4007092 & 33       \\\\\n",
       "\t 128       & 279       & 0.4587814 & 28       \\\\\n",
       "\t 123       & 999       & 0.1231231 & 36       \\\\\n",
       "\t 108       & 282       & 0.3829787 & 23       \\\\\n",
       "\t 136       & 286       & 0.4755245 & 25       \\\\\n",
       "\\end{tabular}\n"
      ],
      "text/markdown": [
       "\n",
       "bwt | gestation | ratio_BWG_GEST | age | \n",
       "|---|---|---|---|---|---|\n",
       "| 120       | 284       | 0.4225352 | 27        | \n",
       "| 113       | 282       | 0.4007092 | 33        | \n",
       "| 128       | 279       | 0.4587814 | 28        | \n",
       "| 123       | 999       | 0.1231231 | 36        | \n",
       "| 108       | 282       | 0.3829787 | 23        | \n",
       "| 136       | 286       | 0.4755245 | 25        | \n",
       "\n",
       "\n"
      ],
      "text/plain": [
       "  bwt gestation ratio_BWG_GEST age\n",
       "1 120 284       0.4225352      27 \n",
       "2 113 282       0.4007092      33 \n",
       "3 128 279       0.4587814      28 \n",
       "4 123 999       0.1231231      36 \n",
       "5 108 282       0.3829787      23 \n",
       "6 136 286       0.4755245      25 "
      ]
     },
     "metadata": {},
     "output_type": "display_data"
    }
   ],
   "source": [
    "babies_Simple <- babies %>% mutate(ratio_BWG_GEST = bwt/gestation) %>% \n",
    "                    select(bwt, gestation, ratio_BWG_GEST, age)\n",
    "\n",
    "head(babies_Simple)"
   ]
  },
  {
   "cell_type": "code",
   "execution_count": 17,
   "metadata": {},
   "outputs": [
    {
     "data": {
      "text/html": [
       "<table>\n",
       "<thead><tr><th scope=col>promedio_pob</th></tr></thead>\n",
       "<tbody>\n",
       "\t<tr><td>0.4248326</td></tr>\n",
       "</tbody>\n",
       "</table>\n"
      ],
      "text/latex": [
       "\\begin{tabular}{r|l}\n",
       " promedio\\_pob\\\\\n",
       "\\hline\n",
       "\t 0.4248326\\\\\n",
       "\\end{tabular}\n"
      ],
      "text/markdown": [
       "\n",
       "promedio_pob | \n",
       "|---|\n",
       "| 0.4248326 | \n",
       "\n",
       "\n"
      ],
      "text/plain": [
       "  promedio_pob\n",
       "1 0.4248326   "
      ]
     },
     "metadata": {},
     "output_type": "display_data"
    }
   ],
   "source": [
    "babies_Simple %>% summarize(promedio_pob = mean(ratio_BWG_GEST))"
   ]
  },
  {
   "cell_type": "code",
   "execution_count": 18,
   "metadata": {},
   "outputs": [
    {
     "data": {},
     "metadata": {},
     "output_type": "display_data"
    },
    {
     "data": {
      "image/png": "[encoded data removed]",
      "text/plain": [
       "plot without title"
      ]
     },
     "metadata": {},
     "output_type": "display_data"
    }
   ],
   "source": [
    "ggplot(babies_Simple, aes(x = ratio_BWG_GEST)) + \n",
    "    geom_histogram(breaks = seq(0, 0.8, 0.05)) + \n",
    "    geom_vline(xintercept = percentil(babies_Simple$ratio_BWG_GEST, 80), \n",
    "               size = 2, alpha=0.5) + \n",
    "    ggtitle(\"Histograma y p-Percentíl\")"
   ]
  },
  {
   "cell_type": "markdown",
   "metadata": {},
   "source": [
    "### Bootstrap\n",
    "\n",
    "Voy a asumir que solo tengo 500 muestras de la población. "
   ]
  },
  {
   "cell_type": "code",
   "execution_count": 22,
   "metadata": {},
   "outputs": [
    {
     "data": {
      "text/html": [
       "<ol class=list-inline>\n",
       "\t<li>1236</li>\n",
       "\t<li>4</li>\n",
       "</ol>\n"
      ],
      "text/latex": [
       "\\begin{enumerate*}\n",
       "\\item 1236\n",
       "\\item 4\n",
       "\\end{enumerate*}\n"
      ],
      "text/markdown": [
       "1. 1236\n",
       "2. 4\n",
       "\n",
       "\n"
      ],
      "text/plain": [
       "[1] 1236    4"
      ]
     },
     "metadata": {},
     "output_type": "display_data"
    }
   ],
   "source": [
    "dim(babies_Simple)"
   ]
  },
  {
   "cell_type": "code",
   "execution_count": 27,
   "metadata": {},
   "outputs": [
    {
     "data": {},
     "metadata": {},
     "output_type": "display_data"
    },
    {
     "data": {
      "image/png": "[encoded data removed]",
      "text/plain": [
       "plot without title"
      ]
     },
     "metadata": {},
     "output_type": "display_data"
    }
   ],
   "source": [
    "index <- sample(1:1236, 500)\n",
    "babies_Sample <- babies_Simple %>% slice(index)\n",
    "\n",
    "ggplot(babies_Sample, aes(x = ratio_BWG_GEST)) + geom_histogram(breaks = seq(0, 0.8, 0.05)) +\n",
    "    ggtitle(\"Histograma de una muestra\")"
   ]
  },
  {
   "cell_type": "markdown",
   "metadata": {},
   "source": [
    "### Estimar el peso/semanas de Gestación"
   ]
  },
  {
   "cell_type": "code",
   "execution_count": 102,
   "metadata": {},
   "outputs": [
    {
     "data": {
      "text/html": [
       "<table>\n",
       "<thead><tr><th scope=col>promedio</th><th scope=col>mediana</th></tr></thead>\n",
       "<tbody>\n",
       "\t<tr><td>0.4266619</td><td>0.4290912</td></tr>\n",
       "</tbody>\n",
       "</table>\n"
      ],
      "text/latex": [
       "\\begin{tabular}{r|ll}\n",
       " promedio & mediana\\\\\n",
       "\\hline\n",
       "\t 0.4266619 & 0.4290912\\\\\n",
       "\\end{tabular}\n"
      ],
      "text/markdown": [
       "\n",
       "promedio | mediana | \n",
       "|---|\n",
       "| 0.4266619 | 0.4290912 | \n",
       "\n",
       "\n"
      ],
      "text/plain": [
       "  promedio  mediana  \n",
       "1 0.4266619 0.4290912"
      ]
     },
     "metadata": {},
     "output_type": "display_data"
    }
   ],
   "source": [
    "babies_Sample %>% summarize(promedio = mean(ratio_BWG_GEST), mediana = median(ratio_BWG_GEST))"
   ]
  },
  {
   "cell_type": "markdown",
   "metadata": {},
   "source": [
    "### Qué tan diferente puede ser nuestra estimación si la muestra cambia? \n",
    "\n",
    "Estimación y cuantificar el error en la estimación.  \n",
    "\n",
    "Una idea: construir un cuantíl de nuestra estimación. \n",
    "\n",
    "Problema: necesito varias estiamaciones. \n",
    "\n",
    "\n",
    "## Bootstrap \n",
    "\n",
    "Pensar en la muestra como si fuese la población (todos los nacimientos). \n",
    "\n",
    "Tomar muestras con reemplazo de la muestra. Para cada muestra estimar la media. "
   ]
  },
  {
   "cell_type": "code",
   "execution_count": 103,
   "metadata": {
    "collapsed": true
   },
   "outputs": [],
   "source": [
    "bootstrapMean <- function(original_sample, B){\n",
    "    # esperanzas bootstrap. \n",
    "    # input: original_sample: muestra original.\n",
    "    #        B: número de muestras bootstrap. \n",
    "    # output: vector con las medias para cada muestra bootstrap. \n",
    "    \n",
    "    n <- length(original_sample)\n",
    "    means <- rep(0, B)\n",
    "    \n",
    "    for(i in 1:B){\n",
    "        index <- sample(1:n, n, replace = TRUE)\n",
    "        means[i] <- mean(original_sample[index])\n",
    "    }\n",
    "    return(means)\n",
    "}"
   ]
  },
  {
   "cell_type": "code",
   "execution_count": 104,
   "metadata": {},
   "outputs": [
    {
     "data": {
      "text/html": [
       "500"
      ],
      "text/latex": [
       "500"
      ],
      "text/markdown": [
       "500"
      ],
      "text/plain": [
       "[1] 500"
      ]
     },
     "metadata": {},
     "output_type": "display_data"
    }
   ],
   "source": [
    "means <- bootstrapMean(babies_Sample$ratio_BWG_GEST, 1e3)\n",
    "length(babies_Sample$ratio_BWG_GEST)"
   ]
  },
  {
   "cell_type": "code",
   "execution_count": 115,
   "metadata": {},
   "outputs": [
    {
     "data": {
      "text/html": [
       "0.420092911249929"
      ],
      "text/latex": [
       "0.420092911249929"
      ],
      "text/markdown": [
       "0.420092911249929"
      ],
      "text/plain": [
       "[1] 0.4200929"
      ]
     },
     "metadata": {},
     "output_type": "display_data"
    },
    {
     "data": {
      "text/html": [
       "0.432671313376806"
      ],
      "text/latex": [
       "0.432671313376806"
      ],
      "text/markdown": [
       "0.432671313376806"
      ],
      "text/plain": [
       "[1] 0.4326713"
      ]
     },
     "metadata": {},
     "output_type": "display_data"
    }
   ],
   "source": [
    "pL <- percentil(means, 2.5)\n",
    "pR <- percentil(means, 97.5)\n",
    "\n",
    "pL\n",
    "pR"
   ]
  },
  {
   "cell_type": "code",
   "execution_count": 210,
   "metadata": {},
   "outputs": [
    {
     "data": {},
     "metadata": {},
     "output_type": "display_data"
    },
    {
     "data": {
      "image/png": "[encoded data removed]",
      "text/plain": [
       "plot without title"
      ]
     },
     "metadata": {},
     "output_type": "display_data"
    }
   ],
   "source": [
    "ggplot(babies_Sample, aes(x = ratio_BWG_GEST)) + geom_histogram(breaks = seq(0.41, 0.44, 0.005)) +\n",
    "        geom_segment(aes(x = pL, y = 0, xend = pR, yend = 0, colour = \"bootstrap CI\"), size=2) + \n",
    "        geom_vline(xintercept = 0.4248326, size=2, alpha = 0.3) +\n",
    "        ggtitle(\"Zoom del Histograma de la muestra \\n con el IC al 95%\")"
   ]
  },
  {
   "cell_type": "markdown",
   "metadata": {},
   "source": [
    "### Interpretación de un Intervalo de Confianza"
   ]
  },
  {
   "cell_type": "code",
   "execution_count": 158,
   "metadata": {
    "collapsed": true
   },
   "outputs": [],
   "source": [
    "IC <- data.frame(matrix(ncol = 2, nrow = 100))\n",
    "names(IC) <- c(\"pL\", \"pR\")"
   ]
  },
  {
   "cell_type": "code",
   "execution_count": 159,
   "metadata": {
    "collapsed": true
   },
   "outputs": [],
   "source": [
    "for(j in 1:100){\n",
    "    index <- sample(1:1236, 500)\n",
    "    babies_Sample <- babies_Simple %>% slice(index)\n",
    "    \n",
    "    means <- bootstrapMean(babies_Sample$ratio_BWG_GEST, 5*1e3)\n",
    "    pL <- percentil(means, 2.5)\n",
    "    pR <- percentil(means, 97.5)\n",
    "    \n",
    "    IC[j, ] <- c(pL, pR)\n",
    "}"
   ]
  },
  {
   "cell_type": "markdown",
   "metadata": {},
   "source": [
    "Si repetimos el experimento 100 veces 95 (mas o menos) de los 100 intervalos va a contener el valor real. "
   ]
  },
  {
   "cell_type": "code",
   "execution_count": 161,
   "metadata": {},
   "outputs": [
    {
     "data": {},
     "metadata": {},
     "output_type": "display_data"
    },
    {
     "data": {
      "image/png": "[encoded data removed]",
      "text/plain": [
       "plot without title"
      ]
     },
     "metadata": {},
     "output_type": "display_data"
    }
   ],
   "source": [
    "IC <- IC %>% mutate(ypos = 1:100)\n",
    "\n",
    "ggplot(IC) + geom_segment(aes(x = pL, y = ypos, xend = pR, yend = ypos, colour = \"bootstrap CI\"), size=1.5) + \n",
    "    geom_vline(xintercept = 0.4248326, alpha = 0.3, size=1.5) + \n",
    "    xlab(\"\") + ylab(\"intervalos de confianza\")"
   ]
  },
  {
   "cell_type": "markdown",
   "metadata": {},
   "source": [
    "## Comparar dos distribuciones(test de permutaciones)\n",
    "\n",
    "Dos muestras: \n",
    "\n",
    "$$ \\Large X_1, ... , X_n \\sim  F$$\n",
    "$$ \\Large Y_1, ... , Y_m \\sim G$$\n",
    "  \n",
    "La distribución de X y Y son iguales? \n",
    "\n",
    "Una idea:\n",
    "0 - Calculen:\n",
    "\n",
    "$$ \\Large T = \\left|\\mathbb{E}(X) - \\mathbb{E}(Y) \\right|  $$\n",
    "1 - Pongan todas las variables en un vector \n",
    "\n",
    "$$ \\Large Z = (X_1, ... , X_n, Y_1, ... , Y_m) $$\n",
    "\n",
    "2 - Permuten las entradas:\n",
    "\n",
    "$$ \\Large  \n",
    "\\begin{align*}\n",
    "\\pi  Z  &=(\\underbrace{X_3,Y_1, Y_9, ... , X_3}_{n-elementos}, \\underbrace{X_{10}, X_8, ... Y_{13}, Y_2}_{m-elementos}) \\\\\n",
    "        &= (\\pi X, \\pi Y)\n",
    "\\end{align*}\n",
    "$$\n",
    "\n",
    "y calculen: \n",
    "\n",
    "$$ \\Large T^{(\\pi)}= \\left |\\mathbb{E}(\\pi X) - \\mathbb{E}(\\pi Y) \\right| $$\n",
    "\n",
    "Si calculan $J$ permutaciones van a tener una secuencia de T's: \n",
    "\n",
    "$$ \\Large T^{(\\pi_1)}, T^{(\\pi_2)}, ... , T^{(\\pi_J)},$$\n",
    "\n",
    "Calculen el cuantíl de T: \n",
    "\n",
    "$$ \\Large T^{(\\pi_1)}, T^{(\\pi_2)}, ... , T^{(\\pi_{330})}, \\underbrace{}_{T}, T^{(\\pi_{331})}, ...  T^{(\\pi_J)} $$  \n",
    "\n",
    "Si $T$ es un 90 cuantíl, entonces es mas raro que el 90% de los datos y hay una buena probabilidad que las F y G sean diferentes.  \n",
    "\n",
    "\n",
    "### Intuición de por qué funciona: \n",
    "\n",
    "Si las dos distribuciones son iguales, permutar los datos no debería cambia T. "
   ]
  },
  {
   "cell_type": "code",
   "execution_count": 4,
   "metadata": {},
   "outputs": [
    {
     "data": {
      "text/html": [
       "<table>\n",
       "<thead><tr><th scope=col>bwt</th><th scope=col>gestation</th><th scope=col>parity</th><th scope=col>age</th><th scope=col>height</th><th scope=col>weight</th><th scope=col>smoke</th></tr></thead>\n",
       "<tbody>\n",
       "\t<tr><td>120</td><td>284</td><td>0  </td><td>27 </td><td>62 </td><td>100</td><td>0  </td></tr>\n",
       "\t<tr><td>113</td><td>282</td><td>0  </td><td>33 </td><td>64 </td><td>135</td><td>0  </td></tr>\n",
       "\t<tr><td>128</td><td>279</td><td>0  </td><td>28 </td><td>64 </td><td>115</td><td>1  </td></tr>\n",
       "\t<tr><td>123</td><td>999</td><td>0  </td><td>36 </td><td>69 </td><td>190</td><td>0  </td></tr>\n",
       "\t<tr><td>108</td><td>282</td><td>0  </td><td>23 </td><td>67 </td><td>125</td><td>1  </td></tr>\n",
       "\t<tr><td>136</td><td>286</td><td>0  </td><td>25 </td><td>62 </td><td> 93</td><td>0  </td></tr>\n",
       "</tbody>\n",
       "</table>\n"
      ],
      "text/latex": [
       "\\begin{tabular}{r|lllllll}\n",
       " bwt & gestation & parity & age & height & weight & smoke\\\\\n",
       "\\hline\n",
       "\t 120 & 284 & 0   & 27  & 62  & 100 & 0  \\\\\n",
       "\t 113 & 282 & 0   & 33  & 64  & 135 & 0  \\\\\n",
       "\t 128 & 279 & 0   & 28  & 64  & 115 & 1  \\\\\n",
       "\t 123 & 999 & 0   & 36  & 69  & 190 & 0  \\\\\n",
       "\t 108 & 282 & 0   & 23  & 67  & 125 & 1  \\\\\n",
       "\t 136 & 286 & 0   & 25  & 62  &  93 & 0  \\\\\n",
       "\\end{tabular}\n"
      ],
      "text/markdown": [
       "\n",
       "bwt | gestation | parity | age | height | weight | smoke | \n",
       "|---|---|---|---|---|---|\n",
       "| 120 | 284 | 0   | 27  | 62  | 100 | 0   | \n",
       "| 113 | 282 | 0   | 33  | 64  | 135 | 0   | \n",
       "| 128 | 279 | 0   | 28  | 64  | 115 | 1   | \n",
       "| 123 | 999 | 0   | 36  | 69  | 190 | 0   | \n",
       "| 108 | 282 | 0   | 23  | 67  | 125 | 1   | \n",
       "| 136 | 286 | 0   | 25  | 62  |  93 | 0   | \n",
       "\n",
       "\n"
      ],
      "text/plain": [
       "  bwt gestation parity age height weight smoke\n",
       "1 120 284       0      27  62     100    0    \n",
       "2 113 282       0      33  64     135    0    \n",
       "3 128 279       0      28  64     115    1    \n",
       "4 123 999       0      36  69     190    0    \n",
       "5 108 282       0      23  67     125    1    \n",
       "6 136 286       0      25  62      93    0    "
      ]
     },
     "metadata": {},
     "output_type": "display_data"
    }
   ],
   "source": [
    "head(babies)"
   ]
  },
  {
   "cell_type": "code",
   "execution_count": 5,
   "metadata": {
    "collapsed": true
   },
   "outputs": [],
   "source": [
    "babies_smoke <- babies %>% filter(smoke == 1, bwt < 200)\n",
    "babies_dont <- babies %>% filter(smoke == 0, bwt < 200)"
   ]
  },
  {
   "cell_type": "code",
   "execution_count": 6,
   "metadata": {},
   "outputs": [
    {
     "data": {},
     "metadata": {},
     "output_type": "display_data"
    },
    {
     "data": {
      "image/png": "[encoded data removed]",
      "text/plain": [
       "plot without title"
      ]
     },
     "metadata": {},
     "output_type": "display_data"
    }
   ],
   "source": [
    "ggplot() + geom_histogram(data = babies_smoke, aes(x = bwt), breaks = seq(40, 200, 5), fill = \"red\", alpha=0.5) +\n",
    "        geom_histogram(data = babies_dont, aes(x = bwt), breaks = seq(40, 200, 5), fill = \"blue\", alpha=0.5) +\n",
    "        ggtitle(\"Peso al nacer \\n Madres fumadoras (rojo), Madres no fumadoras (azúl)\")"
   ]
  },
  {
   "cell_type": "markdown",
   "metadata": {},
   "source": [
    "### Fumar tiene un efecto sobre el peso al nacer? \n",
    "\n",
    "Dos dos distribuciones:\n",
    "\n",
    "    - F: Madres fumadoras. \n",
    "    - N: Madres no fumadoras. \n",
    "    \n",
    "Son iguales?\n",
    "\n",
    "H0: F = G."
   ]
  },
  {
   "cell_type": "code",
   "execution_count": 7,
   "metadata": {},
   "outputs": [
    {
     "data": {
      "text/html": [
       "<ol class=list-inline>\n",
       "\t<li>484</li>\n",
       "\t<li>7</li>\n",
       "</ol>\n"
      ],
      "text/latex": [
       "\\begin{enumerate*}\n",
       "\\item 484\n",
       "\\item 7\n",
       "\\end{enumerate*}\n"
      ],
      "text/markdown": [
       "1. 484\n",
       "2. 7\n",
       "\n",
       "\n"
      ],
      "text/plain": [
       "[1] 484   7"
      ]
     },
     "metadata": {},
     "output_type": "display_data"
    },
    {
     "data": {
      "text/html": [
       "<ol class=list-inline>\n",
       "\t<li>742</li>\n",
       "\t<li>7</li>\n",
       "</ol>\n"
      ],
      "text/latex": [
       "\\begin{enumerate*}\n",
       "\\item 742\n",
       "\\item 7\n",
       "\\end{enumerate*}\n"
      ],
      "text/markdown": [
       "1. 742\n",
       "2. 7\n",
       "\n",
       "\n"
      ],
      "text/plain": [
       "[1] 742   7"
      ]
     },
     "metadata": {},
     "output_type": "display_data"
    }
   ],
   "source": [
    "dim(babies_smoke) \n",
    "dim(babies_dont)"
   ]
  },
  {
   "cell_type": "markdown",
   "metadata": {},
   "source": [
    "Hay 484 muestras de F y 742 de N.  "
   ]
  },
  {
   "cell_type": "code",
   "execution_count": 8,
   "metadata": {
    "collapsed": true
   },
   "outputs": [],
   "source": [
    "permutationTest <- function(X, Y, J){\n",
    "    # Test de permutaciones para la diferencia del promedio de dos observaiones. \n",
    "    # inputs: X, Y dos vectores. \n",
    "    #         J número de permutaciones. \n",
    "    # output: Muestras de la estadística del test. T = |mean(X) - mean(Y)|\n",
    "    \n",
    "    nX <- length(X)\n",
    "    nY <- length(Y)\n",
    "    Tpi <- rep(0, (nX + nY))\n",
    "    \n",
    "    Z <- c(X, Y)\n",
    "    \n",
    "    for(j in 1:J){\n",
    "        iX <- sample(1:(nX + nY), nX)\n",
    "        Xpi <- Z[iX]\n",
    "        Ypi <- Z[-iX]\n",
    "        Tpi[j] <- abs(mean(Xpi) - mean(Ypi))\n",
    "    }\n",
    "    \n",
    "    return(Tpi)\n",
    "}"
   ]
  },
  {
   "cell_type": "code",
   "execution_count": 9,
   "metadata": {
    "collapsed": true
   },
   "outputs": [],
   "source": [
    "X <- babies_smoke$bwt\n",
    "Y <- babies_dont$bwt\n",
    "J <- 1e5\n",
    "\n",
    "T <- abs(mean(X) - mean(Y))\n",
    "Tpi <- permutationTest(X, Y, J)"
   ]
  },
  {
   "cell_type": "code",
   "execution_count": 10,
   "metadata": {},
   "outputs": [
    {
     "data": {},
     "metadata": {},
     "output_type": "display_data"
    },
    {
     "data": {
      "image/png": "[encoded data removed]",
      "text/plain": [
       "plot without title"
      ]
     },
     "metadata": {},
     "output_type": "display_data"
    }
   ],
   "source": [
    "Tpi <- data.frame(Tpi)\n",
    "\n",
    "ggplot(Tpi, aes(x = Tpi)) + geom_histogram(breaks = seq(0, 4, 0.2)) + \n",
    "        geom_vline(xintercept = T, size = 2, color = \"red\", alpha = 0.5) +\n",
    "        ggtitle(\"Distribución de T bajo H0. \\n Rojo: T observado.\")"
   ]
  },
  {
   "cell_type": "markdown",
   "metadata": {},
   "source": [
    "La diferencia observada (T) en rojo no es consistente con la distribución de T cuando asumimos que F = N.  "
   ]
  },
  {
   "cell_type": "code",
   "execution_count": 224,
   "metadata": {},
   "outputs": [
    {
     "data": {
      "text/html": [
       "<table>\n",
       "<thead><tr><th scope=col>mX_boot</th><th scope=col>mY_boot</th><th scope=col>dif</th></tr></thead>\n",
       "<tbody>\n",
       "\t<tr><td>113.1570 </td><td>122.6536 </td><td> 9.496614</td></tr>\n",
       "\t<tr><td>114.5413 </td><td>124.7574 </td><td>10.216090</td></tr>\n",
       "\t<tr><td>114.7004 </td><td>123.2426 </td><td> 8.542174</td></tr>\n",
       "\t<tr><td>114.0826 </td><td>122.7075 </td><td> 8.624903</td></tr>\n",
       "\t<tr><td>113.7190 </td><td>123.6698 </td><td> 9.950803</td></tr>\n",
       "\t<tr><td>115.5372 </td><td>123.1105 </td><td> 7.573322</td></tr>\n",
       "</tbody>\n",
       "</table>\n"
      ],
      "text/latex": [
       "\\begin{tabular}{r|lll}\n",
       " mX\\_boot & mY\\_boot & dif\\\\\n",
       "\\hline\n",
       "\t 113.1570  & 122.6536  &  9.496614\\\\\n",
       "\t 114.5413  & 124.7574  & 10.216090\\\\\n",
       "\t 114.7004  & 123.2426  &  8.542174\\\\\n",
       "\t 114.0826  & 122.7075  &  8.624903\\\\\n",
       "\t 113.7190  & 123.6698  &  9.950803\\\\\n",
       "\t 115.5372  & 123.1105  &  7.573322\\\\\n",
       "\\end{tabular}\n"
      ],
      "text/markdown": [
       "\n",
       "mX_boot | mY_boot | dif | \n",
       "|---|---|---|---|---|---|\n",
       "| 113.1570  | 122.6536  |  9.496614 | \n",
       "| 114.5413  | 124.7574  | 10.216090 | \n",
       "| 114.7004  | 123.2426  |  8.542174 | \n",
       "| 114.0826  | 122.7075  |  8.624903 | \n",
       "| 113.7190  | 123.6698  |  9.950803 | \n",
       "| 115.5372  | 123.1105  |  7.573322 | \n",
       "\n",
       "\n"
      ],
      "text/plain": [
       "  mX_boot  mY_boot  dif      \n",
       "1 113.1570 122.6536  9.496614\n",
       "2 114.5413 124.7574 10.216090\n",
       "3 114.7004 123.2426  8.542174\n",
       "4 114.0826 122.7075  8.624903\n",
       "5 113.7190 123.6698  9.950803\n",
       "6 115.5372 123.1105  7.573322"
      ]
     },
     "metadata": {},
     "output_type": "display_data"
    }
   ],
   "source": [
    "B <- 1e4\n",
    "\n",
    "mX_boot <- bootstrapMean(X, B)\n",
    "mY_boot <- bootstrapMean(Y, B)\n",
    "\n",
    "bootCI <- data.frame(mX_boot, mY_boot) %>% mutate(dif = mY_boot - mX_boot) \n",
    "head(bootCI)"
   ]
  },
  {
   "cell_type": "code",
   "execution_count": 225,
   "metadata": {
    "collapsed": true
   },
   "outputs": [],
   "source": [
    "pL <- percentil(bootCI$dif, 2.5)\n",
    "pR <- percentil(bootCI$dif, 97.5)"
   ]
  },
  {
   "cell_type": "code",
   "execution_count": 228,
   "metadata": {},
   "outputs": [
    {
     "data": {},
     "metadata": {},
     "output_type": "display_data"
    },
    {
     "data": {
      "image/png": "[encoded data removed]",
      "text/plain": [
       "plot without title"
      ]
     },
     "metadata": {},
     "output_type": "display_data"
    }
   ],
   "source": [
    "ggplot(bootCI, aes(x = dif)) + geom_histogram(breaks = seq(4, 13, 0.2)) + \n",
    "    geom_segment(aes(x = pL, y = 0, xend = pR, yend = 0, colour = \"bootstrap CI\"), size=2) +\n",
    "    xlab(\"mean(F) - mean(N)\")"
   ]
  },
  {
   "cell_type": "markdown",
   "metadata": {},
   "source": [
    "El gráfico de arriba muestra un intervalo de confianza al 95% de la diferencia entre los promedios de F y N. \n",
    "\n",
    "- Como no contiene 0, las dos distribuciones son diferentes. \n",
    "- También nos da una idea de que tan diferentes: por lo menos 5 onzas de diferencia. "
   ]
  }
 ],
 "metadata": {
  "kernelspec": {
   "display_name": "R 3.3",
   "language": "R",
   "name": "ir33"
  },
  "language_info": {
   "codemirror_mode": "r",
   "file_extension": ".r",
   "mimetype": "text/x-r-source",
   "name": "R",
   "pygments_lexer": "r",
   "version": "3.3.3"
  }
 },
 "nbformat": 4,
 "nbformat_minor": 2
}
