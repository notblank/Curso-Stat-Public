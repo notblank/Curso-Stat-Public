{
 "cells": [
  {
   "cell_type": "code",
   "execution_count": 1,
   "metadata": {
    "scrolled": true
   },
   "outputs": [
    {
     "name": "stderr",
     "output_type": "stream",
     "text": [
      "\n",
      "Attaching package: ‘dplyr’\n",
      "\n",
      "The following objects are masked from ‘package:stats’:\n",
      "\n",
      "    filter, lag\n",
      "\n",
      "The following objects are masked from ‘package:base’:\n",
      "\n",
      "    intersect, setdiff, setequal, union\n",
      "\n"
     ]
    },
    {
     "data": {
      "text/html": [
       "<table>\n",
       "<caption>A data.frame: 6 × 6</caption>\n",
       "<thead>\n",
       "\t<tr><th></th><th scope=col>SEX</th><th scope=col>AGE</th><th scope=col>pop_2010</th><th scope=col>pop_2014</th><th scope=col>Cambio</th><th scope=col>Crecimiento</th></tr>\n",
       "\t<tr><th></th><th scope=col>&lt;int&gt;</th><th scope=col>&lt;int&gt;</th><th scope=col>&lt;int&gt;</th><th scope=col>&lt;int&gt;</th><th scope=col>&lt;int&gt;</th><th scope=col>&lt;chr&gt;</th></tr>\n",
       "</thead>\n",
       "<tbody>\n",
       "\t<tr><th scope=row>1</th><td>0</td><td>0</td><td>3951330</td><td>3948350</td><td>  -2980</td><td>-0.02%</td></tr>\n",
       "\t<tr><th scope=row>2</th><td>0</td><td>1</td><td>3957888</td><td>3962123</td><td>   4235</td><td>0.03% </td></tr>\n",
       "\t<tr><th scope=row>3</th><td>0</td><td>2</td><td>4090862</td><td>3957772</td><td>-133090</td><td>-0.82%</td></tr>\n",
       "\t<tr><th scope=row>4</th><td>0</td><td>3</td><td>4111920</td><td>4005190</td><td>-106730</td><td>-0.66%</td></tr>\n",
       "\t<tr><th scope=row>5</th><td>0</td><td>4</td><td>4077552</td><td>4003448</td><td> -74104</td><td>-0.46%</td></tr>\n",
       "\t<tr><th scope=row>6</th><td>0</td><td>5</td><td>4064653</td><td>4004858</td><td> -59795</td><td>-0.37%</td></tr>\n",
       "</tbody>\n",
       "</table>\n"
      ],
      "text/latex": [
       "A data.frame: 6 × 6\n",
       "\\begin{tabular}{r|llllll}\n",
       "  & SEX & AGE & pop\\_2010 & pop\\_2014 & Cambio & Crecimiento\\\\\n",
       "  & <int> & <int> & <int> & <int> & <int> & <chr>\\\\\n",
       "\\hline\n",
       "\t1 & 0 & 0 & 3951330 & 3948350 &   -2980 & -0.02\\%\\\\\n",
       "\t2 & 0 & 1 & 3957888 & 3962123 &    4235 & 0.03\\% \\\\\n",
       "\t3 & 0 & 2 & 4090862 & 3957772 & -133090 & -0.82\\%\\\\\n",
       "\t4 & 0 & 3 & 4111920 & 4005190 & -106730 & -0.66\\%\\\\\n",
       "\t5 & 0 & 4 & 4077552 & 4003448 &  -74104 & -0.46\\%\\\\\n",
       "\t6 & 0 & 5 & 4064653 & 4004858 &  -59795 & -0.37\\%\\\\\n",
       "\\end{tabular}\n"
      ],
      "text/markdown": [
       "\n",
       "A data.frame: 6 × 6\n",
       "\n",
       "| <!--/--> | SEX &lt;int&gt; | AGE &lt;int&gt; | pop_2010 &lt;int&gt; | pop_2014 &lt;int&gt; | Cambio &lt;int&gt; | Crecimiento &lt;chr&gt; |\n",
       "|---|---|---|---|---|---|---|\n",
       "| 1 | 0 | 0 | 3951330 | 3948350 |   -2980 | -0.02% |\n",
       "| 2 | 0 | 1 | 3957888 | 3962123 |    4235 | 0.03%  |\n",
       "| 3 | 0 | 2 | 4090862 | 3957772 | -133090 | -0.82% |\n",
       "| 4 | 0 | 3 | 4111920 | 4005190 | -106730 | -0.66% |\n",
       "| 5 | 0 | 4 | 4077552 | 4003448 |  -74104 | -0.46% |\n",
       "| 6 | 0 | 5 | 4064653 | 4004858 |  -59795 | -0.37% |\n",
       "\n"
      ],
      "text/plain": [
       "  SEX AGE pop_2010 pop_2014 Cambio  Crecimiento\n",
       "1 0   0   3951330  3948350    -2980 -0.02%     \n",
       "2 0   1   3957888  3962123     4235 0.03%      \n",
       "3 0   2   4090862  3957772  -133090 -0.82%     \n",
       "4 0   3   4111920  4005190  -106730 -0.66%     \n",
       "5 0   4   4077552  4003448   -74104 -0.46%     \n",
       "6 0   5   4064653  4004858   -59795 -0.37%     "
      ]
     },
     "metadata": {},
     "output_type": "display_data"
    }
   ],
   "source": [
    "library(dplyr)\n",
    "\n",
    "pop_us = read.table(file = \"../tablas/pop_us.csv\", \n",
    "                    sep = ',', header = T)\n",
    "pop_Simple <- select(pop_us, c(SEX, AGE, POPESTIMATE2010, POPESTIMATE2014))\n",
    "\n",
    "names(pop_Simple) <- c('SEX', 'AGE', 'pop_2010', 'pop_2014')\n",
    "\n",
    "percent <- function(x, digits = 2, format = \"f\", ...) {\n",
    "  paste0(formatC(100 * x, format = format, digits = digits, ...), \"%\")\n",
    "}\n",
    "\n",
    "pop_Simple <- mutate(pop_Simple, Cambio = pop_2014 - pop_2010, \n",
    "                     Crecimiento = percent((pop_2014/pop_2010)^(1/4) - 1))\n",
    "\n",
    "head(pop_Simple)"
   ]
  },
  {
   "cell_type": "code",
   "execution_count": 2,
   "metadata": {},
   "outputs": [
    {
     "data": {
      "text/html": [
       "<table>\n",
       "<caption>A data.frame: 10 × 6</caption>\n",
       "<thead>\n",
       "\t<tr><th></th><th scope=col>SEX</th><th scope=col>AGE</th><th scope=col>pop_2010</th><th scope=col>pop_2014</th><th scope=col>Cambio</th><th scope=col>Crecimiento</th></tr>\n",
       "\t<tr><th></th><th scope=col>&lt;int&gt;</th><th scope=col>&lt;int&gt;</th><th scope=col>&lt;int&gt;</th><th scope=col>&lt;int&gt;</th><th scope=col>&lt;int&gt;</th><th scope=col>&lt;chr&gt;</th></tr>\n",
       "</thead>\n",
       "<tbody>\n",
       "\t<tr><th scope=row>1</th><td>2</td><td>0</td><td>1932910</td><td>1930493</td><td> -2417</td><td>-0.03%</td></tr>\n",
       "\t<tr><th scope=row>2</th><td>2</td><td>1</td><td>1937556</td><td>1938870</td><td>  1314</td><td>0.02% </td></tr>\n",
       "\t<tr><th scope=row>3</th><td>2</td><td>2</td><td>2002177</td><td>1935270</td><td>-66907</td><td>-0.85%</td></tr>\n",
       "\t<tr><th scope=row>4</th><td>2</td><td>3</td><td>2010648</td><td>1956572</td><td>-54076</td><td>-0.68%</td></tr>\n",
       "\t<tr><th scope=row>5</th><td>2</td><td>4</td><td>1993240</td><td>1959950</td><td>-33290</td><td>-0.42%</td></tr>\n",
       "\t<tr><th scope=row>6</th><td>2</td><td>5</td><td>1988080</td><td>1961391</td><td>-26689</td><td>-0.34%</td></tr>\n",
       "\t<tr><th scope=row>7</th><td>2</td><td>6</td><td>1993603</td><td>2024024</td><td> 30421</td><td>0.38% </td></tr>\n",
       "\t<tr><th scope=row>8</th><td>2</td><td>7</td><td>1979908</td><td>2031760</td><td> 51852</td><td>0.65% </td></tr>\n",
       "\t<tr><th scope=row>9</th><td>2</td><td>8</td><td>1971142</td><td>2014402</td><td> 43260</td><td>0.54% </td></tr>\n",
       "\t<tr><th scope=row>10</th><td>2</td><td>9</td><td>2018378</td><td>2009560</td><td> -8818</td><td>-0.11%</td></tr>\n",
       "</tbody>\n",
       "</table>\n"
      ],
      "text/latex": [
       "A data.frame: 10 × 6\n",
       "\\begin{tabular}{r|llllll}\n",
       "  & SEX & AGE & pop\\_2010 & pop\\_2014 & Cambio & Crecimiento\\\\\n",
       "  & <int> & <int> & <int> & <int> & <int> & <chr>\\\\\n",
       "\\hline\n",
       "\t1 & 2 & 0 & 1932910 & 1930493 &  -2417 & -0.03\\%\\\\\n",
       "\t2 & 2 & 1 & 1937556 & 1938870 &   1314 & 0.02\\% \\\\\n",
       "\t3 & 2 & 2 & 2002177 & 1935270 & -66907 & -0.85\\%\\\\\n",
       "\t4 & 2 & 3 & 2010648 & 1956572 & -54076 & -0.68\\%\\\\\n",
       "\t5 & 2 & 4 & 1993240 & 1959950 & -33290 & -0.42\\%\\\\\n",
       "\t6 & 2 & 5 & 1988080 & 1961391 & -26689 & -0.34\\%\\\\\n",
       "\t7 & 2 & 6 & 1993603 & 2024024 &  30421 & 0.38\\% \\\\\n",
       "\t8 & 2 & 7 & 1979908 & 2031760 &  51852 & 0.65\\% \\\\\n",
       "\t9 & 2 & 8 & 1971142 & 2014402 &  43260 & 0.54\\% \\\\\n",
       "\t10 & 2 & 9 & 2018378 & 2009560 &  -8818 & -0.11\\%\\\\\n",
       "\\end{tabular}\n"
      ],
      "text/markdown": [
       "\n",
       "A data.frame: 10 × 6\n",
       "\n",
       "| <!--/--> | SEX &lt;int&gt; | AGE &lt;int&gt; | pop_2010 &lt;int&gt; | pop_2014 &lt;int&gt; | Cambio &lt;int&gt; | Crecimiento &lt;chr&gt; |\n",
       "|---|---|---|---|---|---|---|\n",
       "| 1 | 2 | 0 | 1932910 | 1930493 |  -2417 | -0.03% |\n",
       "| 2 | 2 | 1 | 1937556 | 1938870 |   1314 | 0.02%  |\n",
       "| 3 | 2 | 2 | 2002177 | 1935270 | -66907 | -0.85% |\n",
       "| 4 | 2 | 3 | 2010648 | 1956572 | -54076 | -0.68% |\n",
       "| 5 | 2 | 4 | 1993240 | 1959950 | -33290 | -0.42% |\n",
       "| 6 | 2 | 5 | 1988080 | 1961391 | -26689 | -0.34% |\n",
       "| 7 | 2 | 6 | 1993603 | 2024024 |  30421 | 0.38%  |\n",
       "| 8 | 2 | 7 | 1979908 | 2031760 |  51852 | 0.65%  |\n",
       "| 9 | 2 | 8 | 1971142 | 2014402 |  43260 | 0.54%  |\n",
       "| 10 | 2 | 9 | 2018378 | 2009560 |  -8818 | -0.11% |\n",
       "\n"
      ],
      "text/plain": [
       "   SEX AGE pop_2010 pop_2014 Cambio Crecimiento\n",
       "1  2   0   1932910  1930493   -2417 -0.03%     \n",
       "2  2   1   1937556  1938870    1314 0.02%      \n",
       "3  2   2   2002177  1935270  -66907 -0.85%     \n",
       "4  2   3   2010648  1956572  -54076 -0.68%     \n",
       "5  2   4   1993240  1959950  -33290 -0.42%     \n",
       "6  2   5   1988080  1961391  -26689 -0.34%     \n",
       "7  2   6   1993603  2024024   30421 0.38%      \n",
       "8  2   7   1979908  2031760   51852 0.65%      \n",
       "9  2   8   1971142  2014402   43260 0.54%      \n",
       "10 2   9   2018378  2009560   -8818 -0.11%     "
      ]
     },
     "metadata": {},
     "output_type": "display_data"
    }
   ],
   "source": [
    "hombres <- filter(pop_Simple, SEX == 1, AGE != 999)\n",
    "mujeres <- filter(pop_Simple, SEX == 2, AGE != 999) \n",
    "mujeres[1:10, ] # mas niños de 6 años, recesión 2008. https://www.wsj.com/articles/u-s-birthrate-hits-turning-point-1434513662"
   ]
  },
  {
   "cell_type": "markdown",
   "metadata": {},
   "source": [
    "## Encontrar la edad con la mayoría de mujeres en el 2014.\n",
    "\n",
    "http://www.wsj.com/articles/u-s-birthrate-hits-turning-point-1434513662"
   ]
  },
  {
   "cell_type": "code",
   "execution_count": 3,
   "metadata": {},
   "outputs": [
    {
     "data": {
      "text/html": [
       "<table>\n",
       "<caption>A data.frame: 6 × 6</caption>\n",
       "<thead>\n",
       "\t<tr><th></th><th scope=col>SEX</th><th scope=col>AGE</th><th scope=col>pop_2010</th><th scope=col>pop_2014</th><th scope=col>Cambio</th><th scope=col>Crecimiento</th></tr>\n",
       "\t<tr><th></th><th scope=col>&lt;int&gt;</th><th scope=col>&lt;int&gt;</th><th scope=col>&lt;int&gt;</th><th scope=col>&lt;int&gt;</th><th scope=col>&lt;int&gt;</th><th scope=col>&lt;chr&gt;</th></tr>\n",
       "</thead>\n",
       "<tbody>\n",
       "\t<tr><th scope=row>1</th><td>2</td><td>54</td><td>2196798</td><td>2331961</td><td>135163</td><td>1.50% </td></tr>\n",
       "\t<tr><th scope=row>2</th><td>2</td><td>53</td><td>2268457</td><td>2316131</td><td> 47674</td><td>0.52% </td></tr>\n",
       "\t<tr><th scope=row>3</th><td>2</td><td>24</td><td>2082209</td><td>2301237</td><td>219028</td><td>2.53% </td></tr>\n",
       "\t<tr><th scope=row>4</th><td>2</td><td>23</td><td>2066126</td><td>2298701</td><td>232575</td><td>2.70% </td></tr>\n",
       "\t<tr><th scope=row>5</th><td>2</td><td>51</td><td>2289164</td><td>2283261</td><td> -5903</td><td>-0.06%</td></tr>\n",
       "\t<tr><th scope=row>6</th><td>2</td><td>52</td><td>2283408</td><td>2282051</td><td> -1357</td><td>-0.01%</td></tr>\n",
       "</tbody>\n",
       "</table>\n"
      ],
      "text/latex": [
       "A data.frame: 6 × 6\n",
       "\\begin{tabular}{r|llllll}\n",
       "  & SEX & AGE & pop\\_2010 & pop\\_2014 & Cambio & Crecimiento\\\\\n",
       "  & <int> & <int> & <int> & <int> & <int> & <chr>\\\\\n",
       "\\hline\n",
       "\t1 & 2 & 54 & 2196798 & 2331961 & 135163 & 1.50\\% \\\\\n",
       "\t2 & 2 & 53 & 2268457 & 2316131 &  47674 & 0.52\\% \\\\\n",
       "\t3 & 2 & 24 & 2082209 & 2301237 & 219028 & 2.53\\% \\\\\n",
       "\t4 & 2 & 23 & 2066126 & 2298701 & 232575 & 2.70\\% \\\\\n",
       "\t5 & 2 & 51 & 2289164 & 2283261 &  -5903 & -0.06\\%\\\\\n",
       "\t6 & 2 & 52 & 2283408 & 2282051 &  -1357 & -0.01\\%\\\\\n",
       "\\end{tabular}\n"
      ],
      "text/markdown": [
       "\n",
       "A data.frame: 6 × 6\n",
       "\n",
       "| <!--/--> | SEX &lt;int&gt; | AGE &lt;int&gt; | pop_2010 &lt;int&gt; | pop_2014 &lt;int&gt; | Cambio &lt;int&gt; | Crecimiento &lt;chr&gt; |\n",
       "|---|---|---|---|---|---|---|\n",
       "| 1 | 2 | 54 | 2196798 | 2331961 | 135163 | 1.50%  |\n",
       "| 2 | 2 | 53 | 2268457 | 2316131 |  47674 | 0.52%  |\n",
       "| 3 | 2 | 24 | 2082209 | 2301237 | 219028 | 2.53%  |\n",
       "| 4 | 2 | 23 | 2066126 | 2298701 | 232575 | 2.70%  |\n",
       "| 5 | 2 | 51 | 2289164 | 2283261 |  -5903 | -0.06% |\n",
       "| 6 | 2 | 52 | 2283408 | 2282051 |  -1357 | -0.01% |\n",
       "\n"
      ],
      "text/plain": [
       "  SEX AGE pop_2010 pop_2014 Cambio Crecimiento\n",
       "1 2   54  2196798  2331961  135163 1.50%      \n",
       "2 2   53  2268457  2316131   47674 0.52%      \n",
       "3 2   24  2082209  2301237  219028 2.53%      \n",
       "4 2   23  2066126  2298701  232575 2.70%      \n",
       "5 2   51  2289164  2283261   -5903 -0.06%     \n",
       "6 2   52  2283408  2282051   -1357 -0.01%     "
      ]
     },
     "metadata": {},
     "output_type": "display_data"
    },
    {
     "data": {
      "text/html": [
       "<table>\n",
       "<caption>A data.frame: 1 × 6</caption>\n",
       "<thead>\n",
       "\t<tr><th scope=col>SEX</th><th scope=col>AGE</th><th scope=col>pop_2010</th><th scope=col>pop_2014</th><th scope=col>Cambio</th><th scope=col>Crecimiento</th></tr>\n",
       "\t<tr><th scope=col>&lt;int&gt;</th><th scope=col>&lt;int&gt;</th><th scope=col>&lt;int&gt;</th><th scope=col>&lt;int&gt;</th><th scope=col>&lt;int&gt;</th><th scope=col>&lt;chr&gt;</th></tr>\n",
       "</thead>\n",
       "<tbody>\n",
       "\t<tr><td>2</td><td>54</td><td>2196798</td><td>2331961</td><td>135163</td><td>1.50%</td></tr>\n",
       "</tbody>\n",
       "</table>\n"
      ],
      "text/latex": [
       "A data.frame: 1 × 6\n",
       "\\begin{tabular}{llllll}\n",
       " SEX & AGE & pop\\_2010 & pop\\_2014 & Cambio & Crecimiento\\\\\n",
       " <int> & <int> & <int> & <int> & <int> & <chr>\\\\\n",
       "\\hline\n",
       "\t 2 & 54 & 2196798 & 2331961 & 135163 & 1.50\\%\\\\\n",
       "\\end{tabular}\n"
      ],
      "text/markdown": [
       "\n",
       "A data.frame: 1 × 6\n",
       "\n",
       "| SEX &lt;int&gt; | AGE &lt;int&gt; | pop_2010 &lt;int&gt; | pop_2014 &lt;int&gt; | Cambio &lt;int&gt; | Crecimiento &lt;chr&gt; |\n",
       "|---|---|---|---|---|---|\n",
       "| 2 | 54 | 2196798 | 2331961 | 135163 | 1.50% |\n",
       "\n"
      ],
      "text/plain": [
       "  SEX AGE pop_2010 pop_2014 Cambio Crecimiento\n",
       "1 2   54  2196798  2331961  135163 1.50%      "
      ]
     },
     "metadata": {},
     "output_type": "display_data"
    },
    {
     "data": {
      "text/html": [
       "54"
      ],
      "text/latex": [
       "54"
      ],
      "text/markdown": [
       "54"
      ],
      "text/plain": [
       "[1] 54"
      ]
     },
     "metadata": {},
     "output_type": "display_data"
    }
   ],
   "source": [
    "head(arrange(mujeres, desc(pop_2014)))\n",
    "\n",
    "# la fila:\n",
    "filter(mujeres, pop_2014 == max(mujeres$pop_2014))\n",
    "\n",
    "# Para la edad:\n",
    "filter(mujeres, pop_2014 == max(mujeres$pop_2014))$AGE\n"
   ]
  },
  {
   "cell_type": "code",
   "execution_count": 4,
   "metadata": {},
   "outputs": [
    {
     "data": {
      "text/html": [
       "<table>\n",
       "<caption>A data.frame: 6 × 6</caption>\n",
       "<thead>\n",
       "\t<tr><th></th><th scope=col>SEX</th><th scope=col>AGE</th><th scope=col>pop_2010</th><th scope=col>pop_2014</th><th scope=col>Cambio</th><th scope=col>Crecimiento</th></tr>\n",
       "\t<tr><th></th><th scope=col>&lt;int&gt;</th><th scope=col>&lt;int&gt;</th><th scope=col>&lt;int&gt;</th><th scope=col>&lt;int&gt;</th><th scope=col>&lt;int&gt;</th><th scope=col>&lt;chr&gt;</th></tr>\n",
       "</thead>\n",
       "<tbody>\n",
       "\t<tr><th scope=row>1</th><td>2</td><td>100</td><td>  45058</td><td>  58468</td><td> 13410</td><td>6.73%</td></tr>\n",
       "\t<tr><th scope=row>2</th><td>2</td><td> 64</td><td>1414220</td><td>1826662</td><td>412442</td><td>6.61%</td></tr>\n",
       "\t<tr><th scope=row>3</th><td>2</td><td> 67</td><td>1423561</td><td>1832245</td><td>408684</td><td>6.51%</td></tr>\n",
       "\t<tr><th scope=row>4</th><td>2</td><td> 71</td><td>1050351</td><td>1350392</td><td>300041</td><td>6.48%</td></tr>\n",
       "\t<tr><th scope=row>5</th><td>2</td><td> 66</td><td>1381541</td><td>1758649</td><td>377108</td><td>6.22%</td></tr>\n",
       "\t<tr><th scope=row>6</th><td>2</td><td> 65</td><td>1405839</td><td>1776761</td><td>370922</td><td>6.03%</td></tr>\n",
       "</tbody>\n",
       "</table>\n"
      ],
      "text/latex": [
       "A data.frame: 6 × 6\n",
       "\\begin{tabular}{r|llllll}\n",
       "  & SEX & AGE & pop\\_2010 & pop\\_2014 & Cambio & Crecimiento\\\\\n",
       "  & <int> & <int> & <int> & <int> & <int> & <chr>\\\\\n",
       "\\hline\n",
       "\t1 & 2 & 100 &   45058 &   58468 &  13410 & 6.73\\%\\\\\n",
       "\t2 & 2 &  64 & 1414220 & 1826662 & 412442 & 6.61\\%\\\\\n",
       "\t3 & 2 &  67 & 1423561 & 1832245 & 408684 & 6.51\\%\\\\\n",
       "\t4 & 2 &  71 & 1050351 & 1350392 & 300041 & 6.48\\%\\\\\n",
       "\t5 & 2 &  66 & 1381541 & 1758649 & 377108 & 6.22\\%\\\\\n",
       "\t6 & 2 &  65 & 1405839 & 1776761 & 370922 & 6.03\\%\\\\\n",
       "\\end{tabular}\n"
      ],
      "text/markdown": [
       "\n",
       "A data.frame: 6 × 6\n",
       "\n",
       "| <!--/--> | SEX &lt;int&gt; | AGE &lt;int&gt; | pop_2010 &lt;int&gt; | pop_2014 &lt;int&gt; | Cambio &lt;int&gt; | Crecimiento &lt;chr&gt; |\n",
       "|---|---|---|---|---|---|---|\n",
       "| 1 | 2 | 100 |   45058 |   58468 |  13410 | 6.73% |\n",
       "| 2 | 2 |  64 | 1414220 | 1826662 | 412442 | 6.61% |\n",
       "| 3 | 2 |  67 | 1423561 | 1832245 | 408684 | 6.51% |\n",
       "| 4 | 2 |  71 | 1050351 | 1350392 | 300041 | 6.48% |\n",
       "| 5 | 2 |  66 | 1381541 | 1758649 | 377108 | 6.22% |\n",
       "| 6 | 2 |  65 | 1405839 | 1776761 | 370922 | 6.03% |\n",
       "\n"
      ],
      "text/plain": [
       "  SEX AGE pop_2010 pop_2014 Cambio Crecimiento\n",
       "1 2   100   45058    58468   13410 6.73%      \n",
       "2 2    64 1414220  1826662  412442 6.61%      \n",
       "3 2    67 1423561  1832245  408684 6.51%      \n",
       "4 2    71 1050351  1350392  300041 6.48%      \n",
       "5 2    66 1381541  1758649  377108 6.22%      \n",
       "6 2    65 1405839  1776761  370922 6.03%      "
      ]
     },
     "metadata": {},
     "output_type": "display_data"
    }
   ],
   "source": [
    "head(arrange(mujeres, desc(Crecimiento)))"
   ]
  },
  {
   "cell_type": "code",
   "execution_count": 5,
   "metadata": {},
   "outputs": [
    {
     "data": {
      "text/html": [
       "<table>\n",
       "<caption>A data.frame: 20 × 6</caption>\n",
       "<thead>\n",
       "\t<tr><th></th><th scope=col>SEX</th><th scope=col>AGE</th><th scope=col>pop_2010</th><th scope=col>pop_2014</th><th scope=col>Cambio</th><th scope=col>Crecimiento</th></tr>\n",
       "\t<tr><th></th><th scope=col>&lt;int&gt;</th><th scope=col>&lt;int&gt;</th><th scope=col>&lt;int&gt;</th><th scope=col>&lt;int&gt;</th><th scope=col>&lt;int&gt;</th><th scope=col>&lt;chr&gt;</th></tr>\n",
       "</thead>\n",
       "<tbody>\n",
       "\t<tr><th scope=row>1</th><td>1</td><td>23</td><td>2151095</td><td>2399883</td><td> 248788</td><td>2.77% </td></tr>\n",
       "\t<tr><th scope=row>2</th><td>1</td><td>24</td><td>2161380</td><td>2391398</td><td> 230018</td><td>2.56% </td></tr>\n",
       "\t<tr><th scope=row>3</th><td>1</td><td>22</td><td>2188228</td><td>2367842</td><td> 179614</td><td>1.99% </td></tr>\n",
       "\t<tr><th scope=row>4</th><td>1</td><td>21</td><td>2241095</td><td>2310734</td><td>  69639</td><td>0.77% </td></tr>\n",
       "\t<tr><th scope=row>5</th><td>1</td><td>25</td><td>2177171</td><td>2295836</td><td> 118665</td><td>1.34% </td></tr>\n",
       "\t<tr><th scope=row>6</th><td>1</td><td>20</td><td>2331846</td><td>2269570</td><td> -62276</td><td>-0.67%</td></tr>\n",
       "\t<tr><th scope=row>7</th><td>1</td><td>54</td><td>2091677</td><td>2242828</td><td> 151151</td><td>1.76% </td></tr>\n",
       "\t<tr><th scope=row>8</th><td>1</td><td>26</td><td>2102375</td><td>2240026</td><td> 137651</td><td>1.60% </td></tr>\n",
       "\t<tr><th scope=row>9</th><td>1</td><td>19</td><td>2334906</td><td>2220790</td><td>-114116</td><td>-1.24%</td></tr>\n",
       "\t<tr><th scope=row>10</th><td>1</td><td>53</td><td>2170965</td><td>2219617</td><td>  48652</td><td>0.56% </td></tr>\n",
       "\t<tr><th scope=row>11</th><td>1</td><td>29</td><td>2112348</td><td>2217913</td><td> 105565</td><td>1.23% </td></tr>\n",
       "\t<tr><th scope=row>12</th><td>1</td><td>50</td><td>2290902</td><td>2211607</td><td> -79295</td><td>-0.88%</td></tr>\n",
       "\t<tr><th scope=row>13</th><td>1</td><td>28</td><td>2135020</td><td>2207185</td><td>  72165</td><td>0.83% </td></tr>\n",
       "\t<tr><th scope=row>14</th><td>1</td><td>51</td><td>2209830</td><td>2205405</td><td>  -4425</td><td>-0.05%</td></tr>\n",
       "\t<tr><th scope=row>15</th><td>1</td><td>27</td><td>2135214</td><td>2200429</td><td>  65215</td><td>0.75% </td></tr>\n",
       "\t<tr><th scope=row>16</th><td>1</td><td>52</td><td>2197222</td><td>2198124</td><td>    902</td><td>0.01% </td></tr>\n",
       "\t<tr><th scope=row>17</th><td>1</td><td>34</td><td>1908761</td><td>2192455</td><td> 283694</td><td>3.52% </td></tr>\n",
       "\t<tr><th scope=row>18</th><td>1</td><td>44</td><td>2074606</td><td>2184235</td><td> 109629</td><td>1.30% </td></tr>\n",
       "\t<tr><th scope=row>19</th><td>1</td><td>49</td><td>2262482</td><td>2179993</td><td> -82489</td><td>-0.92%</td></tr>\n",
       "\t<tr><th scope=row>20</th><td>1</td><td>31</td><td>2026467</td><td>2169725</td><td> 143258</td><td>1.72% </td></tr>\n",
       "</tbody>\n",
       "</table>\n"
      ],
      "text/latex": [
       "A data.frame: 20 × 6\n",
       "\\begin{tabular}{r|llllll}\n",
       "  & SEX & AGE & pop\\_2010 & pop\\_2014 & Cambio & Crecimiento\\\\\n",
       "  & <int> & <int> & <int> & <int> & <int> & <chr>\\\\\n",
       "\\hline\n",
       "\t1 & 1 & 23 & 2151095 & 2399883 &  248788 & 2.77\\% \\\\\n",
       "\t2 & 1 & 24 & 2161380 & 2391398 &  230018 & 2.56\\% \\\\\n",
       "\t3 & 1 & 22 & 2188228 & 2367842 &  179614 & 1.99\\% \\\\\n",
       "\t4 & 1 & 21 & 2241095 & 2310734 &   69639 & 0.77\\% \\\\\n",
       "\t5 & 1 & 25 & 2177171 & 2295836 &  118665 & 1.34\\% \\\\\n",
       "\t6 & 1 & 20 & 2331846 & 2269570 &  -62276 & -0.67\\%\\\\\n",
       "\t7 & 1 & 54 & 2091677 & 2242828 &  151151 & 1.76\\% \\\\\n",
       "\t8 & 1 & 26 & 2102375 & 2240026 &  137651 & 1.60\\% \\\\\n",
       "\t9 & 1 & 19 & 2334906 & 2220790 & -114116 & -1.24\\%\\\\\n",
       "\t10 & 1 & 53 & 2170965 & 2219617 &   48652 & 0.56\\% \\\\\n",
       "\t11 & 1 & 29 & 2112348 & 2217913 &  105565 & 1.23\\% \\\\\n",
       "\t12 & 1 & 50 & 2290902 & 2211607 &  -79295 & -0.88\\%\\\\\n",
       "\t13 & 1 & 28 & 2135020 & 2207185 &   72165 & 0.83\\% \\\\\n",
       "\t14 & 1 & 51 & 2209830 & 2205405 &   -4425 & -0.05\\%\\\\\n",
       "\t15 & 1 & 27 & 2135214 & 2200429 &   65215 & 0.75\\% \\\\\n",
       "\t16 & 1 & 52 & 2197222 & 2198124 &     902 & 0.01\\% \\\\\n",
       "\t17 & 1 & 34 & 1908761 & 2192455 &  283694 & 3.52\\% \\\\\n",
       "\t18 & 1 & 44 & 2074606 & 2184235 &  109629 & 1.30\\% \\\\\n",
       "\t19 & 1 & 49 & 2262482 & 2179993 &  -82489 & -0.92\\%\\\\\n",
       "\t20 & 1 & 31 & 2026467 & 2169725 &  143258 & 1.72\\% \\\\\n",
       "\\end{tabular}\n"
      ],
      "text/markdown": [
       "\n",
       "A data.frame: 20 × 6\n",
       "\n",
       "| <!--/--> | SEX &lt;int&gt; | AGE &lt;int&gt; | pop_2010 &lt;int&gt; | pop_2014 &lt;int&gt; | Cambio &lt;int&gt; | Crecimiento &lt;chr&gt; |\n",
       "|---|---|---|---|---|---|---|\n",
       "| 1 | 1 | 23 | 2151095 | 2399883 |  248788 | 2.77%  |\n",
       "| 2 | 1 | 24 | 2161380 | 2391398 |  230018 | 2.56%  |\n",
       "| 3 | 1 | 22 | 2188228 | 2367842 |  179614 | 1.99%  |\n",
       "| 4 | 1 | 21 | 2241095 | 2310734 |   69639 | 0.77%  |\n",
       "| 5 | 1 | 25 | 2177171 | 2295836 |  118665 | 1.34%  |\n",
       "| 6 | 1 | 20 | 2331846 | 2269570 |  -62276 | -0.67% |\n",
       "| 7 | 1 | 54 | 2091677 | 2242828 |  151151 | 1.76%  |\n",
       "| 8 | 1 | 26 | 2102375 | 2240026 |  137651 | 1.60%  |\n",
       "| 9 | 1 | 19 | 2334906 | 2220790 | -114116 | -1.24% |\n",
       "| 10 | 1 | 53 | 2170965 | 2219617 |   48652 | 0.56%  |\n",
       "| 11 | 1 | 29 | 2112348 | 2217913 |  105565 | 1.23%  |\n",
       "| 12 | 1 | 50 | 2290902 | 2211607 |  -79295 | -0.88% |\n",
       "| 13 | 1 | 28 | 2135020 | 2207185 |   72165 | 0.83%  |\n",
       "| 14 | 1 | 51 | 2209830 | 2205405 |   -4425 | -0.05% |\n",
       "| 15 | 1 | 27 | 2135214 | 2200429 |   65215 | 0.75%  |\n",
       "| 16 | 1 | 52 | 2197222 | 2198124 |     902 | 0.01%  |\n",
       "| 17 | 1 | 34 | 1908761 | 2192455 |  283694 | 3.52%  |\n",
       "| 18 | 1 | 44 | 2074606 | 2184235 |  109629 | 1.30%  |\n",
       "| 19 | 1 | 49 | 2262482 | 2179993 |  -82489 | -0.92% |\n",
       "| 20 | 1 | 31 | 2026467 | 2169725 |  143258 | 1.72%  |\n",
       "\n"
      ],
      "text/plain": [
       "   SEX AGE pop_2010 pop_2014 Cambio  Crecimiento\n",
       "1  1   23  2151095  2399883   248788 2.77%      \n",
       "2  1   24  2161380  2391398   230018 2.56%      \n",
       "3  1   22  2188228  2367842   179614 1.99%      \n",
       "4  1   21  2241095  2310734    69639 0.77%      \n",
       "5  1   25  2177171  2295836   118665 1.34%      \n",
       "6  1   20  2331846  2269570   -62276 -0.67%     \n",
       "7  1   54  2091677  2242828   151151 1.76%      \n",
       "8  1   26  2102375  2240026   137651 1.60%      \n",
       "9  1   19  2334906  2220790  -114116 -1.24%     \n",
       "10 1   53  2170965  2219617    48652 0.56%      \n",
       "11 1   29  2112348  2217913   105565 1.23%      \n",
       "12 1   50  2290902  2211607   -79295 -0.88%     \n",
       "13 1   28  2135020  2207185    72165 0.83%      \n",
       "14 1   51  2209830  2205405    -4425 -0.05%     \n",
       "15 1   27  2135214  2200429    65215 0.75%      \n",
       "16 1   52  2197222  2198124      902 0.01%      \n",
       "17 1   34  1908761  2192455   283694 3.52%      \n",
       "18 1   44  2074606  2184235   109629 1.30%      \n",
       "19 1   49  2262482  2179993   -82489 -0.92%     \n",
       "20 1   31  2026467  2169725   143258 1.72%      "
      ]
     },
     "metadata": {},
     "output_type": "display_data"
    },
    {
     "data": {
      "text/html": [
       "23"
      ],
      "text/latex": [
       "23"
      ],
      "text/markdown": [
       "23"
      ],
      "text/plain": [
       "[1] 23"
      ]
     },
     "metadata": {},
     "output_type": "display_data"
    }
   ],
   "source": [
    "arrange(hombres, desc(pop_2014))[1:20,]\n",
    "\n",
    "# Para la edad:\n",
    "filter(hombres, pop_2014 == max(hombres$pop_2014))$AGE\n"
   ]
  },
  {
   "cell_type": "code",
   "execution_count": 6,
   "metadata": {},
   "outputs": [
    {
     "data": {
      "text/html": [
       "<table>\n",
       "<caption>A data.frame: 4 × 6</caption>\n",
       "<thead>\n",
       "\t<tr><th scope=col>SEX</th><th scope=col>AGE</th><th scope=col>pop_2010</th><th scope=col>pop_2014</th><th scope=col>Cambio</th><th scope=col>Crecimiento</th></tr>\n",
       "\t<tr><th scope=col>&lt;int&gt;</th><th scope=col>&lt;int&gt;</th><th scope=col>&lt;int&gt;</th><th scope=col>&lt;int&gt;</th><th scope=col>&lt;int&gt;</th><th scope=col>&lt;chr&gt;</th></tr>\n",
       "</thead>\n",
       "<tbody>\n",
       "\t<tr><td>1</td><td>64</td><td>1291843</td><td>1661474</td><td>369631</td><td>6.49%</td></tr>\n",
       "\t<tr><td>1</td><td>65</td><td>1272693</td><td>1607688</td><td>334995</td><td>6.02%</td></tr>\n",
       "\t<tr><td>1</td><td>66</td><td>1239805</td><td>1589127</td><td>349322</td><td>6.40%</td></tr>\n",
       "\t<tr><td>1</td><td>67</td><td>1270148</td><td>1653257</td><td>383109</td><td>6.81%</td></tr>\n",
       "</tbody>\n",
       "</table>\n"
      ],
      "text/latex": [
       "A data.frame: 4 × 6\n",
       "\\begin{tabular}{llllll}\n",
       " SEX & AGE & pop\\_2010 & pop\\_2014 & Cambio & Crecimiento\\\\\n",
       " <int> & <int> & <int> & <int> & <int> & <chr>\\\\\n",
       "\\hline\n",
       "\t 1 & 64 & 1291843 & 1661474 & 369631 & 6.49\\%\\\\\n",
       "\t 1 & 65 & 1272693 & 1607688 & 334995 & 6.02\\%\\\\\n",
       "\t 1 & 66 & 1239805 & 1589127 & 349322 & 6.40\\%\\\\\n",
       "\t 1 & 67 & 1270148 & 1653257 & 383109 & 6.81\\%\\\\\n",
       "\\end{tabular}\n"
      ],
      "text/markdown": [
       "\n",
       "A data.frame: 4 × 6\n",
       "\n",
       "| SEX &lt;int&gt; | AGE &lt;int&gt; | pop_2010 &lt;int&gt; | pop_2014 &lt;int&gt; | Cambio &lt;int&gt; | Crecimiento &lt;chr&gt; |\n",
       "|---|---|---|---|---|---|\n",
       "| 1 | 64 | 1291843 | 1661474 | 369631 | 6.49% |\n",
       "| 1 | 65 | 1272693 | 1607688 | 334995 | 6.02% |\n",
       "| 1 | 66 | 1239805 | 1589127 | 349322 | 6.40% |\n",
       "| 1 | 67 | 1270148 | 1653257 | 383109 | 6.81% |\n",
       "\n"
      ],
      "text/plain": [
       "  SEX AGE pop_2010 pop_2014 Cambio Crecimiento\n",
       "1 1   64  1291843  1661474  369631 6.49%      \n",
       "2 1   65  1272693  1607688  334995 6.02%      \n",
       "3 1   66  1239805  1589127  349322 6.40%      \n",
       "4 1   67  1270148  1653257  383109 6.81%      "
      ]
     },
     "metadata": {},
     "output_type": "display_data"
    }
   ],
   "source": [
    "filter(hombres, Cambio > 300000) # baby boomers? Por qué solo 4 filas? "
   ]
  },
  {
   "cell_type": "code",
   "execution_count": 7,
   "metadata": {
    "scrolled": true
   },
   "outputs": [
    {
     "data": {
      "text/html": [
       "<table>\n",
       "<caption>A data.frame: 14 × 6</caption>\n",
       "<thead>\n",
       "\t<tr><th scope=col>SEX</th><th scope=col>AGE</th><th scope=col>pop_2010</th><th scope=col>pop_2014</th><th scope=col>Cambio</th><th scope=col>Crecimiento</th></tr>\n",
       "\t<tr><th scope=col>&lt;int&gt;</th><th scope=col>&lt;int&gt;</th><th scope=col>&lt;int&gt;</th><th scope=col>&lt;int&gt;</th><th scope=col>&lt;int&gt;</th><th scope=col>&lt;chr&gt;</th></tr>\n",
       "</thead>\n",
       "<tbody>\n",
       "\t<tr><td>1</td><td>56</td><td>1984480</td><td>2140722</td><td>156242</td><td>1.91% </td></tr>\n",
       "\t<tr><td>1</td><td>57</td><td>1910028</td><td>2110149</td><td>200121</td><td>2.52% </td></tr>\n",
       "\t<tr><td>1</td><td>58</td><td>1838703</td><td>2027959</td><td>189256</td><td>2.48% </td></tr>\n",
       "\t<tr><td>1</td><td>59</td><td>1779504</td><td>2006900</td><td>227396</td><td>3.05% </td></tr>\n",
       "\t<tr><td>1</td><td>60</td><td>1742232</td><td>1914009</td><td>171777</td><td>2.38% </td></tr>\n",
       "\t<tr><td>1</td><td>61</td><td>1691413</td><td>1837080</td><td>145667</td><td>2.09% </td></tr>\n",
       "\t<tr><td>1</td><td>62</td><td>1679074</td><td>1763504</td><td> 84430</td><td>1.23% </td></tr>\n",
       "\t<tr><td>1</td><td>63</td><td>1753914</td><td>1701827</td><td>-52087</td><td>-0.75%</td></tr>\n",
       "\t<tr><td>1</td><td>64</td><td>1291843</td><td>1661474</td><td>369631</td><td>6.49% </td></tr>\n",
       "\t<tr><td>1</td><td>65</td><td>1272693</td><td>1607688</td><td>334995</td><td>6.02% </td></tr>\n",
       "\t<tr><td>1</td><td>66</td><td>1239805</td><td>1589127</td><td>349322</td><td>6.40% </td></tr>\n",
       "\t<tr><td>1</td><td>67</td><td>1270148</td><td>1653257</td><td>383109</td><td>6.81% </td></tr>\n",
       "\t<tr><td>1</td><td>68</td><td>1105702</td><td>1211480</td><td>105778</td><td>2.31% </td></tr>\n",
       "\t<tr><td>1</td><td>69</td><td>1006786</td><td>1187554</td><td>180768</td><td>4.21% </td></tr>\n",
       "</tbody>\n",
       "</table>\n"
      ],
      "text/latex": [
       "A data.frame: 14 × 6\n",
       "\\begin{tabular}{llllll}\n",
       " SEX & AGE & pop\\_2010 & pop\\_2014 & Cambio & Crecimiento\\\\\n",
       " <int> & <int> & <int> & <int> & <int> & <chr>\\\\\n",
       "\\hline\n",
       "\t 1 & 56 & 1984480 & 2140722 & 156242 & 1.91\\% \\\\\n",
       "\t 1 & 57 & 1910028 & 2110149 & 200121 & 2.52\\% \\\\\n",
       "\t 1 & 58 & 1838703 & 2027959 & 189256 & 2.48\\% \\\\\n",
       "\t 1 & 59 & 1779504 & 2006900 & 227396 & 3.05\\% \\\\\n",
       "\t 1 & 60 & 1742232 & 1914009 & 171777 & 2.38\\% \\\\\n",
       "\t 1 & 61 & 1691413 & 1837080 & 145667 & 2.09\\% \\\\\n",
       "\t 1 & 62 & 1679074 & 1763504 &  84430 & 1.23\\% \\\\\n",
       "\t 1 & 63 & 1753914 & 1701827 & -52087 & -0.75\\%\\\\\n",
       "\t 1 & 64 & 1291843 & 1661474 & 369631 & 6.49\\% \\\\\n",
       "\t 1 & 65 & 1272693 & 1607688 & 334995 & 6.02\\% \\\\\n",
       "\t 1 & 66 & 1239805 & 1589127 & 349322 & 6.40\\% \\\\\n",
       "\t 1 & 67 & 1270148 & 1653257 & 383109 & 6.81\\% \\\\\n",
       "\t 1 & 68 & 1105702 & 1211480 & 105778 & 2.31\\% \\\\\n",
       "\t 1 & 69 & 1006786 & 1187554 & 180768 & 4.21\\% \\\\\n",
       "\\end{tabular}\n"
      ],
      "text/markdown": [
       "\n",
       "A data.frame: 14 × 6\n",
       "\n",
       "| SEX &lt;int&gt; | AGE &lt;int&gt; | pop_2010 &lt;int&gt; | pop_2014 &lt;int&gt; | Cambio &lt;int&gt; | Crecimiento &lt;chr&gt; |\n",
       "|---|---|---|---|---|---|\n",
       "| 1 | 56 | 1984480 | 2140722 | 156242 | 1.91%  |\n",
       "| 1 | 57 | 1910028 | 2110149 | 200121 | 2.52%  |\n",
       "| 1 | 58 | 1838703 | 2027959 | 189256 | 2.48%  |\n",
       "| 1 | 59 | 1779504 | 2006900 | 227396 | 3.05%  |\n",
       "| 1 | 60 | 1742232 | 1914009 | 171777 | 2.38%  |\n",
       "| 1 | 61 | 1691413 | 1837080 | 145667 | 2.09%  |\n",
       "| 1 | 62 | 1679074 | 1763504 |  84430 | 1.23%  |\n",
       "| 1 | 63 | 1753914 | 1701827 | -52087 | -0.75% |\n",
       "| 1 | 64 | 1291843 | 1661474 | 369631 | 6.49%  |\n",
       "| 1 | 65 | 1272693 | 1607688 | 334995 | 6.02%  |\n",
       "| 1 | 66 | 1239805 | 1589127 | 349322 | 6.40%  |\n",
       "| 1 | 67 | 1270148 | 1653257 | 383109 | 6.81%  |\n",
       "| 1 | 68 | 1105702 | 1211480 | 105778 | 2.31%  |\n",
       "| 1 | 69 | 1006786 | 1187554 | 180768 | 4.21%  |\n",
       "\n"
      ],
      "text/plain": [
       "   SEX AGE pop_2010 pop_2014 Cambio Crecimiento\n",
       "1  1   56  1984480  2140722  156242 1.91%      \n",
       "2  1   57  1910028  2110149  200121 2.52%      \n",
       "3  1   58  1838703  2027959  189256 2.48%      \n",
       "4  1   59  1779504  2006900  227396 3.05%      \n",
       "5  1   60  1742232  1914009  171777 2.38%      \n",
       "6  1   61  1691413  1837080  145667 2.09%      \n",
       "7  1   62  1679074  1763504   84430 1.23%      \n",
       "8  1   63  1753914  1701827  -52087 -0.75%     \n",
       "9  1   64  1291843  1661474  369631 6.49%      \n",
       "10 1   65  1272693  1607688  334995 6.02%      \n",
       "11 1   66  1239805  1589127  349322 6.40%      \n",
       "12 1   67  1270148  1653257  383109 6.81%      \n",
       "13 1   68  1105702  1211480  105778 2.31%      \n",
       "14 1   69  1006786  1187554  180768 4.21%      "
      ]
     },
     "metadata": {},
     "output_type": "display_data"
    }
   ],
   "source": [
    "filter(hombres, AGE > 55 & AGE < 70) # Ver 63-64 tiene 4 filas porque 2014 - 2010 = 4."
   ]
  },
  {
   "cell_type": "markdown",
   "metadata": {},
   "source": [
    "La población sube y luego baja. El fenómeno está descrito por las dos columnas. "
   ]
  },
  {
   "cell_type": "markdown",
   "metadata": {},
   "source": [
    "# Funciones\n",
    "\n"
   ]
  },
  {
   "cell_type": "code",
   "execution_count": 8,
   "metadata": {},
   "outputs": [],
   "source": [
    "spread <- function(valores){\n",
    "    # intput: valores: vector de números. \n",
    "    # output: distancia entre el max y el min de los números.\n",
    "    \n",
    "    max(valores) - min(valores)\n",
    "}"
   ]
  },
  {
   "cell_type": "code",
   "execution_count": 9,
   "metadata": {},
   "outputs": [
    {
     "data": {
      "text/html": [
       "99"
      ],
      "text/latex": [
       "99"
      ],
      "text/markdown": [
       "99"
      ],
      "text/plain": [
       "[1] 99"
      ]
     },
     "metadata": {},
     "output_type": "display_data"
    },
    {
     "data": {
      "text/html": [
       "8"
      ],
      "text/latex": [
       "8"
      ],
      "text/markdown": [
       "8"
      ],
      "text/plain": [
       "[1] 8"
      ]
     },
     "metadata": {},
     "output_type": "display_data"
    }
   ],
   "source": [
    "spread(1:100)\n",
    "spread(c(1,2,5,5,7,8,9,9,9,9,9))"
   ]
  },
  {
   "cell_type": "code",
   "execution_count": 10,
   "metadata": {},
   "outputs": [
    {
     "data": {
      "text/html": [
       "0.25"
      ],
      "text/latex": [
       "0.25"
      ],
      "text/markdown": [
       "0.25"
      ],
      "text/plain": [
       "[1] 0.25"
      ]
     },
     "metadata": {},
     "output_type": "display_data"
    },
    {
     "data": {
      "text/html": [
       "25"
      ],
      "text/latex": [
       "25"
      ],
      "text/markdown": [
       "25"
      ],
      "text/plain": [
       "[1] 25"
      ]
     },
     "metadata": {},
     "output_type": "display_data"
    },
    {
     "data": {
      "text/html": [
       "0.666666666666667"
      ],
      "text/latex": [
       "0.666666666666667"
      ],
      "text/markdown": [
       "0.666666666666667"
      ],
      "text/plain": [
       "[1] 0.6666667"
      ]
     },
     "metadata": {},
     "output_type": "display_data"
    },
    {
     "data": {
      "text/html": [
       "66.67"
      ],
      "text/latex": [
       "66.67"
      ],
      "text/markdown": [
       "66.67"
      ],
      "text/plain": [
       "[1] 66.67"
      ]
     },
     "metadata": {},
     "output_type": "display_data"
    }
   ],
   "source": [
    "cuarto <- 1/4\n",
    "cuarto\n",
    "\n",
    "cuarto*100\n",
    "\n",
    "dosTercios <- 2/3\n",
    "dosTercios\n",
    "\n",
    "round(dosTercios*100, 2)"
   ]
  },
  {
   "cell_type": "code",
   "execution_count": 11,
   "metadata": {},
   "outputs": [],
   "source": [
    "porcentaje <- function(x){\n",
    "    round(100 * x, 2)\n",
    "}"
   ]
  },
  {
   "cell_type": "code",
   "execution_count": 12,
   "metadata": {},
   "outputs": [
    {
     "data": {
      "text/html": [
       "50"
      ],
      "text/latex": [
       "50"
      ],
      "text/markdown": [
       "50"
      ],
      "text/plain": [
       "[1] 50"
      ]
     },
     "metadata": {},
     "output_type": "display_data"
    },
    {
     "data": {
      "text/html": [
       "0"
      ],
      "text/latex": [
       "0"
      ],
      "text/markdown": [
       "0"
      ],
      "text/plain": [
       "[1] 0"
      ]
     },
     "metadata": {},
     "output_type": "display_data"
    }
   ],
   "source": [
    "porcentaje(1/2)\n",
    "porcentaje(1/60000)"
   ]
  },
  {
   "cell_type": "code",
   "execution_count": 13,
   "metadata": {},
   "outputs": [
    {
     "data": {
      "text/html": [
       "0"
      ],
      "text/latex": [
       "0"
      ],
      "text/markdown": [
       "0"
      ],
      "text/plain": [
       "[1] 0"
      ]
     },
     "metadata": {},
     "output_type": "display_data"
    }
   ],
   "source": [
    "round(100*1/60000, 2)"
   ]
  },
  {
   "cell_type": "code",
   "execution_count": 14,
   "metadata": {},
   "outputs": [],
   "source": [
    "porcentaje <- function(x){\n",
    "    # input: x = número entre 0 y 1.\n",
    "    # output: escritura en porcentaje de x.\n",
    "    \n",
    "    if(x < 0.00005){\n",
    "        x*100\n",
    "    }\n",
    "    else{\n",
    "        round(100*x, 2)\n",
    "    }\n",
    "    \n",
    "}"
   ]
  },
  {
   "cell_type": "code",
   "execution_count": 15,
   "metadata": {},
   "outputs": [
    {
     "data": {
      "text/html": [
       "0.00166666666666667"
      ],
      "text/latex": [
       "0.00166666666666667"
      ],
      "text/markdown": [
       "0.00166666666666667"
      ],
      "text/plain": [
       "[1] 0.001666667"
      ]
     },
     "metadata": {},
     "output_type": "display_data"
    },
    {
     "data": {
      "text/html": [
       "20"
      ],
      "text/latex": [
       "20"
      ],
      "text/markdown": [
       "20"
      ],
      "text/plain": [
       "[1] 20"
      ]
     },
     "metadata": {},
     "output_type": "display_data"
    }
   ],
   "source": [
    "porcentaje(1/60000)\n",
    "porcentaje(1/5)"
   ]
  },
  {
   "cell_type": "markdown",
   "metadata": {},
   "source": [
    "Pueden usar cualquier cosas como argunmento"
   ]
  },
  {
   "cell_type": "code",
   "execution_count": 16,
   "metadata": {},
   "outputs": [
    {
     "data": {
      "text/html": [
       "<table>\n",
       "<caption>A data.frame: 3 × 6</caption>\n",
       "<thead>\n",
       "\t<tr><th scope=col>SEX</th><th scope=col>AGE</th><th scope=col>pop_2010</th><th scope=col>pop_2014</th><th scope=col>Cambio</th><th scope=col>Crecimiento</th></tr>\n",
       "\t<tr><th scope=col>&lt;int&gt;</th><th scope=col>&lt;int&gt;</th><th scope=col>&lt;int&gt;</th><th scope=col>&lt;int&gt;</th><th scope=col>&lt;int&gt;</th><th scope=col>&lt;chr&gt;</th></tr>\n",
       "</thead>\n",
       "<tbody>\n",
       "\t<tr><td>1</td><td>16</td><td>2215032</td><td>2130938</td><td> -84094</td><td>-0.96%</td></tr>\n",
       "\t<tr><td>1</td><td>17</td><td>2252838</td><td>2138809</td><td>-114029</td><td>-1.29%</td></tr>\n",
       "\t<tr><td>1</td><td>18</td><td>2305733</td><td>2165062</td><td>-140671</td><td>-1.56%</td></tr>\n",
       "</tbody>\n",
       "</table>\n"
      ],
      "text/latex": [
       "A data.frame: 3 × 6\n",
       "\\begin{tabular}{llllll}\n",
       " SEX & AGE & pop\\_2010 & pop\\_2014 & Cambio & Crecimiento\\\\\n",
       " <int> & <int> & <int> & <int> & <int> & <chr>\\\\\n",
       "\\hline\n",
       "\t 1 & 16 & 2215032 & 2130938 &  -84094 & -0.96\\%\\\\\n",
       "\t 1 & 17 & 2252838 & 2138809 & -114029 & -1.29\\%\\\\\n",
       "\t 1 & 18 & 2305733 & 2165062 & -140671 & -1.56\\%\\\\\n",
       "\\end{tabular}\n"
      ],
      "text/markdown": [
       "\n",
       "A data.frame: 3 × 6\n",
       "\n",
       "| SEX &lt;int&gt; | AGE &lt;int&gt; | pop_2010 &lt;int&gt; | pop_2014 &lt;int&gt; | Cambio &lt;int&gt; | Crecimiento &lt;chr&gt; |\n",
       "|---|---|---|---|---|---|\n",
       "| 1 | 16 | 2215032 | 2130938 |  -84094 | -0.96% |\n",
       "| 1 | 17 | 2252838 | 2138809 | -114029 | -1.29% |\n",
       "| 1 | 18 | 2305733 | 2165062 | -140671 | -1.56% |\n",
       "\n"
      ],
      "text/plain": [
       "  SEX AGE pop_2010 pop_2014 Cambio  Crecimiento\n",
       "1 1   16  2215032  2130938   -84094 -0.96%     \n",
       "2 1   17  2252838  2138809  -114029 -1.29%     \n",
       "3 1   18  2305733  2165062  -140671 -1.56%     "
      ]
     },
     "metadata": {},
     "output_type": "display_data"
    },
    {
     "data": {
      "text/html": [
       "<table>\n",
       "<caption>A data.frame: 3 × 6</caption>\n",
       "<thead>\n",
       "\t<tr><th scope=col>SEX</th><th scope=col>AGE</th><th scope=col>pop_2010</th><th scope=col>pop_2014</th><th scope=col>Cambio</th><th scope=col>Crecimiento</th></tr>\n",
       "\t<tr><th scope=col>&lt;int&gt;</th><th scope=col>&lt;int&gt;</th><th scope=col>&lt;int&gt;</th><th scope=col>&lt;int&gt;</th><th scope=col>&lt;int&gt;</th><th scope=col>&lt;chr&gt;</th></tr>\n",
       "</thead>\n",
       "<tbody>\n",
       "\t<tr><td>2</td><td>16</td><td>2098220</td><td>2036296</td><td> -61924</td><td>-0.75%</td></tr>\n",
       "\t<tr><td>2</td><td>17</td><td>2123530</td><td>2045897</td><td> -77633</td><td>-0.93%</td></tr>\n",
       "\t<tr><td>2</td><td>18</td><td>2185272</td><td>2060528</td><td>-124744</td><td>-1.46%</td></tr>\n",
       "</tbody>\n",
       "</table>\n"
      ],
      "text/latex": [
       "A data.frame: 3 × 6\n",
       "\\begin{tabular}{llllll}\n",
       " SEX & AGE & pop\\_2010 & pop\\_2014 & Cambio & Crecimiento\\\\\n",
       " <int> & <int> & <int> & <int> & <int> & <chr>\\\\\n",
       "\\hline\n",
       "\t 2 & 16 & 2098220 & 2036296 &  -61924 & -0.75\\%\\\\\n",
       "\t 2 & 17 & 2123530 & 2045897 &  -77633 & -0.93\\%\\\\\n",
       "\t 2 & 18 & 2185272 & 2060528 & -124744 & -1.46\\%\\\\\n",
       "\\end{tabular}\n"
      ],
      "text/markdown": [
       "\n",
       "A data.frame: 3 × 6\n",
       "\n",
       "| SEX &lt;int&gt; | AGE &lt;int&gt; | pop_2010 &lt;int&gt; | pop_2014 &lt;int&gt; | Cambio &lt;int&gt; | Crecimiento &lt;chr&gt; |\n",
       "|---|---|---|---|---|---|\n",
       "| 2 | 16 | 2098220 | 2036296 |  -61924 | -0.75% |\n",
       "| 2 | 17 | 2123530 | 2045897 |  -77633 | -0.93% |\n",
       "| 2 | 18 | 2185272 | 2060528 | -124744 | -1.46% |\n",
       "\n"
      ],
      "text/plain": [
       "  SEX AGE pop_2010 pop_2014 Cambio  Crecimiento\n",
       "1 2   16  2098220  2036296   -61924 -0.75%     \n",
       "2 2   17  2123530  2045897   -77633 -0.93%     \n",
       "3 2   18  2185272  2060528  -124744 -1.46%     "
      ]
     },
     "metadata": {},
     "output_type": "display_data"
    }
   ],
   "source": [
    "adolescentes.votantes <- function(df){\n",
    "    #filter(df, AGE == 18 | AGE == 19)\n",
    "    filter(df, AGE > 15 & AGE < 19 )\n",
    "}\n",
    "\n",
    "adolescentes.votantes(hombres)\n",
    "adolescentes.votantes(mujeres)"
   ]
  },
  {
   "cell_type": "code",
   "execution_count": 17,
   "metadata": {},
   "outputs": [
    {
     "name": "stderr",
     "output_type": "stream",
     "text": [
      "Warning message in if (x < 5e-05) {:\n",
      "“the condition has length > 1 and only the first element will be used”"
     ]
    },
    {
     "data": {
      "text/html": [
       "<table>\n",
       "<caption>A data.frame: 6 × 6</caption>\n",
       "<thead>\n",
       "\t<tr><th></th><th scope=col>AGE</th><th scope=col>SEX</th><th scope=col>pop_2014</th><th scope=col>pop_2010</th><th scope=col>Cambio</th><th scope=col>Crecimiento</th></tr>\n",
       "\t<tr><th></th><th scope=col>&lt;int&gt;</th><th scope=col>&lt;int&gt;</th><th scope=col>&lt;int&gt;</th><th scope=col>&lt;int&gt;</th><th scope=col>&lt;int&gt;</th><th scope=col>&lt;dbl&gt;</th></tr>\n",
       "</thead>\n",
       "<tbody>\n",
       "\t<tr><th scope=row>1</th><td>0</td><td>0</td><td>3948350</td><td>3951330</td><td>  -2980</td><td>-0.07541764</td></tr>\n",
       "\t<tr><th scope=row>2</th><td>1</td><td>0</td><td>3962123</td><td>3957888</td><td>   4235</td><td> 0.10700151</td></tr>\n",
       "\t<tr><th scope=row>3</th><td>2</td><td>0</td><td>3957772</td><td>4090862</td><td>-133090</td><td>-3.25334856</td></tr>\n",
       "\t<tr><th scope=row>4</th><td>3</td><td>0</td><td>4005190</td><td>4111920</td><td>-106730</td><td>-2.59562443</td></tr>\n",
       "\t<tr><th scope=row>5</th><td>4</td><td>0</td><td>4003448</td><td>4077552</td><td> -74104</td><td>-1.81736493</td></tr>\n",
       "\t<tr><th scope=row>6</th><td>5</td><td>0</td><td>4004858</td><td>4064653</td><td> -59795</td><td>-1.47109729</td></tr>\n",
       "</tbody>\n",
       "</table>\n"
      ],
      "text/latex": [
       "A data.frame: 6 × 6\n",
       "\\begin{tabular}{r|llllll}\n",
       "  & AGE & SEX & pop\\_2014 & pop\\_2010 & Cambio & Crecimiento\\\\\n",
       "  & <int> & <int> & <int> & <int> & <int> & <dbl>\\\\\n",
       "\\hline\n",
       "\t1 & 0 & 0 & 3948350 & 3951330 &   -2980 & -0.07541764\\\\\n",
       "\t2 & 1 & 0 & 3962123 & 3957888 &    4235 &  0.10700151\\\\\n",
       "\t3 & 2 & 0 & 3957772 & 4090862 & -133090 & -3.25334856\\\\\n",
       "\t4 & 3 & 0 & 4005190 & 4111920 & -106730 & -2.59562443\\\\\n",
       "\t5 & 4 & 0 & 4003448 & 4077552 &  -74104 & -1.81736493\\\\\n",
       "\t6 & 5 & 0 & 4004858 & 4064653 &  -59795 & -1.47109729\\\\\n",
       "\\end{tabular}\n"
      ],
      "text/markdown": [
       "\n",
       "A data.frame: 6 × 6\n",
       "\n",
       "| <!--/--> | AGE &lt;int&gt; | SEX &lt;int&gt; | pop_2014 &lt;int&gt; | pop_2010 &lt;int&gt; | Cambio &lt;int&gt; | Crecimiento &lt;dbl&gt; |\n",
       "|---|---|---|---|---|---|---|\n",
       "| 1 | 0 | 0 | 3948350 | 3951330 |   -2980 | -0.07541764 |\n",
       "| 2 | 1 | 0 | 3962123 | 3957888 |    4235 |  0.10700151 |\n",
       "| 3 | 2 | 0 | 3957772 | 4090862 | -133090 | -3.25334856 |\n",
       "| 4 | 3 | 0 | 4005190 | 4111920 | -106730 | -2.59562443 |\n",
       "| 5 | 4 | 0 | 4003448 | 4077552 |  -74104 | -1.81736493 |\n",
       "| 6 | 5 | 0 | 4004858 | 4064653 |  -59795 | -1.47109729 |\n",
       "\n"
      ],
      "text/plain": [
       "  AGE SEX pop_2014 pop_2010 Cambio  Crecimiento\n",
       "1 0   0   3948350  3951330    -2980 -0.07541764\n",
       "2 1   0   3962123  3957888     4235  0.10700151\n",
       "3 2   0   3957772  4090862  -133090 -3.25334856\n",
       "4 3   0   4005190  4111920  -106730 -2.59562443\n",
       "5 4   0   4003448  4077552   -74104 -1.81736493\n",
       "6 5   0   4004858  4064653   -59795 -1.47109729"
      ]
     },
     "metadata": {},
     "output_type": "display_data"
    }
   ],
   "source": [
    "pop_Simple <- pop_us %>% select(AGE, SEX, \n",
    "                      pop_2014=POPESTIMATE2014, \n",
    "                      pop_2010=POPESTIMATE2010) %>%\n",
    "                    mutate(Cambio = pop_2014 - pop_2010, \n",
    "                    Crecimiento = porcentaje(pop_2014/pop_2010 - 1))\n",
    "\n",
    "head(pop_Simple)"
   ]
  },
  {
   "cell_type": "code",
   "execution_count": null,
   "metadata": {},
   "outputs": [],
   "source": []
  },
  {
   "cell_type": "code",
   "execution_count": null,
   "metadata": {},
   "outputs": [],
   "source": []
  }
 ],
 "metadata": {
  "anaconda-cloud": {},
  "kernelspec": {
   "display_name": "R",
   "language": "R",
   "name": "ir"
  },
  "language_info": {
   "codemirror_mode": "r",
   "file_extension": ".r",
   "mimetype": "text/x-r-source",
   "name": "R",
   "pygments_lexer": "r",
   "version": "3.6.0"
  }
 },
 "nbformat": 4,
 "nbformat_minor": 1
}
