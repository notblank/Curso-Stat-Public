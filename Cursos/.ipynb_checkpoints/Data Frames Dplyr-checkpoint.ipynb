{
 "cells": [
  {
   "cell_type": "markdown",
   "metadata": {},
   "source": [
    "# Data Frames"
   ]
  },
  {
   "cell_type": "code",
   "execution_count": 10,
   "metadata": {
    "collapsed": false
   },
   "outputs": [
    {
     "data": {
      "text/html": [
       "<table>\n",
       "<thead><tr><th scope=col>par</th><th scope=col>impar</th></tr></thead>\n",
       "<tbody>\n",
       "\t<tr><td>2</td><td>3</td></tr>\n",
       "</tbody>\n",
       "</table>\n"
      ],
      "text/latex": [
       "\\begin{tabular}{r|ll}\n",
       " par & impar\\\\\n",
       "\\hline\n",
       "\t 2 & 3\\\\\n",
       "\\end{tabular}\n"
      ],
      "text/markdown": [
       "\n",
       "par | impar | \n",
       "|---|\n",
       "| 2 | 3 | \n",
       "\n",
       "\n"
      ],
      "text/plain": [
       "  par impar\n",
       "1 2   3    "
      ]
     },
     "metadata": {},
     "output_type": "display_data"
    }
   ],
   "source": [
    "library(dplyr)\n",
    "library(nycflights13)\n",
    "d <- data.frame(matrix(c(2, 3), ncol = 2))\n",
    "names(d) <- c('par', 'impar')\n",
    "d"
   ]
  },
  {
   "cell_type": "code",
   "execution_count": 20,
   "metadata": {
    "collapsed": false
   },
   "outputs": [
    {
     "data": {
      "text/html": [
       "<table>\n",
       "<thead><tr><th scope=col>par</th><th scope=col>impar</th></tr></thead>\n",
       "<tbody>\n",
       "\t<tr><td>2</td><td>3</td></tr>\n",
       "\t<tr><td>4</td><td>5</td></tr>\n",
       "</tbody>\n",
       "</table>\n"
      ],
      "text/latex": [
       "\\begin{tabular}{r|ll}\n",
       " par & impar\\\\\n",
       "\\hline\n",
       "\t 2 & 3\\\\\n",
       "\t 4 & 5\\\\\n",
       "\\end{tabular}\n"
      ],
      "text/markdown": [
       "\n",
       "par | impar | \n",
       "|---|---|\n",
       "| 2 | 3 | \n",
       "| 4 | 5 | \n",
       "\n",
       "\n"
      ],
      "text/plain": [
       "  par impar\n",
       "1 2   3    \n",
       "2 4   5    "
      ]
     },
     "metadata": {},
     "output_type": "display_data"
    },
    {
     "data": {
      "text/html": [
       "<table>\n",
       "<thead><tr><th scope=col>par</th><th scope=col>impar</th></tr></thead>\n",
       "<tbody>\n",
       "\t<tr><td>2</td><td>3</td></tr>\n",
       "\t<tr><td>6</td><td>8</td></tr>\n",
       "\t<tr><td>7</td><td>9</td></tr>\n",
       "</tbody>\n",
       "</table>\n"
      ],
      "text/latex": [
       "\\begin{tabular}{r|ll}\n",
       " par & impar\\\\\n",
       "\\hline\n",
       "\t 2 & 3\\\\\n",
       "\t 6 & 8\\\\\n",
       "\t 7 & 9\\\\\n",
       "\\end{tabular}\n"
      ],
      "text/markdown": [
       "\n",
       "par | impar | \n",
       "|---|---|---|\n",
       "| 2 | 3 | \n",
       "| 6 | 8 | \n",
       "| 7 | 9 | \n",
       "\n",
       "\n"
      ],
      "text/plain": [
       "  par impar\n",
       "1 2   3    \n",
       "2 6   8    \n",
       "3 7   9    "
      ]
     },
     "metadata": {},
     "output_type": "display_data"
    }
   ],
   "source": [
    "# Añadir una fila:\n",
    "\n",
    "rbind(d, c(4,5))\n",
    "\n",
    "# Añadir mas de una fila:\n",
    "d2 <- as.data.frame(matrix(c(6, 7, 8, 9), ncol = 2))\n",
    "names(d2) <- c('par', 'impar')\n",
    "\n",
    "rbind(d, d2)"
   ]
  },
  {
   "cell_type": "code",
   "execution_count": 2,
   "metadata": {
    "collapsed": false
   },
   "outputs": [
    {
     "name": "stderr",
     "output_type": "stream",
     "text": [
      "\n",
      "Attaching package: 'dplyr'\n",
      "\n",
      "The following objects are masked from 'package:stats':\n",
      "\n",
      "    filter, lag\n",
      "\n",
      "The following objects are masked from 'package:base':\n",
      "\n",
      "    intersect, setdiff, setequal, union\n",
      "\n"
     ]
    },
    {
     "data": {
      "text/html": [
       "<table>\n",
       "<thead><tr><th scope=col>date</th><th scope=col>hour</th><th scope=col>minute</th><th scope=col>dep</th><th scope=col>arr</th><th scope=col>dep_delay</th><th scope=col>arr_delay</th><th scope=col>carrier</th><th scope=col>flight</th><th scope=col>dest</th><th scope=col>plane</th><th scope=col>cancelled</th><th scope=col>time</th><th scope=col>dist</th></tr></thead>\n",
       "<tbody>\n",
       "\t<tr><td>2011-01-01</td><td>14        </td><td> 0        </td><td>1400      </td><td>1500      </td><td> 0        </td><td>-10       </td><td>AA        </td><td>428       </td><td>DFW       </td><td>N576AA    </td><td>0         </td><td>40        </td><td>224       </td></tr>\n",
       "\t<tr><td>2011-01-02</td><td>14        </td><td> 1        </td><td>1401      </td><td>1501      </td><td> 1        </td><td> -9       </td><td>AA        </td><td>428       </td><td>DFW       </td><td>N557AA    </td><td>0         </td><td>45        </td><td>224       </td></tr>\n",
       "\t<tr><td>2011-01-03</td><td>13        </td><td>52        </td><td>1352      </td><td>1502      </td><td>-8        </td><td> -8       </td><td>AA        </td><td>428       </td><td>DFW       </td><td>N541AA    </td><td>0         </td><td>48        </td><td>224       </td></tr>\n",
       "\t<tr><td>2011-01-04</td><td>14        </td><td> 3        </td><td>1403      </td><td>1513      </td><td> 3        </td><td>  3       </td><td>AA        </td><td>428       </td><td>DFW       </td><td>N403AA    </td><td>0         </td><td>39        </td><td>224       </td></tr>\n",
       "\t<tr><td>2011-01-05</td><td>14        </td><td> 5        </td><td>1405      </td><td>1507      </td><td> 5        </td><td> -3       </td><td>AA        </td><td>428       </td><td>DFW       </td><td>N492AA    </td><td>0         </td><td>44        </td><td>224       </td></tr>\n",
       "\t<tr><td>2011-01-06</td><td>13        </td><td>59        </td><td>1359      </td><td>1503      </td><td>-1        </td><td> -7       </td><td>AA        </td><td>428       </td><td>DFW       </td><td>N262AA    </td><td>0         </td><td>45        </td><td>224       </td></tr>\n",
       "</tbody>\n",
       "</table>\n"
      ],
      "text/latex": [
       "\\begin{tabular}{r|llllllllllllll}\n",
       " date & hour & minute & dep & arr & dep\\_delay & arr\\_delay & carrier & flight & dest & plane & cancelled & time & dist\\\\\n",
       "\\hline\n",
       "\t 2011-01-01 & 14         &  0         & 1400       & 1500       &  0         & -10        & AA         & 428        & DFW        & N576AA     & 0          & 40         & 224       \\\\\n",
       "\t 2011-01-02 & 14         &  1         & 1401       & 1501       &  1         &  -9        & AA         & 428        & DFW        & N557AA     & 0          & 45         & 224       \\\\\n",
       "\t 2011-01-03 & 13         & 52         & 1352       & 1502       & -8         &  -8        & AA         & 428        & DFW        & N541AA     & 0          & 48         & 224       \\\\\n",
       "\t 2011-01-04 & 14         &  3         & 1403       & 1513       &  3         &   3        & AA         & 428        & DFW        & N403AA     & 0          & 39         & 224       \\\\\n",
       "\t 2011-01-05 & 14         &  5         & 1405       & 1507       &  5         &  -3        & AA         & 428        & DFW        & N492AA     & 0          & 44         & 224       \\\\\n",
       "\t 2011-01-06 & 13         & 59         & 1359       & 1503       & -1         &  -7        & AA         & 428        & DFW        & N262AA     & 0          & 45         & 224       \\\\\n",
       "\\end{tabular}\n"
      ],
      "text/markdown": [
       "\n",
       "date | hour | minute | dep | arr | dep_delay | arr_delay | carrier | flight | dest | plane | cancelled | time | dist | \n",
       "|---|---|---|---|---|---|\n",
       "| 2011-01-01 | 14         |  0         | 1400       | 1500       |  0         | -10        | AA         | 428        | DFW        | N576AA     | 0          | 40         | 224        | \n",
       "| 2011-01-02 | 14         |  1         | 1401       | 1501       |  1         |  -9        | AA         | 428        | DFW        | N557AA     | 0          | 45         | 224        | \n",
       "| 2011-01-03 | 13         | 52         | 1352       | 1502       | -8         |  -8        | AA         | 428        | DFW        | N541AA     | 0          | 48         | 224        | \n",
       "| 2011-01-04 | 14         |  3         | 1403       | 1513       |  3         |   3        | AA         | 428        | DFW        | N403AA     | 0          | 39         | 224        | \n",
       "| 2011-01-05 | 14         |  5         | 1405       | 1507       |  5         |  -3        | AA         | 428        | DFW        | N492AA     | 0          | 44         | 224        | \n",
       "| 2011-01-06 | 13         | 59         | 1359       | 1503       | -1         |  -7        | AA         | 428        | DFW        | N262AA     | 0          | 45         | 224        | \n",
       "\n",
       "\n"
      ],
      "text/plain": [
       "  date       hour minute dep  arr  dep_delay arr_delay carrier flight dest\n",
       "1 2011-01-01 14    0     1400 1500  0        -10       AA      428    DFW \n",
       "2 2011-01-02 14    1     1401 1501  1         -9       AA      428    DFW \n",
       "3 2011-01-03 13   52     1352 1502 -8         -8       AA      428    DFW \n",
       "4 2011-01-04 14    3     1403 1513  3          3       AA      428    DFW \n",
       "5 2011-01-05 14    5     1405 1507  5         -3       AA      428    DFW \n",
       "6 2011-01-06 13   59     1359 1503 -1         -7       AA      428    DFW \n",
       "  plane  cancelled time dist\n",
       "1 N576AA 0         40   224 \n",
       "2 N557AA 0         45   224 \n",
       "3 N541AA 0         48   224 \n",
       "4 N403AA 0         39   224 \n",
       "5 N492AA 0         44   224 \n",
       "6 N262AA 0         45   224 "
      ]
     },
     "metadata": {},
     "output_type": "display_data"
    },
    {
     "data": {
      "text/plain": [
       "      date                 hour           temp          dew_point    \n",
       " Min.   :2011-01-01   Min.   : 0.0   Min.   : 21.00   Min.   :10.00  \n",
       " 1st Qu.:2011-04-02   1st Qu.: 5.0   1st Qu.: 60.80   1st Qu.:46.90  \n",
       " Median :2011-07-02   Median :12.0   Median : 73.90   Median :63.00  \n",
       " Mean   :2011-07-02   Mean   :11.5   Mean   : 71.32   Mean   :57.68  \n",
       " 3rd Qu.:2011-10-01   3rd Qu.:17.0   3rd Qu.: 82.90   3rd Qu.:70.00  \n",
       " Max.   :2012-01-01   Max.   :23.0   Max.   :108.00   Max.   :78.80  \n",
       "                                     NA's   :5        NA's   :5      \n",
       "    humidity         pressure       visibility       wind_dir        \n",
       " Min.   : 10.00   Min.   :29.41   Min.   : 0.000   Length:8723       \n",
       " 1st Qu.: 51.00   1st Qu.:29.88   1st Qu.:10.000   Class :character  \n",
       " Median : 70.00   Median :29.97   Median :10.000   Mode  :character  \n",
       " Mean   : 65.91   Mean   :30.00   Mean   : 9.455                     \n",
       " 3rd Qu.: 83.00   3rd Qu.:30.10   3rd Qu.:10.000                     \n",
       " Max.   :100.00   Max.   :30.78   Max.   :89.000                     \n",
       " NA's   :5        NA's   :5       NA's   :1                          \n",
       "   wind_dir2       wind_speed      gust_speed        precip     \n",
       " Min.   : 10.0   Min.   : 3.50   Min.   :16.10   Min.   :0.000  \n",
       " 1st Qu.:130.0   1st Qu.: 5.80   1st Qu.:19.60   1st Qu.:0.000  \n",
       " Median :170.0   Median : 8.10   Median :23.00   Median :0.000  \n",
       " Mean   :182.1   Mean   : 9.52   Mean   :23.52   Mean   :0.022  \n",
       " 3rd Qu.:210.0   3rd Qu.:12.70   3rd Qu.:26.50   3rd Qu.:0.010  \n",
       " Max.   :360.0   Max.   :46.00   Max.   :55.20   Max.   :0.590  \n",
       " NA's   :1479    NA's   :1186    NA's   :7272    NA's   :8241   \n",
       "  conditions           events         \n",
       " Length:8723        Length:8723       \n",
       " Class :character   Class :character  \n",
       " Mode  :character   Mode  :character  \n",
       "                                      \n",
       "                                      \n",
       "                                      \n",
       "                                      "
      ]
     },
     "metadata": {},
     "output_type": "display_data"
    }
   ],
   "source": [
    "setwd('C:/Users/Personal/Data-Science-Students/Data/NoteBooks/dplyr-tutorial/')\n",
    "\n",
    "library(dplyr)\n",
    "library(ggplot2)\n",
    "\n",
    "# table_ df dplyr same as data.frame except for print. \n",
    "\n",
    "flights <- tbl_df(read.csv(\"flights.csv\", stringsAsFactors = FALSE))\n",
    "flights$date <- as.Date(flights$date)\n",
    "\n",
    "weather <- tbl_df(read.csv(\"weather.csv\", stringsAsFactors = FALSE))\n",
    "weather$date <- as.Date(weather$date)\n",
    "\n",
    "planes <- tbl_df(read.csv(\"planes.csv\", stringsAsFactors = FALSE))\n",
    "\n",
    "airports <- tbl_df(read.csv(\"airports.csv\", stringsAsFactors = FALSE))\n",
    "\n",
    "head(flights)\n",
    "summary(weather)"
   ]
  },
  {
   "cell_type": "code",
   "execution_count": 37,
   "metadata": {
    "collapsed": false
   },
   "outputs": [
    {
     "data": {
      "text/html": [
       "<table>\n",
       "<thead><tr><th scope=col>color</th><th scope=col>value</th></tr></thead>\n",
       "<tbody>\n",
       "\t<tr><td>blue </td><td>1    </td></tr>\n",
       "\t<tr><td>black</td><td>5    </td></tr>\n",
       "\t<tr><td>blue </td><td>7    </td></tr>\n",
       "\t<tr><td>blue </td><td>8    </td></tr>\n",
       "\t<tr><td>black</td><td>0    </td></tr>\n",
       "</tbody>\n",
       "</table>\n"
      ],
      "text/latex": [
       "\\begin{tabular}{r|ll}\n",
       " color & value\\\\\n",
       "\\hline\n",
       "\t blue  & 1    \\\\\n",
       "\t black & 5    \\\\\n",
       "\t blue  & 7    \\\\\n",
       "\t blue  & 8    \\\\\n",
       "\t black & 0    \\\\\n",
       "\\end{tabular}\n"
      ],
      "text/markdown": [
       "\n",
       "color | value | \n",
       "|---|---|---|---|---|\n",
       "| blue  | 1     | \n",
       "| black | 5     | \n",
       "| blue  | 7     | \n",
       "| blue  | 8     | \n",
       "| black | 0     | \n",
       "\n",
       "\n"
      ],
      "text/plain": [
       "  color value\n",
       "1 blue  1    \n",
       "2 black 5    \n",
       "3 blue  7    \n",
       "4 blue  8    \n",
       "5 black 0    "
      ]
     },
     "metadata": {},
     "output_type": "display_data"
    },
    {
     "data": {
      "text/html": [
       "<table>\n",
       "<thead><tr><th scope=col>color</th><th scope=col>value</th></tr></thead>\n",
       "<tbody>\n",
       "\t<tr><td>blue</td><td>1   </td></tr>\n",
       "\t<tr><td>blue</td><td>7   </td></tr>\n",
       "\t<tr><td>blue</td><td>8   </td></tr>\n",
       "</tbody>\n",
       "</table>\n"
      ],
      "text/latex": [
       "\\begin{tabular}{r|ll}\n",
       " color & value\\\\\n",
       "\\hline\n",
       "\t blue & 1   \\\\\n",
       "\t blue & 7   \\\\\n",
       "\t blue & 8   \\\\\n",
       "\\end{tabular}\n"
      ],
      "text/markdown": [
       "\n",
       "color | value | \n",
       "|---|---|---|\n",
       "| blue | 1    | \n",
       "| blue | 7    | \n",
       "| blue | 8    | \n",
       "\n",
       "\n"
      ],
      "text/plain": [
       "  color value\n",
       "1 blue  1    \n",
       "2 blue  7    \n",
       "3 blue  8    "
      ]
     },
     "metadata": {},
     "output_type": "display_data"
    },
    {
     "data": {
      "text/html": [
       "<table>\n",
       "<thead><tr><th scope=col>color</th><th scope=col>value</th></tr></thead>\n",
       "<tbody>\n",
       "\t<tr><td>blue </td><td>1    </td></tr>\n",
       "\t<tr><td>black</td><td>0    </td></tr>\n",
       "</tbody>\n",
       "</table>\n"
      ],
      "text/latex": [
       "\\begin{tabular}{r|ll}\n",
       " color & value\\\\\n",
       "\\hline\n",
       "\t blue  & 1    \\\\\n",
       "\t black & 0    \\\\\n",
       "\\end{tabular}\n"
      ],
      "text/markdown": [
       "\n",
       "color | value | \n",
       "|---|---|\n",
       "| blue  | 1     | \n",
       "| black | 0     | \n",
       "\n",
       "\n"
      ],
      "text/plain": [
       "  color value\n",
       "1 blue  1    \n",
       "2 black 0    "
      ]
     },
     "metadata": {},
     "output_type": "display_data"
    }
   ],
   "source": [
    "df <- data.frame(color = c('blue', 'black', 'blue', 'blue', 'black'), value = c(1, 5, 7 ,8, 0))\n",
    "df\n",
    "filter(df, color == 'blue')\n",
    "filter(df, value %in% c(1, 0))\n"
   ]
  },
  {
   "cell_type": "code",
   "execution_count": 1,
   "metadata": {
    "collapsed": false
   },
   "outputs": [
    {
     "ename": "ERROR",
     "evalue": "Error in head(flights): objeto 'flights' no encontrado\n",
     "output_type": "error",
     "traceback": [
      "Error in head(flights): objeto 'flights' no encontrado\nTraceback:\n",
      "1. head(flights)"
     ]
    }
   ],
   "source": [
    "head(flights)\n",
    "#filter(flights, dest %in% c('SFO', 'OAK') & dep_delay > 60 )\n",
    "#filter(flights, date < '2011-02-01' )\n",
    "filter(flights, arr_delay > 2 * dep_delay )"
   ]
  },
  {
   "cell_type": "code",
   "execution_count": 5,
   "metadata": {
    "collapsed": false
   },
   "outputs": [
    {
     "data": {
      "text/html": [
       "<table>\n",
       "<thead><tr><th scope=col>date</th><th scope=col>delay</th></tr></thead>\n",
       "<tbody>\n",
       "\t<tr><td>2011-01-01</td><td>10.708029 </td></tr>\n",
       "\t<tr><td>2011-01-02</td><td>15.661169 </td></tr>\n",
       "\t<tr><td>2011-01-03</td><td>13.414286 </td></tr>\n",
       "\t<tr><td>2011-01-04</td><td>11.903614 </td></tr>\n",
       "\t<tr><td>2011-01-05</td><td> 6.325383 </td></tr>\n",
       "\t<tr><td>2011-01-06</td><td> 5.283333 </td></tr>\n",
       "</tbody>\n",
       "</table>\n"
      ],
      "text/latex": [
       "\\begin{tabular}{r|ll}\n",
       " date & delay\\\\\n",
       "\\hline\n",
       "\t 2011-01-01 & 10.708029 \\\\\n",
       "\t 2011-01-02 & 15.661169 \\\\\n",
       "\t 2011-01-03 & 13.414286 \\\\\n",
       "\t 2011-01-04 & 11.903614 \\\\\n",
       "\t 2011-01-05 &  6.325383 \\\\\n",
       "\t 2011-01-06 &  5.283333 \\\\\n",
       "\\end{tabular}\n"
      ],
      "text/markdown": [
       "\n",
       "date | delay | \n",
       "|---|---|---|---|---|---|\n",
       "| 2011-01-01 | 10.708029  | \n",
       "| 2011-01-02 | 15.661169  | \n",
       "| 2011-01-03 | 13.414286  | \n",
       "| 2011-01-04 | 11.903614  | \n",
       "| 2011-01-05 |  6.325383  | \n",
       "| 2011-01-06 |  5.283333  | \n",
       "\n",
       "\n"
      ],
      "text/plain": [
       "  date       delay    \n",
       "1 2011-01-01 10.708029\n",
       "2 2011-01-02 15.661169\n",
       "3 2011-01-03 13.414286\n",
       "4 2011-01-04 11.903614\n",
       "5 2011-01-05  6.325383\n",
       "6 2011-01-06  5.283333"
      ]
     },
     "metadata": {},
     "output_type": "display_data"
    }
   ],
   "source": [
    "daily <- flights %>% group_by(date) %>% summarise(delay = mean(dep_delay, na.rm=T))\n",
    "head(daily)"
   ]
  },
  {
   "cell_type": "code",
   "execution_count": 8,
   "metadata": {
    "collapsed": false
   },
   "outputs": [
    {
     "data": {
      "text/html": [
       "<table>\n",
       "<thead><tr><th scope=col>date</th><th scope=col>delay</th><th scope=col>delay - lag(delay)</th></tr></thead>\n",
       "<tbody>\n",
       "\t<tr><td>2011-01-01 </td><td>10.708029  </td><td>         NA</td></tr>\n",
       "\t<tr><td>2011-01-02 </td><td>15.661169  </td><td> 4.95314022</td></tr>\n",
       "\t<tr><td>2011-01-03 </td><td>13.414286  </td><td>-2.24688370</td></tr>\n",
       "\t<tr><td>2011-01-04 </td><td>11.903614  </td><td>-1.51067126</td></tr>\n",
       "\t<tr><td>2011-01-05 </td><td> 6.325383  </td><td>-5.57823115</td></tr>\n",
       "\t<tr><td>2011-01-06 </td><td> 5.283333  </td><td>-1.04204997</td></tr>\n",
       "\t<tr><td>2011-01-07 </td><td> 5.365152  </td><td> 0.08181818</td></tr>\n",
       "\t<tr><td>2011-01-08 </td><td> 7.655311  </td><td> 2.29015911</td></tr>\n",
       "\t<tr><td>2011-01-09 </td><td>20.748709  </td><td>13.09339850</td></tr>\n",
       "\t<tr><td>2011-01-10 </td><td>12.322061  </td><td>-8.42664793</td></tr>\n",
       "\t<tr><td>2011-01-11 </td><td>11.340541  </td><td>-0.98152065</td></tr>\n",
       "\t<tr><td>2011-01-12 </td><td> 4.709059  </td><td>-6.63148131</td></tr>\n",
       "\t<tr><td>2011-01-13 </td><td> 5.163389  </td><td> 0.45432957</td></tr>\n",
       "\t<tr><td>2011-01-14 </td><td> 5.413636  </td><td> 0.25024756</td></tr>\n",
       "\t<tr><td>2011-01-15 </td><td> 5.139630  </td><td>-0.27400597</td></tr>\n",
       "\t<tr><td>2011-01-16 </td><td> 6.325000  </td><td> 1.18536961</td></tr>\n",
       "\t<tr><td>2011-01-17 </td><td> 8.416794  </td><td> 2.09179389</td></tr>\n",
       "\t<tr><td>2011-01-18 </td><td>10.794118  </td><td> 2.37732375</td></tr>\n",
       "\t<tr><td>2011-01-19 </td><td> 2.774359  </td><td>-8.01975867</td></tr>\n",
       "\t<tr><td>2011-01-20 </td><td>10.734756  </td><td> 7.96039712</td></tr>\n",
       "\t<tr><td>2011-01-21 </td><td> 6.180030  </td><td>-4.55472584</td></tr>\n",
       "\t<tr><td>2011-01-22 </td><td> 1.303279  </td><td>-4.87675157</td></tr>\n",
       "\t<tr><td>2011-01-23 </td><td> 2.543189  </td><td> 1.23991068</td></tr>\n",
       "\t<tr><td>2011-01-24 </td><td>11.172783  </td><td> 8.62959351</td></tr>\n",
       "\t<tr><td>2011-01-25 </td><td> 2.606218  </td><td>-8.56656526</td></tr>\n",
       "\t<tr><td>2011-01-26 </td><td> 4.326316  </td><td> 1.72009817</td></tr>\n",
       "\t<tr><td>2011-01-27 </td><td>12.379939  </td><td> 8.05362342</td></tr>\n",
       "\t<tr><td>2011-01-28 </td><td> 7.091324  </td><td>-5.28861501</td></tr>\n",
       "\t<tr><td>2011-01-29 </td><td> 1.629630  </td><td>-5.46169457</td></tr>\n",
       "\t<tr><td>2011-01-30 </td><td> 6.607321  </td><td> 4.97769150</td></tr>\n",
       "\t<tr><td>...</td><td>...</td><td>...</td></tr>\n",
       "\t<tr><td>2011-12-02  </td><td> 4.930197   </td><td>  1.03004598</td></tr>\n",
       "\t<tr><td>2011-12-03  </td><td> 2.681452   </td><td> -2.24874566</td></tr>\n",
       "\t<tr><td>2011-12-04  </td><td> 9.796928   </td><td>  7.11547671</td></tr>\n",
       "\t<tr><td>2011-12-05  </td><td>10.697819   </td><td>  0.90089099</td></tr>\n",
       "\t<tr><td>2011-12-06  </td><td> 7.090586   </td><td> -3.60723317</td></tr>\n",
       "\t<tr><td>2011-12-07  </td><td> 4.113990   </td><td> -2.97659651</td></tr>\n",
       "\t<tr><td>2011-12-08  </td><td> 3.447328   </td><td> -0.66666139</td></tr>\n",
       "\t<tr><td>2011-12-09  </td><td> 5.865031   </td><td>  2.41770243</td></tr>\n",
       "\t<tr><td>2011-12-10  </td><td> 3.766529   </td><td> -2.09850175</td></tr>\n",
       "\t<tr><td>2011-12-11  </td><td> 4.102564   </td><td>  0.33603518</td></tr>\n",
       "\t<tr><td>2011-12-12  </td><td> 8.078247   </td><td>  3.97568316</td></tr>\n",
       "\t<tr><td>2011-12-13  </td><td> 7.613879   </td><td> -0.46436826</td></tr>\n",
       "\t<tr><td>2011-12-14  </td><td> 7.769759   </td><td>  0.15588045</td></tr>\n",
       "\t<tr><td>2011-12-15  </td><td>14.452345   </td><td>  6.68258548</td></tr>\n",
       "\t<tr><td>2011-12-16  </td><td>14.266867   </td><td> -0.18547837</td></tr>\n",
       "\t<tr><td>2011-12-17  </td><td> 9.870567   </td><td> -4.39629919</td></tr>\n",
       "\t<tr><td>2011-12-18  </td><td> 9.442649   </td><td> -0.42791794</td></tr>\n",
       "\t<tr><td>2011-12-19  </td><td>11.700000   </td><td>  2.25735057</td></tr>\n",
       "\t<tr><td>2011-12-20  </td><td> 9.519562   </td><td> -2.18043818</td></tr>\n",
       "\t<tr><td>2011-12-21  </td><td>13.472727   </td><td>  3.95316546</td></tr>\n",
       "\t<tr><td>2011-12-22  </td><td>27.397321   </td><td> 13.92459416</td></tr>\n",
       "\t<tr><td>2011-12-23  </td><td>11.561194   </td><td>-15.83612740</td></tr>\n",
       "\t<tr><td>2011-12-24  </td><td> 9.464789   </td><td> -2.09640530</td></tr>\n",
       "\t<tr><td>2011-12-25  </td><td> 9.562057   </td><td>  0.09726801</td></tr>\n",
       "\t<tr><td>2011-12-26  </td><td>11.672619   </td><td>  2.11056231</td></tr>\n",
       "\t<tr><td>2011-12-27  </td><td> 9.340330   </td><td> -2.33228921</td></tr>\n",
       "\t<tr><td>2011-12-28  </td><td> 5.959701   </td><td> -3.38062834</td></tr>\n",
       "\t<tr><td>2011-12-29  </td><td>30.788553   </td><td> 24.82885177</td></tr>\n",
       "\t<tr><td>2011-12-30  </td><td> 9.692192   </td><td>-21.09636107</td></tr>\n",
       "\t<tr><td>2011-12-31  </td><td>54.171367   </td><td> 44.47917440</td></tr>\n",
       "</tbody>\n",
       "</table>\n"
      ],
      "text/latex": [
       "\\begin{tabular}{r|lll}\n",
       " date & delay & delay - lag(delay)\\\\\n",
       "\\hline\n",
       "\t 2011-01-01  & 10.708029   &          NA\\\\\n",
       "\t 2011-01-02  & 15.661169   &  4.95314022\\\\\n",
       "\t 2011-01-03  & 13.414286   & -2.24688370\\\\\n",
       "\t 2011-01-04  & 11.903614   & -1.51067126\\\\\n",
       "\t 2011-01-05  &  6.325383   & -5.57823115\\\\\n",
       "\t 2011-01-06  &  5.283333   & -1.04204997\\\\\n",
       "\t 2011-01-07  &  5.365152   &  0.08181818\\\\\n",
       "\t 2011-01-08  &  7.655311   &  2.29015911\\\\\n",
       "\t 2011-01-09  & 20.748709   & 13.09339850\\\\\n",
       "\t 2011-01-10  & 12.322061   & -8.42664793\\\\\n",
       "\t 2011-01-11  & 11.340541   & -0.98152065\\\\\n",
       "\t 2011-01-12  &  4.709059   & -6.63148131\\\\\n",
       "\t 2011-01-13  &  5.163389   &  0.45432957\\\\\n",
       "\t 2011-01-14  &  5.413636   &  0.25024756\\\\\n",
       "\t 2011-01-15  &  5.139630   & -0.27400597\\\\\n",
       "\t 2011-01-16  &  6.325000   &  1.18536961\\\\\n",
       "\t 2011-01-17  &  8.416794   &  2.09179389\\\\\n",
       "\t 2011-01-18  & 10.794118   &  2.37732375\\\\\n",
       "\t 2011-01-19  &  2.774359   & -8.01975867\\\\\n",
       "\t 2011-01-20  & 10.734756   &  7.96039712\\\\\n",
       "\t 2011-01-21  &  6.180030   & -4.55472584\\\\\n",
       "\t 2011-01-22  &  1.303279   & -4.87675157\\\\\n",
       "\t 2011-01-23  &  2.543189   &  1.23991068\\\\\n",
       "\t 2011-01-24  & 11.172783   &  8.62959351\\\\\n",
       "\t 2011-01-25  &  2.606218   & -8.56656526\\\\\n",
       "\t 2011-01-26  &  4.326316   &  1.72009817\\\\\n",
       "\t 2011-01-27  & 12.379939   &  8.05362342\\\\\n",
       "\t 2011-01-28  &  7.091324   & -5.28861501\\\\\n",
       "\t 2011-01-29  &  1.629630   & -5.46169457\\\\\n",
       "\t 2011-01-30  &  6.607321   &  4.97769150\\\\\n",
       "\t ... & ... & ...\\\\\n",
       "\t 2011-12-02   &  4.930197    &   1.03004598\\\\\n",
       "\t 2011-12-03   &  2.681452    &  -2.24874566\\\\\n",
       "\t 2011-12-04   &  9.796928    &   7.11547671\\\\\n",
       "\t 2011-12-05   & 10.697819    &   0.90089099\\\\\n",
       "\t 2011-12-06   &  7.090586    &  -3.60723317\\\\\n",
       "\t 2011-12-07   &  4.113990    &  -2.97659651\\\\\n",
       "\t 2011-12-08   &  3.447328    &  -0.66666139\\\\\n",
       "\t 2011-12-09   &  5.865031    &   2.41770243\\\\\n",
       "\t 2011-12-10   &  3.766529    &  -2.09850175\\\\\n",
       "\t 2011-12-11   &  4.102564    &   0.33603518\\\\\n",
       "\t 2011-12-12   &  8.078247    &   3.97568316\\\\\n",
       "\t 2011-12-13   &  7.613879    &  -0.46436826\\\\\n",
       "\t 2011-12-14   &  7.769759    &   0.15588045\\\\\n",
       "\t 2011-12-15   & 14.452345    &   6.68258548\\\\\n",
       "\t 2011-12-16   & 14.266867    &  -0.18547837\\\\\n",
       "\t 2011-12-17   &  9.870567    &  -4.39629919\\\\\n",
       "\t 2011-12-18   &  9.442649    &  -0.42791794\\\\\n",
       "\t 2011-12-19   & 11.700000    &   2.25735057\\\\\n",
       "\t 2011-12-20   &  9.519562    &  -2.18043818\\\\\n",
       "\t 2011-12-21   & 13.472727    &   3.95316546\\\\\n",
       "\t 2011-12-22   & 27.397321    &  13.92459416\\\\\n",
       "\t 2011-12-23   & 11.561194    & -15.83612740\\\\\n",
       "\t 2011-12-24   &  9.464789    &  -2.09640530\\\\\n",
       "\t 2011-12-25   &  9.562057    &   0.09726801\\\\\n",
       "\t 2011-12-26   & 11.672619    &   2.11056231\\\\\n",
       "\t 2011-12-27   &  9.340330    &  -2.33228921\\\\\n",
       "\t 2011-12-28   &  5.959701    &  -3.38062834\\\\\n",
       "\t 2011-12-29   & 30.788553    &  24.82885177\\\\\n",
       "\t 2011-12-30   &  9.692192    & -21.09636107\\\\\n",
       "\t 2011-12-31   & 54.171367    &  44.47917440\\\\\n",
       "\\end{tabular}\n"
      ],
      "text/markdown": [
       "\n",
       "date | delay | delay - lag(delay) | \n",
       "|---|---|---|---|---|---|---|---|---|---|---|---|---|---|---|---|---|---|---|---|---|---|---|---|---|---|---|---|---|---|---|---|---|---|---|---|---|---|---|---|---|---|---|---|---|---|---|---|---|---|---|---|---|---|---|---|---|---|---|---|---|\n",
       "| 2011-01-01  | 10.708029   |          NA | \n",
       "| 2011-01-02  | 15.661169   |  4.95314022 | \n",
       "| 2011-01-03  | 13.414286   | -2.24688370 | \n",
       "| 2011-01-04  | 11.903614   | -1.51067126 | \n",
       "| 2011-01-05  |  6.325383   | -5.57823115 | \n",
       "| 2011-01-06  |  5.283333   | -1.04204997 | \n",
       "| 2011-01-07  |  5.365152   |  0.08181818 | \n",
       "| 2011-01-08  |  7.655311   |  2.29015911 | \n",
       "| 2011-01-09  | 20.748709   | 13.09339850 | \n",
       "| 2011-01-10  | 12.322061   | -8.42664793 | \n",
       "| 2011-01-11  | 11.340541   | -0.98152065 | \n",
       "| 2011-01-12  |  4.709059   | -6.63148131 | \n",
       "| 2011-01-13  |  5.163389   |  0.45432957 | \n",
       "| 2011-01-14  |  5.413636   |  0.25024756 | \n",
       "| 2011-01-15  |  5.139630   | -0.27400597 | \n",
       "| 2011-01-16  |  6.325000   |  1.18536961 | \n",
       "| 2011-01-17  |  8.416794   |  2.09179389 | \n",
       "| 2011-01-18  | 10.794118   |  2.37732375 | \n",
       "| 2011-01-19  |  2.774359   | -8.01975867 | \n",
       "| 2011-01-20  | 10.734756   |  7.96039712 | \n",
       "| 2011-01-21  |  6.180030   | -4.55472584 | \n",
       "| 2011-01-22  |  1.303279   | -4.87675157 | \n",
       "| 2011-01-23  |  2.543189   |  1.23991068 | \n",
       "| 2011-01-24  | 11.172783   |  8.62959351 | \n",
       "| 2011-01-25  |  2.606218   | -8.56656526 | \n",
       "| 2011-01-26  |  4.326316   |  1.72009817 | \n",
       "| 2011-01-27  | 12.379939   |  8.05362342 | \n",
       "| 2011-01-28  |  7.091324   | -5.28861501 | \n",
       "| 2011-01-29  |  1.629630   | -5.46169457 | \n",
       "| 2011-01-30  |  6.607321   |  4.97769150 | \n",
       "| ... | ... | ... | \n",
       "| 2011-12-02   |  4.930197    |   1.03004598 | \n",
       "| 2011-12-03   |  2.681452    |  -2.24874566 | \n",
       "| 2011-12-04   |  9.796928    |   7.11547671 | \n",
       "| 2011-12-05   | 10.697819    |   0.90089099 | \n",
       "| 2011-12-06   |  7.090586    |  -3.60723317 | \n",
       "| 2011-12-07   |  4.113990    |  -2.97659651 | \n",
       "| 2011-12-08   |  3.447328    |  -0.66666139 | \n",
       "| 2011-12-09   |  5.865031    |   2.41770243 | \n",
       "| 2011-12-10   |  3.766529    |  -2.09850175 | \n",
       "| 2011-12-11   |  4.102564    |   0.33603518 | \n",
       "| 2011-12-12   |  8.078247    |   3.97568316 | \n",
       "| 2011-12-13   |  7.613879    |  -0.46436826 | \n",
       "| 2011-12-14   |  7.769759    |   0.15588045 | \n",
       "| 2011-12-15   | 14.452345    |   6.68258548 | \n",
       "| 2011-12-16   | 14.266867    |  -0.18547837 | \n",
       "| 2011-12-17   |  9.870567    |  -4.39629919 | \n",
       "| 2011-12-18   |  9.442649    |  -0.42791794 | \n",
       "| 2011-12-19   | 11.700000    |   2.25735057 | \n",
       "| 2011-12-20   |  9.519562    |  -2.18043818 | \n",
       "| 2011-12-21   | 13.472727    |   3.95316546 | \n",
       "| 2011-12-22   | 27.397321    |  13.92459416 | \n",
       "| 2011-12-23   | 11.561194    | -15.83612740 | \n",
       "| 2011-12-24   |  9.464789    |  -2.09640530 | \n",
       "| 2011-12-25   |  9.562057    |   0.09726801 | \n",
       "| 2011-12-26   | 11.672619    |   2.11056231 | \n",
       "| 2011-12-27   |  9.340330    |  -2.33228921 | \n",
       "| 2011-12-28   |  5.959701    |  -3.38062834 | \n",
       "| 2011-12-29   | 30.788553    |  24.82885177 | \n",
       "| 2011-12-30   |  9.692192    | -21.09636107 | \n",
       "| 2011-12-31   | 54.171367    |  44.47917440 | \n",
       "\n",
       "\n"
      ],
      "text/plain": [
       "    date       delay     delay - lag(delay)\n",
       "1   2011-01-01 10.708029          NA       \n",
       "2   2011-01-02 15.661169  4.95314022       \n",
       "3   2011-01-03 13.414286 -2.24688370       \n",
       "4   2011-01-04 11.903614 -1.51067126       \n",
       "5   2011-01-05  6.325383 -5.57823115       \n",
       "6   2011-01-06  5.283333 -1.04204997       \n",
       "7   2011-01-07  5.365152  0.08181818       \n",
       "8   2011-01-08  7.655311  2.29015911       \n",
       "9   2011-01-09 20.748709 13.09339850       \n",
       "10  2011-01-10 12.322061 -8.42664793       \n",
       "11  2011-01-11 11.340541 -0.98152065       \n",
       "12  2011-01-12  4.709059 -6.63148131       \n",
       "13  2011-01-13  5.163389  0.45432957       \n",
       "14  2011-01-14  5.413636  0.25024756       \n",
       "15  2011-01-15  5.139630 -0.27400597       \n",
       "16  2011-01-16  6.325000  1.18536961       \n",
       "17  2011-01-17  8.416794  2.09179389       \n",
       "18  2011-01-18 10.794118  2.37732375       \n",
       "19  2011-01-19  2.774359 -8.01975867       \n",
       "20  2011-01-20 10.734756  7.96039712       \n",
       "21  2011-01-21  6.180030 -4.55472584       \n",
       "22  2011-01-22  1.303279 -4.87675157       \n",
       "23  2011-01-23  2.543189  1.23991068       \n",
       "24  2011-01-24 11.172783  8.62959351       \n",
       "25  2011-01-25  2.606218 -8.56656526       \n",
       "26  2011-01-26  4.326316  1.72009817       \n",
       "27  2011-01-27 12.379939  8.05362342       \n",
       "28  2011-01-28  7.091324 -5.28861501       \n",
       "29  2011-01-29  1.629630 -5.46169457       \n",
       "30  2011-01-30  6.607321  4.97769150       \n",
       "... ...        ...       ...               \n",
       "336 2011-12-02  4.930197   1.03004598      \n",
       "337 2011-12-03  2.681452  -2.24874566      \n",
       "338 2011-12-04  9.796928   7.11547671      \n",
       "339 2011-12-05 10.697819   0.90089099      \n",
       "340 2011-12-06  7.090586  -3.60723317      \n",
       "341 2011-12-07  4.113990  -2.97659651      \n",
       "342 2011-12-08  3.447328  -0.66666139      \n",
       "343 2011-12-09  5.865031   2.41770243      \n",
       "344 2011-12-10  3.766529  -2.09850175      \n",
       "345 2011-12-11  4.102564   0.33603518      \n",
       "346 2011-12-12  8.078247   3.97568316      \n",
       "347 2011-12-13  7.613879  -0.46436826      \n",
       "348 2011-12-14  7.769759   0.15588045      \n",
       "349 2011-12-15 14.452345   6.68258548      \n",
       "350 2011-12-16 14.266867  -0.18547837      \n",
       "351 2011-12-17  9.870567  -4.39629919      \n",
       "352 2011-12-18  9.442649  -0.42791794      \n",
       "353 2011-12-19 11.700000   2.25735057      \n",
       "354 2011-12-20  9.519562  -2.18043818      \n",
       "355 2011-12-21 13.472727   3.95316546      \n",
       "356 2011-12-22 27.397321  13.92459416      \n",
       "357 2011-12-23 11.561194 -15.83612740      \n",
       "358 2011-12-24  9.464789  -2.09640530      \n",
       "359 2011-12-25  9.562057   0.09726801      \n",
       "360 2011-12-26 11.672619   2.11056231      \n",
       "361 2011-12-27  9.340330  -2.33228921      \n",
       "362 2011-12-28  5.959701  -3.38062834      \n",
       "363 2011-12-29 30.788553  24.82885177      \n",
       "364 2011-12-30  9.692192 -21.09636107      \n",
       "365 2011-12-31 54.171367  44.47917440      "
      ]
     },
     "metadata": {},
     "output_type": "display_data"
    }
   ],
   "source": [
    "# day to day delay change\n",
    "daily %>% mutate(delay - lag(delay))"
   ]
  },
  {
   "cell_type": "code",
   "execution_count": 14,
   "metadata": {
    "collapsed": false
   },
   "outputs": [
    {
     "data": {
      "text/html": [
       "<table>\n",
       "<thead><tr><th scope=col>dest</th><th scope=col>delay</th><th scope=col>n</th></tr></thead>\n",
       "<tbody>\n",
       "\t<tr><td>ANC     </td><td>26.08065</td><td> 125    </td></tr>\n",
       "\t<tr><td>CID     </td><td>17.80049</td><td> 410    </td></tr>\n",
       "\t<tr><td>DSM     </td><td>15.95110</td><td> 647    </td></tr>\n",
       "\t<tr><td>SFO     </td><td>14.89036</td><td>2818    </td></tr>\n",
       "\t<tr><td>BPT     </td><td>14.33333</td><td>   3    </td></tr>\n",
       "\t<tr><td>GRR     </td><td>13.71729</td><td> 677    </td></tr>\n",
       "</tbody>\n",
       "</table>\n"
      ],
      "text/latex": [
       "\\begin{tabular}{r|lll}\n",
       " dest & delay & n\\\\\n",
       "\\hline\n",
       "\t ANC      & 26.08065 &  125    \\\\\n",
       "\t CID      & 17.80049 &  410    \\\\\n",
       "\t DSM      & 15.95110 &  647    \\\\\n",
       "\t SFO      & 14.89036 & 2818    \\\\\n",
       "\t BPT      & 14.33333 &    3    \\\\\n",
       "\t GRR      & 13.71729 &  677    \\\\\n",
       "\\end{tabular}\n"
      ],
      "text/markdown": [
       "\n",
       "dest | delay | n | \n",
       "|---|---|---|---|---|---|\n",
       "| ANC      | 26.08065 |  125     | \n",
       "| CID      | 17.80049 |  410     | \n",
       "| DSM      | 15.95110 |  647     | \n",
       "| SFO      | 14.89036 | 2818     | \n",
       "| BPT      | 14.33333 |    3     | \n",
       "| GRR      | 13.71729 |  677     | \n",
       "\n",
       "\n"
      ],
      "text/plain": [
       "  dest delay    n   \n",
       "1 ANC  26.08065  125\n",
       "2 CID  17.80049  410\n",
       "3 DSM  15.95110  647\n",
       "4 SFO  14.89036 2818\n",
       "5 BPT  14.33333    3\n",
       "6 GRR  13.71729  677"
      ]
     },
     "metadata": {},
     "output_type": "display_data"
    }
   ],
   "source": [
    "delay <- flights %>% group_by(dest) %>%\n",
    "    summarise(delay = mean(arr_delay, na.rm=T), n=n()) %>% arrange(desc(delay))\n",
    "\n",
    "head(delay)"
   ]
  },
  {
   "cell_type": "code",
   "execution_count": 16,
   "metadata": {
    "collapsed": false
   },
   "outputs": [
    {
     "data": {
      "text/html": [
       "<table>\n",
       "<thead><tr><th scope=col>iata</th><th scope=col>airport</th><th scope=col>city</th><th scope=col>state</th><th scope=col>country</th><th scope=col>lat</th><th scope=col>long</th></tr></thead>\n",
       "<tbody>\n",
       "\t<tr><td>00M                 </td><td>Thigpen             </td><td>Bay Springs         </td><td>MS                  </td><td>USA                 </td><td>31.95376            </td><td> -89.23450          </td></tr>\n",
       "\t<tr><td>00R                 </td><td>Livingston Municipal</td><td>Livingston          </td><td>TX                  </td><td>USA                 </td><td>30.68586            </td><td> -95.01793          </td></tr>\n",
       "\t<tr><td>00V                 </td><td>Meadow Lake         </td><td>Colorado Springs    </td><td>CO                  </td><td>USA                 </td><td>38.94575            </td><td>-104.56989          </td></tr>\n",
       "\t<tr><td>01G                 </td><td>Perry-Warsaw        </td><td>Perry               </td><td>NY                  </td><td>USA                 </td><td>42.74135            </td><td> -78.05208          </td></tr>\n",
       "\t<tr><td>01J                 </td><td>Hilliard Airpark    </td><td>Hilliard            </td><td>FL                  </td><td>USA                 </td><td>30.68801            </td><td> -81.90594          </td></tr>\n",
       "\t<tr><td>01M                 </td><td>Tishomingo County   </td><td>Belmont             </td><td>MS                  </td><td>USA                 </td><td>34.49167            </td><td> -88.20111          </td></tr>\n",
       "</tbody>\n",
       "</table>\n"
      ],
      "text/latex": [
       "\\begin{tabular}{r|lllllll}\n",
       " iata & airport & city & state & country & lat & long\\\\\n",
       "\\hline\n",
       "\t 00M                  & Thigpen              & Bay Springs          & MS                   & USA                  & 31.95376             &  -89.23450          \\\\\n",
       "\t 00R                  & Livingston Municipal & Livingston           & TX                   & USA                  & 30.68586             &  -95.01793          \\\\\n",
       "\t 00V                  & Meadow Lake          & Colorado Springs     & CO                   & USA                  & 38.94575             & -104.56989          \\\\\n",
       "\t 01G                  & Perry-Warsaw         & Perry                & NY                   & USA                  & 42.74135             &  -78.05208          \\\\\n",
       "\t 01J                  & Hilliard Airpark     & Hilliard             & FL                   & USA                  & 30.68801             &  -81.90594          \\\\\n",
       "\t 01M                  & Tishomingo County    & Belmont              & MS                   & USA                  & 34.49167             &  -88.20111          \\\\\n",
       "\\end{tabular}\n"
      ],
      "text/markdown": [
       "\n",
       "iata | airport | city | state | country | lat | long | \n",
       "|---|---|---|---|---|---|\n",
       "| 00M                  | Thigpen              | Bay Springs          | MS                   | USA                  | 31.95376             |  -89.23450           | \n",
       "| 00R                  | Livingston Municipal | Livingston           | TX                   | USA                  | 30.68586             |  -95.01793           | \n",
       "| 00V                  | Meadow Lake          | Colorado Springs     | CO                   | USA                  | 38.94575             | -104.56989           | \n",
       "| 01G                  | Perry-Warsaw         | Perry                | NY                   | USA                  | 42.74135             |  -78.05208           | \n",
       "| 01J                  | Hilliard Airpark     | Hilliard             | FL                   | USA                  | 30.68801             |  -81.90594           | \n",
       "| 01M                  | Tishomingo County    | Belmont              | MS                   | USA                  | 34.49167             |  -88.20111           | \n",
       "\n",
       "\n"
      ],
      "text/plain": [
       "  iata airport              city             state country lat      long      \n",
       "1 00M  Thigpen              Bay Springs      MS    USA     31.95376  -89.23450\n",
       "2 00R  Livingston Municipal Livingston       TX    USA     30.68586  -95.01793\n",
       "3 00V  Meadow Lake          Colorado Springs CO    USA     38.94575 -104.56989\n",
       "4 01G  Perry-Warsaw         Perry            NY    USA     42.74135  -78.05208\n",
       "5 01J  Hilliard Airpark     Hilliard         FL    USA     30.68801  -81.90594\n",
       "6 01M  Tishomingo County    Belmont          MS    USA     34.49167  -88.20111"
      ]
     },
     "metadata": {},
     "output_type": "display_data"
    }
   ],
   "source": [
    "head(airports)"
   ]
  },
  {
   "cell_type": "code",
   "execution_count": 23,
   "metadata": {
    "collapsed": false
   },
   "outputs": [
    {
     "data": {
      "text/html": [
       "<table>\n",
       "<thead><tr><th scope=col>dest</th><th scope=col>name</th><th scope=col>lat</th><th scope=col>long</th></tr></thead>\n",
       "<tbody>\n",
       "\t<tr><td>00M                 </td><td>Thigpen             </td><td>31.95376            </td><td> -89.23450          </td></tr>\n",
       "\t<tr><td>00R                 </td><td>Livingston Municipal</td><td>30.68586            </td><td> -95.01793          </td></tr>\n",
       "\t<tr><td>00V                 </td><td>Meadow Lake         </td><td>38.94575            </td><td>-104.56989          </td></tr>\n",
       "\t<tr><td>01G                 </td><td>Perry-Warsaw        </td><td>42.74135            </td><td> -78.05208          </td></tr>\n",
       "\t<tr><td>01J                 </td><td>Hilliard Airpark    </td><td>30.68801            </td><td> -81.90594          </td></tr>\n",
       "\t<tr><td>01M                 </td><td>Tishomingo County   </td><td>34.49167            </td><td> -88.20111          </td></tr>\n",
       "</tbody>\n",
       "</table>\n"
      ],
      "text/latex": [
       "\\begin{tabular}{r|llll}\n",
       " dest & name & lat & long\\\\\n",
       "\\hline\n",
       "\t 00M                  & Thigpen              & 31.95376             &  -89.23450          \\\\\n",
       "\t 00R                  & Livingston Municipal & 30.68586             &  -95.01793          \\\\\n",
       "\t 00V                  & Meadow Lake          & 38.94575             & -104.56989          \\\\\n",
       "\t 01G                  & Perry-Warsaw         & 42.74135             &  -78.05208          \\\\\n",
       "\t 01J                  & Hilliard Airpark     & 30.68801             &  -81.90594          \\\\\n",
       "\t 01M                  & Tishomingo County    & 34.49167             &  -88.20111          \\\\\n",
       "\\end{tabular}\n"
      ],
      "text/markdown": [
       "\n",
       "dest | name | lat | long | \n",
       "|---|---|---|---|---|---|\n",
       "| 00M                  | Thigpen              | 31.95376             |  -89.23450           | \n",
       "| 00R                  | Livingston Municipal | 30.68586             |  -95.01793           | \n",
       "| 00V                  | Meadow Lake          | 38.94575             | -104.56989           | \n",
       "| 01G                  | Perry-Warsaw         | 42.74135             |  -78.05208           | \n",
       "| 01J                  | Hilliard Airpark     | 30.68801             |  -81.90594           | \n",
       "| 01M                  | Tishomingo County    | 34.49167             |  -88.20111           | \n",
       "\n",
       "\n"
      ],
      "text/plain": [
       "  dest name                 lat      long      \n",
       "1 00M  Thigpen              31.95376  -89.23450\n",
       "2 00R  Livingston Municipal 30.68586  -95.01793\n",
       "3 00V  Meadow Lake          38.94575 -104.56989\n",
       "4 01G  Perry-Warsaw         42.74135  -78.05208\n",
       "5 01J  Hilliard Airpark     30.68801  -81.90594\n",
       "6 01M  Tishomingo County    34.49167  -88.20111"
      ]
     },
     "metadata": {},
     "output_type": "display_data"
    }
   ],
   "source": [
    "# para poner todo en un mapa necesitamos las coordenadas. \n",
    "location <- airports %>% select(dest = iata, name = airport, lat, long)\n",
    "head(location)"
   ]
  },
  {
   "cell_type": "code",
   "execution_count": 25,
   "metadata": {
    "collapsed": false
   },
   "outputs": [
    {
     "name": "stderr",
     "output_type": "stream",
     "text": [
      "Joining, by = \"dest\"\n"
     ]
    },
    {
     "data": {
      "text/html": [
       "<table>\n",
       "<thead><tr><th scope=col>dest</th><th scope=col>delay</th><th scope=col>n</th><th scope=col>name</th><th scope=col>lat</th><th scope=col>long</th></tr></thead>\n",
       "<tbody>\n",
       "\t<tr><td>ANC                                </td><td>26.080645                          </td><td> 125                               </td><td>Ted Stevens Anchorage International</td><td>61.17432                           </td><td>-149.99619                         </td></tr>\n",
       "\t<tr><td>CID                                </td><td>17.800493                          </td><td> 410                               </td><td>Eastern Iowa                       </td><td>41.88459                           </td><td> -91.71087                         </td></tr>\n",
       "\t<tr><td>DSM                                </td><td>15.951104                          </td><td> 647                               </td><td>Des Moines International           </td><td>41.53493                           </td><td> -93.66068                         </td></tr>\n",
       "\t<tr><td>SFO                                </td><td>14.890357                          </td><td>2818                               </td><td>San Francisco International        </td><td>37.61900                           </td><td>-122.37484                         </td></tr>\n",
       "\t<tr><td>BPT                                </td><td>14.333333                          </td><td>   3                               </td><td>Southeast Texas Regional           </td><td>29.95083                           </td><td> -94.02069                         </td></tr>\n",
       "\t<tr><td>GRR                                </td><td>13.717293                          </td><td> 677                               </td><td>Kent County International          </td><td>42.88082                           </td><td> -85.52277                         </td></tr>\n",
       "\t<tr><td>DAY                                </td><td>13.671171                          </td><td> 451                               </td><td>James M Cox Dayton Intl            </td><td>39.90238                           </td><td> -84.21937                         </td></tr>\n",
       "\t<tr><td>VPS                                </td><td>12.457176                          </td><td> 880                               </td><td>Eglin Air Force Base               </td><td>30.48325                           </td><td> -86.52540                         </td></tr>\n",
       "\t<tr><td>ECP                                </td><td>12.422222                          </td><td> 729                               </td><td>NA                                 </td><td>      NA                           </td><td>        NA                         </td></tr>\n",
       "\t<tr><td>SAV                                </td><td>12.331375                          </td><td> 863                               </td><td>Savannah International             </td><td>32.12758                           </td><td> -81.20214                         </td></tr>\n",
       "\t<tr><td>RIC                                </td><td>12.301232                          </td><td> 900                               </td><td>Richmond International             </td><td>37.50517                           </td><td> -77.31967                         </td></tr>\n",
       "\t<tr><td>EGE                                </td><td>11.752381                          </td><td> 110                               </td><td>Eagle County Regional              </td><td>39.64257                           </td><td>-106.91770                         </td></tr>\n",
       "\t<tr><td>SJU                                </td><td>11.546392                          </td><td> 391                               </td><td>Luis Munoz Marin International     </td><td>18.43942                           </td><td> -66.00183                         </td></tr>\n",
       "\t<tr><td>TYS                                </td><td>11.365915                          </td><td>1210                               </td><td>McGhee-Tyson                       </td><td>35.81249                           </td><td> -83.99286                         </td></tr>\n",
       "\t<tr><td>COS                                </td><td>11.073574                          </td><td>1657                               </td><td>City of Colorado Springs Muni      </td><td>38.80581                           </td><td>-104.70025                         </td></tr>\n",
       "\t<tr><td>HNL                                </td><td>10.927318                          </td><td> 402                               </td><td>Honolulu International             </td><td>21.31869                           </td><td>-157.92241                         </td></tr>\n",
       "\t<tr><td>LGA                                </td><td>10.812712                          </td><td>2730                               </td><td>LaGuardia                          </td><td>40.77724                           </td><td> -73.87261                         </td></tr>\n",
       "\t<tr><td>JAX                                </td><td>10.734183                          </td><td>2135                               </td><td>Jacksonville International         </td><td>30.49406                           </td><td> -81.68786                         </td></tr>\n",
       "\t<tr><td>CHS                                </td><td>10.631224                          </td><td>1200                               </td><td>Charleston AFB/International       </td><td>32.89865                           </td><td> -80.04051                         </td></tr>\n",
       "\t<tr><td>MCI                                </td><td>10.244793                          </td><td>3174                               </td><td>Kansas City International          </td><td>39.29761                           </td><td> -94.71391                         </td></tr>\n",
       "\t<tr><td>MKE                                </td><td>10.187420                          </td><td>1588                               </td><td>General Mitchell International     </td><td>42.94722                           </td><td> -87.89658                         </td></tr>\n",
       "\t<tr><td>ORD                                </td><td>10.151580                          </td><td>5748                               </td><td>Chicago O'Hare International       </td><td>41.97960                           </td><td> -87.90446                         </td></tr>\n",
       "\t<tr><td>AVL                                </td><td> 9.973988                          </td><td> 350                               </td><td>Asheville Regional                 </td><td>35.43619                           </td><td> -82.54181                         </td></tr>\n",
       "\t<tr><td>HSV                                </td><td> 9.902198                          </td><td> 923                               </td><td>Huntsville International           </td><td>34.64045                           </td><td> -86.77311                         </td></tr>\n",
       "\t<tr><td>JFK                                </td><td> 9.858841                          </td><td> 695                               </td><td>John F Kennedy Intl                </td><td>40.63975                           </td><td> -73.77893                         </td></tr>\n",
       "\t<tr><td>MAF                                </td><td> 9.832152                          </td><td>2306                               </td><td>Midland International              </td><td>31.94253                           </td><td>-102.20191                         </td></tr>\n",
       "\t<tr><td>SEA                                </td><td> 9.651707                          </td><td>2615                               </td><td>Seattle-Tacoma Intl                </td><td>47.44898                           </td><td>-122.30931                         </td></tr>\n",
       "\t<tr><td>PHL                                </td><td> 9.265551                          </td><td>2367                               </td><td>Philadelphia Intl                  </td><td>39.87195                           </td><td> -75.24114                         </td></tr>\n",
       "\t<tr><td>ELP                                </td><td> 9.167110                          </td><td>3036                               </td><td>El Paso International              </td><td>31.80667                           </td><td>-106.37781                         </td></tr>\n",
       "\t<tr><td>LEX                                </td><td> 9.019097                          </td><td> 584                               </td><td>Blue Grass                         </td><td>38.03697                           </td><td> -84.60539                         </td></tr>\n",
       "\t<tr><td>...</td><td>...</td><td>...</td><td>...</td><td>...</td><td>...</td></tr>\n",
       "\t<tr><td>IAD                               </td><td>  5.71106557                      </td><td>1980                              </td><td>Washington Dulles International   </td><td>38.94453                          </td><td> -77.45581                        </td></tr>\n",
       "\t<tr><td>LRD                               </td><td>  5.48623064                      </td><td>1188                              </td><td>Laredo International              </td><td>27.54374                          </td><td> -99.46154                        </td></tr>\n",
       "\t<tr><td>GJT                               </td><td>  5.05750000                      </td><td> 403                              </td><td>Walker                            </td><td>39.12241                          </td><td>-108.52673                        </td></tr>\n",
       "\t<tr><td>TPA                               </td><td>  4.88037810                      </td><td>3085                              </td><td>Tampa International               </td><td>27.97547                          </td><td> -82.53325                        </td></tr>\n",
       "\t<tr><td>SMF                               </td><td>  4.66271019                      </td><td>1014                              </td><td>Sacramento International          </td><td>38.69542                          </td><td>-121.59077                        </td></tr>\n",
       "\t<tr><td>PIT                               </td><td>  4.39563107                      </td><td>1664                              </td><td>Pittsburgh International          </td><td>40.49147                          </td><td> -80.23287                        </td></tr>\n",
       "\t<tr><td>AGS                               </td><td>  4.00000000                      </td><td>   1                              </td><td>Bush                              </td><td>33.36995                          </td><td> -81.96450                        </td></tr>\n",
       "\t<tr><td>CMH                               </td><td>  3.88226415                      </td><td>1348                              </td><td>Port Columbus Intl                </td><td>39.99799                          </td><td> -82.89188                        </td></tr>\n",
       "\t<tr><td>BWI                               </td><td>  3.86316627                      </td><td>2551                              </td><td>Baltimore-Washington International</td><td>39.17540                          </td><td> -76.66820                        </td></tr>\n",
       "\t<tr><td>MDW                               </td><td>  3.81268151                      </td><td>2094                              </td><td>Chicago Midway                    </td><td>41.78598                          </td><td> -87.75242                        </td></tr>\n",
       "\t<tr><td>LAS                               </td><td>  3.77788722                      </td><td>4082                              </td><td>McCarran International            </td><td>36.08036                          </td><td>-115.15233                        </td></tr>\n",
       "\t<tr><td>SAN                               </td><td>  3.54698217                      </td><td>2936                              </td><td>San Diego International-Lindbergh </td><td>32.73356                          </td><td>-117.18966                        </td></tr>\n",
       "\t<tr><td>LCH                               </td><td>  3.07670455                      </td><td> 364                              </td><td>Lake Charles Regional             </td><td>30.12610                          </td><td> -93.22340                        </td></tr>\n",
       "\t<tr><td>DTW                               </td><td>  2.98826750                      </td><td>2601                              </td><td>Detroit Metropolitan-Wayne County </td><td>42.21206                          </td><td> -83.34884                        </td></tr>\n",
       "\t<tr><td>ONT                               </td><td>  2.68037975                      </td><td> 952                              </td><td>Ontario International             </td><td>34.05600                          </td><td>-117.60119                        </td></tr>\n",
       "\t<tr><td>DCA                               </td><td>  2.55844646                      </td><td>2699                              </td><td>Ronald Reagan Washington National </td><td>38.85208                          </td><td> -77.03772                        </td></tr>\n",
       "\t<tr><td>RNO                               </td><td>  2.27572016                      </td><td> 243                              </td><td>Reno/Tahoe International          </td><td>39.49858                          </td><td>-119.76806                        </td></tr>\n",
       "\t<tr><td>PHX                               </td><td>  2.16590864                      </td><td>5096                              </td><td>Phoenix Sky Harbor International  </td><td>33.43417                          </td><td>-112.00806                        </td></tr>\n",
       "\t<tr><td>HOB                               </td><td>  1.52881356                      </td><td> 309                              </td><td>Lea County Regional               </td><td>32.68753                          </td><td>-103.21703                        </td></tr>\n",
       "\t<tr><td>MLU                               </td><td>  1.19097222                      </td><td> 292                              </td><td>Monroe Regional                   </td><td>32.51087                          </td><td> -92.03769                        </td></tr>\n",
       "\t<tr><td>SLC                               </td><td>  1.10484669                      </td><td>2033                              </td><td>Salt Lake City Intl               </td><td>40.78839                          </td><td>-111.97777                        </td></tr>\n",
       "\t<tr><td>CLE                               </td><td>  1.04080675                      </td><td>2140                              </td><td>Cleveland-Hopkins Intl            </td><td>41.41089                          </td><td> -81.84940                        </td></tr>\n",
       "\t<tr><td>SJC                               </td><td>  0.73725934                      </td><td> 885                              </td><td>San Jose International            </td><td>37.36186                          </td><td>-121.92901                        </td></tr>\n",
       "\t<tr><td>MIA                               </td><td>  0.64936135                      </td><td>2463                              </td><td>Miami International               </td><td>25.79325                          </td><td> -80.29056                        </td></tr>\n",
       "\t<tr><td>SNA                               </td><td>  0.35800971                      </td><td>1661                              </td><td>John Wayne /Orange Co             </td><td>33.67566                          </td><td>-117.86822                        </td></tr>\n",
       "\t<tr><td>HDN                               </td><td>  0.08653846                      </td><td> 110                              </td><td>Yampa Valley                      </td><td>40.48118                          </td><td>-107.21766                        </td></tr>\n",
       "\t<tr><td>MTJ                               </td><td> -0.45061728                      </td><td> 164                              </td><td>Montrose Regional                 </td><td>38.50887                          </td><td>-107.89383                        </td></tr>\n",
       "\t<tr><td>GRK                               </td><td> -8.30000000                      </td><td>  42                              </td><td>Robert Gray AAF                   </td><td>31.06490                          </td><td> -97.82780                        </td></tr>\n",
       "\t<tr><td>BFL                               </td><td>-13.19880716                      </td><td> 504                              </td><td>Meadows                           </td><td>35.43360                          </td><td>-119.05677                        </td></tr>\n",
       "\t<tr><td>BKG                               </td><td>-16.23364486                      </td><td> 110                              </td><td>NA                                </td><td>      NA                          </td><td>        NA                        </td></tr>\n",
       "</tbody>\n",
       "</table>\n"
      ],
      "text/latex": [
       "\\begin{tabular}{r|llllll}\n",
       " dest & delay & n & name & lat & long\\\\\n",
       "\\hline\n",
       "\t ANC                                 & 26.080645                           &  125                                & Ted Stevens Anchorage International & 61.17432                            & -149.99619                         \\\\\n",
       "\t CID                                 & 17.800493                           &  410                                & Eastern Iowa                        & 41.88459                            &  -91.71087                         \\\\\n",
       "\t DSM                                 & 15.951104                           &  647                                & Des Moines International            & 41.53493                            &  -93.66068                         \\\\\n",
       "\t SFO                                 & 14.890357                           & 2818                                & San Francisco International         & 37.61900                            & -122.37484                         \\\\\n",
       "\t BPT                                 & 14.333333                           &    3                                & Southeast Texas Regional            & 29.95083                            &  -94.02069                         \\\\\n",
       "\t GRR                                 & 13.717293                           &  677                                & Kent County International           & 42.88082                            &  -85.52277                         \\\\\n",
       "\t DAY                                 & 13.671171                           &  451                                & James M Cox Dayton Intl             & 39.90238                            &  -84.21937                         \\\\\n",
       "\t VPS                                 & 12.457176                           &  880                                & Eglin Air Force Base                & 30.48325                            &  -86.52540                         \\\\\n",
       "\t ECP                                 & 12.422222                           &  729                                & NA                                  &       NA                            &         NA                         \\\\\n",
       "\t SAV                                 & 12.331375                           &  863                                & Savannah International              & 32.12758                            &  -81.20214                         \\\\\n",
       "\t RIC                                 & 12.301232                           &  900                                & Richmond International              & 37.50517                            &  -77.31967                         \\\\\n",
       "\t EGE                                 & 11.752381                           &  110                                & Eagle County Regional               & 39.64257                            & -106.91770                         \\\\\n",
       "\t SJU                                 & 11.546392                           &  391                                & Luis Munoz Marin International      & 18.43942                            &  -66.00183                         \\\\\n",
       "\t TYS                                 & 11.365915                           & 1210                                & McGhee-Tyson                        & 35.81249                            &  -83.99286                         \\\\\n",
       "\t COS                                 & 11.073574                           & 1657                                & City of Colorado Springs Muni       & 38.80581                            & -104.70025                         \\\\\n",
       "\t HNL                                 & 10.927318                           &  402                                & Honolulu International              & 21.31869                            & -157.92241                         \\\\\n",
       "\t LGA                                 & 10.812712                           & 2730                                & LaGuardia                           & 40.77724                            &  -73.87261                         \\\\\n",
       "\t JAX                                 & 10.734183                           & 2135                                & Jacksonville International          & 30.49406                            &  -81.68786                         \\\\\n",
       "\t CHS                                 & 10.631224                           & 1200                                & Charleston AFB/International        & 32.89865                            &  -80.04051                         \\\\\n",
       "\t MCI                                 & 10.244793                           & 3174                                & Kansas City International           & 39.29761                            &  -94.71391                         \\\\\n",
       "\t MKE                                 & 10.187420                           & 1588                                & General Mitchell International      & 42.94722                            &  -87.89658                         \\\\\n",
       "\t ORD                                 & 10.151580                           & 5748                                & Chicago O'Hare International        & 41.97960                            &  -87.90446                         \\\\\n",
       "\t AVL                                 &  9.973988                           &  350                                & Asheville Regional                  & 35.43619                            &  -82.54181                         \\\\\n",
       "\t HSV                                 &  9.902198                           &  923                                & Huntsville International            & 34.64045                            &  -86.77311                         \\\\\n",
       "\t JFK                                 &  9.858841                           &  695                                & John F Kennedy Intl                 & 40.63975                            &  -73.77893                         \\\\\n",
       "\t MAF                                 &  9.832152                           & 2306                                & Midland International               & 31.94253                            & -102.20191                         \\\\\n",
       "\t SEA                                 &  9.651707                           & 2615                                & Seattle-Tacoma Intl                 & 47.44898                            & -122.30931                         \\\\\n",
       "\t PHL                                 &  9.265551                           & 2367                                & Philadelphia Intl                   & 39.87195                            &  -75.24114                         \\\\\n",
       "\t ELP                                 &  9.167110                           & 3036                                & El Paso International               & 31.80667                            & -106.37781                         \\\\\n",
       "\t LEX                                 &  9.019097                           &  584                                & Blue Grass                          & 38.03697                            &  -84.60539                         \\\\\n",
       "\t ... & ... & ... & ... & ... & ...\\\\\n",
       "\t IAD                                &   5.71106557                       & 1980                               & Washington Dulles International    & 38.94453                           &  -77.45581                        \\\\\n",
       "\t LRD                                &   5.48623064                       & 1188                               & Laredo International               & 27.54374                           &  -99.46154                        \\\\\n",
       "\t GJT                                &   5.05750000                       &  403                               & Walker                             & 39.12241                           & -108.52673                        \\\\\n",
       "\t TPA                                &   4.88037810                       & 3085                               & Tampa International                & 27.97547                           &  -82.53325                        \\\\\n",
       "\t SMF                                &   4.66271019                       & 1014                               & Sacramento International           & 38.69542                           & -121.59077                        \\\\\n",
       "\t PIT                                &   4.39563107                       & 1664                               & Pittsburgh International           & 40.49147                           &  -80.23287                        \\\\\n",
       "\t AGS                                &   4.00000000                       &    1                               & Bush                               & 33.36995                           &  -81.96450                        \\\\\n",
       "\t CMH                                &   3.88226415                       & 1348                               & Port Columbus Intl                 & 39.99799                           &  -82.89188                        \\\\\n",
       "\t BWI                                &   3.86316627                       & 2551                               & Baltimore-Washington International & 39.17540                           &  -76.66820                        \\\\\n",
       "\t MDW                                &   3.81268151                       & 2094                               & Chicago Midway                     & 41.78598                           &  -87.75242                        \\\\\n",
       "\t LAS                                &   3.77788722                       & 4082                               & McCarran International             & 36.08036                           & -115.15233                        \\\\\n",
       "\t SAN                                &   3.54698217                       & 2936                               & San Diego International-Lindbergh  & 32.73356                           & -117.18966                        \\\\\n",
       "\t LCH                                &   3.07670455                       &  364                               & Lake Charles Regional              & 30.12610                           &  -93.22340                        \\\\\n",
       "\t DTW                                &   2.98826750                       & 2601                               & Detroit Metropolitan-Wayne County  & 42.21206                           &  -83.34884                        \\\\\n",
       "\t ONT                                &   2.68037975                       &  952                               & Ontario International              & 34.05600                           & -117.60119                        \\\\\n",
       "\t DCA                                &   2.55844646                       & 2699                               & Ronald Reagan Washington National  & 38.85208                           &  -77.03772                        \\\\\n",
       "\t RNO                                &   2.27572016                       &  243                               & Reno/Tahoe International           & 39.49858                           & -119.76806                        \\\\\n",
       "\t PHX                                &   2.16590864                       & 5096                               & Phoenix Sky Harbor International   & 33.43417                           & -112.00806                        \\\\\n",
       "\t HOB                                &   1.52881356                       &  309                               & Lea County Regional                & 32.68753                           & -103.21703                        \\\\\n",
       "\t MLU                                &   1.19097222                       &  292                               & Monroe Regional                    & 32.51087                           &  -92.03769                        \\\\\n",
       "\t SLC                                &   1.10484669                       & 2033                               & Salt Lake City Intl                & 40.78839                           & -111.97777                        \\\\\n",
       "\t CLE                                &   1.04080675                       & 2140                               & Cleveland-Hopkins Intl             & 41.41089                           &  -81.84940                        \\\\\n",
       "\t SJC                                &   0.73725934                       &  885                               & San Jose International             & 37.36186                           & -121.92901                        \\\\\n",
       "\t MIA                                &   0.64936135                       & 2463                               & Miami International                & 25.79325                           &  -80.29056                        \\\\\n",
       "\t SNA                                &   0.35800971                       & 1661                               & John Wayne /Orange Co              & 33.67566                           & -117.86822                        \\\\\n",
       "\t HDN                                &   0.08653846                       &  110                               & Yampa Valley                       & 40.48118                           & -107.21766                        \\\\\n",
       "\t MTJ                                &  -0.45061728                       &  164                               & Montrose Regional                  & 38.50887                           & -107.89383                        \\\\\n",
       "\t GRK                                &  -8.30000000                       &   42                               & Robert Gray AAF                    & 31.06490                           &  -97.82780                        \\\\\n",
       "\t BFL                                & -13.19880716                       &  504                               & Meadows                            & 35.43360                           & -119.05677                        \\\\\n",
       "\t BKG                                & -16.23364486                       &  110                               & NA                                 &       NA                           &         NA                        \\\\\n",
       "\\end{tabular}\n"
      ],
      "text/markdown": [
       "\n",
       "dest | delay | n | name | lat | long | \n",
       "|---|---|---|---|---|---|---|---|---|---|---|---|---|---|---|---|---|---|---|---|---|---|---|---|---|---|---|---|---|---|---|---|---|---|---|---|---|---|---|---|---|---|---|---|---|---|---|---|---|---|---|---|---|---|---|---|---|---|---|---|---|\n",
       "| ANC                                 | 26.080645                           |  125                                | Ted Stevens Anchorage International | 61.17432                            | -149.99619                          | \n",
       "| CID                                 | 17.800493                           |  410                                | Eastern Iowa                        | 41.88459                            |  -91.71087                          | \n",
       "| DSM                                 | 15.951104                           |  647                                | Des Moines International            | 41.53493                            |  -93.66068                          | \n",
       "| SFO                                 | 14.890357                           | 2818                                | San Francisco International         | 37.61900                            | -122.37484                          | \n",
       "| BPT                                 | 14.333333                           |    3                                | Southeast Texas Regional            | 29.95083                            |  -94.02069                          | \n",
       "| GRR                                 | 13.717293                           |  677                                | Kent County International           | 42.88082                            |  -85.52277                          | \n",
       "| DAY                                 | 13.671171                           |  451                                | James M Cox Dayton Intl             | 39.90238                            |  -84.21937                          | \n",
       "| VPS                                 | 12.457176                           |  880                                | Eglin Air Force Base                | 30.48325                            |  -86.52540                          | \n",
       "| ECP                                 | 12.422222                           |  729                                | NA                                  |       NA                            |         NA                          | \n",
       "| SAV                                 | 12.331375                           |  863                                | Savannah International              | 32.12758                            |  -81.20214                          | \n",
       "| RIC                                 | 12.301232                           |  900                                | Richmond International              | 37.50517                            |  -77.31967                          | \n",
       "| EGE                                 | 11.752381                           |  110                                | Eagle County Regional               | 39.64257                            | -106.91770                          | \n",
       "| SJU                                 | 11.546392                           |  391                                | Luis Munoz Marin International      | 18.43942                            |  -66.00183                          | \n",
       "| TYS                                 | 11.365915                           | 1210                                | McGhee-Tyson                        | 35.81249                            |  -83.99286                          | \n",
       "| COS                                 | 11.073574                           | 1657                                | City of Colorado Springs Muni       | 38.80581                            | -104.70025                          | \n",
       "| HNL                                 | 10.927318                           |  402                                | Honolulu International              | 21.31869                            | -157.92241                          | \n",
       "| LGA                                 | 10.812712                           | 2730                                | LaGuardia                           | 40.77724                            |  -73.87261                          | \n",
       "| JAX                                 | 10.734183                           | 2135                                | Jacksonville International          | 30.49406                            |  -81.68786                          | \n",
       "| CHS                                 | 10.631224                           | 1200                                | Charleston AFB/International        | 32.89865                            |  -80.04051                          | \n",
       "| MCI                                 | 10.244793                           | 3174                                | Kansas City International           | 39.29761                            |  -94.71391                          | \n",
       "| MKE                                 | 10.187420                           | 1588                                | General Mitchell International      | 42.94722                            |  -87.89658                          | \n",
       "| ORD                                 | 10.151580                           | 5748                                | Chicago O'Hare International        | 41.97960                            |  -87.90446                          | \n",
       "| AVL                                 |  9.973988                           |  350                                | Asheville Regional                  | 35.43619                            |  -82.54181                          | \n",
       "| HSV                                 |  9.902198                           |  923                                | Huntsville International            | 34.64045                            |  -86.77311                          | \n",
       "| JFK                                 |  9.858841                           |  695                                | John F Kennedy Intl                 | 40.63975                            |  -73.77893                          | \n",
       "| MAF                                 |  9.832152                           | 2306                                | Midland International               | 31.94253                            | -102.20191                          | \n",
       "| SEA                                 |  9.651707                           | 2615                                | Seattle-Tacoma Intl                 | 47.44898                            | -122.30931                          | \n",
       "| PHL                                 |  9.265551                           | 2367                                | Philadelphia Intl                   | 39.87195                            |  -75.24114                          | \n",
       "| ELP                                 |  9.167110                           | 3036                                | El Paso International               | 31.80667                            | -106.37781                          | \n",
       "| LEX                                 |  9.019097                           |  584                                | Blue Grass                          | 38.03697                            |  -84.60539                          | \n",
       "| ... | ... | ... | ... | ... | ... | \n",
       "| IAD                                |   5.71106557                       | 1980                               | Washington Dulles International    | 38.94453                           |  -77.45581                         | \n",
       "| LRD                                |   5.48623064                       | 1188                               | Laredo International               | 27.54374                           |  -99.46154                         | \n",
       "| GJT                                |   5.05750000                       |  403                               | Walker                             | 39.12241                           | -108.52673                         | \n",
       "| TPA                                |   4.88037810                       | 3085                               | Tampa International                | 27.97547                           |  -82.53325                         | \n",
       "| SMF                                |   4.66271019                       | 1014                               | Sacramento International           | 38.69542                           | -121.59077                         | \n",
       "| PIT                                |   4.39563107                       | 1664                               | Pittsburgh International           | 40.49147                           |  -80.23287                         | \n",
       "| AGS                                |   4.00000000                       |    1                               | Bush                               | 33.36995                           |  -81.96450                         | \n",
       "| CMH                                |   3.88226415                       | 1348                               | Port Columbus Intl                 | 39.99799                           |  -82.89188                         | \n",
       "| BWI                                |   3.86316627                       | 2551                               | Baltimore-Washington International | 39.17540                           |  -76.66820                         | \n",
       "| MDW                                |   3.81268151                       | 2094                               | Chicago Midway                     | 41.78598                           |  -87.75242                         | \n",
       "| LAS                                |   3.77788722                       | 4082                               | McCarran International             | 36.08036                           | -115.15233                         | \n",
       "| SAN                                |   3.54698217                       | 2936                               | San Diego International-Lindbergh  | 32.73356                           | -117.18966                         | \n",
       "| LCH                                |   3.07670455                       |  364                               | Lake Charles Regional              | 30.12610                           |  -93.22340                         | \n",
       "| DTW                                |   2.98826750                       | 2601                               | Detroit Metropolitan-Wayne County  | 42.21206                           |  -83.34884                         | \n",
       "| ONT                                |   2.68037975                       |  952                               | Ontario International              | 34.05600                           | -117.60119                         | \n",
       "| DCA                                |   2.55844646                       | 2699                               | Ronald Reagan Washington National  | 38.85208                           |  -77.03772                         | \n",
       "| RNO                                |   2.27572016                       |  243                               | Reno/Tahoe International           | 39.49858                           | -119.76806                         | \n",
       "| PHX                                |   2.16590864                       | 5096                               | Phoenix Sky Harbor International   | 33.43417                           | -112.00806                         | \n",
       "| HOB                                |   1.52881356                       |  309                               | Lea County Regional                | 32.68753                           | -103.21703                         | \n",
       "| MLU                                |   1.19097222                       |  292                               | Monroe Regional                    | 32.51087                           |  -92.03769                         | \n",
       "| SLC                                |   1.10484669                       | 2033                               | Salt Lake City Intl                | 40.78839                           | -111.97777                         | \n",
       "| CLE                                |   1.04080675                       | 2140                               | Cleveland-Hopkins Intl             | 41.41089                           |  -81.84940                         | \n",
       "| SJC                                |   0.73725934                       |  885                               | San Jose International             | 37.36186                           | -121.92901                         | \n",
       "| MIA                                |   0.64936135                       | 2463                               | Miami International                | 25.79325                           |  -80.29056                         | \n",
       "| SNA                                |   0.35800971                       | 1661                               | John Wayne /Orange Co              | 33.67566                           | -117.86822                         | \n",
       "| HDN                                |   0.08653846                       |  110                               | Yampa Valley                       | 40.48118                           | -107.21766                         | \n",
       "| MTJ                                |  -0.45061728                       |  164                               | Montrose Regional                  | 38.50887                           | -107.89383                         | \n",
       "| GRK                                |  -8.30000000                       |   42                               | Robert Gray AAF                    | 31.06490                           |  -97.82780                         | \n",
       "| BFL                                | -13.19880716                       |  504                               | Meadows                            | 35.43360                           | -119.05677                         | \n",
       "| BKG                                | -16.23364486                       |  110                               | NA                                 |       NA                           |         NA                         | \n",
       "\n",
       "\n"
      ],
      "text/plain": [
       "    dest delay        n    name                                lat     \n",
       "1   ANC  26.080645     125 Ted Stevens Anchorage International 61.17432\n",
       "2   CID  17.800493     410 Eastern Iowa                        41.88459\n",
       "3   DSM  15.951104     647 Des Moines International            41.53493\n",
       "4   SFO  14.890357    2818 San Francisco International         37.61900\n",
       "5   BPT  14.333333       3 Southeast Texas Regional            29.95083\n",
       "6   GRR  13.717293     677 Kent County International           42.88082\n",
       "7   DAY  13.671171     451 James M Cox Dayton Intl             39.90238\n",
       "8   VPS  12.457176     880 Eglin Air Force Base                30.48325\n",
       "9   ECP  12.422222     729 NA                                        NA\n",
       "10  SAV  12.331375     863 Savannah International              32.12758\n",
       "11  RIC  12.301232     900 Richmond International              37.50517\n",
       "12  EGE  11.752381     110 Eagle County Regional               39.64257\n",
       "13  SJU  11.546392     391 Luis Munoz Marin International      18.43942\n",
       "14  TYS  11.365915    1210 McGhee-Tyson                        35.81249\n",
       "15  COS  11.073574    1657 City of Colorado Springs Muni       38.80581\n",
       "16  HNL  10.927318     402 Honolulu International              21.31869\n",
       "17  LGA  10.812712    2730 LaGuardia                           40.77724\n",
       "18  JAX  10.734183    2135 Jacksonville International          30.49406\n",
       "19  CHS  10.631224    1200 Charleston AFB/International        32.89865\n",
       "20  MCI  10.244793    3174 Kansas City International           39.29761\n",
       "21  MKE  10.187420    1588 General Mitchell International      42.94722\n",
       "22  ORD  10.151580    5748 Chicago O'Hare International        41.97960\n",
       "23  AVL   9.973988     350 Asheville Regional                  35.43619\n",
       "24  HSV   9.902198     923 Huntsville International            34.64045\n",
       "25  JFK   9.858841     695 John F Kennedy Intl                 40.63975\n",
       "26  MAF   9.832152    2306 Midland International               31.94253\n",
       "27  SEA   9.651707    2615 Seattle-Tacoma Intl                 47.44898\n",
       "28  PHL   9.265551    2367 Philadelphia Intl                   39.87195\n",
       "29  ELP   9.167110    3036 El Paso International               31.80667\n",
       "30  LEX   9.019097     584 Blue Grass                          38.03697\n",
       "... ...  ...          ...  ...                                 ...     \n",
       "87  IAD    5.71106557 1980 Washington Dulles International     38.94453\n",
       "88  LRD    5.48623064 1188 Laredo International                27.54374\n",
       "89  GJT    5.05750000  403 Walker                              39.12241\n",
       "90  TPA    4.88037810 3085 Tampa International                 27.97547\n",
       "91  SMF    4.66271019 1014 Sacramento International            38.69542\n",
       "92  PIT    4.39563107 1664 Pittsburgh International            40.49147\n",
       "93  AGS    4.00000000    1 Bush                                33.36995\n",
       "94  CMH    3.88226415 1348 Port Columbus Intl                  39.99799\n",
       "95  BWI    3.86316627 2551 Baltimore-Washington International  39.17540\n",
       "96  MDW    3.81268151 2094 Chicago Midway                      41.78598\n",
       "97  LAS    3.77788722 4082 McCarran International              36.08036\n",
       "98  SAN    3.54698217 2936 San Diego International-Lindbergh   32.73356\n",
       "99  LCH    3.07670455  364 Lake Charles Regional               30.12610\n",
       "100 DTW    2.98826750 2601 Detroit Metropolitan-Wayne County   42.21206\n",
       "101 ONT    2.68037975  952 Ontario International               34.05600\n",
       "102 DCA    2.55844646 2699 Ronald Reagan Washington National   38.85208\n",
       "103 RNO    2.27572016  243 Reno/Tahoe International            39.49858\n",
       "104 PHX    2.16590864 5096 Phoenix Sky Harbor International    33.43417\n",
       "105 HOB    1.52881356  309 Lea County Regional                 32.68753\n",
       "106 MLU    1.19097222  292 Monroe Regional                     32.51087\n",
       "107 SLC    1.10484669 2033 Salt Lake City Intl                 40.78839\n",
       "108 CLE    1.04080675 2140 Cleveland-Hopkins Intl              41.41089\n",
       "109 SJC    0.73725934  885 San Jose International              37.36186\n",
       "110 MIA    0.64936135 2463 Miami International                 25.79325\n",
       "111 SNA    0.35800971 1661 John Wayne /Orange Co               33.67566\n",
       "112 HDN    0.08653846  110 Yampa Valley                        40.48118\n",
       "113 MTJ   -0.45061728  164 Montrose Regional                   38.50887\n",
       "114 GRK   -8.30000000   42 Robert Gray AAF                     31.06490\n",
       "115 BFL  -13.19880716  504 Meadows                             35.43360\n",
       "116 BKG  -16.23364486  110 NA                                        NA\n",
       "    long      \n",
       "1   -149.99619\n",
       "2    -91.71087\n",
       "3    -93.66068\n",
       "4   -122.37484\n",
       "5    -94.02069\n",
       "6    -85.52277\n",
       "7    -84.21937\n",
       "8    -86.52540\n",
       "9           NA\n",
       "10   -81.20214\n",
       "11   -77.31967\n",
       "12  -106.91770\n",
       "13   -66.00183\n",
       "14   -83.99286\n",
       "15  -104.70025\n",
       "16  -157.92241\n",
       "17   -73.87261\n",
       "18   -81.68786\n",
       "19   -80.04051\n",
       "20   -94.71391\n",
       "21   -87.89658\n",
       "22   -87.90446\n",
       "23   -82.54181\n",
       "24   -86.77311\n",
       "25   -73.77893\n",
       "26  -102.20191\n",
       "27  -122.30931\n",
       "28   -75.24114\n",
       "29  -106.37781\n",
       "30   -84.60539\n",
       "... ...       \n",
       "87   -77.45581\n",
       "88   -99.46154\n",
       "89  -108.52673\n",
       "90   -82.53325\n",
       "91  -121.59077\n",
       "92   -80.23287\n",
       "93   -81.96450\n",
       "94   -82.89188\n",
       "95   -76.66820\n",
       "96   -87.75242\n",
       "97  -115.15233\n",
       "98  -117.18966\n",
       "99   -93.22340\n",
       "100  -83.34884\n",
       "101 -117.60119\n",
       "102  -77.03772\n",
       "103 -119.76806\n",
       "104 -112.00806\n",
       "105 -103.21703\n",
       "106  -92.03769\n",
       "107 -111.97777\n",
       "108  -81.84940\n",
       "109 -121.92901\n",
       "110  -80.29056\n",
       "111 -117.86822\n",
       "112 -107.21766\n",
       "113 -107.89383\n",
       "114  -97.82780\n",
       "115 -119.05677\n",
       "116         NA"
      ]
     },
     "metadata": {},
     "output_type": "display_data"
    }
   ],
   "source": [
    "delay %>% left_join(location)"
   ]
  },
  {
   "cell_type": "code",
   "execution_count": 34,
   "metadata": {
    "collapsed": false
   },
   "outputs": [
    {
     "data": {
      "text/html": [
       "<table>\n",
       "<thead><tr><th scope=col>date</th><th scope=col>hour</th><th scope=col>delay</th><th scope=col>n</th></tr></thead>\n",
       "<tbody>\n",
       "\t<tr><td>2011-01-01</td><td>0         </td><td> 2.000000 </td><td> 1        </td></tr>\n",
       "\t<tr><td>2011-01-01</td><td>5         </td><td>-1.750000 </td><td> 4        </td></tr>\n",
       "\t<tr><td>2011-01-01</td><td>6         </td><td>-1.857143 </td><td> 7        </td></tr>\n",
       "\t<tr><td>2011-01-01</td><td>7         </td><td> 5.233333 </td><td>30        </td></tr>\n",
       "\t<tr><td>2011-01-01</td><td>8         </td><td> 4.222222 </td><td>18        </td></tr>\n",
       "\t<tr><td>2011-01-01</td><td>9         </td><td> 4.103448 </td><td>29        </td></tr>\n",
       "</tbody>\n",
       "</table>\n"
      ],
      "text/latex": [
       "\\begin{tabular}{r|llll}\n",
       " date & hour & delay & n\\\\\n",
       "\\hline\n",
       "\t 2011-01-01 & 0          &  2.000000  &  1        \\\\\n",
       "\t 2011-01-01 & 5          & -1.750000  &  4        \\\\\n",
       "\t 2011-01-01 & 6          & -1.857143  &  7        \\\\\n",
       "\t 2011-01-01 & 7          &  5.233333  & 30        \\\\\n",
       "\t 2011-01-01 & 8          &  4.222222  & 18        \\\\\n",
       "\t 2011-01-01 & 9          &  4.103448  & 29        \\\\\n",
       "\\end{tabular}\n"
      ],
      "text/markdown": [
       "\n",
       "date | hour | delay | n | \n",
       "|---|---|---|---|---|---|\n",
       "| 2011-01-01 | 0          |  2.000000  |  1         | \n",
       "| 2011-01-01 | 5          | -1.750000  |  4         | \n",
       "| 2011-01-01 | 6          | -1.857143  |  7         | \n",
       "| 2011-01-01 | 7          |  5.233333  | 30         | \n",
       "| 2011-01-01 | 8          |  4.222222  | 18         | \n",
       "| 2011-01-01 | 9          |  4.103448  | 29         | \n",
       "\n",
       "\n"
      ],
      "text/plain": [
       "  date       hour delay     n \n",
       "1 2011-01-01 0     2.000000  1\n",
       "2 2011-01-01 5    -1.750000  4\n",
       "3 2011-01-01 6    -1.857143  7\n",
       "4 2011-01-01 7     5.233333 30\n",
       "5 2011-01-01 8     4.222222 18\n",
       "6 2011-01-01 9     4.103448 29"
      ]
     },
     "metadata": {},
     "output_type": "display_data"
    }
   ],
   "source": [
    "houry_delay <- flights %>% group_by(date, hour) %>% summarise(delay=mean(dep_delay, na.rm=T), n=n())\n",
    "head(houry_delay)"
   ]
  },
  {
   "cell_type": "code",
   "execution_count": 35,
   "metadata": {
    "collapsed": false
   },
   "outputs": [
    {
     "data": {
      "text/html": [
       "<table>\n",
       "<thead><tr><th scope=col>date</th><th scope=col>hour</th><th scope=col>temp</th><th scope=col>dew_point</th><th scope=col>humidity</th><th scope=col>pressure</th><th scope=col>visibility</th><th scope=col>wind_dir</th><th scope=col>wind_dir2</th><th scope=col>wind_speed</th><th scope=col>gust_speed</th><th scope=col>precip</th><th scope=col>conditions</th><th scope=col>events</th></tr></thead>\n",
       "<tbody>\n",
       "\t<tr><td>2011-01-01   </td><td>0            </td><td>59.0         </td><td>28.9         </td><td>32           </td><td>29.86        </td><td>10           </td><td>NNE          </td><td> 20          </td><td>13.8         </td><td>  NA         </td><td>NA           </td><td>Mostly Cloudy</td><td>NA           </td></tr>\n",
       "\t<tr><td>2011-01-01   </td><td>1            </td><td>57.2         </td><td>28.4         </td><td>33           </td><td>29.88        </td><td>10           </td><td>NNE          </td><td> 20          </td><td>11.5         </td><td>  NA         </td><td>NA           </td><td>Mostly Cloudy</td><td>NA           </td></tr>\n",
       "\t<tr><td>2011-01-01   </td><td>2            </td><td>55.4         </td><td>28.4         </td><td>36           </td><td>29.93        </td><td>10           </td><td>NNW          </td><td>340          </td><td>12.7         </td><td>  NA         </td><td>NA           </td><td>Overcast     </td><td>NA           </td></tr>\n",
       "\t<tr><td>2011-01-01   </td><td>3            </td><td>53.6         </td><td>28.4         </td><td>38           </td><td>29.94        </td><td>10           </td><td>North        </td><td>350          </td><td>16.1         </td><td>  NA         </td><td>NA           </td><td>Overcast     </td><td>NA           </td></tr>\n",
       "\t<tr><td>2011-01-01   </td><td>4            </td><td>  NA         </td><td>  NA         </td><td>NA           </td><td>29.99        </td><td>10           </td><td>NNW          </td><td>340          </td><td>18.4         </td><td>25.3         </td><td>NA           </td><td>Unknown      </td><td>NA           </td></tr>\n",
       "\t<tr><td>2011-01-01   </td><td>5            </td><td>  NA         </td><td>  NA         </td><td>NA           </td><td>30.02        </td><td>10           </td><td>North        </td><td>350          </td><td>17.3         </td><td>23.0         </td><td>NA           </td><td>Mostly Cloudy</td><td>NA           </td></tr>\n",
       "</tbody>\n",
       "</table>\n"
      ],
      "text/latex": [
       "\\begin{tabular}{r|llllllllllllll}\n",
       " date & hour & temp & dew\\_point & humidity & pressure & visibility & wind\\_dir & wind\\_dir2 & wind\\_speed & gust\\_speed & precip & conditions & events\\\\\n",
       "\\hline\n",
       "\t 2011-01-01    & 0             & 59.0          & 28.9          & 32            & 29.86         & 10            & NNE           &  20           & 13.8          &   NA          & NA            & Mostly Cloudy & NA           \\\\\n",
       "\t 2011-01-01    & 1             & 57.2          & 28.4          & 33            & 29.88         & 10            & NNE           &  20           & 11.5          &   NA          & NA            & Mostly Cloudy & NA           \\\\\n",
       "\t 2011-01-01    & 2             & 55.4          & 28.4          & 36            & 29.93         & 10            & NNW           & 340           & 12.7          &   NA          & NA            & Overcast      & NA           \\\\\n",
       "\t 2011-01-01    & 3             & 53.6          & 28.4          & 38            & 29.94         & 10            & North         & 350           & 16.1          &   NA          & NA            & Overcast      & NA           \\\\\n",
       "\t 2011-01-01    & 4             &   NA          &   NA          & NA            & 29.99         & 10            & NNW           & 340           & 18.4          & 25.3          & NA            & Unknown       & NA           \\\\\n",
       "\t 2011-01-01    & 5             &   NA          &   NA          & NA            & 30.02         & 10            & North         & 350           & 17.3          & 23.0          & NA            & Mostly Cloudy & NA           \\\\\n",
       "\\end{tabular}\n"
      ],
      "text/markdown": [
       "\n",
       "date | hour | temp | dew_point | humidity | pressure | visibility | wind_dir | wind_dir2 | wind_speed | gust_speed | precip | conditions | events | \n",
       "|---|---|---|---|---|---|\n",
       "| 2011-01-01    | 0             | 59.0          | 28.9          | 32            | 29.86         | 10            | NNE           |  20           | 13.8          |   NA          | NA            | Mostly Cloudy | NA            | \n",
       "| 2011-01-01    | 1             | 57.2          | 28.4          | 33            | 29.88         | 10            | NNE           |  20           | 11.5          |   NA          | NA            | Mostly Cloudy | NA            | \n",
       "| 2011-01-01    | 2             | 55.4          | 28.4          | 36            | 29.93         | 10            | NNW           | 340           | 12.7          |   NA          | NA            | Overcast      | NA            | \n",
       "| 2011-01-01    | 3             | 53.6          | 28.4          | 38            | 29.94         | 10            | North         | 350           | 16.1          |   NA          | NA            | Overcast      | NA            | \n",
       "| 2011-01-01    | 4             |   NA          |   NA          | NA            | 29.99         | 10            | NNW           | 340           | 18.4          | 25.3          | NA            | Unknown       | NA            | \n",
       "| 2011-01-01    | 5             |   NA          |   NA          | NA            | 30.02         | 10            | North         | 350           | 17.3          | 23.0          | NA            | Mostly Cloudy | NA            | \n",
       "\n",
       "\n"
      ],
      "text/plain": [
       "  date       hour temp dew_point humidity pressure visibility wind_dir\n",
       "1 2011-01-01 0    59.0 28.9      32       29.86    10         NNE     \n",
       "2 2011-01-01 1    57.2 28.4      33       29.88    10         NNE     \n",
       "3 2011-01-01 2    55.4 28.4      36       29.93    10         NNW     \n",
       "4 2011-01-01 3    53.6 28.4      38       29.94    10         North   \n",
       "5 2011-01-01 4      NA   NA      NA       29.99    10         NNW     \n",
       "6 2011-01-01 5      NA   NA      NA       30.02    10         North   \n",
       "  wind_dir2 wind_speed gust_speed precip conditions    events\n",
       "1  20       13.8         NA       NA     Mostly Cloudy NA    \n",
       "2  20       11.5         NA       NA     Mostly Cloudy NA    \n",
       "3 340       12.7         NA       NA     Overcast      NA    \n",
       "4 350       16.1         NA       NA     Overcast      NA    \n",
       "5 340       18.4       25.3       NA     Unknown       NA    \n",
       "6 350       17.3       23.0       NA     Mostly Cloudy NA    "
      ]
     },
     "metadata": {},
     "output_type": "display_data"
    }
   ],
   "source": [
    "tail(weather)"
   ]
  },
  {
   "cell_type": "code",
   "execution_count": 37,
   "metadata": {
    "collapsed": false
   },
   "outputs": [
    {
     "name": "stderr",
     "output_type": "stream",
     "text": [
      "Joining, by = c(\"date\", \"hour\")\n"
     ]
    },
    {
     "data": {
      "text/html": [
       "<table>\n",
       "<thead><tr><th scope=col>date</th><th scope=col>hour</th><th scope=col>delay</th><th scope=col>n</th><th scope=col>temp</th><th scope=col>dew_point</th><th scope=col>humidity</th><th scope=col>pressure</th><th scope=col>visibility</th><th scope=col>wind_dir</th><th scope=col>wind_dir2</th><th scope=col>wind_speed</th><th scope=col>gust_speed</th><th scope=col>precip</th><th scope=col>conditions</th><th scope=col>events</th></tr></thead>\n",
       "<tbody>\n",
       "\t<tr><td>2011-01-01      </td><td>0               </td><td> 2.000000       </td><td> 1              </td><td>59.0            </td><td>28.9            </td><td>32              </td><td>29.86           </td><td>10              </td><td>NNE             </td><td> 20             </td><td>13.8            </td><td>NA              </td><td>NA              </td><td>Mostly Cloudy   </td><td>NA              </td></tr>\n",
       "\t<tr><td>2011-01-01      </td><td>5               </td><td>-1.750000       </td><td> 4              </td><td>  NA            </td><td>  NA            </td><td>NA              </td><td>30.02           </td><td>10              </td><td>North           </td><td>350             </td><td>17.3            </td><td>23              </td><td>NA              </td><td>Mostly Cloudy   </td><td>NA              </td></tr>\n",
       "\t<tr><td>2011-01-01      </td><td>6               </td><td>-1.857143       </td><td> 7              </td><td>53.1            </td><td>17.1            </td><td>24              </td><td>30.05           </td><td>10              </td><td>North           </td><td>360             </td><td>12.7            </td><td>NA              </td><td>NA              </td><td>Mostly Cloudy   </td><td>NA              </td></tr>\n",
       "\t<tr><td>2011-01-01      </td><td>7               </td><td> 5.233333       </td><td>30              </td><td>53.1            </td><td>16.0            </td><td>23              </td><td>30.07           </td><td>10              </td><td>North           </td><td> 10             </td><td>12.7            </td><td>NA              </td><td>NA              </td><td>Scattered Clouds</td><td>NA              </td></tr>\n",
       "\t<tr><td>2011-01-01      </td><td>8               </td><td> 4.222222       </td><td>18              </td><td>54.0            </td><td>18.0            </td><td>24              </td><td>30.09           </td><td>10              </td><td>North           </td><td> 10             </td><td>13.8            </td><td>NA              </td><td>NA              </td><td>Mostly Cloudy   </td><td>NA              </td></tr>\n",
       "\t<tr><td>2011-01-01      </td><td>9               </td><td> 4.103448       </td><td>29              </td><td>55.4            </td><td>17.6            </td><td>23              </td><td>30.09           </td><td>10              </td><td>NNE             </td><td> 20             </td><td>17.3            </td><td>23              </td><td>NA              </td><td>Scattered Clouds</td><td>NA              </td></tr>\n",
       "</tbody>\n",
       "</table>\n"
      ],
      "text/latex": [
       "\\begin{tabular}{r|llllllllllllllll}\n",
       " date & hour & delay & n & temp & dew\\_point & humidity & pressure & visibility & wind\\_dir & wind\\_dir2 & wind\\_speed & gust\\_speed & precip & conditions & events\\\\\n",
       "\\hline\n",
       "\t 2011-01-01       & 0                &  2.000000        &  1               & 59.0             & 28.9             & 32               & 29.86            & 10               & NNE              &  20              & 13.8             & NA               & NA               & Mostly Cloudy    & NA              \\\\\n",
       "\t 2011-01-01       & 5                & -1.750000        &  4               &   NA             &   NA             & NA               & 30.02            & 10               & North            & 350              & 17.3             & 23               & NA               & Mostly Cloudy    & NA              \\\\\n",
       "\t 2011-01-01       & 6                & -1.857143        &  7               & 53.1             & 17.1             & 24               & 30.05            & 10               & North            & 360              & 12.7             & NA               & NA               & Mostly Cloudy    & NA              \\\\\n",
       "\t 2011-01-01       & 7                &  5.233333        & 30               & 53.1             & 16.0             & 23               & 30.07            & 10               & North            &  10              & 12.7             & NA               & NA               & Scattered Clouds & NA              \\\\\n",
       "\t 2011-01-01       & 8                &  4.222222        & 18               & 54.0             & 18.0             & 24               & 30.09            & 10               & North            &  10              & 13.8             & NA               & NA               & Mostly Cloudy    & NA              \\\\\n",
       "\t 2011-01-01       & 9                &  4.103448        & 29               & 55.4             & 17.6             & 23               & 30.09            & 10               & NNE              &  20              & 17.3             & 23               & NA               & Scattered Clouds & NA              \\\\\n",
       "\\end{tabular}\n"
      ],
      "text/markdown": [
       "\n",
       "date | hour | delay | n | temp | dew_point | humidity | pressure | visibility | wind_dir | wind_dir2 | wind_speed | gust_speed | precip | conditions | events | \n",
       "|---|---|---|---|---|---|\n",
       "| 2011-01-01       | 0                |  2.000000        |  1               | 59.0             | 28.9             | 32               | 29.86            | 10               | NNE              |  20              | 13.8             | NA               | NA               | Mostly Cloudy    | NA               | \n",
       "| 2011-01-01       | 5                | -1.750000        |  4               |   NA             |   NA             | NA               | 30.02            | 10               | North            | 350              | 17.3             | 23               | NA               | Mostly Cloudy    | NA               | \n",
       "| 2011-01-01       | 6                | -1.857143        |  7               | 53.1             | 17.1             | 24               | 30.05            | 10               | North            | 360              | 12.7             | NA               | NA               | Mostly Cloudy    | NA               | \n",
       "| 2011-01-01       | 7                |  5.233333        | 30               | 53.1             | 16.0             | 23               | 30.07            | 10               | North            |  10              | 12.7             | NA               | NA               | Scattered Clouds | NA               | \n",
       "| 2011-01-01       | 8                |  4.222222        | 18               | 54.0             | 18.0             | 24               | 30.09            | 10               | North            |  10              | 13.8             | NA               | NA               | Mostly Cloudy    | NA               | \n",
       "| 2011-01-01       | 9                |  4.103448        | 29               | 55.4             | 17.6             | 23               | 30.09            | 10               | NNE              |  20              | 17.3             | 23               | NA               | Scattered Clouds | NA               | \n",
       "\n",
       "\n"
      ],
      "text/plain": [
       "  date       hour delay     n  temp dew_point humidity pressure visibility\n",
       "1 2011-01-01 0     2.000000  1 59.0 28.9      32       29.86    10        \n",
       "2 2011-01-01 5    -1.750000  4   NA   NA      NA       30.02    10        \n",
       "3 2011-01-01 6    -1.857143  7 53.1 17.1      24       30.05    10        \n",
       "4 2011-01-01 7     5.233333 30 53.1 16.0      23       30.07    10        \n",
       "5 2011-01-01 8     4.222222 18 54.0 18.0      24       30.09    10        \n",
       "6 2011-01-01 9     4.103448 29 55.4 17.6      23       30.09    10        \n",
       "  wind_dir wind_dir2 wind_speed gust_speed precip conditions       events\n",
       "1 NNE       20       13.8       NA         NA     Mostly Cloudy    NA    \n",
       "2 North    350       17.3       23         NA     Mostly Cloudy    NA    \n",
       "3 North    360       12.7       NA         NA     Mostly Cloudy    NA    \n",
       "4 North     10       12.7       NA         NA     Scattered Clouds NA    \n",
       "5 North     10       13.8       NA         NA     Mostly Cloudy    NA    \n",
       "6 NNE       20       17.3       23         NA     Scattered Clouds NA    "
      ]
     },
     "metadata": {},
     "output_type": "display_data"
    }
   ],
   "source": [
    "delay_weather <- houry_delays %>% left_join(weather)\n",
    "head(delay_weather)"
   ]
  },
  {
   "cell_type": "code",
   "execution_count": 39,
   "metadata": {
    "collapsed": false
   },
   "outputs": [
    {
     "name": "stderr",
     "output_type": "stream",
     "text": [
      "Warning message:\n",
      "\"Removed 358 rows containing missing values (geom_point).\""
     ]
    },
    {
     "data": {},
     "metadata": {},
     "output_type": "display_data"
    },
    {
     "data": {
      "image/png": "[encoded data removed]",
      "text/plain": [
       "plot without title"
      ]
     },
     "metadata": {},
     "output_type": "display_data"
    }
   ],
   "source": [
    "qplot(temp, delay, data = delay_weather)"
   ]
  },
  {
   "cell_type": "code",
   "execution_count": 41,
   "metadata": {
    "collapsed": false
   },
   "outputs": [
    {
     "name": "stderr",
     "output_type": "stream",
     "text": [
      "Warning message:\n",
      "\"Removed 1049 rows containing missing values (geom_point).\""
     ]
    },
    {
     "data": {},
     "metadata": {},
     "output_type": "display_data"
    },
    {
     "data": {
      "image/png": "[encoded data removed]",
      "text/plain": [
       "plot without title"
      ]
     },
     "metadata": {},
     "output_type": "display_data"
    }
   ],
   "source": [
    "qplot(wind_speed, delay, data = delay_weather)"
   ]
  },
  {
   "cell_type": "code",
   "execution_count": 160,
   "metadata": {
    "collapsed": false
   },
   "outputs": [
    {
     "data": {
      "text/html": [
       "<table>\n",
       "<thead><tr><th scope=col>City</th><th scope=col>OtherName</th><th scope=col>Country</th><th scope=col>lat</th><th scope=col>long</th><th scope=col>Certainty</th><th scope=col>year</th><th scope=col>pop</th></tr></thead>\n",
       "<tbody>\n",
       "\t<tr><td>Eridu       </td><td>            </td><td>Iraq        </td><td>30.815837900</td><td>45.99607    </td><td>1           </td><td>-3700       </td><td> 6000       </td></tr>\n",
       "\t<tr><td>Eridu       </td><td>            </td><td>Iraq        </td><td>30.815837900</td><td>45.99607    </td><td>1           </td><td>-3500       </td><td>10000       </td></tr>\n",
       "\t<tr><td>Larak       </td><td>Kesh        </td><td>Iraq        </td><td>32.312737510</td><td>45.66100    </td><td>1           </td><td>-3500       </td><td>10000       </td></tr>\n",
       "\t<tr><td>Uruk        </td><td>Erech       </td><td>Iraq        </td><td>31.322222000</td><td>45.63611    </td><td>1           </td><td>-3500       </td><td>14000       </td></tr>\n",
       "\t<tr><td>Anshan      </td><td>            </td><td>Iran        </td><td>30.012019580</td><td>52.40858    </td><td>1           </td><td>-3300       </td><td>10000       </td></tr>\n",
       "\t<tr><td>Eridu       </td><td>            </td><td>Iraq        </td><td>30.815837900</td><td>45.99607    </td><td>1           </td><td>-3300       </td><td>10000       </td></tr>\n",
       "</tbody>\n",
       "</table>\n"
      ],
      "text/latex": [
       "\\begin{tabular}{r|llllllll}\n",
       " City & OtherName & Country & lat & long & Certainty & year & pop\\\\\n",
       "\\hline\n",
       "\t Eridu        &              & Iraq         & 30.815837900 & 45.99607     & 1            & -3700        &  6000       \\\\\n",
       "\t Eridu        &              & Iraq         & 30.815837900 & 45.99607     & 1            & -3500        & 10000       \\\\\n",
       "\t Larak        & Kesh         & Iraq         & 32.312737510 & 45.66100     & 1            & -3500        & 10000       \\\\\n",
       "\t Uruk         & Erech        & Iraq         & 31.322222000 & 45.63611     & 1            & -3500        & 14000       \\\\\n",
       "\t Anshan       &              & Iran         & 30.012019580 & 52.40858     & 1            & -3300        & 10000       \\\\\n",
       "\t Eridu        &              & Iraq         & 30.815837900 & 45.99607     & 1            & -3300        & 10000       \\\\\n",
       "\\end{tabular}\n"
      ],
      "text/markdown": [
       "\n",
       "City | OtherName | Country | lat | long | Certainty | year | pop | \n",
       "|---|---|---|---|---|---|\n",
       "| Eridu        |              | Iraq         | 30.815837900 | 45.99607     | 1            | -3700        |  6000        | \n",
       "| Eridu        |              | Iraq         | 30.815837900 | 45.99607     | 1            | -3500        | 10000        | \n",
       "| Larak        | Kesh         | Iraq         | 32.312737510 | 45.66100     | 1            | -3500        | 10000        | \n",
       "| Uruk         | Erech        | Iraq         | 31.322222000 | 45.63611     | 1            | -3500        | 14000        | \n",
       "| Anshan       |              | Iran         | 30.012019580 | 52.40858     | 1            | -3300        | 10000        | \n",
       "| Eridu        |              | Iraq         | 30.815837900 | 45.99607     | 1            | -3300        | 10000        | \n",
       "\n",
       "\n"
      ],
      "text/plain": [
       "  City   OtherName Country lat          long     Certainty year  pop  \n",
       "1 Eridu            Iraq    30.815837900 45.99607 1         -3700  6000\n",
       "2 Eridu            Iraq    30.815837900 45.99607 1         -3500 10000\n",
       "3 Larak  Kesh      Iraq    32.312737510 45.66100 1         -3500 10000\n",
       "4 Uruk   Erech     Iraq    31.322222000 45.63611 1         -3500 14000\n",
       "5 Anshan           Iran    30.012019580 52.40858 1         -3300 10000\n",
       "6 Eridu            Iraq    30.815837900 45.99607 1         -3300 10000"
      ]
     },
     "metadata": {},
     "output_type": "display_data"
    },
    {
     "data": {
      "text/html": [
       "<table>\n",
       "<thead><tr><th scope=col>Continent</th><th scope=col>Country</th></tr></thead>\n",
       "<tbody>\n",
       "\t<tr><td>Africa  </td><td>Algeria </td></tr>\n",
       "\t<tr><td>Africa  </td><td>Angola  </td></tr>\n",
       "\t<tr><td>Africa  </td><td>Benin   </td></tr>\n",
       "\t<tr><td>Africa  </td><td>Botswana</td></tr>\n",
       "\t<tr><td>Africa  </td><td>Burkina </td></tr>\n",
       "\t<tr><td>Africa  </td><td>Burundi </td></tr>\n",
       "</tbody>\n",
       "</table>\n"
      ],
      "text/latex": [
       "\\begin{tabular}{r|ll}\n",
       " Continent & Country\\\\\n",
       "\\hline\n",
       "\t Africa   & Algeria \\\\\n",
       "\t Africa   & Angola  \\\\\n",
       "\t Africa   & Benin   \\\\\n",
       "\t Africa   & Botswana\\\\\n",
       "\t Africa   & Burkina \\\\\n",
       "\t Africa   & Burundi \\\\\n",
       "\\end{tabular}\n"
      ],
      "text/markdown": [
       "\n",
       "Continent | Country | \n",
       "|---|---|---|---|---|---|\n",
       "| Africa   | Algeria  | \n",
       "| Africa   | Angola   | \n",
       "| Africa   | Benin    | \n",
       "| Africa   | Botswana | \n",
       "| Africa   | Burkina  | \n",
       "| Africa   | Burundi  | \n",
       "\n",
       "\n"
      ],
      "text/plain": [
       "  Continent Country \n",
       "1 Africa    Algeria \n",
       "2 Africa    Angola  \n",
       "3 Africa    Benin   \n",
       "4 Africa    Botswana\n",
       "5 Africa    Burkina \n",
       "6 Africa    Burundi "
      ]
     },
     "metadata": {},
     "output_type": "display_data"
    }
   ],
   "source": [
    "# https://www.r-bloggers.com/mapping-5000-years-of-city-growth/\n",
    "historyPop <- read.csv('C:/Users/Personal/Data-Science-Students/Tables/historyPop.csv', sep = ',', header = T)\n",
    "countryContinent <- read.csv('C:/Users/Personal/Data-Science-Students/Tables/Countries-Continents.csv', \n",
    "                             sep = ',', header = T)\n",
    "historyPop <- historyPop %>% rename(lat = Latitude, long = Longitude)\n",
    "countryContinent <- countryContinent %>% select(Continent, Country)\n",
    "\n",
    "head(historyPop)\n",
    "head(countryContinent)"
   ]
  },
  {
   "cell_type": "code",
   "execution_count": 153,
   "metadata": {
    "collapsed": false,
    "scrolled": false
   },
   "outputs": [
    {
     "data": {},
     "metadata": {},
     "output_type": "display_data"
    },
    {
     "data": {
      "text/html": [
       "<table>\n",
       "<thead><tr><th scope=col>Country</th><th scope=col>total.pop</th><th scope=col>n</th></tr></thead>\n",
       "<tbody>\n",
       "\t<tr><td>Afghanistan</td><td>4549500    </td><td>57         </td></tr>\n",
       "\t<tr><td>Albania    </td><td> 156975    </td><td> 7         </td></tr>\n",
       "\t<tr><td>Algeria    </td><td>6844716    </td><td>45         </td></tr>\n",
       "\t<tr><td>Algiers    </td><td>5574716    </td><td>19         </td></tr>\n",
       "\t<tr><td>Angola     </td><td> 772000    </td><td> 7         </td></tr>\n",
       "\t<tr><td>Aremenia   </td><td>1249000    </td><td> 1         </td></tr>\n",
       "</tbody>\n",
       "</table>\n"
      ],
      "text/latex": [
       "\\begin{tabular}{r|lll}\n",
       " Country & total.pop & n\\\\\n",
       "\\hline\n",
       "\t Afghanistan & 4549500     & 57         \\\\\n",
       "\t Albania     &  156975     &  7         \\\\\n",
       "\t Algeria     & 6844716     & 45         \\\\\n",
       "\t Algiers     & 5574716     & 19         \\\\\n",
       "\t Angola      &  772000     &  7         \\\\\n",
       "\t Aremenia    & 1249000     &  1         \\\\\n",
       "\\end{tabular}\n"
      ],
      "text/markdown": [
       "\n",
       "Country | total.pop | n | \n",
       "|---|---|---|---|---|---|\n",
       "| Afghanistan | 4549500     | 57          | \n",
       "| Albania     |  156975     |  7          | \n",
       "| Algeria     | 6844716     | 45          | \n",
       "| Algiers     | 5574716     | 19          | \n",
       "| Angola      |  772000     |  7          | \n",
       "| Aremenia    | 1249000     |  1          | \n",
       "\n",
       "\n"
      ],
      "text/plain": [
       "  Country     total.pop n \n",
       "1 Afghanistan 4549500   57\n",
       "2 Albania      156975    7\n",
       "3 Algeria     6844716   45\n",
       "4 Algiers     5574716   19\n",
       "5 Angola       772000    7\n",
       "6 Aremenia    1249000    1"
      ]
     },
     "metadata": {},
     "output_type": "display_data"
    },
    {
     "data": {
      "text/html": [
       "<ol class=list-inline>\n",
       "\t<li>148</li>\n",
       "\t<li>3</li>\n",
       "</ol>\n"
      ],
      "text/latex": [
       "\\begin{enumerate*}\n",
       "\\item 148\n",
       "\\item 3\n",
       "\\end{enumerate*}\n"
      ],
      "text/markdown": [
       "1. 148\n",
       "2. 3\n",
       "\n",
       "\n"
      ],
      "text/plain": [
       "[1] 148   3"
      ]
     },
     "metadata": {},
     "output_type": "display_data"
    },
    {
     "data": {
      "image/png": "[encoded data removed]",
      "text/plain": [
       "plot without title"
      ]
     },
     "metadata": {},
     "output_type": "display_data"
    }
   ],
   "source": [
    "qplot(year, pop, data = historyPop)\n",
    "\n",
    "pop.country <- historyPop %>% group_by(Country) %>% summarize(total.pop =sum(pop), n = n())\n",
    "head(pop.country)\n",
    "dim(pop.country)"
   ]
  },
  {
   "cell_type": "code",
   "execution_count": 140,
   "metadata": {
    "collapsed": false,
    "scrolled": false
   },
   "outputs": [
    {
     "data": {
      "text/html": [
       "<table>\n",
       "<thead><tr><th scope=col>long</th><th scope=col>lat</th><th scope=col>group</th><th scope=col>order</th><th scope=col>region</th><th scope=col>subregion</th></tr></thead>\n",
       "<tbody>\n",
       "\t<tr><td>-69.89912</td><td>12.45200 </td><td>1        </td><td>1        </td><td>Aruba    </td><td>NA       </td></tr>\n",
       "\t<tr><td>-69.89571</td><td>12.42300 </td><td>1        </td><td>2        </td><td>Aruba    </td><td>NA       </td></tr>\n",
       "\t<tr><td>-69.94219</td><td>12.43853 </td><td>1        </td><td>3        </td><td>Aruba    </td><td>NA       </td></tr>\n",
       "\t<tr><td>-70.00415</td><td>12.50049 </td><td>1        </td><td>4        </td><td>Aruba    </td><td>NA       </td></tr>\n",
       "\t<tr><td>-70.06612</td><td>12.54697 </td><td>1        </td><td>5        </td><td>Aruba    </td><td>NA       </td></tr>\n",
       "\t<tr><td>-70.05088</td><td>12.59707 </td><td>1        </td><td>6        </td><td>Aruba    </td><td>NA       </td></tr>\n",
       "</tbody>\n",
       "</table>\n"
      ],
      "text/latex": [
       "\\begin{tabular}{r|llllll}\n",
       " long & lat & group & order & region & subregion\\\\\n",
       "\\hline\n",
       "\t -69.89912 & 12.45200  & 1         & 1         & Aruba     & NA       \\\\\n",
       "\t -69.89571 & 12.42300  & 1         & 2         & Aruba     & NA       \\\\\n",
       "\t -69.94219 & 12.43853  & 1         & 3         & Aruba     & NA       \\\\\n",
       "\t -70.00415 & 12.50049  & 1         & 4         & Aruba     & NA       \\\\\n",
       "\t -70.06612 & 12.54697  & 1         & 5         & Aruba     & NA       \\\\\n",
       "\t -70.05088 & 12.59707  & 1         & 6         & Aruba     & NA       \\\\\n",
       "\\end{tabular}\n"
      ],
      "text/markdown": [
       "\n",
       "long | lat | group | order | region | subregion | \n",
       "|---|---|---|---|---|---|\n",
       "| -69.89912 | 12.45200  | 1         | 1         | Aruba     | NA        | \n",
       "| -69.89571 | 12.42300  | 1         | 2         | Aruba     | NA        | \n",
       "| -69.94219 | 12.43853  | 1         | 3         | Aruba     | NA        | \n",
       "| -70.00415 | 12.50049  | 1         | 4         | Aruba     | NA        | \n",
       "| -70.06612 | 12.54697  | 1         | 5         | Aruba     | NA        | \n",
       "| -70.05088 | 12.59707  | 1         | 6         | Aruba     | NA        | \n",
       "\n",
       "\n"
      ],
      "text/plain": [
       "  long      lat      group order region subregion\n",
       "1 -69.89912 12.45200 1     1     Aruba  NA       \n",
       "2 -69.89571 12.42300 1     2     Aruba  NA       \n",
       "3 -69.94219 12.43853 1     3     Aruba  NA       \n",
       "4 -70.00415 12.50049 1     4     Aruba  NA       \n",
       "5 -70.06612 12.54697 1     5     Aruba  NA       \n",
       "6 -70.05088 12.59707 1     6     Aruba  NA       "
      ]
     },
     "metadata": {},
     "output_type": "display_data"
    },
    {
     "data": {
      "text/html": [
       "190.270843505859"
      ],
      "text/latex": [
       "190.270843505859"
      ],
      "text/markdown": [
       "190.270843505859"
      ],
      "text/plain": [
       "[1] 190.2708"
      ]
     },
     "metadata": {},
     "output_type": "display_data"
    }
   ],
   "source": [
    "# http://web.stanford.edu/~imalone/VAM/ggmap.html\n",
    "library(ggmap)\n",
    "world <- map_data(\"world\")\n",
    "\n",
    "head(world)"
   ]
  },
  {
   "cell_type": "code",
   "execution_count": null,
   "metadata": {
    "collapsed": false
   },
   "outputs": [],
   "source": []
  }
 ],
 "metadata": {
  "anaconda-cloud": {},
  "kernelspec": {
   "display_name": "R 3.2",
   "language": "R",
   "name": "ir32"
  },
  "language_info": {
   "codemirror_mode": "r",
   "file_extension": ".r",
   "mimetype": "text/x-r-source",
   "name": "R",
   "pygments_lexer": "r",
   "version": "3.3.2"
  }
 },
 "nbformat": 4,
 "nbformat_minor": 1
}
