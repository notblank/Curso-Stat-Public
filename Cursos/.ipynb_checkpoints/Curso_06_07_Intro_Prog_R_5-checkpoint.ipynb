{
 "cells": [
  {
   "cell_type": "markdown",
   "metadata": {},
   "source": [
    "## Unir dos data.frames\n",
    "\n",
    "#### Bike sharing data\n",
    "\n",
    "http://www.bayareabikeshare.com/open-data"
   ]
  },
  {
   "cell_type": "code",
   "execution_count": 26,
   "metadata": {},
   "outputs": [
    {
     "name": "stderr",
     "output_type": "stream",
     "text": [
      "── \u001b[1mAttaching packages\u001b[22m ─────────────────────────────────────── tidyverse 1.3.0 ──\n",
      "\u001b[32m✔\u001b[39m \u001b[34mggplot2\u001b[39m 3.3.0     \u001b[32m✔\u001b[39m \u001b[34mpurrr  \u001b[39m 0.3.4\n",
      "\u001b[32m✔\u001b[39m \u001b[34mtibble \u001b[39m 2.1.3     \u001b[32m✔\u001b[39m \u001b[34mstringr\u001b[39m 1.4.0\n",
      "\u001b[32m✔\u001b[39m \u001b[34mreadr  \u001b[39m 1.3.1     \u001b[32m✔\u001b[39m \u001b[34mforcats\u001b[39m 0.4.0\n",
      "── \u001b[1mConflicts\u001b[22m ────────────────────────────────────────── tidyverse_conflicts() ──\n",
      "\u001b[31m✖\u001b[39m \u001b[34mdplyr\u001b[39m::\u001b[32mfilter()\u001b[39m masks \u001b[34mstats\u001b[39m::filter()\n",
      "\u001b[31m✖\u001b[39m \u001b[34mdplyr\u001b[39m::\u001b[32mlag()\u001b[39m    masks \u001b[34mstats\u001b[39m::lag()\n"
     ]
    }
   ],
   "source": [
    "library(tidyverse)"
   ]
  },
  {
   "cell_type": "code",
   "execution_count": 27,
   "metadata": {},
   "outputs": [
    {
     "data": {
      "text/html": [
       "<style>\n",
       ".list-inline {list-style: none; margin:0; padding: 0}\n",
       ".list-inline>li {display: inline-block}\n",
       ".list-inline>li:not(:last-child)::after {content: \"\\00b7\"; padding: 0 .5ex}\n",
       "</style>\n",
       "<ol class=list-inline><li>365</li><li>2</li></ol>\n"
      ],
      "text/latex": [
       "\\begin{enumerate*}\n",
       "\\item 365\n",
       "\\item 2\n",
       "\\end{enumerate*}\n"
      ],
      "text/markdown": [
       "1. 365\n",
       "2. 2\n",
       "\n",
       "\n"
      ],
      "text/plain": [
       "[1] 365   2"
      ]
     },
     "metadata": {},
     "output_type": "display_data"
    },
    {
     "data": {
      "text/html": [
       "<table>\n",
       "<caption>A tibble: 6 × 2</caption>\n",
       "<thead>\n",
       "\t<tr><th scope=col>Fecha</th><th scope=col>Viajes</th></tr>\n",
       "\t<tr><th scope=col>&lt;chr&gt;</th><th scope=col>&lt;int&gt;</th></tr>\n",
       "</thead>\n",
       "<tbody>\n",
       "\t<tr><td>1/1/2015 </td><td> 181</td></tr>\n",
       "\t<tr><td>1/10/2015</td><td> 362</td></tr>\n",
       "\t<tr><td>1/11/2015</td><td> 327</td></tr>\n",
       "\t<tr><td>1/12/2015</td><td>1344</td></tr>\n",
       "\t<tr><td>1/13/2015</td><td>1368</td></tr>\n",
       "\t<tr><td>1/14/2015</td><td>1296</td></tr>\n",
       "</tbody>\n",
       "</table>\n"
      ],
      "text/latex": [
       "A tibble: 6 × 2\n",
       "\\begin{tabular}{ll}\n",
       " Fecha & Viajes\\\\\n",
       " <chr> & <int>\\\\\n",
       "\\hline\n",
       "\t 1/1/2015  &  181\\\\\n",
       "\t 1/10/2015 &  362\\\\\n",
       "\t 1/11/2015 &  327\\\\\n",
       "\t 1/12/2015 & 1344\\\\\n",
       "\t 1/13/2015 & 1368\\\\\n",
       "\t 1/14/2015 & 1296\\\\\n",
       "\\end{tabular}\n"
      ],
      "text/markdown": [
       "\n",
       "A tibble: 6 × 2\n",
       "\n",
       "| Fecha &lt;chr&gt; | Viajes &lt;int&gt; |\n",
       "|---|---|\n",
       "| 1/1/2015  |  181 |\n",
       "| 1/10/2015 |  362 |\n",
       "| 1/11/2015 |  327 |\n",
       "| 1/12/2015 | 1344 |\n",
       "| 1/13/2015 | 1368 |\n",
       "| 1/14/2015 | 1296 |\n",
       "\n"
      ],
      "text/plain": [
       "  Fecha     Viajes\n",
       "1 1/1/2015   181  \n",
       "2 1/10/2015  362  \n",
       "3 1/11/2015  327  \n",
       "4 1/12/2015 1344  \n",
       "5 1/13/2015 1368  \n",
       "6 1/14/2015 1296  "
      ]
     },
     "metadata": {},
     "output_type": "display_data"
    }
   ],
   "source": [
    "trips <- read.csv('../tablas/bike data/201508_trip_data.csv', \n",
    "                  stringsAsFactors=FALSE)\n",
    "\n",
    "trips_bici <- trips %>% select(Start.Date) %>% \n",
    "                        rename(Fecha = Start.Date) %>% \n",
    "                        separate(Fecha, into = c(\"Fecha\", \"Hora\"), sep = \" \") %>%\n",
    "                        group_by(Fecha) %>% \n",
    "                        summarize(Viajes = n())\n",
    "\n",
    "dim(trips_bici)\n",
    "head(trips_bici)"
   ]
  },
  {
   "cell_type": "code",
   "execution_count": 16,
   "metadata": {},
   "outputs": [
    {
     "data": {
      "text/html": [
       "<table>\n",
       "<caption>A data.frame: 6 × 24</caption>\n",
       "<thead>\n",
       "\t<tr><th></th><th scope=col>PDT</th><th scope=col>Max.TemperatureF</th><th scope=col>Mean.TemperatureF</th><th scope=col>Min.TemperatureF</th><th scope=col>Max.Dew.PointF</th><th scope=col>MeanDew.PointF</th><th scope=col>Min.DewpointF</th><th scope=col>Max.Humidity</th><th scope=col>Mean.Humidity</th><th scope=col>Min.Humidity</th><th scope=col>⋯</th><th scope=col>Mean.VisibilityMiles</th><th scope=col>Min.VisibilityMiles</th><th scope=col>Max.Wind.SpeedMPH</th><th scope=col>Mean.Wind.SpeedMPH</th><th scope=col>Max.Gust.SpeedMPH</th><th scope=col>PrecipitationIn</th><th scope=col>CloudCover</th><th scope=col>Events</th><th scope=col>WindDirDegrees</th><th scope=col>Zip</th></tr>\n",
       "\t<tr><th></th><th scope=col>&lt;chr&gt;</th><th scope=col>&lt;int&gt;</th><th scope=col>&lt;int&gt;</th><th scope=col>&lt;int&gt;</th><th scope=col>&lt;int&gt;</th><th scope=col>&lt;int&gt;</th><th scope=col>&lt;int&gt;</th><th scope=col>&lt;int&gt;</th><th scope=col>&lt;int&gt;</th><th scope=col>&lt;int&gt;</th><th scope=col>⋯</th><th scope=col>&lt;int&gt;</th><th scope=col>&lt;int&gt;</th><th scope=col>&lt;int&gt;</th><th scope=col>&lt;int&gt;</th><th scope=col>&lt;int&gt;</th><th scope=col>&lt;chr&gt;</th><th scope=col>&lt;int&gt;</th><th scope=col>&lt;chr&gt;</th><th scope=col>&lt;int&gt;</th><th scope=col>&lt;int&gt;</th></tr>\n",
       "</thead>\n",
       "<tbody>\n",
       "\t<tr><th scope=row>1</th><td>9/1/2014</td><td>83</td><td>70</td><td>57</td><td>58</td><td>56</td><td>52</td><td>86</td><td>64</td><td>42</td><td>⋯</td><td>10</td><td> 8</td><td>16</td><td>7</td><td>20</td><td>0</td><td>0</td><td></td><td>290</td><td>94107</td></tr>\n",
       "\t<tr><th scope=row>2</th><td>9/2/2014</td><td>72</td><td>66</td><td>60</td><td>58</td><td>57</td><td>55</td><td>84</td><td>73</td><td>61</td><td>⋯</td><td>10</td><td> 7</td><td>21</td><td>8</td><td>NA</td><td>0</td><td>5</td><td></td><td>290</td><td>94107</td></tr>\n",
       "\t<tr><th scope=row>3</th><td>9/3/2014</td><td>76</td><td>69</td><td>61</td><td>57</td><td>56</td><td>55</td><td>84</td><td>69</td><td>53</td><td>⋯</td><td>10</td><td>10</td><td>21</td><td>8</td><td>24</td><td>0</td><td>4</td><td></td><td>276</td><td>94107</td></tr>\n",
       "\t<tr><th scope=row>4</th><td>9/4/2014</td><td>74</td><td>68</td><td>61</td><td>57</td><td>57</td><td>56</td><td>84</td><td>71</td><td>57</td><td>⋯</td><td>10</td><td> 8</td><td>22</td><td>8</td><td>25</td><td>0</td><td>5</td><td></td><td>301</td><td>94107</td></tr>\n",
       "\t<tr><th scope=row>5</th><td>9/5/2014</td><td>72</td><td>66</td><td>60</td><td>57</td><td>56</td><td>54</td><td>84</td><td>71</td><td>57</td><td>⋯</td><td> 9</td><td> 7</td><td>18</td><td>8</td><td>32</td><td>0</td><td>4</td><td></td><td>309</td><td>94107</td></tr>\n",
       "\t<tr><th scope=row>6</th><td>9/6/2014</td><td>72</td><td>66</td><td>60</td><td>55</td><td>54</td><td>52</td><td>84</td><td>69</td><td>53</td><td>⋯</td><td> 9</td><td> 7</td><td>17</td><td>9</td><td>30</td><td>0</td><td>4</td><td></td><td>290</td><td>94107</td></tr>\n",
       "</tbody>\n",
       "</table>\n"
      ],
      "text/latex": [
       "A data.frame: 6 × 24\n",
       "\\begin{tabular}{r|lllllllllllllllllllll}\n",
       "  & PDT & Max.TemperatureF & Mean.TemperatureF & Min.TemperatureF & Max.Dew.PointF & MeanDew.PointF & Min.DewpointF & Max.Humidity & Mean.Humidity & Min.Humidity & ⋯ & Mean.VisibilityMiles & Min.VisibilityMiles & Max.Wind.SpeedMPH & Mean.Wind.SpeedMPH & Max.Gust.SpeedMPH & PrecipitationIn & CloudCover & Events & WindDirDegrees & Zip\\\\\n",
       "  & <chr> & <int> & <int> & <int> & <int> & <int> & <int> & <int> & <int> & <int> & ⋯ & <int> & <int> & <int> & <int> & <int> & <chr> & <int> & <chr> & <int> & <int>\\\\\n",
       "\\hline\n",
       "\t1 & 9/1/2014 & 83 & 70 & 57 & 58 & 56 & 52 & 86 & 64 & 42 & ⋯ & 10 &  8 & 16 & 7 & 20 & 0 & 0 &  & 290 & 94107\\\\\n",
       "\t2 & 9/2/2014 & 72 & 66 & 60 & 58 & 57 & 55 & 84 & 73 & 61 & ⋯ & 10 &  7 & 21 & 8 & NA & 0 & 5 &  & 290 & 94107\\\\\n",
       "\t3 & 9/3/2014 & 76 & 69 & 61 & 57 & 56 & 55 & 84 & 69 & 53 & ⋯ & 10 & 10 & 21 & 8 & 24 & 0 & 4 &  & 276 & 94107\\\\\n",
       "\t4 & 9/4/2014 & 74 & 68 & 61 & 57 & 57 & 56 & 84 & 71 & 57 & ⋯ & 10 &  8 & 22 & 8 & 25 & 0 & 5 &  & 301 & 94107\\\\\n",
       "\t5 & 9/5/2014 & 72 & 66 & 60 & 57 & 56 & 54 & 84 & 71 & 57 & ⋯ &  9 &  7 & 18 & 8 & 32 & 0 & 4 &  & 309 & 94107\\\\\n",
       "\t6 & 9/6/2014 & 72 & 66 & 60 & 55 & 54 & 52 & 84 & 69 & 53 & ⋯ &  9 &  7 & 17 & 9 & 30 & 0 & 4 &  & 290 & 94107\\\\\n",
       "\\end{tabular}\n"
      ],
      "text/markdown": [
       "\n",
       "A data.frame: 6 × 24\n",
       "\n",
       "| <!--/--> | PDT &lt;chr&gt; | Max.TemperatureF &lt;int&gt; | Mean.TemperatureF &lt;int&gt; | Min.TemperatureF &lt;int&gt; | Max.Dew.PointF &lt;int&gt; | MeanDew.PointF &lt;int&gt; | Min.DewpointF &lt;int&gt; | Max.Humidity &lt;int&gt; | Mean.Humidity &lt;int&gt; | Min.Humidity &lt;int&gt; | ⋯ ⋯ | Mean.VisibilityMiles &lt;int&gt; | Min.VisibilityMiles &lt;int&gt; | Max.Wind.SpeedMPH &lt;int&gt; | Mean.Wind.SpeedMPH &lt;int&gt; | Max.Gust.SpeedMPH &lt;int&gt; | PrecipitationIn &lt;chr&gt; | CloudCover &lt;int&gt; | Events &lt;chr&gt; | WindDirDegrees &lt;int&gt; | Zip &lt;int&gt; |\n",
       "|---|---|---|---|---|---|---|---|---|---|---|---|---|---|---|---|---|---|---|---|---|---|\n",
       "| 1 | 9/1/2014 | 83 | 70 | 57 | 58 | 56 | 52 | 86 | 64 | 42 | ⋯ | 10 |  8 | 16 | 7 | 20 | 0 | 0 | <!----> | 290 | 94107 |\n",
       "| 2 | 9/2/2014 | 72 | 66 | 60 | 58 | 57 | 55 | 84 | 73 | 61 | ⋯ | 10 |  7 | 21 | 8 | NA | 0 | 5 | <!----> | 290 | 94107 |\n",
       "| 3 | 9/3/2014 | 76 | 69 | 61 | 57 | 56 | 55 | 84 | 69 | 53 | ⋯ | 10 | 10 | 21 | 8 | 24 | 0 | 4 | <!----> | 276 | 94107 |\n",
       "| 4 | 9/4/2014 | 74 | 68 | 61 | 57 | 57 | 56 | 84 | 71 | 57 | ⋯ | 10 |  8 | 22 | 8 | 25 | 0 | 5 | <!----> | 301 | 94107 |\n",
       "| 5 | 9/5/2014 | 72 | 66 | 60 | 57 | 56 | 54 | 84 | 71 | 57 | ⋯ |  9 |  7 | 18 | 8 | 32 | 0 | 4 | <!----> | 309 | 94107 |\n",
       "| 6 | 9/6/2014 | 72 | 66 | 60 | 55 | 54 | 52 | 84 | 69 | 53 | ⋯ |  9 |  7 | 17 | 9 | 30 | 0 | 4 | <!----> | 290 | 94107 |\n",
       "\n"
      ],
      "text/plain": [
       "  PDT      Max.TemperatureF Mean.TemperatureF Min.TemperatureF Max.Dew.PointF\n",
       "1 9/1/2014 83               70                57               58            \n",
       "2 9/2/2014 72               66                60               58            \n",
       "3 9/3/2014 76               69                61               57            \n",
       "4 9/4/2014 74               68                61               57            \n",
       "5 9/5/2014 72               66                60               57            \n",
       "6 9/6/2014 72               66                60               55            \n",
       "  MeanDew.PointF Min.DewpointF Max.Humidity Mean.Humidity Min.Humidity ⋯\n",
       "1 56             52            86           64            42           ⋯\n",
       "2 57             55            84           73            61           ⋯\n",
       "3 56             55            84           69            53           ⋯\n",
       "4 57             56            84           71            57           ⋯\n",
       "5 56             54            84           71            57           ⋯\n",
       "6 54             52            84           69            53           ⋯\n",
       "  Mean.VisibilityMiles Min.VisibilityMiles Max.Wind.SpeedMPH Mean.Wind.SpeedMPH\n",
       "1 10                    8                  16                7                 \n",
       "2 10                    7                  21                8                 \n",
       "3 10                   10                  21                8                 \n",
       "4 10                    8                  22                8                 \n",
       "5  9                    7                  18                8                 \n",
       "6  9                    7                  17                9                 \n",
       "  Max.Gust.SpeedMPH PrecipitationIn CloudCover Events WindDirDegrees Zip  \n",
       "1 20                0               0                 290            94107\n",
       "2 NA                0               5                 290            94107\n",
       "3 24                0               4                 276            94107\n",
       "4 25                0               5                 301            94107\n",
       "5 32                0               4                 309            94107\n",
       "6 30                0               4                 290            94107"
      ]
     },
     "metadata": {},
     "output_type": "display_data"
    },
    {
     "data": {
      "text/html": [
       "<style>\n",
       ".list-inline {list-style: none; margin:0; padding: 0}\n",
       ".list-inline>li {display: inline-block}\n",
       ".list-inline>li:not(:last-child)::after {content: \"\\00b7\"; padding: 0 .5ex}\n",
       "</style>\n",
       "<ol class=list-inline><li>'PDT'</li><li>'Max.TemperatureF'</li><li>'Mean.TemperatureF'</li><li>'Min.TemperatureF'</li><li>'Max.Dew.PointF'</li><li>'MeanDew.PointF'</li><li>'Min.DewpointF'</li><li>'Max.Humidity'</li><li>'Mean.Humidity'</li><li>'Min.Humidity'</li><li>'Max.Sea.Level.PressureIn'</li><li>'Mean.Sea.Level.PressureIn'</li><li>'Min.Sea.Level.PressureIn'</li><li>'Max.VisibilityMiles'</li><li>'Mean.VisibilityMiles'</li><li>'Min.VisibilityMiles'</li><li>'Max.Wind.SpeedMPH'</li><li>'Mean.Wind.SpeedMPH'</li><li>'Max.Gust.SpeedMPH'</li><li>'PrecipitationIn'</li><li>'CloudCover'</li><li>'Events'</li><li>'WindDirDegrees'</li><li>'Zip'</li></ol>\n"
      ],
      "text/latex": [
       "\\begin{enumerate*}\n",
       "\\item 'PDT'\n",
       "\\item 'Max.TemperatureF'\n",
       "\\item 'Mean.TemperatureF'\n",
       "\\item 'Min.TemperatureF'\n",
       "\\item 'Max.Dew.PointF'\n",
       "\\item 'MeanDew.PointF'\n",
       "\\item 'Min.DewpointF'\n",
       "\\item 'Max.Humidity'\n",
       "\\item 'Mean.Humidity'\n",
       "\\item 'Min.Humidity'\n",
       "\\item 'Max.Sea.Level.PressureIn'\n",
       "\\item 'Mean.Sea.Level.PressureIn'\n",
       "\\item 'Min.Sea.Level.PressureIn'\n",
       "\\item 'Max.VisibilityMiles'\n",
       "\\item 'Mean.VisibilityMiles'\n",
       "\\item 'Min.VisibilityMiles'\n",
       "\\item 'Max.Wind.SpeedMPH'\n",
       "\\item 'Mean.Wind.SpeedMPH'\n",
       "\\item 'Max.Gust.SpeedMPH'\n",
       "\\item 'PrecipitationIn'\n",
       "\\item 'CloudCover'\n",
       "\\item 'Events'\n",
       "\\item 'WindDirDegrees'\n",
       "\\item 'Zip'\n",
       "\\end{enumerate*}\n"
      ],
      "text/markdown": [
       "1. 'PDT'\n",
       "2. 'Max.TemperatureF'\n",
       "3. 'Mean.TemperatureF'\n",
       "4. 'Min.TemperatureF'\n",
       "5. 'Max.Dew.PointF'\n",
       "6. 'MeanDew.PointF'\n",
       "7. 'Min.DewpointF'\n",
       "8. 'Max.Humidity'\n",
       "9. 'Mean.Humidity'\n",
       "10. 'Min.Humidity'\n",
       "11. 'Max.Sea.Level.PressureIn'\n",
       "12. 'Mean.Sea.Level.PressureIn'\n",
       "13. 'Min.Sea.Level.PressureIn'\n",
       "14. 'Max.VisibilityMiles'\n",
       "15. 'Mean.VisibilityMiles'\n",
       "16. 'Min.VisibilityMiles'\n",
       "17. 'Max.Wind.SpeedMPH'\n",
       "18. 'Mean.Wind.SpeedMPH'\n",
       "19. 'Max.Gust.SpeedMPH'\n",
       "20. 'PrecipitationIn'\n",
       "21. 'CloudCover'\n",
       "22. 'Events'\n",
       "23. 'WindDirDegrees'\n",
       "24. 'Zip'\n",
       "\n",
       "\n"
      ],
      "text/plain": [
       " [1] \"PDT\"                       \"Max.TemperatureF\"         \n",
       " [3] \"Mean.TemperatureF\"         \"Min.TemperatureF\"         \n",
       " [5] \"Max.Dew.PointF\"            \"MeanDew.PointF\"           \n",
       " [7] \"Min.DewpointF\"             \"Max.Humidity\"             \n",
       " [9] \"Mean.Humidity\"             \"Min.Humidity\"             \n",
       "[11] \"Max.Sea.Level.PressureIn\"  \"Mean.Sea.Level.PressureIn\"\n",
       "[13] \"Min.Sea.Level.PressureIn\"  \"Max.VisibilityMiles\"      \n",
       "[15] \"Mean.VisibilityMiles\"      \"Min.VisibilityMiles\"      \n",
       "[17] \"Max.Wind.SpeedMPH\"         \"Mean.Wind.SpeedMPH\"       \n",
       "[19] \"Max.Gust.SpeedMPH\"         \"PrecipitationIn\"          \n",
       "[21] \"CloudCover\"                \"Events\"                   \n",
       "[23] \"WindDirDegrees\"            \"Zip\"                      "
      ]
     },
     "metadata": {},
     "output_type": "display_data"
    }
   ],
   "source": [
    "clima <- read.csv('../tablas/bike data/201508_weather_data.csv', stringsAsFactors=FALSE)\n",
    "head(clima)\n",
    "names(clima)"
   ]
  },
  {
   "cell_type": "code",
   "execution_count": 17,
   "metadata": {},
   "outputs": [
    {
     "data": {
      "text/html": [
       "<table>\n",
       "<caption>A data.frame: 6 × 2</caption>\n",
       "<thead>\n",
       "\t<tr><th></th><th scope=col>Fecha</th><th scope=col>Temp</th></tr>\n",
       "\t<tr><th></th><th scope=col>&lt;chr&gt;</th><th scope=col>&lt;dbl&gt;</th></tr>\n",
       "</thead>\n",
       "<tbody>\n",
       "\t<tr><th scope=row>1</th><td>9/1/2014</td><td>28</td></tr>\n",
       "\t<tr><th scope=row>2</th><td>9/2/2014</td><td>22</td></tr>\n",
       "\t<tr><th scope=row>3</th><td>9/3/2014</td><td>24</td></tr>\n",
       "\t<tr><th scope=row>4</th><td>9/4/2014</td><td>23</td></tr>\n",
       "\t<tr><th scope=row>5</th><td>9/5/2014</td><td>22</td></tr>\n",
       "\t<tr><th scope=row>6</th><td>9/6/2014</td><td>22</td></tr>\n",
       "</tbody>\n",
       "</table>\n"
      ],
      "text/latex": [
       "A data.frame: 6 × 2\n",
       "\\begin{tabular}{r|ll}\n",
       "  & Fecha & Temp\\\\\n",
       "  & <chr> & <dbl>\\\\\n",
       "\\hline\n",
       "\t1 & 9/1/2014 & 28\\\\\n",
       "\t2 & 9/2/2014 & 22\\\\\n",
       "\t3 & 9/3/2014 & 24\\\\\n",
       "\t4 & 9/4/2014 & 23\\\\\n",
       "\t5 & 9/5/2014 & 22\\\\\n",
       "\t6 & 9/6/2014 & 22\\\\\n",
       "\\end{tabular}\n"
      ],
      "text/markdown": [
       "\n",
       "A data.frame: 6 × 2\n",
       "\n",
       "| <!--/--> | Fecha &lt;chr&gt; | Temp &lt;dbl&gt; |\n",
       "|---|---|---|\n",
       "| 1 | 9/1/2014 | 28 |\n",
       "| 2 | 9/2/2014 | 22 |\n",
       "| 3 | 9/3/2014 | 24 |\n",
       "| 4 | 9/4/2014 | 23 |\n",
       "| 5 | 9/5/2014 | 22 |\n",
       "| 6 | 9/6/2014 | 22 |\n",
       "\n"
      ],
      "text/plain": [
       "  Fecha    Temp\n",
       "1 9/1/2014 28  \n",
       "2 9/2/2014 22  \n",
       "3 9/3/2014 24  \n",
       "4 9/4/2014 23  \n",
       "5 9/5/2014 22  \n",
       "6 9/6/2014 22  "
      ]
     },
     "metadata": {},
     "output_type": "display_data"
    }
   ],
   "source": [
    "clima_bicis <- clima %>% \n",
    "                        select(Fecha = PDT, Temp = Max.TemperatureF) %>% \n",
    "                        mutate(Temp = round((Temp - 32)*5/9, 0)) \n",
    "\n",
    "head(clima_bicis)"
   ]
  },
  {
   "cell_type": "code",
   "execution_count": 14,
   "metadata": {},
   "outputs": [
    {
     "data": {
      "text/html": [
       "<style>\n",
       ".list-inline {list-style: none; margin:0; padding: 0}\n",
       ".list-inline>li {display: inline-block}\n",
       ".list-inline>li:not(:last-child)::after {content: \"\\00b7\"; padding: 0 .5ex}\n",
       "</style>\n",
       "<ol class=list-inline><li>365</li><li>2</li></ol>\n"
      ],
      "text/latex": [
       "\\begin{enumerate*}\n",
       "\\item 365\n",
       "\\item 2\n",
       "\\end{enumerate*}\n"
      ],
      "text/markdown": [
       "1. 365\n",
       "2. 2\n",
       "\n",
       "\n"
      ],
      "text/plain": [
       "[1] 365   2"
      ]
     },
     "metadata": {},
     "output_type": "display_data"
    },
    {
     "data": {
      "text/html": [
       "<style>\n",
       ".list-inline {list-style: none; margin:0; padding: 0}\n",
       ".list-inline>li {display: inline-block}\n",
       ".list-inline>li:not(:last-child)::after {content: \"\\00b7\"; padding: 0 .5ex}\n",
       "</style>\n",
       "<ol class=list-inline><li>1825</li><li>2</li></ol>\n"
      ],
      "text/latex": [
       "\\begin{enumerate*}\n",
       "\\item 1825\n",
       "\\item 2\n",
       "\\end{enumerate*}\n"
      ],
      "text/markdown": [
       "1. 1825\n",
       "2. 2\n",
       "\n",
       "\n"
      ],
      "text/plain": [
       "[1] 1825    2"
      ]
     },
     "metadata": {},
     "output_type": "display_data"
    }
   ],
   "source": [
    "dim(trips_bici)\n",
    "dim(clima_bicis)"
   ]
  },
  {
   "cell_type": "markdown",
   "metadata": {},
   "source": [
    "Problemas con las dimensiones. Voy a agrupar por fecha y tomar la temperatura promedio cen vez de max.temp. "
   ]
  },
  {
   "cell_type": "code",
   "execution_count": 19,
   "metadata": {},
   "outputs": [
    {
     "data": {
      "text/html": [
       "<style>\n",
       ".list-inline {list-style: none; margin:0; padding: 0}\n",
       ".list-inline>li {display: inline-block}\n",
       ".list-inline>li:not(:last-child)::after {content: \"\\00b7\"; padding: 0 .5ex}\n",
       "</style>\n",
       "<ol class=list-inline><li>365</li><li>2</li></ol>\n"
      ],
      "text/latex": [
       "\\begin{enumerate*}\n",
       "\\item 365\n",
       "\\item 2\n",
       "\\end{enumerate*}\n"
      ],
      "text/markdown": [
       "1. 365\n",
       "2. 2\n",
       "\n",
       "\n"
      ],
      "text/plain": [
       "[1] 365   2"
      ]
     },
     "metadata": {},
     "output_type": "display_data"
    },
    {
     "data": {
      "text/html": [
       "<table>\n",
       "<caption>A tibble: 6 × 2</caption>\n",
       "<thead>\n",
       "\t<tr><th scope=col>Fecha</th><th scope=col>Temp</th></tr>\n",
       "\t<tr><th scope=col>&lt;chr&gt;</th><th scope=col>&lt;dbl&gt;</th></tr>\n",
       "</thead>\n",
       "<tbody>\n",
       "\t<tr><td>1/1/2015 </td><td>12.8</td></tr>\n",
       "\t<tr><td>1/10/2015</td><td>15.6</td></tr>\n",
       "\t<tr><td>1/11/2015</td><td>13.4</td></tr>\n",
       "\t<tr><td>1/12/2015</td><td>16.0</td></tr>\n",
       "\t<tr><td>1/13/2015</td><td>18.0</td></tr>\n",
       "\t<tr><td>1/14/2015</td><td>16.2</td></tr>\n",
       "</tbody>\n",
       "</table>\n"
      ],
      "text/latex": [
       "A tibble: 6 × 2\n",
       "\\begin{tabular}{ll}\n",
       " Fecha & Temp\\\\\n",
       " <chr> & <dbl>\\\\\n",
       "\\hline\n",
       "\t 1/1/2015  & 12.8\\\\\n",
       "\t 1/10/2015 & 15.6\\\\\n",
       "\t 1/11/2015 & 13.4\\\\\n",
       "\t 1/12/2015 & 16.0\\\\\n",
       "\t 1/13/2015 & 18.0\\\\\n",
       "\t 1/14/2015 & 16.2\\\\\n",
       "\\end{tabular}\n"
      ],
      "text/markdown": [
       "\n",
       "A tibble: 6 × 2\n",
       "\n",
       "| Fecha &lt;chr&gt; | Temp &lt;dbl&gt; |\n",
       "|---|---|\n",
       "| 1/1/2015  | 12.8 |\n",
       "| 1/10/2015 | 15.6 |\n",
       "| 1/11/2015 | 13.4 |\n",
       "| 1/12/2015 | 16.0 |\n",
       "| 1/13/2015 | 18.0 |\n",
       "| 1/14/2015 | 16.2 |\n",
       "\n"
      ],
      "text/plain": [
       "  Fecha     Temp\n",
       "1 1/1/2015  12.8\n",
       "2 1/10/2015 15.6\n",
       "3 1/11/2015 13.4\n",
       "4 1/12/2015 16.0\n",
       "5 1/13/2015 18.0\n",
       "6 1/14/2015 16.2"
      ]
     },
     "metadata": {},
     "output_type": "display_data"
    }
   ],
   "source": [
    "clima_bicis <- clima_bicis %>% \n",
    "                            group_by(Fecha) %>% \n",
    "                            summarise(Temp = mean(Temp))\n",
    "\n",
    "dim(clima_bicis)\n",
    "head(clima_bicis)"
   ]
  },
  {
   "cell_type": "code",
   "execution_count": 20,
   "metadata": {},
   "outputs": [
    {
     "data": {
      "text/html": [
       "<style>\n",
       ".list-inline {list-style: none; margin:0; padding: 0}\n",
       ".list-inline>li {display: inline-block}\n",
       ".list-inline>li:not(:last-child)::after {content: \"\\00b7\"; padding: 0 .5ex}\n",
       "</style>\n",
       "<ol class=list-inline><li>365</li><li>3</li></ol>\n"
      ],
      "text/latex": [
       "\\begin{enumerate*}\n",
       "\\item 365\n",
       "\\item 3\n",
       "\\end{enumerate*}\n"
      ],
      "text/markdown": [
       "1. 365\n",
       "2. 3\n",
       "\n",
       "\n"
      ],
      "text/plain": [
       "[1] 365   3"
      ]
     },
     "metadata": {},
     "output_type": "display_data"
    },
    {
     "data": {
      "text/html": [
       "<table>\n",
       "<caption>A tibble: 6 × 3</caption>\n",
       "<thead>\n",
       "\t<tr><th scope=col>Fecha</th><th scope=col>Viajes</th><th scope=col>Temp</th></tr>\n",
       "\t<tr><th scope=col>&lt;chr&gt;</th><th scope=col>&lt;int&gt;</th><th scope=col>&lt;dbl&gt;</th></tr>\n",
       "</thead>\n",
       "<tbody>\n",
       "\t<tr><td>1/1/2015 </td><td> 181</td><td>12.8</td></tr>\n",
       "\t<tr><td>1/10/2015</td><td> 362</td><td>15.6</td></tr>\n",
       "\t<tr><td>1/11/2015</td><td> 327</td><td>13.4</td></tr>\n",
       "\t<tr><td>1/12/2015</td><td>1344</td><td>16.0</td></tr>\n",
       "\t<tr><td>1/13/2015</td><td>1368</td><td>18.0</td></tr>\n",
       "\t<tr><td>1/14/2015</td><td>1296</td><td>16.2</td></tr>\n",
       "</tbody>\n",
       "</table>\n"
      ],
      "text/latex": [
       "A tibble: 6 × 3\n",
       "\\begin{tabular}{lll}\n",
       " Fecha & Viajes & Temp\\\\\n",
       " <chr> & <int> & <dbl>\\\\\n",
       "\\hline\n",
       "\t 1/1/2015  &  181 & 12.8\\\\\n",
       "\t 1/10/2015 &  362 & 15.6\\\\\n",
       "\t 1/11/2015 &  327 & 13.4\\\\\n",
       "\t 1/12/2015 & 1344 & 16.0\\\\\n",
       "\t 1/13/2015 & 1368 & 18.0\\\\\n",
       "\t 1/14/2015 & 1296 & 16.2\\\\\n",
       "\\end{tabular}\n"
      ],
      "text/markdown": [
       "\n",
       "A tibble: 6 × 3\n",
       "\n",
       "| Fecha &lt;chr&gt; | Viajes &lt;int&gt; | Temp &lt;dbl&gt; |\n",
       "|---|---|---|\n",
       "| 1/1/2015  |  181 | 12.8 |\n",
       "| 1/10/2015 |  362 | 15.6 |\n",
       "| 1/11/2015 |  327 | 13.4 |\n",
       "| 1/12/2015 | 1344 | 16.0 |\n",
       "| 1/13/2015 | 1368 | 18.0 |\n",
       "| 1/14/2015 | 1296 | 16.2 |\n",
       "\n"
      ],
      "text/plain": [
       "  Fecha     Viajes Temp\n",
       "1 1/1/2015   181   12.8\n",
       "2 1/10/2015  362   15.6\n",
       "3 1/11/2015  327   13.4\n",
       "4 1/12/2015 1344   16.0\n",
       "5 1/13/2015 1368   18.0\n",
       "6 1/14/2015 1296   16.2"
      ]
     },
     "metadata": {},
     "output_type": "display_data"
    }
   ],
   "source": [
    "date_temp <- left_join(trips_bici, clima_bicis, by = 'Fecha')  \n",
    "\n",
    "dim(date_temp)\n",
    "head(date_temp)"
   ]
  },
  {
   "cell_type": "markdown",
   "metadata": {},
   "source": [
    "# Alguna relación entre ir en bici y el clima? \n",
    "\n",
    "Encuentren una forma de mostrar si existe alguna asociación!\n",
    "\n",
    "Veamos los días frios:"
   ]
  },
  {
   "cell_type": "code",
   "execution_count": 22,
   "metadata": {},
   "outputs": [
    {
     "data": {
      "text/html": [
       "<table>\n",
       "<caption>A tibble: 1 × 1</caption>\n",
       "<thead>\n",
       "\t<tr><th scope=col>mean(Viajes)</th></tr>\n",
       "\t<tr><th scope=col>&lt;dbl&gt;</th></tr>\n",
       "</thead>\n",
       "<tbody>\n",
       "\t<tr><td>529.75</td></tr>\n",
       "</tbody>\n",
       "</table>\n"
      ],
      "text/latex": [
       "A tibble: 1 × 1\n",
       "\\begin{tabular}{l}\n",
       " mean(Viajes)\\\\\n",
       " <dbl>\\\\\n",
       "\\hline\n",
       "\t 529.75\\\\\n",
       "\\end{tabular}\n"
      ],
      "text/markdown": [
       "\n",
       "A tibble: 1 × 1\n",
       "\n",
       "| mean(Viajes) &lt;dbl&gt; |\n",
       "|---|\n",
       "| 529.75 |\n",
       "\n"
      ],
      "text/plain": [
       "  mean(Viajes)\n",
       "1 529.75      "
      ]
     },
     "metadata": {},
     "output_type": "display_data"
    },
    {
     "data": {
      "text/html": [
       "<table>\n",
       "<caption>A tibble: 1 × 1</caption>\n",
       "<thead>\n",
       "\t<tr><th scope=col>mean(Viajes)</th></tr>\n",
       "\t<tr><th scope=col>&lt;dbl&gt;</th></tr>\n",
       "</thead>\n",
       "<tbody>\n",
       "\t<tr><td>1000.428</td></tr>\n",
       "</tbody>\n",
       "</table>\n"
      ],
      "text/latex": [
       "A tibble: 1 × 1\n",
       "\\begin{tabular}{l}\n",
       " mean(Viajes)\\\\\n",
       " <dbl>\\\\\n",
       "\\hline\n",
       "\t 1000.428\\\\\n",
       "\\end{tabular}\n"
      ],
      "text/markdown": [
       "\n",
       "A tibble: 1 × 1\n",
       "\n",
       "| mean(Viajes) &lt;dbl&gt; |\n",
       "|---|\n",
       "| 1000.428 |\n",
       "\n"
      ],
      "text/plain": [
       "  mean(Viajes)\n",
       "1 1000.428    "
      ]
     },
     "metadata": {},
     "output_type": "display_data"
    }
   ],
   "source": [
    "date_temp %>% filter(Temp < 15) %>% summarise(mean(Viajes))\n",
    "\n",
    "date_temp %>% filter(Temp >= 15) %>% summarise(mean(Viajes))"
   ]
  },
  {
   "cell_type": "code",
   "execution_count": 28,
   "metadata": {},
   "outputs": [
    {
     "data": {
      "text/html": [
       "<table>\n",
       "<caption>A data.frame: 6 × 24</caption>\n",
       "<thead>\n",
       "\t<tr><th></th><th scope=col>PDT</th><th scope=col>Max.TemperatureF</th><th scope=col>Mean.TemperatureF</th><th scope=col>Min.TemperatureF</th><th scope=col>Max.Dew.PointF</th><th scope=col>MeanDew.PointF</th><th scope=col>Min.DewpointF</th><th scope=col>Max.Humidity</th><th scope=col>Mean.Humidity</th><th scope=col>Min.Humidity</th><th scope=col>⋯</th><th scope=col>Mean.VisibilityMiles</th><th scope=col>Min.VisibilityMiles</th><th scope=col>Max.Wind.SpeedMPH</th><th scope=col>Mean.Wind.SpeedMPH</th><th scope=col>Max.Gust.SpeedMPH</th><th scope=col>PrecipitationIn</th><th scope=col>CloudCover</th><th scope=col>Events</th><th scope=col>WindDirDegrees</th><th scope=col>Zip</th></tr>\n",
       "\t<tr><th></th><th scope=col>&lt;chr&gt;</th><th scope=col>&lt;int&gt;</th><th scope=col>&lt;int&gt;</th><th scope=col>&lt;int&gt;</th><th scope=col>&lt;int&gt;</th><th scope=col>&lt;int&gt;</th><th scope=col>&lt;int&gt;</th><th scope=col>&lt;int&gt;</th><th scope=col>&lt;int&gt;</th><th scope=col>&lt;int&gt;</th><th scope=col>⋯</th><th scope=col>&lt;int&gt;</th><th scope=col>&lt;int&gt;</th><th scope=col>&lt;int&gt;</th><th scope=col>&lt;int&gt;</th><th scope=col>&lt;int&gt;</th><th scope=col>&lt;chr&gt;</th><th scope=col>&lt;int&gt;</th><th scope=col>&lt;chr&gt;</th><th scope=col>&lt;int&gt;</th><th scope=col>&lt;int&gt;</th></tr>\n",
       "</thead>\n",
       "<tbody>\n",
       "\t<tr><th scope=row>1</th><td>9/1/2014</td><td>83</td><td>70</td><td>57</td><td>58</td><td>56</td><td>52</td><td>86</td><td>64</td><td>42</td><td>⋯</td><td>10</td><td> 8</td><td>16</td><td>7</td><td>20</td><td>0</td><td>0</td><td></td><td>290</td><td>94107</td></tr>\n",
       "\t<tr><th scope=row>2</th><td>9/2/2014</td><td>72</td><td>66</td><td>60</td><td>58</td><td>57</td><td>55</td><td>84</td><td>73</td><td>61</td><td>⋯</td><td>10</td><td> 7</td><td>21</td><td>8</td><td>NA</td><td>0</td><td>5</td><td></td><td>290</td><td>94107</td></tr>\n",
       "\t<tr><th scope=row>3</th><td>9/3/2014</td><td>76</td><td>69</td><td>61</td><td>57</td><td>56</td><td>55</td><td>84</td><td>69</td><td>53</td><td>⋯</td><td>10</td><td>10</td><td>21</td><td>8</td><td>24</td><td>0</td><td>4</td><td></td><td>276</td><td>94107</td></tr>\n",
       "\t<tr><th scope=row>4</th><td>9/4/2014</td><td>74</td><td>68</td><td>61</td><td>57</td><td>57</td><td>56</td><td>84</td><td>71</td><td>57</td><td>⋯</td><td>10</td><td> 8</td><td>22</td><td>8</td><td>25</td><td>0</td><td>5</td><td></td><td>301</td><td>94107</td></tr>\n",
       "\t<tr><th scope=row>5</th><td>9/5/2014</td><td>72</td><td>66</td><td>60</td><td>57</td><td>56</td><td>54</td><td>84</td><td>71</td><td>57</td><td>⋯</td><td> 9</td><td> 7</td><td>18</td><td>8</td><td>32</td><td>0</td><td>4</td><td></td><td>309</td><td>94107</td></tr>\n",
       "\t<tr><th scope=row>6</th><td>9/6/2014</td><td>72</td><td>66</td><td>60</td><td>55</td><td>54</td><td>52</td><td>84</td><td>69</td><td>53</td><td>⋯</td><td> 9</td><td> 7</td><td>17</td><td>9</td><td>30</td><td>0</td><td>4</td><td></td><td>290</td><td>94107</td></tr>\n",
       "</tbody>\n",
       "</table>\n"
      ],
      "text/latex": [
       "A data.frame: 6 × 24\n",
       "\\begin{tabular}{r|lllllllllllllllllllll}\n",
       "  & PDT & Max.TemperatureF & Mean.TemperatureF & Min.TemperatureF & Max.Dew.PointF & MeanDew.PointF & Min.DewpointF & Max.Humidity & Mean.Humidity & Min.Humidity & ⋯ & Mean.VisibilityMiles & Min.VisibilityMiles & Max.Wind.SpeedMPH & Mean.Wind.SpeedMPH & Max.Gust.SpeedMPH & PrecipitationIn & CloudCover & Events & WindDirDegrees & Zip\\\\\n",
       "  & <chr> & <int> & <int> & <int> & <int> & <int> & <int> & <int> & <int> & <int> & ⋯ & <int> & <int> & <int> & <int> & <int> & <chr> & <int> & <chr> & <int> & <int>\\\\\n",
       "\\hline\n",
       "\t1 & 9/1/2014 & 83 & 70 & 57 & 58 & 56 & 52 & 86 & 64 & 42 & ⋯ & 10 &  8 & 16 & 7 & 20 & 0 & 0 &  & 290 & 94107\\\\\n",
       "\t2 & 9/2/2014 & 72 & 66 & 60 & 58 & 57 & 55 & 84 & 73 & 61 & ⋯ & 10 &  7 & 21 & 8 & NA & 0 & 5 &  & 290 & 94107\\\\\n",
       "\t3 & 9/3/2014 & 76 & 69 & 61 & 57 & 56 & 55 & 84 & 69 & 53 & ⋯ & 10 & 10 & 21 & 8 & 24 & 0 & 4 &  & 276 & 94107\\\\\n",
       "\t4 & 9/4/2014 & 74 & 68 & 61 & 57 & 57 & 56 & 84 & 71 & 57 & ⋯ & 10 &  8 & 22 & 8 & 25 & 0 & 5 &  & 301 & 94107\\\\\n",
       "\t5 & 9/5/2014 & 72 & 66 & 60 & 57 & 56 & 54 & 84 & 71 & 57 & ⋯ &  9 &  7 & 18 & 8 & 32 & 0 & 4 &  & 309 & 94107\\\\\n",
       "\t6 & 9/6/2014 & 72 & 66 & 60 & 55 & 54 & 52 & 84 & 69 & 53 & ⋯ &  9 &  7 & 17 & 9 & 30 & 0 & 4 &  & 290 & 94107\\\\\n",
       "\\end{tabular}\n"
      ],
      "text/markdown": [
       "\n",
       "A data.frame: 6 × 24\n",
       "\n",
       "| <!--/--> | PDT &lt;chr&gt; | Max.TemperatureF &lt;int&gt; | Mean.TemperatureF &lt;int&gt; | Min.TemperatureF &lt;int&gt; | Max.Dew.PointF &lt;int&gt; | MeanDew.PointF &lt;int&gt; | Min.DewpointF &lt;int&gt; | Max.Humidity &lt;int&gt; | Mean.Humidity &lt;int&gt; | Min.Humidity &lt;int&gt; | ⋯ ⋯ | Mean.VisibilityMiles &lt;int&gt; | Min.VisibilityMiles &lt;int&gt; | Max.Wind.SpeedMPH &lt;int&gt; | Mean.Wind.SpeedMPH &lt;int&gt; | Max.Gust.SpeedMPH &lt;int&gt; | PrecipitationIn &lt;chr&gt; | CloudCover &lt;int&gt; | Events &lt;chr&gt; | WindDirDegrees &lt;int&gt; | Zip &lt;int&gt; |\n",
       "|---|---|---|---|---|---|---|---|---|---|---|---|---|---|---|---|---|---|---|---|---|---|\n",
       "| 1 | 9/1/2014 | 83 | 70 | 57 | 58 | 56 | 52 | 86 | 64 | 42 | ⋯ | 10 |  8 | 16 | 7 | 20 | 0 | 0 | <!----> | 290 | 94107 |\n",
       "| 2 | 9/2/2014 | 72 | 66 | 60 | 58 | 57 | 55 | 84 | 73 | 61 | ⋯ | 10 |  7 | 21 | 8 | NA | 0 | 5 | <!----> | 290 | 94107 |\n",
       "| 3 | 9/3/2014 | 76 | 69 | 61 | 57 | 56 | 55 | 84 | 69 | 53 | ⋯ | 10 | 10 | 21 | 8 | 24 | 0 | 4 | <!----> | 276 | 94107 |\n",
       "| 4 | 9/4/2014 | 74 | 68 | 61 | 57 | 57 | 56 | 84 | 71 | 57 | ⋯ | 10 |  8 | 22 | 8 | 25 | 0 | 5 | <!----> | 301 | 94107 |\n",
       "| 5 | 9/5/2014 | 72 | 66 | 60 | 57 | 56 | 54 | 84 | 71 | 57 | ⋯ |  9 |  7 | 18 | 8 | 32 | 0 | 4 | <!----> | 309 | 94107 |\n",
       "| 6 | 9/6/2014 | 72 | 66 | 60 | 55 | 54 | 52 | 84 | 69 | 53 | ⋯ |  9 |  7 | 17 | 9 | 30 | 0 | 4 | <!----> | 290 | 94107 |\n",
       "\n"
      ],
      "text/plain": [
       "  PDT      Max.TemperatureF Mean.TemperatureF Min.TemperatureF Max.Dew.PointF\n",
       "1 9/1/2014 83               70                57               58            \n",
       "2 9/2/2014 72               66                60               58            \n",
       "3 9/3/2014 76               69                61               57            \n",
       "4 9/4/2014 74               68                61               57            \n",
       "5 9/5/2014 72               66                60               57            \n",
       "6 9/6/2014 72               66                60               55            \n",
       "  MeanDew.PointF Min.DewpointF Max.Humidity Mean.Humidity Min.Humidity ⋯\n",
       "1 56             52            86           64            42           ⋯\n",
       "2 57             55            84           73            61           ⋯\n",
       "3 56             55            84           69            53           ⋯\n",
       "4 57             56            84           71            57           ⋯\n",
       "5 56             54            84           71            57           ⋯\n",
       "6 54             52            84           69            53           ⋯\n",
       "  Mean.VisibilityMiles Min.VisibilityMiles Max.Wind.SpeedMPH Mean.Wind.SpeedMPH\n",
       "1 10                    8                  16                7                 \n",
       "2 10                    7                  21                8                 \n",
       "3 10                   10                  21                8                 \n",
       "4 10                    8                  22                8                 \n",
       "5  9                    7                  18                8                 \n",
       "6  9                    7                  17                9                 \n",
       "  Max.Gust.SpeedMPH PrecipitationIn CloudCover Events WindDirDegrees Zip  \n",
       "1 20                0               0                 290            94107\n",
       "2 NA                0               5                 290            94107\n",
       "3 24                0               4                 276            94107\n",
       "4 25                0               5                 301            94107\n",
       "5 32                0               4                 309            94107\n",
       "6 30                0               4                 290            94107"
      ]
     },
     "metadata": {},
     "output_type": "display_data"
    }
   ],
   "source": [
    "head(clima)"
   ]
  },
  {
   "cell_type": "markdown",
   "metadata": {},
   "source": [
    "## Factores\n",
    "\n",
    "factores tipo de dato. Es un vector de números enteros con etiquetas. \n",
    "\n",
    "c(1, 0, 0, 1) y 1 <- 'mujer', 0 <- 'hombre'\n",
    "\n",
    "Etiquetas son fáciles de leer. Se llaman labels. Los valores se llaman levels. \n",
    "\n",
    "Pueden agrupar factores parecidos definiedo los niveles:"
   ]
  },
  {
   "cell_type": "code",
   "execution_count": 42,
   "metadata": {},
   "outputs": [
    {
     "data": {
      "text/html": [
       "<table>\n",
       "<caption>A tibble: 5 × 2</caption>\n",
       "<thead>\n",
       "\t<tr><th scope=col>Events</th><th scope=col>Count</th></tr>\n",
       "\t<tr><th scope=col>&lt;chr&gt;</th><th scope=col>&lt;int&gt;</th></tr>\n",
       "</thead>\n",
       "<tbody>\n",
       "\t<tr><td>                 </td><td>1538</td></tr>\n",
       "\t<tr><td>Fog              </td><td>  73</td></tr>\n",
       "\t<tr><td>Fog-Rain         </td><td>  16</td></tr>\n",
       "\t<tr><td>Rain             </td><td> 195</td></tr>\n",
       "\t<tr><td>Rain-Thunderstorm</td><td>   3</td></tr>\n",
       "</tbody>\n",
       "</table>\n"
      ],
      "text/latex": [
       "A tibble: 5 × 2\n",
       "\\begin{tabular}{ll}\n",
       " Events & Count\\\\\n",
       " <chr> & <int>\\\\\n",
       "\\hline\n",
       "\t                   & 1538\\\\\n",
       "\t Fog               &   73\\\\\n",
       "\t Fog-Rain          &   16\\\\\n",
       "\t Rain              &  195\\\\\n",
       "\t Rain-Thunderstorm &    3\\\\\n",
       "\\end{tabular}\n"
      ],
      "text/markdown": [
       "\n",
       "A tibble: 5 × 2\n",
       "\n",
       "| Events &lt;chr&gt; | Count &lt;int&gt; |\n",
       "|---|---|\n",
       "| <!----> | 1538 |\n",
       "| Fog               |   73 |\n",
       "| Fog-Rain          |   16 |\n",
       "| Rain              |  195 |\n",
       "| Rain-Thunderstorm |    3 |\n",
       "\n"
      ],
      "text/plain": [
       "  Events            Count\n",
       "1                   1538 \n",
       "2 Fog                 73 \n",
       "3 Fog-Rain            16 \n",
       "4 Rain               195 \n",
       "5 Rain-Thunderstorm    3 "
      ]
     },
     "metadata": {},
     "output_type": "display_data"
    }
   ],
   "source": [
    "clima %>% \n",
    "        group_by(Events) %>% \n",
    "        summarize(Count = n())"
   ]
  },
  {
   "cell_type": "code",
   "execution_count": 46,
   "metadata": {},
   "outputs": [
    {
     "data": {
      "text/html": [
       "<table>\n",
       "<caption>A data.frame: 6 × 2</caption>\n",
       "<thead>\n",
       "\t<tr><th></th><th scope=col>Fecha</th><th scope=col>Events</th></tr>\n",
       "\t<tr><th></th><th scope=col>&lt;chr&gt;</th><th scope=col>&lt;fct&gt;</th></tr>\n",
       "</thead>\n",
       "<tbody>\n",
       "\t<tr><th scope=row>1</th><td>9/1/2014</td><td>Seco</td></tr>\n",
       "\t<tr><th scope=row>2</th><td>9/2/2014</td><td>Seco</td></tr>\n",
       "\t<tr><th scope=row>3</th><td>9/3/2014</td><td>Seco</td></tr>\n",
       "\t<tr><th scope=row>4</th><td>9/4/2014</td><td>Seco</td></tr>\n",
       "\t<tr><th scope=row>5</th><td>9/5/2014</td><td>Seco</td></tr>\n",
       "\t<tr><th scope=row>6</th><td>9/6/2014</td><td>Seco</td></tr>\n",
       "</tbody>\n",
       "</table>\n"
      ],
      "text/latex": [
       "A data.frame: 6 × 2\n",
       "\\begin{tabular}{r|ll}\n",
       "  & Fecha & Events\\\\\n",
       "  & <chr> & <fct>\\\\\n",
       "\\hline\n",
       "\t1 & 9/1/2014 & Seco\\\\\n",
       "\t2 & 9/2/2014 & Seco\\\\\n",
       "\t3 & 9/3/2014 & Seco\\\\\n",
       "\t4 & 9/4/2014 & Seco\\\\\n",
       "\t5 & 9/5/2014 & Seco\\\\\n",
       "\t6 & 9/6/2014 & Seco\\\\\n",
       "\\end{tabular}\n"
      ],
      "text/markdown": [
       "\n",
       "A data.frame: 6 × 2\n",
       "\n",
       "| <!--/--> | Fecha &lt;chr&gt; | Events &lt;fct&gt; |\n",
       "|---|---|---|\n",
       "| 1 | 9/1/2014 | Seco |\n",
       "| 2 | 9/2/2014 | Seco |\n",
       "| 3 | 9/3/2014 | Seco |\n",
       "| 4 | 9/4/2014 | Seco |\n",
       "| 5 | 9/5/2014 | Seco |\n",
       "| 6 | 9/6/2014 | Seco |\n",
       "\n"
      ],
      "text/plain": [
       "  Fecha    Events\n",
       "1 9/1/2014 Seco  \n",
       "2 9/2/2014 Seco  \n",
       "3 9/3/2014 Seco  \n",
       "4 9/4/2014 Seco  \n",
       "5 9/5/2014 Seco  \n",
       "6 9/6/2014 Seco  "
      ]
     },
     "metadata": {},
     "output_type": "display_data"
    }
   ],
   "source": [
    "clima_simple <- clima %>% \n",
    "                        select(Fecha = PDT, Events) %>% \n",
    "                        mutate(Events = fct_recode(Events, \n",
    "                                                   \"Seco\" = \"\", \n",
    "                                                   \"Húmedo\" = \"Fog\", \n",
    "                                                   \"Húmedo\" = \"Fog-Rain\", \n",
    "                                                   \"Mojado\" = \"Rain\", \n",
    "                                                   \"Mojado\" = \"Rain-Thunderstorm\"))\n",
    "\n",
    "head(clima_simple)"
   ]
  },
  {
   "cell_type": "code",
   "execution_count": 18,
   "metadata": {},
   "outputs": [
    {
     "data": {
      "text/html": [
       "<table>\n",
       "<caption>A tibble: 3 × 2</caption>\n",
       "<thead>\n",
       "\t<tr><th scope=col>Events</th><th scope=col>Count</th></tr>\n",
       "\t<tr><th scope=col>&lt;fct&gt;</th><th scope=col>&lt;int&gt;</th></tr>\n",
       "</thead>\n",
       "<tbody>\n",
       "\t<tr><td>Seco  </td><td>1538</td></tr>\n",
       "\t<tr><td>Humedo</td><td>  89</td></tr>\n",
       "\t<tr><td>Mojado</td><td> 198</td></tr>\n",
       "</tbody>\n",
       "</table>\n"
      ],
      "text/latex": [
       "A tibble: 3 × 2\n",
       "\\begin{tabular}{ll}\n",
       " Events & Count\\\\\n",
       " <fct> & <int>\\\\\n",
       "\\hline\n",
       "\t Seco   & 1538\\\\\n",
       "\t Humedo &   89\\\\\n",
       "\t Mojado &  198\\\\\n",
       "\\end{tabular}\n"
      ],
      "text/markdown": [
       "\n",
       "A tibble: 3 × 2\n",
       "\n",
       "| Events &lt;fct&gt; | Count &lt;int&gt; |\n",
       "|---|---|\n",
       "| Seco   | 1538 |\n",
       "| Humedo |   89 |\n",
       "| Mojado |  198 |\n",
       "\n"
      ],
      "text/plain": [
       "  Events Count\n",
       "1 Seco   1538 \n",
       "2 Humedo   89 \n",
       "3 Mojado  198 "
      ]
     },
     "metadata": {},
     "output_type": "display_data"
    }
   ],
   "source": [
    "clima_simple %>% \n",
    "            group_by(Events) %>% \n",
    "            summarize(Count = n())"
   ]
  },
  {
   "cell_type": "code",
   "execution_count": 56,
   "metadata": {},
   "outputs": [
    {
     "data": {
      "text/html": [
       "<table>\n",
       "<caption>A data.frame: 6 × 4</caption>\n",
       "<thead>\n",
       "\t<tr><th></th><th scope=col>Zip</th><th scope=col>Fecha</th><th scope=col>Temp</th><th scope=col>Events</th></tr>\n",
       "\t<tr><th></th><th scope=col>&lt;int&gt;</th><th scope=col>&lt;chr&gt;</th><th scope=col>&lt;chr&gt;</th><th scope=col>&lt;fct&gt;</th></tr>\n",
       "</thead>\n",
       "<tbody>\n",
       "\t<tr><th scope=row>1</th><td>94107</td><td>9/1/2014</td><td>Caliente</td><td>Seco</td></tr>\n",
       "\t<tr><th scope=row>2</th><td>94107</td><td>9/2/2014</td><td>Caliente</td><td>Seco</td></tr>\n",
       "\t<tr><th scope=row>3</th><td>94107</td><td>9/3/2014</td><td>Caliente</td><td>Seco</td></tr>\n",
       "\t<tr><th scope=row>4</th><td>94107</td><td>9/4/2014</td><td>Caliente</td><td>Seco</td></tr>\n",
       "\t<tr><th scope=row>5</th><td>94107</td><td>9/5/2014</td><td>Caliente</td><td>Seco</td></tr>\n",
       "\t<tr><th scope=row>6</th><td>94107</td><td>9/6/2014</td><td>Caliente</td><td>Seco</td></tr>\n",
       "</tbody>\n",
       "</table>\n"
      ],
      "text/latex": [
       "A data.frame: 6 × 4\n",
       "\\begin{tabular}{r|llll}\n",
       "  & Zip & Fecha & Temp & Events\\\\\n",
       "  & <int> & <chr> & <chr> & <fct>\\\\\n",
       "\\hline\n",
       "\t1 & 94107 & 9/1/2014 & Caliente & Seco\\\\\n",
       "\t2 & 94107 & 9/2/2014 & Caliente & Seco\\\\\n",
       "\t3 & 94107 & 9/3/2014 & Caliente & Seco\\\\\n",
       "\t4 & 94107 & 9/4/2014 & Caliente & Seco\\\\\n",
       "\t5 & 94107 & 9/5/2014 & Caliente & Seco\\\\\n",
       "\t6 & 94107 & 9/6/2014 & Caliente & Seco\\\\\n",
       "\\end{tabular}\n"
      ],
      "text/markdown": [
       "\n",
       "A data.frame: 6 × 4\n",
       "\n",
       "| <!--/--> | Zip &lt;int&gt; | Fecha &lt;chr&gt; | Temp &lt;chr&gt; | Events &lt;fct&gt; |\n",
       "|---|---|---|---|---|\n",
       "| 1 | 94107 | 9/1/2014 | Caliente | Seco |\n",
       "| 2 | 94107 | 9/2/2014 | Caliente | Seco |\n",
       "| 3 | 94107 | 9/3/2014 | Caliente | Seco |\n",
       "| 4 | 94107 | 9/4/2014 | Caliente | Seco |\n",
       "| 5 | 94107 | 9/5/2014 | Caliente | Seco |\n",
       "| 6 | 94107 | 9/6/2014 | Caliente | Seco |\n",
       "\n"
      ],
      "text/plain": [
       "  Zip   Fecha    Temp     Events\n",
       "1 94107 9/1/2014 Caliente Seco  \n",
       "2 94107 9/2/2014 Caliente Seco  \n",
       "3 94107 9/3/2014 Caliente Seco  \n",
       "4 94107 9/4/2014 Caliente Seco  \n",
       "5 94107 9/5/2014 Caliente Seco  \n",
       "6 94107 9/6/2014 Caliente Seco  "
      ]
     },
     "metadata": {},
     "output_type": "display_data"
    }
   ],
   "source": [
    "clima_94107 <- clima %>% \n",
    "                        select(Zip, Fecha = PDT, Temp = Max.TemperatureF, Events) %>%\n",
    "                        mutate(Events = fct_recode(Events, \n",
    "                                                   \"Seco\" = \"\", \n",
    "                                                   \"Húmedo\" = \"Fog\", \n",
    "                                                   \"Húmedo\" = \"Fog-Rain\", \n",
    "                                                   \"Mojado\" = \"Rain\", \n",
    "                                                   \"Mojado\" = \"Rain-Thunderstorm\"),\n",
    "                               Temp = ifelse(test = (Temp - 32) * 5/9 > 15, \"Caliente\", \"Frio\"))\n",
    "\n",
    "head(clima_94107)"
   ]
  },
  {
   "cell_type": "code",
   "execution_count": 57,
   "metadata": {},
   "outputs": [
    {
     "data": {
      "text/html": [
       "<style>\n",
       ".list-inline {list-style: none; margin:0; padding: 0}\n",
       ".list-inline>li {display: inline-block}\n",
       ".list-inline>li:not(:last-child)::after {content: \"\\00b7\"; padding: 0 .5ex}\n",
       "</style>\n",
       "<ol class=list-inline><li>365</li><li>2</li></ol>\n"
      ],
      "text/latex": [
       "\\begin{enumerate*}\n",
       "\\item 365\n",
       "\\item 2\n",
       "\\end{enumerate*}\n"
      ],
      "text/markdown": [
       "1. 365\n",
       "2. 2\n",
       "\n",
       "\n"
      ],
      "text/plain": [
       "[1] 365   2"
      ]
     },
     "metadata": {},
     "output_type": "display_data"
    },
    {
     "data": {
      "text/html": [
       "<table>\n",
       "<caption>A data.frame: 6 × 5</caption>\n",
       "<thead>\n",
       "\t<tr><th></th><th scope=col>Zip</th><th scope=col>Fecha</th><th scope=col>Temp</th><th scope=col>Events</th><th scope=col>Viajes</th></tr>\n",
       "\t<tr><th></th><th scope=col>&lt;int&gt;</th><th scope=col>&lt;chr&gt;</th><th scope=col>&lt;chr&gt;</th><th scope=col>&lt;fct&gt;</th><th scope=col>&lt;int&gt;</th></tr>\n",
       "</thead>\n",
       "<tbody>\n",
       "\t<tr><th scope=row>1</th><td>94107</td><td>9/1/2014</td><td>Caliente</td><td>Seco</td><td> 368</td></tr>\n",
       "\t<tr><th scope=row>2</th><td>94107</td><td>9/2/2014</td><td>Caliente</td><td>Seco</td><td>1319</td></tr>\n",
       "\t<tr><th scope=row>3</th><td>94107</td><td>9/3/2014</td><td>Caliente</td><td>Seco</td><td>1404</td></tr>\n",
       "\t<tr><th scope=row>4</th><td>94107</td><td>9/4/2014</td><td>Caliente</td><td>Seco</td><td>1389</td></tr>\n",
       "\t<tr><th scope=row>5</th><td>94107</td><td>9/5/2014</td><td>Caliente</td><td>Seco</td><td>1265</td></tr>\n",
       "\t<tr><th scope=row>6</th><td>94107</td><td>9/6/2014</td><td>Caliente</td><td>Seco</td><td> 435</td></tr>\n",
       "</tbody>\n",
       "</table>\n"
      ],
      "text/latex": [
       "A data.frame: 6 × 5\n",
       "\\begin{tabular}{r|lllll}\n",
       "  & Zip & Fecha & Temp & Events & Viajes\\\\\n",
       "  & <int> & <chr> & <chr> & <fct> & <int>\\\\\n",
       "\\hline\n",
       "\t1 & 94107 & 9/1/2014 & Caliente & Seco &  368\\\\\n",
       "\t2 & 94107 & 9/2/2014 & Caliente & Seco & 1319\\\\\n",
       "\t3 & 94107 & 9/3/2014 & Caliente & Seco & 1404\\\\\n",
       "\t4 & 94107 & 9/4/2014 & Caliente & Seco & 1389\\\\\n",
       "\t5 & 94107 & 9/5/2014 & Caliente & Seco & 1265\\\\\n",
       "\t6 & 94107 & 9/6/2014 & Caliente & Seco &  435\\\\\n",
       "\\end{tabular}\n"
      ],
      "text/markdown": [
       "\n",
       "A data.frame: 6 × 5\n",
       "\n",
       "| <!--/--> | Zip &lt;int&gt; | Fecha &lt;chr&gt; | Temp &lt;chr&gt; | Events &lt;fct&gt; | Viajes &lt;int&gt; |\n",
       "|---|---|---|---|---|---|\n",
       "| 1 | 94107 | 9/1/2014 | Caliente | Seco |  368 |\n",
       "| 2 | 94107 | 9/2/2014 | Caliente | Seco | 1319 |\n",
       "| 3 | 94107 | 9/3/2014 | Caliente | Seco | 1404 |\n",
       "| 4 | 94107 | 9/4/2014 | Caliente | Seco | 1389 |\n",
       "| 5 | 94107 | 9/5/2014 | Caliente | Seco | 1265 |\n",
       "| 6 | 94107 | 9/6/2014 | Caliente | Seco |  435 |\n",
       "\n"
      ],
      "text/plain": [
       "  Zip   Fecha    Temp     Events Viajes\n",
       "1 94107 9/1/2014 Caliente Seco    368  \n",
       "2 94107 9/2/2014 Caliente Seco   1319  \n",
       "3 94107 9/3/2014 Caliente Seco   1404  \n",
       "4 94107 9/4/2014 Caliente Seco   1389  \n",
       "5 94107 9/5/2014 Caliente Seco   1265  \n",
       "6 94107 9/6/2014 Caliente Seco    435  "
      ]
     },
     "metadata": {},
     "output_type": "display_data"
    }
   ],
   "source": [
    "dim(trips_bici)\n",
    "\n",
    "bicis_94107 <- left_join(clima_94107, trips.bici, by = 'Fecha')\n",
    "head(bicis_94107)"
   ]
  },
  {
   "cell_type": "code",
   "execution_count": 58,
   "metadata": {},
   "outputs": [
    {
     "data": {
      "text/html": [
       "<table>\n",
       "<caption>A tibble: 3 × 2</caption>\n",
       "<thead>\n",
       "\t<tr><th scope=col>Temp</th><th scope=col>Viajes</th></tr>\n",
       "\t<tr><th scope=col>&lt;chr&gt;</th><th scope=col>&lt;dbl&gt;</th></tr>\n",
       "</thead>\n",
       "<tbody>\n",
       "\t<tr><td>Caliente</td><td>1000</td></tr>\n",
       "\t<tr><td>Frio    </td><td> 612</td></tr>\n",
       "\t<tr><td>NA      </td><td> 603</td></tr>\n",
       "</tbody>\n",
       "</table>\n"
      ],
      "text/latex": [
       "A tibble: 3 × 2\n",
       "\\begin{tabular}{ll}\n",
       " Temp & Viajes\\\\\n",
       " <chr> & <dbl>\\\\\n",
       "\\hline\n",
       "\t Caliente & 1000\\\\\n",
       "\t Frio     &  612\\\\\n",
       "\t NA       &  603\\\\\n",
       "\\end{tabular}\n"
      ],
      "text/markdown": [
       "\n",
       "A tibble: 3 × 2\n",
       "\n",
       "| Temp &lt;chr&gt; | Viajes &lt;dbl&gt; |\n",
       "|---|---|\n",
       "| Caliente | 1000 |\n",
       "| Frio     |  612 |\n",
       "| NA       |  603 |\n",
       "\n"
      ],
      "text/plain": [
       "  Temp     Viajes\n",
       "1 Caliente 1000  \n",
       "2 Frio      612  \n",
       "3 NA        603  "
      ]
     },
     "metadata": {},
     "output_type": "display_data"
    }
   ],
   "source": [
    "bicis_94107 %>% group_by(Temp) %>% \n",
    "                summarize(Viajes = round(mean(Viajes), 0))"
   ]
  },
  {
   "cell_type": "code",
   "execution_count": 67,
   "metadata": {},
   "outputs": [
    {
     "data": {
      "text/html": [
       "<table>\n",
       "<caption>A grouped_df: 6 × 3</caption>\n",
       "<thead>\n",
       "\t<tr><th scope=col>Temp</th><th scope=col>Events</th><th scope=col>Viajes</th></tr>\n",
       "\t<tr><th scope=col>&lt;chr&gt;</th><th scope=col>&lt;fct&gt;</th><th scope=col>&lt;dbl&gt;</th></tr>\n",
       "</thead>\n",
       "<tbody>\n",
       "\t<tr><td>Caliente</td><td>Seco  </td><td>1030</td></tr>\n",
       "\t<tr><td>Caliente</td><td>Húmedo</td><td> 897</td></tr>\n",
       "\t<tr><td>Caliente</td><td>Mojado</td><td> 782</td></tr>\n",
       "\t<tr><td>Frio    </td><td>Seco  </td><td> 587</td></tr>\n",
       "\t<tr><td>Frio    </td><td>Húmedo</td><td> 756</td></tr>\n",
       "\t<tr><td>Frio    </td><td>Mojado</td><td> 627</td></tr>\n",
       "</tbody>\n",
       "</table>\n"
      ],
      "text/latex": [
       "A grouped\\_df: 6 × 3\n",
       "\\begin{tabular}{lll}\n",
       " Temp & Events & Viajes\\\\\n",
       " <chr> & <fct> & <dbl>\\\\\n",
       "\\hline\n",
       "\t Caliente & Seco   & 1030\\\\\n",
       "\t Caliente & Húmedo &  897\\\\\n",
       "\t Caliente & Mojado &  782\\\\\n",
       "\t Frio     & Seco   &  587\\\\\n",
       "\t Frio     & Húmedo &  756\\\\\n",
       "\t Frio     & Mojado &  627\\\\\n",
       "\\end{tabular}\n"
      ],
      "text/markdown": [
       "\n",
       "A grouped_df: 6 × 3\n",
       "\n",
       "| Temp &lt;chr&gt; | Events &lt;fct&gt; | Viajes &lt;dbl&gt; |\n",
       "|---|---|---|\n",
       "| Caliente | Seco   | 1030 |\n",
       "| Caliente | Húmedo |  897 |\n",
       "| Caliente | Mojado |  782 |\n",
       "| Frio     | Seco   |  587 |\n",
       "| Frio     | Húmedo |  756 |\n",
       "| Frio     | Mojado |  627 |\n",
       "\n"
      ],
      "text/plain": [
       "  Temp     Events Viajes\n",
       "1 Caliente Seco   1030  \n",
       "2 Caliente Húmedo  897  \n",
       "3 Caliente Mojado  782  \n",
       "4 Frio     Seco    587  \n",
       "5 Frio     Húmedo  756  \n",
       "6 Frio     Mojado  627  "
      ]
     },
     "metadata": {},
     "output_type": "display_data"
    }
   ],
   "source": [
    "clima_viajes <- bicis_94107 %>% \n",
    "                            filter(!is.na(Temp)) %>%\n",
    "                            group_by(Temp, Events) %>% \n",
    "                            summarize(Viajes = round(mean(Viajes), 0))\n",
    "\n",
    "clima_viajes"
   ]
  },
  {
   "cell_type": "markdown",
   "metadata": {},
   "source": [
    "# Cambiar el data.frame usando tidyr II (Pivot)\n",
    "\n",
    "spread(data, columnas, value = valores)\n",
    "\n",
    "http://garrettgman.github.io/tidying/\n",
    "\n",
    "dcast(variables id ~ variables que se convierten nombres columnas, valores) \n",
    "\n",
    "http://seananderson.ca/2013/10/19/reshape.html"
   ]
  },
  {
   "cell_type": "code",
   "execution_count": 68,
   "metadata": {},
   "outputs": [
    {
     "data": {
      "text/html": [
       "<table>\n",
       "<caption>A grouped_df: 6 × 3</caption>\n",
       "<thead>\n",
       "\t<tr><th scope=col>Temp</th><th scope=col>Events</th><th scope=col>Viajes</th></tr>\n",
       "\t<tr><th scope=col>&lt;chr&gt;</th><th scope=col>&lt;fct&gt;</th><th scope=col>&lt;dbl&gt;</th></tr>\n",
       "</thead>\n",
       "<tbody>\n",
       "\t<tr><td>Caliente</td><td>Seco  </td><td>1030</td></tr>\n",
       "\t<tr><td>Caliente</td><td>Húmedo</td><td> 897</td></tr>\n",
       "\t<tr><td>Caliente</td><td>Mojado</td><td> 782</td></tr>\n",
       "\t<tr><td>Frio    </td><td>Seco  </td><td> 587</td></tr>\n",
       "\t<tr><td>Frio    </td><td>Húmedo</td><td> 756</td></tr>\n",
       "\t<tr><td>Frio    </td><td>Mojado</td><td> 627</td></tr>\n",
       "</tbody>\n",
       "</table>\n"
      ],
      "text/latex": [
       "A grouped\\_df: 6 × 3\n",
       "\\begin{tabular}{lll}\n",
       " Temp & Events & Viajes\\\\\n",
       " <chr> & <fct> & <dbl>\\\\\n",
       "\\hline\n",
       "\t Caliente & Seco   & 1030\\\\\n",
       "\t Caliente & Húmedo &  897\\\\\n",
       "\t Caliente & Mojado &  782\\\\\n",
       "\t Frio     & Seco   &  587\\\\\n",
       "\t Frio     & Húmedo &  756\\\\\n",
       "\t Frio     & Mojado &  627\\\\\n",
       "\\end{tabular}\n"
      ],
      "text/markdown": [
       "\n",
       "A grouped_df: 6 × 3\n",
       "\n",
       "| Temp &lt;chr&gt; | Events &lt;fct&gt; | Viajes &lt;dbl&gt; |\n",
       "|---|---|---|\n",
       "| Caliente | Seco   | 1030 |\n",
       "| Caliente | Húmedo |  897 |\n",
       "| Caliente | Mojado |  782 |\n",
       "| Frio     | Seco   |  587 |\n",
       "| Frio     | Húmedo |  756 |\n",
       "| Frio     | Mojado |  627 |\n",
       "\n"
      ],
      "text/plain": [
       "  Temp     Events Viajes\n",
       "1 Caliente Seco   1030  \n",
       "2 Caliente Húmedo  897  \n",
       "3 Caliente Mojado  782  \n",
       "4 Frio     Seco    587  \n",
       "5 Frio     Húmedo  756  \n",
       "6 Frio     Mojado  627  "
      ]
     },
     "metadata": {},
     "output_type": "display_data"
    }
   ],
   "source": [
    "clima_viajes"
   ]
  },
  {
   "cell_type": "code",
   "execution_count": 71,
   "metadata": {},
   "outputs": [
    {
     "data": {
      "text/html": [
       "<table>\n",
       "<caption>A grouped_df: 2 × 4</caption>\n",
       "<thead>\n",
       "\t<tr><th scope=col>Temp</th><th scope=col>Seco</th><th scope=col>Húmedo</th><th scope=col>Mojado</th></tr>\n",
       "\t<tr><th scope=col>&lt;chr&gt;</th><th scope=col>&lt;dbl&gt;</th><th scope=col>&lt;dbl&gt;</th><th scope=col>&lt;dbl&gt;</th></tr>\n",
       "</thead>\n",
       "<tbody>\n",
       "\t<tr><td>Caliente</td><td>1030</td><td>897</td><td>782</td></tr>\n",
       "\t<tr><td>Frio    </td><td> 587</td><td>756</td><td>627</td></tr>\n",
       "</tbody>\n",
       "</table>\n"
      ],
      "text/latex": [
       "A grouped\\_df: 2 × 4\n",
       "\\begin{tabular}{llll}\n",
       " Temp & Seco & Húmedo & Mojado\\\\\n",
       " <chr> & <dbl> & <dbl> & <dbl>\\\\\n",
       "\\hline\n",
       "\t Caliente & 1030 & 897 & 782\\\\\n",
       "\t Frio     &  587 & 756 & 627\\\\\n",
       "\\end{tabular}\n"
      ],
      "text/markdown": [
       "\n",
       "A grouped_df: 2 × 4\n",
       "\n",
       "| Temp &lt;chr&gt; | Seco &lt;dbl&gt; | Húmedo &lt;dbl&gt; | Mojado &lt;dbl&gt; |\n",
       "|---|---|---|---|\n",
       "| Caliente | 1030 | 897 | 782 |\n",
       "| Frio     |  587 | 756 | 627 |\n",
       "\n"
      ],
      "text/plain": [
       "  Temp     Seco Húmedo Mojado\n",
       "1 Caliente 1030 897    782   \n",
       "2 Frio      587 756    627   "
      ]
     },
     "metadata": {},
     "output_type": "display_data"
    }
   ],
   "source": [
    "clima_viajes_wide <- clima_viajes %>% pivot_wider(names_from = \"Events\", values_from = \"Viajes\")\n",
    "clima_viajes_wide"
   ]
  },
  {
   "cell_type": "code",
   "execution_count": 72,
   "metadata": {},
   "outputs": [
    {
     "data": {
      "text/html": [
       "<table>\n",
       "<caption>A grouped_df: 6 × 3</caption>\n",
       "<thead>\n",
       "\t<tr><th scope=col>Temp</th><th scope=col>Events</th><th scope=col>Viajes</th></tr>\n",
       "\t<tr><th scope=col>&lt;chr&gt;</th><th scope=col>&lt;chr&gt;</th><th scope=col>&lt;dbl&gt;</th></tr>\n",
       "</thead>\n",
       "<tbody>\n",
       "\t<tr><td>Caliente</td><td>Seco  </td><td>1030</td></tr>\n",
       "\t<tr><td>Caliente</td><td>Húmedo</td><td> 897</td></tr>\n",
       "\t<tr><td>Caliente</td><td>Mojado</td><td> 782</td></tr>\n",
       "\t<tr><td>Frio    </td><td>Seco  </td><td> 587</td></tr>\n",
       "\t<tr><td>Frio    </td><td>Húmedo</td><td> 756</td></tr>\n",
       "\t<tr><td>Frio    </td><td>Mojado</td><td> 627</td></tr>\n",
       "</tbody>\n",
       "</table>\n"
      ],
      "text/latex": [
       "A grouped\\_df: 6 × 3\n",
       "\\begin{tabular}{lll}\n",
       " Temp & Events & Viajes\\\\\n",
       " <chr> & <chr> & <dbl>\\\\\n",
       "\\hline\n",
       "\t Caliente & Seco   & 1030\\\\\n",
       "\t Caliente & Húmedo &  897\\\\\n",
       "\t Caliente & Mojado &  782\\\\\n",
       "\t Frio     & Seco   &  587\\\\\n",
       "\t Frio     & Húmedo &  756\\\\\n",
       "\t Frio     & Mojado &  627\\\\\n",
       "\\end{tabular}\n"
      ],
      "text/markdown": [
       "\n",
       "A grouped_df: 6 × 3\n",
       "\n",
       "| Temp &lt;chr&gt; | Events &lt;chr&gt; | Viajes &lt;dbl&gt; |\n",
       "|---|---|---|\n",
       "| Caliente | Seco   | 1030 |\n",
       "| Caliente | Húmedo |  897 |\n",
       "| Caliente | Mojado |  782 |\n",
       "| Frio     | Seco   |  587 |\n",
       "| Frio     | Húmedo |  756 |\n",
       "| Frio     | Mojado |  627 |\n",
       "\n"
      ],
      "text/plain": [
       "  Temp     Events Viajes\n",
       "1 Caliente Seco   1030  \n",
       "2 Caliente Húmedo  897  \n",
       "3 Caliente Mojado  782  \n",
       "4 Frio     Seco    587  \n",
       "5 Frio     Húmedo  756  \n",
       "6 Frio     Mojado  627  "
      ]
     },
     "metadata": {},
     "output_type": "display_data"
    }
   ],
   "source": [
    "clima_viajes_wide %>% pivot_longer(cols = c(\"Seco\", \"Húmedo\", \"Mojado\"), names_to = \"Events\", values_to = \"Viajes\")"
   ]
  },
  {
   "cell_type": "code",
   "execution_count": 74,
   "metadata": {},
   "outputs": [
    {
     "data": {
      "image/png": "[encoded data removed]",
      "text/plain": [
       "plot without title"
      ]
     },
     "metadata": {},
     "output_type": "display_data"
    }
   ],
   "source": [
    "ggplot(clima_viajes, aes(x = Temp, y = Viajes)) + \n",
    "            geom_bar(stat=\"identity\", position=\"dodge\", aes(fill=Events))"
   ]
  },
  {
   "cell_type": "code",
   "execution_count": 77,
   "metadata": {},
   "outputs": [
    {
     "data": {
      "text/html": [
       "<table>\n",
       "<caption>A grouped_df: 3 × 3</caption>\n",
       "<thead>\n",
       "\t<tr><th scope=col>Events</th><th scope=col>Caliente</th><th scope=col>Frio</th></tr>\n",
       "\t<tr><th scope=col>&lt;fct&gt;</th><th scope=col>&lt;int&gt;</th><th scope=col>&lt;int&gt;</th></tr>\n",
       "</thead>\n",
       "<tbody>\n",
       "\t<tr><td>Seco  </td><td>1443</td><td>91</td></tr>\n",
       "\t<tr><td>Húmedo</td><td>  76</td><td>13</td></tr>\n",
       "\t<tr><td>Mojado</td><td> 168</td><td>30</td></tr>\n",
       "</tbody>\n",
       "</table>\n"
      ],
      "text/latex": [
       "A grouped\\_df: 3 × 3\n",
       "\\begin{tabular}{lll}\n",
       " Events & Caliente & Frio\\\\\n",
       " <fct> & <int> & <int>\\\\\n",
       "\\hline\n",
       "\t Seco   & 1443 & 91\\\\\n",
       "\t Húmedo &   76 & 13\\\\\n",
       "\t Mojado &  168 & 30\\\\\n",
       "\\end{tabular}\n"
      ],
      "text/markdown": [
       "\n",
       "A grouped_df: 3 × 3\n",
       "\n",
       "| Events &lt;fct&gt; | Caliente &lt;int&gt; | Frio &lt;int&gt; |\n",
       "|---|---|---|\n",
       "| Seco   | 1443 | 91 |\n",
       "| Húmedo |   76 | 13 |\n",
       "| Mojado |  168 | 30 |\n",
       "\n"
      ],
      "text/plain": [
       "  Events Caliente Frio\n",
       "1 Seco   1443     91  \n",
       "2 Húmedo   76     13  \n",
       "3 Mojado  168     30  "
      ]
     },
     "metadata": {},
     "output_type": "display_data"
    }
   ],
   "source": [
    "bicis_94107 %>% \n",
    "        filter(!is.na(Temp)) %>%\n",
    "        group_by(Events, Temp) %>% \n",
    "        summarise(Dias = n()) %>%\n",
    "        pivot_wider(names_from = \"Temp\", values_from = \"Dias\")"
   ]
  },
  {
   "cell_type": "code",
   "execution_count": null,
   "metadata": {},
   "outputs": [],
   "source": []
  }
 ],
 "metadata": {
  "anaconda-cloud": {},
  "kernelspec": {
   "display_name": "R",
   "language": "R",
   "name": "ir"
  },
  "language_info": {
   "codemirror_mode": "r",
   "file_extension": ".r",
   "mimetype": "text/x-r-source",
   "name": "R",
   "pygments_lexer": "r",
   "version": "3.6.3"
  }
 },
 "nbformat": 4,
 "nbformat_minor": 1
}
