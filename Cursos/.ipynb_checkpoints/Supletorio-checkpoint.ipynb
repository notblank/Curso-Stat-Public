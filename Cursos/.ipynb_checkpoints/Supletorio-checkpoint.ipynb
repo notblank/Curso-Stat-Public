{
 "cells": [
  {
   "cell_type": "code",
   "execution_count": 1,
   "metadata": {},
   "outputs": [
    {
     "name": "stderr",
     "output_type": "stream",
     "text": [
      "\n",
      "Attaching package: 'dplyr'\n",
      "\n",
      "The following objects are masked from 'package:stats':\n",
      "\n",
      "    filter, lag\n",
      "\n",
      "The following objects are masked from 'package:base':\n",
      "\n",
      "    intersect, setdiff, setequal, union\n",
      "\n"
     ]
    }
   ],
   "source": [
    "library(dplyr)\n",
    "library(tidyr)\n",
    "library(ggplot2)"
   ]
  },
  {
   "cell_type": "code",
   "execution_count": 35,
   "metadata": {},
   "outputs": [
    {
     "data": {
      "text/html": [
       "<table>\n",
       "<thead><tr><th scope=col>altura</th><th scope=col>peso</th><th scope=col>sueldo</th><th scope=col>sexo</th></tr></thead>\n",
       "<tbody>\n",
       "\t<tr><td>167.64</td><td>140   </td><td>NA    </td><td>2     </td></tr>\n",
       "\t<tr><td>162.56</td><td>150   </td><td>NA    </td><td>1     </td></tr>\n",
       "\t<tr><td>187.96</td><td>210   </td><td>50    </td><td>1     </td></tr>\n",
       "\t<tr><td>167.64</td><td>125   </td><td>60    </td><td>2     </td></tr>\n",
       "\t<tr><td>162.56</td><td>126   </td><td>30    </td><td>2     </td></tr>\n",
       "\t<tr><td>165.10</td><td>200   </td><td>25    </td><td>2     </td></tr>\n",
       "</tbody>\n",
       "</table>\n"
      ],
      "text/latex": [
       "\\begin{tabular}{r|llll}\n",
       " altura & peso & sueldo & sexo\\\\\n",
       "\\hline\n",
       "\t 167.64 & 140    & NA     & 2     \\\\\n",
       "\t 162.56 & 150    & NA     & 1     \\\\\n",
       "\t 187.96 & 210    & 50     & 1     \\\\\n",
       "\t 167.64 & 125    & 60     & 2     \\\\\n",
       "\t 162.56 & 126    & 30     & 2     \\\\\n",
       "\t 165.10 & 200    & 25     & 2     \\\\\n",
       "\\end{tabular}\n"
      ],
      "text/markdown": [
       "\n",
       "altura | peso | sueldo | sexo | \n",
       "|---|---|---|---|---|---|\n",
       "| 167.64 | 140    | NA     | 2      | \n",
       "| 162.56 | 150    | NA     | 1      | \n",
       "| 187.96 | 210    | 50     | 1      | \n",
       "| 167.64 | 125    | 60     | 2      | \n",
       "| 162.56 | 126    | 30     | 2      | \n",
       "| 165.10 | 200    | 25     | 2      | \n",
       "\n",
       "\n"
      ],
      "text/plain": [
       "  altura peso sueldo sexo\n",
       "1 167.64 140  NA     2   \n",
       "2 162.56 150  NA     1   \n",
       "3 187.96 210  50     1   \n",
       "4 167.64 125  60     2   \n",
       "5 162.56 126  30     2   \n",
       "6 165.10 200  25     2   "
      ]
     },
     "metadata": {},
     "output_type": "display_data"
    }
   ],
   "source": [
    "sueldo <- read.table(file = \"C:././../../Tables/sueldo.csv\")\n",
    "head(sueldo)"
   ]
  },
  {
   "cell_type": "code",
   "execution_count": 36,
   "metadata": {},
   "outputs": [
    {
     "name": "stderr",
     "output_type": "stream",
     "text": [
      "Warning message:\n",
      "\"Removed 241 rows containing missing values (geom_point).\""
     ]
    },
    {
     "data": {},
     "metadata": {},
     "output_type": "display_data"
    },
    {
     "data": {
      "image/png": "[encoded data removed]",
      "text/plain": [
       "plot without title"
      ]
     },
     "metadata": {},
     "output_type": "display_data"
    }
   ],
   "source": [
    "ggplot(sueldo, aes(x=altura, y=sueldo)) + geom_point()"
   ]
  },
  {
   "cell_type": "code",
   "execution_count": 15,
   "metadata": {},
   "outputs": [
    {
     "data": {
      "text/plain": [
       "\n",
       "Call:\n",
       "lm(formula = sueldo ~ altura, data = sueldo)\n",
       "\n",
       "Coefficients:\n",
       "(Intercept)       altura  \n",
       "   -80.8598       0.6025  \n"
      ]
     },
     "metadata": {},
     "output_type": "display_data"
    }
   ],
   "source": [
    "lm(sueldo~altura, sueldo)"
   ]
  },
  {
   "cell_type": "code",
   "execution_count": 44,
   "metadata": {},
   "outputs": [
    {
     "name": "stderr",
     "output_type": "stream",
     "text": [
      "Warning message:\n",
      "\"Removed 241 rows containing non-finite values (stat_smooth).\"Warning message:\n",
      "\"Removed 241 rows containing missing values (geom_point).\""
     ]
    },
    {
     "data": {},
     "metadata": {},
     "output_type": "display_data"
    },
    {
     "data": {
      "image/png": "[encoded data removed]",
      "text/plain": [
       "plot without title"
      ]
     },
     "metadata": {},
     "output_type": "display_data"
    }
   ],
   "source": [
    "ggplot(sueldo, aes(x=altura, y=sueldo)) + \n",
    "        geom_point() +\n",
    "        geom_smooth(method=lm, se=FALSE, size=1.5)"
   ]
  },
  {
   "cell_type": "code",
   "execution_count": 22,
   "metadata": {},
   "outputs": [
    {
     "data": {
      "text/plain": [
       "\n",
       "Call:\n",
       "lm(formula = sueldo ~ altura, data = hombres)\n",
       "\n",
       "Coefficients:\n",
       "(Intercept)       altura  \n",
       "   -31.5035       0.3446  \n"
      ]
     },
     "metadata": {},
     "output_type": "display_data"
    },
    {
     "data": {
      "text/plain": [
       "\n",
       "Call:\n",
       "lm(formula = sueldo ~ altura, data = mujeres)\n",
       "\n",
       "Coefficients:\n",
       "(Intercept)       altura  \n",
       "    -4.8438       0.1259  \n"
      ]
     },
     "metadata": {},
     "output_type": "display_data"
    }
   ],
   "source": [
    "hombres <- sueldo %>% filter(sexo == 1)\n",
    "mujeres <- sueldo %>% filter(sexo == 2)\n",
    "\n",
    "\n",
    "lm(sueldo~altura, hombres)\n",
    "lm(sueldo~altura, mujeres)"
   ]
  },
  {
   "cell_type": "code",
   "execution_count": 43,
   "metadata": {},
   "outputs": [
    {
     "name": "stderr",
     "output_type": "stream",
     "text": [
      "Warning message:\n",
      "\"Removed 241 rows containing missing values (geom_point).\""
     ]
    },
    {
     "data": {},
     "metadata": {},
     "output_type": "display_data"
    },
    {
     "data": {
      "image/png": "[encoded data removed]",
      "text/plain": [
       "plot without title"
      ]
     },
     "metadata": {},
     "output_type": "display_data"
    }
   ],
   "source": [
    "ggplot(sueldo, aes(x=altura, y=sueldo)) + \n",
    "        geom_point() +\n",
    "        geom_abline(slope = 0.3446, intercept = -31.5035, color=\"blue\", size=1.5, alpha=0.5) + \n",
    "        geom_abline(slope = 0.1259 , intercept = -4.8438, color=\"red\", size=1.5, alpha=0.5)"
   ]
  }
 ],
 "metadata": {
  "kernelspec": {
   "display_name": "R 3.3",
   "language": "R",
   "name": "ir33"
  },
  "language_info": {
   "codemirror_mode": "r",
   "file_extension": ".r",
   "mimetype": "text/x-r-source",
   "name": "R",
   "pygments_lexer": "r",
   "version": "3.3.3"
  }
 },
 "nbformat": 4,
 "nbformat_minor": 2
}
