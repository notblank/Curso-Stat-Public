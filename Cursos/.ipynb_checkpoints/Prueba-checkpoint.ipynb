{
 "cells": [
  {
   "cell_type": "code",
   "execution_count": 2,
   "metadata": {},
   "outputs": [],
   "source": [
    "# https://www.r-bloggers.com/more-tidyverse-using-dplyr-functions/\n",
    "library(tidyverse)\n",
    "library(gapminder)\n"
   ]
  },
  {
   "cell_type": "code",
   "execution_count": 25,
   "metadata": {},
   "outputs": [
    {
     "data": {
      "text/html": [
       "<table>\n",
       "<thead><tr><th scope=col>country</th><th scope=col>continent</th><th scope=col>year</th><th scope=col>lifeExp</th><th scope=col>pop</th><th scope=col>gdpPercap</th></tr></thead>\n",
       "<tbody>\n",
       "\t<tr><td>Afghanistan</td><td>Asia       </td><td>1952       </td><td>28.801     </td><td>8425333    </td><td>779.4453   </td></tr>\n",
       "\t<tr><td>Rwanda     </td><td>Africa     </td><td>1992       </td><td>23.599     </td><td>7290203    </td><td>737.0686   </td></tr>\n",
       "</tbody>\n",
       "</table>\n"
      ],
      "text/latex": [
       "\\begin{tabular}{r|llllll}\n",
       " country & continent & year & lifeExp & pop & gdpPercap\\\\\n",
       "\\hline\n",
       "\t Afghanistan & Asia        & 1952        & 28.801      & 8425333     & 779.4453   \\\\\n",
       "\t Rwanda      & Africa      & 1992        & 23.599      & 7290203     & 737.0686   \\\\\n",
       "\\end{tabular}\n"
      ],
      "text/markdown": [
       "\n",
       "country | continent | year | lifeExp | pop | gdpPercap | \n",
       "|---|---|\n",
       "| Afghanistan | Asia        | 1952        | 28.801      | 8425333     | 779.4453    | \n",
       "| Rwanda      | Africa      | 1992        | 23.599      | 7290203     | 737.0686    | \n",
       "\n",
       "\n"
      ],
      "text/plain": [
       "  country     continent year lifeExp pop     gdpPercap\n",
       "1 Afghanistan Asia      1952 28.801  8425333 779.4453 \n",
       "2 Rwanda      Africa    1992 23.599  7290203 737.0686 "
      ]
     },
     "metadata": {},
     "output_type": "display_data"
    }
   ],
   "source": [
    "gapminder %>% filter(c(lifeExp < 30))"
   ]
  },
  {
   "cell_type": "code",
   "execution_count": 6,
   "metadata": {},
   "outputs": [
    {
     "data": {
      "text/html": [
       "<table>\n",
       "<thead><tr><th scope=col>country</th><th scope=col>continent</th><th scope=col>year</th><th scope=col>lifeExp</th><th scope=col>pop</th><th scope=col>gdpPercap</th></tr></thead>\n",
       "<tbody>\n",
       "\t<tr><td>Japan           </td><td>Asia            </td><td>2007            </td><td>82.603          </td><td>127467972       </td><td>31656.07        </td></tr>\n",
       "\t<tr><td>Hong Kong, China</td><td>Asia            </td><td>2007            </td><td>82.208          </td><td>  6980412       </td><td>39724.98        </td></tr>\n",
       "\t<tr><td>Japan           </td><td>Asia            </td><td>2002            </td><td>82.000          </td><td>127065841       </td><td>28604.59        </td></tr>\n",
       "\t<tr><td>Iceland         </td><td>Europe          </td><td>2007            </td><td>81.757          </td><td>   301931       </td><td>36180.79        </td></tr>\n",
       "\t<tr><td>Switzerland     </td><td>Europe          </td><td>2007            </td><td>81.701          </td><td>  7554661       </td><td>37506.42        </td></tr>\n",
       "\t<tr><td>Hong Kong, China</td><td>Asia            </td><td>2002            </td><td>81.495          </td><td>  6762476       </td><td>30209.02        </td></tr>\n",
       "</tbody>\n",
       "</table>\n"
      ],
      "text/latex": [
       "\\begin{tabular}{r|llllll}\n",
       " country & continent & year & lifeExp & pop & gdpPercap\\\\\n",
       "\\hline\n",
       "\t Japan            & Asia             & 2007             & 82.603           & 127467972        & 31656.07        \\\\\n",
       "\t Hong Kong, China & Asia             & 2007             & 82.208           &   6980412        & 39724.98        \\\\\n",
       "\t Japan            & Asia             & 2002             & 82.000           & 127065841        & 28604.59        \\\\\n",
       "\t Iceland          & Europe           & 2007             & 81.757           &    301931        & 36180.79        \\\\\n",
       "\t Switzerland      & Europe           & 2007             & 81.701           &   7554661        & 37506.42        \\\\\n",
       "\t Hong Kong, China & Asia             & 2002             & 81.495           &   6762476        & 30209.02        \\\\\n",
       "\\end{tabular}\n"
      ],
      "text/markdown": [
       "\n",
       "country | continent | year | lifeExp | pop | gdpPercap | \n",
       "|---|---|---|---|---|---|\n",
       "| Japan            | Asia             | 2007             | 82.603           | 127467972        | 31656.07         | \n",
       "| Hong Kong, China | Asia             | 2007             | 82.208           |   6980412        | 39724.98         | \n",
       "| Japan            | Asia             | 2002             | 82.000           | 127065841        | 28604.59         | \n",
       "| Iceland          | Europe           | 2007             | 81.757           |    301931        | 36180.79         | \n",
       "| Switzerland      | Europe           | 2007             | 81.701           |   7554661        | 37506.42         | \n",
       "| Hong Kong, China | Asia             | 2002             | 81.495           |   6762476        | 30209.02         | \n",
       "\n",
       "\n"
      ],
      "text/plain": [
       "  country          continent year lifeExp pop       gdpPercap\n",
       "1 Japan            Asia      2007 82.603  127467972 31656.07 \n",
       "2 Hong Kong, China Asia      2007 82.208    6980412 39724.98 \n",
       "3 Japan            Asia      2002 82.000  127065841 28604.59 \n",
       "4 Iceland          Europe    2007 81.757     301931 36180.79 \n",
       "5 Switzerland      Europe    2007 81.701    7554661 37506.42 \n",
       "6 Hong Kong, China Asia      2002 81.495    6762476 30209.02 "
      ]
     },
     "metadata": {},
     "output_type": "display_data"
    },
    {
     "data": {
      "text/html": [
       "<table>\n",
       "<thead><tr><th scope=col>country</th><th scope=col>continent</th><th scope=col>year</th><th scope=col>lifeExp</th><th scope=col>pop</th><th scope=col>gdpPercap</th></tr></thead>\n",
       "<tbody>\n",
       "\t<tr><td>Rwanda      </td><td>Africa      </td><td>1992        </td><td>23.599      </td><td>7290203     </td><td> 737.0686   </td></tr>\n",
       "\t<tr><td>Afghanistan </td><td>Asia        </td><td>1952        </td><td>28.801      </td><td>8425333     </td><td> 779.4453   </td></tr>\n",
       "\t<tr><td>Gambia      </td><td>Africa      </td><td>1952        </td><td>30.000      </td><td> 284320     </td><td> 485.2307   </td></tr>\n",
       "\t<tr><td>Angola      </td><td>Africa      </td><td>1952        </td><td>30.015      </td><td>4232095     </td><td>3520.6103   </td></tr>\n",
       "\t<tr><td>Sierra Leone</td><td>Africa      </td><td>1952        </td><td>30.331      </td><td>2143249     </td><td> 879.7877   </td></tr>\n",
       "\t<tr><td>Afghanistan </td><td>Asia        </td><td>1957        </td><td>30.332      </td><td>9240934     </td><td> 820.8530   </td></tr>\n",
       "</tbody>\n",
       "</table>\n"
      ],
      "text/latex": [
       "\\begin{tabular}{r|llllll}\n",
       " country & continent & year & lifeExp & pop & gdpPercap\\\\\n",
       "\\hline\n",
       "\t Rwanda       & Africa       & 1992         & 23.599       & 7290203      &  737.0686   \\\\\n",
       "\t Afghanistan  & Asia         & 1952         & 28.801       & 8425333      &  779.4453   \\\\\n",
       "\t Gambia       & Africa       & 1952         & 30.000       &  284320      &  485.2307   \\\\\n",
       "\t Angola       & Africa       & 1952         & 30.015       & 4232095      & 3520.6103   \\\\\n",
       "\t Sierra Leone & Africa       & 1952         & 30.331       & 2143249      &  879.7877   \\\\\n",
       "\t Afghanistan  & Asia         & 1957         & 30.332       & 9240934      &  820.8530   \\\\\n",
       "\\end{tabular}\n"
      ],
      "text/markdown": [
       "\n",
       "country | continent | year | lifeExp | pop | gdpPercap | \n",
       "|---|---|---|---|---|---|\n",
       "| Rwanda       | Africa       | 1992         | 23.599       | 7290203      |  737.0686    | \n",
       "| Afghanistan  | Asia         | 1952         | 28.801       | 8425333      |  779.4453    | \n",
       "| Gambia       | Africa       | 1952         | 30.000       |  284320      |  485.2307    | \n",
       "| Angola       | Africa       | 1952         | 30.015       | 4232095      | 3520.6103    | \n",
       "| Sierra Leone | Africa       | 1952         | 30.331       | 2143249      |  879.7877    | \n",
       "| Afghanistan  | Asia         | 1957         | 30.332       | 9240934      |  820.8530    | \n",
       "\n",
       "\n"
      ],
      "text/plain": [
       "  country      continent year lifeExp pop     gdpPercap\n",
       "1 Rwanda       Africa    1992 23.599  7290203  737.0686\n",
       "2 Afghanistan  Asia      1952 28.801  8425333  779.4453\n",
       "3 Gambia       Africa    1952 30.000   284320  485.2307\n",
       "4 Angola       Africa    1952 30.015  4232095 3520.6103\n",
       "5 Sierra Leone Africa    1952 30.331  2143249  879.7877\n",
       "6 Afghanistan  Asia      1957 30.332  9240934  820.8530"
      ]
     },
     "metadata": {},
     "output_type": "display_data"
    }
   ],
   "source": [
    "#pregunta 1\n",
    "gapminder %>% arrange(desc(lifeExp)) %>% head()\n",
    "gapminder %>% arrange(lifeExp) %>% head()\n"
   ]
  },
  {
   "cell_type": "code",
   "execution_count": 18,
   "metadata": {},
   "outputs": [
    {
     "data": {
      "text/html": [
       "<table>\n",
       "<thead><tr><th scope=col>country</th><th scope=col>n</th></tr></thead>\n",
       "<tbody>\n",
       "\t<tr><td>Afghanistan</td><td>1          </td></tr>\n",
       "\t<tr><td>Rwanda     </td><td>1          </td></tr>\n",
       "</tbody>\n",
       "</table>\n"
      ],
      "text/latex": [
       "\\begin{tabular}{r|ll}\n",
       " country & n\\\\\n",
       "\\hline\n",
       "\t Afghanistan & 1          \\\\\n",
       "\t Rwanda      & 1          \\\\\n",
       "\\end{tabular}\n"
      ],
      "text/markdown": [
       "\n",
       "country | n | \n",
       "|---|---|\n",
       "| Afghanistan | 1           | \n",
       "| Rwanda      | 1           | \n",
       "\n",
       "\n"
      ],
      "text/plain": [
       "  country     n\n",
       "1 Afghanistan 1\n",
       "2 Rwanda      1"
      ]
     },
     "metadata": {},
     "output_type": "display_data"
    }
   ],
   "source": [
    "gapminder %>% filter(lifeExp<30) %>% group_by(country) %>% summarize(n=n())"
   ]
  },
  {
   "cell_type": "code",
   "execution_count": 13,
   "metadata": {},
   "outputs": [
    {
     "data": {
      "text/html": [
       "<table>\n",
       "<thead><tr><th scope=col>country</th><th scope=col>continent</th><th scope=col>year</th><th scope=col>lifeExp</th><th scope=col>pop</th><th scope=col>gdpPercap</th></tr></thead>\n",
       "<tbody>\n",
       "\t<tr><td>Afghanistan</td><td>Asia       </td><td>1952       </td><td>28.801     </td><td>8425333    </td><td>779.4453   </td></tr>\n",
       "\t<tr><td>Rwanda     </td><td>Africa     </td><td>1992       </td><td>23.599     </td><td>7290203    </td><td>737.0686   </td></tr>\n",
       "</tbody>\n",
       "</table>\n"
      ],
      "text/latex": [
       "\\begin{tabular}{r|llllll}\n",
       " country & continent & year & lifeExp & pop & gdpPercap\\\\\n",
       "\\hline\n",
       "\t Afghanistan & Asia        & 1952        & 28.801      & 8425333     & 779.4453   \\\\\n",
       "\t Rwanda      & Africa      & 1992        & 23.599      & 7290203     & 737.0686   \\\\\n",
       "\\end{tabular}\n"
      ],
      "text/markdown": [
       "\n",
       "country | continent | year | lifeExp | pop | gdpPercap | \n",
       "|---|---|\n",
       "| Afghanistan | Asia        | 1952        | 28.801      | 8425333     | 779.4453    | \n",
       "| Rwanda      | Africa      | 1992        | 23.599      | 7290203     | 737.0686    | \n",
       "\n",
       "\n"
      ],
      "text/plain": [
       "  country     continent year lifeExp pop     gdpPercap\n",
       "1 Afghanistan Asia      1952 28.801  8425333 779.4453 \n",
       "2 Rwanda      Africa    1992 23.599  7290203 737.0686 "
      ]
     },
     "metadata": {},
     "output_type": "display_data"
    },
    {
     "data": {
      "text/html": [
       "<table>\n",
       "<thead><tr><th scope=col>country</th><th scope=col>continent</th><th scope=col>year</th><th scope=col>lifeExp</th><th scope=col>pop</th><th scope=col>gdpPercap</th></tr></thead>\n",
       "<tbody>\n",
       "\t<tr><td>Afghanistan</td><td>Asia       </td><td>1952       </td><td>28.801     </td><td>8425333    </td><td>779.4453   </td></tr>\n",
       "\t<tr><td>Rwanda     </td><td>Africa     </td><td>1992       </td><td>23.599     </td><td>7290203    </td><td>737.0686   </td></tr>\n",
       "</tbody>\n",
       "</table>\n"
      ],
      "text/latex": [
       "\\begin{tabular}{r|llllll}\n",
       " country & continent & year & lifeExp & pop & gdpPercap\\\\\n",
       "\\hline\n",
       "\t Afghanistan & Asia        & 1952        & 28.801      & 8425333     & 779.4453   \\\\\n",
       "\t Rwanda      & Africa      & 1992        & 23.599      & 7290203     & 737.0686   \\\\\n",
       "\\end{tabular}\n"
      ],
      "text/markdown": [
       "\n",
       "country | continent | year | lifeExp | pop | gdpPercap | \n",
       "|---|---|\n",
       "| Afghanistan | Asia        | 1952        | 28.801      | 8425333     | 779.4453    | \n",
       "| Rwanda      | Africa      | 1992        | 23.599      | 7290203     | 737.0686    | \n",
       "\n",
       "\n"
      ],
      "text/plain": [
       "  country     continent year lifeExp pop     gdpPercap\n",
       "1 Afghanistan Asia      1952 28.801  8425333 779.4453 \n",
       "2 Rwanda      Africa    1992 23.599  7290203 737.0686 "
      ]
     },
     "metadata": {},
     "output_type": "display_data"
    }
   ],
   "source": [
    "# pregunta 2\n",
    "\n",
    "subset(gapminder, gapminder$lifeExp <30)\n",
    "gapminder %>% filter(lifeExp<30)"
   ]
  },
  {
   "cell_type": "code",
   "execution_count": 14,
   "metadata": {},
   "outputs": [
    {
     "data": {
      "text/html": [
       "<table>\n",
       "<thead><tr><th scope=col>country</th><th scope=col>continent</th><th scope=col>year</th><th scope=col>lifeExp</th><th scope=col>pop</th><th scope=col>gdpPercap</th><th scope=col>GPD</th></tr></thead>\n",
       "<tbody>\n",
       "\t<tr><td>Afghanistan</td><td>Asia       </td><td>1952       </td><td>28.801     </td><td> 8425333   </td><td>779.4453   </td><td> 6567086330</td></tr>\n",
       "\t<tr><td>Afghanistan</td><td>Asia       </td><td>1957       </td><td>30.332     </td><td> 9240934   </td><td>820.8530   </td><td> 7585448670</td></tr>\n",
       "\t<tr><td>Afghanistan</td><td>Asia       </td><td>1962       </td><td>31.997     </td><td>10267083   </td><td>853.1007   </td><td> 8758855797</td></tr>\n",
       "\t<tr><td>Afghanistan</td><td>Asia       </td><td>1967       </td><td>34.020     </td><td>11537966   </td><td>836.1971   </td><td> 9648014150</td></tr>\n",
       "\t<tr><td>Afghanistan</td><td>Asia       </td><td>1972       </td><td>36.088     </td><td>13079460   </td><td>739.9811   </td><td> 9678553274</td></tr>\n",
       "\t<tr><td>Afghanistan</td><td>Asia       </td><td>1977       </td><td>38.438     </td><td>14880372   </td><td>786.1134   </td><td>11697659231</td></tr>\n",
       "</tbody>\n",
       "</table>\n"
      ],
      "text/latex": [
       "\\begin{tabular}{r|lllllll}\n",
       " country & continent & year & lifeExp & pop & gdpPercap & GPD\\\\\n",
       "\\hline\n",
       "\t Afghanistan & Asia        & 1952        & 28.801      &  8425333    & 779.4453    &  6567086330\\\\\n",
       "\t Afghanistan & Asia        & 1957        & 30.332      &  9240934    & 820.8530    &  7585448670\\\\\n",
       "\t Afghanistan & Asia        & 1962        & 31.997      & 10267083    & 853.1007    &  8758855797\\\\\n",
       "\t Afghanistan & Asia        & 1967        & 34.020      & 11537966    & 836.1971    &  9648014150\\\\\n",
       "\t Afghanistan & Asia        & 1972        & 36.088      & 13079460    & 739.9811    &  9678553274\\\\\n",
       "\t Afghanistan & Asia        & 1977        & 38.438      & 14880372    & 786.1134    & 11697659231\\\\\n",
       "\\end{tabular}\n"
      ],
      "text/markdown": [
       "\n",
       "country | continent | year | lifeExp | pop | gdpPercap | GPD | \n",
       "|---|---|---|---|---|---|\n",
       "| Afghanistan | Asia        | 1952        | 28.801      |  8425333    | 779.4453    |  6567086330 | \n",
       "| Afghanistan | Asia        | 1957        | 30.332      |  9240934    | 820.8530    |  7585448670 | \n",
       "| Afghanistan | Asia        | 1962        | 31.997      | 10267083    | 853.1007    |  8758855797 | \n",
       "| Afghanistan | Asia        | 1967        | 34.020      | 11537966    | 836.1971    |  9648014150 | \n",
       "| Afghanistan | Asia        | 1972        | 36.088      | 13079460    | 739.9811    |  9678553274 | \n",
       "| Afghanistan | Asia        | 1977        | 38.438      | 14880372    | 786.1134    | 11697659231 | \n",
       "\n",
       "\n"
      ],
      "text/plain": [
       "  country     continent year lifeExp pop      gdpPercap GPD        \n",
       "1 Afghanistan Asia      1952 28.801   8425333 779.4453   6567086330\n",
       "2 Afghanistan Asia      1957 30.332   9240934 820.8530   7585448670\n",
       "3 Afghanistan Asia      1962 31.997  10267083 853.1007   8758855797\n",
       "4 Afghanistan Asia      1967 34.020  11537966 836.1971   9648014150\n",
       "5 Afghanistan Asia      1972 36.088  13079460 739.9811   9678553274\n",
       "6 Afghanistan Asia      1977 38.438  14880372 786.1134  11697659231"
      ]
     },
     "metadata": {},
     "output_type": "display_data"
    }
   ],
   "source": [
    "# pregunta 3\n",
    "\n",
    "gapminder %>% mutate(GPD = gdpPercap*pop) %>% head()"
   ]
  },
  {
   "cell_type": "code",
   "execution_count": 16,
   "metadata": {},
   "outputs": [
    {
     "data": {
      "text/html": [
       "<table>\n",
       "<thead><tr><th scope=col>continent</th><th scope=col>lifeExpPromedio</th></tr></thead>\n",
       "<tbody>\n",
       "\t<tr><td>Africa  </td><td>48.86533</td></tr>\n",
       "\t<tr><td>Americas</td><td>64.65874</td></tr>\n",
       "\t<tr><td>Asia    </td><td>60.06490</td></tr>\n",
       "\t<tr><td>Europe  </td><td>71.90369</td></tr>\n",
       "\t<tr><td>Oceania </td><td>74.32621</td></tr>\n",
       "</tbody>\n",
       "</table>\n"
      ],
      "text/latex": [
       "\\begin{tabular}{r|ll}\n",
       " continent & lifeExpPromedio\\\\\n",
       "\\hline\n",
       "\t Africa   & 48.86533\\\\\n",
       "\t Americas & 64.65874\\\\\n",
       "\t Asia     & 60.06490\\\\\n",
       "\t Europe   & 71.90369\\\\\n",
       "\t Oceania  & 74.32621\\\\\n",
       "\\end{tabular}\n"
      ],
      "text/markdown": [
       "\n",
       "continent | lifeExpPromedio | \n",
       "|---|---|---|---|---|\n",
       "| Africa   | 48.86533 | \n",
       "| Americas | 64.65874 | \n",
       "| Asia     | 60.06490 | \n",
       "| Europe   | 71.90369 | \n",
       "| Oceania  | 74.32621 | \n",
       "\n",
       "\n"
      ],
      "text/plain": [
       "  continent lifeExpPromedio\n",
       "1 Africa    48.86533       \n",
       "2 Americas  64.65874       \n",
       "3 Asia      60.06490       \n",
       "4 Europe    71.90369       \n",
       "5 Oceania   74.32621       "
      ]
     },
     "metadata": {},
     "output_type": "display_data"
    }
   ],
   "source": [
    "# pregunta 4\n",
    "\n",
    "gapminder %>% group_by(continent) %>% summarize(lifeExpPromedio = mean(lifeExp))\n",
    "#gapminder %>% group_by(continent, year) %>% summarize(lifeExpPromedio = mean(lifeExp))"
   ]
  },
  {
   "cell_type": "code",
   "execution_count": 9,
   "metadata": {},
   "outputs": [
    {
     "data": {
      "text/html": [
       "<table>\n",
       "<thead><tr><th scope=col>country</th><th scope=col>continent</th><th scope=col>year</th><th scope=col>lifeExp</th><th scope=col>pop</th><th scope=col>gdpPercap</th></tr></thead>\n",
       "<tbody>\n",
       "\t<tr><td>Haiti    </td><td>Americas </td><td>1952     </td><td>37.579   </td><td>3201488  </td><td>1840.367 </td></tr>\n",
       "\t<tr><td>Bolivia  </td><td>Americas </td><td>1952     </td><td>40.414   </td><td>2883315  </td><td>2677.326 </td></tr>\n",
       "\t<tr><td>Haiti    </td><td>Americas </td><td>1957     </td><td>40.696   </td><td>3507701  </td><td>1726.888 </td></tr>\n",
       "\t<tr><td>Bolivia  </td><td>Americas </td><td>1957     </td><td>41.890   </td><td>3211738  </td><td>2127.686 </td></tr>\n",
       "\t<tr><td>Honduras </td><td>Americas </td><td>1952     </td><td>41.912   </td><td>1517453  </td><td>2194.926 </td></tr>\n",
       "\t<tr><td>Guatemala</td><td>Americas </td><td>1952     </td><td>42.023   </td><td>3146381  </td><td>2428.238 </td></tr>\n",
       "</tbody>\n",
       "</table>\n"
      ],
      "text/latex": [
       "\\begin{tabular}{r|llllll}\n",
       " country & continent & year & lifeExp & pop & gdpPercap\\\\\n",
       "\\hline\n",
       "\t Haiti     & Americas  & 1952      & 37.579    & 3201488   & 1840.367 \\\\\n",
       "\t Bolivia   & Americas  & 1952      & 40.414    & 2883315   & 2677.326 \\\\\n",
       "\t Haiti     & Americas  & 1957      & 40.696    & 3507701   & 1726.888 \\\\\n",
       "\t Bolivia   & Americas  & 1957      & 41.890    & 3211738   & 2127.686 \\\\\n",
       "\t Honduras  & Americas  & 1952      & 41.912    & 1517453   & 2194.926 \\\\\n",
       "\t Guatemala & Americas  & 1952      & 42.023    & 3146381   & 2428.238 \\\\\n",
       "\\end{tabular}\n"
      ],
      "text/markdown": [
       "\n",
       "country | continent | year | lifeExp | pop | gdpPercap | \n",
       "|---|---|---|---|---|---|\n",
       "| Haiti     | Americas  | 1952      | 37.579    | 3201488   | 1840.367  | \n",
       "| Bolivia   | Americas  | 1952      | 40.414    | 2883315   | 2677.326  | \n",
       "| Haiti     | Americas  | 1957      | 40.696    | 3507701   | 1726.888  | \n",
       "| Bolivia   | Americas  | 1957      | 41.890    | 3211738   | 2127.686  | \n",
       "| Honduras  | Americas  | 1952      | 41.912    | 1517453   | 2194.926  | \n",
       "| Guatemala | Americas  | 1952      | 42.023    | 3146381   | 2428.238  | \n",
       "\n",
       "\n"
      ],
      "text/plain": [
       "  country   continent year lifeExp pop     gdpPercap\n",
       "1 Haiti     Americas  1952 37.579  3201488 1840.367 \n",
       "2 Bolivia   Americas  1952 40.414  2883315 2677.326 \n",
       "3 Haiti     Americas  1957 40.696  3507701 1726.888 \n",
       "4 Bolivia   Americas  1957 41.890  3211738 2127.686 \n",
       "5 Honduras  Americas  1952 41.912  1517453 2194.926 \n",
       "6 Guatemala Americas  1952 42.023  3146381 2428.238 "
      ]
     },
     "metadata": {},
     "output_type": "display_data"
    },
    {
     "data": {
      "text/html": [
       "<table>\n",
       "<thead><tr><th scope=col>country</th><th scope=col>continent</th><th scope=col>year</th><th scope=col>lifeExp</th><th scope=col>pop</th><th scope=col>gdpPercap</th></tr></thead>\n",
       "<tbody>\n",
       "\t<tr><td>Haiti             </td><td>Americas          </td><td>2007              </td><td>60.916            </td><td>8502814           </td><td>1201.637          </td></tr>\n",
       "\t<tr><td>Haiti             </td><td>Americas          </td><td>2002              </td><td>58.137            </td><td>7607651           </td><td>1270.365          </td></tr>\n",
       "\t<tr><td>Haiti             </td><td>Americas          </td><td>1997              </td><td>56.671            </td><td>6913545           </td><td>1341.727          </td></tr>\n",
       "\t<tr><td>Dominican Republic</td><td>Americas          </td><td>1952              </td><td>45.928            </td><td>2491346           </td><td>1397.717          </td></tr>\n",
       "\t<tr><td>Haiti             </td><td>Americas          </td><td>1967              </td><td>46.243            </td><td>4318137           </td><td>1452.058          </td></tr>\n",
       "\t<tr><td>Haiti             </td><td>Americas          </td><td>1992              </td><td>55.089            </td><td>6326682           </td><td>1456.310          </td></tr>\n",
       "</tbody>\n",
       "</table>\n"
      ],
      "text/latex": [
       "\\begin{tabular}{r|llllll}\n",
       " country & continent & year & lifeExp & pop & gdpPercap\\\\\n",
       "\\hline\n",
       "\t Haiti              & Americas           & 2007               & 60.916             & 8502814            & 1201.637          \\\\\n",
       "\t Haiti              & Americas           & 2002               & 58.137             & 7607651            & 1270.365          \\\\\n",
       "\t Haiti              & Americas           & 1997               & 56.671             & 6913545            & 1341.727          \\\\\n",
       "\t Dominican Republic & Americas           & 1952               & 45.928             & 2491346            & 1397.717          \\\\\n",
       "\t Haiti              & Americas           & 1967               & 46.243             & 4318137            & 1452.058          \\\\\n",
       "\t Haiti              & Americas           & 1992               & 55.089             & 6326682            & 1456.310          \\\\\n",
       "\\end{tabular}\n"
      ],
      "text/markdown": [
       "\n",
       "country | continent | year | lifeExp | pop | gdpPercap | \n",
       "|---|---|---|---|---|---|\n",
       "| Haiti              | Americas           | 2007               | 60.916             | 8502814            | 1201.637           | \n",
       "| Haiti              | Americas           | 2002               | 58.137             | 7607651            | 1270.365           | \n",
       "| Haiti              | Americas           | 1997               | 56.671             | 6913545            | 1341.727           | \n",
       "| Dominican Republic | Americas           | 1952               | 45.928             | 2491346            | 1397.717           | \n",
       "| Haiti              | Americas           | 1967               | 46.243             | 4318137            | 1452.058           | \n",
       "| Haiti              | Americas           | 1992               | 55.089             | 6326682            | 1456.310           | \n",
       "\n",
       "\n"
      ],
      "text/plain": [
       "  country            continent year lifeExp pop     gdpPercap\n",
       "1 Haiti              Americas  2007 60.916  8502814 1201.637 \n",
       "2 Haiti              Americas  2002 58.137  7607651 1270.365 \n",
       "3 Haiti              Americas  1997 56.671  6913545 1341.727 \n",
       "4 Dominican Republic Americas  1952 45.928  2491346 1397.717 \n",
       "5 Haiti              Americas  1967 46.243  4318137 1452.058 \n",
       "6 Haiti              Americas  1992 55.089  6326682 1456.310 "
      ]
     },
     "metadata": {},
     "output_type": "display_data"
    }
   ],
   "source": [
    "# pregunta 5\n",
    "\n",
    "gapminder %>% filter(continent == \"Americas\") %>% arrange(lifeExp) %>% head()\n",
    "gapminder %>% filter(continent == \"Americas\") %>% arrange(gdpPercap) %>% head()"
   ]
  },
  {
   "cell_type": "code",
   "execution_count": 11,
   "metadata": {},
   "outputs": [
    {
     "data": {
      "text/html": [
       "<table>\n",
       "<thead><tr><th scope=col>country</th><th scope=col>continent</th><th scope=col>year</th><th scope=col>lifeExp</th><th scope=col>pop</th><th scope=col>gdpPercap</th></tr></thead>\n",
       "<tbody>\n",
       "\t<tr><td>Haiti              </td><td>Americas           </td><td>2007               </td><td>60.916             </td><td> 8502814           </td><td> 1201.637          </td></tr>\n",
       "\t<tr><td>Bolivia            </td><td>Americas           </td><td>2007               </td><td>65.554             </td><td> 9119152           </td><td> 3822.137          </td></tr>\n",
       "\t<tr><td>Trinidad and Tobago</td><td>Americas           </td><td>2007               </td><td>69.819             </td><td> 1056608           </td><td>18008.509          </td></tr>\n",
       "\t<tr><td>Honduras           </td><td>Americas           </td><td>2007               </td><td>70.198             </td><td> 7483763           </td><td> 3548.331          </td></tr>\n",
       "\t<tr><td>Guatemala          </td><td>Americas           </td><td>2007               </td><td>70.259             </td><td>12572928           </td><td> 5186.050          </td></tr>\n",
       "\t<tr><td>Peru               </td><td>Americas           </td><td>2007               </td><td>71.421             </td><td>28674757           </td><td> 7408.906          </td></tr>\n",
       "</tbody>\n",
       "</table>\n"
      ],
      "text/latex": [
       "\\begin{tabular}{r|llllll}\n",
       " country & continent & year & lifeExp & pop & gdpPercap\\\\\n",
       "\\hline\n",
       "\t Haiti               & Americas            & 2007                & 60.916              &  8502814            &  1201.637          \\\\\n",
       "\t Bolivia             & Americas            & 2007                & 65.554              &  9119152            &  3822.137          \\\\\n",
       "\t Trinidad and Tobago & Americas            & 2007                & 69.819              &  1056608            & 18008.509          \\\\\n",
       "\t Honduras            & Americas            & 2007                & 70.198              &  7483763            &  3548.331          \\\\\n",
       "\t Guatemala           & Americas            & 2007                & 70.259              & 12572928            &  5186.050          \\\\\n",
       "\t Peru                & Americas            & 2007                & 71.421              & 28674757            &  7408.906          \\\\\n",
       "\\end{tabular}\n"
      ],
      "text/markdown": [
       "\n",
       "country | continent | year | lifeExp | pop | gdpPercap | \n",
       "|---|---|---|---|---|---|\n",
       "| Haiti               | Americas            | 2007                | 60.916              |  8502814            |  1201.637           | \n",
       "| Bolivia             | Americas            | 2007                | 65.554              |  9119152            |  3822.137           | \n",
       "| Trinidad and Tobago | Americas            | 2007                | 69.819              |  1056608            | 18008.509           | \n",
       "| Honduras            | Americas            | 2007                | 70.198              |  7483763            |  3548.331           | \n",
       "| Guatemala           | Americas            | 2007                | 70.259              | 12572928            |  5186.050           | \n",
       "| Peru                | Americas            | 2007                | 71.421              | 28674757            |  7408.906           | \n",
       "\n",
       "\n"
      ],
      "text/plain": [
       "  country             continent year lifeExp pop      gdpPercap\n",
       "1 Haiti               Americas  2007 60.916   8502814  1201.637\n",
       "2 Bolivia             Americas  2007 65.554   9119152  3822.137\n",
       "3 Trinidad and Tobago Americas  2007 69.819   1056608 18008.509\n",
       "4 Honduras            Americas  2007 70.198   7483763  3548.331\n",
       "5 Guatemala           Americas  2007 70.259  12572928  5186.050\n",
       "6 Peru                Americas  2007 71.421  28674757  7408.906"
      ]
     },
     "metadata": {},
     "output_type": "display_data"
    },
    {
     "data": {
      "text/html": [
       "<table>\n",
       "<thead><tr><th scope=col>country</th><th scope=col>continent</th><th scope=col>year</th><th scope=col>lifeExp</th><th scope=col>pop</th><th scope=col>gdpPercap</th></tr></thead>\n",
       "<tbody>\n",
       "\t<tr><td>Haiti    </td><td>Americas </td><td>2007     </td><td>60.916   </td><td> 8502814 </td><td>1201.637 </td></tr>\n",
       "\t<tr><td>Nicaragua</td><td>Americas </td><td>2007     </td><td>72.899   </td><td> 5675356 </td><td>2749.321 </td></tr>\n",
       "\t<tr><td>Honduras </td><td>Americas </td><td>2007     </td><td>70.198   </td><td> 7483763 </td><td>3548.331 </td></tr>\n",
       "\t<tr><td>Bolivia  </td><td>Americas </td><td>2007     </td><td>65.554   </td><td> 9119152 </td><td>3822.137 </td></tr>\n",
       "\t<tr><td>Paraguay </td><td>Americas </td><td>2007     </td><td>71.752   </td><td> 6667147 </td><td>4172.838 </td></tr>\n",
       "\t<tr><td>Guatemala</td><td>Americas </td><td>2007     </td><td>70.259   </td><td>12572928 </td><td>5186.050 </td></tr>\n",
       "</tbody>\n",
       "</table>\n"
      ],
      "text/latex": [
       "\\begin{tabular}{r|llllll}\n",
       " country & continent & year & lifeExp & pop & gdpPercap\\\\\n",
       "\\hline\n",
       "\t Haiti     & Americas  & 2007      & 60.916    &  8502814  & 1201.637 \\\\\n",
       "\t Nicaragua & Americas  & 2007      & 72.899    &  5675356  & 2749.321 \\\\\n",
       "\t Honduras  & Americas  & 2007      & 70.198    &  7483763  & 3548.331 \\\\\n",
       "\t Bolivia   & Americas  & 2007      & 65.554    &  9119152  & 3822.137 \\\\\n",
       "\t Paraguay  & Americas  & 2007      & 71.752    &  6667147  & 4172.838 \\\\\n",
       "\t Guatemala & Americas  & 2007      & 70.259    & 12572928  & 5186.050 \\\\\n",
       "\\end{tabular}\n"
      ],
      "text/markdown": [
       "\n",
       "country | continent | year | lifeExp | pop | gdpPercap | \n",
       "|---|---|---|---|---|---|\n",
       "| Haiti     | Americas  | 2007      | 60.916    |  8502814  | 1201.637  | \n",
       "| Nicaragua | Americas  | 2007      | 72.899    |  5675356  | 2749.321  | \n",
       "| Honduras  | Americas  | 2007      | 70.198    |  7483763  | 3548.331  | \n",
       "| Bolivia   | Americas  | 2007      | 65.554    |  9119152  | 3822.137  | \n",
       "| Paraguay  | Americas  | 2007      | 71.752    |  6667147  | 4172.838  | \n",
       "| Guatemala | Americas  | 2007      | 70.259    | 12572928  | 5186.050  | \n",
       "\n",
       "\n"
      ],
      "text/plain": [
       "  country   continent year lifeExp pop      gdpPercap\n",
       "1 Haiti     Americas  2007 60.916   8502814 1201.637 \n",
       "2 Nicaragua Americas  2007 72.899   5675356 2749.321 \n",
       "3 Honduras  Americas  2007 70.198   7483763 3548.331 \n",
       "4 Bolivia   Americas  2007 65.554   9119152 3822.137 \n",
       "5 Paraguay  Americas  2007 71.752   6667147 4172.838 \n",
       "6 Guatemala Americas  2007 70.259  12572928 5186.050 "
      ]
     },
     "metadata": {},
     "output_type": "display_data"
    }
   ],
   "source": [
    "gapminder %>% filter(continent == \"Americas\", year == 2007) %>% arrange(lifeExp) %>% head()\n",
    "gapminder %>% filter(continent == \"Americas\", year == 2007) %>% arrange(gdpPercap) %>% head()"
   ]
  }
 ],
 "metadata": {
  "anaconda-cloud": {},
  "kernelspec": {
   "display_name": "R 3.3",
   "language": "R",
   "name": "ir33"
  },
  "language_info": {
   "codemirror_mode": "r",
   "file_extension": ".r",
   "mimetype": "text/x-r-source",
   "name": "R",
   "pygments_lexer": "r",
   "version": "3.3.3"
  }
 },
 "nbformat": 4,
 "nbformat_minor": 1
}
