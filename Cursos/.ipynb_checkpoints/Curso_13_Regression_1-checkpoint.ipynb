{
 "cells": [
  {
   "cell_type": "code",
   "execution_count": 2,
   "metadata": {},
   "outputs": [
    {
     "data": {
      "text/html": [
       "<table>\n",
       "<thead><tr><th scope=col>Father</th><th scope=col>Son</th></tr></thead>\n",
       "<tbody>\n",
       "\t<tr><td>165</td><td>152</td></tr>\n",
       "\t<tr><td>161</td><td>161</td></tr>\n",
       "\t<tr><td>165</td><td>161</td></tr>\n",
       "\t<tr><td>167</td><td>160</td></tr>\n",
       "\t<tr><td>155</td><td>163</td></tr>\n",
       "\t<tr><td>160</td><td>163</td></tr>\n",
       "\t<tr><td>166</td><td>163</td></tr>\n",
       "\t<tr><td>164</td><td>163</td></tr>\n",
       "\t<tr><td>168</td><td>164</td></tr>\n",
       "\t<tr><td>170</td><td>163</td></tr>\n",
       "\t<tr><td>150</td><td>166</td></tr>\n",
       "\t<tr><td>160</td><td>166</td></tr>\n",
       "\t<tr><td>162</td><td>167</td></tr>\n",
       "\t<tr><td>163</td><td>166</td></tr>\n",
       "\t<tr><td>164</td><td>166</td></tr>\n",
       "\t<tr><td>166</td><td>165</td></tr>\n",
       "\t<tr><td>169</td><td>165</td></tr>\n",
       "\t<tr><td>167</td><td>166</td></tr>\n",
       "\t<tr><td>171</td><td>165</td></tr>\n",
       "\t<tr><td>170</td><td>166</td></tr>\n",
       "\t<tr><td>172</td><td>165</td></tr>\n",
       "\t<tr><td>177</td><td>166</td></tr>\n",
       "\t<tr><td>159</td><td>169</td></tr>\n",
       "\t<tr><td>162</td><td>169</td></tr>\n",
       "\t<tr><td>164</td><td>168</td></tr>\n",
       "\t<tr><td>165</td><td>168</td></tr>\n",
       "\t<tr><td>164</td><td>168</td></tr>\n",
       "\t<tr><td>167</td><td>169</td></tr>\n",
       "\t<tr><td>166</td><td>167</td></tr>\n",
       "\t<tr><td>167</td><td>168</td></tr>\n",
       "\t<tr><td>...</td><td>...</td></tr>\n",
       "\t<tr><td>180</td><td>183</td></tr>\n",
       "\t<tr><td>184</td><td>184</td></tr>\n",
       "\t<tr><td>184</td><td>183</td></tr>\n",
       "\t<tr><td>171</td><td>185</td></tr>\n",
       "\t<tr><td>172</td><td>185</td></tr>\n",
       "\t<tr><td>175</td><td>187</td></tr>\n",
       "\t<tr><td>179</td><td>187</td></tr>\n",
       "\t<tr><td>181</td><td>185</td></tr>\n",
       "\t<tr><td>181</td><td>186</td></tr>\n",
       "\t<tr><td>182</td><td>185</td></tr>\n",
       "\t<tr><td>184</td><td>186</td></tr>\n",
       "\t<tr><td>172</td><td>189</td></tr>\n",
       "\t<tr><td>174</td><td>187</td></tr>\n",
       "\t<tr><td>180</td><td>187</td></tr>\n",
       "\t<tr><td>183</td><td>187</td></tr>\n",
       "\t<tr><td>191</td><td>187</td></tr>\n",
       "\t<tr><td>186</td><td>192</td></tr>\n",
       "\t<tr><td>178</td><td>196</td></tr>\n",
       "\t<tr><td>166</td><td>153</td></tr>\n",
       "\t<tr><td>184</td><td>195</td></tr>\n",
       "\t<tr><td>183</td><td>169</td></tr>\n",
       "\t<tr><td>161</td><td>149</td></tr>\n",
       "\t<tr><td>186</td><td>172</td></tr>\n",
       "\t<tr><td>167</td><td>155</td></tr>\n",
       "\t<tr><td>172</td><td>152</td></tr>\n",
       "\t<tr><td>170</td><td>180</td></tr>\n",
       "\t<tr><td>181</td><td>173</td></tr>\n",
       "\t<tr><td>182</td><td>176</td></tr>\n",
       "\t<tr><td>180</td><td>176</td></tr>\n",
       "\t<tr><td>179</td><td>170</td></tr>\n",
       "</tbody>\n",
       "</table>\n"
      ],
      "text/latex": [
       "\\begin{tabular}{r|ll}\n",
       " Father & Son\\\\\n",
       "\\hline\n",
       "\t 165 & 152\\\\\n",
       "\t 161 & 161\\\\\n",
       "\t 165 & 161\\\\\n",
       "\t 167 & 160\\\\\n",
       "\t 155 & 163\\\\\n",
       "\t 160 & 163\\\\\n",
       "\t 166 & 163\\\\\n",
       "\t 164 & 163\\\\\n",
       "\t 168 & 164\\\\\n",
       "\t 170 & 163\\\\\n",
       "\t 150 & 166\\\\\n",
       "\t 160 & 166\\\\\n",
       "\t 162 & 167\\\\\n",
       "\t 163 & 166\\\\\n",
       "\t 164 & 166\\\\\n",
       "\t 166 & 165\\\\\n",
       "\t 169 & 165\\\\\n",
       "\t 167 & 166\\\\\n",
       "\t 171 & 165\\\\\n",
       "\t 170 & 166\\\\\n",
       "\t 172 & 165\\\\\n",
       "\t 177 & 166\\\\\n",
       "\t 159 & 169\\\\\n",
       "\t 162 & 169\\\\\n",
       "\t 164 & 168\\\\\n",
       "\t 165 & 168\\\\\n",
       "\t 164 & 168\\\\\n",
       "\t 167 & 169\\\\\n",
       "\t 166 & 167\\\\\n",
       "\t 167 & 168\\\\\n",
       "\t ... & ...\\\\\n",
       "\t 180 & 183\\\\\n",
       "\t 184 & 184\\\\\n",
       "\t 184 & 183\\\\\n",
       "\t 171 & 185\\\\\n",
       "\t 172 & 185\\\\\n",
       "\t 175 & 187\\\\\n",
       "\t 179 & 187\\\\\n",
       "\t 181 & 185\\\\\n",
       "\t 181 & 186\\\\\n",
       "\t 182 & 185\\\\\n",
       "\t 184 & 186\\\\\n",
       "\t 172 & 189\\\\\n",
       "\t 174 & 187\\\\\n",
       "\t 180 & 187\\\\\n",
       "\t 183 & 187\\\\\n",
       "\t 191 & 187\\\\\n",
       "\t 186 & 192\\\\\n",
       "\t 178 & 196\\\\\n",
       "\t 166 & 153\\\\\n",
       "\t 184 & 195\\\\\n",
       "\t 183 & 169\\\\\n",
       "\t 161 & 149\\\\\n",
       "\t 186 & 172\\\\\n",
       "\t 167 & 155\\\\\n",
       "\t 172 & 152\\\\\n",
       "\t 170 & 180\\\\\n",
       "\t 181 & 173\\\\\n",
       "\t 182 & 176\\\\\n",
       "\t 180 & 176\\\\\n",
       "\t 179 & 170\\\\\n",
       "\\end{tabular}\n"
      ],
      "text/markdown": [
       "\n",
       "Father | Son | \n",
       "|---|---|---|---|---|---|---|---|---|---|---|---|---|---|---|---|---|---|---|---|---|---|---|---|---|---|---|---|---|---|---|---|---|---|---|---|---|---|---|---|---|---|---|---|---|---|---|---|---|---|---|---|---|---|---|---|---|---|---|---|---|\n",
       "| 165 | 152 | \n",
       "| 161 | 161 | \n",
       "| 165 | 161 | \n",
       "| 167 | 160 | \n",
       "| 155 | 163 | \n",
       "| 160 | 163 | \n",
       "| 166 | 163 | \n",
       "| 164 | 163 | \n",
       "| 168 | 164 | \n",
       "| 170 | 163 | \n",
       "| 150 | 166 | \n",
       "| 160 | 166 | \n",
       "| 162 | 167 | \n",
       "| 163 | 166 | \n",
       "| 164 | 166 | \n",
       "| 166 | 165 | \n",
       "| 169 | 165 | \n",
       "| 167 | 166 | \n",
       "| 171 | 165 | \n",
       "| 170 | 166 | \n",
       "| 172 | 165 | \n",
       "| 177 | 166 | \n",
       "| 159 | 169 | \n",
       "| 162 | 169 | \n",
       "| 164 | 168 | \n",
       "| 165 | 168 | \n",
       "| 164 | 168 | \n",
       "| 167 | 169 | \n",
       "| 166 | 167 | \n",
       "| 167 | 168 | \n",
       "| ... | ... | \n",
       "| 180 | 183 | \n",
       "| 184 | 184 | \n",
       "| 184 | 183 | \n",
       "| 171 | 185 | \n",
       "| 172 | 185 | \n",
       "| 175 | 187 | \n",
       "| 179 | 187 | \n",
       "| 181 | 185 | \n",
       "| 181 | 186 | \n",
       "| 182 | 185 | \n",
       "| 184 | 186 | \n",
       "| 172 | 189 | \n",
       "| 174 | 187 | \n",
       "| 180 | 187 | \n",
       "| 183 | 187 | \n",
       "| 191 | 187 | \n",
       "| 186 | 192 | \n",
       "| 178 | 196 | \n",
       "| 166 | 153 | \n",
       "| 184 | 195 | \n",
       "| 183 | 169 | \n",
       "| 161 | 149 | \n",
       "| 186 | 172 | \n",
       "| 167 | 155 | \n",
       "| 172 | 152 | \n",
       "| 170 | 180 | \n",
       "| 181 | 173 | \n",
       "| 182 | 176 | \n",
       "| 180 | 176 | \n",
       "| 179 | 170 | \n",
       "\n",
       "\n"
      ],
      "text/plain": [
       "     Father Son\n",
       "1    165    152\n",
       "2    161    161\n",
       "3    165    161\n",
       "4    167    160\n",
       "5    155    163\n",
       "6    160    163\n",
       "7    166    163\n",
       "8    164    163\n",
       "9    168    164\n",
       "10   170    163\n",
       "11   150    166\n",
       "12   160    166\n",
       "13   162    167\n",
       "14   163    166\n",
       "15   164    166\n",
       "16   166    165\n",
       "17   169    165\n",
       "18   167    166\n",
       "19   171    165\n",
       "20   170    166\n",
       "21   172    165\n",
       "22   177    166\n",
       "23   159    169\n",
       "24   162    169\n",
       "25   164    168\n",
       "26   165    168\n",
       "27   164    168\n",
       "28   167    169\n",
       "29   166    167\n",
       "30   167    168\n",
       "...  ...    ...\n",
       "1049 180    183\n",
       "1050 184    184\n",
       "1051 184    183\n",
       "1052 171    185\n",
       "1053 172    185\n",
       "1054 175    187\n",
       "1055 179    187\n",
       "1056 181    185\n",
       "1057 181    186\n",
       "1058 182    185\n",
       "1059 184    186\n",
       "1060 172    189\n",
       "1061 174    187\n",
       "1062 180    187\n",
       "1063 183    187\n",
       "1064 191    187\n",
       "1065 186    192\n",
       "1066 178    196\n",
       "1067 166    153\n",
       "1068 184    195\n",
       "1069 183    169\n",
       "1070 161    149\n",
       "1071 186    172\n",
       "1072 167    155\n",
       "1073 172    152\n",
       "1074 170    180\n",
       "1075 181    173\n",
       "1076 182    176\n",
       "1077 180    176\n",
       "1078 179    170"
      ]
     },
     "metadata": {},
     "output_type": "display_data"
    }
   ],
   "source": [
    "library(dplyr)\n",
    "library(ggplot2)\n",
    "\n",
    "galton <- read.csv('C:/Users/Personal/Data-Science-Students/Tables/galton.csv', sep=\"\\t\",\n",
    "                  stringsAsFactors=FALSE)\n",
    "\n",
    "galton <- galton %>% mutate(Father = round(Father*2.54, 0), Son = round(Son*2.54,0))\n",
    "galton"
   ]
  },
  {
   "cell_type": "code",
   "execution_count": 4,
   "metadata": {},
   "outputs": [
    {
     "data": {},
     "metadata": {},
     "output_type": "display_data"
    },
    {
     "data": {
      "text/html": [
       "<table>\n",
       "<thead><tr><th></th><th scope=col>Father</th><th scope=col>Son</th></tr></thead>\n",
       "<tbody>\n",
       "\t<tr><th scope=row>Father</th><td>1.0000000</td><td>0.4957892</td></tr>\n",
       "\t<tr><th scope=row>Son</th><td>0.4957892</td><td>1.0000000</td></tr>\n",
       "</tbody>\n",
       "</table>\n"
      ],
      "text/latex": [
       "\\begin{tabular}{r|ll}\n",
       "  & Father & Son\\\\\n",
       "\\hline\n",
       "\tFather & 1.0000000 & 0.4957892\\\\\n",
       "\tSon & 0.4957892 & 1.0000000\\\\\n",
       "\\end{tabular}\n"
      ],
      "text/markdown": [
       "\n",
       "| <!--/--> | Father | Son | \n",
       "|---|---|\n",
       "| Father | 1.0000000 | 0.4957892 | \n",
       "| Son | 0.4957892 | 1.0000000 | \n",
       "\n",
       "\n"
      ],
      "text/plain": [
       "       Father    Son      \n",
       "Father 1.0000000 0.4957892\n",
       "Son    0.4957892 1.0000000"
      ]
     },
     "metadata": {},
     "output_type": "display_data"
    },
    {
     "data": {
      "image/png": "[encoded data removed]",
      "text/plain": [
       "plot without title"
      ]
     },
     "metadata": {},
     "output_type": "display_data"
    }
   ],
   "source": [
    "ggplot(galton, aes(x=Father, y=Son)) + geom_point()\n",
    "\n",
    "cor(galton)"
   ]
  },
  {
   "cell_type": "code",
   "execution_count": 6,
   "metadata": {},
   "outputs": [
    {
     "data": {},
     "metadata": {},
     "output_type": "display_data"
    },
    {
     "data": {
      "text/html": [
       "171.915584415584"
      ],
      "text/latex": [
       "171.915584415584"
      ],
      "text/markdown": [
       "171.915584415584"
      ],
      "text/plain": [
       "[1] 171.9156"
      ]
     },
     "metadata": {},
     "output_type": "display_data"
    },
    {
     "data": {
      "text/html": [
       "174.448051948052"
      ],
      "text/latex": [
       "174.448051948052"
      ],
      "text/markdown": [
       "174.448051948052"
      ],
      "text/plain": [
       "[1] 174.4481"
      ]
     },
     "metadata": {},
     "output_type": "display_data"
    },
    {
     "data": {
      "image/png": "[encoded data removed]",
      "text/plain": [
       "plot without title"
      ]
     },
     "metadata": {},
     "output_type": "display_data"
    }
   ],
   "source": [
    "breaks <- seq(145, 200, by=3)\n",
    "ggplot(galton) + geom_histogram(aes(Father), breaks = breaks, fill =\"blue\", alpha=0.5) +  \n",
    "        geom_histogram(aes(Son), breaks = breaks,  fill =\"red\", alpha=0.5) + xlab(\"\")\n",
    "\n",
    "prom_Father <- mean(galton$Father)\n",
    "prom_Son <- mean(galton$Son)\n",
    "\n",
    "prom_Father\n",
    "prom_Son"
   ]
  },
  {
   "cell_type": "markdown",
   "metadata": {},
   "source": [
    "# Las personas muy altas, van a tener hijos muy altos? \n"
   ]
  },
  {
   "cell_type": "code",
   "execution_count": 10,
   "metadata": {},
   "outputs": [
    {
     "data": {},
     "metadata": {},
     "output_type": "display_data"
    },
    {
     "data": {
      "image/png": "[encoded data removed]",
      "text/plain": [
       "plot without title"
      ]
     },
     "metadata": {},
     "output_type": "display_data"
    }
   ],
   "source": [
    "altos <- galton %>% filter(Father > 180)\n",
    "\n",
    "ggplot(altos) + geom_histogram(aes(x = Son, y = ..count../sum(..count..)), breaks = breaks) + \n",
    "                ylab(\"Prop. de Hijos altos\")"
   ]
  },
  {
   "cell_type": "code",
   "execution_count": 13,
   "metadata": {},
   "outputs": [
    {
     "data": {
      "text/html": [
       "125"
      ],
      "text/latex": [
       "125"
      ],
      "text/markdown": [
       "125"
      ],
      "text/plain": [
       "[1] 125"
      ]
     },
     "metadata": {},
     "output_type": "display_data"
    },
    {
     "data": {
      "text/html": [
       "57"
      ],
      "text/latex": [
       "57"
      ],
      "text/markdown": [
       "57"
      ],
      "text/plain": [
       "[1] 57"
      ]
     },
     "metadata": {},
     "output_type": "display_data"
    },
    {
     "data": {
      "text/html": [
       "174.894736842105"
      ],
      "text/latex": [
       "174.894736842105"
      ],
      "text/markdown": [
       "174.894736842105"
      ],
      "text/plain": [
       "[1] 174.8947"
      ]
     },
     "metadata": {},
     "output_type": "display_data"
    },
    {
     "data": {
      "text/html": [
       "180.28"
      ],
      "text/latex": [
       "180.28"
      ],
      "text/markdown": [
       "180.28"
      ],
      "text/plain": [
       "[1] 180.28"
      ]
     },
     "metadata": {},
     "output_type": "display_data"
    },
    {
     "data": {
      "text/html": [
       "183.488"
      ],
      "text/latex": [
       "183.488"
      ],
      "text/markdown": [
       "183.488"
      ],
      "text/plain": [
       "[1] 183.488"
      ]
     },
     "metadata": {},
     "output_type": "display_data"
    }
   ],
   "source": [
    "dim(altos)[1]\n",
    "length(altos$Son[altos$Son < 180])\n",
    "mean(altos$Son[altos$Son < 180])\n",
    "mean(altos$Son)\n",
    "mean(altos$Father)"
   ]
  },
  {
   "cell_type": "code",
   "execution_count": 17,
   "metadata": {},
   "outputs": [
    {
     "data": {
      "text/html": [
       "<table>\n",
       "<thead><tr><th scope=col>Father</th><th scope=col>Son</th><th scope=col>Father_SU</th><th scope=col>Son_SU</th></tr></thead>\n",
       "<tbody>\n",
       "\t<tr><td>165       </td><td>152       </td><td>-0.9902295</td><td>-3.138458 </td></tr>\n",
       "\t<tr><td>161       </td><td>161       </td><td>-1.5629819</td><td>-1.880169 </td></tr>\n",
       "\t<tr><td>165       </td><td>161       </td><td>-0.9902295</td><td>-1.880169 </td></tr>\n",
       "\t<tr><td>167       </td><td>160       </td><td>-0.7038533</td><td>-2.019979 </td></tr>\n",
       "\t<tr><td>155       </td><td>163       </td><td>-2.4221106</td><td>-1.600550 </td></tr>\n",
       "\t<tr><td>160       </td><td>163       </td><td>-1.7061701</td><td>-1.600550 </td></tr>\n",
       "</tbody>\n",
       "</table>\n"
      ],
      "text/latex": [
       "\\begin{tabular}{r|llll}\n",
       " Father & Son & Father\\_SU & Son\\_SU\\\\\n",
       "\\hline\n",
       "\t 165        & 152        & -0.9902295 & -3.138458 \\\\\n",
       "\t 161        & 161        & -1.5629819 & -1.880169 \\\\\n",
       "\t 165        & 161        & -0.9902295 & -1.880169 \\\\\n",
       "\t 167        & 160        & -0.7038533 & -2.019979 \\\\\n",
       "\t 155        & 163        & -2.4221106 & -1.600550 \\\\\n",
       "\t 160        & 163        & -1.7061701 & -1.600550 \\\\\n",
       "\\end{tabular}\n"
      ],
      "text/markdown": [
       "\n",
       "Father | Son | Father_SU | Son_SU | \n",
       "|---|---|---|---|---|---|\n",
       "| 165        | 152        | -0.9902295 | -3.138458  | \n",
       "| 161        | 161        | -1.5629819 | -1.880169  | \n",
       "| 165        | 161        | -0.9902295 | -1.880169  | \n",
       "| 167        | 160        | -0.7038533 | -2.019979  | \n",
       "| 155        | 163        | -2.4221106 | -1.600550  | \n",
       "| 160        | 163        | -1.7061701 | -1.600550  | \n",
       "\n",
       "\n"
      ],
      "text/plain": [
       "  Father Son Father_SU  Son_SU   \n",
       "1 165    152 -0.9902295 -3.138458\n",
       "2 161    161 -1.5629819 -1.880169\n",
       "3 165    161 -0.9902295 -1.880169\n",
       "4 167    160 -0.7038533 -2.019979\n",
       "5 155    163 -2.4221106 -1.600550\n",
       "6 160    163 -1.7061701 -1.600550"
      ]
     },
     "metadata": {},
     "output_type": "display_data"
    }
   ],
   "source": [
    "galton <- galton %>% mutate(Father_SU = (Father - mean(Father))/sd(Father), Son_SU = (Son - mean(Son))/sd(Son))\n",
    "head(galton)"
   ]
  },
  {
   "cell_type": "code",
   "execution_count": 18,
   "metadata": {},
   "outputs": [
    {
     "data": {},
     "metadata": {},
     "output_type": "display_data"
    },
    {
     "data": {
      "image/png": "[encoded data removed]",
      "text/plain": [
       "plot without title"
      ]
     },
     "metadata": {},
     "output_type": "display_data"
    }
   ],
   "source": [
    "ggplot(galton) + geom_point(aes(Father_SU, Son_SU))"
   ]
  },
  {
   "cell_type": "code",
   "execution_count": 19,
   "metadata": {},
   "outputs": [
    {
     "data": {
      "text/html": [
       "1.15759222279979"
      ],
      "text/latex": [
       "1.15759222279979"
      ],
      "text/markdown": [
       "1.15759222279979"
      ],
      "text/plain": [
       "[1] 1.157592"
      ]
     },
     "metadata": {},
     "output_type": "display_data"
    },
    {
     "data": {
      "text/html": [
       "0.81536347390484"
      ],
      "text/latex": [
       "0.81536347390484"
      ],
      "text/markdown": [
       "0.81536347390484"
      ],
      "text/plain": [
       "[1] 0.8153635"
      ]
     },
     "metadata": {},
     "output_type": "display_data"
    },
    {
     "data": {
      "text/html": [
       "0.704361568647012"
      ],
      "text/latex": [
       "0.704361568647012"
      ],
      "text/markdown": [
       "0.704361568647012"
      ],
      "text/plain": [
       "[1] 0.7043616"
      ]
     },
     "metadata": {},
     "output_type": "display_data"
    }
   ],
   "source": [
    "co_SU <- (180 - mean(galton$Father))/sd(galton$Father) \n",
    "\n",
    "pmAl_SU <- mean((altos$Son - mean(galton$Son))/sd(galton$Son))\n",
    "\n",
    "co_SU\n",
    "pmAl_SU\n",
    "\n",
    "pmAl_SU/co_SU"
   ]
  },
  {
   "cell_type": "code",
   "execution_count": 20,
   "metadata": {},
   "outputs": [
    {
     "data": {},
     "metadata": {},
     "output_type": "display_data"
    },
    {
     "data": {
      "image/png": "[encoded data removed]",
      "text/plain": [
       "plot without title"
      ]
     },
     "metadata": {},
     "output_type": "display_data"
    }
   ],
   "source": [
    "library(tidyr)\n",
    "galton_rounded_SU <- galton %>% select(Father_SU, Son_SU) %>% mutate(Color = \"Data\") %>% \n",
    "            mutate(Father_SU = round(Father_SU, 0))\n",
    "\n",
    "galton_rounded_mean <- galton %>% select(Father_SU, Son_SU) %>% \n",
    "    mutate(Father_SU = round(Father_SU, 0)) %>% \n",
    "    group_by(Father_SU) %>% summarize(Son_SU = mean(Son_SU)) %>% mutate(Color = \"Mean\")\n",
    "\n",
    "galton_reg <- rbind(galton_rounded_SU, galton_rounded_mean)\n",
    "\n",
    "ggplot(galton_reg) + geom_point(aes(Father_SU, Son_SU, color = Color), size = 3) +\n",
    "    ggtitle(\"mean está en la línea que pasa por (0,0) y con pendiente r!\")"
   ]
  },
  {
   "cell_type": "code",
   "execution_count": 21,
   "metadata": {},
   "outputs": [
    {
     "data": {},
     "metadata": {},
     "output_type": "display_data"
    },
    {
     "data": {
      "image/png": "[encoded data removed]",
      "text/plain": [
       "plot without title"
      ]
     },
     "metadata": {},
     "output_type": "display_data"
    }
   ],
   "source": [
    "r <- 0.4957892\n",
    "ggplot(galton_reg) + geom_point(aes(Father_SU, Son_SU, color = Color), size = 3) +\n",
    "    geom_abline(slope = r, intercept = c(0,0), alpha = 0.5, size = 1.5) + \n",
    "    ggtitle(\"mean está en la línea que pasa por (0,0) y con pendiente r: \\n La línea de regressión!!\")"
   ]
  },
  {
   "cell_type": "markdown",
   "metadata": {},
   "source": [
    "## La línea de regresión escoge el valor promedio para cada tira vertical de datos con posición Father_SU. \n",
    "\n",
    "Nos dice el valor promedio de y para cualquier x."
   ]
  },
  {
   "cell_type": "code",
   "execution_count": 24,
   "metadata": {},
   "outputs": [
    {
     "data": {},
     "metadata": {},
     "output_type": "display_data"
    },
    {
     "data": {
      "image/png": "[encoded data removed]",
      "text/plain": [
       "plot without title"
      ]
     },
     "metadata": {},
     "output_type": "display_data"
    }
   ],
   "source": [
    "ggplot(galton, aes(Father_SU, Son_SU)) + geom_point() + geom_smooth(method=lm, se=F)"
   ]
  },
  {
   "cell_type": "code",
   "execution_count": 141,
   "metadata": {},
   "outputs": [
    {
     "data": {
      "text/html": [
       "178.553069864732"
      ],
      "text/latex": [
       "178.553069864732"
      ],
      "text/markdown": [
       "178.553069864732"
      ],
      "text/plain": [
       "[1] 178.5531"
      ]
     },
     "metadata": {},
     "output_type": "display_data"
    }
   ],
   "source": [
    "(r * 1.15759222279979) * sd(galton$Son) + mean(galton$Son)\n",
    "\n",
    "# De acuerdo a la línea es 179, en realidad es 180!! Es una buena predicción, 1cm de error."
   ]
  },
  {
   "cell_type": "markdown",
   "metadata": {},
   "source": [
    "# Dibujo de los promedios. \n",
    "\n",
    "Agrupamos a cada x con un representante. \n",
    "\n",
    "Promediamos los y para cada representante.\n",
    "\n",
    "la asociación es casi lineal: Los puntos están en la línea de regresión.   \n"
   ]
  },
  {
   "cell_type": "markdown",
   "metadata": {},
   "source": [
    "# Regresión a la media. \n",
    "\n",
    "pares (x, y) medidos en SU. \n",
    "\n",
    "En promedio, la desviación de x alrededor de 0, es mas pequeña que la de y.\n",
    "\n",
    "\\begin{equation} \\Huge y_{SU} = \\underbrace{r}_{Corr} \\times x_{SU} \\end{equation}\n"
   ]
  },
  {
   "cell_type": "markdown",
   "metadata": {},
   "source": [
    "# Notas:\n",
    "\n",
    "Hay dos pruebas: un examen y un final. \n",
    "\n",
    "examen: promedio = 70, sd = 10.\n",
    "\n",
    "final: promedio = 50, sd = 12.\n",
    "\n",
    "La correlación de las dos notas es r = 0.75. Los datos tienen una asociación lineal. \n",
    "\n",
    "Qué nota esperan tener en el final si sacaron 90 en el examen? Si sacaron 65?"
   ]
  },
  {
   "cell_type": "code",
   "execution_count": 25,
   "metadata": {},
   "outputs": [
    {
     "data": {
      "text/html": [
       "68"
      ],
      "text/latex": [
       "68"
      ],
      "text/markdown": [
       "68"
      ],
      "text/plain": [
       "[1] 68"
      ]
     },
     "metadata": {},
     "output_type": "display_data"
    }
   ],
   "source": [
    "x <- 90\n",
    "r <- 0.75\n",
    "\n",
    "x_SU <- (x - 70)/10\n",
    "\n",
    "x_final <- (r * x_SU) * 12 + 50  \n",
    "\n",
    "x_final"
   ]
  },
  {
   "cell_type": "code",
   "execution_count": 26,
   "metadata": {},
   "outputs": [
    {
     "data": {
      "text/html": [
       "45.5"
      ],
      "text/latex": [
       "45.5"
      ],
      "text/markdown": [
       "45.5"
      ],
      "text/plain": [
       "[1] 45.5"
      ]
     },
     "metadata": {},
     "output_type": "display_data"
    }
   ],
   "source": [
    "x <- 65\n",
    "r <- 0.75\n",
    "\n",
    "x_SU <- (x - 70)/10\n",
    "\n",
    "x_final <- (r * x_SU) * 12 + 50  \n",
    "\n",
    "x_final"
   ]
  },
  {
   "cell_type": "code",
   "execution_count": 154,
   "metadata": {},
   "outputs": [
    {
     "data": {
      "text/html": [
       "25"
      ],
      "text/latex": [
       "25"
      ],
      "text/markdown": [
       "25"
      ],
      "text/plain": [
       "[1] 25"
      ]
     },
     "metadata": {},
     "output_type": "display_data"
    },
    {
     "data": {
      "text/html": [
       "22.5"
      ],
      "text/latex": [
       "22.5"
      ],
      "text/markdown": [
       "22.5"
      ],
      "text/plain": [
       "[1] 22.5"
      ]
     },
     "metadata": {},
     "output_type": "display_data"
    }
   ],
   "source": [
    "90 - 65\n",
    "\n",
    "68 - 45.5\n",
    "\n",
    "# la dif es mas pequeña a pesar de que la sd final es mas grande. En promedio. "
   ]
  },
  {
   "cell_type": "markdown",
   "metadata": {},
   "source": [
    "# Línea de Regresión\n",
    "\n",
    "\\begin{equation} \\Huge\n",
    "\\frac{y - mean(y)}{sd(y)} = r \\ \\frac{x - mean(x)}{sd(x)}\n",
    "\\end{equation}\n",
    "\n",
    "Entonces, \n",
    "\n",
    "\\begin{equation} \\Huge\n",
    "a = r \\ \\frac{sd(y)}{sd(x)} \\\\ \\Huge\n",
    "b = mean(y) - a \\ mean(x)\n",
    "\\end{equation}\n",
    "\n",
    "La línea es:\n",
    "\n",
    "\n",
    "\\begin{equation} \\Huge\n",
    "y = a \\ x + b\n",
    "\\end{equation}\n"
   ]
  },
  {
   "cell_type": "code",
   "execution_count": 28,
   "metadata": {},
   "outputs": [
    {
     "data": {
      "text/html": [
       "0.76812274925444"
      ],
      "text/latex": [
       "0.76812274925444"
      ],
      "text/markdown": [
       "0.76812274925444"
      ],
      "text/plain": [
       "[1] 0.7681227"
      ]
     },
     "metadata": {},
     "output_type": "display_data"
    },
    {
     "data": {
      "text/html": [
       "42.3957806070695"
      ],
      "text/latex": [
       "42.3957806070695"
      ],
      "text/markdown": [
       "42.3957806070695"
      ],
      "text/plain": [
       "[1] 42.39578"
      ]
     },
     "metadata": {},
     "output_type": "display_data"
    }
   ],
   "source": [
    "a <- r* (sd(galton$Son)/sd(galton$Father))\n",
    "\n",
    "b <- mean(galton$Son) - a * mean(galton$Father)\n",
    "\n",
    "a # cuantos cms cambia el hijo por cada cm de padre. \n",
    "b # unidades en cm cuando el padre mide 0cm... "
   ]
  },
  {
   "cell_type": "code",
   "execution_count": 29,
   "metadata": {},
   "outputs": [
    {
     "data": {},
     "metadata": {},
     "output_type": "display_data"
    },
    {
     "data": {
      "image/png": "[encoded data removed]",
      "text/plain": [
       "plot without title"
      ]
     },
     "metadata": {},
     "output_type": "display_data"
    }
   ],
   "source": [
    "pred_Son <- a * galton$Father + b \n",
    "\n",
    "galton <- galton %>% mutate(pred = pred_Son)\n",
    "\n",
    "ggplot(galton) + geom_point(aes(Father, Son)) + geom_line(aes(Father, pred), color = \"blue\", size = 2)"
   ]
  },
  {
   "cell_type": "markdown",
   "metadata": {},
   "source": [
    " SU: \n",
    " \n",
    " -> 1 up r\n",
    " \n",
    " Unidades originales: \n",
    " \n",
    " -> SD_x up r*SD_y"
   ]
  }
 ],
 "metadata": {
  "anaconda-cloud": {},
  "kernelspec": {
   "display_name": "R 3.3",
   "language": "R",
   "name": "ir33"
  },
  "language_info": {
   "codemirror_mode": "r",
   "file_extension": ".r",
   "mimetype": "text/x-r-source",
   "name": "R",
   "pygments_lexer": "r",
   "version": "3.3.3"
  }
 },
 "nbformat": 4,
 "nbformat_minor": 1
}
