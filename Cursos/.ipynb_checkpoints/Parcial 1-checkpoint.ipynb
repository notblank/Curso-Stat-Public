{
 "cells": [
  {
   "cell_type": "code",
   "execution_count": 1,
   "metadata": {},
   "outputs": [
    {
     "name": "stderr",
     "output_type": "stream",
     "text": [
      "\n",
      "Attaching package: 'dplyr'\n",
      "\n",
      "The following objects are masked from 'package:stats':\n",
      "\n",
      "    filter, lag\n",
      "\n",
      "The following objects are masked from 'package:base':\n",
      "\n",
      "    intersect, setdiff, setequal, union\n",
      "\n"
     ]
    }
   ],
   "source": [
    "library(readr)\n",
    "library(dplyr, tidyr)\n",
    "library(ggplot2)"
   ]
  },
  {
   "cell_type": "code",
   "execution_count": 2,
   "metadata": {},
   "outputs": [
    {
     "name": "stderr",
     "output_type": "stream",
     "text": [
      "Parsed with column specification:\n",
      "cols(\n",
      "  id_libro = col_integer(),\n",
      "  autor = col_character(),\n",
      "  publicacion = col_double(),\n",
      "  titulo = col_character(),\n",
      "  num_libros = col_integer(),\n",
      "  imagen_libro = col_character()\n",
      ")\n",
      "Parsed with column specification:\n",
      "cols(\n",
      "  id_lector = col_integer(),\n",
      "  id_libro = col_integer(),\n",
      "  nota = col_integer()\n",
      ")\n"
     ]
    }
   ],
   "source": [
    "libros <- read_csv(file = \"C:/Users/Personal/Data-Science-Students/Tables/parcial1/libros.csv\")\n",
    "notas_lector <- read_csv(file = \"C:/Users/Personal/Data-Science-Students/Tables/parcial1/notas_lector.csv\")"
   ]
  },
  {
   "cell_type": "code",
   "execution_count": 3,
   "metadata": {},
   "outputs": [
    {
     "data": {
      "text/html": [
       "<table>\n",
       "<thead><tr><th scope=col>id_libro</th><th scope=col>autor</th><th scope=col>publicacion</th><th scope=col>titulo</th><th scope=col>num_libros</th><th scope=col>imagen_libro</th></tr></thead>\n",
       "<tbody>\n",
       "\t<tr><td>1                                                          </td><td>Suzanne Collins                                            </td><td>2008                                                       </td><td>The Hunger Games (The Hunger Games, #1)                    </td><td> 272                                                       </td><td>https://images.gr-assets.com/books/1447303603m/2767052.jpg </td></tr>\n",
       "\t<tr><td>2                                                          </td><td>J.K. Rowling, Mary GrandPré                                </td><td>1997                                                       </td><td>Harry Potter and the Sorcerer's Stone (Harry Potter, #1)   </td><td> 491                                                       </td><td>https://images.gr-assets.com/books/1474154022m/3.jpg       </td></tr>\n",
       "\t<tr><td>3                                                          </td><td>Stephenie Meyer                                            </td><td>2005                                                       </td><td>Twilight (Twilight, #1)                                    </td><td> 226                                                       </td><td>https://images.gr-assets.com/books/1361039443m/41865.jpg   </td></tr>\n",
       "\t<tr><td>4                                                          </td><td>Harper Lee                                                 </td><td>1960                                                       </td><td>To Kill a Mockingbird                                      </td><td> 487                                                       </td><td>https://images.gr-assets.com/books/1361975680m/2657.jpg    </td></tr>\n",
       "\t<tr><td>5                                                          </td><td>F. Scott Fitzgerald                                        </td><td>1925                                                       </td><td>The Great Gatsby                                           </td><td>1356                                                       </td><td>https://images.gr-assets.com/books/1490528560m/4671.jpg    </td></tr>\n",
       "\t<tr><td>6                                                          </td><td>John Green                                                 </td><td>2012                                                       </td><td>The Fault in Our Stars                                     </td><td> 226                                                       </td><td>https://images.gr-assets.com/books/1360206420m/11870085.jpg</td></tr>\n",
       "</tbody>\n",
       "</table>\n"
      ],
      "text/latex": [
       "\\begin{tabular}{r|llllll}\n",
       " id\\_libro & autor & publicacion & titulo & num\\_libros & imagen\\_libro\\\\\n",
       "\\hline\n",
       "\t 1                                                           & Suzanne Collins                                             & 2008                                                        & The Hunger Games (The Hunger Games, \\#1)                   &  272                                                        & https://images.gr-assets.com/books/1447303603m/2767052.jpg \\\\\n",
       "\t 2                                                           & J.K. Rowling, Mary GrandPré                                 & 1997                                                        & Harry Potter and the Sorcerer's Stone (Harry Potter, \\#1)  &  491                                                        & https://images.gr-assets.com/books/1474154022m/3.jpg       \\\\\n",
       "\t 3                                                           & Stephenie Meyer                                             & 2005                                                        & Twilight (Twilight, \\#1)                                   &  226                                                        & https://images.gr-assets.com/books/1361039443m/41865.jpg   \\\\\n",
       "\t 4                                                           & Harper Lee                                                  & 1960                                                        & To Kill a Mockingbird                                       &  487                                                        & https://images.gr-assets.com/books/1361975680m/2657.jpg    \\\\\n",
       "\t 5                                                           & F. Scott Fitzgerald                                         & 1925                                                        & The Great Gatsby                                            & 1356                                                        & https://images.gr-assets.com/books/1490528560m/4671.jpg    \\\\\n",
       "\t 6                                                           & John Green                                                  & 2012                                                        & The Fault in Our Stars                                      &  226                                                        & https://images.gr-assets.com/books/1360206420m/11870085.jpg\\\\\n",
       "\\end{tabular}\n"
      ],
      "text/markdown": [
       "\n",
       "id_libro | autor | publicacion | titulo | num_libros | imagen_libro | \n",
       "|---|---|---|---|---|---|\n",
       "| 1                                                           | Suzanne Collins                                             | 2008                                                        | The Hunger Games (The Hunger Games, #1)                     |  272                                                        | https://images.gr-assets.com/books/1447303603m/2767052.jpg  | \n",
       "| 2                                                           | J.K. Rowling, Mary GrandPré                                 | 1997                                                        | Harry Potter and the Sorcerer's Stone (Harry Potter, #1)    |  491                                                        | https://images.gr-assets.com/books/1474154022m/3.jpg        | \n",
       "| 3                                                           | Stephenie Meyer                                             | 2005                                                        | Twilight (Twilight, #1)                                     |  226                                                        | https://images.gr-assets.com/books/1361039443m/41865.jpg    | \n",
       "| 4                                                           | Harper Lee                                                  | 1960                                                        | To Kill a Mockingbird                                       |  487                                                        | https://images.gr-assets.com/books/1361975680m/2657.jpg     | \n",
       "| 5                                                           | F. Scott Fitzgerald                                         | 1925                                                        | The Great Gatsby                                            | 1356                                                        | https://images.gr-assets.com/books/1490528560m/4671.jpg     | \n",
       "| 6                                                           | John Green                                                  | 2012                                                        | The Fault in Our Stars                                      |  226                                                        | https://images.gr-assets.com/books/1360206420m/11870085.jpg | \n",
       "\n",
       "\n"
      ],
      "text/plain": [
       "  id_libro autor                       publicacion\n",
       "1 1        Suzanne Collins             2008       \n",
       "2 2        J.K. Rowling, Mary GrandPré 1997       \n",
       "3 3        Stephenie Meyer             2005       \n",
       "4 4        Harper Lee                  1960       \n",
       "5 5        F. Scott Fitzgerald         1925       \n",
       "6 6        John Green                  2012       \n",
       "  titulo                                                   num_libros\n",
       "1 The Hunger Games (The Hunger Games, #1)                   272      \n",
       "2 Harry Potter and the Sorcerer's Stone (Harry Potter, #1)  491      \n",
       "3 Twilight (Twilight, #1)                                   226      \n",
       "4 To Kill a Mockingbird                                     487      \n",
       "5 The Great Gatsby                                         1356      \n",
       "6 The Fault in Our Stars                                    226      \n",
       "  imagen_libro                                               \n",
       "1 https://images.gr-assets.com/books/1447303603m/2767052.jpg \n",
       "2 https://images.gr-assets.com/books/1474154022m/3.jpg       \n",
       "3 https://images.gr-assets.com/books/1361039443m/41865.jpg   \n",
       "4 https://images.gr-assets.com/books/1361975680m/2657.jpg    \n",
       "5 https://images.gr-assets.com/books/1490528560m/4671.jpg    \n",
       "6 https://images.gr-assets.com/books/1360206420m/11870085.jpg"
      ]
     },
     "metadata": {},
     "output_type": "display_data"
    },
    {
     "data": {
      "text/html": [
       "<table>\n",
       "<thead><tr><th scope=col>id_lector</th><th scope=col>id_libro</th><th scope=col>nota</th></tr></thead>\n",
       "<tbody>\n",
       "\t<tr><td>1   </td><td> 258</td><td>5   </td></tr>\n",
       "\t<tr><td>2   </td><td>4081</td><td>4   </td></tr>\n",
       "\t<tr><td>2   </td><td> 260</td><td>5   </td></tr>\n",
       "\t<tr><td>2   </td><td>9296</td><td>5   </td></tr>\n",
       "\t<tr><td>2   </td><td>2318</td><td>3   </td></tr>\n",
       "\t<tr><td>2   </td><td>  26</td><td>4   </td></tr>\n",
       "</tbody>\n",
       "</table>\n"
      ],
      "text/latex": [
       "\\begin{tabular}{r|lll}\n",
       " id\\_lector & id\\_libro & nota\\\\\n",
       "\\hline\n",
       "\t 1    &  258 & 5   \\\\\n",
       "\t 2    & 4081 & 4   \\\\\n",
       "\t 2    &  260 & 5   \\\\\n",
       "\t 2    & 9296 & 5   \\\\\n",
       "\t 2    & 2318 & 3   \\\\\n",
       "\t 2    &   26 & 4   \\\\\n",
       "\\end{tabular}\n"
      ],
      "text/markdown": [
       "\n",
       "id_lector | id_libro | nota | \n",
       "|---|---|---|---|---|---|\n",
       "| 1    |  258 | 5    | \n",
       "| 2    | 4081 | 4    | \n",
       "| 2    |  260 | 5    | \n",
       "| 2    | 9296 | 5    | \n",
       "| 2    | 2318 | 3    | \n",
       "| 2    |   26 | 4    | \n",
       "\n",
       "\n"
      ],
      "text/plain": [
       "  id_lector id_libro nota\n",
       "1 1          258     5   \n",
       "2 2         4081     4   \n",
       "3 2          260     5   \n",
       "4 2         9296     5   \n",
       "5 2         2318     3   \n",
       "6 2           26     4   "
      ]
     },
     "metadata": {},
     "output_type": "display_data"
    }
   ],
   "source": [
    "head(libros)\n",
    "head(notas_lector)"
   ]
  },
  {
   "cell_type": "markdown",
   "metadata": {},
   "source": [
    "## Group_by y summarize (Libros por usuario)"
   ]
  },
  {
   "cell_type": "code",
   "execution_count": 4,
   "metadata": {},
   "outputs": [
    {
     "data": {
      "text/html": [
       "<table>\n",
       "<thead><tr><th scope=col>id_lector</th><th scope=col>Num.Libros</th></tr></thead>\n",
       "<tbody>\n",
       "\t<tr><td>12874</td><td>200  </td></tr>\n",
       "\t<tr><td>30944</td><td>200  </td></tr>\n",
       "\t<tr><td>12381</td><td>199  </td></tr>\n",
       "\t<tr><td>28158</td><td>199  </td></tr>\n",
       "\t<tr><td>52036</td><td>199  </td></tr>\n",
       "\t<tr><td> 6630</td><td>197  </td></tr>\n",
       "</tbody>\n",
       "</table>\n"
      ],
      "text/latex": [
       "\\begin{tabular}{r|ll}\n",
       " id\\_lector & Num.Libros\\\\\n",
       "\\hline\n",
       "\t 12874 & 200  \\\\\n",
       "\t 30944 & 200  \\\\\n",
       "\t 12381 & 199  \\\\\n",
       "\t 28158 & 199  \\\\\n",
       "\t 52036 & 199  \\\\\n",
       "\t  6630 & 197  \\\\\n",
       "\\end{tabular}\n"
      ],
      "text/markdown": [
       "\n",
       "id_lector | Num.Libros | \n",
       "|---|---|---|---|---|---|\n",
       "| 12874 | 200   | \n",
       "| 30944 | 200   | \n",
       "| 12381 | 199   | \n",
       "| 28158 | 199   | \n",
       "| 52036 | 199   | \n",
       "|  6630 | 197   | \n",
       "\n",
       "\n"
      ],
      "text/plain": [
       "  id_lector Num.Libros\n",
       "1 12874     200       \n",
       "2 30944     200       \n",
       "3 12381     199       \n",
       "4 28158     199       \n",
       "5 52036     199       \n",
       "6  6630     197       "
      ]
     },
     "metadata": {},
     "output_type": "display_data"
    }
   ],
   "source": [
    "notas_lector %>% group_by(id_lector) %>% summarize(Num.Libros = n()) %>% arrange(-Num.Libros) %>% head()"
   ]
  },
  {
   "cell_type": "code",
   "execution_count": 15,
   "metadata": {},
   "outputs": [
    {
     "data": {
      "text/html": [
       "<table>\n",
       "<thead><tr><th scope=col>id_libro</th><th scope=col>Num.Cincos</th></tr></thead>\n",
       "<tbody>\n",
       "\t<tr><td>1    </td><td>11357</td></tr>\n",
       "\t<tr><td>2    </td><td>12186</td></tr>\n",
       "\t<tr><td>3    </td><td> 3991</td></tr>\n",
       "\t<tr><td>4    </td><td>10206</td></tr>\n",
       "\t<tr><td>5    </td><td> 4734</td></tr>\n",
       "\t<tr><td>6    </td><td> 5099</td></tr>\n",
       "</tbody>\n",
       "</table>\n"
      ],
      "text/latex": [
       "\\begin{tabular}{r|ll}\n",
       " id\\_libro & Num.Cincos\\\\\n",
       "\\hline\n",
       "\t 1     & 11357\\\\\n",
       "\t 2     & 12186\\\\\n",
       "\t 3     &  3991\\\\\n",
       "\t 4     & 10206\\\\\n",
       "\t 5     &  4734\\\\\n",
       "\t 6     &  5099\\\\\n",
       "\\end{tabular}\n"
      ],
      "text/markdown": [
       "\n",
       "id_libro | Num.Cincos | \n",
       "|---|---|---|---|---|---|\n",
       "| 1     | 11357 | \n",
       "| 2     | 12186 | \n",
       "| 3     |  3991 | \n",
       "| 4     | 10206 | \n",
       "| 5     |  4734 | \n",
       "| 6     |  5099 | \n",
       "\n",
       "\n"
      ],
      "text/plain": [
       "  id_libro Num.Cincos\n",
       "1 1        11357     \n",
       "2 2        12186     \n",
       "3 3         3991     \n",
       "4 4        10206     \n",
       "5 5         4734     \n",
       "6 6         5099     "
      ]
     },
     "metadata": {},
     "output_type": "display_data"
    }
   ],
   "source": [
    "# Paralelo A: \n",
    "notaMaxLector <- notas_lector %>% filter(nota == 5) %>% group_by(id_libro) %>% summarize(Num.Cincos = n())\n",
    "head(notaMaxLector)"
   ]
  },
  {
   "cell_type": "markdown",
   "metadata": {},
   "source": [
    "## Unir data.frames (Libro con mejor nota)"
   ]
  },
  {
   "cell_type": "code",
   "execution_count": 5,
   "metadata": {},
   "outputs": [
    {
     "data": {
      "text/html": [
       "<table>\n",
       "<thead><tr><th scope=col>id_libro</th><th scope=col>Nota.Prom</th></tr></thead>\n",
       "<tbody>\n",
       "\t<tr><td>1       </td><td>4.279707</td></tr>\n",
       "\t<tr><td>2       </td><td>4.351350</td></tr>\n",
       "\t<tr><td>3       </td><td>3.214341</td></tr>\n",
       "\t<tr><td>4       </td><td>4.329369</td></tr>\n",
       "\t<tr><td>5       </td><td>3.772224</td></tr>\n",
       "\t<tr><td>6       </td><td>4.190696</td></tr>\n",
       "</tbody>\n",
       "</table>\n"
      ],
      "text/latex": [
       "\\begin{tabular}{r|ll}\n",
       " id\\_libro & Nota.Prom\\\\\n",
       "\\hline\n",
       "\t 1        & 4.279707\\\\\n",
       "\t 2        & 4.351350\\\\\n",
       "\t 3        & 3.214341\\\\\n",
       "\t 4        & 4.329369\\\\\n",
       "\t 5        & 3.772224\\\\\n",
       "\t 6        & 4.190696\\\\\n",
       "\\end{tabular}\n"
      ],
      "text/markdown": [
       "\n",
       "id_libro | Nota.Prom | \n",
       "|---|---|---|---|---|---|\n",
       "| 1        | 4.279707 | \n",
       "| 2        | 4.351350 | \n",
       "| 3        | 3.214341 | \n",
       "| 4        | 4.329369 | \n",
       "| 5        | 3.772224 | \n",
       "| 6        | 4.190696 | \n",
       "\n",
       "\n"
      ],
      "text/plain": [
       "  id_libro Nota.Prom\n",
       "1 1        4.279707 \n",
       "2 2        4.351350 \n",
       "3 3        3.214341 \n",
       "4 4        4.329369 \n",
       "5 5        3.772224 \n",
       "6 6        4.190696 "
      ]
     },
     "metadata": {},
     "output_type": "display_data"
    }
   ],
   "source": [
    "libros_nota_prom <- notas_lector %>% group_by(id_libro) %>% summarize(Nota.Prom = mean(nota))   \n",
    "\n",
    "head(libros_nota_prom)"
   ]
  },
  {
   "cell_type": "code",
   "execution_count": 8,
   "metadata": {},
   "outputs": [
    {
     "data": {
      "text/html": [
       "<ol class=list-inline>\n",
       "\t<li>10000</li>\n",
       "\t<li>7</li>\n",
       "</ol>\n"
      ],
      "text/latex": [
       "\\begin{enumerate*}\n",
       "\\item 10000\n",
       "\\item 7\n",
       "\\end{enumerate*}\n"
      ],
      "text/markdown": [
       "1. 10000\n",
       "2. 7\n",
       "\n",
       "\n"
      ],
      "text/plain": [
       "[1] 10000     7"
      ]
     },
     "metadata": {},
     "output_type": "display_data"
    },
    {
     "data": {
      "text/html": [
       "<table>\n",
       "<thead><tr><th scope=col>id_libro</th><th scope=col>Nota.Prom</th><th scope=col>autor</th><th scope=col>publicacion</th><th scope=col>titulo</th><th scope=col>num_libros</th><th scope=col>imagen_libro</th></tr></thead>\n",
       "<tbody>\n",
       "\t<tr><td>1793                                                                                    </td><td>2.077966                                                                                </td><td>Chetan Bhagat                                                                           </td><td>2005                                                                                    </td><td>One Night at the Call Center                                                            </td><td>25                                                                                      </td><td>https://images.gr-assets.com/books/1320500924m/105578.jpg                               </td></tr>\n",
       "\t<tr><td>4045                                                                                    </td><td>2.254717                                                                                </td><td>Chetan Bhagat                                                                           </td><td>2014                                                                                    </td><td>Half Girlfriend                                                                         </td><td> 8                                                                                      </td><td>https://images.gr-assets.com/books/1407223058m/22874559.jpg                             </td></tr>\n",
       "\t<tr><td>7636                                                                                    </td><td>2.283333                                                                                </td><td>Durjoy Datta, Maanvi Ahuja                                                              </td><td>2008                                                                                    </td><td>Of Course I Love You...! Till I Find Someone Better...                                  </td><td> 7                                                                                      </td><td>https://images.gr-assets.com/books/1274597947m/7011879.jpg                              </td></tr>\n",
       "\t<tr><td>4991                                                                                    </td><td>2.462687                                                                                </td><td>Ravinder Singh                                                                          </td><td>2011                                                                                    </td><td>Can Love Happen Twice?                                                                  </td><td> 7                                                                                      </td><td>https://images.gr-assets.com/books/1321016822m/13041934.jpg                             </td></tr>\n",
       "\t<tr><td>1822                                                                                    </td><td>2.492537                                                                                </td><td>Chetan Bhagat                                                                           </td><td>2011                                                                                    </td><td>Revolution 2020: Love, Corruption, Ambition                                             </td><td>20                                                                                      </td><td>https://images.gr-assets.com/books/1317964666m/12615008.jpg                             </td></tr>\n",
       "\t<tr><td>1409                                                                                    </td><td>2.512367                                                                                </td><td>Chetan Bhagat                                                                           </td><td>2008                                                                                    </td><td>The 3 Mistakes of My Life                                                               </td><td>18                                                                                      </td><td>https://s.gr-assets.com/assets/nophoto/book/111x148-bcc042a9c91a29c1d680899eff700a03.png</td></tr>\n",
       "</tbody>\n",
       "</table>\n"
      ],
      "text/latex": [
       "\\begin{tabular}{r|lllllll}\n",
       " id\\_libro & Nota.Prom & autor & publicacion & titulo & num\\_libros & imagen\\_libro\\\\\n",
       "\\hline\n",
       "\t 1793                                                                                     & 2.077966                                                                                 & Chetan Bhagat                                                                            & 2005                                                                                     & One Night at the Call Center                                                             & 25                                                                                       & https://images.gr-assets.com/books/1320500924m/105578.jpg                               \\\\\n",
       "\t 4045                                                                                     & 2.254717                                                                                 & Chetan Bhagat                                                                            & 2014                                                                                     & Half Girlfriend                                                                          &  8                                                                                       & https://images.gr-assets.com/books/1407223058m/22874559.jpg                             \\\\\n",
       "\t 7636                                                                                     & 2.283333                                                                                 & Durjoy Datta, Maanvi Ahuja                                                               & 2008                                                                                     & Of Course I Love You...! Till I Find Someone Better...                                   &  7                                                                                       & https://images.gr-assets.com/books/1274597947m/7011879.jpg                              \\\\\n",
       "\t 4991                                                                                     & 2.462687                                                                                 & Ravinder Singh                                                                           & 2011                                                                                     & Can Love Happen Twice?                                                                   &  7                                                                                       & https://images.gr-assets.com/books/1321016822m/13041934.jpg                             \\\\\n",
       "\t 1822                                                                                     & 2.492537                                                                                 & Chetan Bhagat                                                                            & 2011                                                                                     & Revolution 2020: Love, Corruption, Ambition                                              & 20                                                                                       & https://images.gr-assets.com/books/1317964666m/12615008.jpg                             \\\\\n",
       "\t 1409                                                                                     & 2.512367                                                                                 & Chetan Bhagat                                                                            & 2008                                                                                     & The 3 Mistakes of My Life                                                                & 18                                                                                       & https://s.gr-assets.com/assets/nophoto/book/111x148-bcc042a9c91a29c1d680899eff700a03.png\\\\\n",
       "\\end{tabular}\n"
      ],
      "text/markdown": [
       "\n",
       "id_libro | Nota.Prom | autor | publicacion | titulo | num_libros | imagen_libro | \n",
       "|---|---|---|---|---|---|\n",
       "| 1793                                                                                     | 2.077966                                                                                 | Chetan Bhagat                                                                            | 2005                                                                                     | One Night at the Call Center                                                             | 25                                                                                       | https://images.gr-assets.com/books/1320500924m/105578.jpg                                | \n",
       "| 4045                                                                                     | 2.254717                                                                                 | Chetan Bhagat                                                                            | 2014                                                                                     | Half Girlfriend                                                                          |  8                                                                                       | https://images.gr-assets.com/books/1407223058m/22874559.jpg                              | \n",
       "| 7636                                                                                     | 2.283333                                                                                 | Durjoy Datta, Maanvi Ahuja                                                               | 2008                                                                                     | Of Course I Love You...! Till I Find Someone Better...                                   |  7                                                                                       | https://images.gr-assets.com/books/1274597947m/7011879.jpg                               | \n",
       "| 4991                                                                                     | 2.462687                                                                                 | Ravinder Singh                                                                           | 2011                                                                                     | Can Love Happen Twice?                                                                   |  7                                                                                       | https://images.gr-assets.com/books/1321016822m/13041934.jpg                              | \n",
       "| 1822                                                                                     | 2.492537                                                                                 | Chetan Bhagat                                                                            | 2011                                                                                     | Revolution 2020: Love, Corruption, Ambition                                              | 20                                                                                       | https://images.gr-assets.com/books/1317964666m/12615008.jpg                              | \n",
       "| 1409                                                                                     | 2.512367                                                                                 | Chetan Bhagat                                                                            | 2008                                                                                     | The 3 Mistakes of My Life                                                                | 18                                                                                       | https://s.gr-assets.com/assets/nophoto/book/111x148-bcc042a9c91a29c1d680899eff700a03.png | \n",
       "\n",
       "\n"
      ],
      "text/plain": [
       "  id_libro Nota.Prom autor                      publicacion\n",
       "1 1793     2.077966  Chetan Bhagat              2005       \n",
       "2 4045     2.254717  Chetan Bhagat              2014       \n",
       "3 7636     2.283333  Durjoy Datta, Maanvi Ahuja 2008       \n",
       "4 4991     2.462687  Ravinder Singh             2011       \n",
       "5 1822     2.492537  Chetan Bhagat              2011       \n",
       "6 1409     2.512367  Chetan Bhagat              2008       \n",
       "  titulo                                                 num_libros\n",
       "1 One Night at the Call Center                           25        \n",
       "2 Half Girlfriend                                         8        \n",
       "3 Of Course I Love You...! Till I Find Someone Better...  7        \n",
       "4 Can Love Happen Twice?                                  7        \n",
       "5 Revolution 2020: Love, Corruption, Ambition            20        \n",
       "6 The 3 Mistakes of My Life                              18        \n",
       "  imagen_libro                                                                            \n",
       "1 https://images.gr-assets.com/books/1320500924m/105578.jpg                               \n",
       "2 https://images.gr-assets.com/books/1407223058m/22874559.jpg                             \n",
       "3 https://images.gr-assets.com/books/1274597947m/7011879.jpg                              \n",
       "4 https://images.gr-assets.com/books/1321016822m/13041934.jpg                             \n",
       "5 https://images.gr-assets.com/books/1317964666m/12615008.jpg                             \n",
       "6 https://s.gr-assets.com/assets/nophoto/book/111x148-bcc042a9c91a29c1d680899eff700a03.png"
      ]
     },
     "metadata": {},
     "output_type": "display_data"
    }
   ],
   "source": [
    "libros_notas <- inner_join(libros_nota_prom, libros, by = \"id_libro\")\n",
    "\n",
    "dim(libros_notas)\n",
    "head(libros_notas %>% arrange(Nota.Prom))"
   ]
  },
  {
   "cell_type": "code",
   "execution_count": 16,
   "metadata": {},
   "outputs": [
    {
     "data": {
      "text/html": [
       "<table>\n",
       "<thead><tr><th scope=col>id_libro</th><th scope=col>Num.Cincos</th><th scope=col>autor</th><th scope=col>publicacion</th><th scope=col>titulo</th><th scope=col>num_libros</th><th scope=col>imagen_libro</th></tr></thead>\n",
       "<tbody>\n",
       "\t<tr><td> 2                                                                         </td><td>12186                                                                      </td><td>J.K. Rowling, Mary GrandPré                                                </td><td>1997                                                                       </td><td>Harry Potter and the Sorcerer's Stone (Harry Potter, #1)                   </td><td> 491                                                                       </td><td>https://images.gr-assets.com/books/1474154022m/3.jpg                       </td></tr>\n",
       "\t<tr><td> 1                                                                         </td><td>11357                                                                      </td><td>Suzanne Collins                                                            </td><td>2008                                                                       </td><td>The Hunger Games (The Hunger Games, #1)                                    </td><td> 272                                                                       </td><td>https://images.gr-assets.com/books/1447303603m/2767052.jpg                 </td></tr>\n",
       "\t<tr><td> 4                                                                         </td><td>10206                                                                      </td><td>Harper Lee                                                                 </td><td>1960                                                                       </td><td>To Kill a Mockingbird                                                      </td><td> 487                                                                       </td><td>https://images.gr-assets.com/books/1361975680m/2657.jpg                    </td></tr>\n",
       "\t<tr><td>25                                                                         </td><td> 9904                                                                      </td><td>J.K. Rowling, Mary GrandPré                                                </td><td>2007                                                                       </td><td>Harry Potter and the Deathly Hallows (Harry Potter, #7)                    </td><td> 263                                                                       </td><td>https://images.gr-assets.com/books/1474171184m/136251.jpg                  </td></tr>\n",
       "\t<tr><td>18                                                                         </td><td> 8981                                                                      </td><td>J.K. Rowling, Mary GrandPré, Rufus Beck                                    </td><td>1999                                                                       </td><td>Harry Potter and the Prisoner of Azkaban (Harry Potter, #3)                </td><td> 376                                                                       </td><td>https://images.gr-assets.com/books/1499277281m/5.jpg                       </td></tr>\n",
       "\t<tr><td>24                                                                         </td><td> 8837                                                                      </td><td>J.K. Rowling, Mary GrandPré                                                </td><td>2000                                                                       </td><td>Harry Potter and the Goblet of Fire (Harry Potter, #4)                     </td><td> 332                                                                       </td><td>https://images.gr-assets.com/books/1361482611m/6.jpg                       </td></tr>\n",
       "\t<tr><td>27                                                                         </td><td> 8710                                                                      </td><td>J.K. Rowling, Mary GrandPré                                                </td><td>2005                                                                       </td><td>Harry Potter and the Half-Blood Prince (Harry Potter, #6)                  </td><td> 275                                                                       </td><td>https://images.gr-assets.com/books/1361039191m/1.jpg                       </td></tr>\n",
       "\t<tr><td>21                                                                         </td><td> 8195                                                                      </td><td>J.K. Rowling, Mary GrandPré                                                </td><td>2003                                                                       </td><td>Harry Potter and the Order of the Phoenix (Harry Potter, #5)               </td><td> 307                                                                       </td><td>https://images.gr-assets.com/books/1387141547m/2.jpg                       </td></tr>\n",
       "\t<tr><td>23                                                                         </td><td> 7400                                                                      </td><td>J.K. Rowling, Mary GrandPré                                                </td><td>1998                                                                       </td><td>Harry Potter and the Chamber of Secrets (Harry Potter, #2)                 </td><td> 398                                                                       </td><td>https://images.gr-assets.com/books/1474169725m/15881.jpg                   </td></tr>\n",
       "\t<tr><td> 7                                                                         </td><td> 7101                                                                      </td><td>J.R.R. Tolkien                                                             </td><td>1937                                                                       </td><td>The Hobbit                                                                 </td><td> 969                                                                       </td><td>https://images.gr-assets.com/books/1372847500m/5907.jpg                    </td></tr>\n",
       "\t<tr><td>31                                                                         </td><td> 6917                                                                      </td><td>Kathryn Stockett                                                           </td><td>2009                                                                       </td><td>The Help                                                                   </td><td> 183                                                                       </td><td>https://images.gr-assets.com/books/1346100365m/4667024.jpg                 </td></tr>\n",
       "\t<tr><td>10                                                                         </td><td> 6593                                                                      </td><td>Jane Austen                                                                </td><td>1813                                                                       </td><td>Pride and Prejudice                                                        </td><td>3455                                                                       </td><td>https://images.gr-assets.com/books/1320399351m/1885.jpg                    </td></tr>\n",
       "\t<tr><td>19                                                                         </td><td> 6565                                                                      </td><td>J.R.R. Tolkien                                                             </td><td>1954                                                                       </td><td>The Fellowship of the Ring (The Lord of the Rings, #1)                     </td><td> 566                                                                       </td><td>https://images.gr-assets.com/books/1298411339m/34.jpg                      </td></tr>\n",
       "\t<tr><td>17                                                                         </td><td> 6509                                                                      </td><td>Suzanne Collins                                                            </td><td>2009                                                                       </td><td>Catching Fire (The Hunger Games, #2)                                       </td><td> 201                                                                       </td><td>https://images.gr-assets.com/books/1358273780m/6148028.jpg                 </td></tr>\n",
       "\t<tr><td>39                                                                         </td><td> 5702                                                                      </td><td>George R.R. Martin                                                         </td><td>1996                                                                       </td><td>A Game of Thrones (A Song of Ice and Fire, #1)                             </td><td> 101                                                                       </td><td>https://images.gr-assets.com/books/1436732693m/13496.jpg                   </td></tr>\n",
       "\t<tr><td>11                                                                         </td><td> 5673                                                                      </td><td>Khaled Hosseini                                                            </td><td>2003                                                                       </td><td>The Kite Runner                                                            </td><td> 283                                                                       </td><td>https://images.gr-assets.com/books/1484565687m/77203.jpg                   </td></tr>\n",
       "\t<tr><td>13                                                                         </td><td> 5520                                                                      </td><td>George Orwell, Erich Fromm, Celâl Üster                                    </td><td>1949                                                                       </td><td>1984                                                                       </td><td> 995                                                                       </td><td>https://images.gr-assets.com/books/1348990566m/5470.jpg                    </td></tr>\n",
       "\t<tr><td>37                                                                         </td><td> 5388                                                                      </td><td>C.S. Lewis                                                                 </td><td>1950                                                                       </td><td>The Lion, the Witch, and the Wardrobe (Chronicles of Narnia, #1)           </td><td> 474                                                                       </td><td>https://images.gr-assets.com/books/1353029077m/100915.jpg                  </td></tr>\n",
       "\t<tr><td>16                                                                         </td><td> 5381                                                                      </td><td>Stieg Larsson, Reg Keeland                                                 </td><td>2005                                                                       </td><td>The Girl with the Dragon Tattoo (Millennium, #1)                           </td><td> 274                                                                       </td><td>https://images.gr-assets.com/books/1327868566m/2429135.jpg                 </td></tr>\n",
       "\t<tr><td>47                                                                         </td><td> 5369                                                                      </td><td>Markus Zusak                                                               </td><td>2005                                                                       </td><td>The Book Thief                                                             </td><td> 251                                                                       </td><td>https://images.gr-assets.com/books/1390053681m/19063.jpg                   </td></tr>\n",
       "\t<tr><td> 6                                                                         </td><td> 5099                                                                      </td><td>John Green                                                                 </td><td>2012                                                                       </td><td>The Fault in Our Stars                                                     </td><td> 226                                                                       </td><td>https://images.gr-assets.com/books/1360206420m/11870085.jpg                </td></tr>\n",
       "\t<tr><td>20                                                                         </td><td> 4836                                                                      </td><td>Suzanne Collins                                                            </td><td>2010                                                                       </td><td>Mockingjay (The Hunger Games, #3)                                          </td><td> 239                                                                       </td><td>https://images.gr-assets.com/books/1358275419m/7260188.jpg                 </td></tr>\n",
       "\t<tr><td> 5                                                                         </td><td> 4734                                                                      </td><td>F. Scott Fitzgerald                                                        </td><td>1925                                                                       </td><td>The Great Gatsby                                                           </td><td>1356                                                                       </td><td>https://images.gr-assets.com/books/1490528560m/4671.jpg                    </td></tr>\n",
       "\t<tr><td>15                                                                         </td><td> 4635                                                                      </td><td>Anne Frank, Eleanor Roosevelt, B.M. Mooyaart-Doubleday                     </td><td>1947                                                                       </td><td>The Diary of a Young Girl                                                  </td><td> 710                                                                       </td><td>https://images.gr-assets.com/books/1358276407m/48855.jpg                   </td></tr>\n",
       "\t<tr><td>54                                                                         </td><td> 4422                                                                      </td><td>Douglas Adams                                                              </td><td>1979                                                                       </td><td>The Hitchhiker's Guide to the Galaxy (Hitchhiker's Guide to the Galaxy, #1)</td><td> 257                                                                       </td><td>https://images.gr-assets.com/books/1327656754m/11.jpg                      </td></tr>\n",
       "\t<tr><td>70                                                                         </td><td> 4422                                                                      </td><td>Orson Scott Card                                                           </td><td>1985                                                                       </td><td>Ender's Game (Ender's Saga, #1)                                            </td><td> 224                                                                       </td><td>https://images.gr-assets.com/books/1408303130m/375802.jpg                  </td></tr>\n",
       "\t<tr><td>12                                                                         </td><td> 4389                                                                      </td><td>Veronica Roth                                                              </td><td>2011                                                                       </td><td>Divergent (Divergent, #1)                                                  </td><td> 210                                                                       </td><td>https://images.gr-assets.com/books/1328559506m/13335037.jpg                </td></tr>\n",
       "\t<tr><td>36                                                                         </td><td> 4319                                                                      </td><td>Lois Lowry                                                                 </td><td>1993                                                                       </td><td>The Giver (The Giver, #1)                                                  </td><td> 192                                                                       </td><td>https://images.gr-assets.com/books/1342493368m/3636.jpg                    </td></tr>\n",
       "\t<tr><td>50                                                                         </td><td> 4286                                                                      </td><td>Shel Silverstein                                                           </td><td>1974                                                                       </td><td>Where the Sidewalk Ends                                                    </td><td>  45                                                                       </td><td>https://images.gr-assets.com/books/1168052448m/30119.jpg                   </td></tr>\n",
       "\t<tr><td> 8                                                                         </td><td> 4226                                                                      </td><td>J.D. Salinger                                                              </td><td>1951                                                                       </td><td>The Catcher in the Rye                                                     </td><td> 360                                                                       </td><td>https://images.gr-assets.com/books/1398034300m/5107.jpg                    </td></tr>\n",
       "\t<tr><td>...</td><td>...</td><td>...</td><td>...</td><td>...</td><td>...</td><td>...</td></tr>\n",
       "\t<tr><td>9666                                                                                                </td><td>9                                                                                                   </td><td>Christian Rudder                                                                                    </td><td>2014                                                                                                </td><td>Dataclysm: Who We Are (When We Think No One's Looking)                                              </td><td> 27                                                                                                 </td><td>https://images.gr-assets.com/books/1407763834m/21480734.jpg                                         </td></tr>\n",
       "\t<tr><td>9916                                                                                                </td><td>9                                                                                                   </td><td>Sophie Kinsella                                                                                     </td><td>2015                                                                                                </td><td>Shopaholic to the Rescue (Shopaholic, #8)                                                           </td><td> 42                                                                                                 </td><td>https://images.gr-assets.com/books/1439942710m/25809756.jpg                                         </td></tr>\n",
       "\t<tr><td>9918                                                                                                </td><td>9                                                                                                   </td><td>Jana Deleon                                                                                         </td><td>2009                                                                                                </td><td>Trouble in Mudbug (Ghost-in-Law, #1)                                                                </td><td> 13                                                                                                 </td><td>https://s.gr-assets.com/assets/nophoto/book/111x148-bcc042a9c91a29c1d680899eff700a03.png            </td></tr>\n",
       "\t<tr><td>6394                                                                                                </td><td>8                                                                                                   </td><td>Megan Abbott                                                                                        </td><td>2014                                                                                                </td><td>The Fever                                                                                           </td><td> 28                                                                                                 </td><td>https://images.gr-assets.com/books/1381359885m/18656036.jpg                                         </td></tr>\n",
       "\t<tr><td>7545                                                                                                </td><td>8                                                                                                   </td><td>Courtney Maum                                                                                       </td><td>2014                                                                                                </td><td>I Am Having So Much Fun Here Without You                                                            </td><td> 13                                                                                                 </td><td>https://images.gr-assets.com/books/1403390765m/18775284.jpg                                         </td></tr>\n",
       "\t<tr><td>7800                                                                                                </td><td>8                                                                                                   </td><td>Bret Easton Ellis                                                                                   </td><td>2010                                                                                                </td><td>Imperial Bedrooms                                                                                   </td><td> 42                                                                                                 </td><td>https://images.gr-assets.com/books/1278878105m/7519866.jpg                                          </td></tr>\n",
       "\t<tr><td>8466                                                                                                                                                                                              </td><td>8                                                                                                                                                                                                 </td><td>&lt;U+062E&gt;&lt;U+0627&gt;&lt;U+0644&gt;&lt;U+062F&gt; &lt;U+0627&gt;&lt;U+0644&gt;&lt;U+0628&gt;&lt;U+0627&gt;&lt;U+062A&gt;&lt;U+0644&gt;&lt;U+064A&gt;                                       </td><td>2010                                                                                                                                                                                              </td><td><span style=white-space:pre-wrap>&lt;U+0644&gt;&lt;U+064A&gt;&lt;U+062A&gt;&lt;U+0647&gt;&lt;U+0627&gt; &lt;U+062A&gt;&lt;U+0642&gt;&lt;U+0631&gt;&lt;U+0623&gt;                           </span></td><td><span style=white-space:pre-wrap>  2</span>                                                                                                                                                       </td><td>https://s.gr-assets.com/assets/nophoto/book/111x148-bcc042a9c91a29c1d680899eff700a03.png                                                                                                          </td></tr>\n",
       "\t<tr><td>8540                                                                                                </td><td>8                                                                                                   </td><td>Candace Bushnell                                                                                    </td><td>2011                                                                                                </td><td>Summer and the City (The Carrie Diaries, #2)                                                        </td><td> 54                                                                                                 </td><td>https://images.gr-assets.com/books/1366212836m/9266769.jpg                                          </td></tr>\n",
       "\t<tr><td>8723                                                                                                </td><td>8                                                                                                   </td><td>Lucie Whitehouse                                                                                    </td><td>2014                                                                                                </td><td>Before We Met                                                                                       </td><td> 22                                                                                                 </td><td>https://images.gr-assets.com/books/1369569396m/17978144.jpg                                         </td></tr>\n",
       "\t<tr><td>9107                                                                                                </td><td>8                                                                                                   </td><td>Ira Wagler                                                                                          </td><td>2011                                                                                                </td><td>Growing Up Amish                                                                                    </td><td>  8                                                                                                 </td><td>https://images.gr-assets.com/books/1406514526m/10870589.jpg                                         </td></tr>\n",
       "\t<tr><td>9523                                                                                                </td><td>8                                                                                                   </td><td>Chuck Palahniuk                                                                                     </td><td>2014                                                                                                </td><td>Beautiful You                                                                                       </td><td> 47                                                                                                 </td><td>https://images.gr-assets.com/books/1399667103m/19523454.jpg                                         </td></tr>\n",
       "\t<tr><td>6819                                                                                                </td><td>7                                                                                                   </td><td>Preeti Shenoy                                                                                       </td><td>2011                                                                                                </td><td>Life is What You Make It: A Story of Love, Hope and How Determination Can Overcome Even Destiny     </td><td>  4                                                                                                 </td><td>https://images.gr-assets.com/books/1308754493m/11256293.jpg                                         </td></tr>\n",
       "\t<tr><td>8166                                                                                                </td><td>7                                                                                                   </td><td>Julia Pierpont                                                                                      </td><td>2015                                                                                                </td><td>Among the Ten Thousand Things                                                                       </td><td> 19                                                                                                 </td><td>https://images.gr-assets.com/books/1464907467m/23503361.jpg                                         </td></tr>\n",
       "\t<tr><td>8686                                                                                                </td><td>7                                                                                                   </td><td>Robert W. Chambers, E.F. Bleiler                                                                    </td><td>1895                                                                                                </td><td>The King in Yellow and Other Horror Stories                                                         </td><td>341                                                                                                 </td><td>https://images.gr-assets.com/books/1416873291m/129798.jpg                                           </td></tr>\n",
       "\t<tr><td>8920                                                                                                </td><td>7                                                                                                   </td><td>Arthur Nersesian                                                                                    </td><td>1997                                                                                                </td><td>The Fuck-Up                                                                                         </td><td> 10                                                                                                 </td><td>https://s.gr-assets.com/assets/nophoto/book/111x148-bcc042a9c91a29c1d680899eff700a03.png            </td></tr>\n",
       "\t<tr><td>9669                                                                                                </td><td>7                                                                                                   </td><td>Sarah Lotz                                                                                          </td><td>2014                                                                                                </td><td>The Three (The Three, #1)                                                                           </td><td> 51                                                                                                 </td><td>https://images.gr-assets.com/books/1379897631m/18453110.jpg                                         </td></tr>\n",
       "\t<tr><td>9680                                                                                                </td><td>7                                                                                                   </td><td>Arianna Huffington                                                                                  </td><td>2014                                                                                                </td><td>Thrive: The Third Metric to Redefining Success and Creating a Life of Well-Being, Wisdom, and Wonder</td><td> 26                                                                                                 </td><td>https://images.gr-assets.com/books/1400873884m/18594634.jpg                                         </td></tr>\n",
       "\t<tr><td>9705                                                                                                </td><td>7                                                                                                   </td><td>AnnaLisa Grant                                                                                      </td><td>2013                                                                                                </td><td>The Lake (The Lake Trilogy #1)                                                                      </td><td>  5                                                                                                 </td><td>https://images.gr-assets.com/books/1461854990m/17794657.jpg                                         </td></tr>\n",
       "\t<tr><td>6584                                                                                                </td><td>6                                                                                                   </td><td>Paul Pilkington                                                                                     </td><td>2011                                                                                                </td><td>The One You Love (Emma Holden Suspense Mystery, #1)                                                 </td><td> 15                                                                                                 </td><td>https://images.gr-assets.com/books/1328103463m/11981168.jpg                                         </td></tr>\n",
       "\t<tr><td>8583                                                                                                </td><td>6                                                                                                   </td><td>Louise Jensen                                                                                       </td><td>2016                                                                                                </td><td>The Sister                                                                                          </td><td> 13                                                                                                 </td><td>https://s.gr-assets.com/assets/nophoto/book/111x148-bcc042a9c91a29c1d680899eff700a03.png            </td></tr>\n",
       "\t<tr><td>1793                                                                                                </td><td>5                                                                                                   </td><td>Chetan Bhagat                                                                                       </td><td>2005                                                                                                </td><td>One Night at the Call Center                                                                        </td><td> 25                                                                                                 </td><td>https://images.gr-assets.com/books/1320500924m/105578.jpg                                           </td></tr>\n",
       "\t<tr><td>1822                                                                                                </td><td>5                                                                                                   </td><td>Chetan Bhagat                                                                                       </td><td>2011                                                                                                </td><td>Revolution 2020: Love, Corruption, Ambition                                                         </td><td> 20                                                                                                 </td><td>https://images.gr-assets.com/books/1317964666m/12615008.jpg                                         </td></tr>\n",
       "\t<tr><td>7980                                                                                                </td><td>5                                                                                                   </td><td>Wednesday Martin                                                                                    </td><td>2015                                                                                                </td><td>Primates of Park Avenue                                                                             </td><td> 20                                                                                                 </td><td>https://images.gr-assets.com/books/1430942586m/23492673.jpg                                         </td></tr>\n",
       "\t<tr><td>4991                                                                                                </td><td>4                                                                                                   </td><td>Ravinder Singh                                                                                      </td><td>2011                                                                                                </td><td>Can Love Happen Twice?                                                                              </td><td>  7                                                                                                 </td><td>https://images.gr-assets.com/books/1321016822m/13041934.jpg                                         </td></tr>\n",
       "\t<tr><td>7636                                                                                                </td><td>4                                                                                                   </td><td>Durjoy Datta, Maanvi Ahuja                                                                          </td><td>2008                                                                                                </td><td>Of Course I Love You...! Till I Find Someone Better...                                              </td><td>  7                                                                                                 </td><td>https://images.gr-assets.com/books/1274597947m/7011879.jpg                                          </td></tr>\n",
       "\t<tr><td>8297                                                                                                </td><td>4                                                                                                   </td><td>Edie Claire                                                                                         </td><td>2003                                                                                                </td><td>Long Time Coming                                                                                    </td><td>  8                                                                                                 </td><td>https://s.gr-assets.com/assets/nophoto/book/111x148-bcc042a9c91a29c1d680899eff700a03.png            </td></tr>\n",
       "\t<tr><td>9840                                                                                                </td><td>4                                                                                                   </td><td>Barbara Taylor Sissel                                                                               </td><td>2015                                                                                                </td><td>Crooked Little Lies                                                                                 </td><td>  6                                                                                                 </td><td>https://s.gr-assets.com/assets/nophoto/book/111x148-bcc042a9c91a29c1d680899eff700a03.png            </td></tr>\n",
       "\t<tr><td>9345                                                                                                </td><td>3                                                                                                   </td><td>HaveYouSeenThisGirL, Jan Irene Villar                                                               </td><td>2013                                                                                                </td><td>Diary ng Panget                                                                                     </td><td>  2                                                                                                 </td><td>https://images.gr-assets.com/books/1368083785m/17903381.jpg                                         </td></tr>\n",
       "\t<tr><td>7803                                                                                                </td><td>2                                                                                                   </td><td>Amazon                                                                                              </td><td>2009                                                                                                </td><td>Kindle User's Guide                                                                                 </td><td> 67                                                                                                 </td><td>https://s.gr-assets.com/assets/nophoto/book/111x148-bcc042a9c91a29c1d680899eff700a03.png            </td></tr>\n",
       "\t<tr><td>4045                                                                                                </td><td>1                                                                                                   </td><td>Chetan Bhagat                                                                                       </td><td>2014                                                                                                </td><td>Half Girlfriend                                                                                     </td><td>  8                                                                                                 </td><td>https://images.gr-assets.com/books/1407223058m/22874559.jpg                                         </td></tr>\n",
       "</tbody>\n",
       "</table>\n"
      ],
      "text/latex": [
       "\\begin{tabular}{r|lllllll}\n",
       " id\\_libro & Num.Cincos & autor & publicacion & titulo & num\\_libros & imagen\\_libro\\\\\n",
       "\\hline\n",
       "\t  2                                                                            & 12186                                                                         & J.K. Rowling, Mary GrandPré                                                   & 1997                                                                          & Harry Potter and the Sorcerer's Stone (Harry Potter, \\#1)                    &  491                                                                          & https://images.gr-assets.com/books/1474154022m/3.jpg                         \\\\\n",
       "\t  1                                                                            & 11357                                                                         & Suzanne Collins                                                               & 2008                                                                          & The Hunger Games (The Hunger Games, \\#1)                                     &  272                                                                          & https://images.gr-assets.com/books/1447303603m/2767052.jpg                   \\\\\n",
       "\t  4                                                                          & 10206                                                                       & Harper Lee                                                                  & 1960                                                                        & To Kill a Mockingbird                                                       &  487                                                                        & https://images.gr-assets.com/books/1361975680m/2657.jpg                    \\\\\n",
       "\t 25                                                                            &  9904                                                                         & J.K. Rowling, Mary GrandPré                                                   & 2007                                                                          & Harry Potter and the Deathly Hallows (Harry Potter, \\#7)                     &  263                                                                          & https://images.gr-assets.com/books/1474171184m/136251.jpg                    \\\\\n",
       "\t 18                                                                            &  8981                                                                         & J.K. Rowling, Mary GrandPré, Rufus Beck                                       & 1999                                                                          & Harry Potter and the Prisoner of Azkaban (Harry Potter, \\#3)                 &  376                                                                          & https://images.gr-assets.com/books/1499277281m/5.jpg                         \\\\\n",
       "\t 24                                                                            &  8837                                                                         & J.K. Rowling, Mary GrandPré                                                   & 2000                                                                          & Harry Potter and the Goblet of Fire (Harry Potter, \\#4)                      &  332                                                                          & https://images.gr-assets.com/books/1361482611m/6.jpg                         \\\\\n",
       "\t 27                                                                            &  8710                                                                         & J.K. Rowling, Mary GrandPré                                                   & 2005                                                                          & Harry Potter and the Half-Blood Prince (Harry Potter, \\#6)                   &  275                                                                          & https://images.gr-assets.com/books/1361039191m/1.jpg                         \\\\\n",
       "\t 21                                                                            &  8195                                                                         & J.K. Rowling, Mary GrandPré                                                   & 2003                                                                          & Harry Potter and the Order of the Phoenix (Harry Potter, \\#5)                &  307                                                                          & https://images.gr-assets.com/books/1387141547m/2.jpg                         \\\\\n",
       "\t 23                                                                            &  7400                                                                         & J.K. Rowling, Mary GrandPré                                                   & 1998                                                                          & Harry Potter and the Chamber of Secrets (Harry Potter, \\#2)                  &  398                                                                          & https://images.gr-assets.com/books/1474169725m/15881.jpg                     \\\\\n",
       "\t  7                                                                          &  7101                                                                       & J.R.R. Tolkien                                                              & 1937                                                                        & The Hobbit                                                                  &  969                                                                        & https://images.gr-assets.com/books/1372847500m/5907.jpg                    \\\\\n",
       "\t 31                                                                          &  6917                                                                       & Kathryn Stockett                                                            & 2009                                                                        & The Help                                                                    &  183                                                                        & https://images.gr-assets.com/books/1346100365m/4667024.jpg                 \\\\\n",
       "\t 10                                                                          &  6593                                                                       & Jane Austen                                                                 & 1813                                                                        & Pride and Prejudice                                                         & 3455                                                                        & https://images.gr-assets.com/books/1320399351m/1885.jpg                    \\\\\n",
       "\t 19                                                                            &  6565                                                                         & J.R.R. Tolkien                                                                & 1954                                                                          & The Fellowship of the Ring (The Lord of the Rings, \\#1)                      &  566                                                                          & https://images.gr-assets.com/books/1298411339m/34.jpg                        \\\\\n",
       "\t 17                                                                            &  6509                                                                         & Suzanne Collins                                                               & 2009                                                                          & Catching Fire (The Hunger Games, \\#2)                                        &  201                                                                          & https://images.gr-assets.com/books/1358273780m/6148028.jpg                   \\\\\n",
       "\t 39                                                                            &  5702                                                                         & George R.R. Martin                                                            & 1996                                                                          & A Game of Thrones (A Song of Ice and Fire, \\#1)                              &  101                                                                          & https://images.gr-assets.com/books/1436732693m/13496.jpg                     \\\\\n",
       "\t 11                                                                          &  5673                                                                       & Khaled Hosseini                                                             & 2003                                                                        & The Kite Runner                                                             &  283                                                                        & https://images.gr-assets.com/books/1484565687m/77203.jpg                   \\\\\n",
       "\t 13                                                                          &  5520                                                                       & George Orwell, Erich Fromm, Celâl Üster                                     & 1949                                                                        & 1984                                                                        &  995                                                                        & https://images.gr-assets.com/books/1348990566m/5470.jpg                    \\\\\n",
       "\t 37                                                                            &  5388                                                                         & C.S. Lewis                                                                    & 1950                                                                          & The Lion, the Witch, and the Wardrobe (Chronicles of Narnia, \\#1)            &  474                                                                          & https://images.gr-assets.com/books/1353029077m/100915.jpg                    \\\\\n",
       "\t 16                                                                            &  5381                                                                         & Stieg Larsson, Reg Keeland                                                    & 2005                                                                          & The Girl with the Dragon Tattoo (Millennium, \\#1)                            &  274                                                                          & https://images.gr-assets.com/books/1327868566m/2429135.jpg                   \\\\\n",
       "\t 47                                                                          &  5369                                                                       & Markus Zusak                                                                & 2005                                                                        & The Book Thief                                                              &  251                                                                        & https://images.gr-assets.com/books/1390053681m/19063.jpg                   \\\\\n",
       "\t  6                                                                          &  5099                                                                       & John Green                                                                  & 2012                                                                        & The Fault in Our Stars                                                      &  226                                                                        & https://images.gr-assets.com/books/1360206420m/11870085.jpg                \\\\\n",
       "\t 20                                                                            &  4836                                                                         & Suzanne Collins                                                               & 2010                                                                          & Mockingjay (The Hunger Games, \\#3)                                           &  239                                                                          & https://images.gr-assets.com/books/1358275419m/7260188.jpg                   \\\\\n",
       "\t  5                                                                          &  4734                                                                       & F. Scott Fitzgerald                                                         & 1925                                                                        & The Great Gatsby                                                            & 1356                                                                        & https://images.gr-assets.com/books/1490528560m/4671.jpg                    \\\\\n",
       "\t 15                                                                          &  4635                                                                       & Anne Frank, Eleanor Roosevelt, B.M. Mooyaart-Doubleday                      & 1947                                                                        & The Diary of a Young Girl                                                   &  710                                                                        & https://images.gr-assets.com/books/1358276407m/48855.jpg                   \\\\\n",
       "\t 54                                                                            &  4422                                                                         & Douglas Adams                                                                 & 1979                                                                          & The Hitchhiker's Guide to the Galaxy (Hitchhiker's Guide to the Galaxy, \\#1) &  257                                                                          & https://images.gr-assets.com/books/1327656754m/11.jpg                        \\\\\n",
       "\t 70                                                                            &  4422                                                                         & Orson Scott Card                                                              & 1985                                                                          & Ender's Game (Ender's Saga, \\#1)                                             &  224                                                                          & https://images.gr-assets.com/books/1408303130m/375802.jpg                    \\\\\n",
       "\t 12                                                                            &  4389                                                                         & Veronica Roth                                                                 & 2011                                                                          & Divergent (Divergent, \\#1)                                                   &  210                                                                          & https://images.gr-assets.com/books/1328559506m/13335037.jpg                  \\\\\n",
       "\t 36                                                                            &  4319                                                                         & Lois Lowry                                                                    & 1993                                                                          & The Giver (The Giver, \\#1)                                                   &  192                                                                          & https://images.gr-assets.com/books/1342493368m/3636.jpg                      \\\\\n",
       "\t 50                                                                          &  4286                                                                       & Shel Silverstein                                                            & 1974                                                                        & Where the Sidewalk Ends                                                     &   45                                                                        & https://images.gr-assets.com/books/1168052448m/30119.jpg                   \\\\\n",
       "\t  8                                                                          &  4226                                                                       & J.D. Salinger                                                               & 1951                                                                        & The Catcher in the Rye                                                      &  360                                                                        & https://images.gr-assets.com/books/1398034300m/5107.jpg                    \\\\\n",
       "\t ... & ... & ... & ... & ... & ... & ...\\\\\n",
       "\t 9666                                                                                                 & 9                                                                                                    & Christian Rudder                                                                                     & 2014                                                                                                 & Dataclysm: Who We Are (When We Think No One's Looking)                                               &  27                                                                                                  & https://images.gr-assets.com/books/1407763834m/21480734.jpg                                         \\\\\n",
       "\t 9916                                                                                                   & 9                                                                                                      & Sophie Kinsella                                                                                        & 2015                                                                                                   & Shopaholic to the Rescue (Shopaholic, \\#8)                                                            &  42                                                                                                    & https://images.gr-assets.com/books/1439942710m/25809756.jpg                                           \\\\\n",
       "\t 9918                                                                                                   & 9                                                                                                      & Jana Deleon                                                                                            & 2009                                                                                                   & Trouble in Mudbug (Ghost-in-Law, \\#1)                                                                 &  13                                                                                                    & https://s.gr-assets.com/assets/nophoto/book/111x148-bcc042a9c91a29c1d680899eff700a03.png              \\\\\n",
       "\t 6394                                                                                                 & 8                                                                                                    & Megan Abbott                                                                                         & 2014                                                                                                 & The Fever                                                                                            &  28                                                                                                  & https://images.gr-assets.com/books/1381359885m/18656036.jpg                                         \\\\\n",
       "\t 7545                                                                                                 & 8                                                                                                    & Courtney Maum                                                                                        & 2014                                                                                                 & I Am Having So Much Fun Here Without You                                                             &  13                                                                                                  & https://images.gr-assets.com/books/1403390765m/18775284.jpg                                         \\\\\n",
       "\t 7800                                                                                                 & 8                                                                                                    & Bret Easton Ellis                                                                                    & 2010                                                                                                 & Imperial Bedrooms                                                                                    &  42                                                                                                  & https://images.gr-assets.com/books/1278878105m/7519866.jpg                                          \\\\\n",
       "\t 8466                                                                                                 & 8                                                                                                    & <U+062E><U+0627><U+0644><U+062F> <U+0627><U+0644><U+0628><U+0627><U+062A><U+0644><U+064A>            & 2010                                                                                                 & <U+0644><U+064A><U+062A><U+0647><U+0627> <U+062A><U+0642><U+0631><U+0623>                            &   2                                                                                                  & https://s.gr-assets.com/assets/nophoto/book/111x148-bcc042a9c91a29c1d680899eff700a03.png            \\\\\n",
       "\t 8540                                                                                                   & 8                                                                                                      & Candace Bushnell                                                                                       & 2011                                                                                                   & Summer and the City (The Carrie Diaries, \\#2)                                                         &  54                                                                                                    & https://images.gr-assets.com/books/1366212836m/9266769.jpg                                            \\\\\n",
       "\t 8723                                                                                                 & 8                                                                                                    & Lucie Whitehouse                                                                                     & 2014                                                                                                 & Before We Met                                                                                        &  22                                                                                                  & https://images.gr-assets.com/books/1369569396m/17978144.jpg                                         \\\\\n",
       "\t 9107                                                                                                 & 8                                                                                                    & Ira Wagler                                                                                           & 2011                                                                                                 & Growing Up Amish                                                                                     &   8                                                                                                  & https://images.gr-assets.com/books/1406514526m/10870589.jpg                                         \\\\\n",
       "\t 9523                                                                                                 & 8                                                                                                    & Chuck Palahniuk                                                                                      & 2014                                                                                                 & Beautiful You                                                                                        &  47                                                                                                  & https://images.gr-assets.com/books/1399667103m/19523454.jpg                                         \\\\\n",
       "\t 6819                                                                                                 & 7                                                                                                    & Preeti Shenoy                                                                                        & 2011                                                                                                 & Life is What You Make It: A Story of Love, Hope and How Determination Can Overcome Even Destiny      &   4                                                                                                  & https://images.gr-assets.com/books/1308754493m/11256293.jpg                                         \\\\\n",
       "\t 8166                                                                                                 & 7                                                                                                    & Julia Pierpont                                                                                       & 2015                                                                                                 & Among the Ten Thousand Things                                                                        &  19                                                                                                  & https://images.gr-assets.com/books/1464907467m/23503361.jpg                                         \\\\\n",
       "\t 8686                                                                                                 & 7                                                                                                    & Robert W. Chambers, E.F. Bleiler                                                                     & 1895                                                                                                 & The King in Yellow and Other Horror Stories                                                          & 341                                                                                                  & https://images.gr-assets.com/books/1416873291m/129798.jpg                                           \\\\\n",
       "\t 8920                                                                                                 & 7                                                                                                    & Arthur Nersesian                                                                                     & 1997                                                                                                 & The Fuck-Up                                                                                          &  10                                                                                                  & https://s.gr-assets.com/assets/nophoto/book/111x148-bcc042a9c91a29c1d680899eff700a03.png            \\\\\n",
       "\t 9669                                                                                                   & 7                                                                                                      & Sarah Lotz                                                                                             & 2014                                                                                                   & The Three (The Three, \\#1)                                                                            &  51                                                                                                    & https://images.gr-assets.com/books/1379897631m/18453110.jpg                                           \\\\\n",
       "\t 9680                                                                                                 & 7                                                                                                    & Arianna Huffington                                                                                   & 2014                                                                                                 & Thrive: The Third Metric to Redefining Success and Creating a Life of Well-Being, Wisdom, and Wonder &  26                                                                                                  & https://images.gr-assets.com/books/1400873884m/18594634.jpg                                         \\\\\n",
       "\t 9705                                                                                                   & 7                                                                                                      & AnnaLisa Grant                                                                                         & 2013                                                                                                   & The Lake (The Lake Trilogy \\#1)                                                                       &   5                                                                                                    & https://images.gr-assets.com/books/1461854990m/17794657.jpg                                           \\\\\n",
       "\t 6584                                                                                                   & 6                                                                                                      & Paul Pilkington                                                                                        & 2011                                                                                                   & The One You Love (Emma Holden Suspense Mystery, \\#1)                                                  &  15                                                                                                    & https://images.gr-assets.com/books/1328103463m/11981168.jpg                                           \\\\\n",
       "\t 8583                                                                                                 & 6                                                                                                    & Louise Jensen                                                                                        & 2016                                                                                                 & The Sister                                                                                           &  13                                                                                                  & https://s.gr-assets.com/assets/nophoto/book/111x148-bcc042a9c91a29c1d680899eff700a03.png            \\\\\n",
       "\t 1793                                                                                                 & 5                                                                                                    & Chetan Bhagat                                                                                        & 2005                                                                                                 & One Night at the Call Center                                                                         &  25                                                                                                  & https://images.gr-assets.com/books/1320500924m/105578.jpg                                           \\\\\n",
       "\t 1822                                                                                                 & 5                                                                                                    & Chetan Bhagat                                                                                        & 2011                                                                                                 & Revolution 2020: Love, Corruption, Ambition                                                          &  20                                                                                                  & https://images.gr-assets.com/books/1317964666m/12615008.jpg                                         \\\\\n",
       "\t 7980                                                                                                 & 5                                                                                                    & Wednesday Martin                                                                                     & 2015                                                                                                 & Primates of Park Avenue                                                                              &  20                                                                                                  & https://images.gr-assets.com/books/1430942586m/23492673.jpg                                         \\\\\n",
       "\t 4991                                                                                                 & 4                                                                                                    & Ravinder Singh                                                                                       & 2011                                                                                                 & Can Love Happen Twice?                                                                               &   7                                                                                                  & https://images.gr-assets.com/books/1321016822m/13041934.jpg                                         \\\\\n",
       "\t 7636                                                                                                 & 4                                                                                                    & Durjoy Datta, Maanvi Ahuja                                                                           & 2008                                                                                                 & Of Course I Love You...! Till I Find Someone Better...                                               &   7                                                                                                  & https://images.gr-assets.com/books/1274597947m/7011879.jpg                                          \\\\\n",
       "\t 8297                                                                                                 & 4                                                                                                    & Edie Claire                                                                                          & 2003                                                                                                 & Long Time Coming                                                                                     &   8                                                                                                  & https://s.gr-assets.com/assets/nophoto/book/111x148-bcc042a9c91a29c1d680899eff700a03.png            \\\\\n",
       "\t 9840                                                                                                 & 4                                                                                                    & Barbara Taylor Sissel                                                                                & 2015                                                                                                 & Crooked Little Lies                                                                                  &   6                                                                                                  & https://s.gr-assets.com/assets/nophoto/book/111x148-bcc042a9c91a29c1d680899eff700a03.png            \\\\\n",
       "\t 9345                                                                                                 & 3                                                                                                    & HaveYouSeenThisGirL, Jan Irene Villar                                                                & 2013                                                                                                 & Diary ng Panget                                                                                      &   2                                                                                                  & https://images.gr-assets.com/books/1368083785m/17903381.jpg                                         \\\\\n",
       "\t 7803                                                                                                 & 2                                                                                                    & Amazon                                                                                               & 2009                                                                                                 & Kindle User's Guide                                                                                  &  67                                                                                                  & https://s.gr-assets.com/assets/nophoto/book/111x148-bcc042a9c91a29c1d680899eff700a03.png            \\\\\n",
       "\t 4045                                                                                                 & 1                                                                                                    & Chetan Bhagat                                                                                        & 2014                                                                                                 & Half Girlfriend                                                                                      &   8                                                                                                  & https://images.gr-assets.com/books/1407223058m/22874559.jpg                                         \\\\\n",
       "\\end{tabular}\n"
      ],
      "text/markdown": [
       "\n",
       "id_libro | Num.Cincos | autor | publicacion | titulo | num_libros | imagen_libro | \n",
       "|---|---|---|---|---|---|---|---|---|---|---|---|---|---|---|---|---|---|---|---|---|---|---|---|---|---|---|---|---|---|---|---|---|---|---|---|---|---|---|---|---|---|---|---|---|---|---|---|---|---|---|---|---|---|---|---|---|---|---|---|---|\n",
       "|  2                                                                          | 12186                                                                       | J.K. Rowling, Mary GrandPré                                                 | 1997                                                                        | Harry Potter and the Sorcerer's Stone (Harry Potter, #1)                    |  491                                                                        | https://images.gr-assets.com/books/1474154022m/3.jpg                        | \n",
       "|  1                                                                          | 11357                                                                       | Suzanne Collins                                                             | 2008                                                                        | The Hunger Games (The Hunger Games, #1)                                     |  272                                                                        | https://images.gr-assets.com/books/1447303603m/2767052.jpg                  | \n",
       "|  4                                                                          | 10206                                                                       | Harper Lee                                                                  | 1960                                                                        | To Kill a Mockingbird                                                       |  487                                                                        | https://images.gr-assets.com/books/1361975680m/2657.jpg                     | \n",
       "| 25                                                                          |  9904                                                                       | J.K. Rowling, Mary GrandPré                                                 | 2007                                                                        | Harry Potter and the Deathly Hallows (Harry Potter, #7)                     |  263                                                                        | https://images.gr-assets.com/books/1474171184m/136251.jpg                   | \n",
       "| 18                                                                          |  8981                                                                       | J.K. Rowling, Mary GrandPré, Rufus Beck                                     | 1999                                                                        | Harry Potter and the Prisoner of Azkaban (Harry Potter, #3)                 |  376                                                                        | https://images.gr-assets.com/books/1499277281m/5.jpg                        | \n",
       "| 24                                                                          |  8837                                                                       | J.K. Rowling, Mary GrandPré                                                 | 2000                                                                        | Harry Potter and the Goblet of Fire (Harry Potter, #4)                      |  332                                                                        | https://images.gr-assets.com/books/1361482611m/6.jpg                        | \n",
       "| 27                                                                          |  8710                                                                       | J.K. Rowling, Mary GrandPré                                                 | 2005                                                                        | Harry Potter and the Half-Blood Prince (Harry Potter, #6)                   |  275                                                                        | https://images.gr-assets.com/books/1361039191m/1.jpg                        | \n",
       "| 21                                                                          |  8195                                                                       | J.K. Rowling, Mary GrandPré                                                 | 2003                                                                        | Harry Potter and the Order of the Phoenix (Harry Potter, #5)                |  307                                                                        | https://images.gr-assets.com/books/1387141547m/2.jpg                        | \n",
       "| 23                                                                          |  7400                                                                       | J.K. Rowling, Mary GrandPré                                                 | 1998                                                                        | Harry Potter and the Chamber of Secrets (Harry Potter, #2)                  |  398                                                                        | https://images.gr-assets.com/books/1474169725m/15881.jpg                    | \n",
       "|  7                                                                          |  7101                                                                       | J.R.R. Tolkien                                                              | 1937                                                                        | The Hobbit                                                                  |  969                                                                        | https://images.gr-assets.com/books/1372847500m/5907.jpg                     | \n",
       "| 31                                                                          |  6917                                                                       | Kathryn Stockett                                                            | 2009                                                                        | The Help                                                                    |  183                                                                        | https://images.gr-assets.com/books/1346100365m/4667024.jpg                  | \n",
       "| 10                                                                          |  6593                                                                       | Jane Austen                                                                 | 1813                                                                        | Pride and Prejudice                                                         | 3455                                                                        | https://images.gr-assets.com/books/1320399351m/1885.jpg                     | \n",
       "| 19                                                                          |  6565                                                                       | J.R.R. Tolkien                                                              | 1954                                                                        | The Fellowship of the Ring (The Lord of the Rings, #1)                      |  566                                                                        | https://images.gr-assets.com/books/1298411339m/34.jpg                       | \n",
       "| 17                                                                          |  6509                                                                       | Suzanne Collins                                                             | 2009                                                                        | Catching Fire (The Hunger Games, #2)                                        |  201                                                                        | https://images.gr-assets.com/books/1358273780m/6148028.jpg                  | \n",
       "| 39                                                                          |  5702                                                                       | George R.R. Martin                                                          | 1996                                                                        | A Game of Thrones (A Song of Ice and Fire, #1)                              |  101                                                                        | https://images.gr-assets.com/books/1436732693m/13496.jpg                    | \n",
       "| 11                                                                          |  5673                                                                       | Khaled Hosseini                                                             | 2003                                                                        | The Kite Runner                                                             |  283                                                                        | https://images.gr-assets.com/books/1484565687m/77203.jpg                    | \n",
       "| 13                                                                          |  5520                                                                       | George Orwell, Erich Fromm, Celâl Üster                                     | 1949                                                                        | 1984                                                                        |  995                                                                        | https://images.gr-assets.com/books/1348990566m/5470.jpg                     | \n",
       "| 37                                                                          |  5388                                                                       | C.S. Lewis                                                                  | 1950                                                                        | The Lion, the Witch, and the Wardrobe (Chronicles of Narnia, #1)            |  474                                                                        | https://images.gr-assets.com/books/1353029077m/100915.jpg                   | \n",
       "| 16                                                                          |  5381                                                                       | Stieg Larsson, Reg Keeland                                                  | 2005                                                                        | The Girl with the Dragon Tattoo (Millennium, #1)                            |  274                                                                        | https://images.gr-assets.com/books/1327868566m/2429135.jpg                  | \n",
       "| 47                                                                          |  5369                                                                       | Markus Zusak                                                                | 2005                                                                        | The Book Thief                                                              |  251                                                                        | https://images.gr-assets.com/books/1390053681m/19063.jpg                    | \n",
       "|  6                                                                          |  5099                                                                       | John Green                                                                  | 2012                                                                        | The Fault in Our Stars                                                      |  226                                                                        | https://images.gr-assets.com/books/1360206420m/11870085.jpg                 | \n",
       "| 20                                                                          |  4836                                                                       | Suzanne Collins                                                             | 2010                                                                        | Mockingjay (The Hunger Games, #3)                                           |  239                                                                        | https://images.gr-assets.com/books/1358275419m/7260188.jpg                  | \n",
       "|  5                                                                          |  4734                                                                       | F. Scott Fitzgerald                                                         | 1925                                                                        | The Great Gatsby                                                            | 1356                                                                        | https://images.gr-assets.com/books/1490528560m/4671.jpg                     | \n",
       "| 15                                                                          |  4635                                                                       | Anne Frank, Eleanor Roosevelt, B.M. Mooyaart-Doubleday                      | 1947                                                                        | The Diary of a Young Girl                                                   |  710                                                                        | https://images.gr-assets.com/books/1358276407m/48855.jpg                    | \n",
       "| 54                                                                          |  4422                                                                       | Douglas Adams                                                               | 1979                                                                        | The Hitchhiker's Guide to the Galaxy (Hitchhiker's Guide to the Galaxy, #1) |  257                                                                        | https://images.gr-assets.com/books/1327656754m/11.jpg                       | \n",
       "| 70                                                                          |  4422                                                                       | Orson Scott Card                                                            | 1985                                                                        | Ender's Game (Ender's Saga, #1)                                             |  224                                                                        | https://images.gr-assets.com/books/1408303130m/375802.jpg                   | \n",
       "| 12                                                                          |  4389                                                                       | Veronica Roth                                                               | 2011                                                                        | Divergent (Divergent, #1)                                                   |  210                                                                        | https://images.gr-assets.com/books/1328559506m/13335037.jpg                 | \n",
       "| 36                                                                          |  4319                                                                       | Lois Lowry                                                                  | 1993                                                                        | The Giver (The Giver, #1)                                                   |  192                                                                        | https://images.gr-assets.com/books/1342493368m/3636.jpg                     | \n",
       "| 50                                                                          |  4286                                                                       | Shel Silverstein                                                            | 1974                                                                        | Where the Sidewalk Ends                                                     |   45                                                                        | https://images.gr-assets.com/books/1168052448m/30119.jpg                    | \n",
       "|  8                                                                          |  4226                                                                       | J.D. Salinger                                                               | 1951                                                                        | The Catcher in the Rye                                                      |  360                                                                        | https://images.gr-assets.com/books/1398034300m/5107.jpg                     | \n",
       "| ... | ... | ... | ... | ... | ... | ... | \n",
       "| 9666                                                                                                 | 9                                                                                                    | Christian Rudder                                                                                     | 2014                                                                                                 | Dataclysm: Who We Are (When We Think No One's Looking)                                               |  27                                                                                                  | https://images.gr-assets.com/books/1407763834m/21480734.jpg                                          | \n",
       "| 9916                                                                                                 | 9                                                                                                    | Sophie Kinsella                                                                                      | 2015                                                                                                 | Shopaholic to the Rescue (Shopaholic, #8)                                                            |  42                                                                                                  | https://images.gr-assets.com/books/1439942710m/25809756.jpg                                          | \n",
       "| 9918                                                                                                 | 9                                                                                                    | Jana Deleon                                                                                          | 2009                                                                                                 | Trouble in Mudbug (Ghost-in-Law, #1)                                                                 |  13                                                                                                  | https://s.gr-assets.com/assets/nophoto/book/111x148-bcc042a9c91a29c1d680899eff700a03.png             | \n",
       "| 6394                                                                                                 | 8                                                                                                    | Megan Abbott                                                                                         | 2014                                                                                                 | The Fever                                                                                            |  28                                                                                                  | https://images.gr-assets.com/books/1381359885m/18656036.jpg                                          | \n",
       "| 7545                                                                                                 | 8                                                                                                    | Courtney Maum                                                                                        | 2014                                                                                                 | I Am Having So Much Fun Here Without You                                                             |  13                                                                                                  | https://images.gr-assets.com/books/1403390765m/18775284.jpg                                          | \n",
       "| 7800                                                                                                 | 8                                                                                                    | Bret Easton Ellis                                                                                    | 2010                                                                                                 | Imperial Bedrooms                                                                                    |  42                                                                                                  | https://images.gr-assets.com/books/1278878105m/7519866.jpg                                           | \n",
       "| 8466                                                                                                 | 8                                                                                                    | <U+062E><U+0627><U+0644><U+062F> <U+0627><U+0644><U+0628><U+0627><U+062A><U+0644><U+064A>            | 2010                                                                                                 | <U+0644><U+064A><U+062A><U+0647><U+0627> <U+062A><U+0642><U+0631><U+0623>                            |   2                                                                                                  | https://s.gr-assets.com/assets/nophoto/book/111x148-bcc042a9c91a29c1d680899eff700a03.png             | \n",
       "| 8540                                                                                                 | 8                                                                                                    | Candace Bushnell                                                                                     | 2011                                                                                                 | Summer and the City (The Carrie Diaries, #2)                                                         |  54                                                                                                  | https://images.gr-assets.com/books/1366212836m/9266769.jpg                                           | \n",
       "| 8723                                                                                                 | 8                                                                                                    | Lucie Whitehouse                                                                                     | 2014                                                                                                 | Before We Met                                                                                        |  22                                                                                                  | https://images.gr-assets.com/books/1369569396m/17978144.jpg                                          | \n",
       "| 9107                                                                                                 | 8                                                                                                    | Ira Wagler                                                                                           | 2011                                                                                                 | Growing Up Amish                                                                                     |   8                                                                                                  | https://images.gr-assets.com/books/1406514526m/10870589.jpg                                          | \n",
       "| 9523                                                                                                 | 8                                                                                                    | Chuck Palahniuk                                                                                      | 2014                                                                                                 | Beautiful You                                                                                        |  47                                                                                                  | https://images.gr-assets.com/books/1399667103m/19523454.jpg                                          | \n",
       "| 6819                                                                                                 | 7                                                                                                    | Preeti Shenoy                                                                                        | 2011                                                                                                 | Life is What You Make It: A Story of Love, Hope and How Determination Can Overcome Even Destiny      |   4                                                                                                  | https://images.gr-assets.com/books/1308754493m/11256293.jpg                                          | \n",
       "| 8166                                                                                                 | 7                                                                                                    | Julia Pierpont                                                                                       | 2015                                                                                                 | Among the Ten Thousand Things                                                                        |  19                                                                                                  | https://images.gr-assets.com/books/1464907467m/23503361.jpg                                          | \n",
       "| 8686                                                                                                 | 7                                                                                                    | Robert W. Chambers, E.F. Bleiler                                                                     | 1895                                                                                                 | The King in Yellow and Other Horror Stories                                                          | 341                                                                                                  | https://images.gr-assets.com/books/1416873291m/129798.jpg                                            | \n",
       "| 8920                                                                                                 | 7                                                                                                    | Arthur Nersesian                                                                                     | 1997                                                                                                 | The Fuck-Up                                                                                          |  10                                                                                                  | https://s.gr-assets.com/assets/nophoto/book/111x148-bcc042a9c91a29c1d680899eff700a03.png             | \n",
       "| 9669                                                                                                 | 7                                                                                                    | Sarah Lotz                                                                                           | 2014                                                                                                 | The Three (The Three, #1)                                                                            |  51                                                                                                  | https://images.gr-assets.com/books/1379897631m/18453110.jpg                                          | \n",
       "| 9680                                                                                                 | 7                                                                                                    | Arianna Huffington                                                                                   | 2014                                                                                                 | Thrive: The Third Metric to Redefining Success and Creating a Life of Well-Being, Wisdom, and Wonder |  26                                                                                                  | https://images.gr-assets.com/books/1400873884m/18594634.jpg                                          | \n",
       "| 9705                                                                                                 | 7                                                                                                    | AnnaLisa Grant                                                                                       | 2013                                                                                                 | The Lake (The Lake Trilogy #1)                                                                       |   5                                                                                                  | https://images.gr-assets.com/books/1461854990m/17794657.jpg                                          | \n",
       "| 6584                                                                                                 | 6                                                                                                    | Paul Pilkington                                                                                      | 2011                                                                                                 | The One You Love (Emma Holden Suspense Mystery, #1)                                                  |  15                                                                                                  | https://images.gr-assets.com/books/1328103463m/11981168.jpg                                          | \n",
       "| 8583                                                                                                 | 6                                                                                                    | Louise Jensen                                                                                        | 2016                                                                                                 | The Sister                                                                                           |  13                                                                                                  | https://s.gr-assets.com/assets/nophoto/book/111x148-bcc042a9c91a29c1d680899eff700a03.png             | \n",
       "| 1793                                                                                                 | 5                                                                                                    | Chetan Bhagat                                                                                        | 2005                                                                                                 | One Night at the Call Center                                                                         |  25                                                                                                  | https://images.gr-assets.com/books/1320500924m/105578.jpg                                            | \n",
       "| 1822                                                                                                 | 5                                                                                                    | Chetan Bhagat                                                                                        | 2011                                                                                                 | Revolution 2020: Love, Corruption, Ambition                                                          |  20                                                                                                  | https://images.gr-assets.com/books/1317964666m/12615008.jpg                                          | \n",
       "| 7980                                                                                                 | 5                                                                                                    | Wednesday Martin                                                                                     | 2015                                                                                                 | Primates of Park Avenue                                                                              |  20                                                                                                  | https://images.gr-assets.com/books/1430942586m/23492673.jpg                                          | \n",
       "| 4991                                                                                                 | 4                                                                                                    | Ravinder Singh                                                                                       | 2011                                                                                                 | Can Love Happen Twice?                                                                               |   7                                                                                                  | https://images.gr-assets.com/books/1321016822m/13041934.jpg                                          | \n",
       "| 7636                                                                                                 | 4                                                                                                    | Durjoy Datta, Maanvi Ahuja                                                                           | 2008                                                                                                 | Of Course I Love You...! Till I Find Someone Better...                                               |   7                                                                                                  | https://images.gr-assets.com/books/1274597947m/7011879.jpg                                           | \n",
       "| 8297                                                                                                 | 4                                                                                                    | Edie Claire                                                                                          | 2003                                                                                                 | Long Time Coming                                                                                     |   8                                                                                                  | https://s.gr-assets.com/assets/nophoto/book/111x148-bcc042a9c91a29c1d680899eff700a03.png             | \n",
       "| 9840                                                                                                 | 4                                                                                                    | Barbara Taylor Sissel                                                                                | 2015                                                                                                 | Crooked Little Lies                                                                                  |   6                                                                                                  | https://s.gr-assets.com/assets/nophoto/book/111x148-bcc042a9c91a29c1d680899eff700a03.png             | \n",
       "| 9345                                                                                                 | 3                                                                                                    | HaveYouSeenThisGirL, Jan Irene Villar                                                                | 2013                                                                                                 | Diary ng Panget                                                                                      |   2                                                                                                  | https://images.gr-assets.com/books/1368083785m/17903381.jpg                                          | \n",
       "| 7803                                                                                                 | 2                                                                                                    | Amazon                                                                                               | 2009                                                                                                 | Kindle User's Guide                                                                                  |  67                                                                                                  | https://s.gr-assets.com/assets/nophoto/book/111x148-bcc042a9c91a29c1d680899eff700a03.png             | \n",
       "| 4045                                                                                                 | 1                                                                                                    | Chetan Bhagat                                                                                        | 2014                                                                                                 | Half Girlfriend                                                                                      |   8                                                                                                  | https://images.gr-assets.com/books/1407223058m/22874559.jpg                                          | \n",
       "\n",
       "\n"
      ],
      "text/plain": [
       "      id_libro Num.Cincos\n",
       "1      2       12186     \n",
       "2      1       11357     \n",
       "3      4       10206     \n",
       "4     25        9904     \n",
       "5     18        8981     \n",
       "6     24        8837     \n",
       "7     27        8710     \n",
       "8     21        8195     \n",
       "9     23        7400     \n",
       "10     7        7101     \n",
       "11    31        6917     \n",
       "12    10        6593     \n",
       "13    19        6565     \n",
       "14    17        6509     \n",
       "15    39        5702     \n",
       "16    11        5673     \n",
       "17    13        5520     \n",
       "18    37        5388     \n",
       "19    16        5381     \n",
       "20    47        5369     \n",
       "21     6        5099     \n",
       "22    20        4836     \n",
       "23     5        4734     \n",
       "24    15        4635     \n",
       "25    54        4422     \n",
       "26    70        4422     \n",
       "27    12        4389     \n",
       "28    36        4319     \n",
       "29    50        4286     \n",
       "30     8        4226     \n",
       "...   ...      ...       \n",
       "9971  9666     9         \n",
       "9972  9916     9         \n",
       "9973  9918     9         \n",
       "9974  6394     8         \n",
       "9975  7545     8         \n",
       "9976  7800     8         \n",
       "9977  8466     8         \n",
       "9978  8540     8         \n",
       "9979  8723     8         \n",
       "9980  9107     8         \n",
       "9981  9523     8         \n",
       "9982  6819     7         \n",
       "9983  8166     7         \n",
       "9984  8686     7         \n",
       "9985  8920     7         \n",
       "9986  9669     7         \n",
       "9987  9680     7         \n",
       "9988  9705     7         \n",
       "9989  6584     6         \n",
       "9990  8583     6         \n",
       "9991  1793     5         \n",
       "9992  1822     5         \n",
       "9993  7980     5         \n",
       "9994  4991     4         \n",
       "9995  7636     4         \n",
       "9996  8297     4         \n",
       "9997  9840     4         \n",
       "9998  9345     3         \n",
       "9999  7803     2         \n",
       "10000 4045     1         \n",
       "      autor                                                                                    \n",
       "1     J.K. Rowling, Mary GrandPré                                                              \n",
       "2     Suzanne Collins                                                                          \n",
       "3     Harper Lee                                                                               \n",
       "4     J.K. Rowling, Mary GrandPré                                                              \n",
       "5     J.K. Rowling, Mary GrandPré, Rufus Beck                                                  \n",
       "6     J.K. Rowling, Mary GrandPré                                                              \n",
       "7     J.K. Rowling, Mary GrandPré                                                              \n",
       "8     J.K. Rowling, Mary GrandPré                                                              \n",
       "9     J.K. Rowling, Mary GrandPré                                                              \n",
       "10    J.R.R. Tolkien                                                                           \n",
       "11    Kathryn Stockett                                                                         \n",
       "12    Jane Austen                                                                              \n",
       "13    J.R.R. Tolkien                                                                           \n",
       "14    Suzanne Collins                                                                          \n",
       "15    George R.R. Martin                                                                       \n",
       "16    Khaled Hosseini                                                                          \n",
       "17    George Orwell, Erich Fromm, Celâl Üster                                                  \n",
       "18    C.S. Lewis                                                                               \n",
       "19    Stieg Larsson, Reg Keeland                                                               \n",
       "20    Markus Zusak                                                                             \n",
       "21    John Green                                                                               \n",
       "22    Suzanne Collins                                                                          \n",
       "23    F. Scott Fitzgerald                                                                      \n",
       "24    Anne Frank, Eleanor Roosevelt, B.M. Mooyaart-Doubleday                                   \n",
       "25    Douglas Adams                                                                            \n",
       "26    Orson Scott Card                                                                         \n",
       "27    Veronica Roth                                                                            \n",
       "28    Lois Lowry                                                                               \n",
       "29    Shel Silverstein                                                                         \n",
       "30    J.D. Salinger                                                                            \n",
       "...   ...                                                                                      \n",
       "9971  Christian Rudder                                                                         \n",
       "9972  Sophie Kinsella                                                                          \n",
       "9973  Jana Deleon                                                                              \n",
       "9974  Megan Abbott                                                                             \n",
       "9975  Courtney Maum                                                                            \n",
       "9976  Bret Easton Ellis                                                                        \n",
       "9977  <U+062E><U+0627><U+0644><U+062F> <U+0627><U+0644><U+0628><U+0627><U+062A><U+0644><U+064A>\n",
       "9978  Candace Bushnell                                                                         \n",
       "9979  Lucie Whitehouse                                                                         \n",
       "9980  Ira Wagler                                                                               \n",
       "9981  Chuck Palahniuk                                                                          \n",
       "9982  Preeti Shenoy                                                                            \n",
       "9983  Julia Pierpont                                                                           \n",
       "9984  Robert W. Chambers, E.F. Bleiler                                                         \n",
       "9985  Arthur Nersesian                                                                         \n",
       "9986  Sarah Lotz                                                                               \n",
       "9987  Arianna Huffington                                                                       \n",
       "9988  AnnaLisa Grant                                                                           \n",
       "9989  Paul Pilkington                                                                          \n",
       "9990  Louise Jensen                                                                            \n",
       "9991  Chetan Bhagat                                                                            \n",
       "9992  Chetan Bhagat                                                                            \n",
       "9993  Wednesday Martin                                                                         \n",
       "9994  Ravinder Singh                                                                           \n",
       "9995  Durjoy Datta, Maanvi Ahuja                                                               \n",
       "9996  Edie Claire                                                                              \n",
       "9997  Barbara Taylor Sissel                                                                    \n",
       "9998  HaveYouSeenThisGirL, Jan Irene Villar                                                    \n",
       "9999  Amazon                                                                                   \n",
       "10000 Chetan Bhagat                                                                            \n",
       "      publicacion\n",
       "1     1997       \n",
       "2     2008       \n",
       "3     1960       \n",
       "4     2007       \n",
       "5     1999       \n",
       "6     2000       \n",
       "7     2005       \n",
       "8     2003       \n",
       "9     1998       \n",
       "10    1937       \n",
       "11    2009       \n",
       "12    1813       \n",
       "13    1954       \n",
       "14    2009       \n",
       "15    1996       \n",
       "16    2003       \n",
       "17    1949       \n",
       "18    1950       \n",
       "19    2005       \n",
       "20    2005       \n",
       "21    2012       \n",
       "22    2010       \n",
       "23    1925       \n",
       "24    1947       \n",
       "25    1979       \n",
       "26    1985       \n",
       "27    2011       \n",
       "28    1993       \n",
       "29    1974       \n",
       "30    1951       \n",
       "...   ...        \n",
       "9971  2014       \n",
       "9972  2015       \n",
       "9973  2009       \n",
       "9974  2014       \n",
       "9975  2014       \n",
       "9976  2010       \n",
       "9977  2010       \n",
       "9978  2011       \n",
       "9979  2014       \n",
       "9980  2011       \n",
       "9981  2014       \n",
       "9982  2011       \n",
       "9983  2015       \n",
       "9984  1895       \n",
       "9985  1997       \n",
       "9986  2014       \n",
       "9987  2014       \n",
       "9988  2013       \n",
       "9989  2011       \n",
       "9990  2016       \n",
       "9991  2005       \n",
       "9992  2011       \n",
       "9993  2015       \n",
       "9994  2011       \n",
       "9995  2008       \n",
       "9996  2003       \n",
       "9997  2015       \n",
       "9998  2013       \n",
       "9999  2009       \n",
       "10000 2014       \n",
       "      titulo                                                                                              \n",
       "1     Harry Potter and the Sorcerer's Stone (Harry Potter, #1)                                            \n",
       "2     The Hunger Games (The Hunger Games, #1)                                                             \n",
       "3     To Kill a Mockingbird                                                                               \n",
       "4     Harry Potter and the Deathly Hallows (Harry Potter, #7)                                             \n",
       "5     Harry Potter and the Prisoner of Azkaban (Harry Potter, #3)                                         \n",
       "6     Harry Potter and the Goblet of Fire (Harry Potter, #4)                                              \n",
       "7     Harry Potter and the Half-Blood Prince (Harry Potter, #6)                                           \n",
       "8     Harry Potter and the Order of the Phoenix (Harry Potter, #5)                                        \n",
       "9     Harry Potter and the Chamber of Secrets (Harry Potter, #2)                                          \n",
       "10    The Hobbit                                                                                          \n",
       "11    The Help                                                                                            \n",
       "12    Pride and Prejudice                                                                                 \n",
       "13    The Fellowship of the Ring (The Lord of the Rings, #1)                                              \n",
       "14    Catching Fire (The Hunger Games, #2)                                                                \n",
       "15    A Game of Thrones (A Song of Ice and Fire, #1)                                                      \n",
       "16    The Kite Runner                                                                                     \n",
       "17    1984                                                                                                \n",
       "18    The Lion, the Witch, and the Wardrobe (Chronicles of Narnia, #1)                                    \n",
       "19    The Girl with the Dragon Tattoo (Millennium, #1)                                                    \n",
       "20    The Book Thief                                                                                      \n",
       "21    The Fault in Our Stars                                                                              \n",
       "22    Mockingjay (The Hunger Games, #3)                                                                   \n",
       "23    The Great Gatsby                                                                                    \n",
       "24    The Diary of a Young Girl                                                                           \n",
       "25    The Hitchhiker's Guide to the Galaxy (Hitchhiker's Guide to the Galaxy, #1)                         \n",
       "26    Ender's Game (Ender's Saga, #1)                                                                     \n",
       "27    Divergent (Divergent, #1)                                                                           \n",
       "28    The Giver (The Giver, #1)                                                                           \n",
       "29    Where the Sidewalk Ends                                                                             \n",
       "30    The Catcher in the Rye                                                                              \n",
       "...   ...                                                                                                 \n",
       "9971  Dataclysm: Who We Are (When We Think No One's Looking)                                              \n",
       "9972  Shopaholic to the Rescue (Shopaholic, #8)                                                           \n",
       "9973  Trouble in Mudbug (Ghost-in-Law, #1)                                                                \n",
       "9974  The Fever                                                                                           \n",
       "9975  I Am Having So Much Fun Here Without You                                                            \n",
       "9976  Imperial Bedrooms                                                                                   \n",
       "9977  <U+0644><U+064A><U+062A><U+0647><U+0627> <U+062A><U+0642><U+0631><U+0623>                           \n",
       "9978  Summer and the City (The Carrie Diaries, #2)                                                        \n",
       "9979  Before We Met                                                                                       \n",
       "9980  Growing Up Amish                                                                                    \n",
       "9981  Beautiful You                                                                                       \n",
       "9982  Life is What You Make It: A Story of Love, Hope and How Determination Can Overcome Even Destiny     \n",
       "9983  Among the Ten Thousand Things                                                                       \n",
       "9984  The King in Yellow and Other Horror Stories                                                         \n",
       "9985  The Fuck-Up                                                                                         \n",
       "9986  The Three (The Three, #1)                                                                           \n",
       "9987  Thrive: The Third Metric to Redefining Success and Creating a Life of Well-Being, Wisdom, and Wonder\n",
       "9988  The Lake (The Lake Trilogy #1)                                                                      \n",
       "9989  The One You Love (Emma Holden Suspense Mystery, #1)                                                 \n",
       "9990  The Sister                                                                                          \n",
       "9991  One Night at the Call Center                                                                        \n",
       "9992  Revolution 2020: Love, Corruption, Ambition                                                         \n",
       "9993  Primates of Park Avenue                                                                             \n",
       "9994  Can Love Happen Twice?                                                                              \n",
       "9995  Of Course I Love You...! Till I Find Someone Better...                                              \n",
       "9996  Long Time Coming                                                                                    \n",
       "9997  Crooked Little Lies                                                                                 \n",
       "9998  Diary ng Panget                                                                                     \n",
       "9999  Kindle User's Guide                                                                                 \n",
       "10000 Half Girlfriend                                                                                     \n",
       "      num_libros\n",
       "1      491      \n",
       "2      272      \n",
       "3      487      \n",
       "4      263      \n",
       "5      376      \n",
       "6      332      \n",
       "7      275      \n",
       "8      307      \n",
       "9      398      \n",
       "10     969      \n",
       "11     183      \n",
       "12    3455      \n",
       "13     566      \n",
       "14     201      \n",
       "15     101      \n",
       "16     283      \n",
       "17     995      \n",
       "18     474      \n",
       "19     274      \n",
       "20     251      \n",
       "21     226      \n",
       "22     239      \n",
       "23    1356      \n",
       "24     710      \n",
       "25     257      \n",
       "26     224      \n",
       "27     210      \n",
       "28     192      \n",
       "29      45      \n",
       "30     360      \n",
       "...   ...       \n",
       "9971   27       \n",
       "9972   42       \n",
       "9973   13       \n",
       "9974   28       \n",
       "9975   13       \n",
       "9976   42       \n",
       "9977    2       \n",
       "9978   54       \n",
       "9979   22       \n",
       "9980    8       \n",
       "9981   47       \n",
       "9982    4       \n",
       "9983   19       \n",
       "9984  341       \n",
       "9985   10       \n",
       "9986   51       \n",
       "9987   26       \n",
       "9988    5       \n",
       "9989   15       \n",
       "9990   13       \n",
       "9991   25       \n",
       "9992   20       \n",
       "9993   20       \n",
       "9994    7       \n",
       "9995    7       \n",
       "9996    8       \n",
       "9997    6       \n",
       "9998    2       \n",
       "9999   67       \n",
       "10000   8       \n",
       "      imagen_libro                                                                            \n",
       "1     https://images.gr-assets.com/books/1474154022m/3.jpg                                    \n",
       "2     https://images.gr-assets.com/books/1447303603m/2767052.jpg                              \n",
       "3     https://images.gr-assets.com/books/1361975680m/2657.jpg                                 \n",
       "4     https://images.gr-assets.com/books/1474171184m/136251.jpg                               \n",
       "5     https://images.gr-assets.com/books/1499277281m/5.jpg                                    \n",
       "6     https://images.gr-assets.com/books/1361482611m/6.jpg                                    \n",
       "7     https://images.gr-assets.com/books/1361039191m/1.jpg                                    \n",
       "8     https://images.gr-assets.com/books/1387141547m/2.jpg                                    \n",
       "9     https://images.gr-assets.com/books/1474169725m/15881.jpg                                \n",
       "10    https://images.gr-assets.com/books/1372847500m/5907.jpg                                 \n",
       "11    https://images.gr-assets.com/books/1346100365m/4667024.jpg                              \n",
       "12    https://images.gr-assets.com/books/1320399351m/1885.jpg                                 \n",
       "13    https://images.gr-assets.com/books/1298411339m/34.jpg                                   \n",
       "14    https://images.gr-assets.com/books/1358273780m/6148028.jpg                              \n",
       "15    https://images.gr-assets.com/books/1436732693m/13496.jpg                                \n",
       "16    https://images.gr-assets.com/books/1484565687m/77203.jpg                                \n",
       "17    https://images.gr-assets.com/books/1348990566m/5470.jpg                                 \n",
       "18    https://images.gr-assets.com/books/1353029077m/100915.jpg                               \n",
       "19    https://images.gr-assets.com/books/1327868566m/2429135.jpg                              \n",
       "20    https://images.gr-assets.com/books/1390053681m/19063.jpg                                \n",
       "21    https://images.gr-assets.com/books/1360206420m/11870085.jpg                             \n",
       "22    https://images.gr-assets.com/books/1358275419m/7260188.jpg                              \n",
       "23    https://images.gr-assets.com/books/1490528560m/4671.jpg                                 \n",
       "24    https://images.gr-assets.com/books/1358276407m/48855.jpg                                \n",
       "25    https://images.gr-assets.com/books/1327656754m/11.jpg                                   \n",
       "26    https://images.gr-assets.com/books/1408303130m/375802.jpg                               \n",
       "27    https://images.gr-assets.com/books/1328559506m/13335037.jpg                             \n",
       "28    https://images.gr-assets.com/books/1342493368m/3636.jpg                                 \n",
       "29    https://images.gr-assets.com/books/1168052448m/30119.jpg                                \n",
       "30    https://images.gr-assets.com/books/1398034300m/5107.jpg                                 \n",
       "...   ...                                                                                     \n",
       "9971  https://images.gr-assets.com/books/1407763834m/21480734.jpg                             \n",
       "9972  https://images.gr-assets.com/books/1439942710m/25809756.jpg                             \n",
       "9973  https://s.gr-assets.com/assets/nophoto/book/111x148-bcc042a9c91a29c1d680899eff700a03.png\n",
       "9974  https://images.gr-assets.com/books/1381359885m/18656036.jpg                             \n",
       "9975  https://images.gr-assets.com/books/1403390765m/18775284.jpg                             \n",
       "9976  https://images.gr-assets.com/books/1278878105m/7519866.jpg                              \n",
       "9977  https://s.gr-assets.com/assets/nophoto/book/111x148-bcc042a9c91a29c1d680899eff700a03.png\n",
       "9978  https://images.gr-assets.com/books/1366212836m/9266769.jpg                              \n",
       "9979  https://images.gr-assets.com/books/1369569396m/17978144.jpg                             \n",
       "9980  https://images.gr-assets.com/books/1406514526m/10870589.jpg                             \n",
       "9981  https://images.gr-assets.com/books/1399667103m/19523454.jpg                             \n",
       "9982  https://images.gr-assets.com/books/1308754493m/11256293.jpg                             \n",
       "9983  https://images.gr-assets.com/books/1464907467m/23503361.jpg                             \n",
       "9984  https://images.gr-assets.com/books/1416873291m/129798.jpg                               \n",
       "9985  https://s.gr-assets.com/assets/nophoto/book/111x148-bcc042a9c91a29c1d680899eff700a03.png\n",
       "9986  https://images.gr-assets.com/books/1379897631m/18453110.jpg                             \n",
       "9987  https://images.gr-assets.com/books/1400873884m/18594634.jpg                             \n",
       "9988  https://images.gr-assets.com/books/1461854990m/17794657.jpg                             \n",
       "9989  https://images.gr-assets.com/books/1328103463m/11981168.jpg                             \n",
       "9990  https://s.gr-assets.com/assets/nophoto/book/111x148-bcc042a9c91a29c1d680899eff700a03.png\n",
       "9991  https://images.gr-assets.com/books/1320500924m/105578.jpg                               \n",
       "9992  https://images.gr-assets.com/books/1317964666m/12615008.jpg                             \n",
       "9993  https://images.gr-assets.com/books/1430942586m/23492673.jpg                             \n",
       "9994  https://images.gr-assets.com/books/1321016822m/13041934.jpg                             \n",
       "9995  https://images.gr-assets.com/books/1274597947m/7011879.jpg                              \n",
       "9996  https://s.gr-assets.com/assets/nophoto/book/111x148-bcc042a9c91a29c1d680899eff700a03.png\n",
       "9997  https://s.gr-assets.com/assets/nophoto/book/111x148-bcc042a9c91a29c1d680899eff700a03.png\n",
       "9998  https://images.gr-assets.com/books/1368083785m/17903381.jpg                             \n",
       "9999  https://s.gr-assets.com/assets/nophoto/book/111x148-bcc042a9c91a29c1d680899eff700a03.png\n",
       "10000 https://images.gr-assets.com/books/1407223058m/22874559.jpg                             "
      ]
     },
     "metadata": {},
     "output_type": "display_data"
    }
   ],
   "source": [
    "# Paralelo A:\n",
    "inner_join(notaMaxLector, libros, by = \"id_libro\") %>% arrange(-Num.Cincos)"
   ]
  },
  {
   "cell_type": "markdown",
   "metadata": {},
   "source": [
    "## Nacimientos"
   ]
  },
  {
   "cell_type": "code",
   "execution_count": 17,
   "metadata": {},
   "outputs": [
    {
     "name": "stderr",
     "output_type": "stream",
     "text": [
      "Parsed with column specification:\n",
      "cols(\n",
      "  año = col_integer(),\n",
      "  mes = col_integer(),\n",
      "  día = col_integer(),\n",
      "  día_semana = col_character(),\n",
      "  nacimientos = col_integer(),\n",
      "  fecha = col_date(format = \"\")\n",
      ")\n"
     ]
    },
    {
     "data": {
      "text/html": [
       "<table>\n",
       "<thead><tr><th scope=col>año</th><th scope=col>mes</th><th scope=col>día</th><th scope=col>día_semana</th><th scope=col>nacimientos</th><th scope=col>fecha</th></tr></thead>\n",
       "<tbody>\n",
       "\t<tr><td>2000      </td><td>1         </td><td>1         </td><td>sab       </td><td> 9083     </td><td>2000-01-01</td></tr>\n",
       "\t<tr><td>2000      </td><td>1         </td><td>2         </td><td>dom       </td><td> 8006     </td><td>2000-01-02</td></tr>\n",
       "\t<tr><td>2000      </td><td>1         </td><td>3         </td><td>lun       </td><td>11363     </td><td>2000-01-03</td></tr>\n",
       "\t<tr><td>2000      </td><td>1         </td><td>4         </td><td>mar       </td><td>13032     </td><td>2000-01-04</td></tr>\n",
       "\t<tr><td>2000      </td><td>1         </td><td>5         </td><td>mier      </td><td>12558     </td><td>2000-01-05</td></tr>\n",
       "\t<tr><td>2000      </td><td>1         </td><td>6         </td><td>jue       </td><td>12466     </td><td>2000-01-06</td></tr>\n",
       "</tbody>\n",
       "</table>\n"
      ],
      "text/latex": [
       "\\begin{tabular}{r|llllll}\n",
       " año & mes & día & día\\_semana & nacimientos & fecha\\\\\n",
       "\\hline\n",
       "\t 2000       & 1          & 1          & sab        &  9083      & 2000-01-01\\\\\n",
       "\t 2000       & 1          & 2          & dom        &  8006      & 2000-01-02\\\\\n",
       "\t 2000       & 1          & 3          & lun        & 11363      & 2000-01-03\\\\\n",
       "\t 2000       & 1          & 4          & mar        & 13032      & 2000-01-04\\\\\n",
       "\t 2000       & 1          & 5          & mier       & 12558      & 2000-01-05\\\\\n",
       "\t 2000       & 1          & 6          & jue        & 12466      & 2000-01-06\\\\\n",
       "\\end{tabular}\n"
      ],
      "text/markdown": [
       "\n",
       "año | mes | día | día_semana | nacimientos | fecha | \n",
       "|---|---|---|---|---|---|\n",
       "| 2000       | 1          | 1          | sab        |  9083      | 2000-01-01 | \n",
       "| 2000       | 1          | 2          | dom        |  8006      | 2000-01-02 | \n",
       "| 2000       | 1          | 3          | lun        | 11363      | 2000-01-03 | \n",
       "| 2000       | 1          | 4          | mar        | 13032      | 2000-01-04 | \n",
       "| 2000       | 1          | 5          | mier       | 12558      | 2000-01-05 | \n",
       "| 2000       | 1          | 6          | jue        | 12466      | 2000-01-06 | \n",
       "\n",
       "\n"
      ],
      "text/plain": [
       "  año  mes día día_semana nacimientos fecha     \n",
       "1 2000 1   1   sab         9083       2000-01-01\n",
       "2 2000 1   2   dom         8006       2000-01-02\n",
       "3 2000 1   3   lun        11363       2000-01-03\n",
       "4 2000 1   4   mar        13032       2000-01-04\n",
       "5 2000 1   5   mier       12558       2000-01-05\n",
       "6 2000 1   6   jue        12466       2000-01-06"
      ]
     },
     "metadata": {},
     "output_type": "display_data"
    }
   ],
   "source": [
    "nacimientos <- read_csv(file = \"C:/Users/Personal/Data-Science-Students/Tables/parcial1/nacimientos.csv\")\n",
    "head(nacimientos)"
   ]
  },
  {
   "cell_type": "markdown",
   "metadata": {},
   "source": [
    "## ggplot bar (hagan un plot de los nacimientos por cada día de la semana)"
   ]
  },
  {
   "cell_type": "code",
   "execution_count": 19,
   "metadata": {},
   "outputs": [
    {
     "data": {},
     "metadata": {},
     "output_type": "display_data"
    },
    {
     "data": {
      "image/png": "[encoded data removed]",
      "text/plain": [
       "plot without title"
      ]
     },
     "metadata": {},
     "output_type": "display_data"
    }
   ],
   "source": [
    "ggplot(nacimientos, aes(x=día_semana, y=nacimientos)) + geom_bar(stat='identity')"
   ]
  },
  {
   "cell_type": "code",
   "execution_count": 20,
   "metadata": {},
   "outputs": [
    {
     "data": {},
     "metadata": {},
     "output_type": "display_data"
    },
    {
     "data": {
      "image/png": "[encoded data removed]",
      "text/plain": [
       "plot without title"
      ]
     },
     "metadata": {},
     "output_type": "display_data"
    }
   ],
   "source": [
    "# Paralelo A\n",
    "ggplot(nacimientos, aes(x=mes, y=nacimientos)) + geom_bar(stat='identity')"
   ]
  },
  {
   "cell_type": "markdown",
   "metadata": {},
   "source": [
    "## Viernes 13 en el 2009"
   ]
  },
  {
   "cell_type": "code",
   "execution_count": 10,
   "metadata": {},
   "outputs": [
    {
     "data": {
      "text/html": [
       "<table>\n",
       "<thead><tr><th scope=col>año</th><th scope=col>mes</th><th scope=col>día</th><th scope=col>día_semana</th><th scope=col>nacimientos</th><th scope=col>fecha</th></tr></thead>\n",
       "<tbody>\n",
       "\t<tr><td>2009      </td><td>1         </td><td>1         </td><td>jue       </td><td> 8145     </td><td>2009-01-01</td></tr>\n",
       "\t<tr><td>2009      </td><td>1         </td><td>2         </td><td>vie       </td><td>10995     </td><td>2009-01-02</td></tr>\n",
       "\t<tr><td>2009      </td><td>1         </td><td>3         </td><td>sab       </td><td> 8338     </td><td>2009-01-03</td></tr>\n",
       "\t<tr><td>2009      </td><td>1         </td><td>4         </td><td>dom       </td><td> 7283     </td><td>2009-01-04</td></tr>\n",
       "\t<tr><td>2009      </td><td>1         </td><td>5         </td><td>lun       </td><td>12125     </td><td>2009-01-05</td></tr>\n",
       "\t<tr><td>2009      </td><td>1         </td><td>6         </td><td>mar       </td><td>13222     </td><td>2009-01-06</td></tr>\n",
       "</tbody>\n",
       "</table>\n"
      ],
      "text/latex": [
       "\\begin{tabular}{r|llllll}\n",
       " año & mes & día & día\\_semana & nacimientos & fecha\\\\\n",
       "\\hline\n",
       "\t 2009       & 1          & 1          & jue        &  8145      & 2009-01-01\\\\\n",
       "\t 2009       & 1          & 2          & vie        & 10995      & 2009-01-02\\\\\n",
       "\t 2009       & 1          & 3          & sab        &  8338      & 2009-01-03\\\\\n",
       "\t 2009       & 1          & 4          & dom        &  7283      & 2009-01-04\\\\\n",
       "\t 2009       & 1          & 5          & lun        & 12125      & 2009-01-05\\\\\n",
       "\t 2009       & 1          & 6          & mar        & 13222      & 2009-01-06\\\\\n",
       "\\end{tabular}\n"
      ],
      "text/markdown": [
       "\n",
       "año | mes | día | día_semana | nacimientos | fecha | \n",
       "|---|---|---|---|---|---|\n",
       "| 2009       | 1          | 1          | jue        |  8145      | 2009-01-01 | \n",
       "| 2009       | 1          | 2          | vie        | 10995      | 2009-01-02 | \n",
       "| 2009       | 1          | 3          | sab        |  8338      | 2009-01-03 | \n",
       "| 2009       | 1          | 4          | dom        |  7283      | 2009-01-04 | \n",
       "| 2009       | 1          | 5          | lun        | 12125      | 2009-01-05 | \n",
       "| 2009       | 1          | 6          | mar        | 13222      | 2009-01-06 | \n",
       "\n",
       "\n"
      ],
      "text/plain": [
       "  año  mes día día_semana nacimientos fecha     \n",
       "1 2009 1   1   jue         8145       2009-01-01\n",
       "2 2009 1   2   vie        10995       2009-01-02\n",
       "3 2009 1   3   sab         8338       2009-01-03\n",
       "4 2009 1   4   dom         7283       2009-01-04\n",
       "5 2009 1   5   lun        12125       2009-01-05\n",
       "6 2009 1   6   mar        13222       2009-01-06"
      ]
     },
     "metadata": {},
     "output_type": "display_data"
    }
   ],
   "source": [
    "nacimientos_2009 <- nacimientos %>% filter(año == 2009)\n",
    "head(nacimientos_2009)"
   ]
  },
  {
   "cell_type": "code",
   "execution_count": 14,
   "metadata": {},
   "outputs": [
    {
     "data": {
      "text/html": [
       "<table>\n",
       "<thead><tr><th scope=col>año</th><th scope=col>mes</th><th scope=col>día</th><th scope=col>día_semana</th><th scope=col>nacimientos</th><th scope=col>fecha</th></tr></thead>\n",
       "<tbody>\n",
       "\t<tr><td>2009      </td><td> 2        </td><td>13        </td><td>vie       </td><td>11832     </td><td>2009-02-13</td></tr>\n",
       "\t<tr><td>2009      </td><td> 3        </td><td>13        </td><td>vie       </td><td>12087     </td><td>2009-03-13</td></tr>\n",
       "\t<tr><td>2009      </td><td>11        </td><td>13        </td><td>vie       </td><td>11739     </td><td>2009-11-13</td></tr>\n",
       "</tbody>\n",
       "</table>\n"
      ],
      "text/latex": [
       "\\begin{tabular}{r|llllll}\n",
       " año & mes & día & día\\_semana & nacimientos & fecha\\\\\n",
       "\\hline\n",
       "\t 2009       &  2         & 13         & vie        & 11832      & 2009-02-13\\\\\n",
       "\t 2009       &  3         & 13         & vie        & 12087      & 2009-03-13\\\\\n",
       "\t 2009       & 11         & 13         & vie        & 11739      & 2009-11-13\\\\\n",
       "\\end{tabular}\n"
      ],
      "text/markdown": [
       "\n",
       "año | mes | día | día_semana | nacimientos | fecha | \n",
       "|---|---|---|\n",
       "| 2009       |  2         | 13         | vie        | 11832      | 2009-02-13 | \n",
       "| 2009       |  3         | 13         | vie        | 12087      | 2009-03-13 | \n",
       "| 2009       | 11         | 13         | vie        | 11739      | 2009-11-13 | \n",
       "\n",
       "\n"
      ],
      "text/plain": [
       "  año  mes día día_semana nacimientos fecha     \n",
       "1 2009  2  13  vie        11832       2009-02-13\n",
       "2 2009  3  13  vie        12087       2009-03-13\n",
       "3 2009 11  13  vie        11739       2009-11-13"
      ]
     },
     "metadata": {},
     "output_type": "display_data"
    }
   ],
   "source": [
    "nacimientos_2009 %>% filter(día_semana == \"vie\" & día == 13)"
   ]
  },
  {
   "cell_type": "code",
   "execution_count": 22,
   "metadata": {},
   "outputs": [
    {
     "data": {
      "text/html": [
       "<table>\n",
       "<thead><tr><th scope=col>año</th><th scope=col>mes</th><th scope=col>día</th><th scope=col>día_semana</th><th scope=col>nacimientos</th><th scope=col>fecha</th></tr></thead>\n",
       "<tbody>\n",
       "\t<tr><td>2000      </td><td>10        </td><td>13        </td><td>vie       </td><td>11723     </td><td>2000-10-13</td></tr>\n",
       "\t<tr><td>2001      </td><td> 4        </td><td>13        </td><td>vie       </td><td>10881     </td><td>2001-04-13</td></tr>\n",
       "\t<tr><td>2001      </td><td> 7        </td><td>13        </td><td>vie       </td><td>12187     </td><td>2001-07-13</td></tr>\n",
       "\t<tr><td>2002      </td><td> 9        </td><td>13        </td><td>vie       </td><td>13028     </td><td>2002-09-13</td></tr>\n",
       "\t<tr><td>2002      </td><td>12        </td><td>13        </td><td>vie       </td><td>11600     </td><td>2002-12-13</td></tr>\n",
       "\t<tr><td>2003      </td><td> 6        </td><td>13        </td><td>vie       </td><td>12013     </td><td>2003-06-13</td></tr>\n",
       "</tbody>\n",
       "</table>\n"
      ],
      "text/latex": [
       "\\begin{tabular}{r|llllll}\n",
       " año & mes & día & día\\_semana & nacimientos & fecha\\\\\n",
       "\\hline\n",
       "\t 2000       & 10         & 13         & vie        & 11723      & 2000-10-13\\\\\n",
       "\t 2001       &  4         & 13         & vie        & 10881      & 2001-04-13\\\\\n",
       "\t 2001       &  7         & 13         & vie        & 12187      & 2001-07-13\\\\\n",
       "\t 2002       &  9         & 13         & vie        & 13028      & 2002-09-13\\\\\n",
       "\t 2002       & 12         & 13         & vie        & 11600      & 2002-12-13\\\\\n",
       "\t 2003       &  6         & 13         & vie        & 12013      & 2003-06-13\\\\\n",
       "\\end{tabular}\n"
      ],
      "text/markdown": [
       "\n",
       "año | mes | día | día_semana | nacimientos | fecha | \n",
       "|---|---|---|---|---|---|\n",
       "| 2000       | 10         | 13         | vie        | 11723      | 2000-10-13 | \n",
       "| 2001       |  4         | 13         | vie        | 10881      | 2001-04-13 | \n",
       "| 2001       |  7         | 13         | vie        | 12187      | 2001-07-13 | \n",
       "| 2002       |  9         | 13         | vie        | 13028      | 2002-09-13 | \n",
       "| 2002       | 12         | 13         | vie        | 11600      | 2002-12-13 | \n",
       "| 2003       |  6         | 13         | vie        | 12013      | 2003-06-13 | \n",
       "\n",
       "\n"
      ],
      "text/plain": [
       "  año  mes día día_semana nacimientos fecha     \n",
       "1 2000 10  13  vie        11723       2000-10-13\n",
       "2 2001  4  13  vie        10881       2001-04-13\n",
       "3 2001  7  13  vie        12187       2001-07-13\n",
       "4 2002  9  13  vie        13028       2002-09-13\n",
       "5 2002 12  13  vie        11600       2002-12-13\n",
       "6 2003  6  13  vie        12013       2003-06-13"
      ]
     },
     "metadata": {},
     "output_type": "display_data"
    }
   ],
   "source": [
    "# Paralelo A: \n",
    "nacimientos %>% filter(día_semana == \"vie\" & día == 13) %>% head()"
   ]
  },
  {
   "cell_type": "code",
   "execution_count": 23,
   "metadata": {},
   "outputs": [
    {
     "data": {},
     "metadata": {},
     "output_type": "display_data"
    },
    {
     "data": {
      "image/png": "[encoded data removed]",
      "text/plain": [
       "plot without title"
      ]
     },
     "metadata": {},
     "output_type": "display_data"
    }
   ],
   "source": [
    "#png(\"Viernes13.png\", width=25, height=16, units = 'cm', res=300)\n",
    "ggplot(nacimientos %>% filter(día_semana == 'vie', día ==13), aes(x=año)) + \n",
    "        geom_histogram(alpha=1, binwidth=1, color=\"gray\") + \n",
    "        scale_x_continuous(breaks = seq(2000, 2014, 1)) +\n",
    "        ggtitle('Número de Viernes 13 por Año') +\n",
    "        xlab('Año') + ylab('Número de Viernes 13') + \n",
    "        theme_light() + \n",
    "        theme(panel.grid.minor =   element_blank(),\n",
    "                #panel.grid.major =  element_line(colour = \"gray\",size=0.75),\n",
    "                #panel.grid.major.x=element_blank()\n",
    "             )\n",
    "#dev.off()"
   ]
  },
  {
   "cell_type": "code",
   "execution_count": null,
   "metadata": {
    "collapsed": true
   },
   "outputs": [],
   "source": []
  },
  {
   "cell_type": "code",
   "execution_count": null,
   "metadata": {
    "collapsed": true
   },
   "outputs": [],
   "source": []
  },
  {
   "cell_type": "code",
   "execution_count": 73,
   "metadata": {},
   "outputs": [
    {
     "data": {
      "text/html": [
       "<ol class=list-inline>\n",
       "\t<li>366</li>\n",
       "\t<li>4</li>\n",
       "</ol>\n"
      ],
      "text/latex": [
       "\\begin{enumerate*}\n",
       "\\item 366\n",
       "\\item 4\n",
       "\\end{enumerate*}\n"
      ],
      "text/markdown": [
       "1. 366\n",
       "2. 4\n",
       "\n",
       "\n"
      ],
      "text/plain": [
       "[1] 366   4"
      ]
     },
     "metadata": {},
     "output_type": "display_data"
    },
    {
     "data": {
      "text/html": [
       "<table>\n",
       "<thead><tr><th scope=col>mes</th><th scope=col>día</th><th scope=col>prom_nacimientos</th><th scope=col>día_año</th></tr></thead>\n",
       "<tbody>\n",
       "\t<tr><td>1        </td><td>1        </td><td> 7735.333</td><td>1        </td></tr>\n",
       "\t<tr><td>1        </td><td>2        </td><td> 9605.533</td><td>2        </td></tr>\n",
       "\t<tr><td>1        </td><td>3        </td><td>11341.000</td><td>3        </td></tr>\n",
       "\t<tr><td>1        </td><td>4        </td><td>11444.200</td><td>4        </td></tr>\n",
       "\t<tr><td>1        </td><td>5        </td><td>11112.133</td><td>5        </td></tr>\n",
       "\t<tr><td>1        </td><td>6        </td><td>10944.467</td><td>6        </td></tr>\n",
       "</tbody>\n",
       "</table>\n"
      ],
      "text/latex": [
       "\\begin{tabular}{r|llll}\n",
       " mes & día & prom\\_nacimientos & día\\_año\\\\\n",
       "\\hline\n",
       "\t 1         & 1         &  7735.333 & 1        \\\\\n",
       "\t 1         & 2         &  9605.533 & 2        \\\\\n",
       "\t 1         & 3         & 11341.000 & 3        \\\\\n",
       "\t 1         & 4         & 11444.200 & 4        \\\\\n",
       "\t 1         & 5         & 11112.133 & 5        \\\\\n",
       "\t 1         & 6         & 10944.467 & 6        \\\\\n",
       "\\end{tabular}\n"
      ],
      "text/markdown": [
       "\n",
       "mes | día | prom_nacimientos | día_año | \n",
       "|---|---|---|---|---|---|\n",
       "| 1         | 1         |  7735.333 | 1         | \n",
       "| 1         | 2         |  9605.533 | 2         | \n",
       "| 1         | 3         | 11341.000 | 3         | \n",
       "| 1         | 4         | 11444.200 | 4         | \n",
       "| 1         | 5         | 11112.133 | 5         | \n",
       "| 1         | 6         | 10944.467 | 6         | \n",
       "\n",
       "\n"
      ],
      "text/plain": [
       "  mes día prom_nacimientos día_año\n",
       "1 1   1    7735.333        1      \n",
       "2 1   2    9605.533        2      \n",
       "3 1   3   11341.000        3      \n",
       "4 1   4   11444.200        4      \n",
       "5 1   5   11112.133        5      \n",
       "6 1   6   10944.467        6      "
      ]
     },
     "metadata": {},
     "output_type": "display_data"
    }
   ],
   "source": [
    "# birthdays per day of the year.\n",
    "\n",
    "nacimientos_day_month <- nacimientos %>% group_by(mes, día) %>% \n",
    "                                        summarise(prom_nacimientos = mean(nacimientos)) %>% \n",
    "                                        ungroup() %>% mutate(día_año = seq(1,366))\n",
    "dim(nacimientos_day_month)\n",
    "head(nacimientos_day_month)"
   ]
  },
  {
   "cell_type": "code",
   "execution_count": 81,
   "metadata": {},
   "outputs": [
    {
     "data": {},
     "metadata": {},
     "output_type": "display_data"
    },
    {
     "data": {
      "image/png": "[encoded data removed]",
      "text/plain": [
       "plot without title"
      ]
     },
     "metadata": {},
     "output_type": "display_data"
    }
   ],
   "source": [
    "#http://research.cs.aalto.fi/pml/software/gpstuff/demo_births.shtml\n",
    "ggplot(nacimientos_day_month, aes(x = día_año, y = prom_nacimientos)) +  geom_line()"
   ]
  },
  {
   "cell_type": "code",
   "execution_count": 133,
   "metadata": {},
   "outputs": [
    {
     "data": {
      "image/png": "[encoded data removed]",
      "text/plain": [
       "plot without title"
      ]
     },
     "metadata": {},
     "output_type": "display_data"
    }
   ],
   "source": [
    "library(KernSmooth)\n",
    "\n",
    "x <- nacimientos_day_month$ día_año\n",
    "y <- nacimientos_day_month$prom_nacimientos\n",
    "\n",
    "fit <- locpoly(x, y, degree=1, bandwidth = 5)\n",
    "plot(x, y)\n",
    "lines(fit)"
   ]
  },
  {
   "cell_type": "code",
   "execution_count": 134,
   "metadata": {},
   "outputs": [
    {
     "name": "stderr",
     "output_type": "stream",
     "text": [
      "Warning message in y - fit$y:\n",
      "\"longitud de objeto mayor no es múltiplo de la longitud de uno menor\""
     ]
    },
    {
     "data": {
      "text/html": [
       "366"
      ],
      "text/latex": [
       "366"
      ],
      "text/markdown": [
       "366"
      ],
      "text/plain": [
       "[1] 366"
      ]
     },
     "metadata": {},
     "output_type": "display_data"
    },
    {
     "data": {
      "text/html": [
       "401"
      ],
      "text/latex": [
       "401"
      ],
      "text/markdown": [
       "401"
      ],
      "text/plain": [
       "[1] 401"
      ]
     },
     "metadata": {},
     "output_type": "display_data"
    },
    {
     "data": {
      "image/png": "[encoded data removed]",
      "text/plain": [
       "plot without title"
      ]
     },
     "metadata": {},
     "output_type": "display_data"
    }
   ],
   "source": [
    "plot(fit$x, y - fit$y, type=\"l\")\n",
    "length(y)\n",
    "length(fit$y) "
   ]
  },
  {
   "cell_type": "code",
   "execution_count": 138,
   "metadata": {
    "collapsed": true
   },
   "outputs": [],
   "source": [
    "library(genlasso)\n",
    "fit <- trendfilter(y, ord=3)"
   ]
  },
  {
   "cell_type": "code",
   "execution_count": 147,
   "metadata": {
    "scrolled": false
   },
   "outputs": [
    {
     "data": {
      "image/png": "[encoded data removed]",
      "text/plain": [
       "plot without title"
      ]
     },
     "metadata": {},
     "output_type": "display_data"
    },
    {
     "data": {
      "image/png": "[encoded data removed]",
      "text/plain": [
       "plot without title"
      ]
     },
     "metadata": {},
     "output_type": "display_data"
    }
   ],
   "source": [
    "plot(fit, nlam=1)\n",
    "\n",
    "plot(fit$fit[, 1], col=\"red\")"
   ]
  },
  {
   "cell_type": "code",
   "execution_count": null,
   "metadata": {
    "collapsed": true
   },
   "outputs": [],
   "source": []
  }
 ],
 "metadata": {
  "kernelspec": {
   "display_name": "R 3.3",
   "language": "R",
   "name": "ir33"
  },
  "language_info": {
   "codemirror_mode": "r",
   "file_extension": ".r",
   "mimetype": "text/x-r-source",
   "name": "R",
   "pygments_lexer": "r",
   "version": "3.3.3"
  }
 },
 "nbformat": 4,
 "nbformat_minor": 2
}
