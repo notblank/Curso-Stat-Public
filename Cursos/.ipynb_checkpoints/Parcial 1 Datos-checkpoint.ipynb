{
 "cells": [
  {
   "cell_type": "code",
   "execution_count": 112,
   "metadata": {},
   "outputs": [],
   "source": [
    "library(readr)\n",
    "library(readxl)\n",
    "library(dplyr, tidyr)\n",
    "library(ggplot2)\n",
    "library(lubridate)\n",
    "library(stringr)"
   ]
  },
  {
   "cell_type": "code",
   "execution_count": 33,
   "metadata": {
    "scrolled": true
   },
   "outputs": [
    {
     "name": "stderr",
     "output_type": "stream",
     "text": [
      "Parsed with column specification:\n",
      "cols(\n",
      "  .default = col_integer(),\n",
      "  isbn = col_character(),\n",
      "  isbn13 = col_double(),\n",
      "  authors = col_character(),\n",
      "  original_publication_year = col_double(),\n",
      "  original_title = col_character(),\n",
      "  title = col_character(),\n",
      "  language_code = col_character(),\n",
      "  average_rating = col_double(),\n",
      "  image_url = col_character(),\n",
      "  small_image_url = col_character()\n",
      ")\n",
      "See spec(...) for full column specifications.\n",
      "Parsed with column specification:\n",
      "cols(\n",
      "  user_id = col_integer(),\n",
      "  book_id = col_integer(),\n",
      "  rating = col_integer()\n",
      ")\n",
      "Parsed with column specification:\n",
      "cols(\n",
      "  tag_id = col_integer(),\n",
      "  tag_name = col_character()\n",
      ")\n",
      "Parsed with column specification:\n",
      "cols(\n",
      "  goodreads_book_id = col_integer(),\n",
      "  tag_id = col_integer(),\n",
      "  count = col_integer()\n",
      ")\n"
     ]
    }
   ],
   "source": [
    "# https://github.com/zygmuntz/goodbooks-10k/blob/master/quick_look.ipynb\n",
    "\n",
    "Books <- read_csv(\"C:/Users/Personal/Data-Science-Students/Tables/goodreads-10k/books.csv\")\n",
    "ratings <- read_csv(\"C:/Users/Personal/Data-Science-Students/Tables/goodreads-10k/ratings.csv\")\n",
    "tags <- read_csv(\"C:/Users/Personal/Data-Science-Students/Tables/goodreads-10k/tags.csv\")\n",
    "book_tags <- read_csv(\"C:/Users/Personal/Data-Science-Students/Tables/goodreads-10k/book_tags.csv\")"
   ]
  },
  {
   "cell_type": "code",
   "execution_count": 170,
   "metadata": {},
   "outputs": [
    {
     "data": {
      "text/html": [
       "<ol class=list-inline>\n",
       "\t<li>'book_id'</li>\n",
       "\t<li>'goodreads_book_id'</li>\n",
       "\t<li>'best_book_id'</li>\n",
       "\t<li>'work_id'</li>\n",
       "\t<li>'books_count'</li>\n",
       "\t<li>'isbn'</li>\n",
       "\t<li>'isbn13'</li>\n",
       "\t<li>'authors'</li>\n",
       "\t<li>'original_publication_year'</li>\n",
       "\t<li>'original_title'</li>\n",
       "\t<li>'title'</li>\n",
       "\t<li>'language_code'</li>\n",
       "\t<li>'average_rating'</li>\n",
       "\t<li>'ratings_count'</li>\n",
       "\t<li>'work_ratings_count'</li>\n",
       "\t<li>'work_text_reviews_count'</li>\n",
       "\t<li>'ratings_1'</li>\n",
       "\t<li>'ratings_2'</li>\n",
       "\t<li>'ratings_3'</li>\n",
       "\t<li>'ratings_4'</li>\n",
       "\t<li>'ratings_5'</li>\n",
       "\t<li>'image_url'</li>\n",
       "\t<li>'small_image_url'</li>\n",
       "</ol>\n"
      ],
      "text/latex": [
       "\\begin{enumerate*}\n",
       "\\item 'book\\_id'\n",
       "\\item 'goodreads\\_book\\_id'\n",
       "\\item 'best\\_book\\_id'\n",
       "\\item 'work\\_id'\n",
       "\\item 'books\\_count'\n",
       "\\item 'isbn'\n",
       "\\item 'isbn13'\n",
       "\\item 'authors'\n",
       "\\item 'original\\_publication\\_year'\n",
       "\\item 'original\\_title'\n",
       "\\item 'title'\n",
       "\\item 'language\\_code'\n",
       "\\item 'average\\_rating'\n",
       "\\item 'ratings\\_count'\n",
       "\\item 'work\\_ratings\\_count'\n",
       "\\item 'work\\_text\\_reviews\\_count'\n",
       "\\item 'ratings\\_1'\n",
       "\\item 'ratings\\_2'\n",
       "\\item 'ratings\\_3'\n",
       "\\item 'ratings\\_4'\n",
       "\\item 'ratings\\_5'\n",
       "\\item 'image\\_url'\n",
       "\\item 'small\\_image\\_url'\n",
       "\\end{enumerate*}\n"
      ],
      "text/markdown": [
       "1. 'book_id'\n",
       "2. 'goodreads_book_id'\n",
       "3. 'best_book_id'\n",
       "4. 'work_id'\n",
       "5. 'books_count'\n",
       "6. 'isbn'\n",
       "7. 'isbn13'\n",
       "8. 'authors'\n",
       "9. 'original_publication_year'\n",
       "10. 'original_title'\n",
       "11. 'title'\n",
       "12. 'language_code'\n",
       "13. 'average_rating'\n",
       "14. 'ratings_count'\n",
       "15. 'work_ratings_count'\n",
       "16. 'work_text_reviews_count'\n",
       "17. 'ratings_1'\n",
       "18. 'ratings_2'\n",
       "19. 'ratings_3'\n",
       "20. 'ratings_4'\n",
       "21. 'ratings_5'\n",
       "22. 'image_url'\n",
       "23. 'small_image_url'\n",
       "\n",
       "\n"
      ],
      "text/plain": [
       " [1] \"book_id\"                   \"goodreads_book_id\"        \n",
       " [3] \"best_book_id\"              \"work_id\"                  \n",
       " [5] \"books_count\"               \"isbn\"                     \n",
       " [7] \"isbn13\"                    \"authors\"                  \n",
       " [9] \"original_publication_year\" \"original_title\"           \n",
       "[11] \"title\"                     \"language_code\"            \n",
       "[13] \"average_rating\"            \"ratings_count\"            \n",
       "[15] \"work_ratings_count\"        \"work_text_reviews_count\"  \n",
       "[17] \"ratings_1\"                 \"ratings_2\"                \n",
       "[19] \"ratings_3\"                 \"ratings_4\"                \n",
       "[21] \"ratings_5\"                 \"image_url\"                \n",
       "[23] \"small_image_url\"          "
      ]
     },
     "metadata": {},
     "output_type": "display_data"
    },
    {
     "data": {
      "text/html": [
       "<table>\n",
       "<thead><tr><th scope=col>id_libro</th><th scope=col>autor</th><th scope=col>publicacion</th><th scope=col>titulo</th><th scope=col>num_libros</th><th scope=col>imagen_libro</th></tr></thead>\n",
       "<tbody>\n",
       "\t<tr><td>1                                                          </td><td>Suzanne Collins                                            </td><td>2008                                                       </td><td>The Hunger Games (The Hunger Games, #1)                    </td><td> 272                                                       </td><td>https://images.gr-assets.com/books/1447303603m/2767052.jpg </td></tr>\n",
       "\t<tr><td>2                                                          </td><td>J.K. Rowling, Mary GrandPré                                </td><td>1997                                                       </td><td>Harry Potter and the Sorcerer's Stone (Harry Potter, #1)   </td><td> 491                                                       </td><td>https://images.gr-assets.com/books/1474154022m/3.jpg       </td></tr>\n",
       "\t<tr><td>3                                                          </td><td>Stephenie Meyer                                            </td><td>2005                                                       </td><td>Twilight (Twilight, #1)                                    </td><td> 226                                                       </td><td>https://images.gr-assets.com/books/1361039443m/41865.jpg   </td></tr>\n",
       "\t<tr><td>4                                                          </td><td>Harper Lee                                                 </td><td>1960                                                       </td><td>To Kill a Mockingbird                                      </td><td> 487                                                       </td><td>https://images.gr-assets.com/books/1361975680m/2657.jpg    </td></tr>\n",
       "\t<tr><td>5                                                          </td><td>F. Scott Fitzgerald                                        </td><td>1925                                                       </td><td>The Great Gatsby                                           </td><td>1356                                                       </td><td>https://images.gr-assets.com/books/1490528560m/4671.jpg    </td></tr>\n",
       "\t<tr><td>6                                                          </td><td>John Green                                                 </td><td>2012                                                       </td><td>The Fault in Our Stars                                     </td><td> 226                                                       </td><td>https://images.gr-assets.com/books/1360206420m/11870085.jpg</td></tr>\n",
       "</tbody>\n",
       "</table>\n"
      ],
      "text/latex": [
       "\\begin{tabular}{r|llllll}\n",
       " id\\_libro & autor & publicacion & titulo & num\\_libros & imagen\\_libro\\\\\n",
       "\\hline\n",
       "\t 1                                                           & Suzanne Collins                                             & 2008                                                        & The Hunger Games (The Hunger Games, \\#1)                   &  272                                                        & https://images.gr-assets.com/books/1447303603m/2767052.jpg \\\\\n",
       "\t 2                                                           & J.K. Rowling, Mary GrandPré                                 & 1997                                                        & Harry Potter and the Sorcerer's Stone (Harry Potter, \\#1)  &  491                                                        & https://images.gr-assets.com/books/1474154022m/3.jpg       \\\\\n",
       "\t 3                                                           & Stephenie Meyer                                             & 2005                                                        & Twilight (Twilight, \\#1)                                   &  226                                                        & https://images.gr-assets.com/books/1361039443m/41865.jpg   \\\\\n",
       "\t 4                                                           & Harper Lee                                                  & 1960                                                        & To Kill a Mockingbird                                       &  487                                                        & https://images.gr-assets.com/books/1361975680m/2657.jpg    \\\\\n",
       "\t 5                                                           & F. Scott Fitzgerald                                         & 1925                                                        & The Great Gatsby                                            & 1356                                                        & https://images.gr-assets.com/books/1490528560m/4671.jpg    \\\\\n",
       "\t 6                                                           & John Green                                                  & 2012                                                        & The Fault in Our Stars                                      &  226                                                        & https://images.gr-assets.com/books/1360206420m/11870085.jpg\\\\\n",
       "\\end{tabular}\n"
      ],
      "text/markdown": [
       "\n",
       "id_libro | autor | publicacion | titulo | num_libros | imagen_libro | \n",
       "|---|---|---|---|---|---|\n",
       "| 1                                                           | Suzanne Collins                                             | 2008                                                        | The Hunger Games (The Hunger Games, #1)                     |  272                                                        | https://images.gr-assets.com/books/1447303603m/2767052.jpg  | \n",
       "| 2                                                           | J.K. Rowling, Mary GrandPré                                 | 1997                                                        | Harry Potter and the Sorcerer's Stone (Harry Potter, #1)    |  491                                                        | https://images.gr-assets.com/books/1474154022m/3.jpg        | \n",
       "| 3                                                           | Stephenie Meyer                                             | 2005                                                        | Twilight (Twilight, #1)                                     |  226                                                        | https://images.gr-assets.com/books/1361039443m/41865.jpg    | \n",
       "| 4                                                           | Harper Lee                                                  | 1960                                                        | To Kill a Mockingbird                                       |  487                                                        | https://images.gr-assets.com/books/1361975680m/2657.jpg     | \n",
       "| 5                                                           | F. Scott Fitzgerald                                         | 1925                                                        | The Great Gatsby                                            | 1356                                                        | https://images.gr-assets.com/books/1490528560m/4671.jpg     | \n",
       "| 6                                                           | John Green                                                  | 2012                                                        | The Fault in Our Stars                                      |  226                                                        | https://images.gr-assets.com/books/1360206420m/11870085.jpg | \n",
       "\n",
       "\n"
      ],
      "text/plain": [
       "  id_libro autor                       publicacion\n",
       "1 1        Suzanne Collins             2008       \n",
       "2 2        J.K. Rowling, Mary GrandPré 1997       \n",
       "3 3        Stephenie Meyer             2005       \n",
       "4 4        Harper Lee                  1960       \n",
       "5 5        F. Scott Fitzgerald         1925       \n",
       "6 6        John Green                  2012       \n",
       "  titulo                                                   num_libros\n",
       "1 The Hunger Games (The Hunger Games, #1)                   272      \n",
       "2 Harry Potter and the Sorcerer's Stone (Harry Potter, #1)  491      \n",
       "3 Twilight (Twilight, #1)                                   226      \n",
       "4 To Kill a Mockingbird                                     487      \n",
       "5 The Great Gatsby                                         1356      \n",
       "6 The Fault in Our Stars                                    226      \n",
       "  imagen_libro                                               \n",
       "1 https://images.gr-assets.com/books/1447303603m/2767052.jpg \n",
       "2 https://images.gr-assets.com/books/1474154022m/3.jpg       \n",
       "3 https://images.gr-assets.com/books/1361039443m/41865.jpg   \n",
       "4 https://images.gr-assets.com/books/1361975680m/2657.jpg    \n",
       "5 https://images.gr-assets.com/books/1490528560m/4671.jpg    \n",
       "6 https://images.gr-assets.com/books/1360206420m/11870085.jpg"
      ]
     },
     "metadata": {},
     "output_type": "display_data"
    }
   ],
   "source": [
    "names(Books)\n",
    "libros <- Books %>% select(id_libro=book_id, autor = authors, \n",
    "                                 publicacion = original_publication_year, \n",
    "                                 titulo = title, \n",
    "                                 num_libros = books_count, \n",
    "                                 imagen_libro = image_url)\n",
    "\n",
    "head(libros)\n",
    "\n",
    "write_csv(x = libros, \"C:/Users/Personal/Data-Science-Students/Tables/parcial1/libros.csv\")"
   ]
  },
  {
   "cell_type": "code",
   "execution_count": 178,
   "metadata": {},
   "outputs": [
    {
     "data": {
      "text/html": [
       "<table>\n",
       "<thead><tr><th scope=col>id_lector</th><th scope=col>id_libro</th><th scope=col>nota</th></tr></thead>\n",
       "<tbody>\n",
       "\t<tr><td>1   </td><td> 258</td><td>5   </td></tr>\n",
       "\t<tr><td>2   </td><td>4081</td><td>4   </td></tr>\n",
       "\t<tr><td>2   </td><td> 260</td><td>5   </td></tr>\n",
       "\t<tr><td>2   </td><td>9296</td><td>5   </td></tr>\n",
       "\t<tr><td>2   </td><td>2318</td><td>3   </td></tr>\n",
       "\t<tr><td>2   </td><td>  26</td><td>4   </td></tr>\n",
       "</tbody>\n",
       "</table>\n"
      ],
      "text/latex": [
       "\\begin{tabular}{r|lll}\n",
       " id\\_lector & id\\_libro & nota\\\\\n",
       "\\hline\n",
       "\t 1    &  258 & 5   \\\\\n",
       "\t 2    & 4081 & 4   \\\\\n",
       "\t 2    &  260 & 5   \\\\\n",
       "\t 2    & 9296 & 5   \\\\\n",
       "\t 2    & 2318 & 3   \\\\\n",
       "\t 2    &   26 & 4   \\\\\n",
       "\\end{tabular}\n"
      ],
      "text/markdown": [
       "\n",
       "id_lector | id_libro | nota | \n",
       "|---|---|---|---|---|---|\n",
       "| 1    |  258 | 5    | \n",
       "| 2    | 4081 | 4    | \n",
       "| 2    |  260 | 5    | \n",
       "| 2    | 9296 | 5    | \n",
       "| 2    | 2318 | 3    | \n",
       "| 2    |   26 | 4    | \n",
       "\n",
       "\n"
      ],
      "text/plain": [
       "  id_lector id_libro nota\n",
       "1 1          258     5   \n",
       "2 2         4081     4   \n",
       "3 2          260     5   \n",
       "4 2         9296     5   \n",
       "5 2         2318     3   \n",
       "6 2           26     4   "
      ]
     },
     "metadata": {},
     "output_type": "display_data"
    }
   ],
   "source": [
    "notas_lector <- ratings %>% rename(id_lector=user_id, id_libro=book_id, nota=rating)\n",
    "head(notas_lector)\n",
    "\n",
    "write_csv(x = notas_lector, \"C:/Users/Personal/Data-Science-Students/Tables/parcial1/notas_lector.csv\")"
   ]
  },
  {
   "cell_type": "code",
   "execution_count": 193,
   "metadata": {},
   "outputs": [
    {
     "name": "stderr",
     "output_type": "stream",
     "text": [
      "Parsed with column specification:\n",
      "cols(\n",
      "  year = col_integer(),\n",
      "  month = col_integer(),\n",
      "  date_of_month = col_integer(),\n",
      "  day_of_week = col_integer(),\n",
      "  births = col_integer()\n",
      ")\n",
      "Parsed with column specification:\n",
      "cols(\n",
      "  year = col_integer(),\n",
      "  month = col_integer(),\n",
      "  date_of_month = col_integer(),\n",
      "  day_of_week = col_integer(),\n",
      "  births = col_integer()\n",
      ")\n"
     ]
    }
   ],
   "source": [
    "births1994_2003 <- read_csv(\"C:/Users/Personal/Data-Science-Students/Tables/US_births_1994-2003_CDC_NCHS.csv\")\n",
    "births2000_2014 <- read_csv(\"C:/Users/Personal/Data-Science-Students/Tables/US_births_2000-2014_SSA.csv\")"
   ]
  },
  {
   "cell_type": "code",
   "execution_count": 194,
   "metadata": {},
   "outputs": [
    {
     "data": {
      "text/html": [
       "<table>\n",
       "<thead><tr><th scope=col>year</th><th scope=col>month</th><th scope=col>date_of_month</th><th scope=col>day_of_week</th><th scope=col>births</th></tr></thead>\n",
       "<tbody>\n",
       "\t<tr><td>1994 </td><td>1    </td><td>1    </td><td>6    </td><td> 8096</td></tr>\n",
       "\t<tr><td>1994 </td><td>1    </td><td>2    </td><td>7    </td><td> 7772</td></tr>\n",
       "\t<tr><td>1994 </td><td>1    </td><td>3    </td><td>1    </td><td>10142</td></tr>\n",
       "\t<tr><td>1994 </td><td>1    </td><td>4    </td><td>2    </td><td>11248</td></tr>\n",
       "\t<tr><td>1994 </td><td>1    </td><td>5    </td><td>3    </td><td>11053</td></tr>\n",
       "\t<tr><td>1994 </td><td>1    </td><td>6    </td><td>4    </td><td>11406</td></tr>\n",
       "</tbody>\n",
       "</table>\n"
      ],
      "text/latex": [
       "\\begin{tabular}{r|lllll}\n",
       " year & month & date\\_of\\_month & day\\_of\\_week & births\\\\\n",
       "\\hline\n",
       "\t 1994  & 1     & 1     & 6     &  8096\\\\\n",
       "\t 1994  & 1     & 2     & 7     &  7772\\\\\n",
       "\t 1994  & 1     & 3     & 1     & 10142\\\\\n",
       "\t 1994  & 1     & 4     & 2     & 11248\\\\\n",
       "\t 1994  & 1     & 5     & 3     & 11053\\\\\n",
       "\t 1994  & 1     & 6     & 4     & 11406\\\\\n",
       "\\end{tabular}\n"
      ],
      "text/markdown": [
       "\n",
       "year | month | date_of_month | day_of_week | births | \n",
       "|---|---|---|---|---|---|\n",
       "| 1994  | 1     | 1     | 6     |  8096 | \n",
       "| 1994  | 1     | 2     | 7     |  7772 | \n",
       "| 1994  | 1     | 3     | 1     | 10142 | \n",
       "| 1994  | 1     | 4     | 2     | 11248 | \n",
       "| 1994  | 1     | 5     | 3     | 11053 | \n",
       "| 1994  | 1     | 6     | 4     | 11406 | \n",
       "\n",
       "\n"
      ],
      "text/plain": [
       "  year month date_of_month day_of_week births\n",
       "1 1994 1     1             6            8096 \n",
       "2 1994 1     2             7            7772 \n",
       "3 1994 1     3             1           10142 \n",
       "4 1994 1     4             2           11248 \n",
       "5 1994 1     5             3           11053 \n",
       "6 1994 1     6             4           11406 "
      ]
     },
     "metadata": {},
     "output_type": "display_data"
    },
    {
     "data": {
      "text/html": [
       "<table>\n",
       "<thead><tr><th scope=col>year</th><th scope=col>month</th><th scope=col>date_of_month</th><th scope=col>day_of_week</th><th scope=col>births</th></tr></thead>\n",
       "<tbody>\n",
       "\t<tr><td>2000 </td><td>1    </td><td>1    </td><td>6    </td><td> 9083</td></tr>\n",
       "\t<tr><td>2000 </td><td>1    </td><td>2    </td><td>7    </td><td> 8006</td></tr>\n",
       "\t<tr><td>2000 </td><td>1    </td><td>3    </td><td>1    </td><td>11363</td></tr>\n",
       "\t<tr><td>2000 </td><td>1    </td><td>4    </td><td>2    </td><td>13032</td></tr>\n",
       "\t<tr><td>2000 </td><td>1    </td><td>5    </td><td>3    </td><td>12558</td></tr>\n",
       "\t<tr><td>2000 </td><td>1    </td><td>6    </td><td>4    </td><td>12466</td></tr>\n",
       "</tbody>\n",
       "</table>\n"
      ],
      "text/latex": [
       "\\begin{tabular}{r|lllll}\n",
       " year & month & date\\_of\\_month & day\\_of\\_week & births\\\\\n",
       "\\hline\n",
       "\t 2000  & 1     & 1     & 6     &  9083\\\\\n",
       "\t 2000  & 1     & 2     & 7     &  8006\\\\\n",
       "\t 2000  & 1     & 3     & 1     & 11363\\\\\n",
       "\t 2000  & 1     & 4     & 2     & 13032\\\\\n",
       "\t 2000  & 1     & 5     & 3     & 12558\\\\\n",
       "\t 2000  & 1     & 6     & 4     & 12466\\\\\n",
       "\\end{tabular}\n"
      ],
      "text/markdown": [
       "\n",
       "year | month | date_of_month | day_of_week | births | \n",
       "|---|---|---|---|---|---|\n",
       "| 2000  | 1     | 1     | 6     |  9083 | \n",
       "| 2000  | 1     | 2     | 7     |  8006 | \n",
       "| 2000  | 1     | 3     | 1     | 11363 | \n",
       "| 2000  | 1     | 4     | 2     | 13032 | \n",
       "| 2000  | 1     | 5     | 3     | 12558 | \n",
       "| 2000  | 1     | 6     | 4     | 12466 | \n",
       "\n",
       "\n"
      ],
      "text/plain": [
       "  year month date_of_month day_of_week births\n",
       "1 2000 1     1             6            9083 \n",
       "2 2000 1     2             7            8006 \n",
       "3 2000 1     3             1           11363 \n",
       "4 2000 1     4             2           13032 \n",
       "5 2000 1     5             3           12558 \n",
       "6 2000 1     6             4           12466 "
      ]
     },
     "metadata": {},
     "output_type": "display_data"
    }
   ],
   "source": [
    "head(births1994_2003)\n",
    "head(births2000_2014)"
   ]
  },
  {
   "cell_type": "code",
   "execution_count": 195,
   "metadata": {},
   "outputs": [],
   "source": [
    "births2000_2014 <- births2000_2014  %>% \n",
    "    mutate(date = as.Date(paste0(str_pad(year, 2, pad = \"0\"), \"/\", \n",
    "       str_pad(month, 2, pad = \"0\"), \"/\",\n",
    "       str_pad(date_of_month, 2, pad = \"0\")))) "
   ]
  },
  {
   "cell_type": "code",
   "execution_count": null,
   "metadata": {
    "collapsed": true
   },
   "outputs": [],
   "source": [
    "names(births2000_2014) <- c('año', 'mes', 'dia', 'dia_semana', 'nacimientos', 'fecha')\n",
    "\n",
    "births2000_2014 <- births2000_2014 %>% \n",
    "            mutate(día_semana = factor(día_semana, labels = c('lun', 'mar', 'mier', 'jue', 'vie', 'sab', 'dom')))\n",
    "\n",
    "head(births2000_2014)\n",
    "\n",
    "write_csv(x=births2000_2014, \"C:/Users/Personal/Data-Science-Students/Tables/parcial1/nacimientos.csv\")"
   ]
  },
  {
   "cell_type": "code",
   "execution_count": 73,
   "metadata": {},
   "outputs": [
    {
     "data": {
      "text/html": [
       "<ol class=list-inline>\n",
       "\t<li>217</li>\n",
       "\t<li>3</li>\n",
       "</ol>\n"
      ],
      "text/latex": [
       "\\begin{enumerate*}\n",
       "\\item 217\n",
       "\\item 3\n",
       "\\end{enumerate*}\n"
      ],
      "text/markdown": [
       "1. 217\n",
       "2. 3\n",
       "\n",
       "\n"
      ],
      "text/plain": [
       "[1] 217   3"
      ]
     },
     "metadata": {},
     "output_type": "display_data"
    },
    {
     "data": {
      "text/html": [
       "<table>\n",
       "<thead><tr><th scope=col>date_of_month</th><th scope=col>day_of_week</th><th scope=col>dif_prom</th></tr></thead>\n",
       "<tbody>\n",
       "\t<tr><td>1          </td><td>1          </td><td>  -61.70826</td></tr>\n",
       "\t<tr><td>1          </td><td>2          </td><td> 1251.22804</td></tr>\n",
       "\t<tr><td>1          </td><td>3          </td><td> 1409.01507</td></tr>\n",
       "\t<tr><td>1          </td><td>4          </td><td> 1419.39328</td></tr>\n",
       "\t<tr><td>1          </td><td>5          </td><td> 1318.61174</td></tr>\n",
       "\t<tr><td>1          </td><td>6          </td><td>-2825.31826</td></tr>\n",
       "</tbody>\n",
       "</table>\n"
      ],
      "text/latex": [
       "\\begin{tabular}{r|lll}\n",
       " date\\_of\\_month & day\\_of\\_week & dif\\_prom\\\\\n",
       "\\hline\n",
       "\t 1           & 1           &   -61.70826\\\\\n",
       "\t 1           & 2           &  1251.22804\\\\\n",
       "\t 1           & 3           &  1409.01507\\\\\n",
       "\t 1           & 4           &  1419.39328\\\\\n",
       "\t 1           & 5           &  1318.61174\\\\\n",
       "\t 1           & 6           & -2825.31826\\\\\n",
       "\\end{tabular}\n"
      ],
      "text/markdown": [
       "\n",
       "date_of_month | day_of_week | dif_prom | \n",
       "|---|---|---|---|---|---|\n",
       "| 1           | 1           |   -61.70826 | \n",
       "| 1           | 2           |  1251.22804 | \n",
       "| 1           | 3           |  1409.01507 | \n",
       "| 1           | 4           |  1419.39328 | \n",
       "| 1           | 5           |  1318.61174 | \n",
       "| 1           | 6           | -2825.31826 | \n",
       "\n",
       "\n"
      ],
      "text/plain": [
       "  date_of_month day_of_week dif_prom   \n",
       "1 1             1             -61.70826\n",
       "2 1             2            1251.22804\n",
       "3 1             3            1409.01507\n",
       "4 1             4            1419.39328\n",
       "5 1             5            1318.61174\n",
       "6 1             6           -2825.31826"
      ]
     },
     "metadata": {},
     "output_type": "display_data"
    }
   ],
   "source": [
    "birthsDayWeek <- births2000_2014 %>% group_by(date_of_month, day_of_week) %>% \n",
    "                                     summarize(dif_prom = mean(births_rel_mean)) \n",
    "\n",
    "dim(birthsDayWeek)\n",
    "head(birthsDayWeek)"
   ]
  },
  {
   "cell_type": "code",
   "execution_count": 72,
   "metadata": {},
   "outputs": [
    {
     "data": {},
     "metadata": {},
     "output_type": "display_data"
    },
    {
     "data": {
      "image/png": "[encoded data removed]",
      "text/plain": [
       "plot without title"
      ]
     },
     "metadata": {},
     "output_type": "display_data"
    }
   ],
   "source": [
    "ggplot(birthsDayWeek, aes(x=day_of_week, y=dif_prom)) + geom_bar(stat='identity')"
   ]
  },
  {
   "cell_type": "code",
   "execution_count": 147,
   "metadata": {},
   "outputs": [
    {
     "data": {
      "text/html": [
       "<table>\n",
       "<thead><tr><th scope=col>year</th><th scope=col>month</th><th scope=col>date_of_month</th><th scope=col>day_of_week</th><th scope=col>births</th></tr></thead>\n",
       "<tbody>\n",
       "\t<tr><td>2000 </td><td>1    </td><td>13   </td><td>4    </td><td>11815</td></tr>\n",
       "\t<tr><td>2000 </td><td>2    </td><td>13   </td><td>7    </td><td> 7933</td></tr>\n",
       "\t<tr><td>2000 </td><td>3    </td><td>13   </td><td>1    </td><td>11157</td></tr>\n",
       "\t<tr><td>2000 </td><td>4    </td><td>13   </td><td>4    </td><td>11907</td></tr>\n",
       "\t<tr><td>2000 </td><td>5    </td><td>13   </td><td>6    </td><td> 8747</td></tr>\n",
       "\t<tr><td>2000 </td><td>6    </td><td>13   </td><td>2    </td><td>12683</td></tr>\n",
       "</tbody>\n",
       "</table>\n"
      ],
      "text/latex": [
       "\\begin{tabular}{r|lllll}\n",
       " year & month & date\\_of\\_month & day\\_of\\_week & births\\\\\n",
       "\\hline\n",
       "\t 2000  & 1     & 13    & 4     & 11815\\\\\n",
       "\t 2000  & 2     & 13    & 7     &  7933\\\\\n",
       "\t 2000  & 3     & 13    & 1     & 11157\\\\\n",
       "\t 2000  & 4     & 13    & 4     & 11907\\\\\n",
       "\t 2000  & 5     & 13    & 6     &  8747\\\\\n",
       "\t 2000  & 6     & 13    & 2     & 12683\\\\\n",
       "\\end{tabular}\n"
      ],
      "text/markdown": [
       "\n",
       "year | month | date_of_month | day_of_week | births | \n",
       "|---|---|---|---|---|---|\n",
       "| 2000  | 1     | 13    | 4     | 11815 | \n",
       "| 2000  | 2     | 13    | 7     |  7933 | \n",
       "| 2000  | 3     | 13    | 1     | 11157 | \n",
       "| 2000  | 4     | 13    | 4     | 11907 | \n",
       "| 2000  | 5     | 13    | 6     |  8747 | \n",
       "| 2000  | 6     | 13    | 2     | 12683 | \n",
       "\n",
       "\n"
      ],
      "text/plain": [
       "  year month date_of_month day_of_week births\n",
       "1 2000 1     13            4           11815 \n",
       "2 2000 2     13            7            7933 \n",
       "3 2000 3     13            1           11157 \n",
       "4 2000 4     13            4           11907 \n",
       "5 2000 5     13            6            8747 \n",
       "6 2000 6     13            2           12683 "
      ]
     },
     "metadata": {},
     "output_type": "display_data"
    }
   ],
   "source": [
    "teces <- births2000_2014 %>% filter(date_of_month == 13) \n",
    "\n",
    "head(teces)"
   ]
  },
  {
   "cell_type": "code",
   "execution_count": 160,
   "metadata": {},
   "outputs": [
    {
     "data": {},
     "metadata": {},
     "output_type": "display_data"
    },
    {
     "data": {
      "image/png": "[encoded data removed]",
      "text/plain": [
       "plot without title"
      ]
     },
     "metadata": {},
     "output_type": "display_data"
    }
   ],
   "source": [
    "ggplot(births2000_2014 %>% filter(year==2000), aes(date, births)) + geom_point(aes(color=day_of_week))"
   ]
  },
  {
   "cell_type": "code",
   "execution_count": null,
   "metadata": {},
   "outputs": [],
   "source": []
  },
  {
   "cell_type": "code",
   "execution_count": null,
   "metadata": {},
   "outputs": [],
   "source": []
  },
  {
   "cell_type": "code",
   "execution_count": null,
   "metadata": {
    "collapsed": true
   },
   "outputs": [],
   "source": []
  },
  {
   "cell_type": "code",
   "execution_count": null,
   "metadata": {
    "collapsed": true
   },
   "outputs": [],
   "source": []
  },
  {
   "cell_type": "markdown",
   "metadata": {},
   "source": [
    "# Otras tablas"
   ]
  },
  {
   "cell_type": "code",
   "execution_count": null,
   "metadata": {
    "collapsed": true
   },
   "outputs": [],
   "source": [
    "\n",
    "#MusicStore <- read_csv(\"C:/Users/Personal/Data-Science-Students/Tables/Tables_CS109/MusicStore.csv\")\n",
    "#BestSchools2012 <- read_csv(\"C:/Users/Personal/Data-Science-Students/Tables/Tables_CS109/BestSchools2012.csv\")\n",
    "\n",
    "#Ft_Lauderdale_Restaurant_Inspections <- read_excel(\"C:/Users/Personal/Data-Science-Students/Tables/Tables_CS109/Ft-Lauderdale-Restaurant-Inspections.xlsx\")\n",
    "#AirlineDelayCauses <- read_excel(\"C:/Users/Personal/Data-Science-Students/Tables/Tables_CS109/AirlineDelayCauses.xlsx\")\n"
   ]
  }
 ],
 "metadata": {
  "kernelspec": {
   "display_name": "R 3.3",
   "language": "R",
   "name": "ir33"
  },
  "language_info": {
   "codemirror_mode": "r",
   "file_extension": ".r",
   "mimetype": "text/x-r-source",
   "name": "R",
   "pygments_lexer": "r",
   "version": "3.3.3"
  }
 },
 "nbformat": 4,
 "nbformat_minor": 2
}
