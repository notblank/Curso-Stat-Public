{
 "cells": [
  {
   "cell_type": "markdown",
   "metadata": {},
   "source": [
    "# Para qué sirve el muestreo? \n",
    "\n",
    "Resolver problemas en proba y stats.\n",
    "    \n",
    "    Proba: si sabes como funciona un proceso aleatorio, qué clase de resultados deberías esperar?\n",
    "    \n",
    "    Stats: tienes algunos resultados, qué tipo de proceso generó esos resultados? qué características tiene?\n",
    "    \n",
    "\n",
    "Muestreo: realciona estad dos nociones. Si sabemos las probas podemos generar datos. Ademas si tenemos datos y sabemos como fueron generados los datos podemos decir cosas sobre el proceso generador. \n",
    "    \n",
    "    \n",
    "Vamos a usar computadoras, mucho. Simplifica mucho la teoría!\n",
    "\n",
    "\n",
    "Sistemático: una de las 10 primeras al azar. Luego tenemos las demás.\n",
    "\n",
    "Uniforme: escogemos cada película con la misma proba. \n",
    "\n",
    "    con reemplazo: tickets con los nombres en una urna. Escoges uno, escribes el nombre y vuelves a poner el papel dentro de la urna.\n",
    "    Sin Reemplazo: Escoges un ticket y lo descartas. \n"
   ]
  },
  {
   "cell_type": "code",
   "execution_count": 3,
   "metadata": {},
   "outputs": [
    {
     "name": "stderr",
     "output_type": "stream",
     "text": [
      "\n",
      "Attaching package: 'dplyr'\n",
      "\n",
      "The following objects are masked from 'package:stats':\n",
      "\n",
      "    filter, lag\n",
      "\n",
      "The following objects are masked from 'package:base':\n",
      "\n",
      "    intersect, setdiff, setequal, union\n",
      "\n"
     ]
    }
   ],
   "source": [
    "library(ggplot2)\n",
    "library(ggplot2movies)\n",
    "library(dplyr)"
   ]
  },
  {
   "cell_type": "code",
   "execution_count": 2,
   "metadata": {},
   "outputs": [
    {
     "data": {
      "text/html": [
       "<ol class=list-inline>\n",
       "\t<li>1</li>\n",
       "\t<li>45</li>\n",
       "</ol>\n"
      ],
      "text/latex": [
       "\\begin{enumerate*}\n",
       "\\item 1\n",
       "\\item 45\n",
       "\\end{enumerate*}\n"
      ],
      "text/markdown": [
       "1. 1\n",
       "2. 45\n",
       "\n",
       "\n"
      ],
      "text/plain": [
       "[1]  1 45"
      ]
     },
     "metadata": {},
     "output_type": "display_data"
    }
   ],
   "source": [
    "sample(c(1,2,45,889,56,97,4), size = 2)"
   ]
  },
  {
   "cell_type": "code",
   "execution_count": 3,
   "metadata": {},
   "outputs": [
    {
     "data": {
      "text/html": [
       "<ol class=list-inline>\n",
       "\t<li>16</li>\n",
       "\t<li>42</li>\n",
       "\t<li>9</li>\n",
       "\t<li>35</li>\n",
       "\t<li>31</li>\n",
       "\t<li>29</li>\n",
       "\t<li>22</li>\n",
       "\t<li>44</li>\n",
       "\t<li>41</li>\n",
       "\t<li>8</li>\n",
       "\t<li>20</li>\n",
       "\t<li>39</li>\n",
       "\t<li>15</li>\n",
       "\t<li>45</li>\n",
       "\t<li>13</li>\n",
       "\t<li>46</li>\n",
       "\t<li>22</li>\n",
       "\t<li>18</li>\n",
       "\t<li>14</li>\n",
       "\t<li>33</li>\n",
       "</ol>\n"
      ],
      "text/latex": [
       "\\begin{enumerate*}\n",
       "\\item 16\n",
       "\\item 42\n",
       "\\item 9\n",
       "\\item 35\n",
       "\\item 31\n",
       "\\item 29\n",
       "\\item 22\n",
       "\\item 44\n",
       "\\item 41\n",
       "\\item 8\n",
       "\\item 20\n",
       "\\item 39\n",
       "\\item 15\n",
       "\\item 45\n",
       "\\item 13\n",
       "\\item 46\n",
       "\\item 22\n",
       "\\item 18\n",
       "\\item 14\n",
       "\\item 33\n",
       "\\end{enumerate*}\n"
      ],
      "text/markdown": [
       "1. 16\n",
       "2. 42\n",
       "3. 9\n",
       "4. 35\n",
       "5. 31\n",
       "6. 29\n",
       "7. 22\n",
       "8. 44\n",
       "9. 41\n",
       "10. 8\n",
       "11. 20\n",
       "12. 39\n",
       "13. 15\n",
       "14. 45\n",
       "15. 13\n",
       "16. 46\n",
       "17. 22\n",
       "18. 18\n",
       "19. 14\n",
       "20. 33\n",
       "\n",
       "\n"
      ],
      "text/plain": [
       " [1] 16 42  9 35 31 29 22 44 41  8 20 39 15 45 13 46 22 18 14 33"
      ]
     },
     "metadata": {},
     "output_type": "display_data"
    },
    {
     "data": {
      "text/html": [
       "<ol class=list-inline>\n",
       "\t<li>8</li>\n",
       "\t<li>9</li>\n",
       "\t<li>13</li>\n",
       "\t<li>14</li>\n",
       "\t<li>15</li>\n",
       "\t<li>16</li>\n",
       "\t<li>18</li>\n",
       "\t<li>20</li>\n",
       "\t<li>22</li>\n",
       "\t<li>22</li>\n",
       "\t<li>29</li>\n",
       "\t<li>31</li>\n",
       "\t<li>33</li>\n",
       "\t<li>35</li>\n",
       "\t<li>39</li>\n",
       "\t<li>41</li>\n",
       "\t<li>42</li>\n",
       "\t<li>44</li>\n",
       "\t<li>45</li>\n",
       "\t<li>46</li>\n",
       "</ol>\n"
      ],
      "text/latex": [
       "\\begin{enumerate*}\n",
       "\\item 8\n",
       "\\item 9\n",
       "\\item 13\n",
       "\\item 14\n",
       "\\item 15\n",
       "\\item 16\n",
       "\\item 18\n",
       "\\item 20\n",
       "\\item 22\n",
       "\\item 22\n",
       "\\item 29\n",
       "\\item 31\n",
       "\\item 33\n",
       "\\item 35\n",
       "\\item 39\n",
       "\\item 41\n",
       "\\item 42\n",
       "\\item 44\n",
       "\\item 45\n",
       "\\item 46\n",
       "\\end{enumerate*}\n"
      ],
      "text/markdown": [
       "1. 8\n",
       "2. 9\n",
       "3. 13\n",
       "4. 14\n",
       "5. 15\n",
       "6. 16\n",
       "7. 18\n",
       "8. 20\n",
       "9. 22\n",
       "10. 22\n",
       "11. 29\n",
       "12. 31\n",
       "13. 33\n",
       "14. 35\n",
       "15. 39\n",
       "16. 41\n",
       "17. 42\n",
       "18. 44\n",
       "19. 45\n",
       "20. 46\n",
       "\n",
       "\n"
      ],
      "text/plain": [
       " [1]  8  9 13 14 15 16 18 20 22 22 29 31 33 35 39 41 42 44 45 46"
      ]
     },
     "metadata": {},
     "output_type": "display_data"
    },
    {
     "data": {
      "text/html": [
       "<table>\n",
       "<thead><tr><th scope=col>title</th><th scope=col>year</th><th scope=col>length</th><th scope=col>budget</th><th scope=col>rating</th><th scope=col>votes</th><th scope=col>r1</th><th scope=col>r2</th><th scope=col>r3</th><th scope=col>r4</th><th scope=col>...</th><th scope=col>r9</th><th scope=col>r10</th><th scope=col>mpaa</th><th scope=col>Action</th><th scope=col>Animation</th><th scope=col>Comedy</th><th scope=col>Drama</th><th scope=col>Documentary</th><th scope=col>Romance</th><th scope=col>Short</th></tr></thead>\n",
       "<tbody>\n",
       "\t<tr><td>'?' Motorist, The                                                 </td><td>1906                                                              </td><td> 10                                                               </td><td>    NA                                                            </td><td>7.0                                                               </td><td>  44                                                              </td><td> 4.5                                                              </td><td> 0.0                                                              </td><td> 0.0                                                              </td><td> 0.0                                                              </td><td>...                                                               </td><td> 4.5                                                              </td><td>14.5                                                              </td><td>                                                                  </td><td>0                                                                 </td><td>0                                                                 </td><td>1                                                                 </td><td>0                                                                 </td><td>0                                                                 </td><td>0                                                                 </td><td>1                                                                 </td></tr>\n",
       "\t<tr><td>'Neath the Arizona Skies                                          </td><td>1934                                                              </td><td> 52                                                               </td><td>    NA                                                            </td><td>4.6                                                               </td><td> 105                                                              </td><td> 4.5                                                              </td><td> 4.5                                                              </td><td> 4.5                                                              </td><td>14.5                                                              </td><td>...                                                               </td><td> 4.5                                                              </td><td> 4.5                                                              </td><td>                                                                  </td><td>0                                                                 </td><td>0                                                                 </td><td>0                                                                 </td><td>0                                                                 </td><td>0                                                                 </td><td>0                                                                 </td><td>0                                                                 </td></tr>\n",
       "\t<tr><td>'G' Men                                                           </td><td>1935                                                              </td><td> 85                                                               </td><td>450000                                                            </td><td>7.2                                                               </td><td> 281                                                              </td><td> 0.0                                                              </td><td> 4.5                                                              </td><td> 4.5                                                              </td><td> 4.5                                                              </td><td>...                                                               </td><td> 4.5                                                              </td><td> 4.5                                                              </td><td>                                                                  </td><td>0                                                                 </td><td>0                                                                 </td><td>0                                                                 </td><td>1                                                                 </td><td>0                                                                 </td><td>0                                                                 </td><td>0                                                                 </td></tr>\n",
       "\t<tr><td>'G' Men                                                           </td><td>1935                                                              </td><td> 85                                                               </td><td>450000                                                            </td><td>7.2                                                               </td><td> 281                                                              </td><td> 0.0                                                              </td><td> 4.5                                                              </td><td> 4.5                                                              </td><td> 4.5                                                              </td><td>...                                                               </td><td> 4.5                                                              </td><td> 4.5                                                              </td><td>                                                                  </td><td>0                                                                 </td><td>0                                                                 </td><td>0                                                                 </td><td>1                                                                 </td><td>0                                                                 </td><td>0                                                                 </td><td>0                                                                 </td></tr>\n",
       "\t<tr><td>'Pimpernel' Smith                                                 </td><td>1941                                                              </td><td>120                                                               </td><td>    NA                                                            </td><td>7.2                                                               </td><td> 139                                                              </td><td> 4.5                                                              </td><td> 4.5                                                              </td><td> 4.5                                                              </td><td> 4.5                                                              </td><td>...                                                               </td><td>14.5                                                              </td><td>24.5                                                              </td><td>                                                                  </td><td>0                                                                 </td><td>0                                                                 </td><td>0                                                                 </td><td>1                                                                 </td><td>0                                                                 </td><td>0                                                                 </td><td>0                                                                 </td></tr>\n",
       "\t<tr><td>'I Know Where I'm Going!'                                         </td><td>1945                                                              </td><td> 92                                                               </td><td>    NA                                                            </td><td>7.7                                                               </td><td> 825                                                              </td><td> 4.5                                                              </td><td> 4.5                                                              </td><td> 4.5                                                              </td><td> 4.5                                                              </td><td>...                                                               </td><td>14.5                                                              </td><td>34.5                                                              </td><td>                                                                  </td><td>0                                                                 </td><td>0                                                                 </td><td>0                                                                 </td><td>1                                                                 </td><td>0                                                                 </td><td>1                                                                 </td><td>0                                                                 </td></tr>\n",
       "\t<tr><td>'Sugar Chile' Robinson, Billie Holiday, Count Basie and His Sextet</td><td>1951                                                              </td><td> 15                                                               </td><td>    NA                                                            </td><td>5.3                                                               </td><td>   5                                                              </td><td> 0.0                                                              </td><td> 0.0                                                              </td><td> 0.0                                                              </td><td> 0.0                                                              </td><td>...                                                               </td><td> 0.0                                                              </td><td>24.5                                                              </td><td>                                                                  </td><td>0                                                                 </td><td>0                                                                 </td><td>0                                                                 </td><td>0                                                                 </td><td>0                                                                 </td><td>0                                                                 </td><td>1                                                                 </td></tr>\n",
       "\t<tr><td>'A'                                                               </td><td>1965                                                              </td><td> 10                                                               </td><td>    NA                                                            </td><td>6.7                                                               </td><td>  11                                                              </td><td>14.5                                                              </td><td> 0.0                                                              </td><td> 0.0                                                              </td><td> 0.0                                                              </td><td>...                                                               </td><td>14.5                                                              </td><td>24.5                                                              </td><td>                                                                  </td><td>0                                                                 </td><td>0                                                                 </td><td>0                                                                 </td><td>0                                                                 </td><td>0                                                                 </td><td>0                                                                 </td><td>1                                                                 </td></tr>\n",
       "\t<tr><td>'Manos' the Hands of Fate                                         </td><td>1966                                                              </td><td> 74                                                               </td><td> 19000                                                            </td><td>1.6                                                               </td><td>7996                                                              </td><td>74.5                                                              </td><td> 4.5                                                              </td><td> 4.5                                                              </td><td> 4.5                                                              </td><td>...                                                               </td><td> 4.5                                                              </td><td>14.5                                                              </td><td>                                                                  </td><td>0                                                                 </td><td>0                                                                 </td><td>0                                                                 </td><td>0                                                                 </td><td>0                                                                 </td><td>0                                                                 </td><td>0                                                                 </td></tr>\n",
       "\t<tr><td>'Bullitt': Steve McQueen's Commitment to Reality                  </td><td>1968                                                              </td><td> 10                                                               </td><td>    NA                                                            </td><td>6.6                                                               </td><td>  37                                                              </td><td> 0.0                                                              </td><td> 0.0                                                              </td><td> 4.5                                                              </td><td> 4.5                                                              </td><td>...                                                               </td><td> 4.5                                                              </td><td> 4.5                                                              </td><td>                                                                  </td><td>0                                                                 </td><td>0                                                                 </td><td>0                                                                 </td><td>0                                                                 </td><td>1                                                                 </td><td>0                                                                 </td><td>1                                                                 </td></tr>\n",
       "\t<tr><td>'Sheba, Baby'                                                     </td><td>1975                                                              </td><td> 90                                                               </td><td>    NA                                                            </td><td>5.5                                                               </td><td>  91                                                              </td><td> 4.5                                                              </td><td> 4.5                                                              </td><td> 4.5                                                              </td><td>14.5                                                              </td><td>...                                                               </td><td> 4.5                                                              </td><td> 4.5                                                              </td><td>                                                                  </td><td>1                                                                 </td><td>0                                                                 </td><td>0                                                                 </td><td>1                                                                 </td><td>0                                                                 </td><td>0                                                                 </td><td>0                                                                 </td></tr>\n",
       "\t<tr><td>'E'                                                               </td><td>1981                                                              </td><td>  7                                                               </td><td>    NA                                                            </td><td>8.6                                                               </td><td>  15                                                              </td><td> 0.0                                                              </td><td> 0.0                                                              </td><td> 0.0                                                              </td><td> 0.0                                                              </td><td>...                                                               </td><td>24.5                                                              </td><td>45.5                                                              </td><td>                                                                  </td><td>0                                                                 </td><td>1                                                                 </td><td>1                                                                 </td><td>0                                                                 </td><td>0                                                                 </td><td>0                                                                 </td><td>1                                                                 </td></tr>\n",
       "\t<tr><td>'A' gai waak                                                      </td><td>1983                                                              </td><td>106                                                               </td><td>    NA                                                            </td><td>7.1                                                               </td><td>1259                                                              </td><td> 4.5                                                              </td><td> 4.5                                                              </td><td> 4.5                                                              </td><td> 4.5                                                              </td><td>...                                                               </td><td>14.5                                                              </td><td>24.5                                                              </td><td>PG-13                                                             </td><td>1                                                                 </td><td>0                                                                 </td><td>1                                                                 </td><td>0                                                                 </td><td>0                                                                 </td><td>0                                                                 </td><td>0                                                                 </td></tr>\n",
       "\t<tr><td>'Je vous salue, Marie'                                            </td><td>1985                                                              </td><td>105                                                               </td><td>    NA                                                            </td><td>6.4                                                               </td><td> 322                                                              </td><td> 4.5                                                              </td><td> 4.5                                                              </td><td> 4.5                                                              </td><td> 4.5                                                              </td><td>...                                                               </td><td>14.5                                                              </td><td>14.5                                                              </td><td>                                                                  </td><td>0                                                                 </td><td>0                                                                 </td><td>0                                                                 </td><td>1                                                                 </td><td>0                                                                 </td><td>0                                                                 </td><td>0                                                                 </td></tr>\n",
       "\t<tr><td>'Round Midnight                                                   </td><td>1986                                                              </td><td>133                                                               </td><td>    NA                                                            </td><td>7.3                                                               </td><td> 902                                                              </td><td> 4.5                                                              </td><td> 4.5                                                              </td><td> 4.5                                                              </td><td> 4.5                                                              </td><td>...                                                               </td><td>14.5                                                              </td><td>24.5                                                              </td><td>                                                                  </td><td>0                                                                 </td><td>0                                                                 </td><td>0                                                                 </td><td>1                                                                 </td><td>0                                                                 </td><td>0                                                                 </td><td>0                                                                 </td></tr>\n",
       "\t<tr><td>'A' gai waak juk jaap                                             </td><td>1987                                                              </td><td>101                                                               </td><td>    NA                                                            </td><td>7.2                                                               </td><td> 614                                                              </td><td> 4.5                                                              </td><td> 4.5                                                              </td><td> 4.5                                                              </td><td> 4.5                                                              </td><td>...                                                               </td><td>14.5                                                              </td><td>14.5                                                              </td><td>PG-13                                                             </td><td>1                                                                 </td><td>0                                                                 </td><td>1                                                                 </td><td>0                                                                 </td><td>0                                                                 </td><td>0                                                                 </td><td>0                                                                 </td></tr>\n",
       "\t<tr><td>'38                                                               </td><td>1987                                                              </td><td> 97                                                               </td><td>    NA                                                            </td><td>6.6                                                               </td><td>  18                                                              </td><td> 4.5                                                              </td><td> 4.5                                                              </td><td> 4.5                                                              </td><td> 0.0                                                              </td><td>...                                                               </td><td> 4.5                                                              </td><td>24.5                                                              </td><td>                                                                  </td><td>0                                                                 </td><td>0                                                                 </td><td>0                                                                 </td><td>1                                                                 </td><td>0                                                                 </td><td>0                                                                 </td><td>0                                                                 </td></tr>\n",
       "\t<tr><td>'O re                                                             </td><td>1989                                                              </td><td> 90                                                               </td><td>    NA                                                            </td><td>3.9                                                               </td><td>   8                                                              </td><td> 0.0                                                              </td><td>14.5                                                              </td><td>14.5                                                              </td><td> 0.0                                                              </td><td>...                                                               </td><td>14.5                                                              </td><td>14.5                                                              </td><td>                                                                  </td><td>0                                                                 </td><td>0                                                                 </td><td>1                                                                 </td><td>0                                                                 </td><td>0                                                                 </td><td>0                                                                 </td><td>0                                                                 </td></tr>\n",
       "\t<tr><td>'M' Word                                                          </td><td>1996                                                              </td><td> 99                                                               </td><td>    NA                                                            </td><td>4.6                                                               </td><td>   6                                                              </td><td>14.5                                                              </td><td> 0.0                                                              </td><td>14.5                                                              </td><td>14.5                                                              </td><td>...                                                               </td><td> 0.0                                                              </td><td>14.5                                                              </td><td>                                                                  </td><td>0                                                                 </td><td>0                                                                 </td><td>1                                                                 </td><td>0                                                                 </td><td>0                                                                 </td><td>1                                                                 </td><td>0                                                                 </td></tr>\n",
       "\t<tr><td>'15'                                                              </td><td>2002                                                              </td><td> 25                                                               </td><td>    NA                                                            </td><td>6.7                                                               </td><td>  24                                                              </td><td> 4.5                                                              </td><td> 4.5                                                              </td><td> 4.5                                                              </td><td> 4.5                                                              </td><td>...                                                               </td><td> 4.5                                                              </td><td>14.5                                                              </td><td>                                                                  </td><td>0                                                                 </td><td>0                                                                 </td><td>0                                                                 </td><td>0                                                                 </td><td>1                                                                 </td><td>0                                                                 </td><td>1                                                                 </td></tr>\n",
       "</tbody>\n",
       "</table>\n"
      ],
      "text/latex": [
       "\\begin{tabular}{r|llllllllllllllllllllllll}\n",
       " title & year & length & budget & rating & votes & r1 & r2 & r3 & r4 & ... & r9 & r10 & mpaa & Action & Animation & Comedy & Drama & Documentary & Romance & Short\\\\\n",
       "\\hline\n",
       "\t '?' Motorist, The                                                  & 1906                                                               &  10                                                                &     NA                                                             & 7.0                                                                &   44                                                               &  4.5                                                               &  0.0                                                               &  0.0                                                               &  0.0                                                               & ...                                                                &  4.5                                                               & 14.5                                                               &                                                                    & 0                                                                  & 0                                                                  & 1                                                                  & 0                                                                  & 0                                                                  & 0                                                                  & 1                                                                 \\\\\n",
       "\t 'Neath the Arizona Skies                                           & 1934                                                               &  52                                                                &     NA                                                             & 4.6                                                                &  105                                                               &  4.5                                                               &  4.5                                                               &  4.5                                                               & 14.5                                                               & ...                                                                &  4.5                                                               &  4.5                                                               &                                                                    & 0                                                                  & 0                                                                  & 0                                                                  & 0                                                                  & 0                                                                  & 0                                                                  & 0                                                                 \\\\\n",
       "\t 'G' Men                                                            & 1935                                                               &  85                                                                & 450000                                                             & 7.2                                                                &  281                                                               &  0.0                                                               &  4.5                                                               &  4.5                                                               &  4.5                                                               & ...                                                                &  4.5                                                               &  4.5                                                               &                                                                    & 0                                                                  & 0                                                                  & 0                                                                  & 1                                                                  & 0                                                                  & 0                                                                  & 0                                                                 \\\\\n",
       "\t 'G' Men                                                            & 1935                                                               &  85                                                                & 450000                                                             & 7.2                                                                &  281                                                               &  0.0                                                               &  4.5                                                               &  4.5                                                               &  4.5                                                               & ...                                                                &  4.5                                                               &  4.5                                                               &                                                                    & 0                                                                  & 0                                                                  & 0                                                                  & 1                                                                  & 0                                                                  & 0                                                                  & 0                                                                 \\\\\n",
       "\t 'Pimpernel' Smith                                                  & 1941                                                               & 120                                                                &     NA                                                             & 7.2                                                                &  139                                                               &  4.5                                                               &  4.5                                                               &  4.5                                                               &  4.5                                                               & ...                                                                & 14.5                                                               & 24.5                                                               &                                                                    & 0                                                                  & 0                                                                  & 0                                                                  & 1                                                                  & 0                                                                  & 0                                                                  & 0                                                                 \\\\\n",
       "\t 'I Know Where I'm Going!'                                          & 1945                                                               &  92                                                                &     NA                                                             & 7.7                                                                &  825                                                               &  4.5                                                               &  4.5                                                               &  4.5                                                               &  4.5                                                               & ...                                                                & 14.5                                                               & 34.5                                                               &                                                                    & 0                                                                  & 0                                                                  & 0                                                                  & 1                                                                  & 0                                                                  & 1                                                                  & 0                                                                 \\\\\n",
       "\t 'Sugar Chile' Robinson, Billie Holiday, Count Basie and His Sextet & 1951                                                               &  15                                                                &     NA                                                             & 5.3                                                                &    5                                                               &  0.0                                                               &  0.0                                                               &  0.0                                                               &  0.0                                                               & ...                                                                &  0.0                                                               & 24.5                                                               &                                                                    & 0                                                                  & 0                                                                  & 0                                                                  & 0                                                                  & 0                                                                  & 0                                                                  & 1                                                                 \\\\\n",
       "\t 'A'                                                                & 1965                                                               &  10                                                                &     NA                                                             & 6.7                                                                &   11                                                               & 14.5                                                               &  0.0                                                               &  0.0                                                               &  0.0                                                               & ...                                                                & 14.5                                                               & 24.5                                                               &                                                                    & 0                                                                  & 0                                                                  & 0                                                                  & 0                                                                  & 0                                                                  & 0                                                                  & 1                                                                 \\\\\n",
       "\t 'Manos' the Hands of Fate                                          & 1966                                                               &  74                                                                &  19000                                                             & 1.6                                                                & 7996                                                               & 74.5                                                               &  4.5                                                               &  4.5                                                               &  4.5                                                               & ...                                                                &  4.5                                                               & 14.5                                                               &                                                                    & 0                                                                  & 0                                                                  & 0                                                                  & 0                                                                  & 0                                                                  & 0                                                                  & 0                                                                 \\\\\n",
       "\t 'Bullitt': Steve McQueen's Commitment to Reality                   & 1968                                                               &  10                                                                &     NA                                                             & 6.6                                                                &   37                                                               &  0.0                                                               &  0.0                                                               &  4.5                                                               &  4.5                                                               & ...                                                                &  4.5                                                               &  4.5                                                               &                                                                    & 0                                                                  & 0                                                                  & 0                                                                  & 0                                                                  & 1                                                                  & 0                                                                  & 1                                                                 \\\\\n",
       "\t 'Sheba, Baby'                                                      & 1975                                                               &  90                                                                &     NA                                                             & 5.5                                                                &   91                                                               &  4.5                                                               &  4.5                                                               &  4.5                                                               & 14.5                                                               & ...                                                                &  4.5                                                               &  4.5                                                               &                                                                    & 1                                                                  & 0                                                                  & 0                                                                  & 1                                                                  & 0                                                                  & 0                                                                  & 0                                                                 \\\\\n",
       "\t 'E'                                                                & 1981                                                               &   7                                                                &     NA                                                             & 8.6                                                                &   15                                                               &  0.0                                                               &  0.0                                                               &  0.0                                                               &  0.0                                                               & ...                                                                & 24.5                                                               & 45.5                                                               &                                                                    & 0                                                                  & 1                                                                  & 1                                                                  & 0                                                                  & 0                                                                  & 0                                                                  & 1                                                                 \\\\\n",
       "\t 'A' gai waak                                                       & 1983                                                               & 106                                                                &     NA                                                             & 7.1                                                                & 1259                                                               &  4.5                                                               &  4.5                                                               &  4.5                                                               &  4.5                                                               & ...                                                                & 14.5                                                               & 24.5                                                               & PG-13                                                              & 1                                                                  & 0                                                                  & 1                                                                  & 0                                                                  & 0                                                                  & 0                                                                  & 0                                                                 \\\\\n",
       "\t 'Je vous salue, Marie'                                             & 1985                                                               & 105                                                                &     NA                                                             & 6.4                                                                &  322                                                               &  4.5                                                               &  4.5                                                               &  4.5                                                               &  4.5                                                               & ...                                                                & 14.5                                                               & 14.5                                                               &                                                                    & 0                                                                  & 0                                                                  & 0                                                                  & 1                                                                  & 0                                                                  & 0                                                                  & 0                                                                 \\\\\n",
       "\t 'Round Midnight                                                    & 1986                                                               & 133                                                                &     NA                                                             & 7.3                                                                &  902                                                               &  4.5                                                               &  4.5                                                               &  4.5                                                               &  4.5                                                               & ...                                                                & 14.5                                                               & 24.5                                                               &                                                                    & 0                                                                  & 0                                                                  & 0                                                                  & 1                                                                  & 0                                                                  & 0                                                                  & 0                                                                 \\\\\n",
       "\t 'A' gai waak juk jaap                                              & 1987                                                               & 101                                                                &     NA                                                             & 7.2                                                                &  614                                                               &  4.5                                                               &  4.5                                                               &  4.5                                                               &  4.5                                                               & ...                                                                & 14.5                                                               & 14.5                                                               & PG-13                                                              & 1                                                                  & 0                                                                  & 1                                                                  & 0                                                                  & 0                                                                  & 0                                                                  & 0                                                                 \\\\\n",
       "\t '38                                                                & 1987                                                               &  97                                                                &     NA                                                             & 6.6                                                                &   18                                                               &  4.5                                                               &  4.5                                                               &  4.5                                                               &  0.0                                                               & ...                                                                &  4.5                                                               & 24.5                                                               &                                                                    & 0                                                                  & 0                                                                  & 0                                                                  & 1                                                                  & 0                                                                  & 0                                                                  & 0                                                                 \\\\\n",
       "\t 'O re                                                              & 1989                                                               &  90                                                                &     NA                                                             & 3.9                                                                &    8                                                               &  0.0                                                               & 14.5                                                               & 14.5                                                               &  0.0                                                               & ...                                                                & 14.5                                                               & 14.5                                                               &                                                                    & 0                                                                  & 0                                                                  & 1                                                                  & 0                                                                  & 0                                                                  & 0                                                                  & 0                                                                 \\\\\n",
       "\t 'M' Word                                                           & 1996                                                               &  99                                                                &     NA                                                             & 4.6                                                                &    6                                                               & 14.5                                                               &  0.0                                                               & 14.5                                                               & 14.5                                                               & ...                                                                &  0.0                                                               & 14.5                                                               &                                                                    & 0                                                                  & 0                                                                  & 1                                                                  & 0                                                                  & 0                                                                  & 1                                                                  & 0                                                                 \\\\\n",
       "\t '15'                                                               & 2002                                                               &  25                                                                &     NA                                                             & 6.7                                                                &   24                                                               &  4.5                                                               &  4.5                                                               &  4.5                                                               &  4.5                                                               & ...                                                                &  4.5                                                               & 14.5                                                               &                                                                    & 0                                                                  & 0                                                                  & 0                                                                  & 0                                                                  & 1                                                                  & 0                                                                  & 1                                                                 \\\\\n",
       "\\end{tabular}\n"
      ],
      "text/markdown": [
       "\n",
       "title | year | length | budget | rating | votes | r1 | r2 | r3 | r4 | ... | r9 | r10 | mpaa | Action | Animation | Comedy | Drama | Documentary | Romance | Short | \n",
       "|---|---|---|---|---|---|---|---|---|---|---|---|---|---|---|---|---|---|---|---|\n",
       "| '?' Motorist, The                                                  | 1906                                                               |  10                                                                |     NA                                                             | 7.0                                                                |   44                                                               |  4.5                                                               |  0.0                                                               |  0.0                                                               |  0.0                                                               | ...                                                                |  4.5                                                               | 14.5                                                               |                                                                    | 0                                                                  | 0                                                                  | 1                                                                  | 0                                                                  | 0                                                                  | 0                                                                  | 1                                                                  | \n",
       "| 'Neath the Arizona Skies                                           | 1934                                                               |  52                                                                |     NA                                                             | 4.6                                                                |  105                                                               |  4.5                                                               |  4.5                                                               |  4.5                                                               | 14.5                                                               | ...                                                                |  4.5                                                               |  4.5                                                               |                                                                    | 0                                                                  | 0                                                                  | 0                                                                  | 0                                                                  | 0                                                                  | 0                                                                  | 0                                                                  | \n",
       "| 'G' Men                                                            | 1935                                                               |  85                                                                | 450000                                                             | 7.2                                                                |  281                                                               |  0.0                                                               |  4.5                                                               |  4.5                                                               |  4.5                                                               | ...                                                                |  4.5                                                               |  4.5                                                               |                                                                    | 0                                                                  | 0                                                                  | 0                                                                  | 1                                                                  | 0                                                                  | 0                                                                  | 0                                                                  | \n",
       "| 'G' Men                                                            | 1935                                                               |  85                                                                | 450000                                                             | 7.2                                                                |  281                                                               |  0.0                                                               |  4.5                                                               |  4.5                                                               |  4.5                                                               | ...                                                                |  4.5                                                               |  4.5                                                               |                                                                    | 0                                                                  | 0                                                                  | 0                                                                  | 1                                                                  | 0                                                                  | 0                                                                  | 0                                                                  | \n",
       "| 'Pimpernel' Smith                                                  | 1941                                                               | 120                                                                |     NA                                                             | 7.2                                                                |  139                                                               |  4.5                                                               |  4.5                                                               |  4.5                                                               |  4.5                                                               | ...                                                                | 14.5                                                               | 24.5                                                               |                                                                    | 0                                                                  | 0                                                                  | 0                                                                  | 1                                                                  | 0                                                                  | 0                                                                  | 0                                                                  | \n",
       "| 'I Know Where I'm Going!'                                          | 1945                                                               |  92                                                                |     NA                                                             | 7.7                                                                |  825                                                               |  4.5                                                               |  4.5                                                               |  4.5                                                               |  4.5                                                               | ...                                                                | 14.5                                                               | 34.5                                                               |                                                                    | 0                                                                  | 0                                                                  | 0                                                                  | 1                                                                  | 0                                                                  | 1                                                                  | 0                                                                  | \n",
       "| 'Sugar Chile' Robinson, Billie Holiday, Count Basie and His Sextet | 1951                                                               |  15                                                                |     NA                                                             | 5.3                                                                |    5                                                               |  0.0                                                               |  0.0                                                               |  0.0                                                               |  0.0                                                               | ...                                                                |  0.0                                                               | 24.5                                                               |                                                                    | 0                                                                  | 0                                                                  | 0                                                                  | 0                                                                  | 0                                                                  | 0                                                                  | 1                                                                  | \n",
       "| 'A'                                                                | 1965                                                               |  10                                                                |     NA                                                             | 6.7                                                                |   11                                                               | 14.5                                                               |  0.0                                                               |  0.0                                                               |  0.0                                                               | ...                                                                | 14.5                                                               | 24.5                                                               |                                                                    | 0                                                                  | 0                                                                  | 0                                                                  | 0                                                                  | 0                                                                  | 0                                                                  | 1                                                                  | \n",
       "| 'Manos' the Hands of Fate                                          | 1966                                                               |  74                                                                |  19000                                                             | 1.6                                                                | 7996                                                               | 74.5                                                               |  4.5                                                               |  4.5                                                               |  4.5                                                               | ...                                                                |  4.5                                                               | 14.5                                                               |                                                                    | 0                                                                  | 0                                                                  | 0                                                                  | 0                                                                  | 0                                                                  | 0                                                                  | 0                                                                  | \n",
       "| 'Bullitt': Steve McQueen's Commitment to Reality                   | 1968                                                               |  10                                                                |     NA                                                             | 6.6                                                                |   37                                                               |  0.0                                                               |  0.0                                                               |  4.5                                                               |  4.5                                                               | ...                                                                |  4.5                                                               |  4.5                                                               |                                                                    | 0                                                                  | 0                                                                  | 0                                                                  | 0                                                                  | 1                                                                  | 0                                                                  | 1                                                                  | \n",
       "| 'Sheba, Baby'                                                      | 1975                                                               |  90                                                                |     NA                                                             | 5.5                                                                |   91                                                               |  4.5                                                               |  4.5                                                               |  4.5                                                               | 14.5                                                               | ...                                                                |  4.5                                                               |  4.5                                                               |                                                                    | 1                                                                  | 0                                                                  | 0                                                                  | 1                                                                  | 0                                                                  | 0                                                                  | 0                                                                  | \n",
       "| 'E'                                                                | 1981                                                               |   7                                                                |     NA                                                             | 8.6                                                                |   15                                                               |  0.0                                                               |  0.0                                                               |  0.0                                                               |  0.0                                                               | ...                                                                | 24.5                                                               | 45.5                                                               |                                                                    | 0                                                                  | 1                                                                  | 1                                                                  | 0                                                                  | 0                                                                  | 0                                                                  | 1                                                                  | \n",
       "| 'A' gai waak                                                       | 1983                                                               | 106                                                                |     NA                                                             | 7.1                                                                | 1259                                                               |  4.5                                                               |  4.5                                                               |  4.5                                                               |  4.5                                                               | ...                                                                | 14.5                                                               | 24.5                                                               | PG-13                                                              | 1                                                                  | 0                                                                  | 1                                                                  | 0                                                                  | 0                                                                  | 0                                                                  | 0                                                                  | \n",
       "| 'Je vous salue, Marie'                                             | 1985                                                               | 105                                                                |     NA                                                             | 6.4                                                                |  322                                                               |  4.5                                                               |  4.5                                                               |  4.5                                                               |  4.5                                                               | ...                                                                | 14.5                                                               | 14.5                                                               |                                                                    | 0                                                                  | 0                                                                  | 0                                                                  | 1                                                                  | 0                                                                  | 0                                                                  | 0                                                                  | \n",
       "| 'Round Midnight                                                    | 1986                                                               | 133                                                                |     NA                                                             | 7.3                                                                |  902                                                               |  4.5                                                               |  4.5                                                               |  4.5                                                               |  4.5                                                               | ...                                                                | 14.5                                                               | 24.5                                                               |                                                                    | 0                                                                  | 0                                                                  | 0                                                                  | 1                                                                  | 0                                                                  | 0                                                                  | 0                                                                  | \n",
       "| 'A' gai waak juk jaap                                              | 1987                                                               | 101                                                                |     NA                                                             | 7.2                                                                |  614                                                               |  4.5                                                               |  4.5                                                               |  4.5                                                               |  4.5                                                               | ...                                                                | 14.5                                                               | 14.5                                                               | PG-13                                                              | 1                                                                  | 0                                                                  | 1                                                                  | 0                                                                  | 0                                                                  | 0                                                                  | 0                                                                  | \n",
       "| '38                                                                | 1987                                                               |  97                                                                |     NA                                                             | 6.6                                                                |   18                                                               |  4.5                                                               |  4.5                                                               |  4.5                                                               |  0.0                                                               | ...                                                                |  4.5                                                               | 24.5                                                               |                                                                    | 0                                                                  | 0                                                                  | 0                                                                  | 1                                                                  | 0                                                                  | 0                                                                  | 0                                                                  | \n",
       "| 'O re                                                              | 1989                                                               |  90                                                                |     NA                                                             | 3.9                                                                |    8                                                               |  0.0                                                               | 14.5                                                               | 14.5                                                               |  0.0                                                               | ...                                                                | 14.5                                                               | 14.5                                                               |                                                                    | 0                                                                  | 0                                                                  | 1                                                                  | 0                                                                  | 0                                                                  | 0                                                                  | 0                                                                  | \n",
       "| 'M' Word                                                           | 1996                                                               |  99                                                                |     NA                                                             | 4.6                                                                |    6                                                               | 14.5                                                               |  0.0                                                               | 14.5                                                               | 14.5                                                               | ...                                                                |  0.0                                                               | 14.5                                                               |                                                                    | 0                                                                  | 0                                                                  | 1                                                                  | 0                                                                  | 0                                                                  | 1                                                                  | 0                                                                  | \n",
       "| '15'                                                               | 2002                                                               |  25                                                                |     NA                                                             | 6.7                                                                |   24                                                               |  4.5                                                               |  4.5                                                               |  4.5                                                               |  4.5                                                               | ...                                                                |  4.5                                                               | 14.5                                                               |                                                                    | 0                                                                  | 0                                                                  | 0                                                                  | 0                                                                  | 1                                                                  | 0                                                                  | 1                                                                  | \n",
       "\n",
       "\n"
      ],
      "text/plain": [
       "   title                                                              year\n",
       "1  '?' Motorist, The                                                  1906\n",
       "2  'Neath the Arizona Skies                                           1934\n",
       "3  'G' Men                                                            1935\n",
       "4  'G' Men                                                            1935\n",
       "5  'Pimpernel' Smith                                                  1941\n",
       "6  'I Know Where I'm Going!'                                          1945\n",
       "7  'Sugar Chile' Robinson, Billie Holiday, Count Basie and His Sextet 1951\n",
       "8  'A'                                                                1965\n",
       "9  'Manos' the Hands of Fate                                          1966\n",
       "10 'Bullitt': Steve McQueen's Commitment to Reality                   1968\n",
       "11 'Sheba, Baby'                                                      1975\n",
       "12 'E'                                                                1981\n",
       "13 'A' gai waak                                                       1983\n",
       "14 'Je vous salue, Marie'                                             1985\n",
       "15 'Round Midnight                                                    1986\n",
       "16 'A' gai waak juk jaap                                              1987\n",
       "17 '38                                                                1987\n",
       "18 'O re                                                              1989\n",
       "19 'M' Word                                                           1996\n",
       "20 '15'                                                               2002\n",
       "   length budget rating votes r1   r2   r3   r4   ... r9   r10  mpaa  Action\n",
       "1   10        NA 7.0      44   4.5  0.0  0.0  0.0 ...  4.5 14.5       0     \n",
       "2   52        NA 4.6     105   4.5  4.5  4.5 14.5 ...  4.5  4.5       0     \n",
       "3   85    450000 7.2     281   0.0  4.5  4.5  4.5 ...  4.5  4.5       0     \n",
       "4   85    450000 7.2     281   0.0  4.5  4.5  4.5 ...  4.5  4.5       0     \n",
       "5  120        NA 7.2     139   4.5  4.5  4.5  4.5 ... 14.5 24.5       0     \n",
       "6   92        NA 7.7     825   4.5  4.5  4.5  4.5 ... 14.5 34.5       0     \n",
       "7   15        NA 5.3       5   0.0  0.0  0.0  0.0 ...  0.0 24.5       0     \n",
       "8   10        NA 6.7      11  14.5  0.0  0.0  0.0 ... 14.5 24.5       0     \n",
       "9   74     19000 1.6    7996  74.5  4.5  4.5  4.5 ...  4.5 14.5       0     \n",
       "10  10        NA 6.6      37   0.0  0.0  4.5  4.5 ...  4.5  4.5       0     \n",
       "11  90        NA 5.5      91   4.5  4.5  4.5 14.5 ...  4.5  4.5       1     \n",
       "12   7        NA 8.6      15   0.0  0.0  0.0  0.0 ... 24.5 45.5       0     \n",
       "13 106        NA 7.1    1259   4.5  4.5  4.5  4.5 ... 14.5 24.5 PG-13 1     \n",
       "14 105        NA 6.4     322   4.5  4.5  4.5  4.5 ... 14.5 14.5       0     \n",
       "15 133        NA 7.3     902   4.5  4.5  4.5  4.5 ... 14.5 24.5       0     \n",
       "16 101        NA 7.2     614   4.5  4.5  4.5  4.5 ... 14.5 14.5 PG-13 1     \n",
       "17  97        NA 6.6      18   4.5  4.5  4.5  0.0 ...  4.5 24.5       0     \n",
       "18  90        NA 3.9       8   0.0 14.5 14.5  0.0 ... 14.5 14.5       0     \n",
       "19  99        NA 4.6       6  14.5  0.0 14.5 14.5 ...  0.0 14.5       0     \n",
       "20  25        NA 6.7      24   4.5  4.5  4.5  4.5 ...  4.5 14.5       0     \n",
       "   Animation Comedy Drama Documentary Romance Short\n",
       "1  0         1      0     0           0       1    \n",
       "2  0         0      0     0           0       0    \n",
       "3  0         0      1     0           0       0    \n",
       "4  0         0      1     0           0       0    \n",
       "5  0         0      1     0           0       0    \n",
       "6  0         0      1     0           1       0    \n",
       "7  0         0      0     0           0       1    \n",
       "8  0         0      0     0           0       1    \n",
       "9  0         0      0     0           0       0    \n",
       "10 0         0      0     1           0       1    \n",
       "11 0         0      1     0           0       0    \n",
       "12 1         1      0     0           0       1    \n",
       "13 0         1      0     0           0       0    \n",
       "14 0         0      1     0           0       0    \n",
       "15 0         0      1     0           0       0    \n",
       "16 0         1      0     0           0       0    \n",
       "17 0         0      1     0           0       0    \n",
       "18 0         1      0     0           0       0    \n",
       "19 0         1      0     0           1       0    \n",
       "20 0         0      0     1           0       1    "
      ]
     },
     "metadata": {},
     "output_type": "display_data"
    }
   ],
   "source": [
    "randIndex <- sample(x = 1:50, size = 20, replace = TRUE)\n",
    "\n",
    "randIndex\n",
    "sort(randIndex)\n",
    "\n",
    "movies %>% slice(randIndex) %>% arrange(year)\n",
    "\n",
    "# Lo mismo que el problema del cumpleaños."
   ]
  },
  {
   "cell_type": "markdown",
   "metadata": {},
   "source": [
    "## Proba de que '68 salga en un muestreo de 2 películas con reempazo y sin?\n",
    "\n",
    "P('68 en el primer intento) = 1/200\n",
    "\n",
    "P('68 en el segundo intento) = 199/200 * 1/200\n",
    "\n",
    "P('68 en el primer intento y '68 en el segundo intento) = 0\n",
    "\n",
    "P('68 en el primer intento o '68 en el segundo intento SR) = 1/200 + 1/200 * 1/200\n",
    "\n",
    "P('68 en el primer intento o '68 en el segundo intento CR) = 1/200 + 199/200 * 1/200\n",
    "\n",
    "    1/200\n",
    "\n",
    "    199/200 -> 1/200\n",
    "            -> 199/200  \n",
    "            \n",
    "            \n",
    "    1/200\n",
    "\n",
    "    199/200 -> 1/199\n",
    "            -> 199/199"
   ]
  },
  {
   "cell_type": "markdown",
   "metadata": {},
   "source": [
    "## Distribuciones\n",
    "\n",
    "Cómo vamos a describir el comportamiento de un dado? \n"
   ]
  },
  {
   "cell_type": "code",
   "execution_count": 2,
   "metadata": {},
   "outputs": [
    {
     "data": {
      "text/html": [
       "<table>\n",
       "<thead><tr><th scope=col>Caras</th></tr></thead>\n",
       "<tbody>\n",
       "\t<tr><td>1</td></tr>\n",
       "\t<tr><td>2</td></tr>\n",
       "\t<tr><td>3</td></tr>\n",
       "\t<tr><td>4</td></tr>\n",
       "\t<tr><td>5</td></tr>\n",
       "\t<tr><td>6</td></tr>\n",
       "</tbody>\n",
       "</table>\n"
      ],
      "text/latex": [
       "\\begin{tabular}{r|l}\n",
       " Caras\\\\\n",
       "\\hline\n",
       "\t 1\\\\\n",
       "\t 2\\\\\n",
       "\t 3\\\\\n",
       "\t 4\\\\\n",
       "\t 5\\\\\n",
       "\t 6\\\\\n",
       "\\end{tabular}\n"
      ],
      "text/markdown": [
       "\n",
       "Caras | \n",
       "|---|---|---|---|---|---|\n",
       "| 1 | \n",
       "| 2 | \n",
       "| 3 | \n",
       "| 4 | \n",
       "| 5 | \n",
       "| 6 | \n",
       "\n",
       "\n"
      ],
      "text/plain": [
       "  Caras\n",
       "1 1    \n",
       "2 2    \n",
       "3 3    \n",
       "4 4    \n",
       "5 5    \n",
       "6 6    "
      ]
     },
     "metadata": {},
     "output_type": "display_data"
    }
   ],
   "source": [
    "dado <- data.frame(Caras = 1:6)\n",
    "dado"
   ]
  },
  {
   "cell_type": "code",
   "execution_count": 69,
   "metadata": {},
   "outputs": [
    {
     "data": {
      "text/html": [
       "<ol class=list-inline>\n",
       "\t<li>1</li>\n",
       "\t<li>3</li>\n",
       "\t<li>1</li>\n",
       "\t<li>5</li>\n",
       "\t<li>1</li>\n",
       "\t<li>4</li>\n",
       "\t<li>3</li>\n",
       "</ol>\n"
      ],
      "text/latex": [
       "\\begin{enumerate*}\n",
       "\\item 1\n",
       "\\item 3\n",
       "\\item 1\n",
       "\\item 5\n",
       "\\item 1\n",
       "\\item 4\n",
       "\\item 3\n",
       "\\end{enumerate*}\n"
      ],
      "text/markdown": [
       "1. 1\n",
       "2. 3\n",
       "3. 1\n",
       "4. 5\n",
       "5. 1\n",
       "6. 4\n",
       "7. 3\n",
       "\n",
       "\n"
      ],
      "text/plain": [
       "[1] 1 3 1 5 1 4 3"
      ]
     },
     "metadata": {},
     "output_type": "display_data"
    }
   ],
   "source": [
    "sample(dado$Caras, size = 7, replace = TRUE)"
   ]
  },
  {
   "cell_type": "code",
   "execution_count": 7,
   "metadata": {
    "scrolled": false
   },
   "outputs": [
    {
     "data": {},
     "metadata": {},
     "output_type": "display_data"
    },
    {
     "data": {
      "image/png": "[encoded data removed]",
      "text/plain": [
       "plot without title"
      ]
     },
     "metadata": {},
     "output_type": "display_data"
    }
   ],
   "source": [
    "library(ggplot2)\n",
    "\n",
    "ggplot(dado) + geom_histogram(breaks = seq(0, 6), alpha = 0.6, color = \"white\", \n",
    "                              aes(Caras,  y = (..count..)/sum(..count..))) + ylab(\"\")\n",
    "\n",
    "# proporciones que de los resultados que obtendríamos si lanzáramos un dado. "
   ]
  },
  {
   "cell_type": "code",
   "execution_count": 151,
   "metadata": {},
   "outputs": [
    {
     "data": {
      "text/html": [
       "<table>\n",
       "<thead><tr><th scope=col>Caras</th></tr></thead>\n",
       "<tbody>\n",
       "\t<tr><td>2</td></tr>\n",
       "\t<tr><td>5</td></tr>\n",
       "\t<tr><td>3</td></tr>\n",
       "\t<tr><td>2</td></tr>\n",
       "\t<tr><td>6</td></tr>\n",
       "\t<tr><td>5</td></tr>\n",
       "\t<tr><td>4</td></tr>\n",
       "\t<tr><td>6</td></tr>\n",
       "\t<tr><td>5</td></tr>\n",
       "\t<tr><td>4</td></tr>\n",
       "</tbody>\n",
       "</table>\n"
      ],
      "text/latex": [
       "\\begin{tabular}{r|l}\n",
       " Caras\\\\\n",
       "\\hline\n",
       "\t 2\\\\\n",
       "\t 5\\\\\n",
       "\t 3\\\\\n",
       "\t 2\\\\\n",
       "\t 6\\\\\n",
       "\t 5\\\\\n",
       "\t 4\\\\\n",
       "\t 6\\\\\n",
       "\t 5\\\\\n",
       "\t 4\\\\\n",
       "\\end{tabular}\n"
      ],
      "text/markdown": [
       "\n",
       "Caras | \n",
       "|---|---|---|---|---|---|---|---|---|---|\n",
       "| 2 | \n",
       "| 5 | \n",
       "| 3 | \n",
       "| 2 | \n",
       "| 6 | \n",
       "| 5 | \n",
       "| 4 | \n",
       "| 6 | \n",
       "| 5 | \n",
       "| 4 | \n",
       "\n",
       "\n"
      ],
      "text/plain": [
       "   Caras\n",
       "1  2    \n",
       "2  5    \n",
       "3  3    \n",
       "4  2    \n",
       "5  6    \n",
       "6  5    \n",
       "7  4    \n",
       "8  6    \n",
       "9  5    \n",
       "10 4    "
      ]
     },
     "metadata": {},
     "output_type": "display_data"
    },
    {
     "data": {
      "text/html": [
       "<ol class=list-inline>\n",
       "\t<li>0</li>\n",
       "\t<li>1</li>\n",
       "\t<li>2</li>\n",
       "\t<li>3</li>\n",
       "\t<li>4</li>\n",
       "\t<li>5</li>\n",
       "\t<li>6</li>\n",
       "</ol>\n"
      ],
      "text/latex": [
       "\\begin{enumerate*}\n",
       "\\item 0\n",
       "\\item 1\n",
       "\\item 2\n",
       "\\item 3\n",
       "\\item 4\n",
       "\\item 5\n",
       "\\item 6\n",
       "\\end{enumerate*}\n"
      ],
      "text/markdown": [
       "1. 0\n",
       "2. 1\n",
       "3. 2\n",
       "4. 3\n",
       "5. 4\n",
       "6. 5\n",
       "7. 6\n",
       "\n",
       "\n"
      ],
      "text/plain": [
       "[1] 0 1 2 3 4 5 6"
      ]
     },
     "metadata": {},
     "output_type": "display_data"
    }
   ],
   "source": [
    "muestraCaras <- sample(dado$Caras, size = 10, replace = TRUE)\n",
    "dadoExp <- data.frame(Caras = muestraCaras)\n",
    "dadoExp\n"
   ]
  },
  {
   "cell_type": "code",
   "execution_count": 6,
   "metadata": {
    "scrolled": false
   },
   "outputs": [
    {
     "data": {},
     "metadata": {},
     "output_type": "display_data"
    },
    {
     "data": {
      "image/png": "[encoded data removed]",
      "text/plain": [
       "plot without title"
      ]
     },
     "metadata": {},
     "output_type": "display_data"
    }
   ],
   "source": [
    "muestraCaras <- sample(dado$Caras, size = 10, replace = TRUE)\n",
    "dadoExp <- data.frame(Caras = muestraCaras)\n",
    "\n",
    "ggplot(dadoExp, aes(x=Caras)) + \n",
    "    geom_histogram(breaks = 0:6, color=\"white\") "
   ]
  },
  {
   "cell_type": "code",
   "execution_count": 171,
   "metadata": {},
   "outputs": [
    {
     "data": {
      "text/html": [
       "<table>\n",
       "<thead><tr><th scope=col>Caras</th><th scope=col>DosCaras</th></tr></thead>\n",
       "<tbody>\n",
       "\t<tr><td>1</td><td>2</td></tr>\n",
       "\t<tr><td>1</td><td>2</td></tr>\n",
       "\t<tr><td>1</td><td>2</td></tr>\n",
       "\t<tr><td>3</td><td>6</td></tr>\n",
       "\t<tr><td>2</td><td>4</td></tr>\n",
       "\t<tr><td>1</td><td>2</td></tr>\n",
       "\t<tr><td>4</td><td>8</td></tr>\n",
       "\t<tr><td>3</td><td>6</td></tr>\n",
       "\t<tr><td>1</td><td>2</td></tr>\n",
       "\t<tr><td>4</td><td>8</td></tr>\n",
       "</tbody>\n",
       "</table>\n"
      ],
      "text/latex": [
       "\\begin{tabular}{r|ll}\n",
       " Caras & DosCaras\\\\\n",
       "\\hline\n",
       "\t 1 & 2\\\\\n",
       "\t 1 & 2\\\\\n",
       "\t 1 & 2\\\\\n",
       "\t 3 & 6\\\\\n",
       "\t 2 & 4\\\\\n",
       "\t 1 & 2\\\\\n",
       "\t 4 & 8\\\\\n",
       "\t 3 & 6\\\\\n",
       "\t 1 & 2\\\\\n",
       "\t 4 & 8\\\\\n",
       "\\end{tabular}\n"
      ],
      "text/markdown": [
       "\n",
       "Caras | DosCaras | \n",
       "|---|---|---|---|---|---|---|---|---|---|\n",
       "| 1 | 2 | \n",
       "| 1 | 2 | \n",
       "| 1 | 2 | \n",
       "| 3 | 6 | \n",
       "| 2 | 4 | \n",
       "| 1 | 2 | \n",
       "| 4 | 8 | \n",
       "| 3 | 6 | \n",
       "| 1 | 2 | \n",
       "| 4 | 8 | \n",
       "\n",
       "\n"
      ],
      "text/plain": [
       "   Caras DosCaras\n",
       "1  1     2       \n",
       "2  1     2       \n",
       "3  1     2       \n",
       "4  3     6       \n",
       "5  2     4       \n",
       "6  1     2       \n",
       "7  4     8       \n",
       "8  3     6       \n",
       "9  1     2       \n",
       "10 4     8       "
      ]
     },
     "metadata": {},
     "output_type": "display_data"
    }
   ],
   "source": [
    "data.frame(Caras = muestraCaras, DosCaras = 2*muestraCaras)"
   ]
  },
  {
   "cell_type": "code",
   "execution_count": 7,
   "metadata": {
    "collapsed": true
   },
   "outputs": [],
   "source": [
    "dadoExpHist <- function(n) {\n",
    "    muestraCaras <- sample(dado$Caras, size = n, replace = TRUE)\n",
    "    dadoExp <- data.frame(Caras = muestraCaras)\n",
    "    return(ggplot(dadoExp) + geom_histogram(breaks = seq(0, 6), alpha = 0.6, color = \"white\", \n",
    "                              aes(Caras, y = (..count..)/sum(..count..))) + ylab(\"\"))\n",
    "}\n"
   ]
  },
  {
   "cell_type": "code",
   "execution_count": 8,
   "metadata": {},
   "outputs": [
    {
     "data": {},
     "metadata": {},
     "output_type": "display_data"
    },
    {
     "data": {
      "image/png": "[encoded data removed]",
      "text/plain": [
       "plot without title"
      ]
     },
     "metadata": {},
     "output_type": "display_data"
    }
   ],
   "source": [
    "dadoExpHist(1000000)"
   ]
  },
  {
   "cell_type": "markdown",
   "metadata": {},
   "source": [
    "# Histogramas y Distribuciones\n",
    "\n",
    "Ya sabíamos la forma del histograma! Sabes las proporciones de antemano. \n",
    "\n",
    "Histograma es un resumen visual de la distribución.\n",
    "\n",
    "El histograma del experimento (del muestreo) se llama histograma empírico.\n",
    "\n",
    "    En el mundo es igual: hay un proceso que genera un resultado pero solo observamos una parte de los resultados. \n",
    "    "
   ]
  },
  {
   "cell_type": "markdown",
   "metadata": {},
   "source": [
    "# Ley de los promedios (TCL CLT)\n",
    "\n",
    "Hay una razón por la que el hsitograma empírico se parece al modelo teórico.\n",
    "\n",
    "Si un experimento se repite en las mismas condiciones y de manera independiente, a la larga la proporción de veces que un resultado aparece se va a parecer mas y mas a la probabilidad teórica."
   ]
  },
  {
   "cell_type": "markdown",
   "metadata": {},
   "source": [
    "# Iteraciones:\n",
    "\n",
    "for (i in seq(1,10)) { print(i) }\n",
    "\n",
    "El cuerpo, todo lo que dentro de { }, es ejecutado para cada elemento en una secuencia. \n",
    "\n",
    "Puede tener varias líneas. El cuerpo tiene que hacer algo.\n"
   ]
  },
  {
   "cell_type": "code",
   "execution_count": 4,
   "metadata": {},
   "outputs": [
    {
     "name": "stdout",
     "output_type": "stream",
     "text": [
      "[1] 1\n",
      "[1] 2\n",
      "[1] 3\n",
      "[1] 4\n",
      "[1] 5\n",
      "[1] 6\n",
      "[1] 7\n",
      "[1] 8\n",
      "[1] 9\n",
      "[1] 10\n"
     ]
    }
   ],
   "source": [
    "for(x in 1:10) {print(x)}"
   ]
  },
  {
   "cell_type": "code",
   "execution_count": 5,
   "metadata": {},
   "outputs": [
    {
     "name": "stdout",
     "output_type": "stream",
     "text": [
      "[1] 3\n",
      "[1] 8\n",
      "[1] 10\n"
     ]
    }
   ],
   "source": [
    "for(i in c(3,8,10)) {print(i)}"
   ]
  },
  {
   "cell_type": "code",
   "execution_count": 6,
   "metadata": {
    "collapsed": true
   },
   "outputs": [],
   "source": [
    "lDado <- function(n){\n",
    "    sample(x = 1:n, size = 1)\n",
    "}"
   ]
  },
  {
   "cell_type": "code",
   "execution_count": 9,
   "metadata": {},
   "outputs": [
    {
     "data": {
      "text/html": [
       "2"
      ],
      "text/latex": [
       "2"
      ],
      "text/markdown": [
       "2"
      ],
      "text/plain": [
       "[1] 2"
      ]
     },
     "metadata": {},
     "output_type": "display_data"
    }
   ],
   "source": [
    "lDado(3)"
   ]
  },
  {
   "cell_type": "code",
   "execution_count": 10,
   "metadata": {},
   "outputs": [
    {
     "data": {
      "text/html": [
       "<table>\n",
       "<thead><tr><th scope=col>primerL</th><th scope=col>segundoL</th></tr></thead>\n",
       "<tbody>\n",
       "\t<tr><td>3</td><td>6</td></tr>\n",
       "</tbody>\n",
       "</table>\n"
      ],
      "text/latex": [
       "\\begin{tabular}{r|ll}\n",
       " primerL & segundoL\\\\\n",
       "\\hline\n",
       "\t 3 & 6\\\\\n",
       "\\end{tabular}\n"
      ],
      "text/markdown": [
       "\n",
       "primerL | segundoL | \n",
       "|---|\n",
       "| 3 | 6 | \n",
       "\n",
       "\n"
      ],
      "text/plain": [
       "  primerL segundoL\n",
       "1 3       6       "
      ]
     },
     "metadata": {},
     "output_type": "display_data"
    }
   ],
   "source": [
    "# Dos lanzamientos de dados, 1000 veces.\n",
    "\n",
    "dosL <- data.frame(primerL=lDado(6), segundoL=lDado(6))\n",
    "\n",
    "dosL[1, ]"
   ]
  },
  {
   "cell_type": "code",
   "execution_count": 11,
   "metadata": {},
   "outputs": [
    {
     "data": {
      "text/html": [
       "<table>\n",
       "<thead><tr><th scope=col>primerL</th><th scope=col>segundoL</th></tr></thead>\n",
       "<tbody>\n",
       "\t<tr><td>4</td><td>4</td></tr>\n",
       "\t<tr><td>3</td><td>6</td></tr>\n",
       "\t<tr><td>2</td><td>5</td></tr>\n",
       "\t<tr><td>1</td><td>1</td></tr>\n",
       "\t<tr><td>4</td><td>5</td></tr>\n",
       "\t<tr><td>1</td><td>6</td></tr>\n",
       "</tbody>\n",
       "</table>\n"
      ],
      "text/latex": [
       "\\begin{tabular}{r|ll}\n",
       " primerL & segundoL\\\\\n",
       "\\hline\n",
       "\t 4 & 4\\\\\n",
       "\t 3 & 6\\\\\n",
       "\t 2 & 5\\\\\n",
       "\t 1 & 1\\\\\n",
       "\t 4 & 5\\\\\n",
       "\t 1 & 6\\\\\n",
       "\\end{tabular}\n"
      ],
      "text/markdown": [
       "\n",
       "primerL | segundoL | \n",
       "|---|---|---|---|---|---|\n",
       "| 4 | 4 | \n",
       "| 3 | 6 | \n",
       "| 2 | 5 | \n",
       "| 1 | 1 | \n",
       "| 4 | 5 | \n",
       "| 1 | 6 | \n",
       "\n",
       "\n"
      ],
      "text/plain": [
       "  primerL segundoL\n",
       "1 4       4       \n",
       "2 3       6       \n",
       "3 2       5       \n",
       "4 1       1       \n",
       "5 4       5       \n",
       "6 1       6       "
      ]
     },
     "metadata": {},
     "output_type": "display_data"
    }
   ],
   "source": [
    "for(i in 1:10000){\n",
    "    dosL[i,] <- c(lDado(6), lDado(6))\n",
    "}\n",
    "\n",
    "head(dosL)"
   ]
  },
  {
   "cell_type": "code",
   "execution_count": 12,
   "metadata": {},
   "outputs": [
    {
     "data": {},
     "metadata": {},
     "output_type": "display_data"
    },
    {
     "data": {
      "image/png": "[encoded data removed]",
      "text/plain": [
       "plot without title"
      ]
     },
     "metadata": {},
     "output_type": "display_data"
    }
   ],
   "source": [
    "# Podemos comparar dos histogramas:\n",
    "\n",
    "ggplot(dosL) + geom_histogram(breaks = seq(0, 6), aes(x=primerL, y = (..count..)/sum(..count..)), fill = \"red\", alpha = 0.2) +\n",
    "        geom_histogram(breaks = seq(0, 6), aes(x=segundoL, y = (..count..)/sum(..count..)), fill = \"blue\", alpha = 0.2) +\n",
    "        ylab(\"\") + xlab(\"cara\") + scale_x_continuous(breaks=seq(0, 6)) \n"
   ]
  },
  {
   "cell_type": "code",
   "execution_count": 14,
   "metadata": {},
   "outputs": [
    {
     "data": {
      "text/html": [
       "<table>\n",
       "<thead><tr><th scope=col>d1</th><th scope=col>d2</th><th scope=col>suma</th></tr></thead>\n",
       "<tbody>\n",
       "\t<tr><td>3</td><td>5</td><td>8</td></tr>\n",
       "\t<tr><td>4</td><td>4</td><td>8</td></tr>\n",
       "\t<tr><td>2</td><td>5</td><td>7</td></tr>\n",
       "\t<tr><td>3</td><td>4</td><td>7</td></tr>\n",
       "\t<tr><td>3</td><td>4</td><td>7</td></tr>\n",
       "\t<tr><td>4</td><td>1</td><td>5</td></tr>\n",
       "</tbody>\n",
       "</table>\n"
      ],
      "text/latex": [
       "\\begin{tabular}{r|lll}\n",
       " d1 & d2 & suma\\\\\n",
       "\\hline\n",
       "\t 3 & 5 & 8\\\\\n",
       "\t 4 & 4 & 8\\\\\n",
       "\t 2 & 5 & 7\\\\\n",
       "\t 3 & 4 & 7\\\\\n",
       "\t 3 & 4 & 7\\\\\n",
       "\t 4 & 1 & 5\\\\\n",
       "\\end{tabular}\n"
      ],
      "text/markdown": [
       "\n",
       "d1 | d2 | suma | \n",
       "|---|---|---|---|---|---|\n",
       "| 3 | 5 | 8 | \n",
       "| 4 | 4 | 8 | \n",
       "| 2 | 5 | 7 | \n",
       "| 3 | 4 | 7 | \n",
       "| 3 | 4 | 7 | \n",
       "| 4 | 1 | 5 | \n",
       "\n",
       "\n"
      ],
      "text/plain": [
       "  d1 d2 suma\n",
       "1 3  5  8   \n",
       "2 4  4  8   \n",
       "3 2  5  7   \n",
       "4 3  4  7   \n",
       "5 3  4  7   \n",
       "6 4  1  5   "
      ]
     },
     "metadata": {},
     "output_type": "display_data"
    }
   ],
   "source": [
    "# Ejercicio 23/Nov/2017\n",
    "N <- 1e5\n",
    "d1 <- sample(1:6, N, replace=TRUE)\n",
    "d2 <- sample(1:6, N, replace=TRUE)\n",
    "\n",
    "dosDados <- data.frame(d1=d1, d2=d2) %>% mutate(suma = d1 + d2)\n",
    "head(dosDados)"
   ]
  },
  {
   "cell_type": "code",
   "execution_count": 17,
   "metadata": {},
   "outputs": [
    {
     "data": {},
     "metadata": {},
     "output_type": "display_data"
    },
    {
     "data": {
      "image/png": "[encoded data removed]",
      "text/plain": [
       "plot without title"
      ]
     },
     "metadata": {},
     "output_type": "display_data"
    }
   ],
   "source": [
    "ggplot(dosDados, aes(x=suma, y=..count../sum(..count..))) + geom_histogram(breaks=seq(1, 12, 1)) + \n",
    "    scale_x_continuous(breaks=seq(0, 12, 1))"
   ]
  },
  {
   "cell_type": "code",
   "execution_count": null,
   "metadata": {
    "collapsed": true
   },
   "outputs": [],
   "source": []
  }
 ],
 "metadata": {
  "anaconda-cloud": {},
  "kernelspec": {
   "display_name": "R 3.3",
   "language": "R",
   "name": "ir33"
  },
  "language_info": {
   "codemirror_mode": "r",
   "file_extension": ".r",
   "mimetype": "text/x-r-source",
   "name": "R",
   "pygments_lexer": "r",
   "version": "3.3.3"
  }
 },
 "nbformat": 4,
 "nbformat_minor": 1
}
