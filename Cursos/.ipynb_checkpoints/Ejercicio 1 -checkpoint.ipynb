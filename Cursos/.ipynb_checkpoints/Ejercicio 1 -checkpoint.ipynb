{
 "cells": [
  {
   "cell_type": "markdown",
   "metadata": {},
   "source": [
    "## Ejercicio \n",
    "\n",
    "Lanzo dos dados. Cuál es mas grande:\n",
    "\n",
    "P(Suma = 6) o P(suma = 7) ?"
   ]
  },
  {
   "cell_type": "code",
   "execution_count": 1,
   "metadata": {},
   "outputs": [
    {
     "name": "stderr",
     "output_type": "stream",
     "text": [
      "\n",
      "Attaching package: 'dplyr'\n",
      "\n",
      "The following objects are masked from 'package:stats':\n",
      "\n",
      "    filter, lag\n",
      "\n",
      "The following objects are masked from 'package:base':\n",
      "\n",
      "    intersect, setdiff, setequal, union\n",
      "\n"
     ]
    }
   ],
   "source": [
    "library(dplyr)\n",
    "library(tidyr)"
   ]
  },
  {
   "cell_type": "code",
   "execution_count": 4,
   "metadata": {},
   "outputs": [
    {
     "data": {
      "text/html": [
       "<table>\n",
       "<thead><tr><th scope=col>d1</th><th scope=col>d2</th><th scope=col>suma</th></tr></thead>\n",
       "<tbody>\n",
       "\t<tr><td>1 </td><td>4 </td><td> 5</td></tr>\n",
       "\t<tr><td>5 </td><td>6 </td><td>11</td></tr>\n",
       "\t<tr><td>4 </td><td>4 </td><td> 8</td></tr>\n",
       "\t<tr><td>1 </td><td>4 </td><td> 5</td></tr>\n",
       "\t<tr><td>4 </td><td>5 </td><td> 9</td></tr>\n",
       "\t<tr><td>2 </td><td>2 </td><td> 4</td></tr>\n",
       "</tbody>\n",
       "</table>\n"
      ],
      "text/latex": [
       "\\begin{tabular}{r|lll}\n",
       " d1 & d2 & suma\\\\\n",
       "\\hline\n",
       "\t 1  & 4  &  5\\\\\n",
       "\t 5  & 6  & 11\\\\\n",
       "\t 4  & 4  &  8\\\\\n",
       "\t 1  & 4  &  5\\\\\n",
       "\t 4  & 5  &  9\\\\\n",
       "\t 2  & 2  &  4\\\\\n",
       "\\end{tabular}\n"
      ],
      "text/markdown": [
       "\n",
       "d1 | d2 | suma | \n",
       "|---|---|---|---|---|---|\n",
       "| 1  | 4  |  5 | \n",
       "| 5  | 6  | 11 | \n",
       "| 4  | 4  |  8 | \n",
       "| 1  | 4  |  5 | \n",
       "| 4  | 5  |  9 | \n",
       "| 2  | 2  |  4 | \n",
       "\n",
       "\n"
      ],
      "text/plain": [
       "  d1 d2 suma\n",
       "1 1  4   5  \n",
       "2 5  6  11  \n",
       "3 4  4   8  \n",
       "4 1  4   5  \n",
       "5 4  5   9  \n",
       "6 2  2   4  "
      ]
     },
     "metadata": {},
     "output_type": "display_data"
    }
   ],
   "source": [
    "N <- 10000\n",
    "d1 <- sample(1:6, N, replace = TRUE)\n",
    "d2 <- sample(1:6, N, replace = TRUE)\n",
    "\n",
    "# dosDados <- data.frame(d1, d2, suma = d1 + d2) También funciona. \n",
    "dosDados <- data.frame(d1, d2) %>% mutate(suma = d1 + d2)\n",
    "\n",
    "head(dosDados)"
   ]
  },
  {
   "cell_type": "code",
   "execution_count": null,
   "metadata": {
    "collapsed": true
   },
   "outputs": [],
   "source": []
  }
 ],
 "metadata": {
  "kernelspec": {
   "display_name": "R 3.3",
   "language": "R",
   "name": "ir33"
  },
  "language_info": {
   "codemirror_mode": "r",
   "file_extension": ".r",
   "mimetype": "text/x-r-source",
   "name": "R",
   "pygments_lexer": "r",
   "version": "3.3.3"
  }
 },
 "nbformat": 4,
 "nbformat_minor": 2
}
