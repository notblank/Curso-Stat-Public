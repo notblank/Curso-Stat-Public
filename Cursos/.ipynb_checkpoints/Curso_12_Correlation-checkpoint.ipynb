{
 "cells": [
  {
   "cell_type": "code",
   "execution_count": 1,
   "metadata": {},
   "outputs": [
    {
     "name": "stderr",
     "output_type": "stream",
     "text": [
      "\n",
      "Attaching package: 'dplyr'\n",
      "\n",
      "The following objects are masked from 'package:stats':\n",
      "\n",
      "    filter, lag\n",
      "\n",
      "The following objects are masked from 'package:base':\n",
      "\n",
      "    intersect, setdiff, setequal, union\n",
      "\n"
     ]
    },
    {
     "data": {
      "text/html": [
       "<ol class=list-inline>\n",
       "\t<li>'year'</li>\n",
       "\t<li>'month'</li>\n",
       "\t<li>'day'</li>\n",
       "\t<li>'dep_time'</li>\n",
       "\t<li>'sched_dep_time'</li>\n",
       "\t<li>'dep_delay'</li>\n",
       "\t<li>'arr_time'</li>\n",
       "\t<li>'sched_arr_time'</li>\n",
       "\t<li>'arr_delay'</li>\n",
       "\t<li>'carrier'</li>\n",
       "\t<li>'flight'</li>\n",
       "\t<li>'tailnum'</li>\n",
       "\t<li>'origin'</li>\n",
       "\t<li>'dest'</li>\n",
       "\t<li>'air_time'</li>\n",
       "\t<li>'distance'</li>\n",
       "\t<li>'hour'</li>\n",
       "\t<li>'minute'</li>\n",
       "\t<li>'time_hour'</li>\n",
       "</ol>\n"
      ],
      "text/latex": [
       "\\begin{enumerate*}\n",
       "\\item 'year'\n",
       "\\item 'month'\n",
       "\\item 'day'\n",
       "\\item 'dep\\_time'\n",
       "\\item 'sched\\_dep\\_time'\n",
       "\\item 'dep\\_delay'\n",
       "\\item 'arr\\_time'\n",
       "\\item 'sched\\_arr\\_time'\n",
       "\\item 'arr\\_delay'\n",
       "\\item 'carrier'\n",
       "\\item 'flight'\n",
       "\\item 'tailnum'\n",
       "\\item 'origin'\n",
       "\\item 'dest'\n",
       "\\item 'air\\_time'\n",
       "\\item 'distance'\n",
       "\\item 'hour'\n",
       "\\item 'minute'\n",
       "\\item 'time\\_hour'\n",
       "\\end{enumerate*}\n"
      ],
      "text/markdown": [
       "1. 'year'\n",
       "2. 'month'\n",
       "3. 'day'\n",
       "4. 'dep_time'\n",
       "5. 'sched_dep_time'\n",
       "6. 'dep_delay'\n",
       "7. 'arr_time'\n",
       "8. 'sched_arr_time'\n",
       "9. 'arr_delay'\n",
       "10. 'carrier'\n",
       "11. 'flight'\n",
       "12. 'tailnum'\n",
       "13. 'origin'\n",
       "14. 'dest'\n",
       "15. 'air_time'\n",
       "16. 'distance'\n",
       "17. 'hour'\n",
       "18. 'minute'\n",
       "19. 'time_hour'\n",
       "\n",
       "\n"
      ],
      "text/plain": [
       " [1] \"year\"           \"month\"          \"day\"            \"dep_time\"      \n",
       " [5] \"sched_dep_time\" \"dep_delay\"      \"arr_time\"       \"sched_arr_time\"\n",
       " [9] \"arr_delay\"      \"carrier\"        \"flight\"         \"tailnum\"       \n",
       "[13] \"origin\"         \"dest\"           \"air_time\"       \"distance\"      \n",
       "[17] \"hour\"           \"minute\"         \"time_hour\"     "
      ]
     },
     "metadata": {},
     "output_type": "display_data"
    },
    {
     "data": {
      "text/html": [
       "<table>\n",
       "<thead><tr><th scope=col>year</th><th scope=col>month</th><th scope=col>day</th><th scope=col>dep_time</th><th scope=col>sched_dep_time</th><th scope=col>dep_delay</th><th scope=col>arr_time</th><th scope=col>sched_arr_time</th><th scope=col>arr_delay</th><th scope=col>carrier</th><th scope=col>flight</th><th scope=col>tailnum</th><th scope=col>origin</th><th scope=col>dest</th><th scope=col>air_time</th><th scope=col>distance</th><th scope=col>hour</th><th scope=col>minute</th><th scope=col>time_hour</th></tr></thead>\n",
       "<tbody>\n",
       "\t<tr><td>2013               </td><td>1                  </td><td>1                  </td><td>517                </td><td>515                </td><td> 2                 </td><td> 830               </td><td> 819               </td><td> 11                </td><td>UA                 </td><td>1545               </td><td>N14228             </td><td>EWR                </td><td>IAH                </td><td>227                </td><td>1400               </td><td>5                  </td><td>15                 </td><td>2013-01-01 05:00:00</td></tr>\n",
       "\t<tr><td>2013               </td><td>1                  </td><td>1                  </td><td>533                </td><td>529                </td><td> 4                 </td><td> 850               </td><td> 830               </td><td> 20                </td><td>UA                 </td><td>1714               </td><td>N24211             </td><td>LGA                </td><td>IAH                </td><td>227                </td><td>1416               </td><td>5                  </td><td>29                 </td><td>2013-01-01 05:00:00</td></tr>\n",
       "\t<tr><td>2013               </td><td>1                  </td><td>1                  </td><td>542                </td><td>540                </td><td> 2                 </td><td> 923               </td><td> 850               </td><td> 33                </td><td>AA                 </td><td>1141               </td><td>N619AA             </td><td>JFK                </td><td>MIA                </td><td>160                </td><td>1089               </td><td>5                  </td><td>40                 </td><td>2013-01-01 05:00:00</td></tr>\n",
       "\t<tr><td>2013               </td><td>1                  </td><td>1                  </td><td>544                </td><td>545                </td><td>-1                 </td><td>1004               </td><td>1022               </td><td>-18                </td><td>B6                 </td><td> 725               </td><td>N804JB             </td><td>JFK                </td><td>BQN                </td><td>183                </td><td>1576               </td><td>5                  </td><td>45                 </td><td>2013-01-01 05:00:00</td></tr>\n",
       "\t<tr><td>2013               </td><td>1                  </td><td>1                  </td><td>554                </td><td>600                </td><td>-6                 </td><td> 812               </td><td> 837               </td><td>-25                </td><td>DL                 </td><td> 461               </td><td>N668DN             </td><td>LGA                </td><td>ATL                </td><td>116                </td><td> 762               </td><td>6                  </td><td> 0                 </td><td>2013-01-01 06:00:00</td></tr>\n",
       "\t<tr><td>2013               </td><td>1                  </td><td>1                  </td><td>554                </td><td>558                </td><td>-4                 </td><td> 740               </td><td> 728               </td><td> 12                </td><td>UA                 </td><td>1696               </td><td>N39463             </td><td>EWR                </td><td>ORD                </td><td>150                </td><td> 719               </td><td>5                  </td><td>58                 </td><td>2013-01-01 05:00:00</td></tr>\n",
       "</tbody>\n",
       "</table>\n"
      ],
      "text/latex": [
       "\\begin{tabular}{r|lllllllllllllllllll}\n",
       " year & month & day & dep\\_time & sched\\_dep\\_time & dep\\_delay & arr\\_time & sched\\_arr\\_time & arr\\_delay & carrier & flight & tailnum & origin & dest & air\\_time & distance & hour & minute & time\\_hour\\\\\n",
       "\\hline\n",
       "\t 2013                & 1                   & 1                   & 517                 & 515                 &  2                  &  830                &  819                &  11                 & UA                  & 1545                & N14228              & EWR                 & IAH                 & 227                 & 1400                & 5                   & 15                  & 2013-01-01 05:00:00\\\\\n",
       "\t 2013                & 1                   & 1                   & 533                 & 529                 &  4                  &  850                &  830                &  20                 & UA                  & 1714                & N24211              & LGA                 & IAH                 & 227                 & 1416                & 5                   & 29                  & 2013-01-01 05:00:00\\\\\n",
       "\t 2013                & 1                   & 1                   & 542                 & 540                 &  2                  &  923                &  850                &  33                 & AA                  & 1141                & N619AA              & JFK                 & MIA                 & 160                 & 1089                & 5                   & 40                  & 2013-01-01 05:00:00\\\\\n",
       "\t 2013                & 1                   & 1                   & 544                 & 545                 & -1                  & 1004                & 1022                & -18                 & B6                  &  725                & N804JB              & JFK                 & BQN                 & 183                 & 1576                & 5                   & 45                  & 2013-01-01 05:00:00\\\\\n",
       "\t 2013                & 1                   & 1                   & 554                 & 600                 & -6                  &  812                &  837                & -25                 & DL                  &  461                & N668DN              & LGA                 & ATL                 & 116                 &  762                & 6                   &  0                  & 2013-01-01 06:00:00\\\\\n",
       "\t 2013                & 1                   & 1                   & 554                 & 558                 & -4                  &  740                &  728                &  12                 & UA                  & 1696                & N39463              & EWR                 & ORD                 & 150                 &  719                & 5                   & 58                  & 2013-01-01 05:00:00\\\\\n",
       "\\end{tabular}\n"
      ],
      "text/markdown": [
       "\n",
       "year | month | day | dep_time | sched_dep_time | dep_delay | arr_time | sched_arr_time | arr_delay | carrier | flight | tailnum | origin | dest | air_time | distance | hour | minute | time_hour | \n",
       "|---|---|---|---|---|---|\n",
       "| 2013                | 1                   | 1                   | 517                 | 515                 |  2                  |  830                |  819                |  11                 | UA                  | 1545                | N14228              | EWR                 | IAH                 | 227                 | 1400                | 5                   | 15                  | 2013-01-01 05:00:00 | \n",
       "| 2013                | 1                   | 1                   | 533                 | 529                 |  4                  |  850                |  830                |  20                 | UA                  | 1714                | N24211              | LGA                 | IAH                 | 227                 | 1416                | 5                   | 29                  | 2013-01-01 05:00:00 | \n",
       "| 2013                | 1                   | 1                   | 542                 | 540                 |  2                  |  923                |  850                |  33                 | AA                  | 1141                | N619AA              | JFK                 | MIA                 | 160                 | 1089                | 5                   | 40                  | 2013-01-01 05:00:00 | \n",
       "| 2013                | 1                   | 1                   | 544                 | 545                 | -1                  | 1004                | 1022                | -18                 | B6                  |  725                | N804JB              | JFK                 | BQN                 | 183                 | 1576                | 5                   | 45                  | 2013-01-01 05:00:00 | \n",
       "| 2013                | 1                   | 1                   | 554                 | 600                 | -6                  |  812                |  837                | -25                 | DL                  |  461                | N668DN              | LGA                 | ATL                 | 116                 |  762                | 6                   |  0                  | 2013-01-01 06:00:00 | \n",
       "| 2013                | 1                   | 1                   | 554                 | 558                 | -4                  |  740                |  728                |  12                 | UA                  | 1696                | N39463              | EWR                 | ORD                 | 150                 |  719                | 5                   | 58                  | 2013-01-01 05:00:00 | \n",
       "\n",
       "\n"
      ],
      "text/plain": [
       "  year month day dep_time sched_dep_time dep_delay arr_time sched_arr_time\n",
       "1 2013 1     1   517      515             2         830      819          \n",
       "2 2013 1     1   533      529             4         850      830          \n",
       "3 2013 1     1   542      540             2         923      850          \n",
       "4 2013 1     1   544      545            -1        1004     1022          \n",
       "5 2013 1     1   554      600            -6         812      837          \n",
       "6 2013 1     1   554      558            -4         740      728          \n",
       "  arr_delay carrier flight tailnum origin dest air_time distance hour minute\n",
       "1  11       UA      1545   N14228  EWR    IAH  227      1400     5    15    \n",
       "2  20       UA      1714   N24211  LGA    IAH  227      1416     5    29    \n",
       "3  33       AA      1141   N619AA  JFK    MIA  160      1089     5    40    \n",
       "4 -18       B6       725   N804JB  JFK    BQN  183      1576     5    45    \n",
       "5 -25       DL       461   N668DN  LGA    ATL  116       762     6     0    \n",
       "6  12       UA      1696   N39463  EWR    ORD  150       719     5    58    \n",
       "  time_hour          \n",
       "1 2013-01-01 05:00:00\n",
       "2 2013-01-01 05:00:00\n",
       "3 2013-01-01 05:00:00\n",
       "4 2013-01-01 05:00:00\n",
       "5 2013-01-01 06:00:00\n",
       "6 2013-01-01 05:00:00"
      ]
     },
     "metadata": {},
     "output_type": "display_data"
    }
   ],
   "source": [
    "# https://github.com/tidyverse/ggplot2/wiki/Flying-over-the-usa\n",
    "\n",
    "library(ggplot2)\n",
    "library(dplyr)\n",
    "library(nycflights13) # for data\n",
    "\n",
    "names(flights)\n",
    "head(flights)"
   ]
  },
  {
   "cell_type": "code",
   "execution_count": 2,
   "metadata": {},
   "outputs": [
    {
     "data": {
      "text/html": [
       "12.6390702573047"
      ],
      "text/latex": [
       "12.6390702573047"
      ],
      "text/markdown": [
       "12.6390702573047"
      ],
      "text/plain": [
       "[1] 12.63907"
      ]
     },
     "metadata": {},
     "output_type": "display_data"
    },
    {
     "data": {
      "text/html": [
       "40.21006089213"
      ],
      "text/latex": [
       "40.21006089213"
      ],
      "text/markdown": [
       "40.21006089213"
      ],
      "text/plain": [
       "[1] 40.21006"
      ]
     },
     "metadata": {},
     "output_type": "display_data"
    }
   ],
   "source": [
    "mD <- mean(flights$dep_delay, na.rm = TRUE)\n",
    "sdD <- sd(flights$dep_delay, na.rm = TRUE)\n",
    "\n",
    "mD\n",
    "sdD"
   ]
  },
  {
   "cell_type": "code",
   "execution_count": 3,
   "metadata": {},
   "outputs": [
    {
     "data": {
      "text/html": [
       "<table>\n",
       "<thead><tr><th scope=col>dep_delay</th><th scope=col>z</th></tr></thead>\n",
       "<tbody>\n",
       "\t<tr><td> 2        </td><td>-0.2645873</td></tr>\n",
       "\t<tr><td> 4        </td><td>-0.2148485</td></tr>\n",
       "\t<tr><td> 2        </td><td>-0.2645873</td></tr>\n",
       "\t<tr><td>-1        </td><td>-0.3391955</td></tr>\n",
       "\t<tr><td>-6        </td><td>-0.4635425</td></tr>\n",
       "\t<tr><td>-4        </td><td>-0.4138037</td></tr>\n",
       "</tbody>\n",
       "</table>\n"
      ],
      "text/latex": [
       "\\begin{tabular}{r|ll}\n",
       " dep\\_delay & z\\\\\n",
       "\\hline\n",
       "\t  2         & -0.2645873\\\\\n",
       "\t  4         & -0.2148485\\\\\n",
       "\t  2         & -0.2645873\\\\\n",
       "\t -1         & -0.3391955\\\\\n",
       "\t -6         & -0.4635425\\\\\n",
       "\t -4         & -0.4138037\\\\\n",
       "\\end{tabular}\n"
      ],
      "text/markdown": [
       "\n",
       "dep_delay | z | \n",
       "|---|---|---|---|---|---|\n",
       "|  2         | -0.2645873 | \n",
       "|  4         | -0.2148485 | \n",
       "|  2         | -0.2645873 | \n",
       "| -1         | -0.3391955 | \n",
       "| -6         | -0.4635425 | \n",
       "| -4         | -0.4138037 | \n",
       "\n",
       "\n"
      ],
      "text/plain": [
       "  dep_delay z         \n",
       "1  2        -0.2645873\n",
       "2  4        -0.2148485\n",
       "3  2        -0.2645873\n",
       "4 -1        -0.3391955\n",
       "5 -6        -0.4635425\n",
       "6 -4        -0.4138037"
      ]
     },
     "metadata": {},
     "output_type": "display_data"
    },
    {
     "data": {
      "text/html": [
       "<table>\n",
       "<thead><tr><th scope=col>dep_delay</th><th scope=col>z</th></tr></thead>\n",
       "<tbody>\n",
       "\t<tr><td>1301    </td><td>32.04076</td></tr>\n",
       "\t<tr><td>1137    </td><td>27.96218</td></tr>\n",
       "\t<tr><td>1126    </td><td>27.68862</td></tr>\n",
       "\t<tr><td>1014    </td><td>24.90324</td></tr>\n",
       "\t<tr><td>1005    </td><td>24.67942</td></tr>\n",
       "\t<tr><td> 960    </td><td>23.56030</td></tr>\n",
       "</tbody>\n",
       "</table>\n"
      ],
      "text/latex": [
       "\\begin{tabular}{r|ll}\n",
       " dep\\_delay & z\\\\\n",
       "\\hline\n",
       "\t 1301     & 32.04076\\\\\n",
       "\t 1137     & 27.96218\\\\\n",
       "\t 1126     & 27.68862\\\\\n",
       "\t 1014     & 24.90324\\\\\n",
       "\t 1005     & 24.67942\\\\\n",
       "\t  960     & 23.56030\\\\\n",
       "\\end{tabular}\n"
      ],
      "text/markdown": [
       "\n",
       "dep_delay | z | \n",
       "|---|---|---|---|---|---|\n",
       "| 1301     | 32.04076 | \n",
       "| 1137     | 27.96218 | \n",
       "| 1126     | 27.68862 | \n",
       "| 1014     | 24.90324 | \n",
       "| 1005     | 24.67942 | \n",
       "|  960     | 23.56030 | \n",
       "\n",
       "\n"
      ],
      "text/plain": [
       "  dep_delay z       \n",
       "1 1301      32.04076\n",
       "2 1137      27.96218\n",
       "3 1126      27.68862\n",
       "4 1014      24.90324\n",
       "5 1005      24.67942\n",
       "6  960      23.56030"
      ]
     },
     "metadata": {},
     "output_type": "display_data"
    }
   ],
   "source": [
    "flights_simple <- flights %>% select(dep_delay) %>% mutate(z = (dep_delay - mD)/sdD)\n",
    "\n",
    "head(flights_simple) \n",
    "head(arrange(flights_simple, desc(z)))"
   ]
  },
  {
   "cell_type": "code",
   "execution_count": 4,
   "metadata": {
    "scrolled": true
   },
   "outputs": [
    {
     "data": {
      "text/html": [
       "<table>\n",
       "<thead><tr><th scope=col>dep_delay</th><th scope=col>z</th></tr></thead>\n",
       "<tbody>\n",
       "\t<tr><td> 2        </td><td>-0.2645873</td></tr>\n",
       "\t<tr><td> 4        </td><td>-0.2148485</td></tr>\n",
       "\t<tr><td> 2        </td><td>-0.2645873</td></tr>\n",
       "\t<tr><td>-1        </td><td>-0.3391955</td></tr>\n",
       "\t<tr><td>-6        </td><td>-0.4635425</td></tr>\n",
       "\t<tr><td>-4        </td><td>-0.4138037</td></tr>\n",
       "</tbody>\n",
       "</table>\n"
      ],
      "text/latex": [
       "\\begin{tabular}{r|ll}\n",
       " dep\\_delay & z\\\\\n",
       "\\hline\n",
       "\t  2         & -0.2645873\\\\\n",
       "\t  4         & -0.2148485\\\\\n",
       "\t  2         & -0.2645873\\\\\n",
       "\t -1         & -0.3391955\\\\\n",
       "\t -6         & -0.4635425\\\\\n",
       "\t -4         & -0.4138037\\\\\n",
       "\\end{tabular}\n"
      ],
      "text/markdown": [
       "\n",
       "dep_delay | z | \n",
       "|---|---|---|---|---|---|\n",
       "|  2         | -0.2645873 | \n",
       "|  4         | -0.2148485 | \n",
       "|  2         | -0.2645873 | \n",
       "| -1         | -0.3391955 | \n",
       "| -6         | -0.4635425 | \n",
       "| -4         | -0.4138037 | \n",
       "\n",
       "\n"
      ],
      "text/plain": [
       "  dep_delay z         \n",
       "1  2        -0.2645873\n",
       "2  4        -0.2148485\n",
       "3  2        -0.2645873\n",
       "4 -1        -0.3391955\n",
       "5 -6        -0.4635425\n",
       "6 -4        -0.4138037"
      ]
     },
     "metadata": {},
     "output_type": "display_data"
    }
   ],
   "source": [
    "# 32 es mucho! Se acuerdan que z está entre -5 y 5.\n",
    "# cuântos están a 2 sds del promedio? \n",
    "\n",
    "flights_simple %>% filter(z <= 2) %>% head()"
   ]
  },
  {
   "cell_type": "code",
   "execution_count": 5,
   "metadata": {},
   "outputs": [
    {
     "name": "stderr",
     "output_type": "stream",
     "text": [
      "Warning message:\n",
      "\"Removed 8255 rows containing non-finite values (stat_bin).\""
     ]
    },
    {
     "data": {},
     "metadata": {},
     "output_type": "display_data"
    },
    {
     "data": {
      "image/png": "[encoded data removed]",
      "text/plain": [
       "plot without title"
      ]
     },
     "metadata": {},
     "output_type": "display_data"
    }
   ],
   "source": [
    "ggplot(flights_simple) + geom_histogram(aes(z,  y=..count../sum(..count..)), breaks = seq(-3, 35)) + ylab(\"\")"
   ]
  },
  {
   "cell_type": "code",
   "execution_count": 6,
   "metadata": {
    "scrolled": false
   },
   "outputs": [
    {
     "data": {
      "text/html": [
       "6.89537675731489"
      ],
      "text/latex": [
       "6.89537675731489"
      ],
      "text/markdown": [
       "6.89537675731489"
      ],
      "text/plain": [
       "[1] 6.895377"
      ]
     },
     "metadata": {},
     "output_type": "display_data"
    },
    {
     "data": {
      "text/html": [
       "44.633291690194"
      ],
      "text/latex": [
       "44.633291690194"
      ],
      "text/markdown": [
       "44.633291690194"
      ],
      "text/plain": [
       "[1] 44.63329"
      ]
     },
     "metadata": {},
     "output_type": "display_data"
    }
   ],
   "source": [
    "mD <- mean(flights$arr_delay, na.rm = T)\n",
    "sdD <- sd(flights$arr_delay, na.rm = T)\n",
    "\n",
    "mD\n",
    "sdD"
   ]
  },
  {
   "cell_type": "code",
   "execution_count": 7,
   "metadata": {
    "scrolled": true
   },
   "outputs": [
    {
     "data": {
      "text/html": [
       "<table>\n",
       "<thead><tr><th scope=col>arr_delay</th><th scope=col>z</th></tr></thead>\n",
       "<tbody>\n",
       "\t<tr><td>1272    </td><td>28.34442</td></tr>\n",
       "\t<tr><td>1127    </td><td>25.09572</td></tr>\n",
       "\t<tr><td>1109    </td><td>24.69243</td></tr>\n",
       "\t<tr><td>1007    </td><td>22.40714</td></tr>\n",
       "\t<tr><td> 989    </td><td>22.00386</td></tr>\n",
       "\t<tr><td> 931    </td><td>20.70438</td></tr>\n",
       "</tbody>\n",
       "</table>\n"
      ],
      "text/latex": [
       "\\begin{tabular}{r|ll}\n",
       " arr\\_delay & z\\\\\n",
       "\\hline\n",
       "\t 1272     & 28.34442\\\\\n",
       "\t 1127     & 25.09572\\\\\n",
       "\t 1109     & 24.69243\\\\\n",
       "\t 1007     & 22.40714\\\\\n",
       "\t  989     & 22.00386\\\\\n",
       "\t  931     & 20.70438\\\\\n",
       "\\end{tabular}\n"
      ],
      "text/markdown": [
       "\n",
       "arr_delay | z | \n",
       "|---|---|---|---|---|---|\n",
       "| 1272     | 28.34442 | \n",
       "| 1127     | 25.09572 | \n",
       "| 1109     | 24.69243 | \n",
       "| 1007     | 22.40714 | \n",
       "|  989     | 22.00386 | \n",
       "|  931     | 20.70438 | \n",
       "\n",
       "\n"
      ],
      "text/plain": [
       "  arr_delay z       \n",
       "1 1272      28.34442\n",
       "2 1127      25.09572\n",
       "3 1109      24.69243\n",
       "4 1007      22.40714\n",
       "5  989      22.00386\n",
       "6  931      20.70438"
      ]
     },
     "metadata": {},
     "output_type": "display_data"
    }
   ],
   "source": [
    "flights_simple <- flights %>% select(arr_delay) %>% \n",
    "                            mutate(z = (arr_delay - mD)/sdD)\n",
    "\n",
    "flights_simple %>% arrange(desc(z)) %>% head()"
   ]
  },
  {
   "cell_type": "code",
   "execution_count": 8,
   "metadata": {},
   "outputs": [
    {
     "name": "stderr",
     "output_type": "stream",
     "text": [
      "Warning message:\n",
      "\"Removed 9430 rows containing non-finite values (stat_bin).\""
     ]
    },
    {
     "data": {},
     "metadata": {},
     "output_type": "display_data"
    },
    {
     "data": {
      "text/html": [
       "<ol class=list-inline>\n",
       "\t<li>336776</li>\n",
       "\t<li>2</li>\n",
       "</ol>\n"
      ],
      "text/latex": [
       "\\begin{enumerate*}\n",
       "\\item 336776\n",
       "\\item 2\n",
       "\\end{enumerate*}\n"
      ],
      "text/markdown": [
       "1. 336776\n",
       "2. 2\n",
       "\n",
       "\n"
      ],
      "text/plain": [
       "[1] 336776      2"
      ]
     },
     "metadata": {},
     "output_type": "display_data"
    },
    {
     "data": {
      "image/png": "[encoded data removed]",
      "text/plain": [
       "plot without title"
      ]
     },
     "metadata": {},
     "output_type": "display_data"
    }
   ],
   "source": [
    "ggplot(flights_simple) + geom_histogram(aes(arr_delay,  y=..count../sum(..count..)), \n",
    "                                        breaks = seq(-100, 300)) + ylab(\"\")\n",
    "\n",
    "dim(flights_simple)"
   ]
  },
  {
   "cell_type": "code",
   "execution_count": 9,
   "metadata": {},
   "outputs": [
    {
     "data": {},
     "metadata": {},
     "output_type": "display_data"
    },
    {
     "data": {
      "image/png": "[encoded data removed]",
      "text/plain": [
       "plot without title"
      ]
     },
     "metadata": {},
     "output_type": "display_data"
    }
   ],
   "source": [
    "sample_size = 700\n",
    "m <- vector()\n",
    "\n",
    "for(i in 1:10000){\n",
    "    m[i] <- mean(sample_n(tbl = flights_simple, size = sample_size, replace = T)$arr_delay, na.rm = T)\n",
    "}\n",
    "\n",
    "m <- data.frame(m = m)\n",
    "\n",
    "ggplot(m) + geom_histogram(aes(m, y=..count../sum(..count..)), breaks=seq(0, 15, by=0.5)) + ylab(\"\")"
   ]
  },
  {
   "cell_type": "markdown",
   "metadata": {},
   "source": [
    "# El Teorema central límite (CLT)\n",
    "   \n",
    "Para una muestra suficientemente grande tomada al azar y con o sin reemplazo tenemos que:\n",
    "    \n",
    "    la distribución del promdio de las muestras es normal(se ve como una campana).\n",
    "    \n",
    "Tiene una ecuación (sim alrededor de 0).\n",
    "\n",
    "\\begin{equation}\\Huge \\phi(z) := \\frac{1}{\\sqrt{2\\pi}} e^{-\\frac{z^2}{2}}, \\quad -\\infty < z < \\infty. \\end{equation}"
   ]
  },
  {
   "cell_type": "code",
   "execution_count": 10,
   "metadata": {},
   "outputs": [
    {
     "data": {},
     "metadata": {},
     "output_type": "display_data"
    },
    {
     "data": {
      "image/png": "[encoded data removed]",
      "text/plain": [
       "plot without title"
      ]
     },
     "metadata": {},
     "output_type": "display_data"
    }
   ],
   "source": [
    "normal_cdf <- function(mean, sd, pt){\n",
    "    x <- seq(-5, 5, by = 0.001)\n",
    "    y <- dnorm(x, mean = mean, sd = sd, log = FALSE)\n",
    "\n",
    "    xy <- data.frame(x=x, y=y)\n",
    "    \n",
    "    return(ggplot(xy) + geom_line(aes(x=x, y=y)))\n",
    "}\n",
    "\n",
    " normal_cdf(0, 1, T)"
   ]
  },
  {
   "cell_type": "markdown",
   "metadata": {},
   "source": [
    "Para encontrar la proporción de puntos que están entre dos valors calculamos la integral (aprox cuando no se puede calcualr). El área debajo de $\\phi(z)$ es 1."
   ]
  },
  {
   "cell_type": "code",
   "execution_count": 11,
   "metadata": {
    "scrolled": false
   },
   "outputs": [
    {
     "data": {
      "text/html": [
       "0.977249868051821"
      ],
      "text/latex": [
       "0.977249868051821"
      ],
      "text/markdown": [
       "0.977249868051821"
      ],
      "text/plain": [
       "[1] 0.9772499"
      ]
     },
     "metadata": {},
     "output_type": "display_data"
    },
    {
     "data": {},
     "metadata": {},
     "output_type": "display_data"
    },
    {
     "data": {
      "image/png": "[encoded data removed]",
      "text/plain": [
       "plot without title"
      ]
     },
     "metadata": {},
     "output_type": "display_data"
    }
   ],
   "source": [
    "CDF <- function(mean, sd, p){\n",
    "    x <- seq(-5, 5, by = 0.001)\n",
    "    y <- dnorm(x, mean = mean, sd = sd, log = FALSE)\n",
    "\n",
    "    xy <- data.frame(x=x, y=y)\n",
    "    ytop<-dnorm(x = p, mean = mean, sd = sd)\n",
    "    \n",
    "    #First subst the data and add the coordinates to make it shade to y = 0\n",
    "    shade <- rbind(c(p,0), subset(xy, x > p), c(xy[nrow(xy), \"X\"], 0))\n",
    "\n",
    "    #Then use this new data.frame with geom_polygon\n",
    "    # http://stackoverflow.com/questions/10659133/local-variables-within-aes\n",
    "    .e <- environment()\n",
    "    ggplot(xy, enviroment = .e) + geom_line(aes(x=x, y=y)) + \n",
    "        geom_segment(aes(x = p, y = 0, xend = p, yend = ytop)) + geom_polygon(data = shade, aes(x, y)) #+ coord_fixed(ratio = 1)\n",
    "}\n",
    "\n",
    "pnorm(q = 2, mean = 0, sd = 1)\n",
    "CDF(mean = 0, sd = 1, p = 2)"
   ]
  },
  {
   "cell_type": "markdown",
   "metadata": {},
   "source": [
    "Qué proporción representa la parte sombreada?\n",
    "\n",
    "Cómo calcular el área entre -1 y 1? \n"
   ]
  },
  {
   "cell_type": "markdown",
   "metadata": {},
   "source": [
    "# Relaciones entre dos variables\n",
    "\n",
    "Tipos de associación\n",
    "    \n",
    "    Tendencia: Si una vaiable aumenta la otra también. \n",
    "    \n",
    "    Patrones: Hay una forma en la realción.\n",
    "    \n",
    "Para hacer esto primero hacemos un dibujo!\n",
    "       "
   ]
  },
  {
   "cell_type": "code",
   "execution_count": 12,
   "metadata": {},
   "outputs": [
    {
     "data": {
      "text/html": [
       "<table>\n",
       "<thead><tr><th scope=col>symboling</th><th scope=col>normalized.losses</th><th scope=col>make</th><th scope=col>fuel.type</th><th scope=col>aspiration</th><th scope=col>num.of.doors</th><th scope=col>body.style</th><th scope=col>drive.wheels</th><th scope=col>engine.location</th><th scope=col>wheel.base</th><th scope=col>...</th><th scope=col>num.of.cylinders</th><th scope=col>engine.size</th><th scope=col>fuel.syste</th><th scope=col>stroke</th><th scope=col>compression.ratio</th><th scope=col>horsepower</th><th scope=col>peak.rpm</th><th scope=col>city.mpg</th><th scope=col>highway.mpg</th><th scope=col>price</th></tr></thead>\n",
       "<tbody>\n",
       "\t<tr><td>3          </td><td> NA        </td><td>alfa-romero</td><td>gas        </td><td>std        </td><td>two        </td><td>convertible</td><td>rwd        </td><td>front      </td><td>88.6       </td><td>...        </td><td>130        </td><td>mpfi       </td><td>3.47       </td><td>2.68       </td><td> 9.0       </td><td>111        </td><td>5000       </td><td>21         </td><td>27         </td><td>13495      </td></tr>\n",
       "\t<tr><td>3          </td><td> NA        </td><td>alfa-romero</td><td>gas        </td><td>std        </td><td>two        </td><td>convertible</td><td>rwd        </td><td>front      </td><td>88.6       </td><td>...        </td><td>130        </td><td>mpfi       </td><td>3.47       </td><td>2.68       </td><td> 9.0       </td><td>111        </td><td>5000       </td><td>21         </td><td>27         </td><td>16500      </td></tr>\n",
       "\t<tr><td>1          </td><td> NA        </td><td>alfa-romero</td><td>gas        </td><td>std        </td><td>two        </td><td>hatchback  </td><td>rwd        </td><td>front      </td><td>94.5       </td><td>...        </td><td>152        </td><td>mpfi       </td><td>2.68       </td><td>3.47       </td><td> 9.0       </td><td>154        </td><td>5000       </td><td>19         </td><td>26         </td><td>16500      </td></tr>\n",
       "\t<tr><td>2          </td><td>164        </td><td>audi       </td><td>gas        </td><td>std        </td><td>four       </td><td>sedan      </td><td>fwd        </td><td>front      </td><td>99.8       </td><td>...        </td><td>109        </td><td>mpfi       </td><td>3.19       </td><td>3.40       </td><td>10.0       </td><td>102        </td><td>5500       </td><td>24         </td><td>30         </td><td>13950      </td></tr>\n",
       "\t<tr><td>2          </td><td>164        </td><td>audi       </td><td>gas        </td><td>std        </td><td>four       </td><td>sedan      </td><td>4wd        </td><td>front      </td><td>99.4       </td><td>...        </td><td>136        </td><td>mpfi       </td><td>3.19       </td><td>3.40       </td><td> 8.0       </td><td>115        </td><td>5500       </td><td>18         </td><td>22         </td><td>17450      </td></tr>\n",
       "\t<tr><td>2          </td><td> NA        </td><td>audi       </td><td>gas        </td><td>std        </td><td>two        </td><td>sedan      </td><td>fwd        </td><td>front      </td><td>99.8       </td><td>...        </td><td>136        </td><td>mpfi       </td><td>3.19       </td><td>3.40       </td><td> 8.5       </td><td>110        </td><td>5500       </td><td>19         </td><td>25         </td><td>15250      </td></tr>\n",
       "</tbody>\n",
       "</table>\n"
      ],
      "text/latex": [
       "\\begin{tabular}{r|llllllllllllllllllllllllll}\n",
       " symboling & normalized.losses & make & fuel.type & aspiration & num.of.doors & body.style & drive.wheels & engine.location & wheel.base & ... & num.of.cylinders & engine.size & fuel.syste & stroke & compression.ratio & horsepower & peak.rpm & city.mpg & highway.mpg & price\\\\\n",
       "\\hline\n",
       "\t 3           &  NA         & alfa-romero & gas         & std         & two         & convertible & rwd         & front       & 88.6        & ...         & 130         & mpfi        & 3.47        & 2.68        &  9.0        & 111         & 5000        & 21          & 27          & 13495      \\\\\n",
       "\t 3           &  NA         & alfa-romero & gas         & std         & two         & convertible & rwd         & front       & 88.6        & ...         & 130         & mpfi        & 3.47        & 2.68        &  9.0        & 111         & 5000        & 21          & 27          & 16500      \\\\\n",
       "\t 1           &  NA         & alfa-romero & gas         & std         & two         & hatchback   & rwd         & front       & 94.5        & ...         & 152         & mpfi        & 2.68        & 3.47        &  9.0        & 154         & 5000        & 19          & 26          & 16500      \\\\\n",
       "\t 2           & 164         & audi        & gas         & std         & four        & sedan       & fwd         & front       & 99.8        & ...         & 109         & mpfi        & 3.19        & 3.40        & 10.0        & 102         & 5500        & 24          & 30          & 13950      \\\\\n",
       "\t 2           & 164         & audi        & gas         & std         & four        & sedan       & 4wd         & front       & 99.4        & ...         & 136         & mpfi        & 3.19        & 3.40        &  8.0        & 115         & 5500        & 18          & 22          & 17450      \\\\\n",
       "\t 2           &  NA         & audi        & gas         & std         & two         & sedan       & fwd         & front       & 99.8        & ...         & 136         & mpfi        & 3.19        & 3.40        &  8.5        & 110         & 5500        & 19          & 25          & 15250      \\\\\n",
       "\\end{tabular}\n"
      ],
      "text/markdown": [
       "\n",
       "symboling | normalized.losses | make | fuel.type | aspiration | num.of.doors | body.style | drive.wheels | engine.location | wheel.base | ... | num.of.cylinders | engine.size | fuel.syste | stroke | compression.ratio | horsepower | peak.rpm | city.mpg | highway.mpg | price | \n",
       "|---|---|---|---|---|---|\n",
       "| 3           |  NA         | alfa-romero | gas         | std         | two         | convertible | rwd         | front       | 88.6        | ...         | 130         | mpfi        | 3.47        | 2.68        |  9.0        | 111         | 5000        | 21          | 27          | 13495       | \n",
       "| 3           |  NA         | alfa-romero | gas         | std         | two         | convertible | rwd         | front       | 88.6        | ...         | 130         | mpfi        | 3.47        | 2.68        |  9.0        | 111         | 5000        | 21          | 27          | 16500       | \n",
       "| 1           |  NA         | alfa-romero | gas         | std         | two         | hatchback   | rwd         | front       | 94.5        | ...         | 152         | mpfi        | 2.68        | 3.47        |  9.0        | 154         | 5000        | 19          | 26          | 16500       | \n",
       "| 2           | 164         | audi        | gas         | std         | four        | sedan       | fwd         | front       | 99.8        | ...         | 109         | mpfi        | 3.19        | 3.40        | 10.0        | 102         | 5500        | 24          | 30          | 13950       | \n",
       "| 2           | 164         | audi        | gas         | std         | four        | sedan       | 4wd         | front       | 99.4        | ...         | 136         | mpfi        | 3.19        | 3.40        |  8.0        | 115         | 5500        | 18          | 22          | 17450       | \n",
       "| 2           |  NA         | audi        | gas         | std         | two         | sedan       | fwd         | front       | 99.8        | ...         | 136         | mpfi        | 3.19        | 3.40        |  8.5        | 110         | 5500        | 19          | 25          | 15250       | \n",
       "\n",
       "\n"
      ],
      "text/plain": [
       "  symboling normalized.losses make        fuel.type aspiration num.of.doors\n",
       "1 3          NA               alfa-romero gas       std        two         \n",
       "2 3          NA               alfa-romero gas       std        two         \n",
       "3 1          NA               alfa-romero gas       std        two         \n",
       "4 2         164               audi        gas       std        four        \n",
       "5 2         164               audi        gas       std        four        \n",
       "6 2          NA               audi        gas       std        two         \n",
       "  body.style  drive.wheels engine.location wheel.base ... num.of.cylinders\n",
       "1 convertible rwd          front           88.6       ... 130             \n",
       "2 convertible rwd          front           88.6       ... 130             \n",
       "3 hatchback   rwd          front           94.5       ... 152             \n",
       "4 sedan       fwd          front           99.8       ... 109             \n",
       "5 sedan       4wd          front           99.4       ... 136             \n",
       "6 sedan       fwd          front           99.8       ... 136             \n",
       "  engine.size fuel.syste stroke compression.ratio horsepower peak.rpm city.mpg\n",
       "1 mpfi        3.47       2.68    9.0              111        5000     21      \n",
       "2 mpfi        3.47       2.68    9.0              111        5000     21      \n",
       "3 mpfi        2.68       3.47    9.0              154        5000     19      \n",
       "4 mpfi        3.19       3.40   10.0              102        5500     24      \n",
       "5 mpfi        3.19       3.40    8.0              115        5500     18      \n",
       "6 mpfi        3.19       3.40    8.5              110        5500     19      \n",
       "  highway.mpg price\n",
       "1 27          13495\n",
       "2 27          16500\n",
       "3 26          16500\n",
       "4 30          13950\n",
       "5 22          17450\n",
       "6 25          15250"
      ]
     },
     "metadata": {},
     "output_type": "display_data"
    },
    {
     "data": {
      "text/html": [
       "<ol class=list-inline>\n",
       "\t<li>'symboling'</li>\n",
       "\t<li>'normalized.losses'</li>\n",
       "\t<li>'make'</li>\n",
       "\t<li>'fuel.type'</li>\n",
       "\t<li>'aspiration'</li>\n",
       "\t<li>'num.of.doors'</li>\n",
       "\t<li>'body.style'</li>\n",
       "\t<li>'drive.wheels'</li>\n",
       "\t<li>'engine.location'</li>\n",
       "\t<li>'wheel.base'</li>\n",
       "\t<li>'length'</li>\n",
       "\t<li>'width'</li>\n",
       "\t<li>'height'</li>\n",
       "\t<li>'curb.weight'</li>\n",
       "\t<li>'borrom'</li>\n",
       "\t<li>'engine.type'</li>\n",
       "\t<li>'num.of.cylinders'</li>\n",
       "\t<li>'engine.size'</li>\n",
       "\t<li>'fuel.syste'</li>\n",
       "\t<li>'stroke'</li>\n",
       "\t<li>'compression.ratio'</li>\n",
       "\t<li>'horsepower'</li>\n",
       "\t<li>'peak.rpm'</li>\n",
       "\t<li>'city.mpg'</li>\n",
       "\t<li>'highway.mpg'</li>\n",
       "\t<li>'price'</li>\n",
       "</ol>\n"
      ],
      "text/latex": [
       "\\begin{enumerate*}\n",
       "\\item 'symboling'\n",
       "\\item 'normalized.losses'\n",
       "\\item 'make'\n",
       "\\item 'fuel.type'\n",
       "\\item 'aspiration'\n",
       "\\item 'num.of.doors'\n",
       "\\item 'body.style'\n",
       "\\item 'drive.wheels'\n",
       "\\item 'engine.location'\n",
       "\\item 'wheel.base'\n",
       "\\item 'length'\n",
       "\\item 'width'\n",
       "\\item 'height'\n",
       "\\item 'curb.weight'\n",
       "\\item 'borrom'\n",
       "\\item 'engine.type'\n",
       "\\item 'num.of.cylinders'\n",
       "\\item 'engine.size'\n",
       "\\item 'fuel.syste'\n",
       "\\item 'stroke'\n",
       "\\item 'compression.ratio'\n",
       "\\item 'horsepower'\n",
       "\\item 'peak.rpm'\n",
       "\\item 'city.mpg'\n",
       "\\item 'highway.mpg'\n",
       "\\item 'price'\n",
       "\\end{enumerate*}\n"
      ],
      "text/markdown": [
       "1. 'symboling'\n",
       "2. 'normalized.losses'\n",
       "3. 'make'\n",
       "4. 'fuel.type'\n",
       "5. 'aspiration'\n",
       "6. 'num.of.doors'\n",
       "7. 'body.style'\n",
       "8. 'drive.wheels'\n",
       "9. 'engine.location'\n",
       "10. 'wheel.base'\n",
       "11. 'length'\n",
       "12. 'width'\n",
       "13. 'height'\n",
       "14. 'curb.weight'\n",
       "15. 'borrom'\n",
       "16. 'engine.type'\n",
       "17. 'num.of.cylinders'\n",
       "18. 'engine.size'\n",
       "19. 'fuel.syste'\n",
       "20. 'stroke'\n",
       "21. 'compression.ratio'\n",
       "22. 'horsepower'\n",
       "23. 'peak.rpm'\n",
       "24. 'city.mpg'\n",
       "25. 'highway.mpg'\n",
       "26. 'price'\n",
       "\n",
       "\n"
      ],
      "text/plain": [
       " [1] \"symboling\"         \"normalized.losses\" \"make\"             \n",
       " [4] \"fuel.type\"         \"aspiration\"        \"num.of.doors\"     \n",
       " [7] \"body.style\"        \"drive.wheels\"      \"engine.location\"  \n",
       "[10] \"wheel.base\"        \"length\"            \"width\"            \n",
       "[13] \"height\"            \"curb.weight\"       \"borrom\"           \n",
       "[16] \"engine.type\"       \"num.of.cylinders\"  \"engine.size\"      \n",
       "[19] \"fuel.syste\"        \"stroke\"            \"compression.ratio\"\n",
       "[22] \"horsepower\"        \"peak.rpm\"          \"city.mpg\"         \n",
       "[25] \"highway.mpg\"       \"price\"            "
      ]
     },
     "metadata": {},
     "output_type": "display_data"
    }
   ],
   "source": [
    "carros = read.table(file = \"C:/Users/Personal/Data-Science-Students/Tables/imports-85.data\", \n",
    "                    sep = ',', header = T)\n",
    "head(carros)\n",
    "names(carros)"
   ]
  },
  {
   "cell_type": "code",
   "execution_count": 13,
   "metadata": {},
   "outputs": [
    {
     "data": {},
     "metadata": {},
     "output_type": "display_data"
    },
    {
     "data": {
      "image/png": "[encoded data removed]",
      "text/plain": [
       "plot without title"
      ]
     },
     "metadata": {},
     "output_type": "display_data"
    }
   ],
   "source": [
    "ggplot(carros, aes(x=num.of.cylinders, y=city.mpg)) + geom_point()"
   ]
  },
  {
   "cell_type": "code",
   "execution_count": 14,
   "metadata": {},
   "outputs": [
    {
     "name": "stderr",
     "output_type": "stream",
     "text": [
      "Warning message:\n",
      "\"Removed 4 rows containing missing values (geom_point).\""
     ]
    },
    {
     "data": {},
     "metadata": {},
     "output_type": "display_data"
    },
    {
     "data": {
      "image/png": "[encoded data removed]",
      "text/plain": [
       "plot without title"
      ]
     },
     "metadata": {},
     "output_type": "display_data"
    }
   ],
   "source": [
    "ggplot(carros, aes(x=city.mpg, y=price)) + geom_point()"
   ]
  },
  {
   "cell_type": "markdown",
   "metadata": {},
   "source": [
    "# Correlación\n",
    "\n",
    "Mide si la asociación es lineal. \n",
    "\n",
    "Está en unidades estandar.\n",
    "\n",
    "r está entre -1 y 1.\n",
    "\n",
    "    *r = 1 una línea  para arriba (45 grados)\n",
    "    *r = 0 sin correlación.\n",
    "    \n",
    "    \n",
    "http://guessthecorrelation.com/\n"
   ]
  },
  {
   "cell_type": "code",
   "execution_count": 15,
   "metadata": {},
   "outputs": [
    {
     "name": "stderr",
     "output_type": "stream",
     "text": [
      "Warning message:\n",
      "\"Removed 4 rows containing missing values (geom_point).\""
     ]
    },
    {
     "data": {},
     "metadata": {},
     "output_type": "display_data"
    },
    {
     "data": {
      "image/png": "[encoded data removed]",
      "text/plain": [
       "plot without title"
      ]
     },
     "metadata": {},
     "output_type": "display_data"
    }
   ],
   "source": [
    "ggplot(carros, aes(x=num.of.cylinders, y=price)) + geom_point()"
   ]
  },
  {
   "cell_type": "markdown",
   "metadata": {
    "collapsed": true
   },
   "source": [
    "Multiplicar unidades estándar y tomar el promedio.\n",
    "        \n",
    "        Unidades estándar sirven para comparar diferentes dimensiones(2 sd's del promedio). \n",
    "        Multiplicación tiene el buen signo. \n",
    "        No importa el orden: corr(x,y) = corr(y,x)"
   ]
  },
  {
   "cell_type": "code",
   "execution_count": 16,
   "metadata": {},
   "outputs": [
    {
     "data": {},
     "metadata": {},
     "output_type": "display_data"
    },
    {
     "data": {
      "image/png": "[encoded data removed]",
      "text/plain": [
       "plot without title"
      ]
     },
     "metadata": {},
     "output_type": "display_data"
    }
   ],
   "source": [
    "df <- data.frame(peso = c(1, 2, 3, 4, 5, 6), altura = c(1, 3, 2, 5, 5, 6))\n",
    "\n",
    "ggplot(df, aes(peso, altura)) + geom_point()"
   ]
  },
  {
   "cell_type": "code",
   "execution_count": 17,
   "metadata": {},
   "outputs": [
    {
     "data": {},
     "metadata": {},
     "output_type": "display_data"
    },
    {
     "data": {
      "image/png": "[encoded data removed]",
      "text/plain": [
       "plot without title"
      ]
     },
     "metadata": {},
     "output_type": "display_data"
    }
   ],
   "source": [
    "ggplot(df) + geom_point(aes(altura, peso)) # La gente mas alta es también la mas pesda y vice-versa."
   ]
  },
  {
   "cell_type": "markdown",
   "metadata": {},
   "source": [
    "# Correlación no es causalidad\n",
    "\n",
    "Hay una correlación positiva entre el peso y leer bien. Leer mas te hace mas pesado? O ser mas pesado hace que leeas mejor? \n",
    "\n",
    "Qué pasa con la edad? \n",
    "\n",
    "Qué hay que hacer para establecer causalidad? Inferencia en un experimento aleatorio. \n",
    "\n",
    "Siempre hagan un dibujo primero. "
   ]
  },
  {
   "cell_type": "code",
   "execution_count": 18,
   "metadata": {},
   "outputs": [
    {
     "data": {},
     "metadata": {},
     "output_type": "display_data"
    },
    {
     "data": {
      "text/html": [
       "0"
      ],
      "text/latex": [
       "0"
      ],
      "text/markdown": [
       "0"
      ],
      "text/plain": [
       "[1] 0"
      ]
     },
     "metadata": {},
     "output_type": "display_data"
    },
    {
     "data": {
      "image/png": "[encoded data removed]",
      "text/plain": [
       "plot without title"
      ]
     },
     "metadata": {},
     "output_type": "display_data"
    }
   ],
   "source": [
    "x <- 1:9\n",
    "y <- (x-5)^2\n",
    "df <- data.frame(x = x, y = y)\n",
    "\n",
    "ggplot(df) + geom_point(aes(x, y))\n",
    "\n",
    "cor(x, y) # pero hay una relacón! No hay una relación lineal."
   ]
  },
  {
   "cell_type": "code",
   "execution_count": 19,
   "metadata": {},
   "outputs": [
    {
     "data": {},
     "metadata": {},
     "output_type": "display_data"
    },
    {
     "data": {
      "text/html": [
       "0"
      ],
      "text/latex": [
       "0"
      ],
      "text/markdown": [
       "0"
      ],
      "text/plain": [
       "[1] 0"
      ]
     },
     "metadata": {},
     "output_type": "display_data"
    },
    {
     "data": {
      "image/png": "[encoded data removed]",
      "text/plain": [
       "plot without title"
      ]
     },
     "metadata": {},
     "output_type": "display_data"
    }
   ],
   "source": [
    "x <- 1:5\n",
    "y <- c(1, 2, 3, 4, 0)\n",
    "df <- data.frame(x = x, y = y)\n",
    "\n",
    "ggplot(df) + geom_point(aes(x, y))\n",
    "\n",
    "cor(x, y) # un punto puede afectar la correlación. Usen todos los puntos! Investiguen porque son así. "
   ]
  },
  {
   "cell_type": "code",
   "execution_count": 20,
   "metadata": {},
   "outputs": [
    {
     "data": {
      "text/html": [
       "<table>\n",
       "<thead><tr><th scope=col>State</th><th scope=col>Participation</th><th scope=col>Reading</th><th scope=col>Math</th><th scope=col>Writing</th><th scope=col>Total</th><th scope=col>New.SAT</th></tr></thead>\n",
       "<tbody>\n",
       "\t<tr><td>Alabama   </td><td> 6        </td><td>557       </td><td>551       </td><td>543       </td><td>1651      </td><td>1190      </td></tr>\n",
       "\t<tr><td>Alaska    </td><td>52        </td><td>485       </td><td>479       </td><td>460       </td><td>1424      </td><td>1040      </td></tr>\n",
       "\t<tr><td>Arizona   </td><td>34        </td><td>528       </td><td>532       </td><td>505       </td><td>1565      </td><td>1140      </td></tr>\n",
       "\t<tr><td>Arkansas  </td><td> 4        </td><td>570       </td><td>569       </td><td>553       </td><td>1692      </td><td>1210      </td></tr>\n",
       "\t<tr><td>California</td><td>60        </td><td>491       </td><td>500       </td><td>485       </td><td>1476      </td><td>1080      </td></tr>\n",
       "\t<tr><td>Colorado  </td><td>12        </td><td>587       </td><td>589       </td><td>571       </td><td>1747      </td><td>1250      </td></tr>\n",
       "</tbody>\n",
       "</table>\n"
      ],
      "text/latex": [
       "\\begin{tabular}{r|lllllll}\n",
       " State & Participation & Reading & Math & Writing & Total & New.SAT\\\\\n",
       "\\hline\n",
       "\t Alabama    &  6         & 557        & 551        & 543        & 1651       & 1190      \\\\\n",
       "\t Alaska     & 52         & 485        & 479        & 460        & 1424       & 1040      \\\\\n",
       "\t Arizona    & 34         & 528        & 532        & 505        & 1565       & 1140      \\\\\n",
       "\t Arkansas   &  4         & 570        & 569        & 553        & 1692       & 1210      \\\\\n",
       "\t California & 60         & 491        & 500        & 485        & 1476       & 1080      \\\\\n",
       "\t Colorado   & 12         & 587        & 589        & 571        & 1747       & 1250      \\\\\n",
       "\\end{tabular}\n"
      ],
      "text/markdown": [
       "\n",
       "State | Participation | Reading | Math | Writing | Total | New.SAT | \n",
       "|---|---|---|---|---|---|\n",
       "| Alabama    |  6         | 557        | 551        | 543        | 1651       | 1190       | \n",
       "| Alaska     | 52         | 485        | 479        | 460        | 1424       | 1040       | \n",
       "| Arizona    | 34         | 528        | 532        | 505        | 1565       | 1140       | \n",
       "| Arkansas   |  4         | 570        | 569        | 553        | 1692       | 1210       | \n",
       "| California | 60         | 491        | 500        | 485        | 1476       | 1080       | \n",
       "| Colorado   | 12         | 587        | 589        | 571        | 1747       | 1250       | \n",
       "\n",
       "\n"
      ],
      "text/plain": [
       "  State      Participation Reading Math Writing Total New.SAT\n",
       "1 Alabama     6            557     551  543     1651  1190   \n",
       "2 Alaska     52            485     479  460     1424  1040   \n",
       "3 Arizona    34            528     532  505     1565  1140   \n",
       "4 Arkansas    4            570     569  553     1692  1210   \n",
       "5 California 60            491     500  485     1476  1080   \n",
       "6 Colorado   12            587     589  571     1747  1250   "
      ]
     },
     "metadata": {},
     "output_type": "display_data"
    },
    {
     "data": {
      "text/html": [
       "<ol class=list-inline>\n",
       "\t<li>'State'</li>\n",
       "\t<li>'Participation'</li>\n",
       "\t<li>'Reading'</li>\n",
       "\t<li>'Math'</li>\n",
       "\t<li>'Writing'</li>\n",
       "\t<li>'Total'</li>\n",
       "\t<li>'New.SAT'</li>\n",
       "</ol>\n"
      ],
      "text/latex": [
       "\\begin{enumerate*}\n",
       "\\item 'State'\n",
       "\\item 'Participation'\n",
       "\\item 'Reading'\n",
       "\\item 'Math'\n",
       "\\item 'Writing'\n",
       "\\item 'Total'\n",
       "\\item 'New.SAT'\n",
       "\\end{enumerate*}\n"
      ],
      "text/markdown": [
       "1. 'State'\n",
       "2. 'Participation'\n",
       "3. 'Reading'\n",
       "4. 'Math'\n",
       "5. 'Writing'\n",
       "6. 'Total'\n",
       "7. 'New.SAT'\n",
       "\n",
       "\n"
      ],
      "text/plain": [
       "[1] \"State\"         \"Participation\" \"Reading\"       \"Math\"         \n",
       "[5] \"Writing\"       \"Total\"         \"New.SAT\"      "
      ]
     },
     "metadata": {},
     "output_type": "display_data"
    }
   ],
   "source": [
    "# http://blog.prepscholar.com/average-sat-scores-by-state-most-recent\n",
    "SAT = read.table(file = \"C:/Users/Personal/Data-Science-Students/Tables/sat.csv\", \n",
    "                    sep = \"\\t\", header = T)\n",
    "head(SAT)\n",
    "names(SAT)"
   ]
  },
  {
   "cell_type": "code",
   "execution_count": 21,
   "metadata": {},
   "outputs": [
    {
     "data": {},
     "metadata": {},
     "output_type": "display_data"
    },
    {
     "data": {
      "text/html": [
       "0.986741921325804"
      ],
      "text/latex": [
       "0.986741921325804"
      ],
      "text/markdown": [
       "0.986741921325804"
      ],
      "text/plain": [
       "[1] 0.9867419"
      ]
     },
     "metadata": {},
     "output_type": "display_data"
    },
    {
     "data": {
      "image/png": "[encoded data removed]",
      "text/plain": [
       "plot without title"
      ]
     },
     "metadata": {},
     "output_type": "display_data"
    }
   ],
   "source": [
    "ggplot(SAT, aes(x=Reading, y=Math)) + geom_point() \n",
    "cor(SAT$Reading, SAT$Math)"
   ]
  },
  {
   "cell_type": "code",
   "execution_count": 22,
   "metadata": {},
   "outputs": [
    {
     "data": {},
     "metadata": {},
     "output_type": "display_data"
    },
    {
     "data": {
      "text/html": [
       "<strong>png:</strong> 2"
      ],
      "text/latex": [
       "\\textbf{png:} 2"
      ],
      "text/markdown": [
       "**png:** 2"
      ],
      "text/plain": [
       "png \n",
       "  2 "
      ]
     },
     "metadata": {},
     "output_type": "display_data"
    }
   ],
   "source": [
    "SAT_SU <- SAT %>% mutate(Reading_SU = (Reading-mean(Reading))/sd(Reading), Math_SU = (Math - mean(Math))/sd(Math))\n",
    "\n",
    "png(\"regMatLec.png\", width=20, height=16, units = 'cm', res=300)\n",
    "ggplot(SAT_SU, aes(x=Reading, y=Math)) + geom_point() + #geom_abline(slope = cor(SAT_SU$Reading_SU, SAT_SU$Math_SU)) + \n",
    "        geom_smooth(method = lm, se=FALSE) + \n",
    "        xlab('Nota Lectura') + ylab('Nota Matemáticas') +\n",
    "        ggtitle('Línea de regresión entre las notas de matemáticas y de lectura \\n Las notas están entre 0 y 700') + \n",
    "        theme_light()\n",
    "dev.off()\n",
    "\n",
    "\n"
   ]
  },
  {
   "cell_type": "markdown",
   "metadata": {},
   "source": [
    "Puedo predecir la nota en mate si se la de lectura? \n",
    "\n",
    "\n",
    "Cuidado: Cada punto representa un estado. La correlción no es tan grande. \n"
   ]
  },
  {
   "cell_type": "code",
   "execution_count": 23,
   "metadata": {},
   "outputs": [
    {
     "data": {
      "text/html": [
       "<table>\n",
       "<thead><tr><th scope=col>State</th><th scope=col>Participation</th><th scope=col>Reading</th><th scope=col>Math</th><th scope=col>Writing</th><th scope=col>Total</th><th scope=col>New.SAT</th></tr></thead>\n",
       "<tbody>\n",
       "\t<tr><td>Illinois </td><td>4        </td><td>605      </td><td>622      </td><td>592      </td><td>1819     </td><td>1300     </td></tr>\n",
       "\t<tr><td>Minnesota</td><td>5        </td><td>607      </td><td>620      </td><td>588      </td><td>1815     </td><td>1300     </td></tr>\n",
       "\t<tr><td>Wisconsin</td><td>4        </td><td>605      </td><td>618      </td><td>588      </td><td>1811     </td><td>1290     </td></tr>\n",
       "\t<tr><td>Missouri </td><td>4        </td><td>605      </td><td>608      </td><td>589      </td><td>1802     </td><td>1290     </td></tr>\n",
       "\t<tr><td>Wyoming  </td><td>3        </td><td>603      </td><td>600      </td><td>587      </td><td>1790     </td><td>1280     </td></tr>\n",
       "\t<tr><td>Kentucky </td><td>4        </td><td>604      </td><td>599      </td><td>586      </td><td>1789     </td><td>1280     </td></tr>\n",
       "</tbody>\n",
       "</table>\n"
      ],
      "text/latex": [
       "\\begin{tabular}{r|lllllll}\n",
       " State & Participation & Reading & Math & Writing & Total & New.SAT\\\\\n",
       "\\hline\n",
       "\t Illinois  & 4         & 605       & 622       & 592       & 1819      & 1300     \\\\\n",
       "\t Minnesota & 5         & 607       & 620       & 588       & 1815      & 1300     \\\\\n",
       "\t Wisconsin & 4         & 605       & 618       & 588       & 1811      & 1290     \\\\\n",
       "\t Missouri  & 4         & 605       & 608       & 589       & 1802      & 1290     \\\\\n",
       "\t Wyoming   & 3         & 603       & 600       & 587       & 1790      & 1280     \\\\\n",
       "\t Kentucky  & 4         & 604       & 599       & 586       & 1789      & 1280     \\\\\n",
       "\\end{tabular}\n"
      ],
      "text/markdown": [
       "\n",
       "State | Participation | Reading | Math | Writing | Total | New.SAT | \n",
       "|---|---|---|---|---|---|\n",
       "| Illinois  | 4         | 605       | 622       | 592       | 1819      | 1300      | \n",
       "| Minnesota | 5         | 607       | 620       | 588       | 1815      | 1300      | \n",
       "| Wisconsin | 4         | 605       | 618       | 588       | 1811      | 1290      | \n",
       "| Missouri  | 4         | 605       | 608       | 589       | 1802      | 1290      | \n",
       "| Wyoming   | 3         | 603       | 600       | 587       | 1790      | 1280      | \n",
       "| Kentucky  | 4         | 604       | 599       | 586       | 1789      | 1280      | \n",
       "\n",
       "\n"
      ],
      "text/plain": [
       "  State     Participation Reading Math Writing Total New.SAT\n",
       "1 Illinois  4             605     622  592     1819  1300   \n",
       "2 Minnesota 5             607     620  588     1815  1300   \n",
       "3 Wisconsin 4             605     618  588     1811  1290   \n",
       "4 Missouri  4             605     608  589     1802  1290   \n",
       "5 Wyoming   3             603     600  587     1790  1280   \n",
       "6 Kentucky  4             604     599  586     1789  1280   "
      ]
     },
     "metadata": {},
     "output_type": "display_data"
    }
   ],
   "source": [
    "SAT %>% arrange(desc(Total)) %>% head()"
   ]
  },
  {
   "cell_type": "code",
   "execution_count": 24,
   "metadata": {},
   "outputs": [
    {
     "data": {},
     "metadata": {},
     "output_type": "display_data"
    },
    {
     "data": {
      "image/png": "[encoded data removed]",
      "text/plain": [
       "plot without title"
      ]
     },
     "metadata": {},
     "output_type": "display_data"
    }
   ],
   "source": [
    "ggplot(SAT, aes(Total, Participation)) + geom_point()"
   ]
  },
  {
   "cell_type": "code",
   "execution_count": 25,
   "metadata": {},
   "outputs": [
    {
     "data": {
      "text/html": [
       "<table>\n",
       "<thead><tr><th scope=col>State</th><th scope=col>Participation</th><th scope=col>Reading</th><th scope=col>Math</th><th scope=col>Writing</th><th scope=col>Total</th><th scope=col>New.SAT</th></tr></thead>\n",
       "<tbody>\n",
       "\t<tr><td>Alabama   </td><td> 6        </td><td>557       </td><td>551       </td><td>543       </td><td>1651      </td><td>1190      </td></tr>\n",
       "\t<tr><td>Alaska    </td><td>52        </td><td>485       </td><td>479       </td><td>460       </td><td>1424      </td><td>1040      </td></tr>\n",
       "\t<tr><td>Arizona   </td><td>34        </td><td>528       </td><td>532       </td><td>505       </td><td>1565      </td><td>1140      </td></tr>\n",
       "\t<tr><td>Arkansas  </td><td> 4        </td><td>570       </td><td>569       </td><td>553       </td><td>1692      </td><td>1210      </td></tr>\n",
       "\t<tr><td>California</td><td>60        </td><td>491       </td><td>500       </td><td>485       </td><td>1476      </td><td>1080      </td></tr>\n",
       "\t<tr><td>Colorado  </td><td>12        </td><td>587       </td><td>589       </td><td>571       </td><td>1747      </td><td>1250      </td></tr>\n",
       "</tbody>\n",
       "</table>\n"
      ],
      "text/latex": [
       "\\begin{tabular}{r|lllllll}\n",
       " State & Participation & Reading & Math & Writing & Total & New.SAT\\\\\n",
       "\\hline\n",
       "\t Alabama    &  6         & 557        & 551        & 543        & 1651       & 1190      \\\\\n",
       "\t Alaska     & 52         & 485        & 479        & 460        & 1424       & 1040      \\\\\n",
       "\t Arizona    & 34         & 528        & 532        & 505        & 1565       & 1140      \\\\\n",
       "\t Arkansas   &  4         & 570        & 569        & 553        & 1692       & 1210      \\\\\n",
       "\t California & 60         & 491        & 500        & 485        & 1476       & 1080      \\\\\n",
       "\t Colorado   & 12         & 587        & 589        & 571        & 1747       & 1250      \\\\\n",
       "\\end{tabular}\n"
      ],
      "text/markdown": [
       "\n",
       "State | Participation | Reading | Math | Writing | Total | New.SAT | \n",
       "|---|---|---|---|---|---|\n",
       "| Alabama    |  6         | 557        | 551        | 543        | 1651       | 1190       | \n",
       "| Alaska     | 52         | 485        | 479        | 460        | 1424       | 1040       | \n",
       "| Arizona    | 34         | 528        | 532        | 505        | 1565       | 1140       | \n",
       "| Arkansas   |  4         | 570        | 569        | 553        | 1692       | 1210       | \n",
       "| California | 60         | 491        | 500        | 485        | 1476       | 1080       | \n",
       "| Colorado   | 12         | 587        | 589        | 571        | 1747       | 1250       | \n",
       "\n",
       "\n"
      ],
      "text/plain": [
       "  State      Participation Reading Math Writing Total New.SAT\n",
       "1 Alabama     6            557     551  543     1651  1190   \n",
       "2 Alaska     52            485     479  460     1424  1040   \n",
       "3 Arizona    34            528     532  505     1565  1140   \n",
       "4 Arkansas    4            570     569  553     1692  1210   \n",
       "5 California 60            491     500  485     1476  1080   \n",
       "6 Colorado   12            587     589  571     1747  1250   "
      ]
     },
     "metadata": {},
     "output_type": "display_data"
    }
   ],
   "source": [
    "SAT %>% head() # Alabama: pocos estudiantes. Probablemente los mejores tratan de entrar a las U con prestigio."
   ]
  },
  {
   "cell_type": "markdown",
   "metadata": {},
   "source": [
    "Cuidado con agragaciones, no linearidad, outliers."
   ]
  }
 ],
 "metadata": {
  "anaconda-cloud": {},
  "kernelspec": {
   "display_name": "R 3.3",
   "language": "R",
   "name": "ir33"
  },
  "language_info": {
   "codemirror_mode": "r",
   "file_extension": ".r",
   "mimetype": "text/x-r-source",
   "name": "R",
   "pygments_lexer": "r",
   "version": "3.3.3"
  }
 },
 "nbformat": 4,
 "nbformat_minor": 1
}
