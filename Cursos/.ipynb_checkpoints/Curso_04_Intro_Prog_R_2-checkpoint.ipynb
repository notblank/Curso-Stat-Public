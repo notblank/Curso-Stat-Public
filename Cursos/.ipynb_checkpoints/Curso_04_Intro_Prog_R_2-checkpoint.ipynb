{
 "cells": [
  {
   "cell_type": "markdown",
   "metadata": {},
   "source": [
    "# Otros Tipos"
   ]
  },
  {
   "cell_type": "markdown",
   "metadata": {},
   "source": [
    "R sirve para manipular otros tipos de datos también.\n",
    "\n",
    "## Caracteres (Strings, Characters)"
   ]
  },
  {
   "cell_type": "code",
   "execution_count": 1,
   "metadata": {},
   "outputs": [
    {
     "data": {
      "text/html": [
       "'a'"
      ],
      "text/latex": [
       "'a'"
      ],
      "text/markdown": [
       "'a'"
      ],
      "text/plain": [
       "[1] \"a\""
      ]
     },
     "metadata": {},
     "output_type": "display_data"
    },
    {
     "data": {
      "text/html": [
       "'a'"
      ],
      "text/latex": [
       "'a'"
      ],
      "text/markdown": [
       "'a'"
      ],
      "text/plain": [
       "[1] \"a\""
      ]
     },
     "metadata": {},
     "output_type": "display_data"
    },
    {
     "data": {
      "text/html": [
       "'256'"
      ],
      "text/latex": [
       "'256'"
      ],
      "text/markdown": [
       "'256'"
      ],
      "text/plain": [
       "[1] \"256\""
      ]
     },
     "metadata": {},
     "output_type": "display_data"
    },
    {
     "data": {
      "text/html": [
       "'palabra1, palabra2'"
      ],
      "text/latex": [
       "'palabra1, palabra2'"
      ],
      "text/markdown": [
       "'palabra1, palabra2'"
      ],
      "text/plain": [
       "[1] \"palabra1, palabra2\""
      ]
     },
     "metadata": {},
     "output_type": "display_data"
    },
    {
     "data": {
      "text/html": [
       "'Nadie sabe donde está el robot 2'"
      ],
      "text/latex": [
       "'Nadie sabe donde está el robot 2'"
      ],
      "text/markdown": [
       "'Nadie sabe donde está el robot 2'"
      ],
      "text/plain": [
       "[1] \"Nadie sabe donde está el robot 2\""
      ]
     },
     "metadata": {},
     "output_type": "display_data"
    }
   ],
   "source": [
    "\"a\"\n",
    "'a'\n",
    "'256'\n",
    "'palabra1, palabra2'\n",
    "'Nadie sabe donde está el robot 2' # Puede ser un libro entero. "
   ]
  },
  {
   "cell_type": "code",
   "execution_count": 2,
   "metadata": {},
   "outputs": [
    {
     "ename": "ERROR",
     "evalue": "Error in \"a\" + \"b\": argumento no-numérico para operador binario\n",
     "output_type": "error",
     "traceback": [
      "Error in \"a\" + \"b\": argumento no-numérico para operador binario\nTraceback:\n"
     ]
    }
   ],
   "source": [
    "'a' + 'b'"
   ]
  },
  {
   "cell_type": "markdown",
   "metadata": {},
   "source": [
    "Culaquier cosa se puede convertir en un caracter."
   ]
  },
  {
   "cell_type": "code",
   "execution_count": 1,
   "metadata": {},
   "outputs": [
    {
     "data": {
      "text/html": [
       "'2'"
      ],
      "text/latex": [
       "'2'"
      ],
      "text/markdown": [
       "'2'"
      ],
      "text/plain": [
       "[1] \"2\""
      ]
     },
     "metadata": {},
     "output_type": "display_data"
    }
   ],
   "source": [
    "as.character(2)"
   ]
  },
  {
   "cell_type": "markdown",
   "metadata": {},
   "source": [
    "### Algunas funciones para caracteres (characters/ strings)\n",
    "\n",
    "    *strsplit <- corta una frase en el lugar designado por el segundo argumento. Problema: Devuelve una lista!\n",
    "        * a veces mejor usar gsub\n",
    "    *strtrim <- número de caracteres permitido en un string.\n",
    "    *pueden buscar un pedezo de frase y reemplazarlo; \n"
   ]
  },
  {
   "cell_type": "code",
   "execution_count": 7,
   "metadata": {},
   "outputs": [
    {
     "data": {
      "text/html": [
       "'El perro '"
      ],
      "text/latex": [
       "'El perro '"
      ],
      "text/markdown": [
       "'El perro '"
      ],
      "text/plain": [
       "[1] \"El perro \""
      ]
     },
     "metadata": {},
     "output_type": "display_data"
    },
    {
     "data": {
      "text/html": [
       "' desierto'"
      ],
      "text/latex": [
       "' desierto'"
      ],
      "text/markdown": [
       "' desierto'"
      ],
      "text/plain": [
       "[1] \" desierto\""
      ]
     },
     "metadata": {},
     "output_type": "display_data"
    },
    {
     "data": {
      "text/html": [
       "<ol>\n",
       "\t<li><ol class=list-inline>\n",
       "\t<li>'El perro '</li>\n",
       "\t<li>' desierto'</li>\n",
       "</ol>\n",
       "</li>\n",
       "</ol>\n"
      ],
      "text/latex": [
       "\\begin{enumerate}\n",
       "\\item \\begin{enumerate*}\n",
       "\\item 'El perro '\n",
       "\\item ' desierto'\n",
       "\\end{enumerate*}\n",
       "\n",
       "\\end{enumerate}\n"
      ],
      "text/markdown": [
       "1. 1. 'El perro '\n",
       "2. ' desierto'\n",
       "\n",
       "\n",
       "\n",
       "\n",
       "\n"
      ],
      "text/plain": [
       "[[1]]\n",
       "[1] \"El perro \" \" desierto\"\n"
      ]
     },
     "metadata": {},
     "output_type": "display_data"
    }
   ],
   "source": [
    "frase <- \"El perro del desierto\"\n",
    "\n",
    "f.split <- strsplit(frase, \"del\")\n",
    "\n",
    "f.split[[1]][1]\n",
    "f.split[[1]][2]\n",
    "\n",
    "f.split"
   ]
  },
  {
   "cell_type": "markdown",
   "metadata": {},
   "source": [
    "## Vectores\n",
    "\n",
    "Contienen elementos del mismo tipo. "
   ]
  },
  {
   "cell_type": "code",
   "execution_count": 3,
   "metadata": {},
   "outputs": [
    {
     "data": {
      "text/html": [
       "45"
      ],
      "text/latex": [
       "45"
      ],
      "text/markdown": [
       "45"
      ],
      "text/plain": [
       "[1] 45"
      ]
     },
     "metadata": {},
     "output_type": "display_data"
    },
    {
     "data": {
      "text/html": [
       "<ol class=list-inline>\n",
       "\t<li>'Hola'</li>\n",
       "\t<li>'hola'</li>\n",
       "\t<li>'hOlA'</li>\n",
       "</ol>\n"
      ],
      "text/latex": [
       "\\begin{enumerate*}\n",
       "\\item 'Hola'\n",
       "\\item 'hola'\n",
       "\\item 'hOlA'\n",
       "\\end{enumerate*}\n"
      ],
      "text/markdown": [
       "1. 'Hola'\n",
       "2. 'hola'\n",
       "3. 'hOlA'\n",
       "\n",
       "\n"
      ],
      "text/plain": [
       "[1] \"Hola\" \"hola\" \"hOlA\""
      ]
     },
     "metadata": {},
     "output_type": "display_data"
    }
   ],
   "source": [
    "nums <- c(1, 9, 45)\n",
    "nums[3]\n",
    "\n",
    "c('Hola', 'hola', 'hOlA')"
   ]
  },
  {
   "cell_type": "code",
   "execution_count": 4,
   "metadata": {},
   "outputs": [
    {
     "data": {
      "text/html": [
       "<ol class=list-inline>\n",
       "\t<li>'1'</li>\n",
       "\t<li>'a'</li>\n",
       "</ol>\n"
      ],
      "text/latex": [
       "\\begin{enumerate*}\n",
       "\\item '1'\n",
       "\\item 'a'\n",
       "\\end{enumerate*}\n"
      ],
      "text/markdown": [
       "1. '1'\n",
       "2. 'a'\n",
       "\n",
       "\n"
      ],
      "text/plain": [
       "[1] \"1\" \"a\""
      ]
     },
     "metadata": {},
     "output_type": "display_data"
    }
   ],
   "source": [
    "c(1, 'a')"
   ]
  },
  {
   "cell_type": "markdown",
   "metadata": {},
   "source": [
    "Pueden hacer álgebra y aritmética con los vectores. "
   ]
  },
  {
   "cell_type": "code",
   "execution_count": 17,
   "metadata": {},
   "outputs": [
    {
     "data": {
      "text/html": [
       "<ol class=list-inline>\n",
       "\t<li>1</li>\n",
       "\t<li>2</li>\n",
       "\t<li>3</li>\n",
       "</ol>\n"
      ],
      "text/latex": [
       "\\begin{enumerate*}\n",
       "\\item 1\n",
       "\\item 2\n",
       "\\item 3\n",
       "\\end{enumerate*}\n"
      ],
      "text/markdown": [
       "1. 1\n",
       "2. 2\n",
       "3. 3\n",
       "\n",
       "\n"
      ],
      "text/plain": [
       "[1] 1 2 3"
      ]
     },
     "metadata": {},
     "output_type": "display_data"
    },
    {
     "data": {
      "text/html": [
       "<ol class=list-inline>\n",
       "\t<li>2</li>\n",
       "\t<li>3</li>\n",
       "\t<li>4</li>\n",
       "</ol>\n"
      ],
      "text/latex": [
       "\\begin{enumerate*}\n",
       "\\item 2\n",
       "\\item 3\n",
       "\\item 4\n",
       "\\end{enumerate*}\n"
      ],
      "text/markdown": [
       "1. 2\n",
       "2. 3\n",
       "3. 4\n",
       "\n",
       "\n"
      ],
      "text/plain": [
       "[1] 2 3 4"
      ]
     },
     "metadata": {},
     "output_type": "display_data"
    }
   ],
   "source": [
    "x <- c(1, 2, 3)\n",
    "x_mas_1 <- x + 1\n",
    "\n",
    "x \n",
    "x_mas_1"
   ]
  },
  {
   "cell_type": "code",
   "execution_count": 24,
   "metadata": {},
   "outputs": [
    {
     "data": {
      "text/html": [
       "1540"
      ],
      "text/latex": [
       "1540"
      ],
      "text/markdown": [
       "1540"
      ],
      "text/plain": [
       "[1] 1540"
      ]
     },
     "metadata": {},
     "output_type": "display_data"
    }
   ],
   "source": [
    "x <- 1:55\n",
    "sum(x)"
   ]
  },
  {
   "cell_type": "code",
   "execution_count": 27,
   "metadata": {},
   "outputs": [
    {
     "data": {
      "text/html": [
       "<ol class=list-inline>\n",
       "\t<li>16</li>\n",
       "\t<li>32</li>\n",
       "\t<li>48</li>\n",
       "</ol>\n"
      ],
      "text/latex": [
       "\\begin{enumerate*}\n",
       "\\item 16\n",
       "\\item 32\n",
       "\\item 48\n",
       "\\end{enumerate*}\n"
      ],
      "text/markdown": [
       "1. 16\n",
       "2. 32\n",
       "3. 48\n",
       "\n",
       "\n"
      ],
      "text/plain": [
       "[1] 16 32 48"
      ]
     },
     "metadata": {},
     "output_type": "display_data"
    },
    {
     "data": {
      "text/html": [
       "<ol class=list-inline>\n",
       "\t<li>1</li>\n",
       "\t<li>4</li>\n",
       "\t<li>9</li>\n",
       "</ol>\n"
      ],
      "text/latex": [
       "\\begin{enumerate*}\n",
       "\\item 1\n",
       "\\item 4\n",
       "\\item 9\n",
       "\\end{enumerate*}\n"
      ],
      "text/markdown": [
       "1. 1\n",
       "2. 4\n",
       "3. 9\n",
       "\n",
       "\n"
      ],
      "text/plain": [
       "[1] 1 4 9"
      ]
     },
     "metadata": {},
     "output_type": "display_data"
    },
    {
     "data": {
      "text/html": [
       "<ol class=list-inline>\n",
       "\t<li>1</li>\n",
       "\t<li>4</li>\n",
       "\t<li>27</li>\n",
       "</ol>\n"
      ],
      "text/latex": [
       "\\begin{enumerate*}\n",
       "\\item 1\n",
       "\\item 4\n",
       "\\item 27\n",
       "\\end{enumerate*}\n"
      ],
      "text/markdown": [
       "1. 1\n",
       "2. 4\n",
       "3. 27\n",
       "\n",
       "\n"
      ],
      "text/plain": [
       "[1]  1  4 27"
      ]
     },
     "metadata": {},
     "output_type": "display_data"
    }
   ],
   "source": [
    "x <- c(1, 2, 3)\n",
    "y <- c(2, 2, 2)\n",
    "\n",
    "x * 16\n",
    "\n",
    "x*x\n",
    "\n",
    "x^x"
   ]
  },
  {
   "cell_type": "code",
   "execution_count": 28,
   "metadata": {},
   "outputs": [
    {
     "data": {
      "text/html": [
       "<ol class=list-inline>\n",
       "\t<li>2</li>\n",
       "\t<li>4</li>\n",
       "\t<li>6</li>\n",
       "</ol>\n"
      ],
      "text/latex": [
       "\\begin{enumerate*}\n",
       "\\item 2\n",
       "\\item 4\n",
       "\\item 6\n",
       "\\end{enumerate*}\n"
      ],
      "text/markdown": [
       "1. 2\n",
       "2. 4\n",
       "3. 6\n",
       "\n",
       "\n"
      ],
      "text/plain": [
       "[1] 2 4 6"
      ]
     },
     "metadata": {},
     "output_type": "display_data"
    }
   ],
   "source": [
    "x <- c(1, 2, 3)\n",
    "y <- c(2, 2, 2)\n",
    "\n",
    "x*y"
   ]
  },
  {
   "cell_type": "markdown",
   "metadata": {},
   "source": [
    "Población promedio\n",
    "\n",
    "        https://en.wikipedia.org/wiki/World_population\n",
    "        \n",
    "       \n",
    "World historical and predicted populations (in millions)[115][116][117]\n",
    "\n",
    "Region\t1500\t1600\t1700\t1750\t1800\t1850\t1900\t1950\t1999\t2008\t2010\t2012\t2050\t2150\n",
    "\n",
    "World\t585\t660\t710\t791\t978\t1,262\t1,650\t2,521\t6,008\t6,707\t6,896\t7,052\t9,725\t9,746"
   ]
  },
  {
   "cell_type": "code",
   "execution_count": 2,
   "metadata": {},
   "outputs": [
    {
     "data": {
      "text/html": [
       "<ol class=list-inline>\n",
       "\t<li>585</li>\n",
       "\t<li>660</li>\n",
       "\t<li>710</li>\n",
       "</ol>\n"
      ],
      "text/latex": [
       "\\begin{enumerate*}\n",
       "\\item 585\n",
       "\\item 660\n",
       "\\item 710\n",
       "\\end{enumerate*}\n"
      ],
      "text/markdown": [
       "1. 585\n",
       "2. 660\n",
       "3. 710\n",
       "\n",
       "\n"
      ],
      "text/plain": [
       "[1] 585 660 710"
      ]
     },
     "metadata": {},
     "output_type": "display_data"
    }
   ],
   "source": [
    "pop_1500 <- 585 \n",
    "pop <- c(pop_1500, pop_1500 + 75, \n",
    "         pop_1500 + 125)\n",
    "pop"
   ]
  },
  {
   "cell_type": "code",
   "execution_count": 3,
   "metadata": {},
   "outputs": [
    {
     "data": {
      "text/html": [
       "651.666666666667"
      ],
      "text/latex": [
       "651.666666666667"
      ],
      "text/markdown": [
       "651.666666666667"
      ],
      "text/plain": [
       "[1] 651.6667"
      ]
     },
     "metadata": {},
     "output_type": "display_data"
    },
    {
     "data": {
      "text/html": [
       "651.666666666667"
      ],
      "text/latex": [
       "651.666666666667"
      ],
      "text/markdown": [
       "651.666666666667"
      ],
      "text/plain": [
       "[1] 651.6667"
      ]
     },
     "metadata": {},
     "output_type": "display_data"
    }
   ],
   "source": [
    "# Pobalción promedio entre 1500 - 1750\n",
    "\n",
    "sum(pop)/length(pop) # suma total/ largo del vector.\n",
    "mean(pop)"
   ]
  },
  {
   "cell_type": "code",
   "execution_count": 4,
   "metadata": {},
   "outputs": [
    {
     "data": {
      "text/html": [
       "660"
      ],
      "text/latex": [
       "660"
      ],
      "text/markdown": [
       "660"
      ],
      "text/plain": [
       "[1] 660"
      ]
     },
     "metadata": {},
     "output_type": "display_data"
    }
   ],
   "source": [
    "# 1500 1600 1700 1750\n",
    "# 585  660  710  791\n",
    "pop_1600 <- pop[2]\n",
    "pop_1600"
   ]
  },
  {
   "cell_type": "code",
   "execution_count": 7,
   "metadata": {},
   "outputs": [
    {
     "data": {
      "text/html": [
       "62.5"
      ],
      "text/latex": [
       "62.5"
      ],
      "text/markdown": [
       "62.5"
      ],
      "text/plain": [
       "[1] 62.5"
      ]
     },
     "metadata": {},
     "output_type": "display_data"
    },
    {
     "data": {
      "text/html": [
       "62.5"
      ],
      "text/latex": [
       "62.5"
      ],
      "text/markdown": [
       "62.5"
      ],
      "text/plain": [
       "[1] 62.5"
      ]
     },
     "metadata": {},
     "output_type": "display_data"
    }
   ],
   "source": [
    "dif_period <- diff(pop)\n",
    "mean(dif_period)\n",
    "sum(dif_period)/length(dif_period)"
   ]
  },
  {
   "cell_type": "code",
   "execution_count": 8,
   "metadata": {},
   "outputs": [
    {
     "data": {
      "text/html": [
       "62.5"
      ],
      "text/latex": [
       "62.5"
      ],
      "text/markdown": [
       "62.5"
      ],
      "text/plain": [
       "[1] 62.5"
      ]
     },
     "metadata": {},
     "output_type": "display_data"
    }
   ],
   "source": [
    "mean(diff(pop))\n"
   ]
  },
  {
   "cell_type": "markdown",
   "metadata": {},
   "source": [
    "## Secuencias\n",
    "\n",
    "Vector construido desde cero. Tiene una estructura secuencial. "
   ]
  },
  {
   "cell_type": "code",
   "execution_count": 52,
   "metadata": {},
   "outputs": [
    {
     "data": {
      "text/html": [
       "<ol class=list-inline>\n",
       "\t<li>5</li>\n",
       "\t<li>6</li>\n",
       "\t<li>7</li>\n",
       "\t<li>8</li>\n",
       "\t<li>9</li>\n",
       "\t<li>10</li>\n",
       "</ol>\n"
      ],
      "text/latex": [
       "\\begin{enumerate*}\n",
       "\\item 5\n",
       "\\item 6\n",
       "\\item 7\n",
       "\\item 8\n",
       "\\item 9\n",
       "\\item 10\n",
       "\\end{enumerate*}\n"
      ],
      "text/markdown": [
       "1. 5\n",
       "2. 6\n",
       "3. 7\n",
       "4. 8\n",
       "5. 9\n",
       "6. 10\n",
       "\n",
       "\n"
      ],
      "text/plain": [
       "[1]  5  6  7  8  9 10"
      ]
     },
     "metadata": {},
     "output_type": "display_data"
    },
    {
     "data": {
      "text/html": [
       "<ol class=list-inline>\n",
       "\t<li>1</li>\n",
       "\t<li>5</li>\n",
       "\t<li>9</li>\n",
       "</ol>\n"
      ],
      "text/latex": [
       "\\begin{enumerate*}\n",
       "\\item 1\n",
       "\\item 5\n",
       "\\item 9\n",
       "\\end{enumerate*}\n"
      ],
      "text/markdown": [
       "1. 1\n",
       "2. 5\n",
       "3. 9\n",
       "\n",
       "\n"
      ],
      "text/plain": [
       "[1] 1 5 9"
      ]
     },
     "metadata": {},
     "output_type": "display_data"
    }
   ],
   "source": [
    "5:10\n",
    "\n",
    "seq(from = 1, to = 10, by = 4)"
   ]
  },
  {
   "cell_type": "markdown",
   "metadata": {},
   "source": [
    "### El Problema de los cumpleaños\n",
    "\n",
    "Cuál es la probabilidad de que dos personas, del aula, hayan nacido el mismo día?\n",
    "\n",
    "    * No años bisiestos; \n",
    "    * Todos nacieron de manera independiente; \n",
    "    * Los nacimientos están distribuidos de manera uniforme en todo el año."
   ]
  },
  {
   "cell_type": "code",
   "execution_count": 64,
   "metadata": {},
   "outputs": [
    {
     "data": {
      "text/html": [
       "0.991795834115219"
      ],
      "text/latex": [
       "0.991795834115219"
      ],
      "text/markdown": [
       "0.991795834115219"
      ],
      "text/plain": [
       "[1] 0.9917958"
      ]
     },
     "metadata": {},
     "output_type": "display_data"
    },
    {
     "data": {
      "text/html": [
       "0.00820416588478134"
      ],
      "text/latex": [
       "0.00820416588478134"
      ],
      "text/markdown": [
       "0.00820416588478134"
      ],
      "text/plain": [
       "[1] 0.008204166"
      ]
     },
     "metadata": {},
     "output_type": "display_data"
    }
   ],
   "source": [
    "todos_dif = 1*(364/365)*(363/365)\n",
    "todos_dif\n",
    "1 - todos_dif"
   ]
  },
  {
   "cell_type": "code",
   "execution_count": 22,
   "metadata": {},
   "outputs": [
    {
     "data": {
      "text/html": [
       "<ol class=list-inline>\n",
       "\t<li>364</li>\n",
       "\t<li>363</li>\n",
       "\t<li>362</li>\n",
       "\t<li>361</li>\n",
       "\t<li>360</li>\n",
       "\t<li>359</li>\n",
       "\t<li>358</li>\n",
       "\t<li>357</li>\n",
       "\t<li>356</li>\n",
       "\t<li>355</li>\n",
       "\t<li>354</li>\n",
       "\t<li>353</li>\n",
       "\t<li>352</li>\n",
       "\t<li>351</li>\n",
       "\t<li>350</li>\n",
       "\t<li>349</li>\n",
       "\t<li>348</li>\n",
       "\t<li>347</li>\n",
       "\t<li>346</li>\n",
       "\t<li>345</li>\n",
       "\t<li>344</li>\n",
       "\t<li>343</li>\n",
       "</ol>\n"
      ],
      "text/latex": [
       "\\begin{enumerate*}\n",
       "\\item 364\n",
       "\\item 363\n",
       "\\item 362\n",
       "\\item 361\n",
       "\\item 360\n",
       "\\item 359\n",
       "\\item 358\n",
       "\\item 357\n",
       "\\item 356\n",
       "\\item 355\n",
       "\\item 354\n",
       "\\item 353\n",
       "\\item 352\n",
       "\\item 351\n",
       "\\item 350\n",
       "\\item 349\n",
       "\\item 348\n",
       "\\item 347\n",
       "\\item 346\n",
       "\\item 345\n",
       "\\item 344\n",
       "\\item 343\n",
       "\\end{enumerate*}\n"
      ],
      "text/markdown": [
       "1. 364\n",
       "2. 363\n",
       "3. 362\n",
       "4. 361\n",
       "5. 360\n",
       "6. 359\n",
       "7. 358\n",
       "8. 357\n",
       "9. 356\n",
       "10. 355\n",
       "11. 354\n",
       "12. 353\n",
       "13. 352\n",
       "14. 351\n",
       "15. 350\n",
       "16. 349\n",
       "17. 348\n",
       "18. 347\n",
       "19. 346\n",
       "20. 345\n",
       "21. 344\n",
       "22. 343\n",
       "\n",
       "\n"
      ],
      "text/plain": [
       " [1] 364 363 362 361 360 359 358 357 356 355 354 353 352 351 350 349 348 347 346\n",
       "[20] 345 344 343"
      ]
     },
     "metadata": {},
     "output_type": "display_data"
    }
   ],
   "source": [
    "k <- 22\n",
    "\n",
    "numeradores = seq(from = 364, to = 365 - k, by = -1)\n",
    "numeradores"
   ]
  },
  {
   "cell_type": "code",
   "execution_count": 24,
   "metadata": {},
   "outputs": [
    {
     "data": {
      "text/html": [
       "0.507297234323985"
      ],
      "text/latex": [
       "0.507297234323985"
      ],
      "text/markdown": [
       "0.507297234323985"
      ],
      "text/plain": [
       "[1] 0.5072972"
      ]
     },
     "metadata": {},
     "output_type": "display_data"
    }
   ],
   "source": [
    "1 - prod(numeradores/365)"
   ]
  },
  {
   "cell_type": "code",
   "execution_count": 27,
   "metadata": {},
   "outputs": [
    {
     "data": {
      "text/html": [
       "190"
      ],
      "text/latex": [
       "190"
      ],
      "text/markdown": [
       "190"
      ],
      "text/plain": [
       "[1] 190"
      ]
     },
     "metadata": {},
     "output_type": "display_data"
    }
   ],
   "source": [
    "prod(1:20)/(prod(1:2)*prod(1:18))"
   ]
  },
  {
   "cell_type": "code",
   "execution_count": 86,
   "metadata": {},
   "outputs": [
    {
     "data": {
      "text/html": [
       "17267274024"
      ],
      "text/latex": [
       "17267274024"
      ],
      "text/markdown": [
       "17267274024"
      ],
      "text/plain": [
       "[1] 17267274024"
      ]
     },
     "metadata": {},
     "output_type": "display_data"
    },
    {
     "data": {
      "text/html": [
       "<ol class=list-inline>\n",
       "\t<li>0.997260273972603</li>\n",
       "\t<li>0.991795834115219</li>\n",
       "\t<li>0.98364408753345</li>\n",
       "\t<li>0.972864426300207</li>\n",
       "\t<li>0.959537516350889</li>\n",
       "\t<li>0.943764296904025</li>\n",
       "\t<li>0.925664707648331</li>\n",
       "\t<li>0.905376166110833</li>\n",
       "\t<li>0.883051822288922</li>\n",
       "\t<li>0.858858621678267</li>\n",
       "\t<li>0.832975211161936</li>\n",
       "\t<li>0.805589724767571</li>\n",
       "\t<li>0.776897487995027</li>\n",
       "\t<li>0.747098680236314</li>\n",
       "\t<li>0.71639599474715</li>\n",
       "\t<li>0.684992334703439</li>\n",
       "\t<li>0.653088582128211</li>\n",
       "\t<li>0.620881473968463</li>\n",
       "\t<li>0.58856161641942</li>\n",
       "\t<li>0.556311664834794</li>\n",
       "\t<li>0.52430469233745</li>\n",
       "\t<li>0.492702765676015</li>\n",
       "\t<li>0.461655742085471</li>\n",
       "\t<li>0.431300296030536</li>\n",
       "\t<li>0.401759179864061</li>\n",
       "\t<li>0.373140717736758</li>\n",
       "\t<li>0.345538527657601</li>\n",
       "\t<li>0.319031462522223</li>\n",
       "\t<li>0.293683757280731</li>\n",
       "\t<li>0.269545366271356</li>\n",
       "\t<li>0.246652472149679</li>\n",
       "\t<li>0.225028145824228</li>\n",
       "\t<li>0.204683135379846</li>\n",
       "\t<li>0.185616761125285</li>\n",
       "\t<li>0.16781789362012</li>\n",
       "\t<li>0.151265991783615</li>\n",
       "\t<li>0.135932178917879</li>\n",
       "\t<li>0.121780335633278</li>\n",
       "\t<li>0.108768190182051</li>\n",
       "\t<li>0.0968483885182646</li>\n",
       "\t<li>0.0859695284381308</li>\n",
       "\t<li>0.0760771443438801</li>\n",
       "\t<li>0.0671146314485737</li>\n",
       "\t<li>0.0590241005342251</li>\n",
       "\t<li>0.0517471566327453</li>\n",
       "\t<li>0.0452255971667007</li>\n",
       "\t<li>0.0394020271205776</li>\n",
       "\t<li>0.0342203906773235</li>\n",
       "\t<li>0.0296264204220116</li>\n",
       "\t<li>0.0255680066655717</li>\n",
       "\t<li>0.0219954906657247</li>\n",
       "\t<li>0.0188618865160872</li>\n",
       "\t<li>0.0161230372411485</li>\n",
       "\t<li>0.0137377111835539</li>\n",
       "\t<li>0.0116676451147992</li>\n",
       "\t<li>0.00987754065883002</li>\n",
       "\t<li>0.00833502061073876</li>\n",
       "\t<li>0.00701055158218301</li>\n",
       "\t<li>0.00587733913465206</li>\n",
       "\t<li>0.00491120119470925</li>\n",
       "</ol>\n"
      ],
      "text/latex": [
       "\\begin{enumerate*}\n",
       "\\item 0.997260273972603\n",
       "\\item 0.991795834115219\n",
       "\\item 0.98364408753345\n",
       "\\item 0.972864426300207\n",
       "\\item 0.959537516350889\n",
       "\\item 0.943764296904025\n",
       "\\item 0.925664707648331\n",
       "\\item 0.905376166110833\n",
       "\\item 0.883051822288922\n",
       "\\item 0.858858621678267\n",
       "\\item 0.832975211161936\n",
       "\\item 0.805589724767571\n",
       "\\item 0.776897487995027\n",
       "\\item 0.747098680236314\n",
       "\\item 0.71639599474715\n",
       "\\item 0.684992334703439\n",
       "\\item 0.653088582128211\n",
       "\\item 0.620881473968463\n",
       "\\item 0.58856161641942\n",
       "\\item 0.556311664834794\n",
       "\\item 0.52430469233745\n",
       "\\item 0.492702765676015\n",
       "\\item 0.461655742085471\n",
       "\\item 0.431300296030536\n",
       "\\item 0.401759179864061\n",
       "\\item 0.373140717736758\n",
       "\\item 0.345538527657601\n",
       "\\item 0.319031462522223\n",
       "\\item 0.293683757280731\n",
       "\\item 0.269545366271356\n",
       "\\item 0.246652472149679\n",
       "\\item 0.225028145824228\n",
       "\\item 0.204683135379846\n",
       "\\item 0.185616761125285\n",
       "\\item 0.16781789362012\n",
       "\\item 0.151265991783615\n",
       "\\item 0.135932178917879\n",
       "\\item 0.121780335633278\n",
       "\\item 0.108768190182051\n",
       "\\item 0.0968483885182646\n",
       "\\item 0.0859695284381308\n",
       "\\item 0.0760771443438801\n",
       "\\item 0.0671146314485737\n",
       "\\item 0.0590241005342251\n",
       "\\item 0.0517471566327453\n",
       "\\item 0.0452255971667007\n",
       "\\item 0.0394020271205776\n",
       "\\item 0.0342203906773235\n",
       "\\item 0.0296264204220116\n",
       "\\item 0.0255680066655717\n",
       "\\item 0.0219954906657247\n",
       "\\item 0.0188618865160872\n",
       "\\item 0.0161230372411485\n",
       "\\item 0.0137377111835539\n",
       "\\item 0.0116676451147992\n",
       "\\item 0.00987754065883002\n",
       "\\item 0.00833502061073876\n",
       "\\item 0.00701055158218301\n",
       "\\item 0.00587733913465206\n",
       "\\item 0.00491120119470925\n",
       "\\end{enumerate*}\n"
      ],
      "text/markdown": [
       "1. 0.997260273972603\n",
       "2. 0.991795834115219\n",
       "3. 0.98364408753345\n",
       "4. 0.972864426300207\n",
       "5. 0.959537516350889\n",
       "6. 0.943764296904025\n",
       "7. 0.925664707648331\n",
       "8. 0.905376166110833\n",
       "9. 0.883051822288922\n",
       "10. 0.858858621678267\n",
       "11. 0.832975211161936\n",
       "12. 0.805589724767571\n",
       "13. 0.776897487995027\n",
       "14. 0.747098680236314\n",
       "15. 0.71639599474715\n",
       "16. 0.684992334703439\n",
       "17. 0.653088582128211\n",
       "18. 0.620881473968463\n",
       "19. 0.58856161641942\n",
       "20. 0.556311664834794\n",
       "21. 0.52430469233745\n",
       "22. 0.492702765676015\n",
       "23. 0.461655742085471\n",
       "24. 0.431300296030536\n",
       "25. 0.401759179864061\n",
       "26. 0.373140717736758\n",
       "27. 0.345538527657601\n",
       "28. 0.319031462522223\n",
       "29. 0.293683757280731\n",
       "30. 0.269545366271356\n",
       "31. 0.246652472149679\n",
       "32. 0.225028145824228\n",
       "33. 0.204683135379846\n",
       "34. 0.185616761125285\n",
       "35. 0.16781789362012\n",
       "36. 0.151265991783615\n",
       "37. 0.135932178917879\n",
       "38. 0.121780335633278\n",
       "39. 0.108768190182051\n",
       "40. 0.0968483885182646\n",
       "41. 0.0859695284381308\n",
       "42. 0.0760771443438801\n",
       "43. 0.0671146314485737\n",
       "44. 0.0590241005342251\n",
       "45. 0.0517471566327453\n",
       "46. 0.0452255971667007\n",
       "47. 0.0394020271205776\n",
       "48. 0.0342203906773235\n",
       "49. 0.0296264204220116\n",
       "50. 0.0255680066655717\n",
       "51. 0.0219954906657247\n",
       "52. 0.0188618865160872\n",
       "53. 0.0161230372411485\n",
       "54. 0.0137377111835539\n",
       "55. 0.0116676451147992\n",
       "56. 0.00987754065883002\n",
       "57. 0.00833502061073876\n",
       "58. 0.00701055158218301\n",
       "59. 0.00587733913465206\n",
       "60. 0.00491120119470925\n",
       "\n",
       "\n"
      ],
      "text/plain": [
       " [1] 0.997260274 0.991795834 0.983644088 0.972864426 0.959537516 0.943764297\n",
       " [7] 0.925664708 0.905376166 0.883051822 0.858858622 0.832975211 0.805589725\n",
       "[13] 0.776897488 0.747098680 0.716395995 0.684992335 0.653088582 0.620881474\n",
       "[19] 0.588561616 0.556311665 0.524304692 0.492702766 0.461655742 0.431300296\n",
       "[25] 0.401759180 0.373140718 0.345538528 0.319031463 0.293683757 0.269545366\n",
       "[31] 0.246652472 0.225028146 0.204683135 0.185616761 0.167817894 0.151265992\n",
       "[37] 0.135932179 0.121780336 0.108768190 0.096848389 0.085969528 0.076077144\n",
       "[43] 0.067114631 0.059024101 0.051747157 0.045225597 0.039402027 0.034220391\n",
       "[49] 0.029626420 0.025568007 0.021995491 0.018861887 0.016123037 0.013737711\n",
       "[55] 0.011667645 0.009877541 0.008335021 0.007010552 0.005877339 0.004911201"
      ]
     },
     "metadata": {},
     "output_type": "display_data"
    }
   ],
   "source": [
    "364*363*362*361\n",
    "cumprod(numeradores/365)"
   ]
  },
  {
   "cell_type": "code",
   "execution_count": 98,
   "metadata": {},
   "outputs": [
    {
     "data": {
      "text/html": [
       "0.223102512004973"
      ],
      "text/latex": [
       "0.223102512004973"
      ],
      "text/markdown": [
       "0.223102512004973"
      ],
      "text/plain": [
       "[1] 0.2231025"
      ]
     },
     "metadata": {},
     "output_type": "display_data"
    }
   ],
   "source": [
    "birth <- c(0, 0, 1 - cumprod(numeradores/365))\n",
    "birth[15]"
   ]
  },
  {
   "cell_type": "code",
   "execution_count": 92,
   "metadata": {},
   "outputs": [
    {
     "data": {
      "image/png": "[encoded data removed]",
      "text/plain": [
       "Plot with title \"Proba del mismo cumpleaños\""
      ]
     },
     "metadata": {},
     "output_type": "display_data"
    }
   ],
   "source": [
    "plot(birth, type = 'l', col = 'blue', lwd = 3, xlab = 'k')\n",
    "title('Proba del mismo cumpleaños')"
   ]
  },
  {
   "cell_type": "markdown",
   "metadata": {},
   "source": [
    "## Comparaciones\n",
    "\n",
    "    * < y >\n",
    "    * <= menor o igual? \n",
    "    * == es igual a?\n",
    " "
   ]
  },
  {
   "cell_type": "code",
   "execution_count": 95,
   "metadata": {},
   "outputs": [
    {
     "data": {
      "text/html": [
       "FALSE"
      ],
      "text/latex": [
       "FALSE"
      ],
      "text/markdown": [
       "FALSE"
      ],
      "text/plain": [
       "[1] FALSE"
      ]
     },
     "metadata": {},
     "output_type": "display_data"
    },
    {
     "data": {
      "text/html": [
       "TRUE"
      ],
      "text/latex": [
       "TRUE"
      ],
      "text/markdown": [
       "TRUE"
      ],
      "text/plain": [
       "[1] TRUE"
      ]
     },
     "metadata": {},
     "output_type": "display_data"
    }
   ],
   "source": [
    "'Hola'=='hola'\n",
    "'Hola'!='hola'"
   ]
  },
  {
   "cell_type": "code",
   "execution_count": 100,
   "metadata": {},
   "outputs": [
    {
     "data": {
      "text/html": [
       "<ol class=list-inline>\n",
       "\t<li>FALSE</li>\n",
       "\t<li>FALSE</li>\n",
       "\t<li>FALSE</li>\n",
       "\t<li>FALSE</li>\n",
       "\t<li>FALSE</li>\n",
       "\t<li>FALSE</li>\n",
       "\t<li>FALSE</li>\n",
       "\t<li>FALSE</li>\n",
       "\t<li>FALSE</li>\n",
       "\t<li>FALSE</li>\n",
       "\t<li>FALSE</li>\n",
       "\t<li>FALSE</li>\n",
       "\t<li>FALSE</li>\n",
       "\t<li>FALSE</li>\n",
       "\t<li>FALSE</li>\n",
       "\t<li>FALSE</li>\n",
       "\t<li>FALSE</li>\n",
       "\t<li>FALSE</li>\n",
       "\t<li>FALSE</li>\n",
       "\t<li>FALSE</li>\n",
       "\t<li>FALSE</li>\n",
       "\t<li>FALSE</li>\n",
       "\t<li>FALSE</li>\n",
       "\t<li>TRUE</li>\n",
       "\t<li>TRUE</li>\n",
       "\t<li>TRUE</li>\n",
       "\t<li>TRUE</li>\n",
       "\t<li>TRUE</li>\n",
       "\t<li>TRUE</li>\n",
       "\t<li>TRUE</li>\n",
       "\t<li>TRUE</li>\n",
       "\t<li>TRUE</li>\n",
       "\t<li>TRUE</li>\n",
       "\t<li>TRUE</li>\n",
       "\t<li>TRUE</li>\n",
       "\t<li>TRUE</li>\n",
       "\t<li>TRUE</li>\n",
       "\t<li>TRUE</li>\n",
       "\t<li>TRUE</li>\n",
       "\t<li>TRUE</li>\n",
       "\t<li>TRUE</li>\n",
       "\t<li>TRUE</li>\n",
       "\t<li>TRUE</li>\n",
       "\t<li>TRUE</li>\n",
       "\t<li>TRUE</li>\n",
       "\t<li>TRUE</li>\n",
       "\t<li>TRUE</li>\n",
       "\t<li>TRUE</li>\n",
       "\t<li>TRUE</li>\n",
       "\t<li>TRUE</li>\n",
       "\t<li>TRUE</li>\n",
       "\t<li>TRUE</li>\n",
       "\t<li>TRUE</li>\n",
       "\t<li>TRUE</li>\n",
       "\t<li>TRUE</li>\n",
       "\t<li>TRUE</li>\n",
       "\t<li>TRUE</li>\n",
       "\t<li>TRUE</li>\n",
       "\t<li>TRUE</li>\n",
       "\t<li>TRUE</li>\n",
       "\t<li>TRUE</li>\n",
       "\t<li>TRUE</li>\n",
       "</ol>\n"
      ],
      "text/latex": [
       "\\begin{enumerate*}\n",
       "\\item FALSE\n",
       "\\item FALSE\n",
       "\\item FALSE\n",
       "\\item FALSE\n",
       "\\item FALSE\n",
       "\\item FALSE\n",
       "\\item FALSE\n",
       "\\item FALSE\n",
       "\\item FALSE\n",
       "\\item FALSE\n",
       "\\item FALSE\n",
       "\\item FALSE\n",
       "\\item FALSE\n",
       "\\item FALSE\n",
       "\\item FALSE\n",
       "\\item FALSE\n",
       "\\item FALSE\n",
       "\\item FALSE\n",
       "\\item FALSE\n",
       "\\item FALSE\n",
       "\\item FALSE\n",
       "\\item FALSE\n",
       "\\item FALSE\n",
       "\\item TRUE\n",
       "\\item TRUE\n",
       "\\item TRUE\n",
       "\\item TRUE\n",
       "\\item TRUE\n",
       "\\item TRUE\n",
       "\\item TRUE\n",
       "\\item TRUE\n",
       "\\item TRUE\n",
       "\\item TRUE\n",
       "\\item TRUE\n",
       "\\item TRUE\n",
       "\\item TRUE\n",
       "\\item TRUE\n",
       "\\item TRUE\n",
       "\\item TRUE\n",
       "\\item TRUE\n",
       "\\item TRUE\n",
       "\\item TRUE\n",
       "\\item TRUE\n",
       "\\item TRUE\n",
       "\\item TRUE\n",
       "\\item TRUE\n",
       "\\item TRUE\n",
       "\\item TRUE\n",
       "\\item TRUE\n",
       "\\item TRUE\n",
       "\\item TRUE\n",
       "\\item TRUE\n",
       "\\item TRUE\n",
       "\\item TRUE\n",
       "\\item TRUE\n",
       "\\item TRUE\n",
       "\\item TRUE\n",
       "\\item TRUE\n",
       "\\item TRUE\n",
       "\\item TRUE\n",
       "\\item TRUE\n",
       "\\item TRUE\n",
       "\\end{enumerate*}\n"
      ],
      "text/markdown": [
       "1. FALSE\n",
       "2. FALSE\n",
       "3. FALSE\n",
       "4. FALSE\n",
       "5. FALSE\n",
       "6. FALSE\n",
       "7. FALSE\n",
       "8. FALSE\n",
       "9. FALSE\n",
       "10. FALSE\n",
       "11. FALSE\n",
       "12. FALSE\n",
       "13. FALSE\n",
       "14. FALSE\n",
       "15. FALSE\n",
       "16. FALSE\n",
       "17. FALSE\n",
       "18. FALSE\n",
       "19. FALSE\n",
       "20. FALSE\n",
       "21. FALSE\n",
       "22. FALSE\n",
       "23. FALSE\n",
       "24. TRUE\n",
       "25. TRUE\n",
       "26. TRUE\n",
       "27. TRUE\n",
       "28. TRUE\n",
       "29. TRUE\n",
       "30. TRUE\n",
       "31. TRUE\n",
       "32. TRUE\n",
       "33. TRUE\n",
       "34. TRUE\n",
       "35. TRUE\n",
       "36. TRUE\n",
       "37. TRUE\n",
       "38. TRUE\n",
       "39. TRUE\n",
       "40. TRUE\n",
       "41. TRUE\n",
       "42. TRUE\n",
       "43. TRUE\n",
       "44. TRUE\n",
       "45. TRUE\n",
       "46. TRUE\n",
       "47. TRUE\n",
       "48. TRUE\n",
       "49. TRUE\n",
       "50. TRUE\n",
       "51. TRUE\n",
       "52. TRUE\n",
       "53. TRUE\n",
       "54. TRUE\n",
       "55. TRUE\n",
       "56. TRUE\n",
       "57. TRUE\n",
       "58. TRUE\n",
       "59. TRUE\n",
       "60. TRUE\n",
       "61. TRUE\n",
       "62. TRUE\n",
       "\n",
       "\n"
      ],
      "text/plain": [
       " [1] FALSE FALSE FALSE FALSE FALSE FALSE FALSE FALSE FALSE FALSE FALSE FALSE\n",
       "[13] FALSE FALSE FALSE FALSE FALSE FALSE FALSE FALSE FALSE FALSE FALSE  TRUE\n",
       "[25]  TRUE  TRUE  TRUE  TRUE  TRUE  TRUE  TRUE  TRUE  TRUE  TRUE  TRUE  TRUE\n",
       "[37]  TRUE  TRUE  TRUE  TRUE  TRUE  TRUE  TRUE  TRUE  TRUE  TRUE  TRUE  TRUE\n",
       "[49]  TRUE  TRUE  TRUE  TRUE  TRUE  TRUE  TRUE  TRUE  TRUE  TRUE  TRUE  TRUE\n",
       "[61]  TRUE  TRUE"
      ]
     },
     "metadata": {},
     "output_type": "display_data"
    },
    {
     "data": {
      "text/html": [
       "<ol class=list-inline>\n",
       "\t<li>24</li>\n",
       "\t<li>25</li>\n",
       "\t<li>26</li>\n",
       "\t<li>27</li>\n",
       "\t<li>28</li>\n",
       "\t<li>29</li>\n",
       "\t<li>30</li>\n",
       "\t<li>31</li>\n",
       "\t<li>32</li>\n",
       "\t<li>33</li>\n",
       "\t<li>34</li>\n",
       "\t<li>35</li>\n",
       "\t<li>36</li>\n",
       "\t<li>37</li>\n",
       "\t<li>38</li>\n",
       "\t<li>39</li>\n",
       "\t<li>40</li>\n",
       "\t<li>41</li>\n",
       "\t<li>42</li>\n",
       "\t<li>43</li>\n",
       "\t<li>44</li>\n",
       "\t<li>45</li>\n",
       "\t<li>46</li>\n",
       "\t<li>47</li>\n",
       "\t<li>48</li>\n",
       "\t<li>49</li>\n",
       "\t<li>50</li>\n",
       "\t<li>51</li>\n",
       "\t<li>52</li>\n",
       "\t<li>53</li>\n",
       "\t<li>54</li>\n",
       "\t<li>55</li>\n",
       "\t<li>56</li>\n",
       "\t<li>57</li>\n",
       "\t<li>58</li>\n",
       "\t<li>59</li>\n",
       "\t<li>60</li>\n",
       "\t<li>61</li>\n",
       "\t<li>62</li>\n",
       "</ol>\n"
      ],
      "text/latex": [
       "\\begin{enumerate*}\n",
       "\\item 24\n",
       "\\item 25\n",
       "\\item 26\n",
       "\\item 27\n",
       "\\item 28\n",
       "\\item 29\n",
       "\\item 30\n",
       "\\item 31\n",
       "\\item 32\n",
       "\\item 33\n",
       "\\item 34\n",
       "\\item 35\n",
       "\\item 36\n",
       "\\item 37\n",
       "\\item 38\n",
       "\\item 39\n",
       "\\item 40\n",
       "\\item 41\n",
       "\\item 42\n",
       "\\item 43\n",
       "\\item 44\n",
       "\\item 45\n",
       "\\item 46\n",
       "\\item 47\n",
       "\\item 48\n",
       "\\item 49\n",
       "\\item 50\n",
       "\\item 51\n",
       "\\item 52\n",
       "\\item 53\n",
       "\\item 54\n",
       "\\item 55\n",
       "\\item 56\n",
       "\\item 57\n",
       "\\item 58\n",
       "\\item 59\n",
       "\\item 60\n",
       "\\item 61\n",
       "\\item 62\n",
       "\\end{enumerate*}\n"
      ],
      "text/markdown": [
       "1. 24\n",
       "2. 25\n",
       "3. 26\n",
       "4. 27\n",
       "5. 28\n",
       "6. 29\n",
       "7. 30\n",
       "8. 31\n",
       "9. 32\n",
       "10. 33\n",
       "11. 34\n",
       "12. 35\n",
       "13. 36\n",
       "14. 37\n",
       "15. 38\n",
       "16. 39\n",
       "17. 40\n",
       "18. 41\n",
       "19. 42\n",
       "20. 43\n",
       "21. 44\n",
       "22. 45\n",
       "23. 46\n",
       "24. 47\n",
       "25. 48\n",
       "26. 49\n",
       "27. 50\n",
       "28. 51\n",
       "29. 52\n",
       "30. 53\n",
       "31. 54\n",
       "32. 55\n",
       "33. 56\n",
       "34. 57\n",
       "35. 58\n",
       "36. 59\n",
       "37. 60\n",
       "38. 61\n",
       "39. 62\n",
       "\n",
       "\n"
      ],
      "text/plain": [
       " [1] 24 25 26 27 28 29 30 31 32 33 34 35 36 37 38 39 40 41 42 43 44 45 46 47 48\n",
       "[26] 49 50 51 52 53 54 55 56 57 58 59 60 61 62"
      ]
     },
     "metadata": {},
     "output_type": "display_data"
    }
   ],
   "source": [
    "birth >= 0.5\n",
    "which(birth >= 0.5)"
   ]
  },
  {
   "cell_type": "code",
   "execution_count": null,
   "metadata": {
    "collapsed": true
   },
   "outputs": [],
   "source": [
    "round(birth, 1) == 0.5\n",
    "\n",
    "round(birth, 1) != 0"
   ]
  },
  {
   "cell_type": "code",
   "execution_count": 18,
   "metadata": {},
   "outputs": [
    {
     "ename": "ERROR",
     "evalue": "Error in eval(expr, envir, enclos): objeto 'birth' no encontrado\n",
     "output_type": "error",
     "traceback": [
      "Error in eval(expr, envir, enclos): objeto 'birth' no encontrado\nTraceback:\n"
     ]
    }
   ],
   "source": [
    "\n",
    "any(round(birth, 1) == 0.5)\n",
    "\n",
    "all(round(birth, 1) == 0.5)"
   ]
  },
  {
   "cell_type": "code",
   "execution_count": 27,
   "metadata": {},
   "outputs": [
    {
     "data": {
      "text/html": [
       "435"
      ],
      "text/latex": [
       "435"
      ],
      "text/markdown": [
       "435"
      ],
      "text/plain": [
       "[1] 435"
      ]
     },
     "metadata": {},
     "output_type": "display_data"
    }
   ],
   "source": [
    "prod(1:30)/(prod(1:2)*prod(1:28))"
   ]
  },
  {
   "cell_type": "code",
   "execution_count": 24,
   "metadata": {},
   "outputs": [
    {
     "data": {
      "text/html": [
       "182.5"
      ],
      "text/latex": [
       "182.5"
      ],
      "text/markdown": [
       "182.5"
      ],
      "text/plain": [
       "[1] 182.5"
      ]
     },
     "metadata": {},
     "output_type": "display_data"
    }
   ],
   "source": [
    "365/2"
   ]
  },
  {
   "cell_type": "markdown",
   "metadata": {},
   "source": [
    "# Data Frames\n",
    "\n",
    "        * Columnas con etiquetas.\n",
    "        * Todas tienen el mismo tamaño. \n",
    "        * Tipo mas importante en R. \n",
    "       "
   ]
  },
  {
   "cell_type": "code",
   "execution_count": 1,
   "metadata": {},
   "outputs": [
    {
     "data": {
      "text/html": [
       "<table>\n",
       "<thead><tr><th scope=col>X</th><th scope=col>SEX</th><th scope=col>AGE</th><th scope=col>CENSUS2010POP</th><th scope=col>ESTIMATESBASE2010</th><th scope=col>POPESTIMATE2010</th><th scope=col>POPESTIMATE2011</th><th scope=col>POPESTIMATE2012</th><th scope=col>POPESTIMATE2013</th><th scope=col>POPESTIMATE2014</th></tr></thead>\n",
       "<tbody>\n",
       "\t<tr><td>1      </td><td>0      </td><td>0      </td><td>3944153</td><td>3944160</td><td>3951330</td><td>3963071</td><td>3926665</td><td>3945610</td><td>3948350</td></tr>\n",
       "\t<tr><td>2      </td><td>0      </td><td>1      </td><td>3978070</td><td>3978090</td><td>3957888</td><td>3966510</td><td>3978006</td><td>3943077</td><td>3962123</td></tr>\n",
       "\t<tr><td>3      </td><td>0      </td><td>2      </td><td>4096929</td><td>4096939</td><td>4090862</td><td>3971573</td><td>3979952</td><td>3992690</td><td>3957772</td></tr>\n",
       "\t<tr><td>4      </td><td>0      </td><td>3      </td><td>4119040</td><td>4119051</td><td>4111920</td><td>4102501</td><td>3983049</td><td>3992425</td><td>4005190</td></tr>\n",
       "\t<tr><td>5      </td><td>0      </td><td>4      </td><td>4063170</td><td>4063186</td><td>4077552</td><td>4122303</td><td>4112638</td><td>3994047</td><td>4003448</td></tr>\n",
       "\t<tr><td>6      </td><td>0      </td><td>5      </td><td>4056858</td><td>4056872</td><td>4064653</td><td>4087713</td><td>4132210</td><td>4123408</td><td>4004858</td></tr>\n",
       "</tbody>\n",
       "</table>\n"
      ],
      "text/latex": [
       "\\begin{tabular}{r|llllllllll}\n",
       " X & SEX & AGE & CENSUS2010POP & ESTIMATESBASE2010 & POPESTIMATE2010 & POPESTIMATE2011 & POPESTIMATE2012 & POPESTIMATE2013 & POPESTIMATE2014\\\\\n",
       "\\hline\n",
       "\t 1       & 0       & 0       & 3944153 & 3944160 & 3951330 & 3963071 & 3926665 & 3945610 & 3948350\\\\\n",
       "\t 2       & 0       & 1       & 3978070 & 3978090 & 3957888 & 3966510 & 3978006 & 3943077 & 3962123\\\\\n",
       "\t 3       & 0       & 2       & 4096929 & 4096939 & 4090862 & 3971573 & 3979952 & 3992690 & 3957772\\\\\n",
       "\t 4       & 0       & 3       & 4119040 & 4119051 & 4111920 & 4102501 & 3983049 & 3992425 & 4005190\\\\\n",
       "\t 5       & 0       & 4       & 4063170 & 4063186 & 4077552 & 4122303 & 4112638 & 3994047 & 4003448\\\\\n",
       "\t 6       & 0       & 5       & 4056858 & 4056872 & 4064653 & 4087713 & 4132210 & 4123408 & 4004858\\\\\n",
       "\\end{tabular}\n"
      ],
      "text/markdown": [
       "\n",
       "X | SEX | AGE | CENSUS2010POP | ESTIMATESBASE2010 | POPESTIMATE2010 | POPESTIMATE2011 | POPESTIMATE2012 | POPESTIMATE2013 | POPESTIMATE2014 | \n",
       "|---|---|---|---|---|---|\n",
       "| 1       | 0       | 0       | 3944153 | 3944160 | 3951330 | 3963071 | 3926665 | 3945610 | 3948350 | \n",
       "| 2       | 0       | 1       | 3978070 | 3978090 | 3957888 | 3966510 | 3978006 | 3943077 | 3962123 | \n",
       "| 3       | 0       | 2       | 4096929 | 4096939 | 4090862 | 3971573 | 3979952 | 3992690 | 3957772 | \n",
       "| 4       | 0       | 3       | 4119040 | 4119051 | 4111920 | 4102501 | 3983049 | 3992425 | 4005190 | \n",
       "| 5       | 0       | 4       | 4063170 | 4063186 | 4077552 | 4122303 | 4112638 | 3994047 | 4003448 | \n",
       "| 6       | 0       | 5       | 4056858 | 4056872 | 4064653 | 4087713 | 4132210 | 4123408 | 4004858 | \n",
       "\n",
       "\n"
      ],
      "text/plain": [
       "  X SEX AGE CENSUS2010POP ESTIMATESBASE2010 POPESTIMATE2010 POPESTIMATE2011\n",
       "1 1 0   0   3944153       3944160           3951330         3963071        \n",
       "2 2 0   1   3978070       3978090           3957888         3966510        \n",
       "3 3 0   2   4096929       4096939           4090862         3971573        \n",
       "4 4 0   3   4119040       4119051           4111920         4102501        \n",
       "5 5 0   4   4063170       4063186           4077552         4122303        \n",
       "6 6 0   5   4056858       4056872           4064653         4087713        \n",
       "  POPESTIMATE2012 POPESTIMATE2013 POPESTIMATE2014\n",
       "1 3926665         3945610         3948350        \n",
       "2 3978006         3943077         3962123        \n",
       "3 3979952         3992690         3957772        \n",
       "4 3983049         3992425         4005190        \n",
       "5 4112638         3994047         4003448        \n",
       "6 4132210         4123408         4004858        "
      ]
     },
     "metadata": {},
     "output_type": "display_data"
    },
    {
     "data": {
      "text/html": [
       "<ol class=list-inline>\n",
       "\t<li>'X'</li>\n",
       "\t<li>'SEX'</li>\n",
       "\t<li>'AGE'</li>\n",
       "\t<li>'CENSUS2010POP'</li>\n",
       "\t<li>'ESTIMATESBASE2010'</li>\n",
       "\t<li>'POPESTIMATE2010'</li>\n",
       "\t<li>'POPESTIMATE2011'</li>\n",
       "\t<li>'POPESTIMATE2012'</li>\n",
       "\t<li>'POPESTIMATE2013'</li>\n",
       "\t<li>'POPESTIMATE2014'</li>\n",
       "</ol>\n"
      ],
      "text/latex": [
       "\\begin{enumerate*}\n",
       "\\item 'X'\n",
       "\\item 'SEX'\n",
       "\\item 'AGE'\n",
       "\\item 'CENSUS2010POP'\n",
       "\\item 'ESTIMATESBASE2010'\n",
       "\\item 'POPESTIMATE2010'\n",
       "\\item 'POPESTIMATE2011'\n",
       "\\item 'POPESTIMATE2012'\n",
       "\\item 'POPESTIMATE2013'\n",
       "\\item 'POPESTIMATE2014'\n",
       "\\end{enumerate*}\n"
      ],
      "text/markdown": [
       "1. 'X'\n",
       "2. 'SEX'\n",
       "3. 'AGE'\n",
       "4. 'CENSUS2010POP'\n",
       "5. 'ESTIMATESBASE2010'\n",
       "6. 'POPESTIMATE2010'\n",
       "7. 'POPESTIMATE2011'\n",
       "8. 'POPESTIMATE2012'\n",
       "9. 'POPESTIMATE2013'\n",
       "10. 'POPESTIMATE2014'\n",
       "\n",
       "\n"
      ],
      "text/plain": [
       " [1] \"X\"                 \"SEX\"               \"AGE\"              \n",
       " [4] \"CENSUS2010POP\"     \"ESTIMATESBASE2010\" \"POPESTIMATE2010\"  \n",
       " [7] \"POPESTIMATE2011\"   \"POPESTIMATE2012\"   \"POPESTIMATE2013\"  \n",
       "[10] \"POPESTIMATE2014\"  "
      ]
     },
     "metadata": {},
     "output_type": "display_data"
    }
   ],
   "source": [
    "#pop_us = read.table(url(\"https://raw.githubusercontent.com/open-source-economics/taxdata/master/Stage%20I/NC-EST2014-AGESEX-RES.csv\"), \n",
    "#                    sep = ',', header = T)\n",
    "\n",
    "pop_us <- read.table(file = \"C:/Users/Personal/Data-Science-Students/Tables/pop_us.csv\", \n",
    "                    sep = ',', header = TRUE)\n",
    "\n",
    "head(pop_us)\n",
    "names(pop_us)"
   ]
  },
  {
   "cell_type": "markdown",
   "metadata": {},
   "source": [
    "## Manipular Data.frames usando Dplyr.\n",
    "\n",
    "paquete dplyr. Funciones para manipular data.frames."
   ]
  },
  {
   "cell_type": "code",
   "execution_count": 5,
   "metadata": {},
   "outputs": [
    {
     "name": "stderr",
     "output_type": "stream",
     "text": [
      "\n",
      "Attaching package: 'dplyr'\n",
      "\n",
      "The following objects are masked from 'package:stats':\n",
      "\n",
      "    filter, lag\n",
      "\n",
      "The following objects are masked from 'package:base':\n",
      "\n",
      "    intersect, setdiff, setequal, union\n",
      "\n"
     ]
    }
   ],
   "source": [
    "library(dplyr)"
   ]
  },
  {
   "cell_type": "code",
   "execution_count": 10,
   "metadata": {},
   "outputs": [
    {
     "data": {
      "text/html": [
       "<table>\n",
       "<thead><tr><th scope=col>SEX</th><th scope=col>AGE</th><th scope=col>pop_2010</th><th scope=col>pop_2014</th></tr></thead>\n",
       "<tbody>\n",
       "\t<tr><td>0      </td><td>0      </td><td>3951330</td><td>3948350</td></tr>\n",
       "\t<tr><td>0      </td><td>1      </td><td>3957888</td><td>3962123</td></tr>\n",
       "\t<tr><td>0      </td><td>2      </td><td>4090862</td><td>3957772</td></tr>\n",
       "\t<tr><td>0      </td><td>3      </td><td>4111920</td><td>4005190</td></tr>\n",
       "\t<tr><td>0      </td><td>4      </td><td>4077552</td><td>4003448</td></tr>\n",
       "\t<tr><td>0      </td><td>5      </td><td>4064653</td><td>4004858</td></tr>\n",
       "</tbody>\n",
       "</table>\n"
      ],
      "text/latex": [
       "\\begin{tabular}{r|llll}\n",
       " SEX & AGE & pop\\_2010 & pop\\_2014\\\\\n",
       "\\hline\n",
       "\t 0       & 0       & 3951330 & 3948350\\\\\n",
       "\t 0       & 1       & 3957888 & 3962123\\\\\n",
       "\t 0       & 2       & 4090862 & 3957772\\\\\n",
       "\t 0       & 3       & 4111920 & 4005190\\\\\n",
       "\t 0       & 4       & 4077552 & 4003448\\\\\n",
       "\t 0       & 5       & 4064653 & 4004858\\\\\n",
       "\\end{tabular}\n"
      ],
      "text/markdown": [
       "\n",
       "SEX | AGE | pop_2010 | pop_2014 | \n",
       "|---|---|---|---|---|---|\n",
       "| 0       | 0       | 3951330 | 3948350 | \n",
       "| 0       | 1       | 3957888 | 3962123 | \n",
       "| 0       | 2       | 4090862 | 3957772 | \n",
       "| 0       | 3       | 4111920 | 4005190 | \n",
       "| 0       | 4       | 4077552 | 4003448 | \n",
       "| 0       | 5       | 4064653 | 4004858 | \n",
       "\n",
       "\n"
      ],
      "text/plain": [
       "  SEX AGE pop_2010 pop_2014\n",
       "1 0   0   3951330  3948350 \n",
       "2 0   1   3957888  3962123 \n",
       "3 0   2   4090862  3957772 \n",
       "4 0   3   4111920  4005190 \n",
       "5 0   4   4077552  4003448 \n",
       "6 0   5   4064653  4004858 "
      ]
     },
     "metadata": {},
     "output_type": "display_data"
    }
   ],
   "source": [
    "pop_Simple <- select(pop_us, \n",
    "                     c(SEX, AGE, pop_2010 = POPESTIMATE2010, \n",
    "                       pop_2014 = POPESTIMATE2014))\n",
    "\n",
    "head(pop_Simple)"
   ]
  },
  {
   "cell_type": "code",
   "execution_count": 11,
   "metadata": {},
   "outputs": [
    {
     "data": {
      "text/html": [
       "<table>\n",
       "<thead><tr><th scope=col>SEX</th><th scope=col>AGE</th><th scope=col>pop_2010</th><th scope=col>pop_2014</th></tr></thead>\n",
       "<tbody>\n",
       "\t<tr><td>0      </td><td>0      </td><td>3951330</td><td>3948350</td></tr>\n",
       "\t<tr><td>0      </td><td>1      </td><td>3957888</td><td>3962123</td></tr>\n",
       "\t<tr><td>0      </td><td>2      </td><td>4090862</td><td>3957772</td></tr>\n",
       "\t<tr><td>0      </td><td>3      </td><td>4111920</td><td>4005190</td></tr>\n",
       "\t<tr><td>0      </td><td>4      </td><td>4077552</td><td>4003448</td></tr>\n",
       "\t<tr><td>0      </td><td>5      </td><td>4064653</td><td>4004858</td></tr>\n",
       "</tbody>\n",
       "</table>\n"
      ],
      "text/latex": [
       "\\begin{tabular}{r|llll}\n",
       " SEX & AGE & pop\\_2010 & pop\\_2014\\\\\n",
       "\\hline\n",
       "\t 0       & 0       & 3951330 & 3948350\\\\\n",
       "\t 0       & 1       & 3957888 & 3962123\\\\\n",
       "\t 0       & 2       & 4090862 & 3957772\\\\\n",
       "\t 0       & 3       & 4111920 & 4005190\\\\\n",
       "\t 0       & 4       & 4077552 & 4003448\\\\\n",
       "\t 0       & 5       & 4064653 & 4004858\\\\\n",
       "\\end{tabular}\n"
      ],
      "text/markdown": [
       "\n",
       "SEX | AGE | pop_2010 | pop_2014 | \n",
       "|---|---|---|---|---|---|\n",
       "| 0       | 0       | 3951330 | 3948350 | \n",
       "| 0       | 1       | 3957888 | 3962123 | \n",
       "| 0       | 2       | 4090862 | 3957772 | \n",
       "| 0       | 3       | 4111920 | 4005190 | \n",
       "| 0       | 4       | 4077552 | 4003448 | \n",
       "| 0       | 5       | 4064653 | 4004858 | \n",
       "\n",
       "\n"
      ],
      "text/plain": [
       "  SEX AGE pop_2010 pop_2014\n",
       "1 0   0   3951330  3948350 \n",
       "2 0   1   3957888  3962123 \n",
       "3 0   2   4090862  3957772 \n",
       "4 0   3   4111920  4005190 \n",
       "5 0   4   4077552  4003448 \n",
       "6 0   5   4064653  4004858 "
      ]
     },
     "metadata": {},
     "output_type": "display_data"
    }
   ],
   "source": [
    "names(pop_Simple) <- c('SEX', 'AGE', 'pop_2010', 'pop_2014')\n",
    "head(pop_Simple)"
   ]
  },
  {
   "cell_type": "code",
   "execution_count": 12,
   "metadata": {},
   "outputs": [
    {
     "data": {
      "text/html": [
       "<table>\n",
       "<thead><tr><th scope=col>SEX</th><th scope=col>AGE</th><th scope=col>pop_2010</th><th scope=col>pop_2014</th><th scope=col>Cambio</th></tr></thead>\n",
       "<tbody>\n",
       "\t<tr><td>0      </td><td> 0     </td><td>3951330</td><td>3948350</td><td>  -2980</td></tr>\n",
       "\t<tr><td>0      </td><td> 1     </td><td>3957888</td><td>3962123</td><td>   4235</td></tr>\n",
       "\t<tr><td>0      </td><td> 2     </td><td>4090862</td><td>3957772</td><td>-133090</td></tr>\n",
       "\t<tr><td>0      </td><td> 3     </td><td>4111920</td><td>4005190</td><td>-106730</td></tr>\n",
       "\t<tr><td>0      </td><td> 4     </td><td>4077552</td><td>4003448</td><td> -74104</td></tr>\n",
       "\t<tr><td>0      </td><td> 5     </td><td>4064653</td><td>4004858</td><td> -59795</td></tr>\n",
       "\t<tr><td>0      </td><td> 6     </td><td>4073013</td><td>4134352</td><td>  61339</td></tr>\n",
       "\t<tr><td>0      </td><td> 7     </td><td>4043047</td><td>4154000</td><td> 110953</td></tr>\n",
       "\t<tr><td>0      </td><td> 8     </td><td>4025604</td><td>4119524</td><td>  93920</td></tr>\n",
       "\t<tr><td>0      </td><td> 9     </td><td>4125415</td><td>4106832</td><td> -18583</td></tr>\n",
       "\t<tr><td>0      </td><td>10     </td><td>4187063</td><td>4115254</td><td> -71809</td></tr>\n",
       "\t<tr><td>0      </td><td>11     </td><td>4115511</td><td>4085636</td><td> -29875</td></tr>\n",
       "\t<tr><td>0      </td><td>12     </td><td>4113280</td><td>4068790</td><td> -44490</td></tr>\n",
       "\t<tr><td>0      </td><td>13     </td><td>4119666</td><td>4169346</td><td>  49680</td></tr>\n",
       "\t<tr><td>0      </td><td>14     </td><td>4145614</td><td>4232480</td><td>  86866</td></tr>\n",
       "\t<tr><td>0      </td><td>15     </td><td>4231003</td><td>4163723</td><td> -67280</td></tr>\n",
       "\t<tr><td>0      </td><td>16     </td><td>4313252</td><td>4167234</td><td>-146018</td></tr>\n",
       "\t<tr><td>0      </td><td>17     </td><td>4376368</td><td>4184706</td><td>-191662</td></tr>\n",
       "\t<tr><td>0      </td><td>18     </td><td>4491005</td><td>4225590</td><td>-265415</td></tr>\n",
       "\t<tr><td>0      </td><td>19     </td><td>4571385</td><td>4326394</td><td>-244991</td></tr>\n",
       "\t<tr><td>0      </td><td>20     </td><td>4568470</td><td>4418887</td><td>-149583</td></tr>\n",
       "\t<tr><td>0      </td><td>21     </td><td>4387914</td><td>4489746</td><td> 101832</td></tr>\n",
       "\t<tr><td>0      </td><td>22     </td><td>4286987</td><td>4612322</td><td> 325335</td></tr>\n",
       "\t<tr><td>0      </td><td>23     </td><td>4217221</td><td>4698584</td><td> 481363</td></tr>\n",
       "\t<tr><td>0      </td><td>24     </td><td>4243589</td><td>4692635</td><td> 449046</td></tr>\n",
       "\t<tr><td>0      </td><td>25     </td><td>4289424</td><td>4509594</td><td> 220170</td></tr>\n",
       "\t<tr><td>0      </td><td>26     </td><td>4160810</td><td>4406472</td><td> 245662</td></tr>\n",
       "\t<tr><td>0      </td><td>27     </td><td>4237010</td><td>4332545</td><td>  95535</td></tr>\n",
       "\t<tr><td>0      </td><td>28     </td><td>4247540</td><td>4351851</td><td> 104311</td></tr>\n",
       "\t<tr><td>0      </td><td>29     </td><td>4210285</td><td>4387476</td><td> 177191</td></tr>\n",
       "\t<tr><td>...</td><td>...</td><td>...</td><td>...</td><td>...</td></tr>\n",
       "\t<tr><td>2        </td><td> 72      </td><td>  1021293</td><td>  1183338</td><td> 162045  </td></tr>\n",
       "\t<tr><td>2        </td><td> 73      </td><td>   955663</td><td>  1089183</td><td> 133520  </td></tr>\n",
       "\t<tr><td>2        </td><td> 74      </td><td>   927168</td><td>  1032934</td><td> 105766  </td></tr>\n",
       "\t<tr><td>2        </td><td> 75      </td><td>   906215</td><td>   971263</td><td>  65048  </td></tr>\n",
       "\t<tr><td>2        </td><td> 76      </td><td>   828132</td><td>   936270</td><td> 108138  </td></tr>\n",
       "\t<tr><td>2        </td><td> 77      </td><td>   818306</td><td>   867417</td><td>  49111  </td></tr>\n",
       "\t<tr><td>2        </td><td> 78      </td><td>   799410</td><td>   832296</td><td>  32886  </td></tr>\n",
       "\t<tr><td>2        </td><td> 79      </td><td>   781029</td><td>   803512</td><td>  22483  </td></tr>\n",
       "\t<tr><td>2        </td><td> 80      </td><td>   770510</td><td>   724040</td><td> -46470  </td></tr>\n",
       "\t<tr><td>2        </td><td> 81      </td><td>   716534</td><td>   704919</td><td> -11615  </td></tr>\n",
       "\t<tr><td>2        </td><td> 82      </td><td>   695545</td><td>   676658</td><td> -18887  </td></tr>\n",
       "\t<tr><td>2        </td><td> 83      </td><td>   658442</td><td>   648016</td><td> -10426  </td></tr>\n",
       "\t<tr><td>2        </td><td> 84      </td><td>   611339</td><td>   624921</td><td>  13582  </td></tr>\n",
       "\t<tr><td>2        </td><td> 85      </td><td>   577353</td><td>   565705</td><td> -11648  </td></tr>\n",
       "\t<tr><td>2        </td><td> 86      </td><td>   526155</td><td>   532762</td><td>   6607  </td></tr>\n",
       "\t<tr><td>2        </td><td> 87      </td><td>   467575</td><td>   487380</td><td>  19805  </td></tr>\n",
       "\t<tr><td>2        </td><td> 88      </td><td>   420437</td><td>   435171</td><td>  14734  </td></tr>\n",
       "\t<tr><td>2        </td><td> 89      </td><td>   365732</td><td>   394150</td><td>  28418  </td></tr>\n",
       "\t<tr><td>2        </td><td> 90      </td><td>   306925</td><td>   342495</td><td>  35570  </td></tr>\n",
       "\t<tr><td>2        </td><td> 91      </td><td>   240152</td><td>   288866</td><td>  48714  </td></tr>\n",
       "\t<tr><td>2        </td><td> 92      </td><td>   205379</td><td>   244659</td><td>  39280  </td></tr>\n",
       "\t<tr><td>2        </td><td> 93      </td><td>   158881</td><td>   200353</td><td>  41472  </td></tr>\n",
       "\t<tr><td>2        </td><td> 94      </td><td>   126947</td><td>   156525</td><td>  29578  </td></tr>\n",
       "\t<tr><td>2        </td><td> 95      </td><td>    99341</td><td>   114300</td><td>  14959  </td></tr>\n",
       "\t<tr><td>2        </td><td> 96      </td><td>    75139</td><td>    89949</td><td>  14810  </td></tr>\n",
       "\t<tr><td>2        </td><td> 97      </td><td>    54118</td><td>    63252</td><td>   9134  </td></tr>\n",
       "\t<tr><td>2        </td><td> 98      </td><td>    37533</td><td>    46536</td><td>   9003  </td></tr>\n",
       "\t<tr><td>2        </td><td> 99      </td><td>    26074</td><td>    32791</td><td>   6717  </td></tr>\n",
       "\t<tr><td>2        </td><td>100      </td><td>    45058</td><td>    58468</td><td>  13410  </td></tr>\n",
       "\t<tr><td>2        </td><td>999      </td><td>157257573</td><td>161920569</td><td>4662996  </td></tr>\n",
       "</tbody>\n",
       "</table>\n"
      ],
      "text/latex": [
       "\\begin{tabular}{r|lllll}\n",
       " SEX & AGE & pop\\_2010 & pop\\_2014 & Cambio\\\\\n",
       "\\hline\n",
       "\t 0       &  0      & 3951330 & 3948350 &   -2980\\\\\n",
       "\t 0       &  1      & 3957888 & 3962123 &    4235\\\\\n",
       "\t 0       &  2      & 4090862 & 3957772 & -133090\\\\\n",
       "\t 0       &  3      & 4111920 & 4005190 & -106730\\\\\n",
       "\t 0       &  4      & 4077552 & 4003448 &  -74104\\\\\n",
       "\t 0       &  5      & 4064653 & 4004858 &  -59795\\\\\n",
       "\t 0       &  6      & 4073013 & 4134352 &   61339\\\\\n",
       "\t 0       &  7      & 4043047 & 4154000 &  110953\\\\\n",
       "\t 0       &  8      & 4025604 & 4119524 &   93920\\\\\n",
       "\t 0       &  9      & 4125415 & 4106832 &  -18583\\\\\n",
       "\t 0       & 10      & 4187063 & 4115254 &  -71809\\\\\n",
       "\t 0       & 11      & 4115511 & 4085636 &  -29875\\\\\n",
       "\t 0       & 12      & 4113280 & 4068790 &  -44490\\\\\n",
       "\t 0       & 13      & 4119666 & 4169346 &   49680\\\\\n",
       "\t 0       & 14      & 4145614 & 4232480 &   86866\\\\\n",
       "\t 0       & 15      & 4231003 & 4163723 &  -67280\\\\\n",
       "\t 0       & 16      & 4313252 & 4167234 & -146018\\\\\n",
       "\t 0       & 17      & 4376368 & 4184706 & -191662\\\\\n",
       "\t 0       & 18      & 4491005 & 4225590 & -265415\\\\\n",
       "\t 0       & 19      & 4571385 & 4326394 & -244991\\\\\n",
       "\t 0       & 20      & 4568470 & 4418887 & -149583\\\\\n",
       "\t 0       & 21      & 4387914 & 4489746 &  101832\\\\\n",
       "\t 0       & 22      & 4286987 & 4612322 &  325335\\\\\n",
       "\t 0       & 23      & 4217221 & 4698584 &  481363\\\\\n",
       "\t 0       & 24      & 4243589 & 4692635 &  449046\\\\\n",
       "\t 0       & 25      & 4289424 & 4509594 &  220170\\\\\n",
       "\t 0       & 26      & 4160810 & 4406472 &  245662\\\\\n",
       "\t 0       & 27      & 4237010 & 4332545 &   95535\\\\\n",
       "\t 0       & 28      & 4247540 & 4351851 &  104311\\\\\n",
       "\t 0       & 29      & 4210285 & 4387476 &  177191\\\\\n",
       "\t ... & ... & ... & ... & ...\\\\\n",
       "\t 2         &  72       &   1021293 &   1183338 &  162045  \\\\\n",
       "\t 2         &  73       &    955663 &   1089183 &  133520  \\\\\n",
       "\t 2         &  74       &    927168 &   1032934 &  105766  \\\\\n",
       "\t 2         &  75       &    906215 &    971263 &   65048  \\\\\n",
       "\t 2         &  76       &    828132 &    936270 &  108138  \\\\\n",
       "\t 2         &  77       &    818306 &    867417 &   49111  \\\\\n",
       "\t 2         &  78       &    799410 &    832296 &   32886  \\\\\n",
       "\t 2         &  79       &    781029 &    803512 &   22483  \\\\\n",
       "\t 2         &  80       &    770510 &    724040 &  -46470  \\\\\n",
       "\t 2         &  81       &    716534 &    704919 &  -11615  \\\\\n",
       "\t 2         &  82       &    695545 &    676658 &  -18887  \\\\\n",
       "\t 2         &  83       &    658442 &    648016 &  -10426  \\\\\n",
       "\t 2         &  84       &    611339 &    624921 &   13582  \\\\\n",
       "\t 2         &  85       &    577353 &    565705 &  -11648  \\\\\n",
       "\t 2         &  86       &    526155 &    532762 &    6607  \\\\\n",
       "\t 2         &  87       &    467575 &    487380 &   19805  \\\\\n",
       "\t 2         &  88       &    420437 &    435171 &   14734  \\\\\n",
       "\t 2         &  89       &    365732 &    394150 &   28418  \\\\\n",
       "\t 2         &  90       &    306925 &    342495 &   35570  \\\\\n",
       "\t 2         &  91       &    240152 &    288866 &   48714  \\\\\n",
       "\t 2         &  92       &    205379 &    244659 &   39280  \\\\\n",
       "\t 2         &  93       &    158881 &    200353 &   41472  \\\\\n",
       "\t 2         &  94       &    126947 &    156525 &   29578  \\\\\n",
       "\t 2         &  95       &     99341 &    114300 &   14959  \\\\\n",
       "\t 2         &  96       &     75139 &     89949 &   14810  \\\\\n",
       "\t 2         &  97       &     54118 &     63252 &    9134  \\\\\n",
       "\t 2         &  98       &     37533 &     46536 &    9003  \\\\\n",
       "\t 2         &  99       &     26074 &     32791 &    6717  \\\\\n",
       "\t 2         & 100       &     45058 &     58468 &   13410  \\\\\n",
       "\t 2         & 999       & 157257573 & 161920569 & 4662996  \\\\\n",
       "\\end{tabular}\n"
      ],
      "text/markdown": [
       "\n",
       "SEX | AGE | pop_2010 | pop_2014 | Cambio | \n",
       "|---|---|---|---|---|---|---|---|---|---|---|---|---|---|---|---|---|---|---|---|---|---|---|---|---|---|---|---|---|---|---|---|---|---|---|---|---|---|---|---|---|---|---|---|---|---|---|---|---|---|---|---|---|---|---|---|---|---|---|---|---|\n",
       "| 0       |  0      | 3951330 | 3948350 |   -2980 | \n",
       "| 0       |  1      | 3957888 | 3962123 |    4235 | \n",
       "| 0       |  2      | 4090862 | 3957772 | -133090 | \n",
       "| 0       |  3      | 4111920 | 4005190 | -106730 | \n",
       "| 0       |  4      | 4077552 | 4003448 |  -74104 | \n",
       "| 0       |  5      | 4064653 | 4004858 |  -59795 | \n",
       "| 0       |  6      | 4073013 | 4134352 |   61339 | \n",
       "| 0       |  7      | 4043047 | 4154000 |  110953 | \n",
       "| 0       |  8      | 4025604 | 4119524 |   93920 | \n",
       "| 0       |  9      | 4125415 | 4106832 |  -18583 | \n",
       "| 0       | 10      | 4187063 | 4115254 |  -71809 | \n",
       "| 0       | 11      | 4115511 | 4085636 |  -29875 | \n",
       "| 0       | 12      | 4113280 | 4068790 |  -44490 | \n",
       "| 0       | 13      | 4119666 | 4169346 |   49680 | \n",
       "| 0       | 14      | 4145614 | 4232480 |   86866 | \n",
       "| 0       | 15      | 4231003 | 4163723 |  -67280 | \n",
       "| 0       | 16      | 4313252 | 4167234 | -146018 | \n",
       "| 0       | 17      | 4376368 | 4184706 | -191662 | \n",
       "| 0       | 18      | 4491005 | 4225590 | -265415 | \n",
       "| 0       | 19      | 4571385 | 4326394 | -244991 | \n",
       "| 0       | 20      | 4568470 | 4418887 | -149583 | \n",
       "| 0       | 21      | 4387914 | 4489746 |  101832 | \n",
       "| 0       | 22      | 4286987 | 4612322 |  325335 | \n",
       "| 0       | 23      | 4217221 | 4698584 |  481363 | \n",
       "| 0       | 24      | 4243589 | 4692635 |  449046 | \n",
       "| 0       | 25      | 4289424 | 4509594 |  220170 | \n",
       "| 0       | 26      | 4160810 | 4406472 |  245662 | \n",
       "| 0       | 27      | 4237010 | 4332545 |   95535 | \n",
       "| 0       | 28      | 4247540 | 4351851 |  104311 | \n",
       "| 0       | 29      | 4210285 | 4387476 |  177191 | \n",
       "| ... | ... | ... | ... | ... | \n",
       "| 2         |  72       |   1021293 |   1183338 |  162045   | \n",
       "| 2         |  73       |    955663 |   1089183 |  133520   | \n",
       "| 2         |  74       |    927168 |   1032934 |  105766   | \n",
       "| 2         |  75       |    906215 |    971263 |   65048   | \n",
       "| 2         |  76       |    828132 |    936270 |  108138   | \n",
       "| 2         |  77       |    818306 |    867417 |   49111   | \n",
       "| 2         |  78       |    799410 |    832296 |   32886   | \n",
       "| 2         |  79       |    781029 |    803512 |   22483   | \n",
       "| 2         |  80       |    770510 |    724040 |  -46470   | \n",
       "| 2         |  81       |    716534 |    704919 |  -11615   | \n",
       "| 2         |  82       |    695545 |    676658 |  -18887   | \n",
       "| 2         |  83       |    658442 |    648016 |  -10426   | \n",
       "| 2         |  84       |    611339 |    624921 |   13582   | \n",
       "| 2         |  85       |    577353 |    565705 |  -11648   | \n",
       "| 2         |  86       |    526155 |    532762 |    6607   | \n",
       "| 2         |  87       |    467575 |    487380 |   19805   | \n",
       "| 2         |  88       |    420437 |    435171 |   14734   | \n",
       "| 2         |  89       |    365732 |    394150 |   28418   | \n",
       "| 2         |  90       |    306925 |    342495 |   35570   | \n",
       "| 2         |  91       |    240152 |    288866 |   48714   | \n",
       "| 2         |  92       |    205379 |    244659 |   39280   | \n",
       "| 2         |  93       |    158881 |    200353 |   41472   | \n",
       "| 2         |  94       |    126947 |    156525 |   29578   | \n",
       "| 2         |  95       |     99341 |    114300 |   14959   | \n",
       "| 2         |  96       |     75139 |     89949 |   14810   | \n",
       "| 2         |  97       |     54118 |     63252 |    9134   | \n",
       "| 2         |  98       |     37533 |     46536 |    9003   | \n",
       "| 2         |  99       |     26074 |     32791 |    6717   | \n",
       "| 2         | 100       |     45058 |     58468 |   13410   | \n",
       "| 2         | 999       | 157257573 | 161920569 | 4662996   | \n",
       "\n",
       "\n"
      ],
      "text/plain": [
       "    SEX AGE pop_2010  pop_2014  Cambio \n",
       "1   0    0  3951330   3948350     -2980\n",
       "2   0    1  3957888   3962123      4235\n",
       "3   0    2  4090862   3957772   -133090\n",
       "4   0    3  4111920   4005190   -106730\n",
       "5   0    4  4077552   4003448    -74104\n",
       "6   0    5  4064653   4004858    -59795\n",
       "7   0    6  4073013   4134352     61339\n",
       "8   0    7  4043047   4154000    110953\n",
       "9   0    8  4025604   4119524     93920\n",
       "10  0    9  4125415   4106832    -18583\n",
       "11  0   10  4187063   4115254    -71809\n",
       "12  0   11  4115511   4085636    -29875\n",
       "13  0   12  4113280   4068790    -44490\n",
       "14  0   13  4119666   4169346     49680\n",
       "15  0   14  4145614   4232480     86866\n",
       "16  0   15  4231003   4163723    -67280\n",
       "17  0   16  4313252   4167234   -146018\n",
       "18  0   17  4376368   4184706   -191662\n",
       "19  0   18  4491005   4225590   -265415\n",
       "20  0   19  4571385   4326394   -244991\n",
       "21  0   20  4568470   4418887   -149583\n",
       "22  0   21  4387914   4489746    101832\n",
       "23  0   22  4286987   4612322    325335\n",
       "24  0   23  4217221   4698584    481363\n",
       "25  0   24  4243589   4692635    449046\n",
       "26  0   25  4289424   4509594    220170\n",
       "27  0   26  4160810   4406472    245662\n",
       "28  0   27  4237010   4332545     95535\n",
       "29  0   28  4247540   4351851    104311\n",
       "30  0   29  4210285   4387476    177191\n",
       "... ... ... ...       ...       ...    \n",
       "277 2    72   1021293   1183338  162045\n",
       "278 2    73    955663   1089183  133520\n",
       "279 2    74    927168   1032934  105766\n",
       "280 2    75    906215    971263   65048\n",
       "281 2    76    828132    936270  108138\n",
       "282 2    77    818306    867417   49111\n",
       "283 2    78    799410    832296   32886\n",
       "284 2    79    781029    803512   22483\n",
       "285 2    80    770510    724040  -46470\n",
       "286 2    81    716534    704919  -11615\n",
       "287 2    82    695545    676658  -18887\n",
       "288 2    83    658442    648016  -10426\n",
       "289 2    84    611339    624921   13582\n",
       "290 2    85    577353    565705  -11648\n",
       "291 2    86    526155    532762    6607\n",
       "292 2    87    467575    487380   19805\n",
       "293 2    88    420437    435171   14734\n",
       "294 2    89    365732    394150   28418\n",
       "295 2    90    306925    342495   35570\n",
       "296 2    91    240152    288866   48714\n",
       "297 2    92    205379    244659   39280\n",
       "298 2    93    158881    200353   41472\n",
       "299 2    94    126947    156525   29578\n",
       "300 2    95     99341    114300   14959\n",
       "301 2    96     75139     89949   14810\n",
       "302 2    97     54118     63252    9134\n",
       "303 2    98     37533     46536    9003\n",
       "304 2    99     26074     32791    6717\n",
       "305 2   100     45058     58468   13410\n",
       "306 2   999 157257573 161920569 4662996"
      ]
     },
     "metadata": {},
     "output_type": "display_data"
    }
   ],
   "source": [
    "mutate(pop_Simple, \n",
    "       Cambio = pop_2014 - pop_2010, Crecimiento = pop_2014/pop_2010 - 1) "
   ]
  },
  {
   "cell_type": "code",
   "execution_count": 23,
   "metadata": {
    "collapsed": true
   },
   "outputs": [],
   "source": [
    "percent <- function(x, digits = 2, format = \"f\", ...) {\n",
    "  paste0(formatC(100 * x, format = format, digits = digits, ...), \"%\")\n",
    "}\n"
   ]
  },
  {
   "cell_type": "code",
   "execution_count": 32,
   "metadata": {},
   "outputs": [
    {
     "data": {
      "text/html": [
       "<table>\n",
       "<thead><tr><th scope=col>SEX</th><th scope=col>AGE</th><th scope=col>pop_2010</th><th scope=col>pop_2014</th><th scope=col>Cambio</th><th scope=col>Crecimiento</th></tr></thead>\n",
       "<tbody>\n",
       "\t<tr><td>0      </td><td>0      </td><td>3951330</td><td>3948350</td><td>  -2980</td><td>-0.02% </td></tr>\n",
       "\t<tr><td>0      </td><td>1      </td><td>3957888</td><td>3962123</td><td>   4235</td><td>0.03%  </td></tr>\n",
       "\t<tr><td>0      </td><td>2      </td><td>4090862</td><td>3957772</td><td>-133090</td><td>-0.82% </td></tr>\n",
       "\t<tr><td>0      </td><td>3      </td><td>4111920</td><td>4005190</td><td>-106730</td><td>-0.66% </td></tr>\n",
       "\t<tr><td>0      </td><td>4      </td><td>4077552</td><td>4003448</td><td> -74104</td><td>-0.46% </td></tr>\n",
       "\t<tr><td>0      </td><td>5      </td><td>4064653</td><td>4004858</td><td> -59795</td><td>-0.37% </td></tr>\n",
       "</tbody>\n",
       "</table>\n"
      ],
      "text/latex": [
       "\\begin{tabular}{r|llllll}\n",
       " SEX & AGE & pop\\_2010 & pop\\_2014 & Cambio & Crecimiento\\\\\n",
       "\\hline\n",
       "\t 0        & 0        & 3951330  & 3948350  &   -2980  & -0.02\\%\\\\\n",
       "\t 0        & 1        & 3957888  & 3962123  &    4235  & 0.03\\% \\\\\n",
       "\t 0        & 2        & 4090862  & 3957772  & -133090  & -0.82\\%\\\\\n",
       "\t 0        & 3        & 4111920  & 4005190  & -106730  & -0.66\\%\\\\\n",
       "\t 0        & 4        & 4077552  & 4003448  &  -74104  & -0.46\\%\\\\\n",
       "\t 0        & 5        & 4064653  & 4004858  &  -59795  & -0.37\\%\\\\\n",
       "\\end{tabular}\n"
      ],
      "text/markdown": [
       "\n",
       "SEX | AGE | pop_2010 | pop_2014 | Cambio | Crecimiento | \n",
       "|---|---|---|---|---|---|\n",
       "| 0       | 0       | 3951330 | 3948350 |   -2980 | -0.02%  | \n",
       "| 0       | 1       | 3957888 | 3962123 |    4235 | 0.03%   | \n",
       "| 0       | 2       | 4090862 | 3957772 | -133090 | -0.82%  | \n",
       "| 0       | 3       | 4111920 | 4005190 | -106730 | -0.66%  | \n",
       "| 0       | 4       | 4077552 | 4003448 |  -74104 | -0.46%  | \n",
       "| 0       | 5       | 4064653 | 4004858 |  -59795 | -0.37%  | \n",
       "\n",
       "\n"
      ],
      "text/plain": [
       "  SEX AGE pop_2010 pop_2014 Cambio  Crecimiento\n",
       "1 0   0   3951330  3948350    -2980 -0.02%     \n",
       "2 0   1   3957888  3962123     4235 0.03%      \n",
       "3 0   2   4090862  3957772  -133090 -0.82%     \n",
       "4 0   3   4111920  4005190  -106730 -0.66%     \n",
       "5 0   4   4077552  4003448   -74104 -0.46%     \n",
       "6 0   5   4064653  4004858   -59795 -0.37%     "
      ]
     },
     "metadata": {},
     "output_type": "display_data"
    }
   ],
   "source": [
    "pop_Simple <- mutate(pop_Simple, Cambio = pop_2014 - pop_2010, \n",
    "                     Crecimiento = percent((pop_2014/pop_2010)^(1/4) - 1))\n",
    "head(pop_Simple)"
   ]
  },
  {
   "cell_type": "markdown",
   "metadata": {
    "collapsed": true
   },
   "source": [
    "Info acerca de la tabla:\n",
    "\n",
    "    * http://www2.census.gov/programs-surveys/popest/technical-documentation/file-layouts/2010-2014/nc-est2014-agesex-res.pdf"
   ]
  },
  {
   "cell_type": "code",
   "execution_count": 33,
   "metadata": {},
   "outputs": [
    {
     "data": {
      "text/html": [
       "<table>\n",
       "<thead><tr><th scope=col>SEX</th><th scope=col>AGE</th><th scope=col>pop_2010</th><th scope=col>pop_2014</th><th scope=col>Cambio</th><th scope=col>Crecimiento</th></tr></thead>\n",
       "<tbody>\n",
       "\t<tr><td>0        </td><td>999      </td><td>309347057</td><td>318857056</td><td>9509999  </td><td>0.76%    </td></tr>\n",
       "\t<tr><td>1        </td><td>999      </td><td>152089484</td><td>156936487</td><td>4847003  </td><td>0.79%    </td></tr>\n",
       "\t<tr><td>2        </td><td>999      </td><td>157257573</td><td>161920569</td><td>4662996  </td><td>0.73%    </td></tr>\n",
       "</tbody>\n",
       "</table>\n"
      ],
      "text/latex": [
       "\\begin{tabular}{r|llllll}\n",
       " SEX & AGE & pop\\_2010 & pop\\_2014 & Cambio & Crecimiento\\\\\n",
       "\\hline\n",
       "\t 0         & 999       & 309347057 & 318857056 & 9509999   & 0.76\\%  \\\\\n",
       "\t 1         & 999       & 152089484 & 156936487 & 4847003   & 0.79\\%  \\\\\n",
       "\t 2         & 999       & 157257573 & 161920569 & 4662996   & 0.73\\%  \\\\\n",
       "\\end{tabular}\n"
      ],
      "text/markdown": [
       "\n",
       "SEX | AGE | pop_2010 | pop_2014 | Cambio | Crecimiento | \n",
       "|---|---|---|\n",
       "| 0         | 999       | 309347057 | 318857056 | 9509999   | 0.76%     | \n",
       "| 1         | 999       | 152089484 | 156936487 | 4847003   | 0.79%     | \n",
       "| 2         | 999       | 157257573 | 161920569 | 4662996   | 0.73%     | \n",
       "\n",
       "\n"
      ],
      "text/plain": [
       "  SEX AGE pop_2010  pop_2014  Cambio  Crecimiento\n",
       "1 0   999 309347057 318857056 9509999 0.76%      \n",
       "2 1   999 152089484 156936487 4847003 0.79%      \n",
       "3 2   999 157257573 161920569 4662996 0.73%      "
      ]
     },
     "metadata": {},
     "output_type": "display_data"
    }
   ],
   "source": [
    "totales <- filter(pop_Simple, AGE == 999) #AGE = 999 para la población total.\n",
    "totales"
   ]
  },
  {
   "cell_type": "code",
   "execution_count": 41,
   "metadata": {},
   "outputs": [
    {
     "data": {
      "text/html": [
       "<table>\n",
       "<thead><tr><th scope=col>SEX</th><th scope=col>AGE</th><th scope=col>pop_2010</th><th scope=col>pop_2014</th><th scope=col>Cambio</th><th scope=col>Crecimiento</th></tr></thead>\n",
       "<tbody>\n",
       "\t<tr><td>1     </td><td>100   </td><td>9351  </td><td>13729 </td><td>4378  </td><td>10.08%</td></tr>\n",
       "</tbody>\n",
       "</table>\n"
      ],
      "text/latex": [
       "\\begin{tabular}{r|llllll}\n",
       " SEX & AGE & pop\\_2010 & pop\\_2014 & Cambio & Crecimiento\\\\\n",
       "\\hline\n",
       "\t 1        & 100      & 9351     & 13729    & 4378     & 10.08\\%\\\\\n",
       "\\end{tabular}\n"
      ],
      "text/markdown": [
       "\n",
       "SEX | AGE | pop_2010 | pop_2014 | Cambio | Crecimiento | \n",
       "|---|\n",
       "| 1      | 100    | 9351   | 13729  | 4378   | 10.08% | \n",
       "\n",
       "\n"
      ],
      "text/plain": [
       "  SEX AGE pop_2010 pop_2014 Cambio Crecimiento\n",
       "1 1   100 9351     13729    4378   10.08%     "
      ]
     },
     "metadata": {},
     "output_type": "display_data"
    },
    {
     "data": {
      "text/html": [
       "<table>\n",
       "<thead><tr><th scope=col>SEX</th><th scope=col>AGE</th><th scope=col>pop_2010</th><th scope=col>pop_2014</th><th scope=col>Cambio</th><th scope=col>Crecimiento</th></tr></thead>\n",
       "<tbody>\n",
       "\t<tr><td>1     </td><td>99    </td><td>6104  </td><td>9037  </td><td>2933  </td><td>10.31%</td></tr>\n",
       "</tbody>\n",
       "</table>\n"
      ],
      "text/latex": [
       "\\begin{tabular}{r|llllll}\n",
       " SEX & AGE & pop\\_2010 & pop\\_2014 & Cambio & Crecimiento\\\\\n",
       "\\hline\n",
       "\t 1        & 99       & 6104     & 9037     & 2933     & 10.31\\%\\\\\n",
       "\\end{tabular}\n"
      ],
      "text/markdown": [
       "\n",
       "SEX | AGE | pop_2010 | pop_2014 | Cambio | Crecimiento | \n",
       "|---|\n",
       "| 1      | 99     | 6104   | 9037   | 2933   | 10.31% | \n",
       "\n",
       "\n"
      ],
      "text/plain": [
       "  SEX AGE pop_2010 pop_2014 Cambio Crecimiento\n",
       "1 1   99  6104     9037     2933   10.31%     "
      ]
     },
     "metadata": {},
     "output_type": "display_data"
    }
   ],
   "source": [
    "hombres <- filter(pop_Simple, SEX == 1)\n",
    "#arrange(hombres, desc(Crecimiento)) # Es un segmento pequeño de la población que cambia rápidamente.\n",
    "\n",
    "filter(hombres, AGE == 100)\n",
    "filter(hombres, AGE == 99)"
   ]
  },
  {
   "cell_type": "code",
   "execution_count": 42,
   "metadata": {},
   "outputs": [
    {
     "data": {
      "text/html": [
       "<table>\n",
       "<thead><tr><th scope=col>SEX</th><th scope=col>AGE</th><th scope=col>pop_2010</th><th scope=col>pop_2014</th><th scope=col>Cambio</th><th scope=col>Crecimiento</th></tr></thead>\n",
       "<tbody>\n",
       "\t<tr><td>1        </td><td> 64      </td><td>  1291843</td><td>  1661474</td><td> 369631  </td><td>6.49%    </td></tr>\n",
       "\t<tr><td>1        </td><td> 65      </td><td>  1272693</td><td>  1607688</td><td> 334995  </td><td>6.02%    </td></tr>\n",
       "\t<tr><td>1        </td><td> 66      </td><td>  1239805</td><td>  1589127</td><td> 349322  </td><td>6.40%    </td></tr>\n",
       "\t<tr><td>1        </td><td> 67      </td><td>  1270148</td><td>  1653257</td><td> 383109  </td><td>6.81%    </td></tr>\n",
       "\t<tr><td>1        </td><td>999      </td><td>152089484</td><td>156936487</td><td>4847003  </td><td>0.79%    </td></tr>\n",
       "</tbody>\n",
       "</table>\n"
      ],
      "text/latex": [
       "\\begin{tabular}{r|llllll}\n",
       " SEX & AGE & pop\\_2010 & pop\\_2014 & Cambio & Crecimiento\\\\\n",
       "\\hline\n",
       "\t 1         &  64       &   1291843 &   1661474 &  369631   & 6.49\\%  \\\\\n",
       "\t 1         &  65       &   1272693 &   1607688 &  334995   & 6.02\\%  \\\\\n",
       "\t 1         &  66       &   1239805 &   1589127 &  349322   & 6.40\\%  \\\\\n",
       "\t 1         &  67       &   1270148 &   1653257 &  383109   & 6.81\\%  \\\\\n",
       "\t 1         & 999       & 152089484 & 156936487 & 4847003   & 0.79\\%  \\\\\n",
       "\\end{tabular}\n"
      ],
      "text/markdown": [
       "\n",
       "SEX | AGE | pop_2010 | pop_2014 | Cambio | Crecimiento | \n",
       "|---|---|---|---|---|\n",
       "| 1         |  64       |   1291843 |   1661474 |  369631   | 6.49%     | \n",
       "| 1         |  65       |   1272693 |   1607688 |  334995   | 6.02%     | \n",
       "| 1         |  66       |   1239805 |   1589127 |  349322   | 6.40%     | \n",
       "| 1         |  67       |   1270148 |   1653257 |  383109   | 6.81%     | \n",
       "| 1         | 999       | 152089484 | 156936487 | 4847003   | 0.79%     | \n",
       "\n",
       "\n"
      ],
      "text/plain": [
       "  SEX AGE pop_2010  pop_2014  Cambio  Crecimiento\n",
       "1 1    64   1291843   1661474  369631 6.49%      \n",
       "2 1    65   1272693   1607688  334995 6.02%      \n",
       "3 1    66   1239805   1589127  349322 6.40%      \n",
       "4 1    67   1270148   1653257  383109 6.81%      \n",
       "5 1   999 152089484 156936487 4847003 0.79%      "
      ]
     },
     "metadata": {},
     "output_type": "display_data"
    }
   ],
   "source": [
    "filter(hombres, Cambio > 300000) "
   ]
  }
 ],
 "metadata": {
  "anaconda-cloud": {},
  "kernelspec": {
   "display_name": "R 3.3",
   "language": "R",
   "name": "ir33"
  },
  "language_info": {
   "codemirror_mode": "r",
   "file_extension": ".r",
   "mimetype": "text/x-r-source",
   "name": "R",
   "pygments_lexer": "r",
   "version": "3.3.3"
  }
 },
 "nbformat": 4,
 "nbformat_minor": 1
}
