{
 "cells": [
  {
   "cell_type": "markdown",
   "metadata": {},
   "source": [
    "# Otros Tipos"
   ]
  },
  {
   "cell_type": "markdown",
   "metadata": {},
   "source": [
    "R sirve para manipular otros tipos de datos también.\n",
    "\n",
    "## Caracteres (Strings, Characters)"
   ]
  },
  {
   "cell_type": "code",
   "execution_count": 1,
   "metadata": {},
   "outputs": [
    {
     "data": {
      "text/html": [
       "'a'"
      ],
      "text/latex": [
       "'a'"
      ],
      "text/markdown": [
       "'a'"
      ],
      "text/plain": [
       "[1] \"a\""
      ]
     },
     "metadata": {},
     "output_type": "display_data"
    },
    {
     "data": {
      "text/html": [
       "'a'"
      ],
      "text/latex": [
       "'a'"
      ],
      "text/markdown": [
       "'a'"
      ],
      "text/plain": [
       "[1] \"a\""
      ]
     },
     "metadata": {},
     "output_type": "display_data"
    },
    {
     "data": {
      "text/html": [
       "'256'"
      ],
      "text/latex": [
       "'256'"
      ],
      "text/markdown": [
       "'256'"
      ],
      "text/plain": [
       "[1] \"256\""
      ]
     },
     "metadata": {},
     "output_type": "display_data"
    },
    {
     "data": {
      "text/html": [
       "'palabra1, palabra2'"
      ],
      "text/latex": [
       "'palabra1, palabra2'"
      ],
      "text/markdown": [
       "'palabra1, palabra2'"
      ],
      "text/plain": [
       "[1] \"palabra1, palabra2\""
      ]
     },
     "metadata": {},
     "output_type": "display_data"
    },
    {
     "data": {
      "text/html": [
       "'Nadie sabe donde está el robot 2'"
      ],
      "text/latex": [
       "'Nadie sabe donde está el robot 2'"
      ],
      "text/markdown": [
       "'Nadie sabe donde está el robot 2'"
      ],
      "text/plain": [
       "[1] \"Nadie sabe donde está el robot 2\""
      ]
     },
     "metadata": {},
     "output_type": "display_data"
    }
   ],
   "source": [
    "\"a\"\n",
    "'a'\n",
    "'256'\n",
    "'palabra1, palabra2'\n",
    "'Nadie sabe donde está el robot 2' # Puede ser un libro entero. "
   ]
  },
  {
   "cell_type": "code",
   "execution_count": 2,
   "metadata": {},
   "outputs": [
    {
     "ename": "ERROR",
     "evalue": "Error in \"a\" + \"b\": non-numeric argument to binary operator\n",
     "output_type": "error",
     "traceback": [
      "Error in \"a\" + \"b\": non-numeric argument to binary operator\nTraceback:\n"
     ]
    }
   ],
   "source": [
    "'a' + 'b'"
   ]
  },
  {
   "cell_type": "markdown",
   "metadata": {},
   "source": [
    "Culaquier cosa se puede convertir en un caracter."
   ]
  },
  {
   "cell_type": "code",
   "execution_count": 7,
   "metadata": {},
   "outputs": [
    {
     "data": {
      "text/html": [
       "'2'"
      ],
      "text/latex": [
       "'2'"
      ],
      "text/markdown": [
       "'2'"
      ],
      "text/plain": [
       "[1] \"2\""
      ]
     },
     "metadata": {},
     "output_type": "display_data"
    }
   ],
   "source": [
    "as.character(2)"
   ]
  },
  {
   "cell_type": "markdown",
   "metadata": {},
   "source": [
    "### Algunas funciones para caracteres (characters/ strings)\n",
    "\n",
    "    *strsplit <- corta una frase en el lugar designado por el segundo argumento. Problema: Devuelve una lista!\n",
    "        * a veces mejor usar gsub\n",
    "    *strtrim <- número de caracteres permitido en un string.\n",
    "    *pueden buscar un pedezo de frase y reemplazarlo; \n"
   ]
  },
  {
   "cell_type": "code",
   "execution_count": 11,
   "metadata": {},
   "outputs": [
    {
     "data": {
      "text/html": [
       "'El perro '"
      ],
      "text/latex": [
       "'El perro '"
      ],
      "text/markdown": [
       "'El perro '"
      ],
      "text/plain": [
       "[1] \"El perro \""
      ]
     },
     "metadata": {},
     "output_type": "display_data"
    },
    {
     "data": {
      "text/html": [
       "' desierto'"
      ],
      "text/latex": [
       "' desierto'"
      ],
      "text/markdown": [
       "' desierto'"
      ],
      "text/plain": [
       "[1] \" desierto\""
      ]
     },
     "metadata": {},
     "output_type": "display_data"
    },
    {
     "data": {
      "text/html": [
       "<ol>\n",
       "\t<li><style>\n",
       ".list-inline {list-style: none; margin:0; padding: 0}\n",
       ".list-inline>li {display: inline-block}\n",
       ".list-inline>li:not(:last-child)::after {content: \"\\00b7\"; padding: 0 .5ex}\n",
       "</style>\n",
       "<ol class=list-inline><li>'El perro '</li><li>' desierto'</li></ol>\n",
       "</li>\n",
       "</ol>\n"
      ],
      "text/latex": [
       "\\begin{enumerate}\n",
       "\\item \\begin{enumerate*}\n",
       "\\item 'El perro '\n",
       "\\item ' desierto'\n",
       "\\end{enumerate*}\n",
       "\n",
       "\\end{enumerate}\n"
      ],
      "text/markdown": [
       "1. 1. 'El perro '\n",
       "2. ' desierto'\n",
       "\n",
       "\n",
       "\n",
       "\n",
       "\n"
      ],
      "text/plain": [
       "[[1]]\n",
       "[1] \"El perro \" \" desierto\"\n"
      ]
     },
     "metadata": {},
     "output_type": "display_data"
    }
   ],
   "source": [
    "frase <- \"El perro del desierto\"\n",
    "\n",
    "f.split <- strsplit(frase, \"del\")\n",
    "\n",
    "f.split[[1]][1]\n",
    "f.split[[1]][2]\n",
    "\n",
    "f.split"
   ]
  },
  {
   "cell_type": "markdown",
   "metadata": {},
   "source": [
    "## Vectores\n",
    "\n",
    "Contienen elementos del mismo tipo. "
   ]
  },
  {
   "cell_type": "code",
   "execution_count": 12,
   "metadata": {},
   "outputs": [
    {
     "data": {
      "text/html": [
       "45"
      ],
      "text/latex": [
       "45"
      ],
      "text/markdown": [
       "45"
      ],
      "text/plain": [
       "[1] 45"
      ]
     },
     "metadata": {},
     "output_type": "display_data"
    },
    {
     "data": {
      "text/html": [
       "<style>\n",
       ".list-inline {list-style: none; margin:0; padding: 0}\n",
       ".list-inline>li {display: inline-block}\n",
       ".list-inline>li:not(:last-child)::after {content: \"\\00b7\"; padding: 0 .5ex}\n",
       "</style>\n",
       "<ol class=list-inline><li>'Hola'</li><li>'hola'</li><li>'hOlA'</li></ol>\n"
      ],
      "text/latex": [
       "\\begin{enumerate*}\n",
       "\\item 'Hola'\n",
       "\\item 'hola'\n",
       "\\item 'hOlA'\n",
       "\\end{enumerate*}\n"
      ],
      "text/markdown": [
       "1. 'Hola'\n",
       "2. 'hola'\n",
       "3. 'hOlA'\n",
       "\n",
       "\n"
      ],
      "text/plain": [
       "[1] \"Hola\" \"hola\" \"hOlA\""
      ]
     },
     "metadata": {},
     "output_type": "display_data"
    }
   ],
   "source": [
    "nums <- c(1, 9, 45)\n",
    "nums[3]\n",
    "\n",
    "c('Hola', 'hola', 'hOlA')"
   ]
  },
  {
   "cell_type": "code",
   "execution_count": 13,
   "metadata": {},
   "outputs": [
    {
     "data": {
      "text/html": [
       "<style>\n",
       ".list-inline {list-style: none; margin:0; padding: 0}\n",
       ".list-inline>li {display: inline-block}\n",
       ".list-inline>li:not(:last-child)::after {content: \"\\00b7\"; padding: 0 .5ex}\n",
       "</style>\n",
       "<ol class=list-inline><li>'1'</li><li>'a'</li></ol>\n"
      ],
      "text/latex": [
       "\\begin{enumerate*}\n",
       "\\item '1'\n",
       "\\item 'a'\n",
       "\\end{enumerate*}\n"
      ],
      "text/markdown": [
       "1. '1'\n",
       "2. 'a'\n",
       "\n",
       "\n"
      ],
      "text/plain": [
       "[1] \"1\" \"a\""
      ]
     },
     "metadata": {},
     "output_type": "display_data"
    }
   ],
   "source": [
    "c(1, 'a')"
   ]
  },
  {
   "cell_type": "markdown",
   "metadata": {},
   "source": [
    "Pueden hacer álgebra y aritmética con los vectores. "
   ]
  },
  {
   "cell_type": "code",
   "execution_count": 14,
   "metadata": {},
   "outputs": [
    {
     "data": {
      "text/html": [
       "<style>\n",
       ".list-inline {list-style: none; margin:0; padding: 0}\n",
       ".list-inline>li {display: inline-block}\n",
       ".list-inline>li:not(:last-child)::after {content: \"\\00b7\"; padding: 0 .5ex}\n",
       "</style>\n",
       "<ol class=list-inline><li>1</li><li>2</li><li>3</li></ol>\n"
      ],
      "text/latex": [
       "\\begin{enumerate*}\n",
       "\\item 1\n",
       "\\item 2\n",
       "\\item 3\n",
       "\\end{enumerate*}\n"
      ],
      "text/markdown": [
       "1. 1\n",
       "2. 2\n",
       "3. 3\n",
       "\n",
       "\n"
      ],
      "text/plain": [
       "[1] 1 2 3"
      ]
     },
     "metadata": {},
     "output_type": "display_data"
    },
    {
     "data": {
      "text/html": [
       "<style>\n",
       ".list-inline {list-style: none; margin:0; padding: 0}\n",
       ".list-inline>li {display: inline-block}\n",
       ".list-inline>li:not(:last-child)::after {content: \"\\00b7\"; padding: 0 .5ex}\n",
       "</style>\n",
       "<ol class=list-inline><li>2</li><li>3</li><li>4</li></ol>\n"
      ],
      "text/latex": [
       "\\begin{enumerate*}\n",
       "\\item 2\n",
       "\\item 3\n",
       "\\item 4\n",
       "\\end{enumerate*}\n"
      ],
      "text/markdown": [
       "1. 2\n",
       "2. 3\n",
       "3. 4\n",
       "\n",
       "\n"
      ],
      "text/plain": [
       "[1] 2 3 4"
      ]
     },
     "metadata": {},
     "output_type": "display_data"
    }
   ],
   "source": [
    "x <- c(1, 2, 3)\n",
    "x_mas_1 <- x + 1\n",
    "\n",
    "x \n",
    "x_mas_1"
   ]
  },
  {
   "cell_type": "code",
   "execution_count": 15,
   "metadata": {},
   "outputs": [
    {
     "data": {
      "text/html": [
       "1540"
      ],
      "text/latex": [
       "1540"
      ],
      "text/markdown": [
       "1540"
      ],
      "text/plain": [
       "[1] 1540"
      ]
     },
     "metadata": {},
     "output_type": "display_data"
    }
   ],
   "source": [
    "x <- 1:55\n",
    "sum(x)"
   ]
  },
  {
   "cell_type": "code",
   "execution_count": 16,
   "metadata": {},
   "outputs": [
    {
     "data": {
      "text/html": [
       "<style>\n",
       ".list-inline {list-style: none; margin:0; padding: 0}\n",
       ".list-inline>li {display: inline-block}\n",
       ".list-inline>li:not(:last-child)::after {content: \"\\00b7\"; padding: 0 .5ex}\n",
       "</style>\n",
       "<ol class=list-inline><li>16</li><li>32</li><li>48</li></ol>\n"
      ],
      "text/latex": [
       "\\begin{enumerate*}\n",
       "\\item 16\n",
       "\\item 32\n",
       "\\item 48\n",
       "\\end{enumerate*}\n"
      ],
      "text/markdown": [
       "1. 16\n",
       "2. 32\n",
       "3. 48\n",
       "\n",
       "\n"
      ],
      "text/plain": [
       "[1] 16 32 48"
      ]
     },
     "metadata": {},
     "output_type": "display_data"
    },
    {
     "data": {
      "text/html": [
       "<style>\n",
       ".list-inline {list-style: none; margin:0; padding: 0}\n",
       ".list-inline>li {display: inline-block}\n",
       ".list-inline>li:not(:last-child)::after {content: \"\\00b7\"; padding: 0 .5ex}\n",
       "</style>\n",
       "<ol class=list-inline><li>1</li><li>4</li><li>9</li></ol>\n"
      ],
      "text/latex": [
       "\\begin{enumerate*}\n",
       "\\item 1\n",
       "\\item 4\n",
       "\\item 9\n",
       "\\end{enumerate*}\n"
      ],
      "text/markdown": [
       "1. 1\n",
       "2. 4\n",
       "3. 9\n",
       "\n",
       "\n"
      ],
      "text/plain": [
       "[1] 1 4 9"
      ]
     },
     "metadata": {},
     "output_type": "display_data"
    },
    {
     "data": {
      "text/html": [
       "<style>\n",
       ".list-inline {list-style: none; margin:0; padding: 0}\n",
       ".list-inline>li {display: inline-block}\n",
       ".list-inline>li:not(:last-child)::after {content: \"\\00b7\"; padding: 0 .5ex}\n",
       "</style>\n",
       "<ol class=list-inline><li>1</li><li>4</li><li>27</li></ol>\n"
      ],
      "text/latex": [
       "\\begin{enumerate*}\n",
       "\\item 1\n",
       "\\item 4\n",
       "\\item 27\n",
       "\\end{enumerate*}\n"
      ],
      "text/markdown": [
       "1. 1\n",
       "2. 4\n",
       "3. 27\n",
       "\n",
       "\n"
      ],
      "text/plain": [
       "[1]  1  4 27"
      ]
     },
     "metadata": {},
     "output_type": "display_data"
    }
   ],
   "source": [
    "x <- c(1, 2, 3)\n",
    "y <- c(2, 2, 2)\n",
    "\n",
    "x * 16\n",
    "\n",
    "x*x\n",
    "\n",
    "x^x"
   ]
  },
  {
   "cell_type": "code",
   "execution_count": 17,
   "metadata": {},
   "outputs": [
    {
     "data": {
      "text/html": [
       "<style>\n",
       ".list-inline {list-style: none; margin:0; padding: 0}\n",
       ".list-inline>li {display: inline-block}\n",
       ".list-inline>li:not(:last-child)::after {content: \"\\00b7\"; padding: 0 .5ex}\n",
       "</style>\n",
       "<ol class=list-inline><li>2</li><li>4</li><li>6</li></ol>\n"
      ],
      "text/latex": [
       "\\begin{enumerate*}\n",
       "\\item 2\n",
       "\\item 4\n",
       "\\item 6\n",
       "\\end{enumerate*}\n"
      ],
      "text/markdown": [
       "1. 2\n",
       "2. 4\n",
       "3. 6\n",
       "\n",
       "\n"
      ],
      "text/plain": [
       "[1] 2 4 6"
      ]
     },
     "metadata": {},
     "output_type": "display_data"
    }
   ],
   "source": [
    "x <- c(1, 2, 3)\n",
    "y <- c(2, 2, 2)\n",
    "\n",
    "x * y"
   ]
  },
  {
   "cell_type": "markdown",
   "metadata": {},
   "source": [
    "Población promedio\n",
    "\n",
    "        https://en.wikipedia.org/wiki/World_population\n",
    "        \n",
    "       \n",
    "World historical and predicted populations (in millions):\n",
    "\n",
    "- Year:\t1500\t1600\t1700\t1750\t1800\t1850\t1900\t1950\t1999\t2008\t2010\t2012\t2050\t2150\n",
    "\n",
    "- World:\t585\t660\t710\t791\t978\t1,262\t1,650\t2,521\t6,008\t6,707\t6,896\t7,052\t9,725\t9,746"
   ]
  },
  {
   "cell_type": "code",
   "execution_count": 18,
   "metadata": {},
   "outputs": [
    {
     "data": {
      "text/html": [
       "<style>\n",
       ".list-inline {list-style: none; margin:0; padding: 0}\n",
       ".list-inline>li {display: inline-block}\n",
       ".list-inline>li:not(:last-child)::after {content: \"\\00b7\"; padding: 0 .5ex}\n",
       "</style>\n",
       "<ol class=list-inline><li>585</li><li>660</li><li>710</li></ol>\n"
      ],
      "text/latex": [
       "\\begin{enumerate*}\n",
       "\\item 585\n",
       "\\item 660\n",
       "\\item 710\n",
       "\\end{enumerate*}\n"
      ],
      "text/markdown": [
       "1. 585\n",
       "2. 660\n",
       "3. 710\n",
       "\n",
       "\n"
      ],
      "text/plain": [
       "[1] 585 660 710"
      ]
     },
     "metadata": {},
     "output_type": "display_data"
    }
   ],
   "source": [
    "pop_1500 <- 585 \n",
    "pop <- c(pop_1500, pop_1500 + 75, \n",
    "         pop_1500 + 125)\n",
    "pop"
   ]
  },
  {
   "cell_type": "code",
   "execution_count": 19,
   "metadata": {},
   "outputs": [
    {
     "data": {
      "text/html": [
       "651.666666666667"
      ],
      "text/latex": [
       "651.666666666667"
      ],
      "text/markdown": [
       "651.666666666667"
      ],
      "text/plain": [
       "[1] 651.6667"
      ]
     },
     "metadata": {},
     "output_type": "display_data"
    },
    {
     "data": {
      "text/html": [
       "651.666666666667"
      ],
      "text/latex": [
       "651.666666666667"
      ],
      "text/markdown": [
       "651.666666666667"
      ],
      "text/plain": [
       "[1] 651.6667"
      ]
     },
     "metadata": {},
     "output_type": "display_data"
    }
   ],
   "source": [
    "# Pobalción promedio entre 1500 - 1750\n",
    "\n",
    "sum(pop)/length(pop) # suma total/ largo del vector.\n",
    "mean(pop)"
   ]
  },
  {
   "cell_type": "code",
   "execution_count": 20,
   "metadata": {},
   "outputs": [
    {
     "data": {
      "text/html": [
       "660"
      ],
      "text/latex": [
       "660"
      ],
      "text/markdown": [
       "660"
      ],
      "text/plain": [
       "[1] 660"
      ]
     },
     "metadata": {},
     "output_type": "display_data"
    }
   ],
   "source": [
    "# 1500 1600 1700 1750\n",
    "# 585  660  710  791\n",
    "pop_1600 <- pop[2]\n",
    "pop_1600"
   ]
  },
  {
   "cell_type": "code",
   "execution_count": 21,
   "metadata": {},
   "outputs": [
    {
     "data": {
      "text/html": [
       "62.5"
      ],
      "text/latex": [
       "62.5"
      ],
      "text/markdown": [
       "62.5"
      ],
      "text/plain": [
       "[1] 62.5"
      ]
     },
     "metadata": {},
     "output_type": "display_data"
    },
    {
     "data": {
      "text/html": [
       "62.5"
      ],
      "text/latex": [
       "62.5"
      ],
      "text/markdown": [
       "62.5"
      ],
      "text/plain": [
       "[1] 62.5"
      ]
     },
     "metadata": {},
     "output_type": "display_data"
    }
   ],
   "source": [
    "dif_period <- diff(pop)\n",
    "mean(dif_period)\n",
    "sum(dif_period)/length(dif_period)"
   ]
  },
  {
   "cell_type": "code",
   "execution_count": 22,
   "metadata": {},
   "outputs": [
    {
     "data": {
      "text/html": [
       "62.5"
      ],
      "text/latex": [
       "62.5"
      ],
      "text/markdown": [
       "62.5"
      ],
      "text/plain": [
       "[1] 62.5"
      ]
     },
     "metadata": {},
     "output_type": "display_data"
    }
   ],
   "source": [
    "mean(diff(pop))\n"
   ]
  },
  {
   "cell_type": "markdown",
   "metadata": {},
   "source": [
    "## Secuencias\n",
    "\n",
    "Vector construido desde cero. Tiene una estructura secuencial. "
   ]
  },
  {
   "cell_type": "code",
   "execution_count": 23,
   "metadata": {},
   "outputs": [
    {
     "data": {
      "text/html": [
       "<style>\n",
       ".list-inline {list-style: none; margin:0; padding: 0}\n",
       ".list-inline>li {display: inline-block}\n",
       ".list-inline>li:not(:last-child)::after {content: \"\\00b7\"; padding: 0 .5ex}\n",
       "</style>\n",
       "<ol class=list-inline><li>5</li><li>6</li><li>7</li><li>8</li><li>9</li><li>10</li></ol>\n"
      ],
      "text/latex": [
       "\\begin{enumerate*}\n",
       "\\item 5\n",
       "\\item 6\n",
       "\\item 7\n",
       "\\item 8\n",
       "\\item 9\n",
       "\\item 10\n",
       "\\end{enumerate*}\n"
      ],
      "text/markdown": [
       "1. 5\n",
       "2. 6\n",
       "3. 7\n",
       "4. 8\n",
       "5. 9\n",
       "6. 10\n",
       "\n",
       "\n"
      ],
      "text/plain": [
       "[1]  5  6  7  8  9 10"
      ]
     },
     "metadata": {},
     "output_type": "display_data"
    },
    {
     "data": {
      "text/html": [
       "<style>\n",
       ".list-inline {list-style: none; margin:0; padding: 0}\n",
       ".list-inline>li {display: inline-block}\n",
       ".list-inline>li:not(:last-child)::after {content: \"\\00b7\"; padding: 0 .5ex}\n",
       "</style>\n",
       "<ol class=list-inline><li>1</li><li>5</li><li>9</li></ol>\n"
      ],
      "text/latex": [
       "\\begin{enumerate*}\n",
       "\\item 1\n",
       "\\item 5\n",
       "\\item 9\n",
       "\\end{enumerate*}\n"
      ],
      "text/markdown": [
       "1. 1\n",
       "2. 5\n",
       "3. 9\n",
       "\n",
       "\n"
      ],
      "text/plain": [
       "[1] 1 5 9"
      ]
     },
     "metadata": {},
     "output_type": "display_data"
    }
   ],
   "source": [
    "5:10\n",
    "\n",
    "seq(from = 1, to = 10, by = 4)"
   ]
  },
  {
   "cell_type": "markdown",
   "metadata": {},
   "source": [
    "### El Problema de los cumpleaños\n",
    "\n",
    "Cuál es la probabilidad de que dos personas, del aula, hayan nacido el mismo día?\n",
    "\n",
    "    * No años bisiestos; \n",
    "    * Todos nacieron de manera independiente; \n",
    "    * Los nacimientos están distribuidos de manera uniforme en todo el año."
   ]
  },
  {
   "cell_type": "code",
   "execution_count": 24,
   "metadata": {},
   "outputs": [
    {
     "data": {
      "text/html": [
       "0.991795834115219"
      ],
      "text/latex": [
       "0.991795834115219"
      ],
      "text/markdown": [
       "0.991795834115219"
      ],
      "text/plain": [
       "[1] 0.9917958"
      ]
     },
     "metadata": {},
     "output_type": "display_data"
    },
    {
     "data": {
      "text/html": [
       "0.00820416588478134"
      ],
      "text/latex": [
       "0.00820416588478134"
      ],
      "text/markdown": [
       "0.00820416588478134"
      ],
      "text/plain": [
       "[1] 0.008204166"
      ]
     },
     "metadata": {},
     "output_type": "display_data"
    }
   ],
   "source": [
    "todos_dif = 1*(364/365)*(363/365)\n",
    "todos_dif\n",
    "1 - todos_dif"
   ]
  },
  {
   "cell_type": "code",
   "execution_count": 25,
   "metadata": {},
   "outputs": [
    {
     "data": {
      "text/html": [
       "<style>\n",
       ".list-inline {list-style: none; margin:0; padding: 0}\n",
       ".list-inline>li {display: inline-block}\n",
       ".list-inline>li:not(:last-child)::after {content: \"\\00b7\"; padding: 0 .5ex}\n",
       "</style>\n",
       "<ol class=list-inline><li>364</li><li>363</li><li>362</li><li>361</li><li>360</li><li>359</li><li>358</li><li>357</li><li>356</li><li>355</li><li>354</li><li>353</li><li>352</li><li>351</li><li>350</li><li>349</li><li>348</li><li>347</li><li>346</li><li>345</li><li>344</li><li>343</li></ol>\n"
      ],
      "text/latex": [
       "\\begin{enumerate*}\n",
       "\\item 364\n",
       "\\item 363\n",
       "\\item 362\n",
       "\\item 361\n",
       "\\item 360\n",
       "\\item 359\n",
       "\\item 358\n",
       "\\item 357\n",
       "\\item 356\n",
       "\\item 355\n",
       "\\item 354\n",
       "\\item 353\n",
       "\\item 352\n",
       "\\item 351\n",
       "\\item 350\n",
       "\\item 349\n",
       "\\item 348\n",
       "\\item 347\n",
       "\\item 346\n",
       "\\item 345\n",
       "\\item 344\n",
       "\\item 343\n",
       "\\end{enumerate*}\n"
      ],
      "text/markdown": [
       "1. 364\n",
       "2. 363\n",
       "3. 362\n",
       "4. 361\n",
       "5. 360\n",
       "6. 359\n",
       "7. 358\n",
       "8. 357\n",
       "9. 356\n",
       "10. 355\n",
       "11. 354\n",
       "12. 353\n",
       "13. 352\n",
       "14. 351\n",
       "15. 350\n",
       "16. 349\n",
       "17. 348\n",
       "18. 347\n",
       "19. 346\n",
       "20. 345\n",
       "21. 344\n",
       "22. 343\n",
       "\n",
       "\n"
      ],
      "text/plain": [
       " [1] 364 363 362 361 360 359 358 357 356 355 354 353 352 351 350 349 348 347 346\n",
       "[20] 345 344 343"
      ]
     },
     "metadata": {},
     "output_type": "display_data"
    }
   ],
   "source": [
    "k <- 22\n",
    "\n",
    "numeradores = seq(from = 364, to = 365 - k, by = -1)\n",
    "numeradores"
   ]
  },
  {
   "cell_type": "code",
   "execution_count": 26,
   "metadata": {},
   "outputs": [
    {
     "data": {
      "text/html": [
       "0.507297234323985"
      ],
      "text/latex": [
       "0.507297234323985"
      ],
      "text/markdown": [
       "0.507297234323985"
      ],
      "text/plain": [
       "[1] 0.5072972"
      ]
     },
     "metadata": {},
     "output_type": "display_data"
    }
   ],
   "source": [
    "1 - prod(numeradores/365)"
   ]
  },
  {
   "cell_type": "code",
   "execution_count": 27,
   "metadata": {},
   "outputs": [
    {
     "data": {
      "text/html": [
       "190"
      ],
      "text/latex": [
       "190"
      ],
      "text/markdown": [
       "190"
      ],
      "text/plain": [
       "[1] 190"
      ]
     },
     "metadata": {},
     "output_type": "display_data"
    }
   ],
   "source": [
    "prod(1:20)/(prod(1:2)*prod(1:18))"
   ]
  },
  {
   "cell_type": "code",
   "execution_count": 28,
   "metadata": {},
   "outputs": [
    {
     "data": {
      "text/html": [
       "17267274024"
      ],
      "text/latex": [
       "17267274024"
      ],
      "text/markdown": [
       "17267274024"
      ],
      "text/plain": [
       "[1] 17267274024"
      ]
     },
     "metadata": {},
     "output_type": "display_data"
    },
    {
     "data": {
      "text/html": [
       "<style>\n",
       ".list-inline {list-style: none; margin:0; padding: 0}\n",
       ".list-inline>li {display: inline-block}\n",
       ".list-inline>li:not(:last-child)::after {content: \"\\00b7\"; padding: 0 .5ex}\n",
       "</style>\n",
       "<ol class=list-inline><li>0.997260273972603</li><li>0.991795834115219</li><li>0.98364408753345</li><li>0.972864426300207</li><li>0.959537516350889</li><li>0.943764296904025</li><li>0.925664707648331</li><li>0.905376166110833</li><li>0.883051822288922</li><li>0.858858621678267</li><li>0.832975211161936</li><li>0.805589724767571</li><li>0.776897487995027</li><li>0.747098680236314</li><li>0.71639599474715</li><li>0.684992334703439</li><li>0.653088582128211</li><li>0.620881473968463</li><li>0.58856161641942</li><li>0.556311664834794</li><li>0.52430469233745</li><li>0.492702765676015</li></ol>\n"
      ],
      "text/latex": [
       "\\begin{enumerate*}\n",
       "\\item 0.997260273972603\n",
       "\\item 0.991795834115219\n",
       "\\item 0.98364408753345\n",
       "\\item 0.972864426300207\n",
       "\\item 0.959537516350889\n",
       "\\item 0.943764296904025\n",
       "\\item 0.925664707648331\n",
       "\\item 0.905376166110833\n",
       "\\item 0.883051822288922\n",
       "\\item 0.858858621678267\n",
       "\\item 0.832975211161936\n",
       "\\item 0.805589724767571\n",
       "\\item 0.776897487995027\n",
       "\\item 0.747098680236314\n",
       "\\item 0.71639599474715\n",
       "\\item 0.684992334703439\n",
       "\\item 0.653088582128211\n",
       "\\item 0.620881473968463\n",
       "\\item 0.58856161641942\n",
       "\\item 0.556311664834794\n",
       "\\item 0.52430469233745\n",
       "\\item 0.492702765676015\n",
       "\\end{enumerate*}\n"
      ],
      "text/markdown": [
       "1. 0.997260273972603\n",
       "2. 0.991795834115219\n",
       "3. 0.98364408753345\n",
       "4. 0.972864426300207\n",
       "5. 0.959537516350889\n",
       "6. 0.943764296904025\n",
       "7. 0.925664707648331\n",
       "8. 0.905376166110833\n",
       "9. 0.883051822288922\n",
       "10. 0.858858621678267\n",
       "11. 0.832975211161936\n",
       "12. 0.805589724767571\n",
       "13. 0.776897487995027\n",
       "14. 0.747098680236314\n",
       "15. 0.71639599474715\n",
       "16. 0.684992334703439\n",
       "17. 0.653088582128211\n",
       "18. 0.620881473968463\n",
       "19. 0.58856161641942\n",
       "20. 0.556311664834794\n",
       "21. 0.52430469233745\n",
       "22. 0.492702765676015\n",
       "\n",
       "\n"
      ],
      "text/plain": [
       " [1] 0.9972603 0.9917958 0.9836441 0.9728644 0.9595375 0.9437643 0.9256647\n",
       " [8] 0.9053762 0.8830518 0.8588586 0.8329752 0.8055897 0.7768975 0.7470987\n",
       "[15] 0.7163960 0.6849923 0.6530886 0.6208815 0.5885616 0.5563117 0.5243047\n",
       "[22] 0.4927028"
      ]
     },
     "metadata": {},
     "output_type": "display_data"
    }
   ],
   "source": [
    "364*363*362*361\n",
    "cumprod(numeradores/365)"
   ]
  },
  {
   "cell_type": "code",
   "execution_count": 29,
   "metadata": {},
   "outputs": [
    {
     "data": {
      "text/html": [
       "0.223102512004973"
      ],
      "text/latex": [
       "0.223102512004973"
      ],
      "text/markdown": [
       "0.223102512004973"
      ],
      "text/plain": [
       "[1] 0.2231025"
      ]
     },
     "metadata": {},
     "output_type": "display_data"
    }
   ],
   "source": [
    "birth <- c(0, 0, 1 - cumprod(numeradores/365))\n",
    "birth[15]"
   ]
  },
  {
   "cell_type": "code",
   "execution_count": 30,
   "metadata": {},
   "outputs": [
    {
     "data": {
      "image/png": "[encoded data removed]",
      "text/plain": [
       "Plot with title “Proba del mismo cumpleaños”"
      ]
     },
     "metadata": {},
     "output_type": "display_data"
    }
   ],
   "source": [
    "plot(birth, type = 'l', col = 'blue', lwd = 3, xlab = 'k')\n",
    "title('Proba del mismo cumpleaños')"
   ]
  },
  {
   "cell_type": "markdown",
   "metadata": {},
   "source": [
    "## Comparaciones\n",
    "\n",
    "- < y >\n",
    "- <= menor o igual? \n",
    "- == es igual a?\n",
    " "
   ]
  },
  {
   "cell_type": "code",
   "execution_count": 31,
   "metadata": {},
   "outputs": [
    {
     "data": {
      "text/html": [
       "FALSE"
      ],
      "text/latex": [
       "FALSE"
      ],
      "text/markdown": [
       "FALSE"
      ],
      "text/plain": [
       "[1] FALSE"
      ]
     },
     "metadata": {},
     "output_type": "display_data"
    },
    {
     "data": {
      "text/html": [
       "TRUE"
      ],
      "text/latex": [
       "TRUE"
      ],
      "text/markdown": [
       "TRUE"
      ],
      "text/plain": [
       "[1] TRUE"
      ]
     },
     "metadata": {},
     "output_type": "display_data"
    }
   ],
   "source": [
    "'Hola'=='hola'\n",
    "'Hola'!='hola'"
   ]
  },
  {
   "cell_type": "code",
   "execution_count": 32,
   "metadata": {},
   "outputs": [
    {
     "data": {
      "text/html": [
       "<style>\n",
       ".list-inline {list-style: none; margin:0; padding: 0}\n",
       ".list-inline>li {display: inline-block}\n",
       ".list-inline>li:not(:last-child)::after {content: \"\\00b7\"; padding: 0 .5ex}\n",
       "</style>\n",
       "<ol class=list-inline><li>FALSE</li><li>FALSE</li><li>FALSE</li><li>FALSE</li><li>FALSE</li><li>FALSE</li><li>FALSE</li><li>FALSE</li><li>FALSE</li><li>FALSE</li><li>FALSE</li><li>FALSE</li><li>FALSE</li><li>FALSE</li><li>FALSE</li><li>FALSE</li><li>FALSE</li><li>FALSE</li><li>FALSE</li><li>FALSE</li><li>FALSE</li><li>FALSE</li><li>FALSE</li><li>TRUE</li></ol>\n"
      ],
      "text/latex": [
       "\\begin{enumerate*}\n",
       "\\item FALSE\n",
       "\\item FALSE\n",
       "\\item FALSE\n",
       "\\item FALSE\n",
       "\\item FALSE\n",
       "\\item FALSE\n",
       "\\item FALSE\n",
       "\\item FALSE\n",
       "\\item FALSE\n",
       "\\item FALSE\n",
       "\\item FALSE\n",
       "\\item FALSE\n",
       "\\item FALSE\n",
       "\\item FALSE\n",
       "\\item FALSE\n",
       "\\item FALSE\n",
       "\\item FALSE\n",
       "\\item FALSE\n",
       "\\item FALSE\n",
       "\\item FALSE\n",
       "\\item FALSE\n",
       "\\item FALSE\n",
       "\\item FALSE\n",
       "\\item TRUE\n",
       "\\end{enumerate*}\n"
      ],
      "text/markdown": [
       "1. FALSE\n",
       "2. FALSE\n",
       "3. FALSE\n",
       "4. FALSE\n",
       "5. FALSE\n",
       "6. FALSE\n",
       "7. FALSE\n",
       "8. FALSE\n",
       "9. FALSE\n",
       "10. FALSE\n",
       "11. FALSE\n",
       "12. FALSE\n",
       "13. FALSE\n",
       "14. FALSE\n",
       "15. FALSE\n",
       "16. FALSE\n",
       "17. FALSE\n",
       "18. FALSE\n",
       "19. FALSE\n",
       "20. FALSE\n",
       "21. FALSE\n",
       "22. FALSE\n",
       "23. FALSE\n",
       "24. TRUE\n",
       "\n",
       "\n"
      ],
      "text/plain": [
       " [1] FALSE FALSE FALSE FALSE FALSE FALSE FALSE FALSE FALSE FALSE FALSE FALSE\n",
       "[13] FALSE FALSE FALSE FALSE FALSE FALSE FALSE FALSE FALSE FALSE FALSE  TRUE"
      ]
     },
     "metadata": {},
     "output_type": "display_data"
    },
    {
     "data": {
      "text/html": [
       "24"
      ],
      "text/latex": [
       "24"
      ],
      "text/markdown": [
       "24"
      ],
      "text/plain": [
       "[1] 24"
      ]
     },
     "metadata": {},
     "output_type": "display_data"
    }
   ],
   "source": [
    "birth >= 0.5\n",
    "which(birth >= 0.5)"
   ]
  },
  {
   "cell_type": "code",
   "execution_count": 33,
   "metadata": {},
   "outputs": [
    {
     "data": {
      "text/html": [
       "<style>\n",
       ".list-inline {list-style: none; margin:0; padding: 0}\n",
       ".list-inline>li {display: inline-block}\n",
       ".list-inline>li:not(:last-child)::after {content: \"\\00b7\"; padding: 0 .5ex}\n",
       "</style>\n",
       "<ol class=list-inline><li>FALSE</li><li>FALSE</li><li>FALSE</li><li>FALSE</li><li>FALSE</li><li>FALSE</li><li>FALSE</li><li>FALSE</li><li>FALSE</li><li>FALSE</li><li>FALSE</li><li>FALSE</li><li>FALSE</li><li>FALSE</li><li>FALSE</li><li>FALSE</li><li>FALSE</li><li>FALSE</li><li>FALSE</li><li>FALSE</li><li>FALSE</li><li>FALSE</li><li>TRUE</li><li>TRUE</li></ol>\n"
      ],
      "text/latex": [
       "\\begin{enumerate*}\n",
       "\\item FALSE\n",
       "\\item FALSE\n",
       "\\item FALSE\n",
       "\\item FALSE\n",
       "\\item FALSE\n",
       "\\item FALSE\n",
       "\\item FALSE\n",
       "\\item FALSE\n",
       "\\item FALSE\n",
       "\\item FALSE\n",
       "\\item FALSE\n",
       "\\item FALSE\n",
       "\\item FALSE\n",
       "\\item FALSE\n",
       "\\item FALSE\n",
       "\\item FALSE\n",
       "\\item FALSE\n",
       "\\item FALSE\n",
       "\\item FALSE\n",
       "\\item FALSE\n",
       "\\item FALSE\n",
       "\\item FALSE\n",
       "\\item TRUE\n",
       "\\item TRUE\n",
       "\\end{enumerate*}\n"
      ],
      "text/markdown": [
       "1. FALSE\n",
       "2. FALSE\n",
       "3. FALSE\n",
       "4. FALSE\n",
       "5. FALSE\n",
       "6. FALSE\n",
       "7. FALSE\n",
       "8. FALSE\n",
       "9. FALSE\n",
       "10. FALSE\n",
       "11. FALSE\n",
       "12. FALSE\n",
       "13. FALSE\n",
       "14. FALSE\n",
       "15. FALSE\n",
       "16. FALSE\n",
       "17. FALSE\n",
       "18. FALSE\n",
       "19. FALSE\n",
       "20. FALSE\n",
       "21. FALSE\n",
       "22. FALSE\n",
       "23. TRUE\n",
       "24. TRUE\n",
       "\n",
       "\n"
      ],
      "text/plain": [
       " [1] FALSE FALSE FALSE FALSE FALSE FALSE FALSE FALSE FALSE FALSE FALSE FALSE\n",
       "[13] FALSE FALSE FALSE FALSE FALSE FALSE FALSE FALSE FALSE FALSE  TRUE  TRUE"
      ]
     },
     "metadata": {},
     "output_type": "display_data"
    },
    {
     "data": {
      "text/html": [
       "<style>\n",
       ".list-inline {list-style: none; margin:0; padding: 0}\n",
       ".list-inline>li {display: inline-block}\n",
       ".list-inline>li:not(:last-child)::after {content: \"\\00b7\"; padding: 0 .5ex}\n",
       "</style>\n",
       "<ol class=list-inline><li>FALSE</li><li>FALSE</li><li>FALSE</li><li>FALSE</li><li>FALSE</li><li>FALSE</li><li>FALSE</li><li>TRUE</li><li>TRUE</li><li>TRUE</li><li>TRUE</li><li>TRUE</li><li>TRUE</li><li>TRUE</li><li>TRUE</li><li>TRUE</li><li>TRUE</li><li>TRUE</li><li>TRUE</li><li>TRUE</li><li>TRUE</li><li>TRUE</li><li>TRUE</li><li>TRUE</li></ol>\n"
      ],
      "text/latex": [
       "\\begin{enumerate*}\n",
       "\\item FALSE\n",
       "\\item FALSE\n",
       "\\item FALSE\n",
       "\\item FALSE\n",
       "\\item FALSE\n",
       "\\item FALSE\n",
       "\\item FALSE\n",
       "\\item TRUE\n",
       "\\item TRUE\n",
       "\\item TRUE\n",
       "\\item TRUE\n",
       "\\item TRUE\n",
       "\\item TRUE\n",
       "\\item TRUE\n",
       "\\item TRUE\n",
       "\\item TRUE\n",
       "\\item TRUE\n",
       "\\item TRUE\n",
       "\\item TRUE\n",
       "\\item TRUE\n",
       "\\item TRUE\n",
       "\\item TRUE\n",
       "\\item TRUE\n",
       "\\item TRUE\n",
       "\\end{enumerate*}\n"
      ],
      "text/markdown": [
       "1. FALSE\n",
       "2. FALSE\n",
       "3. FALSE\n",
       "4. FALSE\n",
       "5. FALSE\n",
       "6. FALSE\n",
       "7. FALSE\n",
       "8. TRUE\n",
       "9. TRUE\n",
       "10. TRUE\n",
       "11. TRUE\n",
       "12. TRUE\n",
       "13. TRUE\n",
       "14. TRUE\n",
       "15. TRUE\n",
       "16. TRUE\n",
       "17. TRUE\n",
       "18. TRUE\n",
       "19. TRUE\n",
       "20. TRUE\n",
       "21. TRUE\n",
       "22. TRUE\n",
       "23. TRUE\n",
       "24. TRUE\n",
       "\n",
       "\n"
      ],
      "text/plain": [
       " [1] FALSE FALSE FALSE FALSE FALSE FALSE FALSE  TRUE  TRUE  TRUE  TRUE  TRUE\n",
       "[13]  TRUE  TRUE  TRUE  TRUE  TRUE  TRUE  TRUE  TRUE  TRUE  TRUE  TRUE  TRUE"
      ]
     },
     "metadata": {},
     "output_type": "display_data"
    }
   ],
   "source": [
    "round(birth, 1) == 0.5\n",
    "\n",
    "round(birth, 1) != 0"
   ]
  },
  {
   "cell_type": "code",
   "execution_count": 34,
   "metadata": {},
   "outputs": [
    {
     "data": {
      "text/html": [
       "TRUE"
      ],
      "text/latex": [
       "TRUE"
      ],
      "text/markdown": [
       "TRUE"
      ],
      "text/plain": [
       "[1] TRUE"
      ]
     },
     "metadata": {},
     "output_type": "display_data"
    },
    {
     "data": {
      "text/html": [
       "FALSE"
      ],
      "text/latex": [
       "FALSE"
      ],
      "text/markdown": [
       "FALSE"
      ],
      "text/plain": [
       "[1] FALSE"
      ]
     },
     "metadata": {},
     "output_type": "display_data"
    }
   ],
   "source": [
    "\n",
    "any(round(birth, 1) == 0.5)\n",
    "\n",
    "all(round(birth, 1) == 0.5)"
   ]
  },
  {
   "cell_type": "code",
   "execution_count": 35,
   "metadata": {},
   "outputs": [
    {
     "data": {
      "text/html": [
       "435"
      ],
      "text/latex": [
       "435"
      ],
      "text/markdown": [
       "435"
      ],
      "text/plain": [
       "[1] 435"
      ]
     },
     "metadata": {},
     "output_type": "display_data"
    }
   ],
   "source": [
    "prod(1:30)/(prod(1:2)*prod(1:28))"
   ]
  },
  {
   "cell_type": "code",
   "execution_count": 36,
   "metadata": {},
   "outputs": [
    {
     "data": {
      "text/html": [
       "182.5"
      ],
      "text/latex": [
       "182.5"
      ],
      "text/markdown": [
       "182.5"
      ],
      "text/plain": [
       "[1] 182.5"
      ]
     },
     "metadata": {},
     "output_type": "display_data"
    }
   ],
   "source": [
    "365/2"
   ]
  },
  {
   "cell_type": "markdown",
   "metadata": {},
   "source": [
    "## Non Available"
   ]
  },
  {
   "cell_type": "code",
   "execution_count": 37,
   "metadata": {},
   "outputs": [
    {
     "data": {
      "text/html": [
       "&lt;NA&gt;"
      ],
      "text/latex": [
       "<NA>"
      ],
      "text/markdown": [
       "&lt;NA&gt;"
      ],
      "text/plain": [
       "[1] NA"
      ]
     },
     "metadata": {},
     "output_type": "display_data"
    }
   ],
   "source": [
    "NA"
   ]
  },
  {
   "cell_type": "code",
   "execution_count": 38,
   "metadata": {},
   "outputs": [],
   "source": [
    "x <- NA"
   ]
  },
  {
   "cell_type": "code",
   "execution_count": 40,
   "metadata": {},
   "outputs": [
    {
     "data": {
      "text/html": [
       "TRUE"
      ],
      "text/latex": [
       "TRUE"
      ],
      "text/markdown": [
       "TRUE"
      ],
      "text/plain": [
       "[1] TRUE"
      ]
     },
     "metadata": {},
     "output_type": "display_data"
    }
   ],
   "source": [
    "is.na(x)"
   ]
  },
  {
   "cell_type": "code",
   "execution_count": 41,
   "metadata": {},
   "outputs": [
    {
     "data": {
      "text/html": [
       "&lt;NA&gt;"
      ],
      "text/latex": [
       "<NA>"
      ],
      "text/markdown": [
       "&lt;NA&gt;"
      ],
      "text/plain": [
       "[1] NA"
      ]
     },
     "metadata": {},
     "output_type": "display_data"
    }
   ],
   "source": [
    "x == 1"
   ]
  },
  {
   "cell_type": "markdown",
   "metadata": {},
   "source": [
    "# Data Frames\n",
    "\n",
    "- Columnas con etiquetas.\n",
    "- Todas tienen el mismo tamaño. \n",
    "- Tipo mas importante en R. \n",
    "       "
   ]
  },
  {
   "cell_type": "code",
   "execution_count": 48,
   "metadata": {},
   "outputs": [
    {
     "name": "stderr",
     "output_type": "stream",
     "text": [
      "Parsed with column specification:\n",
      "cols(\n",
      "  SEX = \u001b[31mcol_character()\u001b[39m,\n",
      "  AGE = \u001b[32mcol_double()\u001b[39m,\n",
      "  CENSUS2010POP = \u001b[32mcol_double()\u001b[39m,\n",
      "  ESTIMATESBASE2010 = \u001b[32mcol_double()\u001b[39m,\n",
      "  POPESTIMATE2010 = \u001b[32mcol_double()\u001b[39m,\n",
      "  POPESTIMATE2011 = \u001b[32mcol_double()\u001b[39m,\n",
      "  POPESTIMATE2012 = \u001b[32mcol_double()\u001b[39m,\n",
      "  POPESTIMATE2013 = \u001b[32mcol_double()\u001b[39m,\n",
      "  POPESTIMATE2014 = \u001b[32mcol_double()\u001b[39m\n",
      ")\n"
     ]
    },
    {
     "data": {
      "text/html": [
       "<table>\n",
       "<caption>A tibble: 6 × 9</caption>\n",
       "<thead>\n",
       "\t<tr><th scope=col>SEX</th><th scope=col>AGE</th><th scope=col>CENSUS2010POP</th><th scope=col>ESTIMATESBASE2010</th><th scope=col>POPESTIMATE2010</th><th scope=col>POPESTIMATE2011</th><th scope=col>POPESTIMATE2012</th><th scope=col>POPESTIMATE2013</th><th scope=col>POPESTIMATE2014</th></tr>\n",
       "\t<tr><th scope=col>&lt;chr&gt;</th><th scope=col>&lt;dbl&gt;</th><th scope=col>&lt;dbl&gt;</th><th scope=col>&lt;dbl&gt;</th><th scope=col>&lt;dbl&gt;</th><th scope=col>&lt;dbl&gt;</th><th scope=col>&lt;dbl&gt;</th><th scope=col>&lt;dbl&gt;</th><th scope=col>&lt;dbl&gt;</th></tr>\n",
       "</thead>\n",
       "<tbody>\n",
       "\t<tr><td>Male</td><td>0</td><td>2014276</td><td>2014278</td><td>2018420</td><td>2028434</td><td>2007693</td><td>2015537</td><td>2017857</td></tr>\n",
       "\t<tr><td>Male</td><td>1</td><td>2030853</td><td>2030861</td><td>2020332</td><td>2025493</td><td>2035380</td><td>2015352</td><td>2023253</td></tr>\n",
       "\t<tr><td>Male</td><td>2</td><td>2092198</td><td>2092202</td><td>2088685</td><td>2026975</td><td>2032008</td><td>2042522</td><td>2022502</td></tr>\n",
       "\t<tr><td>Male</td><td>3</td><td>2104550</td><td>2104555</td><td>2101272</td><td>2094310</td><td>2032562</td><td>2038085</td><td>2048618</td></tr>\n",
       "\t<tr><td>Male</td><td>4</td><td>2077550</td><td>2077556</td><td>2084312</td><td>2106354</td><td>2099244</td><td>2037953</td><td>2043498</td></tr>\n",
       "\t<tr><td>Male</td><td>5</td><td>2072094</td><td>2072102</td><td>2076573</td><td>2089461</td><td>2111381</td><td>2104725</td><td>2043467</td></tr>\n",
       "</tbody>\n",
       "</table>\n"
      ],
      "text/latex": [
       "A tibble: 6 × 9\n",
       "\\begin{tabular}{lllllllll}\n",
       " SEX & AGE & CENSUS2010POP & ESTIMATESBASE2010 & POPESTIMATE2010 & POPESTIMATE2011 & POPESTIMATE2012 & POPESTIMATE2013 & POPESTIMATE2014\\\\\n",
       " <chr> & <dbl> & <dbl> & <dbl> & <dbl> & <dbl> & <dbl> & <dbl> & <dbl>\\\\\n",
       "\\hline\n",
       "\t Male & 0 & 2014276 & 2014278 & 2018420 & 2028434 & 2007693 & 2015537 & 2017857\\\\\n",
       "\t Male & 1 & 2030853 & 2030861 & 2020332 & 2025493 & 2035380 & 2015352 & 2023253\\\\\n",
       "\t Male & 2 & 2092198 & 2092202 & 2088685 & 2026975 & 2032008 & 2042522 & 2022502\\\\\n",
       "\t Male & 3 & 2104550 & 2104555 & 2101272 & 2094310 & 2032562 & 2038085 & 2048618\\\\\n",
       "\t Male & 4 & 2077550 & 2077556 & 2084312 & 2106354 & 2099244 & 2037953 & 2043498\\\\\n",
       "\t Male & 5 & 2072094 & 2072102 & 2076573 & 2089461 & 2111381 & 2104725 & 2043467\\\\\n",
       "\\end{tabular}\n"
      ],
      "text/markdown": [
       "\n",
       "A tibble: 6 × 9\n",
       "\n",
       "| SEX &lt;chr&gt; | AGE &lt;dbl&gt; | CENSUS2010POP &lt;dbl&gt; | ESTIMATESBASE2010 &lt;dbl&gt; | POPESTIMATE2010 &lt;dbl&gt; | POPESTIMATE2011 &lt;dbl&gt; | POPESTIMATE2012 &lt;dbl&gt; | POPESTIMATE2013 &lt;dbl&gt; | POPESTIMATE2014 &lt;dbl&gt; |\n",
       "|---|---|---|---|---|---|---|---|---|\n",
       "| Male | 0 | 2014276 | 2014278 | 2018420 | 2028434 | 2007693 | 2015537 | 2017857 |\n",
       "| Male | 1 | 2030853 | 2030861 | 2020332 | 2025493 | 2035380 | 2015352 | 2023253 |\n",
       "| Male | 2 | 2092198 | 2092202 | 2088685 | 2026975 | 2032008 | 2042522 | 2022502 |\n",
       "| Male | 3 | 2104550 | 2104555 | 2101272 | 2094310 | 2032562 | 2038085 | 2048618 |\n",
       "| Male | 4 | 2077550 | 2077556 | 2084312 | 2106354 | 2099244 | 2037953 | 2043498 |\n",
       "| Male | 5 | 2072094 | 2072102 | 2076573 | 2089461 | 2111381 | 2104725 | 2043467 |\n",
       "\n"
      ],
      "text/plain": [
       "  SEX  AGE CENSUS2010POP ESTIMATESBASE2010 POPESTIMATE2010 POPESTIMATE2011\n",
       "1 Male 0   2014276       2014278           2018420         2028434        \n",
       "2 Male 1   2030853       2030861           2020332         2025493        \n",
       "3 Male 2   2092198       2092202           2088685         2026975        \n",
       "4 Male 3   2104550       2104555           2101272         2094310        \n",
       "5 Male 4   2077550       2077556           2084312         2106354        \n",
       "6 Male 5   2072094       2072102           2076573         2089461        \n",
       "  POPESTIMATE2012 POPESTIMATE2013 POPESTIMATE2014\n",
       "1 2007693         2015537         2017857        \n",
       "2 2035380         2015352         2023253        \n",
       "3 2032008         2042522         2022502        \n",
       "4 2032562         2038085         2048618        \n",
       "5 2099244         2037953         2043498        \n",
       "6 2111381         2104725         2043467        "
      ]
     },
     "metadata": {},
     "output_type": "display_data"
    },
    {
     "data": {
      "text/html": [
       "<style>\n",
       ".list-inline {list-style: none; margin:0; padding: 0}\n",
       ".list-inline>li {display: inline-block}\n",
       ".list-inline>li:not(:last-child)::after {content: \"\\00b7\"; padding: 0 .5ex}\n",
       "</style>\n",
       "<ol class=list-inline><li>'SEX'</li><li>'AGE'</li><li>'CENSUS2010POP'</li><li>'ESTIMATESBASE2010'</li><li>'POPESTIMATE2010'</li><li>'POPESTIMATE2011'</li><li>'POPESTIMATE2012'</li><li>'POPESTIMATE2013'</li><li>'POPESTIMATE2014'</li></ol>\n"
      ],
      "text/latex": [
       "\\begin{enumerate*}\n",
       "\\item 'SEX'\n",
       "\\item 'AGE'\n",
       "\\item 'CENSUS2010POP'\n",
       "\\item 'ESTIMATESBASE2010'\n",
       "\\item 'POPESTIMATE2010'\n",
       "\\item 'POPESTIMATE2011'\n",
       "\\item 'POPESTIMATE2012'\n",
       "\\item 'POPESTIMATE2013'\n",
       "\\item 'POPESTIMATE2014'\n",
       "\\end{enumerate*}\n"
      ],
      "text/markdown": [
       "1. 'SEX'\n",
       "2. 'AGE'\n",
       "3. 'CENSUS2010POP'\n",
       "4. 'ESTIMATESBASE2010'\n",
       "5. 'POPESTIMATE2010'\n",
       "6. 'POPESTIMATE2011'\n",
       "7. 'POPESTIMATE2012'\n",
       "8. 'POPESTIMATE2013'\n",
       "9. 'POPESTIMATE2014'\n",
       "\n",
       "\n"
      ],
      "text/plain": [
       "[1] \"SEX\"               \"AGE\"               \"CENSUS2010POP\"    \n",
       "[4] \"ESTIMATESBASE2010\" \"POPESTIMATE2010\"   \"POPESTIMATE2011\"  \n",
       "[7] \"POPESTIMATE2012\"   \"POPESTIMATE2013\"   \"POPESTIMATE2014\"  "
      ]
     },
     "metadata": {},
     "output_type": "display_data"
    }
   ],
   "source": [
    "pop_us <- readr::read_csv(\"https://gist.githubusercontent.com/shyamsa/26a1dc72b85a9413a67e/raw/9120df802ce780460dfc1e73a2dbb0916cfb0e41/NC-EST2014-AGESEX-RES.csv\")\n",
    "\n",
    "#pop_us <- read.table(file = \"../tablas/pop_us.csv\", sep = ',', header = TRUE)\n",
    "\n",
    "head(pop_us)\n",
    "names(pop_us)"
   ]
  },
  {
   "cell_type": "markdown",
   "metadata": {},
   "source": [
    "## Manipular Data.frames usando Dplyr.\n",
    "\n",
    "paquete dplyr. Funciones para manipular data.frames."
   ]
  },
  {
   "cell_type": "code",
   "execution_count": 2,
   "metadata": {},
   "outputs": [
    {
     "name": "stderr",
     "output_type": "stream",
     "text": [
      "\n",
      "Attaching package: ‘dplyr’\n",
      "\n",
      "The following objects are masked from ‘package:stats’:\n",
      "\n",
      "    filter, lag\n",
      "\n",
      "The following objects are masked from ‘package:base’:\n",
      "\n",
      "    intersect, setdiff, setequal, union\n",
      "\n"
     ]
    }
   ],
   "source": [
    "library(dplyr)"
   ]
  },
  {
   "cell_type": "code",
   "execution_count": 3,
   "metadata": {},
   "outputs": [
    {
     "data": {
      "text/html": [
       "<table>\n",
       "<caption>A data.frame: 6 × 4</caption>\n",
       "<thead>\n",
       "\t<tr><th></th><th scope=col>SEX</th><th scope=col>AGE</th><th scope=col>pop_2010</th><th scope=col>pop_2014</th></tr>\n",
       "\t<tr><th></th><th scope=col>&lt;int&gt;</th><th scope=col>&lt;int&gt;</th><th scope=col>&lt;int&gt;</th><th scope=col>&lt;int&gt;</th></tr>\n",
       "</thead>\n",
       "<tbody>\n",
       "\t<tr><th scope=row>1</th><td>0</td><td>0</td><td>3951330</td><td>3948350</td></tr>\n",
       "\t<tr><th scope=row>2</th><td>0</td><td>1</td><td>3957888</td><td>3962123</td></tr>\n",
       "\t<tr><th scope=row>3</th><td>0</td><td>2</td><td>4090862</td><td>3957772</td></tr>\n",
       "\t<tr><th scope=row>4</th><td>0</td><td>3</td><td>4111920</td><td>4005190</td></tr>\n",
       "\t<tr><th scope=row>5</th><td>0</td><td>4</td><td>4077552</td><td>4003448</td></tr>\n",
       "\t<tr><th scope=row>6</th><td>0</td><td>5</td><td>4064653</td><td>4004858</td></tr>\n",
       "</tbody>\n",
       "</table>\n"
      ],
      "text/latex": [
       "A data.frame: 6 × 4\n",
       "\\begin{tabular}{r|llll}\n",
       "  & SEX & AGE & pop\\_2010 & pop\\_2014\\\\\n",
       "  & <int> & <int> & <int> & <int>\\\\\n",
       "\\hline\n",
       "\t1 & 0 & 0 & 3951330 & 3948350\\\\\n",
       "\t2 & 0 & 1 & 3957888 & 3962123\\\\\n",
       "\t3 & 0 & 2 & 4090862 & 3957772\\\\\n",
       "\t4 & 0 & 3 & 4111920 & 4005190\\\\\n",
       "\t5 & 0 & 4 & 4077552 & 4003448\\\\\n",
       "\t6 & 0 & 5 & 4064653 & 4004858\\\\\n",
       "\\end{tabular}\n"
      ],
      "text/markdown": [
       "\n",
       "A data.frame: 6 × 4\n",
       "\n",
       "| <!--/--> | SEX &lt;int&gt; | AGE &lt;int&gt; | pop_2010 &lt;int&gt; | pop_2014 &lt;int&gt; |\n",
       "|---|---|---|---|---|\n",
       "| 1 | 0 | 0 | 3951330 | 3948350 |\n",
       "| 2 | 0 | 1 | 3957888 | 3962123 |\n",
       "| 3 | 0 | 2 | 4090862 | 3957772 |\n",
       "| 4 | 0 | 3 | 4111920 | 4005190 |\n",
       "| 5 | 0 | 4 | 4077552 | 4003448 |\n",
       "| 6 | 0 | 5 | 4064653 | 4004858 |\n",
       "\n"
      ],
      "text/plain": [
       "  SEX AGE pop_2010 pop_2014\n",
       "1 0   0   3951330  3948350 \n",
       "2 0   1   3957888  3962123 \n",
       "3 0   2   4090862  3957772 \n",
       "4 0   3   4111920  4005190 \n",
       "5 0   4   4077552  4003448 \n",
       "6 0   5   4064653  4004858 "
      ]
     },
     "metadata": {},
     "output_type": "display_data"
    }
   ],
   "source": [
    "pop_Simple <- select(pop_us, \n",
    "                     c(SEX, AGE, pop_2010 = POPESTIMATE2010, \n",
    "                       pop_2014 = POPESTIMATE2014))\n",
    "\n",
    "head(pop_Simple)"
   ]
  },
  {
   "cell_type": "code",
   "execution_count": 4,
   "metadata": {},
   "outputs": [
    {
     "data": {
      "text/html": [
       "<table>\n",
       "<caption>A data.frame: 6 × 4</caption>\n",
       "<thead>\n",
       "\t<tr><th></th><th scope=col>SEX</th><th scope=col>AGE</th><th scope=col>pop_2010</th><th scope=col>pop_2014</th></tr>\n",
       "\t<tr><th></th><th scope=col>&lt;int&gt;</th><th scope=col>&lt;int&gt;</th><th scope=col>&lt;int&gt;</th><th scope=col>&lt;int&gt;</th></tr>\n",
       "</thead>\n",
       "<tbody>\n",
       "\t<tr><th scope=row>1</th><td>0</td><td>0</td><td>3951330</td><td>3948350</td></tr>\n",
       "\t<tr><th scope=row>2</th><td>0</td><td>1</td><td>3957888</td><td>3962123</td></tr>\n",
       "\t<tr><th scope=row>3</th><td>0</td><td>2</td><td>4090862</td><td>3957772</td></tr>\n",
       "\t<tr><th scope=row>4</th><td>0</td><td>3</td><td>4111920</td><td>4005190</td></tr>\n",
       "\t<tr><th scope=row>5</th><td>0</td><td>4</td><td>4077552</td><td>4003448</td></tr>\n",
       "\t<tr><th scope=row>6</th><td>0</td><td>5</td><td>4064653</td><td>4004858</td></tr>\n",
       "</tbody>\n",
       "</table>\n"
      ],
      "text/latex": [
       "A data.frame: 6 × 4\n",
       "\\begin{tabular}{r|llll}\n",
       "  & SEX & AGE & pop\\_2010 & pop\\_2014\\\\\n",
       "  & <int> & <int> & <int> & <int>\\\\\n",
       "\\hline\n",
       "\t1 & 0 & 0 & 3951330 & 3948350\\\\\n",
       "\t2 & 0 & 1 & 3957888 & 3962123\\\\\n",
       "\t3 & 0 & 2 & 4090862 & 3957772\\\\\n",
       "\t4 & 0 & 3 & 4111920 & 4005190\\\\\n",
       "\t5 & 0 & 4 & 4077552 & 4003448\\\\\n",
       "\t6 & 0 & 5 & 4064653 & 4004858\\\\\n",
       "\\end{tabular}\n"
      ],
      "text/markdown": [
       "\n",
       "A data.frame: 6 × 4\n",
       "\n",
       "| <!--/--> | SEX &lt;int&gt; | AGE &lt;int&gt; | pop_2010 &lt;int&gt; | pop_2014 &lt;int&gt; |\n",
       "|---|---|---|---|---|\n",
       "| 1 | 0 | 0 | 3951330 | 3948350 |\n",
       "| 2 | 0 | 1 | 3957888 | 3962123 |\n",
       "| 3 | 0 | 2 | 4090862 | 3957772 |\n",
       "| 4 | 0 | 3 | 4111920 | 4005190 |\n",
       "| 5 | 0 | 4 | 4077552 | 4003448 |\n",
       "| 6 | 0 | 5 | 4064653 | 4004858 |\n",
       "\n"
      ],
      "text/plain": [
       "  SEX AGE pop_2010 pop_2014\n",
       "1 0   0   3951330  3948350 \n",
       "2 0   1   3957888  3962123 \n",
       "3 0   2   4090862  3957772 \n",
       "4 0   3   4111920  4005190 \n",
       "5 0   4   4077552  4003448 \n",
       "6 0   5   4064653  4004858 "
      ]
     },
     "metadata": {},
     "output_type": "display_data"
    }
   ],
   "source": [
    "names(pop_Simple) <- c('SEX', 'AGE', 'pop_2010', 'pop_2014')\n",
    "head(pop_Simple)"
   ]
  },
  {
   "cell_type": "code",
   "execution_count": 5,
   "metadata": {},
   "outputs": [
    {
     "data": {
      "text/html": [
       "<table>\n",
       "<caption>A data.frame: 306 × 6</caption>\n",
       "<thead>\n",
       "\t<tr><th scope=col>SEX</th><th scope=col>AGE</th><th scope=col>pop_2010</th><th scope=col>pop_2014</th><th scope=col>Cambio</th><th scope=col>Crecimiento</th></tr>\n",
       "\t<tr><th scope=col>&lt;int&gt;</th><th scope=col>&lt;int&gt;</th><th scope=col>&lt;int&gt;</th><th scope=col>&lt;int&gt;</th><th scope=col>&lt;int&gt;</th><th scope=col>&lt;dbl&gt;</th></tr>\n",
       "</thead>\n",
       "<tbody>\n",
       "\t<tr><td>0</td><td> 0</td><td>3951330</td><td>3948350</td><td>  -2980</td><td>-0.0007541764</td></tr>\n",
       "\t<tr><td>0</td><td> 1</td><td>3957888</td><td>3962123</td><td>   4235</td><td> 0.0010700151</td></tr>\n",
       "\t<tr><td>0</td><td> 2</td><td>4090862</td><td>3957772</td><td>-133090</td><td>-0.0325334856</td></tr>\n",
       "\t<tr><td>0</td><td> 3</td><td>4111920</td><td>4005190</td><td>-106730</td><td>-0.0259562443</td></tr>\n",
       "\t<tr><td>0</td><td> 4</td><td>4077552</td><td>4003448</td><td> -74104</td><td>-0.0181736493</td></tr>\n",
       "\t<tr><td>0</td><td> 5</td><td>4064653</td><td>4004858</td><td> -59795</td><td>-0.0147109729</td></tr>\n",
       "\t<tr><td>0</td><td> 6</td><td>4073013</td><td>4134352</td><td>  61339</td><td> 0.0150598586</td></tr>\n",
       "\t<tr><td>0</td><td> 7</td><td>4043047</td><td>4154000</td><td> 110953</td><td> 0.0274429162</td></tr>\n",
       "\t<tr><td>0</td><td> 8</td><td>4025604</td><td>4119524</td><td>  93920</td><td> 0.0233306604</td></tr>\n",
       "\t<tr><td>0</td><td> 9</td><td>4125415</td><td>4106832</td><td> -18583</td><td>-0.0045045165</td></tr>\n",
       "\t<tr><td>0</td><td>10</td><td>4187063</td><td>4115254</td><td> -71809</td><td>-0.0171502077</td></tr>\n",
       "\t<tr><td>0</td><td>11</td><td>4115511</td><td>4085636</td><td> -29875</td><td>-0.0072591229</td></tr>\n",
       "\t<tr><td>0</td><td>12</td><td>4113280</td><td>4068790</td><td> -44490</td><td>-0.0108161856</td></tr>\n",
       "\t<tr><td>0</td><td>13</td><td>4119666</td><td>4169346</td><td>  49680</td><td> 0.0120592300</td></tr>\n",
       "\t<tr><td>0</td><td>14</td><td>4145614</td><td>4232480</td><td>  86866</td><td> 0.0209537116</td></tr>\n",
       "\t<tr><td>0</td><td>15</td><td>4231003</td><td>4163723</td><td> -67280</td><td>-0.0159016668</td></tr>\n",
       "\t<tr><td>0</td><td>16</td><td>4313252</td><td>4167234</td><td>-146018</td><td>-0.0338533431</td></tr>\n",
       "\t<tr><td>0</td><td>17</td><td>4376368</td><td>4184706</td><td>-191662</td><td>-0.0437947631</td></tr>\n",
       "\t<tr><td>0</td><td>18</td><td>4491005</td><td>4225590</td><td>-265415</td><td>-0.0590992439</td></tr>\n",
       "\t<tr><td>0</td><td>19</td><td>4571385</td><td>4326394</td><td>-244991</td><td>-0.0535922921</td></tr>\n",
       "\t<tr><td>0</td><td>20</td><td>4568470</td><td>4418887</td><td>-149583</td><td>-0.0327424718</td></tr>\n",
       "\t<tr><td>0</td><td>21</td><td>4387914</td><td>4489746</td><td> 101832</td><td> 0.0232073828</td></tr>\n",
       "\t<tr><td>0</td><td>22</td><td>4286987</td><td>4612322</td><td> 325335</td><td> 0.0758889635</td></tr>\n",
       "\t<tr><td>0</td><td>23</td><td>4217221</td><td>4698584</td><td> 481363</td><td> 0.1141422278</td></tr>\n",
       "\t<tr><td>0</td><td>24</td><td>4243589</td><td>4692635</td><td> 449046</td><td> 0.1058175049</td></tr>\n",
       "\t<tr><td>0</td><td>25</td><td>4289424</td><td>4509594</td><td> 220170</td><td> 0.0513285700</td></tr>\n",
       "\t<tr><td>0</td><td>26</td><td>4160810</td><td>4406472</td><td> 245662</td><td> 0.0590418693</td></tr>\n",
       "\t<tr><td>0</td><td>27</td><td>4237010</td><td>4332545</td><td>  95535</td><td> 0.0225477400</td></tr>\n",
       "\t<tr><td>0</td><td>28</td><td>4247540</td><td>4351851</td><td> 104311</td><td> 0.0245579794</td></tr>\n",
       "\t<tr><td>0</td><td>29</td><td>4210285</td><td>4387476</td><td> 177191</td><td> 0.0420852745</td></tr>\n",
       "\t<tr><td>⋮</td><td>⋮</td><td>⋮</td><td>⋮</td><td>⋮</td><td>⋮</td></tr>\n",
       "\t<tr><td>2</td><td> 72</td><td>  1021293</td><td>  1183338</td><td> 162045</td><td> 0.15866651</td></tr>\n",
       "\t<tr><td>2</td><td> 73</td><td>   955663</td><td>  1089183</td><td> 133520</td><td> 0.13971452</td></tr>\n",
       "\t<tr><td>2</td><td> 74</td><td>   927168</td><td>  1032934</td><td> 105766</td><td> 0.11407426</td></tr>\n",
       "\t<tr><td>2</td><td> 75</td><td>   906215</td><td>   971263</td><td>  65048</td><td> 0.07177988</td></tr>\n",
       "\t<tr><td>2</td><td> 76</td><td>   828132</td><td>   936270</td><td> 108138</td><td> 0.13058063</td></tr>\n",
       "\t<tr><td>2</td><td> 77</td><td>   818306</td><td>   867417</td><td>  49111</td><td> 0.06001545</td></tr>\n",
       "\t<tr><td>2</td><td> 78</td><td>   799410</td><td>   832296</td><td>  32886</td><td> 0.04113784</td></tr>\n",
       "\t<tr><td>2</td><td> 79</td><td>   781029</td><td>   803512</td><td>  22483</td><td> 0.02878638</td></tr>\n",
       "\t<tr><td>2</td><td> 80</td><td>   770510</td><td>   724040</td><td> -46470</td><td>-0.06031070</td></tr>\n",
       "\t<tr><td>2</td><td> 81</td><td>   716534</td><td>   704919</td><td> -11615</td><td>-0.01620998</td></tr>\n",
       "\t<tr><td>2</td><td> 82</td><td>   695545</td><td>   676658</td><td> -18887</td><td>-0.02715425</td></tr>\n",
       "\t<tr><td>2</td><td> 83</td><td>   658442</td><td>   648016</td><td> -10426</td><td>-0.01583435</td></tr>\n",
       "\t<tr><td>2</td><td> 84</td><td>   611339</td><td>   624921</td><td>  13582</td><td> 0.02221681</td></tr>\n",
       "\t<tr><td>2</td><td> 85</td><td>   577353</td><td>   565705</td><td> -11648</td><td>-0.02017483</td></tr>\n",
       "\t<tr><td>2</td><td> 86</td><td>   526155</td><td>   532762</td><td>   6607</td><td> 0.01255714</td></tr>\n",
       "\t<tr><td>2</td><td> 87</td><td>   467575</td><td>   487380</td><td>  19805</td><td> 0.04235684</td></tr>\n",
       "\t<tr><td>2</td><td> 88</td><td>   420437</td><td>   435171</td><td>  14734</td><td> 0.03504449</td></tr>\n",
       "\t<tr><td>2</td><td> 89</td><td>   365732</td><td>   394150</td><td>  28418</td><td> 0.07770171</td></tr>\n",
       "\t<tr><td>2</td><td> 90</td><td>   306925</td><td>   342495</td><td>  35570</td><td> 0.11589150</td></tr>\n",
       "\t<tr><td>2</td><td> 91</td><td>   240152</td><td>   288866</td><td>  48714</td><td> 0.20284653</td></tr>\n",
       "\t<tr><td>2</td><td> 92</td><td>   205379</td><td>   244659</td><td>  39280</td><td> 0.19125617</td></tr>\n",
       "\t<tr><td>2</td><td> 93</td><td>   158881</td><td>   200353</td><td>  41472</td><td> 0.26102555</td></tr>\n",
       "\t<tr><td>2</td><td> 94</td><td>   126947</td><td>   156525</td><td>  29578</td><td> 0.23299487</td></tr>\n",
       "\t<tr><td>2</td><td> 95</td><td>    99341</td><td>   114300</td><td>  14959</td><td> 0.15058234</td></tr>\n",
       "\t<tr><td>2</td><td> 96</td><td>    75139</td><td>    89949</td><td>  14810</td><td> 0.19710137</td></tr>\n",
       "\t<tr><td>2</td><td> 97</td><td>    54118</td><td>    63252</td><td>   9134</td><td> 0.16877933</td></tr>\n",
       "\t<tr><td>2</td><td> 98</td><td>    37533</td><td>    46536</td><td>   9003</td><td> 0.23986892</td></tr>\n",
       "\t<tr><td>2</td><td> 99</td><td>    26074</td><td>    32791</td><td>   6717</td><td> 0.25761295</td></tr>\n",
       "\t<tr><td>2</td><td>100</td><td>    45058</td><td>    58468</td><td>  13410</td><td> 0.29761641</td></tr>\n",
       "\t<tr><td>2</td><td>999</td><td>157257573</td><td>161920569</td><td>4662996</td><td> 0.02965196</td></tr>\n",
       "</tbody>\n",
       "</table>\n"
      ],
      "text/latex": [
       "A data.frame: 306 × 6\n",
       "\\begin{tabular}{llllll}\n",
       " SEX & AGE & pop\\_2010 & pop\\_2014 & Cambio & Crecimiento\\\\\n",
       " <int> & <int> & <int> & <int> & <int> & <dbl>\\\\\n",
       "\\hline\n",
       "\t 0 &  0 & 3951330 & 3948350 &   -2980 & -0.0007541764\\\\\n",
       "\t 0 &  1 & 3957888 & 3962123 &    4235 &  0.0010700151\\\\\n",
       "\t 0 &  2 & 4090862 & 3957772 & -133090 & -0.0325334856\\\\\n",
       "\t 0 &  3 & 4111920 & 4005190 & -106730 & -0.0259562443\\\\\n",
       "\t 0 &  4 & 4077552 & 4003448 &  -74104 & -0.0181736493\\\\\n",
       "\t 0 &  5 & 4064653 & 4004858 &  -59795 & -0.0147109729\\\\\n",
       "\t 0 &  6 & 4073013 & 4134352 &   61339 &  0.0150598586\\\\\n",
       "\t 0 &  7 & 4043047 & 4154000 &  110953 &  0.0274429162\\\\\n",
       "\t 0 &  8 & 4025604 & 4119524 &   93920 &  0.0233306604\\\\\n",
       "\t 0 &  9 & 4125415 & 4106832 &  -18583 & -0.0045045165\\\\\n",
       "\t 0 & 10 & 4187063 & 4115254 &  -71809 & -0.0171502077\\\\\n",
       "\t 0 & 11 & 4115511 & 4085636 &  -29875 & -0.0072591229\\\\\n",
       "\t 0 & 12 & 4113280 & 4068790 &  -44490 & -0.0108161856\\\\\n",
       "\t 0 & 13 & 4119666 & 4169346 &   49680 &  0.0120592300\\\\\n",
       "\t 0 & 14 & 4145614 & 4232480 &   86866 &  0.0209537116\\\\\n",
       "\t 0 & 15 & 4231003 & 4163723 &  -67280 & -0.0159016668\\\\\n",
       "\t 0 & 16 & 4313252 & 4167234 & -146018 & -0.0338533431\\\\\n",
       "\t 0 & 17 & 4376368 & 4184706 & -191662 & -0.0437947631\\\\\n",
       "\t 0 & 18 & 4491005 & 4225590 & -265415 & -0.0590992439\\\\\n",
       "\t 0 & 19 & 4571385 & 4326394 & -244991 & -0.0535922921\\\\\n",
       "\t 0 & 20 & 4568470 & 4418887 & -149583 & -0.0327424718\\\\\n",
       "\t 0 & 21 & 4387914 & 4489746 &  101832 &  0.0232073828\\\\\n",
       "\t 0 & 22 & 4286987 & 4612322 &  325335 &  0.0758889635\\\\\n",
       "\t 0 & 23 & 4217221 & 4698584 &  481363 &  0.1141422278\\\\\n",
       "\t 0 & 24 & 4243589 & 4692635 &  449046 &  0.1058175049\\\\\n",
       "\t 0 & 25 & 4289424 & 4509594 &  220170 &  0.0513285700\\\\\n",
       "\t 0 & 26 & 4160810 & 4406472 &  245662 &  0.0590418693\\\\\n",
       "\t 0 & 27 & 4237010 & 4332545 &   95535 &  0.0225477400\\\\\n",
       "\t 0 & 28 & 4247540 & 4351851 &  104311 &  0.0245579794\\\\\n",
       "\t 0 & 29 & 4210285 & 4387476 &  177191 &  0.0420852745\\\\\n",
       "\t ⋮ & ⋮ & ⋮ & ⋮ & ⋮ & ⋮\\\\\n",
       "\t 2 &  72 &   1021293 &   1183338 &  162045 &  0.15866651\\\\\n",
       "\t 2 &  73 &    955663 &   1089183 &  133520 &  0.13971452\\\\\n",
       "\t 2 &  74 &    927168 &   1032934 &  105766 &  0.11407426\\\\\n",
       "\t 2 &  75 &    906215 &    971263 &   65048 &  0.07177988\\\\\n",
       "\t 2 &  76 &    828132 &    936270 &  108138 &  0.13058063\\\\\n",
       "\t 2 &  77 &    818306 &    867417 &   49111 &  0.06001545\\\\\n",
       "\t 2 &  78 &    799410 &    832296 &   32886 &  0.04113784\\\\\n",
       "\t 2 &  79 &    781029 &    803512 &   22483 &  0.02878638\\\\\n",
       "\t 2 &  80 &    770510 &    724040 &  -46470 & -0.06031070\\\\\n",
       "\t 2 &  81 &    716534 &    704919 &  -11615 & -0.01620998\\\\\n",
       "\t 2 &  82 &    695545 &    676658 &  -18887 & -0.02715425\\\\\n",
       "\t 2 &  83 &    658442 &    648016 &  -10426 & -0.01583435\\\\\n",
       "\t 2 &  84 &    611339 &    624921 &   13582 &  0.02221681\\\\\n",
       "\t 2 &  85 &    577353 &    565705 &  -11648 & -0.02017483\\\\\n",
       "\t 2 &  86 &    526155 &    532762 &    6607 &  0.01255714\\\\\n",
       "\t 2 &  87 &    467575 &    487380 &   19805 &  0.04235684\\\\\n",
       "\t 2 &  88 &    420437 &    435171 &   14734 &  0.03504449\\\\\n",
       "\t 2 &  89 &    365732 &    394150 &   28418 &  0.07770171\\\\\n",
       "\t 2 &  90 &    306925 &    342495 &   35570 &  0.11589150\\\\\n",
       "\t 2 &  91 &    240152 &    288866 &   48714 &  0.20284653\\\\\n",
       "\t 2 &  92 &    205379 &    244659 &   39280 &  0.19125617\\\\\n",
       "\t 2 &  93 &    158881 &    200353 &   41472 &  0.26102555\\\\\n",
       "\t 2 &  94 &    126947 &    156525 &   29578 &  0.23299487\\\\\n",
       "\t 2 &  95 &     99341 &    114300 &   14959 &  0.15058234\\\\\n",
       "\t 2 &  96 &     75139 &     89949 &   14810 &  0.19710137\\\\\n",
       "\t 2 &  97 &     54118 &     63252 &    9134 &  0.16877933\\\\\n",
       "\t 2 &  98 &     37533 &     46536 &    9003 &  0.23986892\\\\\n",
       "\t 2 &  99 &     26074 &     32791 &    6717 &  0.25761295\\\\\n",
       "\t 2 & 100 &     45058 &     58468 &   13410 &  0.29761641\\\\\n",
       "\t 2 & 999 & 157257573 & 161920569 & 4662996 &  0.02965196\\\\\n",
       "\\end{tabular}\n"
      ],
      "text/markdown": [
       "\n",
       "A data.frame: 306 × 6\n",
       "\n",
       "| SEX &lt;int&gt; | AGE &lt;int&gt; | pop_2010 &lt;int&gt; | pop_2014 &lt;int&gt; | Cambio &lt;int&gt; | Crecimiento &lt;dbl&gt; |\n",
       "|---|---|---|---|---|---|\n",
       "| 0 |  0 | 3951330 | 3948350 |   -2980 | -0.0007541764 |\n",
       "| 0 |  1 | 3957888 | 3962123 |    4235 |  0.0010700151 |\n",
       "| 0 |  2 | 4090862 | 3957772 | -133090 | -0.0325334856 |\n",
       "| 0 |  3 | 4111920 | 4005190 | -106730 | -0.0259562443 |\n",
       "| 0 |  4 | 4077552 | 4003448 |  -74104 | -0.0181736493 |\n",
       "| 0 |  5 | 4064653 | 4004858 |  -59795 | -0.0147109729 |\n",
       "| 0 |  6 | 4073013 | 4134352 |   61339 |  0.0150598586 |\n",
       "| 0 |  7 | 4043047 | 4154000 |  110953 |  0.0274429162 |\n",
       "| 0 |  8 | 4025604 | 4119524 |   93920 |  0.0233306604 |\n",
       "| 0 |  9 | 4125415 | 4106832 |  -18583 | -0.0045045165 |\n",
       "| 0 | 10 | 4187063 | 4115254 |  -71809 | -0.0171502077 |\n",
       "| 0 | 11 | 4115511 | 4085636 |  -29875 | -0.0072591229 |\n",
       "| 0 | 12 | 4113280 | 4068790 |  -44490 | -0.0108161856 |\n",
       "| 0 | 13 | 4119666 | 4169346 |   49680 |  0.0120592300 |\n",
       "| 0 | 14 | 4145614 | 4232480 |   86866 |  0.0209537116 |\n",
       "| 0 | 15 | 4231003 | 4163723 |  -67280 | -0.0159016668 |\n",
       "| 0 | 16 | 4313252 | 4167234 | -146018 | -0.0338533431 |\n",
       "| 0 | 17 | 4376368 | 4184706 | -191662 | -0.0437947631 |\n",
       "| 0 | 18 | 4491005 | 4225590 | -265415 | -0.0590992439 |\n",
       "| 0 | 19 | 4571385 | 4326394 | -244991 | -0.0535922921 |\n",
       "| 0 | 20 | 4568470 | 4418887 | -149583 | -0.0327424718 |\n",
       "| 0 | 21 | 4387914 | 4489746 |  101832 |  0.0232073828 |\n",
       "| 0 | 22 | 4286987 | 4612322 |  325335 |  0.0758889635 |\n",
       "| 0 | 23 | 4217221 | 4698584 |  481363 |  0.1141422278 |\n",
       "| 0 | 24 | 4243589 | 4692635 |  449046 |  0.1058175049 |\n",
       "| 0 | 25 | 4289424 | 4509594 |  220170 |  0.0513285700 |\n",
       "| 0 | 26 | 4160810 | 4406472 |  245662 |  0.0590418693 |\n",
       "| 0 | 27 | 4237010 | 4332545 |   95535 |  0.0225477400 |\n",
       "| 0 | 28 | 4247540 | 4351851 |  104311 |  0.0245579794 |\n",
       "| 0 | 29 | 4210285 | 4387476 |  177191 |  0.0420852745 |\n",
       "| ⋮ | ⋮ | ⋮ | ⋮ | ⋮ | ⋮ |\n",
       "| 2 |  72 |   1021293 |   1183338 |  162045 |  0.15866651 |\n",
       "| 2 |  73 |    955663 |   1089183 |  133520 |  0.13971452 |\n",
       "| 2 |  74 |    927168 |   1032934 |  105766 |  0.11407426 |\n",
       "| 2 |  75 |    906215 |    971263 |   65048 |  0.07177988 |\n",
       "| 2 |  76 |    828132 |    936270 |  108138 |  0.13058063 |\n",
       "| 2 |  77 |    818306 |    867417 |   49111 |  0.06001545 |\n",
       "| 2 |  78 |    799410 |    832296 |   32886 |  0.04113784 |\n",
       "| 2 |  79 |    781029 |    803512 |   22483 |  0.02878638 |\n",
       "| 2 |  80 |    770510 |    724040 |  -46470 | -0.06031070 |\n",
       "| 2 |  81 |    716534 |    704919 |  -11615 | -0.01620998 |\n",
       "| 2 |  82 |    695545 |    676658 |  -18887 | -0.02715425 |\n",
       "| 2 |  83 |    658442 |    648016 |  -10426 | -0.01583435 |\n",
       "| 2 |  84 |    611339 |    624921 |   13582 |  0.02221681 |\n",
       "| 2 |  85 |    577353 |    565705 |  -11648 | -0.02017483 |\n",
       "| 2 |  86 |    526155 |    532762 |    6607 |  0.01255714 |\n",
       "| 2 |  87 |    467575 |    487380 |   19805 |  0.04235684 |\n",
       "| 2 |  88 |    420437 |    435171 |   14734 |  0.03504449 |\n",
       "| 2 |  89 |    365732 |    394150 |   28418 |  0.07770171 |\n",
       "| 2 |  90 |    306925 |    342495 |   35570 |  0.11589150 |\n",
       "| 2 |  91 |    240152 |    288866 |   48714 |  0.20284653 |\n",
       "| 2 |  92 |    205379 |    244659 |   39280 |  0.19125617 |\n",
       "| 2 |  93 |    158881 |    200353 |   41472 |  0.26102555 |\n",
       "| 2 |  94 |    126947 |    156525 |   29578 |  0.23299487 |\n",
       "| 2 |  95 |     99341 |    114300 |   14959 |  0.15058234 |\n",
       "| 2 |  96 |     75139 |     89949 |   14810 |  0.19710137 |\n",
       "| 2 |  97 |     54118 |     63252 |    9134 |  0.16877933 |\n",
       "| 2 |  98 |     37533 |     46536 |    9003 |  0.23986892 |\n",
       "| 2 |  99 |     26074 |     32791 |    6717 |  0.25761295 |\n",
       "| 2 | 100 |     45058 |     58468 |   13410 |  0.29761641 |\n",
       "| 2 | 999 | 157257573 | 161920569 | 4662996 |  0.02965196 |\n",
       "\n"
      ],
      "text/plain": [
       "    SEX AGE pop_2010  pop_2014  Cambio  Crecimiento  \n",
       "1   0    0  3951330   3948350     -2980 -0.0007541764\n",
       "2   0    1  3957888   3962123      4235  0.0010700151\n",
       "3   0    2  4090862   3957772   -133090 -0.0325334856\n",
       "4   0    3  4111920   4005190   -106730 -0.0259562443\n",
       "5   0    4  4077552   4003448    -74104 -0.0181736493\n",
       "6   0    5  4064653   4004858    -59795 -0.0147109729\n",
       "7   0    6  4073013   4134352     61339  0.0150598586\n",
       "8   0    7  4043047   4154000    110953  0.0274429162\n",
       "9   0    8  4025604   4119524     93920  0.0233306604\n",
       "10  0    9  4125415   4106832    -18583 -0.0045045165\n",
       "11  0   10  4187063   4115254    -71809 -0.0171502077\n",
       "12  0   11  4115511   4085636    -29875 -0.0072591229\n",
       "13  0   12  4113280   4068790    -44490 -0.0108161856\n",
       "14  0   13  4119666   4169346     49680  0.0120592300\n",
       "15  0   14  4145614   4232480     86866  0.0209537116\n",
       "16  0   15  4231003   4163723    -67280 -0.0159016668\n",
       "17  0   16  4313252   4167234   -146018 -0.0338533431\n",
       "18  0   17  4376368   4184706   -191662 -0.0437947631\n",
       "19  0   18  4491005   4225590   -265415 -0.0590992439\n",
       "20  0   19  4571385   4326394   -244991 -0.0535922921\n",
       "21  0   20  4568470   4418887   -149583 -0.0327424718\n",
       "22  0   21  4387914   4489746    101832  0.0232073828\n",
       "23  0   22  4286987   4612322    325335  0.0758889635\n",
       "24  0   23  4217221   4698584    481363  0.1141422278\n",
       "25  0   24  4243589   4692635    449046  0.1058175049\n",
       "26  0   25  4289424   4509594    220170  0.0513285700\n",
       "27  0   26  4160810   4406472    245662  0.0590418693\n",
       "28  0   27  4237010   4332545     95535  0.0225477400\n",
       "29  0   28  4247540   4351851    104311  0.0245579794\n",
       "30  0   29  4210285   4387476    177191  0.0420852745\n",
       "⋮   ⋮   ⋮   ⋮         ⋮         ⋮       ⋮            \n",
       "277 2    72   1021293   1183338  162045  0.15866651  \n",
       "278 2    73    955663   1089183  133520  0.13971452  \n",
       "279 2    74    927168   1032934  105766  0.11407426  \n",
       "280 2    75    906215    971263   65048  0.07177988  \n",
       "281 2    76    828132    936270  108138  0.13058063  \n",
       "282 2    77    818306    867417   49111  0.06001545  \n",
       "283 2    78    799410    832296   32886  0.04113784  \n",
       "284 2    79    781029    803512   22483  0.02878638  \n",
       "285 2    80    770510    724040  -46470 -0.06031070  \n",
       "286 2    81    716534    704919  -11615 -0.01620998  \n",
       "287 2    82    695545    676658  -18887 -0.02715425  \n",
       "288 2    83    658442    648016  -10426 -0.01583435  \n",
       "289 2    84    611339    624921   13582  0.02221681  \n",
       "290 2    85    577353    565705  -11648 -0.02017483  \n",
       "291 2    86    526155    532762    6607  0.01255714  \n",
       "292 2    87    467575    487380   19805  0.04235684  \n",
       "293 2    88    420437    435171   14734  0.03504449  \n",
       "294 2    89    365732    394150   28418  0.07770171  \n",
       "295 2    90    306925    342495   35570  0.11589150  \n",
       "296 2    91    240152    288866   48714  0.20284653  \n",
       "297 2    92    205379    244659   39280  0.19125617  \n",
       "298 2    93    158881    200353   41472  0.26102555  \n",
       "299 2    94    126947    156525   29578  0.23299487  \n",
       "300 2    95     99341    114300   14959  0.15058234  \n",
       "301 2    96     75139     89949   14810  0.19710137  \n",
       "302 2    97     54118     63252    9134  0.16877933  \n",
       "303 2    98     37533     46536    9003  0.23986892  \n",
       "304 2    99     26074     32791    6717  0.25761295  \n",
       "305 2   100     45058     58468   13410  0.29761641  \n",
       "306 2   999 157257573 161920569 4662996  0.02965196  "
      ]
     },
     "metadata": {},
     "output_type": "display_data"
    }
   ],
   "source": [
    "mutate(pop_Simple, \n",
    "       Cambio = pop_2014 - pop_2010, Crecimiento = pop_2014/pop_2010 - 1) "
   ]
  },
  {
   "cell_type": "code",
   "execution_count": 6,
   "metadata": {},
   "outputs": [],
   "source": [
    "percent <- function(x, digits = 2, format = \"f\", ...) {\n",
    "  paste0(formatC(100 * x, format = format, digits = digits, ...), \"%\")\n",
    "}\n"
   ]
  },
  {
   "cell_type": "code",
   "execution_count": 7,
   "metadata": {},
   "outputs": [
    {
     "data": {
      "text/html": [
       "<table>\n",
       "<caption>A data.frame: 6 × 6</caption>\n",
       "<thead>\n",
       "\t<tr><th></th><th scope=col>SEX</th><th scope=col>AGE</th><th scope=col>pop_2010</th><th scope=col>pop_2014</th><th scope=col>Cambio</th><th scope=col>Crecimiento</th></tr>\n",
       "\t<tr><th></th><th scope=col>&lt;int&gt;</th><th scope=col>&lt;int&gt;</th><th scope=col>&lt;int&gt;</th><th scope=col>&lt;int&gt;</th><th scope=col>&lt;int&gt;</th><th scope=col>&lt;chr&gt;</th></tr>\n",
       "</thead>\n",
       "<tbody>\n",
       "\t<tr><th scope=row>1</th><td>0</td><td>0</td><td>3951330</td><td>3948350</td><td>  -2980</td><td>-0.02%</td></tr>\n",
       "\t<tr><th scope=row>2</th><td>0</td><td>1</td><td>3957888</td><td>3962123</td><td>   4235</td><td>0.03% </td></tr>\n",
       "\t<tr><th scope=row>3</th><td>0</td><td>2</td><td>4090862</td><td>3957772</td><td>-133090</td><td>-0.82%</td></tr>\n",
       "\t<tr><th scope=row>4</th><td>0</td><td>3</td><td>4111920</td><td>4005190</td><td>-106730</td><td>-0.66%</td></tr>\n",
       "\t<tr><th scope=row>5</th><td>0</td><td>4</td><td>4077552</td><td>4003448</td><td> -74104</td><td>-0.46%</td></tr>\n",
       "\t<tr><th scope=row>6</th><td>0</td><td>5</td><td>4064653</td><td>4004858</td><td> -59795</td><td>-0.37%</td></tr>\n",
       "</tbody>\n",
       "</table>\n"
      ],
      "text/latex": [
       "A data.frame: 6 × 6\n",
       "\\begin{tabular}{r|llllll}\n",
       "  & SEX & AGE & pop\\_2010 & pop\\_2014 & Cambio & Crecimiento\\\\\n",
       "  & <int> & <int> & <int> & <int> & <int> & <chr>\\\\\n",
       "\\hline\n",
       "\t1 & 0 & 0 & 3951330 & 3948350 &   -2980 & -0.02\\%\\\\\n",
       "\t2 & 0 & 1 & 3957888 & 3962123 &    4235 & 0.03\\% \\\\\n",
       "\t3 & 0 & 2 & 4090862 & 3957772 & -133090 & -0.82\\%\\\\\n",
       "\t4 & 0 & 3 & 4111920 & 4005190 & -106730 & -0.66\\%\\\\\n",
       "\t5 & 0 & 4 & 4077552 & 4003448 &  -74104 & -0.46\\%\\\\\n",
       "\t6 & 0 & 5 & 4064653 & 4004858 &  -59795 & -0.37\\%\\\\\n",
       "\\end{tabular}\n"
      ],
      "text/markdown": [
       "\n",
       "A data.frame: 6 × 6\n",
       "\n",
       "| <!--/--> | SEX &lt;int&gt; | AGE &lt;int&gt; | pop_2010 &lt;int&gt; | pop_2014 &lt;int&gt; | Cambio &lt;int&gt; | Crecimiento &lt;chr&gt; |\n",
       "|---|---|---|---|---|---|---|\n",
       "| 1 | 0 | 0 | 3951330 | 3948350 |   -2980 | -0.02% |\n",
       "| 2 | 0 | 1 | 3957888 | 3962123 |    4235 | 0.03%  |\n",
       "| 3 | 0 | 2 | 4090862 | 3957772 | -133090 | -0.82% |\n",
       "| 4 | 0 | 3 | 4111920 | 4005190 | -106730 | -0.66% |\n",
       "| 5 | 0 | 4 | 4077552 | 4003448 |  -74104 | -0.46% |\n",
       "| 6 | 0 | 5 | 4064653 | 4004858 |  -59795 | -0.37% |\n",
       "\n"
      ],
      "text/plain": [
       "  SEX AGE pop_2010 pop_2014 Cambio  Crecimiento\n",
       "1 0   0   3951330  3948350    -2980 -0.02%     \n",
       "2 0   1   3957888  3962123     4235 0.03%      \n",
       "3 0   2   4090862  3957772  -133090 -0.82%     \n",
       "4 0   3   4111920  4005190  -106730 -0.66%     \n",
       "5 0   4   4077552  4003448   -74104 -0.46%     \n",
       "6 0   5   4064653  4004858   -59795 -0.37%     "
      ]
     },
     "metadata": {},
     "output_type": "display_data"
    }
   ],
   "source": [
    "pop_Simple <- mutate(pop_Simple, Cambio = pop_2014 - pop_2010, \n",
    "                     Crecimiento = percent((pop_2014/pop_2010)^(1/4) - 1))\n",
    "head(pop_Simple)"
   ]
  },
  {
   "cell_type": "markdown",
   "metadata": {
    "collapsed": true
   },
   "source": [
    "Info acerca de la tabla:\n",
    "\n",
    "    * http://www2.census.gov/programs-surveys/popest/technical-documentation/file-layouts/2010-2014/nc-est2014-agesex-res.pdf"
   ]
  },
  {
   "cell_type": "code",
   "execution_count": 8,
   "metadata": {},
   "outputs": [
    {
     "data": {
      "text/html": [
       "<table>\n",
       "<caption>A data.frame: 3 × 6</caption>\n",
       "<thead>\n",
       "\t<tr><th scope=col>SEX</th><th scope=col>AGE</th><th scope=col>pop_2010</th><th scope=col>pop_2014</th><th scope=col>Cambio</th><th scope=col>Crecimiento</th></tr>\n",
       "\t<tr><th scope=col>&lt;int&gt;</th><th scope=col>&lt;int&gt;</th><th scope=col>&lt;int&gt;</th><th scope=col>&lt;int&gt;</th><th scope=col>&lt;int&gt;</th><th scope=col>&lt;chr&gt;</th></tr>\n",
       "</thead>\n",
       "<tbody>\n",
       "\t<tr><td>0</td><td>999</td><td>309347057</td><td>318857056</td><td>9509999</td><td>0.76%</td></tr>\n",
       "\t<tr><td>1</td><td>999</td><td>152089484</td><td>156936487</td><td>4847003</td><td>0.79%</td></tr>\n",
       "\t<tr><td>2</td><td>999</td><td>157257573</td><td>161920569</td><td>4662996</td><td>0.73%</td></tr>\n",
       "</tbody>\n",
       "</table>\n"
      ],
      "text/latex": [
       "A data.frame: 3 × 6\n",
       "\\begin{tabular}{llllll}\n",
       " SEX & AGE & pop\\_2010 & pop\\_2014 & Cambio & Crecimiento\\\\\n",
       " <int> & <int> & <int> & <int> & <int> & <chr>\\\\\n",
       "\\hline\n",
       "\t 0 & 999 & 309347057 & 318857056 & 9509999 & 0.76\\%\\\\\n",
       "\t 1 & 999 & 152089484 & 156936487 & 4847003 & 0.79\\%\\\\\n",
       "\t 2 & 999 & 157257573 & 161920569 & 4662996 & 0.73\\%\\\\\n",
       "\\end{tabular}\n"
      ],
      "text/markdown": [
       "\n",
       "A data.frame: 3 × 6\n",
       "\n",
       "| SEX &lt;int&gt; | AGE &lt;int&gt; | pop_2010 &lt;int&gt; | pop_2014 &lt;int&gt; | Cambio &lt;int&gt; | Crecimiento &lt;chr&gt; |\n",
       "|---|---|---|---|---|---|\n",
       "| 0 | 999 | 309347057 | 318857056 | 9509999 | 0.76% |\n",
       "| 1 | 999 | 152089484 | 156936487 | 4847003 | 0.79% |\n",
       "| 2 | 999 | 157257573 | 161920569 | 4662996 | 0.73% |\n",
       "\n"
      ],
      "text/plain": [
       "  SEX AGE pop_2010  pop_2014  Cambio  Crecimiento\n",
       "1 0   999 309347057 318857056 9509999 0.76%      \n",
       "2 1   999 152089484 156936487 4847003 0.79%      \n",
       "3 2   999 157257573 161920569 4662996 0.73%      "
      ]
     },
     "metadata": {},
     "output_type": "display_data"
    }
   ],
   "source": [
    "totales <- filter(pop_Simple, AGE == 999) #AGE = 999 para la población total.\n",
    "totales"
   ]
  },
  {
   "cell_type": "code",
   "execution_count": 9,
   "metadata": {},
   "outputs": [
    {
     "data": {
      "text/html": [
       "<table>\n",
       "<caption>A data.frame: 1 × 6</caption>\n",
       "<thead>\n",
       "\t<tr><th scope=col>SEX</th><th scope=col>AGE</th><th scope=col>pop_2010</th><th scope=col>pop_2014</th><th scope=col>Cambio</th><th scope=col>Crecimiento</th></tr>\n",
       "\t<tr><th scope=col>&lt;int&gt;</th><th scope=col>&lt;int&gt;</th><th scope=col>&lt;int&gt;</th><th scope=col>&lt;int&gt;</th><th scope=col>&lt;int&gt;</th><th scope=col>&lt;chr&gt;</th></tr>\n",
       "</thead>\n",
       "<tbody>\n",
       "\t<tr><td>1</td><td>100</td><td>9351</td><td>13729</td><td>4378</td><td>10.08%</td></tr>\n",
       "</tbody>\n",
       "</table>\n"
      ],
      "text/latex": [
       "A data.frame: 1 × 6\n",
       "\\begin{tabular}{llllll}\n",
       " SEX & AGE & pop\\_2010 & pop\\_2014 & Cambio & Crecimiento\\\\\n",
       " <int> & <int> & <int> & <int> & <int> & <chr>\\\\\n",
       "\\hline\n",
       "\t 1 & 100 & 9351 & 13729 & 4378 & 10.08\\%\\\\\n",
       "\\end{tabular}\n"
      ],
      "text/markdown": [
       "\n",
       "A data.frame: 1 × 6\n",
       "\n",
       "| SEX &lt;int&gt; | AGE &lt;int&gt; | pop_2010 &lt;int&gt; | pop_2014 &lt;int&gt; | Cambio &lt;int&gt; | Crecimiento &lt;chr&gt; |\n",
       "|---|---|---|---|---|---|\n",
       "| 1 | 100 | 9351 | 13729 | 4378 | 10.08% |\n",
       "\n"
      ],
      "text/plain": [
       "  SEX AGE pop_2010 pop_2014 Cambio Crecimiento\n",
       "1 1   100 9351     13729    4378   10.08%     "
      ]
     },
     "metadata": {},
     "output_type": "display_data"
    },
    {
     "data": {
      "text/html": [
       "<table>\n",
       "<caption>A data.frame: 1 × 6</caption>\n",
       "<thead>\n",
       "\t<tr><th scope=col>SEX</th><th scope=col>AGE</th><th scope=col>pop_2010</th><th scope=col>pop_2014</th><th scope=col>Cambio</th><th scope=col>Crecimiento</th></tr>\n",
       "\t<tr><th scope=col>&lt;int&gt;</th><th scope=col>&lt;int&gt;</th><th scope=col>&lt;int&gt;</th><th scope=col>&lt;int&gt;</th><th scope=col>&lt;int&gt;</th><th scope=col>&lt;chr&gt;</th></tr>\n",
       "</thead>\n",
       "<tbody>\n",
       "\t<tr><td>1</td><td>99</td><td>6104</td><td>9037</td><td>2933</td><td>10.31%</td></tr>\n",
       "</tbody>\n",
       "</table>\n"
      ],
      "text/latex": [
       "A data.frame: 1 × 6\n",
       "\\begin{tabular}{llllll}\n",
       " SEX & AGE & pop\\_2010 & pop\\_2014 & Cambio & Crecimiento\\\\\n",
       " <int> & <int> & <int> & <int> & <int> & <chr>\\\\\n",
       "\\hline\n",
       "\t 1 & 99 & 6104 & 9037 & 2933 & 10.31\\%\\\\\n",
       "\\end{tabular}\n"
      ],
      "text/markdown": [
       "\n",
       "A data.frame: 1 × 6\n",
       "\n",
       "| SEX &lt;int&gt; | AGE &lt;int&gt; | pop_2010 &lt;int&gt; | pop_2014 &lt;int&gt; | Cambio &lt;int&gt; | Crecimiento &lt;chr&gt; |\n",
       "|---|---|---|---|---|---|\n",
       "| 1 | 99 | 6104 | 9037 | 2933 | 10.31% |\n",
       "\n"
      ],
      "text/plain": [
       "  SEX AGE pop_2010 pop_2014 Cambio Crecimiento\n",
       "1 1   99  6104     9037     2933   10.31%     "
      ]
     },
     "metadata": {},
     "output_type": "display_data"
    }
   ],
   "source": [
    "hombres <- filter(pop_Simple, SEX == 1)\n",
    "#arrange(hombres, desc(Crecimiento)) # Es un segmento pequeño de la población que cambia rápidamente.\n",
    "\n",
    "filter(hombres, AGE == 100)\n",
    "filter(hombres, AGE == 99)"
   ]
  },
  {
   "cell_type": "code",
   "execution_count": 10,
   "metadata": {},
   "outputs": [
    {
     "data": {
      "text/html": [
       "<table>\n",
       "<caption>A data.frame: 5 × 6</caption>\n",
       "<thead>\n",
       "\t<tr><th scope=col>SEX</th><th scope=col>AGE</th><th scope=col>pop_2010</th><th scope=col>pop_2014</th><th scope=col>Cambio</th><th scope=col>Crecimiento</th></tr>\n",
       "\t<tr><th scope=col>&lt;int&gt;</th><th scope=col>&lt;int&gt;</th><th scope=col>&lt;int&gt;</th><th scope=col>&lt;int&gt;</th><th scope=col>&lt;int&gt;</th><th scope=col>&lt;chr&gt;</th></tr>\n",
       "</thead>\n",
       "<tbody>\n",
       "\t<tr><td>1</td><td> 64</td><td>  1291843</td><td>  1661474</td><td> 369631</td><td>6.49%</td></tr>\n",
       "\t<tr><td>1</td><td> 65</td><td>  1272693</td><td>  1607688</td><td> 334995</td><td>6.02%</td></tr>\n",
       "\t<tr><td>1</td><td> 66</td><td>  1239805</td><td>  1589127</td><td> 349322</td><td>6.40%</td></tr>\n",
       "\t<tr><td>1</td><td> 67</td><td>  1270148</td><td>  1653257</td><td> 383109</td><td>6.81%</td></tr>\n",
       "\t<tr><td>1</td><td>999</td><td>152089484</td><td>156936487</td><td>4847003</td><td>0.79%</td></tr>\n",
       "</tbody>\n",
       "</table>\n"
      ],
      "text/latex": [
       "A data.frame: 5 × 6\n",
       "\\begin{tabular}{llllll}\n",
       " SEX & AGE & pop\\_2010 & pop\\_2014 & Cambio & Crecimiento\\\\\n",
       " <int> & <int> & <int> & <int> & <int> & <chr>\\\\\n",
       "\\hline\n",
       "\t 1 &  64 &   1291843 &   1661474 &  369631 & 6.49\\%\\\\\n",
       "\t 1 &  65 &   1272693 &   1607688 &  334995 & 6.02\\%\\\\\n",
       "\t 1 &  66 &   1239805 &   1589127 &  349322 & 6.40\\%\\\\\n",
       "\t 1 &  67 &   1270148 &   1653257 &  383109 & 6.81\\%\\\\\n",
       "\t 1 & 999 & 152089484 & 156936487 & 4847003 & 0.79\\%\\\\\n",
       "\\end{tabular}\n"
      ],
      "text/markdown": [
       "\n",
       "A data.frame: 5 × 6\n",
       "\n",
       "| SEX &lt;int&gt; | AGE &lt;int&gt; | pop_2010 &lt;int&gt; | pop_2014 &lt;int&gt; | Cambio &lt;int&gt; | Crecimiento &lt;chr&gt; |\n",
       "|---|---|---|---|---|---|\n",
       "| 1 |  64 |   1291843 |   1661474 |  369631 | 6.49% |\n",
       "| 1 |  65 |   1272693 |   1607688 |  334995 | 6.02% |\n",
       "| 1 |  66 |   1239805 |   1589127 |  349322 | 6.40% |\n",
       "| 1 |  67 |   1270148 |   1653257 |  383109 | 6.81% |\n",
       "| 1 | 999 | 152089484 | 156936487 | 4847003 | 0.79% |\n",
       "\n"
      ],
      "text/plain": [
       "  SEX AGE pop_2010  pop_2014  Cambio  Crecimiento\n",
       "1 1    64   1291843   1661474  369631 6.49%      \n",
       "2 1    65   1272693   1607688  334995 6.02%      \n",
       "3 1    66   1239805   1589127  349322 6.40%      \n",
       "4 1    67   1270148   1653257  383109 6.81%      \n",
       "5 1   999 152089484 156936487 4847003 0.79%      "
      ]
     },
     "metadata": {},
     "output_type": "display_data"
    }
   ],
   "source": [
    "filter(hombres, Cambio > 300000) "
   ]
  }
 ],
 "metadata": {
  "anaconda-cloud": {},
  "kernelspec": {
   "display_name": "R",
   "language": "R",
   "name": "ir"
  },
  "language_info": {
   "codemirror_mode": "r",
   "file_extension": ".r",
   "mimetype": "text/x-r-source",
   "name": "R",
   "pygments_lexer": "r",
   "version": "3.6.3"
  }
 },
 "nbformat": 4,
 "nbformat_minor": 1
}
