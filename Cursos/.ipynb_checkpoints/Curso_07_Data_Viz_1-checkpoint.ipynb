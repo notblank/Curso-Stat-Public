{
 "cells": [
  {
   "cell_type": "markdown",
   "metadata": {},
   "source": [
    "# Visualización\n",
    "\n",
    "Sentido de la vista muy desarrollado. \n",
    "\n",
    "Gráficos son mas fáciles de interpretar. \n",
    "\n"
   ]
  },
  {
   "cell_type": "markdown",
   "metadata": {},
   "source": [
    "## Barras\n",
    "\n"
   ]
  },
  {
   "cell_type": "code",
   "execution_count": 4,
   "metadata": {},
   "outputs": [],
   "source": [
    "library(dplyr)\n",
    "library(tidyr)\n",
    "\n",
    "trips <- read.csv('C:/Users/Personal/Data-Science-Students/Tables/babs_open_data_year_2/201508_trip_data.csv', \n",
    "                  stringsAsFactors=FALSE)\n",
    "\n",
    "trips.bici <- trips %>% select(Start.Date) %>% rename(Fecha = Start.Date) %>% mutate(Fecha =  gsub( \" .*$\", \"\", Fecha)) %>%\n",
    "group_by(Fecha) %>% summarize(Viajes = n())\n",
    "\n",
    "clima <- read.csv('C:/Users/Personal/Data-Science-Students/Tables/babs_open_data_year_2/201508_weather_data.csv', \n",
    "                  stringsAsFactors=FALSE)\n",
    "\n",
    "clima.bicis <- clima %>% select(PDT, Max.TemperatureF) %>% \n",
    "mutate(Max.TemperatureF = round((Max.TemperatureF - 32)*5/9, 0)) %>% \n",
    "rename(Fecha = PDT, Max.Temp = Max.TemperatureF) \n",
    "\n"
   ]
  },
  {
   "cell_type": "code",
   "execution_count": 5,
   "metadata": {},
   "outputs": [
    {
     "data": {
      "text/html": [
       "<ol class=list-inline>\n",
       "\t<li>''</li>\n",
       "\t<li>'Fog'</li>\n",
       "\t<li>'Fog-Rain'</li>\n",
       "\t<li>'Rain'</li>\n",
       "\t<li>'Rain-Thunderstorm'</li>\n",
       "</ol>\n"
      ],
      "text/latex": [
       "\\begin{enumerate*}\n",
       "\\item ''\n",
       "\\item 'Fog'\n",
       "\\item 'Fog-Rain'\n",
       "\\item 'Rain'\n",
       "\\item 'Rain-Thunderstorm'\n",
       "\\end{enumerate*}\n"
      ],
      "text/markdown": [
       "1. ''\n",
       "2. 'Fog'\n",
       "3. 'Fog-Rain'\n",
       "4. 'Rain'\n",
       "5. 'Rain-Thunderstorm'\n",
       "\n",
       "\n"
      ],
      "text/plain": [
       "[1] \"\"                  \"Fog\"               \"Fog-Rain\"         \n",
       "[4] \"Rain\"              \"Rain-Thunderstorm\""
      ]
     },
     "metadata": {},
     "output_type": "display_data"
    },
    {
     "data": {
      "text/html": [
       "<ol class=list-inline>\n",
       "\t<li>'Seco'</li>\n",
       "\t<li>'Humedo'</li>\n",
       "\t<li>'Mojado'</li>\n",
       "</ol>\n"
      ],
      "text/latex": [
       "\\begin{enumerate*}\n",
       "\\item 'Seco'\n",
       "\\item 'Humedo'\n",
       "\\item 'Mojado'\n",
       "\\end{enumerate*}\n"
      ],
      "text/markdown": [
       "1. 'Seco'\n",
       "2. 'Humedo'\n",
       "3. 'Mojado'\n",
       "\n",
       "\n"
      ],
      "text/plain": [
       "[1] \"Seco\"   \"Humedo\" \"Mojado\""
      ]
     },
     "metadata": {},
     "output_type": "display_data"
    }
   ],
   "source": [
    "fact <- factor(clima$Events)\n",
    "levels(fact)\n",
    "levels(fact) <- c('Seco', 'Humedo', 'Humedo', 'Mojado', 'Mojado')\n",
    "levels(fact)"
   ]
  },
  {
   "cell_type": "code",
   "execution_count": 21,
   "metadata": {},
   "outputs": [
    {
     "data": {
      "text/html": [
       "<table>\n",
       "<thead><tr><th scope=col>Fecha</th><th scope=col>Events</th></tr></thead>\n",
       "<tbody>\n",
       "\t<tr><td>9/1/2014</td><td>Seco    </td></tr>\n",
       "\t<tr><td>9/2/2014</td><td>Seco    </td></tr>\n",
       "\t<tr><td>9/3/2014</td><td>Seco    </td></tr>\n",
       "\t<tr><td>9/4/2014</td><td>Seco    </td></tr>\n",
       "\t<tr><td>9/5/2014</td><td>Seco    </td></tr>\n",
       "\t<tr><td>9/6/2014</td><td>Seco    </td></tr>\n",
       "</tbody>\n",
       "</table>\n"
      ],
      "text/latex": [
       "\\begin{tabular}{r|ll}\n",
       " Fecha & Events\\\\\n",
       "\\hline\n",
       "\t 9/1/2014 & Seco    \\\\\n",
       "\t 9/2/2014 & Seco    \\\\\n",
       "\t 9/3/2014 & Seco    \\\\\n",
       "\t 9/4/2014 & Seco    \\\\\n",
       "\t 9/5/2014 & Seco    \\\\\n",
       "\t 9/6/2014 & Seco    \\\\\n",
       "\\end{tabular}\n"
      ],
      "text/markdown": [
       "\n",
       "Fecha | Events | \n",
       "|---|---|---|---|---|---|\n",
       "| 9/1/2014 | Seco     | \n",
       "| 9/2/2014 | Seco     | \n",
       "| 9/3/2014 | Seco     | \n",
       "| 9/4/2014 | Seco     | \n",
       "| 9/5/2014 | Seco     | \n",
       "| 9/6/2014 | Seco     | \n",
       "\n",
       "\n"
      ],
      "text/plain": [
       "  Fecha    Events\n",
       "1 9/1/2014 Seco  \n",
       "2 9/2/2014 Seco  \n",
       "3 9/3/2014 Seco  \n",
       "4 9/4/2014 Seco  \n",
       "5 9/5/2014 Seco  \n",
       "6 9/6/2014 Seco  "
      ]
     },
     "metadata": {},
     "output_type": "display_data"
    }
   ],
   "source": [
    "clima.simple <- clima %>% rename(Fecha = PDT) %>% \n",
    "            select(Fecha, Events) %>% mutate(Events = fact)\n",
    "\n",
    "head(clima.simple)"
   ]
  },
  {
   "cell_type": "code",
   "execution_count": 22,
   "metadata": {},
   "outputs": [
    {
     "data": {
      "text/html": [
       "<table>\n",
       "<thead><tr><th scope=col>Fecha</th><th scope=col>Events</th><th scope=col>Max.Temp</th><th scope=col>Viajes</th></tr></thead>\n",
       "<tbody>\n",
       "\t<tr><td>9/1/2014</td><td>Seco    </td><td>Caliente</td><td> 368    </td></tr>\n",
       "\t<tr><td>9/2/2014</td><td>Seco    </td><td>Caliente</td><td>1319    </td></tr>\n",
       "\t<tr><td>9/3/2014</td><td>Seco    </td><td>Caliente</td><td>1404    </td></tr>\n",
       "\t<tr><td>9/4/2014</td><td>Seco    </td><td>Caliente</td><td>1389    </td></tr>\n",
       "\t<tr><td>9/5/2014</td><td>Seco    </td><td>Caliente</td><td>1265    </td></tr>\n",
       "\t<tr><td>9/6/2014</td><td>Seco    </td><td>Caliente</td><td> 435    </td></tr>\n",
       "</tbody>\n",
       "</table>\n"
      ],
      "text/latex": [
       "\\begin{tabular}{r|llll}\n",
       " Fecha & Events & Max.Temp & Viajes\\\\\n",
       "\\hline\n",
       "\t 9/1/2014 & Seco     & Caliente &  368    \\\\\n",
       "\t 9/2/2014 & Seco     & Caliente & 1319    \\\\\n",
       "\t 9/3/2014 & Seco     & Caliente & 1404    \\\\\n",
       "\t 9/4/2014 & Seco     & Caliente & 1389    \\\\\n",
       "\t 9/5/2014 & Seco     & Caliente & 1265    \\\\\n",
       "\t 9/6/2014 & Seco     & Caliente &  435    \\\\\n",
       "\\end{tabular}\n"
      ],
      "text/markdown": [
       "\n",
       "Fecha | Events | Max.Temp | Viajes | \n",
       "|---|---|---|---|---|---|\n",
       "| 9/1/2014 | Seco     | Caliente |  368     | \n",
       "| 9/2/2014 | Seco     | Caliente | 1319     | \n",
       "| 9/3/2014 | Seco     | Caliente | 1404     | \n",
       "| 9/4/2014 | Seco     | Caliente | 1389     | \n",
       "| 9/5/2014 | Seco     | Caliente | 1265     | \n",
       "| 9/6/2014 | Seco     | Caliente |  435     | \n",
       "\n",
       "\n"
      ],
      "text/plain": [
       "  Fecha    Events Max.Temp Viajes\n",
       "1 9/1/2014 Seco   Caliente  368  \n",
       "2 9/2/2014 Seco   Caliente 1319  \n",
       "3 9/3/2014 Seco   Caliente 1404  \n",
       "4 9/4/2014 Seco   Caliente 1389  \n",
       "5 9/5/2014 Seco   Caliente 1265  \n",
       "6 9/6/2014 Seco   Caliente  435  "
      ]
     },
     "metadata": {},
     "output_type": "display_data"
    }
   ],
   "source": [
    "clima.94107 <- clima %>% rename(Fecha = PDT, Max.Temp = Max.TemperatureF) %>%  \n",
    "               mutate(Events = fact) %>% filter(Zip == 94107) %>% select(Fecha, Events, Max.Temp) \n",
    "\n",
    "clima.94107 <-  clima.94107 %>% \n",
    "    mutate(Max.Temp = factor(round((clima.94107$Max.Temp - 32)*5/9, 1) > 15, labels = c('Frio', 'Caliente')))\n",
    "\n",
    "bicis.94107 <- left_join(clima.94107, trips.bici, by = 'Fecha')\n",
    "head(bicis.94107)"
   ]
  },
  {
   "cell_type": "code",
   "execution_count": 23,
   "metadata": {},
   "outputs": [
    {
     "data": {
      "text/html": [
       "<table>\n",
       "<thead><tr><th scope=col>Temp</th><th scope=col>Viajes</th></tr></thead>\n",
       "<tbody>\n",
       "\t<tr><td>Frio    </td><td>677     </td></tr>\n",
       "\t<tr><td>Caliente</td><td>998     </td></tr>\n",
       "</tbody>\n",
       "</table>\n"
      ],
      "text/latex": [
       "\\begin{tabular}{r|ll}\n",
       " Temp & Viajes\\\\\n",
       "\\hline\n",
       "\t Frio     & 677     \\\\\n",
       "\t Caliente & 998     \\\\\n",
       "\\end{tabular}\n"
      ],
      "text/markdown": [
       "\n",
       "Temp | Viajes | \n",
       "|---|---|\n",
       "| Frio     | 677      | \n",
       "| Caliente | 998      | \n",
       "\n",
       "\n"
      ],
      "text/plain": [
       "  Temp     Viajes\n",
       "1 Frio     677   \n",
       "2 Caliente 998   "
      ]
     },
     "metadata": {},
     "output_type": "display_data"
    }
   ],
   "source": [
    "TempViajes <- bicis.94107 %>% group_by(Max.Temp) %>% summarize(Viajes = round(mean(Viajes), 0)) %>%\n",
    "rename(Temp = Max.Temp)\n",
    "\n",
    "data.frame(TempViajes)"
   ]
  },
  {
   "cell_type": "code",
   "execution_count": 92,
   "metadata": {
    "scrolled": false
   },
   "outputs": [
    {
     "data": {},
     "metadata": {},
     "output_type": "display_data"
    },
    {
     "data": {
      "image/png": "[encoded data removed]",
      "text/plain": [
       "plot without title"
      ]
     },
     "metadata": {},
     "output_type": "display_data"
    }
   ],
   "source": [
    "library(ggplot2)\n",
    "\n",
    "# usan el fill en el aes de ggplot:\n",
    "# http://www.sthda.com/english/wiki/ggplot2-barplots-quick-start-guide-r-software-and-data-visualization\n",
    "\n",
    "ggplot(TempViajes, aes(y=Viajes, x=Temp)) + \n",
    "    geom_bar(stat=\"identity\") + coord_flip()"
   ]
  },
  {
   "cell_type": "code",
   "execution_count": 36,
   "metadata": {},
   "outputs": [
    {
     "data": {
      "text/html": [
       "<table>\n",
       "<thead><tr><th scope=col>Temp</th><th scope=col>Humedad</th><th scope=col>Viajes</th></tr></thead>\n",
       "<tbody>\n",
       "\t<tr><td>Frio    </td><td>Seco    </td><td> 618    </td></tr>\n",
       "\t<tr><td>Frio    </td><td>Humedo  </td><td> 958    </td></tr>\n",
       "\t<tr><td>Frio    </td><td>Mojado  </td><td> 526    </td></tr>\n",
       "\t<tr><td>Caliente</td><td>Seco    </td><td>1025    </td></tr>\n",
       "\t<tr><td>Caliente</td><td>Humedo  </td><td> 908    </td></tr>\n",
       "\t<tr><td>Caliente</td><td>Mojado  </td><td> 907    </td></tr>\n",
       "</tbody>\n",
       "</table>\n"
      ],
      "text/latex": [
       "\\begin{tabular}{r|lll}\n",
       " Temp & Humedad & Viajes\\\\\n",
       "\\hline\n",
       "\t Frio     & Seco     &  618    \\\\\n",
       "\t Frio     & Humedo   &  958    \\\\\n",
       "\t Frio     & Mojado   &  526    \\\\\n",
       "\t Caliente & Seco     & 1025    \\\\\n",
       "\t Caliente & Humedo   &  908    \\\\\n",
       "\t Caliente & Mojado   &  907    \\\\\n",
       "\\end{tabular}\n"
      ],
      "text/markdown": [
       "\n",
       "Temp | Humedad | Viajes | \n",
       "|---|---|---|---|---|---|\n",
       "| Frio     | Seco     |  618     | \n",
       "| Frio     | Humedo   |  958     | \n",
       "| Frio     | Mojado   |  526     | \n",
       "| Caliente | Seco     | 1025     | \n",
       "| Caliente | Humedo   |  908     | \n",
       "| Caliente | Mojado   |  907     | \n",
       "\n",
       "\n"
      ],
      "text/plain": [
       "  Temp     Humedad Viajes\n",
       "1 Frio     Seco     618  \n",
       "2 Frio     Humedo   958  \n",
       "3 Frio     Mojado   526  \n",
       "4 Caliente Seco    1025  \n",
       "5 Caliente Humedo   908  \n",
       "6 Caliente Mojado   907  "
      ]
     },
     "metadata": {},
     "output_type": "display_data"
    },
    {
     "data": {
      "text/html": [
       "<ol class=list-inline>\n",
       "\t<li>'Seco'</li>\n",
       "\t<li>'Humedo'</li>\n",
       "\t<li>'Mojado'</li>\n",
       "</ol>\n"
      ],
      "text/latex": [
       "\\begin{enumerate*}\n",
       "\\item 'Seco'\n",
       "\\item 'Humedo'\n",
       "\\item 'Mojado'\n",
       "\\end{enumerate*}\n"
      ],
      "text/markdown": [
       "1. 'Seco'\n",
       "2. 'Humedo'\n",
       "3. 'Mojado'\n",
       "\n",
       "\n"
      ],
      "text/plain": [
       "[1] \"Seco\"   \"Humedo\" \"Mojado\""
      ]
     },
     "metadata": {},
     "output_type": "display_data"
    }
   ],
   "source": [
    "clima.viajes <- bicis.94107 %>% group_by(Max.Temp, Events) %>% \n",
    "        summarize(Viajes = round(mean(Viajes), 0)) %>%\n",
    "        rename(Temp = Max.Temp, Humedad = Events)\n",
    "\n",
    "head(clima.viajes)\n",
    "\n",
    "levels(clima.viajes$Humedad)"
   ]
  },
  {
   "cell_type": "code",
   "execution_count": 51,
   "metadata": {},
   "outputs": [
    {
     "data": {},
     "metadata": {},
     "output_type": "display_data"
    },
    {
     "data": {},
     "metadata": {},
     "output_type": "display_data"
    },
    {
     "data": {
      "image/png": "[encoded data removed]",
      "text/plain": [
       "plot without title"
      ]
     },
     "metadata": {},
     "output_type": "display_data"
    },
    {
     "data": {
      "image/png": "[encoded data removed]",
      "text/plain": [
       "plot without title"
      ]
     },
     "metadata": {},
     "output_type": "display_data"
    }
   ],
   "source": [
    "barP <- ggplot(clima.viajes, aes(x = Temp, y = Viajes, fill = Humedad)) \n",
    "\n",
    "barP + geom_bar(stat=\"identity\") + coord_flip()\n",
    "barP + geom_bar(stat=\"identity\", position=\"dodge\")"
   ]
  },
  {
   "cell_type": "markdown",
   "metadata": {
    "collapsed": true
   },
   "source": [
    "## Pricipio del área:\n",
    "\n",
    "En un gráfico, área debe ser proporcional al valor que representa. \n",
    "    \n",
    "    http://viz.wtf/post/145061464346/satisfaction-not-guaranteed\n",
    "    \n",
    "    http://viz.wtf/post/145813312290/big-hearted\n",
    "    \n",
    "    http://viz.wtf/post/151108184198/disproportionality\n",
    "    \n",
    "    http://viz.wtf/post/141965582857/ninety-ten-rainbow\n",
    "    "
   ]
  },
  {
   "cell_type": "markdown",
   "metadata": {},
   "source": [
    "# Otros bar charts\n",
    "\n"
   ]
  },
  {
   "cell_type": "code",
   "execution_count": 52,
   "metadata": {},
   "outputs": [
    {
     "data": {
      "text/html": [
       "<table>\n",
       "<thead><tr><th scope=col>Country</th><th scope=col>Name</th><th scope=col>Laureate Area</th><th scope=col>Year Won</th><th scope=col>Year Won as Date</th><th scope=col>Geographic Area</th><th scope=col>Population as per 2013 (or most recent Census in Wikipedia)</th><th scope=col>Laureates/10 million</th><th scope=col>Notes</th></tr></thead>\n",
       "<tbody>\n",
       "\t<tr><td>Argentina                 </td><td>César Milstein            </td><td>Physiology or Medicine    </td><td>1984                      </td><td>01/01/1984                </td><td>South America             </td><td>41446246                  </td><td>0.724                     </td><td>NA                        </td></tr>\n",
       "\t<tr><td>Argentina                 </td><td>Adolfo Pérez Esquivel     </td><td>Peace                     </td><td>1980                      </td><td>01/01/1980                </td><td>South America             </td><td>41446246                  </td><td>0.724                     </td><td>NA                        </td></tr>\n",
       "\t<tr><td>Argentina                 </td><td>Luis Federico Leloir      </td><td>Chemistry                 </td><td>1970                      </td><td>01/01/1970                </td><td>South America             </td><td>41446246                  </td><td>0.724                     </td><td>NA                        </td></tr>\n",
       "\t<tr><td>Argentina                 </td><td>Bernardo Houssay          </td><td>Physiology or Medicine    </td><td>1947                      </td><td>01/01/1947                </td><td>South America             </td><td>41446246                  </td><td>0.724                     </td><td>NA                        </td></tr>\n",
       "\t<tr><td>Argentina                 </td><td>Carlos Saavedra Lamas     </td><td>Peace                     </td><td>1936                      </td><td>01/01/1936                </td><td>South America             </td><td>41446246                  </td><td>0.724                     </td><td>NA                        </td></tr>\n",
       "\t<tr><td>Australia                 </td><td>Brian P. Schmidt          </td><td>Physics                   </td><td>2011                      </td><td>01/01/2011                </td><td>Oceania                   </td><td>23342553                  </td><td>4.712                     </td><td> born in the United States</td></tr>\n",
       "</tbody>\n",
       "</table>\n"
      ],
      "text/latex": [
       "\\begin{tabular}{r|lllllllll}\n",
       " Country & Name & Laureate Area & Year Won & Year Won as Date & Geographic Area & Population as per 2013 (or most recent Census in Wikipedia) & Laureates/10 million & Notes\\\\\n",
       "\\hline\n",
       "\t Argentina                  & César Milstein             & Physiology or Medicine     & 1984                       & 01/01/1984                 & South America              & 41446246                   & 0.724                      & NA                        \\\\\n",
       "\t Argentina                  & Adolfo Pérez Esquivel      & Peace                      & 1980                       & 01/01/1980                 & South America              & 41446246                   & 0.724                      & NA                        \\\\\n",
       "\t Argentina                  & Luis Federico Leloir       & Chemistry                  & 1970                       & 01/01/1970                 & South America              & 41446246                   & 0.724                      & NA                        \\\\\n",
       "\t Argentina                  & Bernardo Houssay           & Physiology or Medicine     & 1947                       & 01/01/1947                 & South America              & 41446246                   & 0.724                      & NA                        \\\\\n",
       "\t Argentina                  & Carlos Saavedra Lamas      & Peace                      & 1936                       & 01/01/1936                 & South America              & 41446246                   & 0.724                      & NA                        \\\\\n",
       "\t Australia                  & Brian P. Schmidt           & Physics                    & 2011                       & 01/01/2011                 & Oceania                    & 23342553                   & 4.712                      &  born in the United States\\\\\n",
       "\\end{tabular}\n"
      ],
      "text/markdown": [
       "\n",
       "Country | Name | Laureate Area | Year Won | Year Won as Date | Geographic Area | Population as per 2013 (or most recent Census in Wikipedia) | Laureates/10 million | Notes | \n",
       "|---|---|---|---|---|---|\n",
       "| Argentina                  | César Milstein             | Physiology or Medicine     | 1984                       | 01/01/1984                 | South America              | 41446246                   | 0.724                      | NA                         | \n",
       "| Argentina                  | Adolfo Pérez Esquivel      | Peace                      | 1980                       | 01/01/1980                 | South America              | 41446246                   | 0.724                      | NA                         | \n",
       "| Argentina                  | Luis Federico Leloir       | Chemistry                  | 1970                       | 01/01/1970                 | South America              | 41446246                   | 0.724                      | NA                         | \n",
       "| Argentina                  | Bernardo Houssay           | Physiology or Medicine     | 1947                       | 01/01/1947                 | South America              | 41446246                   | 0.724                      | NA                         | \n",
       "| Argentina                  | Carlos Saavedra Lamas      | Peace                      | 1936                       | 01/01/1936                 | South America              | 41446246                   | 0.724                      | NA                         | \n",
       "| Australia                  | Brian P. Schmidt           | Physics                    | 2011                       | 01/01/2011                 | Oceania                    | 23342553                   | 4.712                      |  born in the United States | \n",
       "\n",
       "\n"
      ],
      "text/plain": [
       "  Country   Name                  Laureate Area          Year Won\n",
       "1 Argentina César Milstein        Physiology or Medicine 1984    \n",
       "2 Argentina Adolfo Pérez Esquivel Peace                  1980    \n",
       "3 Argentina Luis Federico Leloir  Chemistry              1970    \n",
       "4 Argentina Bernardo Houssay      Physiology or Medicine 1947    \n",
       "5 Argentina Carlos Saavedra Lamas Peace                  1936    \n",
       "6 Australia Brian P. Schmidt      Physics                2011    \n",
       "  Year Won as Date Geographic Area\n",
       "1 01/01/1984       South America  \n",
       "2 01/01/1980       South America  \n",
       "3 01/01/1970       South America  \n",
       "4 01/01/1947       South America  \n",
       "5 01/01/1936       South America  \n",
       "6 01/01/2011       Oceania        \n",
       "  Population as per 2013 (or most recent Census in Wikipedia)\n",
       "1 41446246                                                   \n",
       "2 41446246                                                   \n",
       "3 41446246                                                   \n",
       "4 41446246                                                   \n",
       "5 41446246                                                   \n",
       "6 23342553                                                   \n",
       "  Laureates/10 million Notes                     \n",
       "1 0.724                NA                        \n",
       "2 0.724                NA                        \n",
       "3 0.724                NA                        \n",
       "4 0.724                NA                        \n",
       "5 0.724                NA                        \n",
       "6 4.712                 born in the United States"
      ]
     },
     "metadata": {},
     "output_type": "display_data"
    }
   ],
   "source": [
    "library(readxl)\n",
    "library(dplyr)\n",
    "library(ggplot2)\n",
    "\n",
    "NobelLaureates <- read_excel(\"C:/Users/Personal/Data-Science-Students/Tables/Tables_CS109/NobelLaureates.xlsx\")\n",
    "head(NobelLaureates)"
   ]
  },
  {
   "cell_type": "code",
   "execution_count": 53,
   "metadata": {},
   "outputs": [
    {
     "data": {
      "text/html": [
       "<table>\n",
       "<thead><tr><th scope=col>Country</th><th scope=col>Num_Premios</th></tr></thead>\n",
       "<tbody>\n",
       "\t<tr><td>Argentina </td><td> 5        </td></tr>\n",
       "\t<tr><td>Australia </td><td>13        </td></tr>\n",
       "\t<tr><td>Austria   </td><td>21        </td></tr>\n",
       "\t<tr><td>Azerbaijan</td><td> 1        </td></tr>\n",
       "\t<tr><td>Bangladesh</td><td> 1        </td></tr>\n",
       "\t<tr><td>Belarus   </td><td> 4        </td></tr>\n",
       "</tbody>\n",
       "</table>\n"
      ],
      "text/latex": [
       "\\begin{tabular}{r|ll}\n",
       " Country & Num\\_Premios\\\\\n",
       "\\hline\n",
       "\t Argentina  &  5        \\\\\n",
       "\t Australia  & 13        \\\\\n",
       "\t Austria    & 21        \\\\\n",
       "\t Azerbaijan &  1        \\\\\n",
       "\t Bangladesh &  1        \\\\\n",
       "\t Belarus    &  4        \\\\\n",
       "\\end{tabular}\n"
      ],
      "text/markdown": [
       "\n",
       "Country | Num_Premios | \n",
       "|---|---|---|---|---|---|\n",
       "| Argentina  |  5         | \n",
       "| Australia  | 13         | \n",
       "| Austria    | 21         | \n",
       "| Azerbaijan |  1         | \n",
       "| Bangladesh |  1         | \n",
       "| Belarus    |  4         | \n",
       "\n",
       "\n"
      ],
      "text/plain": [
       "  Country    Num_Premios\n",
       "1 Argentina   5         \n",
       "2 Australia  13         \n",
       "3 Austria    21         \n",
       "4 Azerbaijan  1         \n",
       "5 Bangladesh  1         \n",
       "6 Belarus     4         "
      ]
     },
     "metadata": {},
     "output_type": "display_data"
    }
   ],
   "source": [
    "NobelCountry <- NobelLaureates %>% select(Country) %>% group_by(Country) %>% \n",
    "                summarise(Num_Premios = n())\n",
    "head(NobelCountry)"
   ]
  },
  {
   "cell_type": "code",
   "execution_count": 55,
   "metadata": {},
   "outputs": [
    {
     "data": {},
     "metadata": {},
     "output_type": "display_data"
    },
    {
     "data": {
      "image/png": "[encoded data removed]",
      "text/plain": [
       "plot without title"
      ]
     },
     "metadata": {},
     "output_type": "display_data"
    }
   ],
   "source": [
    "ggplot(NobelCountry, aes(Country, Num_Premios)) + geom_bar(stat = \"identity\") + coord_flip()"
   ]
  },
  {
   "cell_type": "code",
   "execution_count": 61,
   "metadata": {},
   "outputs": [
    {
     "data": {},
     "metadata": {},
     "output_type": "display_data"
    },
    {
     "data": {
      "image/png": "[encoded data removed]",
      "text/plain": [
       "plot without title"
      ]
     },
     "metadata": {},
     "output_type": "display_data"
    }
   ],
   "source": [
    " ggplot(NobelCountry, aes(x = reorder(Country, +Num_Premios), y = Num_Premios)) + geom_bar(stat = \"identity\") + \n",
    "                coord_flip() + xlab(\"País\") "
   ]
  },
  {
   "cell_type": "code",
   "execution_count": 107,
   "metadata": {},
   "outputs": [
    {
     "data": {
      "text/html": [
       "<ol class=list-inline>\n",
       "\t<li>'Country'</li>\n",
       "\t<li>'Name'</li>\n",
       "\t<li>'Laureate Area'</li>\n",
       "\t<li>'Year Won'</li>\n",
       "\t<li>'Year Won as Date'</li>\n",
       "\t<li>'Geographic Area'</li>\n",
       "\t<li>'Population as per 2013 (or most recent Census in Wikipedia)'</li>\n",
       "\t<li>'Laureates/10 million'</li>\n",
       "\t<li>'Notes'</li>\n",
       "</ol>\n"
      ],
      "text/latex": [
       "\\begin{enumerate*}\n",
       "\\item 'Country'\n",
       "\\item 'Name'\n",
       "\\item 'Laureate Area'\n",
       "\\item 'Year Won'\n",
       "\\item 'Year Won as Date'\n",
       "\\item 'Geographic Area'\n",
       "\\item 'Population as per 2013 (or most recent Census in Wikipedia)'\n",
       "\\item 'Laureates/10 million'\n",
       "\\item 'Notes'\n",
       "\\end{enumerate*}\n"
      ],
      "text/markdown": [
       "1. 'Country'\n",
       "2. 'Name'\n",
       "3. 'Laureate Area'\n",
       "4. 'Year Won'\n",
       "5. 'Year Won as Date'\n",
       "6. 'Geographic Area'\n",
       "7. 'Population as per 2013 (or most recent Census in Wikipedia)'\n",
       "8. 'Laureates/10 million'\n",
       "9. 'Notes'\n",
       "\n",
       "\n"
      ],
      "text/plain": [
       "[1] \"Country\"                                                    \n",
       "[2] \"Name\"                                                       \n",
       "[3] \"Laureate Area\"                                              \n",
       "[4] \"Year Won\"                                                   \n",
       "[5] \"Year Won as Date\"                                           \n",
       "[6] \"Geographic Area\"                                            \n",
       "[7] \"Population as per 2013 (or most recent Census in Wikipedia)\"\n",
       "[8] \"Laureates/10 million\"                                       \n",
       "[9] \"Notes\"                                                      "
      ]
     },
     "metadata": {},
     "output_type": "display_data"
    },
    {
     "data": {
      "text/html": [
       "<table>\n",
       "<thead><tr><th scope=col>Country</th><th scope=col>Laureate Area</th><th scope=col>Num_Premios</th></tr></thead>\n",
       "<tbody>\n",
       "\t<tr><td>Argentina             </td><td>Chemistry             </td><td>1                     </td></tr>\n",
       "\t<tr><td>Argentina             </td><td>Physiology or Medicine</td><td>2                     </td></tr>\n",
       "\t<tr><td>Australia             </td><td>Chemistry             </td><td>1                     </td></tr>\n",
       "\t<tr><td>Australia             </td><td>Physics               </td><td>3                     </td></tr>\n",
       "\t<tr><td>Australia             </td><td>Physiology or Medicine</td><td>7                     </td></tr>\n",
       "\t<tr><td>Austria               </td><td>Chemistry             </td><td>6                     </td></tr>\n",
       "</tbody>\n",
       "</table>\n"
      ],
      "text/latex": [
       "\\begin{tabular}{r|lll}\n",
       " Country & Laureate Area & Num\\_Premios\\\\\n",
       "\\hline\n",
       "\t Argentina              & Chemistry              & 1                     \\\\\n",
       "\t Argentina              & Physiology or Medicine & 2                     \\\\\n",
       "\t Australia              & Chemistry              & 1                     \\\\\n",
       "\t Australia              & Physics                & 3                     \\\\\n",
       "\t Australia              & Physiology or Medicine & 7                     \\\\\n",
       "\t Austria                & Chemistry              & 6                     \\\\\n",
       "\\end{tabular}\n"
      ],
      "text/markdown": [
       "\n",
       "Country | Laureate Area | Num_Premios | \n",
       "|---|---|---|---|---|---|\n",
       "| Argentina              | Chemistry              | 1                      | \n",
       "| Argentina              | Physiology or Medicine | 2                      | \n",
       "| Australia              | Chemistry              | 1                      | \n",
       "| Australia              | Physics                | 3                      | \n",
       "| Australia              | Physiology or Medicine | 7                      | \n",
       "| Austria                | Chemistry              | 6                      | \n",
       "\n",
       "\n"
      ],
      "text/plain": [
       "  Country   Laureate Area          Num_Premios\n",
       "1 Argentina Chemistry              1          \n",
       "2 Argentina Physiology or Medicine 2          \n",
       "3 Australia Chemistry              1          \n",
       "4 Australia Physics                3          \n",
       "5 Australia Physiology or Medicine 7          \n",
       "6 Austria   Chemistry              6          "
      ]
     },
     "metadata": {},
     "output_type": "display_data"
    },
    {
     "data": {},
     "metadata": {},
     "output_type": "display_data"
    },
    {
     "data": {
      "image/png": "[encoded data removed]",
      "text/plain": [
       "plot without title"
      ]
     },
     "metadata": {},
     "output_type": "display_data"
    }
   ],
   "source": [
    "names(NobelLaureates)\n",
    "\n",
    "# Use `` for spaces.\n",
    "\n",
    "NobelCA <- NobelLaureates %>% select(Country, `Laureate Area`) %>% \n",
    "    filter(!`Laureate Area` %in% c('Economics', 'Peace', 'Literature')) %>% \n",
    "    group_by(Country, `Laureate Area`) %>% summarise(Num_Premios = n()) \n",
    "\n",
    "head(NobelCA)\n",
    "\n",
    "ggplot(NobelCA, aes(x = reorder(Country, +Num_Premios), y = Num_Premios, fill=`Laureate Area`)) +\n",
    "    geom_bar(stat = 'identity', position = 'dodge') + coord_flip()"
   ]
  },
  {
   "cell_type": "markdown",
   "metadata": {},
   "source": [
    "Manipular las tablas hasta que tengan una cantidada de información razonable, luego hacer el plot."
   ]
  },
  {
   "cell_type": "code",
   "execution_count": 80,
   "metadata": {},
   "outputs": [
    {
     "data": {
      "text/html": [
       "<table>\n",
       "<thead><tr><th scope=col>Continent</th><th scope=col>Num.Prizes</th></tr></thead>\n",
       "<tbody>\n",
       "\t<tr><td>Africa       </td><td> 13          </td></tr>\n",
       "\t<tr><td>Asia         </td><td> 49          </td></tr>\n",
       "\t<tr><td>Europe       </td><td>559          </td></tr>\n",
       "\t<tr><td>Middle East  </td><td> 20          </td></tr>\n",
       "\t<tr><td>North America</td><td>379          </td></tr>\n",
       "\t<tr><td>Oceania      </td><td> 16          </td></tr>\n",
       "</tbody>\n",
       "</table>\n"
      ],
      "text/latex": [
       "\\begin{tabular}{r|ll}\n",
       " Continent & Num.Prizes\\\\\n",
       "\\hline\n",
       "\t Africa        &  13          \\\\\n",
       "\t Asia          &  49          \\\\\n",
       "\t Europe        & 559          \\\\\n",
       "\t Middle East   &  20          \\\\\n",
       "\t North America & 379          \\\\\n",
       "\t Oceania       &  16          \\\\\n",
       "\\end{tabular}\n"
      ],
      "text/markdown": [
       "\n",
       "Continent | Num.Prizes | \n",
       "|---|---|---|---|---|---|\n",
       "| Africa        |  13           | \n",
       "| Asia          |  49           | \n",
       "| Europe        | 559           | \n",
       "| Middle East   |  20           | \n",
       "| North America | 379           | \n",
       "| Oceania       |  16           | \n",
       "\n",
       "\n"
      ],
      "text/plain": [
       "  Continent     Num.Prizes\n",
       "1 Africa         13       \n",
       "2 Asia           49       \n",
       "3 Europe        559       \n",
       "4 Middle East    20       \n",
       "5 North America 379       \n",
       "6 Oceania        16       "
      ]
     },
     "metadata": {},
     "output_type": "display_data"
    }
   ],
   "source": [
    "NobleContinent <- NobelLaureates %>% select(Continent = `Geographic Area`) %>% \n",
    "    group_by(Continent) %>% summarize(Num.Prizes = n())\n",
    "\n",
    "head(NobleContinent)"
   ]
  },
  {
   "cell_type": "code",
   "execution_count": 90,
   "metadata": {},
   "outputs": [
    {
     "data": {},
     "metadata": {},
     "output_type": "display_data"
    },
    {
     "data": {
      "image/png": "[encoded data removed]",
      "text/plain": [
       "plot without title"
      ]
     },
     "metadata": {},
     "output_type": "display_data"
    }
   ],
   "source": [
    "pContinent <- ggplot(NobleContinent, aes(x = reorder(Continent, +Num.Prizes), y = Num.Prizes))\n",
    "\n",
    "pContinent + geom_bar(stat = \"identity\") + xlab(\"Continentes\") + ylab(\"Premios\") + \n",
    "    ggtitle(\"Premios por Continente\") + coord_flip() "
   ]
  }
 ],
 "metadata": {
  "anaconda-cloud": {},
  "kernelspec": {
   "display_name": "R 3.3",
   "language": "R",
   "name": "ir33"
  },
  "language_info": {
   "codemirror_mode": "r",
   "file_extension": ".r",
   "mimetype": "text/x-r-source",
   "name": "R",
   "pygments_lexer": "r",
   "version": "3.3.3"
  }
 },
 "nbformat": 4,
 "nbformat_minor": 1
}
