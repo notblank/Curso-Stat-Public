{
 "cells": [
  {
   "cell_type": "markdown",
   "metadata": {},
   "source": [
    "# Histogramas\n",
    "\n",
    "En una tabla, cada columna tiene el mismo tipo de valor. \n",
    "También tienen que ser comparables. \n",
    "\n",
    "## Tipos de datos: \n",
    "\n",
    "    * Categóricos: cada valor proviene de un inventorio fijo \n",
    "            - Pueden tener un orden o no.\n",
    "            - Dos valores son iguales o diferentes.\n",
    "            - Sirven para agrupar, unir, o pivot. \n",
    "    \n",
    "    * Numéricos: \n",
    "            - Tienen la misma escala - grados C o F.\n",
    "            - Tienen orden. \n",
    "            - Usar bin y hist. \n",
    "            \n",
    "            \n",
    "Binning(Agrupar): \n",
    "    Contar el número de valores numéricos que están en un rango (o bin). \n",
    "    \n",
    "    Bin está definido por su cota inferior - que está incluida en el bin.\n",
    "    La cota superior está incluida en el siguiente bin. \n",
    "     \n",
    "    e.g. Puedo crear las siguientes categorías:\n",
    "    \n",
    "                160 - 165 - 170 - 175 - 180\n",
    "    \n",
    "    Es una forma de convertir datos numéricos en categóricos.\n",
    "\n",
    "Histograma: \n",
    "    es un gráfico que muestra la proporción de los datos numéricos contenidos en los bins.\n",
    "    "
   ]
  },
  {
   "cell_type": "code",
   "execution_count": 1,
   "metadata": {},
   "outputs": [
    {
     "data": {
      "text/html": [
       "<table>\n",
       "<thead><tr><th scope=col>X</th><th scope=col>SEX</th><th scope=col>AGE</th><th scope=col>CENSUS2010POP</th><th scope=col>ESTIMATESBASE2010</th><th scope=col>POPESTIMATE2010</th><th scope=col>POPESTIMATE2011</th><th scope=col>POPESTIMATE2012</th><th scope=col>POPESTIMATE2013</th><th scope=col>POPESTIMATE2014</th></tr></thead>\n",
       "<tbody>\n",
       "\t<tr><td>1      </td><td>0      </td><td>0      </td><td>3944153</td><td>3944160</td><td>3951330</td><td>3963071</td><td>3926665</td><td>3945610</td><td>3948350</td></tr>\n",
       "\t<tr><td>2      </td><td>0      </td><td>1      </td><td>3978070</td><td>3978090</td><td>3957888</td><td>3966510</td><td>3978006</td><td>3943077</td><td>3962123</td></tr>\n",
       "\t<tr><td>3      </td><td>0      </td><td>2      </td><td>4096929</td><td>4096939</td><td>4090862</td><td>3971573</td><td>3979952</td><td>3992690</td><td>3957772</td></tr>\n",
       "\t<tr><td>4      </td><td>0      </td><td>3      </td><td>4119040</td><td>4119051</td><td>4111920</td><td>4102501</td><td>3983049</td><td>3992425</td><td>4005190</td></tr>\n",
       "\t<tr><td>5      </td><td>0      </td><td>4      </td><td>4063170</td><td>4063186</td><td>4077552</td><td>4122303</td><td>4112638</td><td>3994047</td><td>4003448</td></tr>\n",
       "\t<tr><td>6      </td><td>0      </td><td>5      </td><td>4056858</td><td>4056872</td><td>4064653</td><td>4087713</td><td>4132210</td><td>4123408</td><td>4004858</td></tr>\n",
       "</tbody>\n",
       "</table>\n"
      ],
      "text/latex": [
       "\\begin{tabular}{r|llllllllll}\n",
       " X & SEX & AGE & CENSUS2010POP & ESTIMATESBASE2010 & POPESTIMATE2010 & POPESTIMATE2011 & POPESTIMATE2012 & POPESTIMATE2013 & POPESTIMATE2014\\\\\n",
       "\\hline\n",
       "\t 1       & 0       & 0       & 3944153 & 3944160 & 3951330 & 3963071 & 3926665 & 3945610 & 3948350\\\\\n",
       "\t 2       & 0       & 1       & 3978070 & 3978090 & 3957888 & 3966510 & 3978006 & 3943077 & 3962123\\\\\n",
       "\t 3       & 0       & 2       & 4096929 & 4096939 & 4090862 & 3971573 & 3979952 & 3992690 & 3957772\\\\\n",
       "\t 4       & 0       & 3       & 4119040 & 4119051 & 4111920 & 4102501 & 3983049 & 3992425 & 4005190\\\\\n",
       "\t 5       & 0       & 4       & 4063170 & 4063186 & 4077552 & 4122303 & 4112638 & 3994047 & 4003448\\\\\n",
       "\t 6       & 0       & 5       & 4056858 & 4056872 & 4064653 & 4087713 & 4132210 & 4123408 & 4004858\\\\\n",
       "\\end{tabular}\n"
      ],
      "text/markdown": [
       "\n",
       "X | SEX | AGE | CENSUS2010POP | ESTIMATESBASE2010 | POPESTIMATE2010 | POPESTIMATE2011 | POPESTIMATE2012 | POPESTIMATE2013 | POPESTIMATE2014 | \n",
       "|---|---|---|---|---|---|\n",
       "| 1       | 0       | 0       | 3944153 | 3944160 | 3951330 | 3963071 | 3926665 | 3945610 | 3948350 | \n",
       "| 2       | 0       | 1       | 3978070 | 3978090 | 3957888 | 3966510 | 3978006 | 3943077 | 3962123 | \n",
       "| 3       | 0       | 2       | 4096929 | 4096939 | 4090862 | 3971573 | 3979952 | 3992690 | 3957772 | \n",
       "| 4       | 0       | 3       | 4119040 | 4119051 | 4111920 | 4102501 | 3983049 | 3992425 | 4005190 | \n",
       "| 5       | 0       | 4       | 4063170 | 4063186 | 4077552 | 4122303 | 4112638 | 3994047 | 4003448 | \n",
       "| 6       | 0       | 5       | 4056858 | 4056872 | 4064653 | 4087713 | 4132210 | 4123408 | 4004858 | \n",
       "\n",
       "\n"
      ],
      "text/plain": [
       "  X SEX AGE CENSUS2010POP ESTIMATESBASE2010 POPESTIMATE2010 POPESTIMATE2011\n",
       "1 1 0   0   3944153       3944160           3951330         3963071        \n",
       "2 2 0   1   3978070       3978090           3957888         3966510        \n",
       "3 3 0   2   4096929       4096939           4090862         3971573        \n",
       "4 4 0   3   4119040       4119051           4111920         4102501        \n",
       "5 5 0   4   4063170       4063186           4077552         4122303        \n",
       "6 6 0   5   4056858       4056872           4064653         4087713        \n",
       "  POPESTIMATE2012 POPESTIMATE2013 POPESTIMATE2014\n",
       "1 3926665         3945610         3948350        \n",
       "2 3978006         3943077         3962123        \n",
       "3 3979952         3992690         3957772        \n",
       "4 3983049         3992425         4005190        \n",
       "5 4112638         3994047         4003448        \n",
       "6 4132210         4123408         4004858        "
      ]
     },
     "metadata": {},
     "output_type": "display_data"
    }
   ],
   "source": [
    "pop_us = read.table(file = \"C:/Users/Personal/Data-Science-Students/Tables/pop_us.csv\", \n",
    "                    sep = ',', header = T)\n",
    "\n",
    "head(pop_us)"
   ]
  },
  {
   "cell_type": "code",
   "execution_count": 2,
   "metadata": {},
   "outputs": [
    {
     "name": "stderr",
     "output_type": "stream",
     "text": [
      "\n",
      "Attaching package: 'dplyr'\n",
      "\n",
      "The following objects are masked from 'package:stats':\n",
      "\n",
      "    filter, lag\n",
      "\n",
      "The following objects are masked from 'package:base':\n",
      "\n",
      "    intersect, setdiff, setequal, union\n",
      "\n"
     ]
    },
    {
     "data": {
      "text/html": [
       "<table>\n",
       "<thead><tr><th scope=col>SEX</th><th scope=col>AGE</th><th scope=col>POPESTIMATE2010</th><th scope=col>POPESTIMATE2014</th></tr></thead>\n",
       "<tbody>\n",
       "\t<tr><td>0      </td><td>0      </td><td>3951330</td><td>3948350</td></tr>\n",
       "\t<tr><td>0      </td><td>1      </td><td>3957888</td><td>3962123</td></tr>\n",
       "\t<tr><td>0      </td><td>2      </td><td>4090862</td><td>3957772</td></tr>\n",
       "\t<tr><td>0      </td><td>3      </td><td>4111920</td><td>4005190</td></tr>\n",
       "\t<tr><td>0      </td><td>4      </td><td>4077552</td><td>4003448</td></tr>\n",
       "\t<tr><td>0      </td><td>5      </td><td>4064653</td><td>4004858</td></tr>\n",
       "</tbody>\n",
       "</table>\n"
      ],
      "text/latex": [
       "\\begin{tabular}{r|llll}\n",
       " SEX & AGE & POPESTIMATE2010 & POPESTIMATE2014\\\\\n",
       "\\hline\n",
       "\t 0       & 0       & 3951330 & 3948350\\\\\n",
       "\t 0       & 1       & 3957888 & 3962123\\\\\n",
       "\t 0       & 2       & 4090862 & 3957772\\\\\n",
       "\t 0       & 3       & 4111920 & 4005190\\\\\n",
       "\t 0       & 4       & 4077552 & 4003448\\\\\n",
       "\t 0       & 5       & 4064653 & 4004858\\\\\n",
       "\\end{tabular}\n"
      ],
      "text/markdown": [
       "\n",
       "SEX | AGE | POPESTIMATE2010 | POPESTIMATE2014 | \n",
       "|---|---|---|---|---|---|\n",
       "| 0       | 0       | 3951330 | 3948350 | \n",
       "| 0       | 1       | 3957888 | 3962123 | \n",
       "| 0       | 2       | 4090862 | 3957772 | \n",
       "| 0       | 3       | 4111920 | 4005190 | \n",
       "| 0       | 4       | 4077552 | 4003448 | \n",
       "| 0       | 5       | 4064653 | 4004858 | \n",
       "\n",
       "\n"
      ],
      "text/plain": [
       "  SEX AGE POPESTIMATE2010 POPESTIMATE2014\n",
       "1 0   0   3951330         3948350        \n",
       "2 0   1   3957888         3962123        \n",
       "3 0   2   4090862         3957772        \n",
       "4 0   3   4111920         4005190        \n",
       "5 0   4   4077552         4003448        \n",
       "6 0   5   4064653         4004858        "
      ]
     },
     "metadata": {},
     "output_type": "display_data"
    }
   ],
   "source": [
    "library(dplyr)\n",
    "\n",
    "pop_Simple <- pop_us %>% select(c(SEX, AGE, POPESTIMATE2010, POPESTIMATE2014))\n",
    "\n",
    "head(pop_Simple)"
   ]
  },
  {
   "cell_type": "code",
   "execution_count": 5,
   "metadata": {
    "scrolled": false
   },
   "outputs": [
    {
     "data": {
      "text/html": [
       "<ol class=list-inline>\n",
       "\t<li>58788</li>\n",
       "\t<li>24</li>\n",
       "</ol>\n"
      ],
      "text/latex": [
       "\\begin{enumerate*}\n",
       "\\item 58788\n",
       "\\item 24\n",
       "\\end{enumerate*}\n"
      ],
      "text/markdown": [
       "1. 58788\n",
       "2. 24\n",
       "\n",
       "\n"
      ],
      "text/plain": [
       "[1] 58788    24"
      ]
     },
     "metadata": {},
     "output_type": "display_data"
    },
    {
     "data": {
      "text/html": [
       "<table>\n",
       "<thead><tr><th scope=col>title</th><th scope=col>year</th><th scope=col>length</th><th scope=col>budget</th><th scope=col>rating</th><th scope=col>votes</th><th scope=col>r1</th><th scope=col>r2</th><th scope=col>r3</th><th scope=col>r4</th><th scope=col>...</th><th scope=col>r9</th><th scope=col>r10</th><th scope=col>mpaa</th><th scope=col>Action</th><th scope=col>Animation</th><th scope=col>Comedy</th><th scope=col>Drama</th><th scope=col>Documentary</th><th scope=col>Romance</th><th scope=col>Short</th></tr></thead>\n",
       "<tbody>\n",
       "\t<tr><td>$                       </td><td>1971                    </td><td>121                     </td><td>NA                      </td><td>6.4                     </td><td>348                     </td><td> 4.5                    </td><td> 4.5                    </td><td>4.5                     </td><td> 4.5                    </td><td>...                     </td><td> 4.5                    </td><td> 4.5                    </td><td>                        </td><td>0                       </td><td>0                       </td><td>1                       </td><td>1                       </td><td>0                       </td><td>0                       </td><td>0                       </td></tr>\n",
       "\t<tr><td>$1000 a Touchdown       </td><td>1939                    </td><td> 71                     </td><td>NA                      </td><td>6.0                     </td><td> 20                     </td><td> 0.0                    </td><td>14.5                    </td><td>4.5                     </td><td>24.5                    </td><td>...                     </td><td> 4.5                    </td><td>14.5                    </td><td>                        </td><td>0                       </td><td>0                       </td><td>1                       </td><td>0                       </td><td>0                       </td><td>0                       </td><td>0                       </td></tr>\n",
       "\t<tr><td>$21 a Day Once a Month  </td><td>1941                    </td><td>  7                     </td><td>NA                      </td><td>8.2                     </td><td>  5                     </td><td> 0.0                    </td><td> 0.0                    </td><td>0.0                     </td><td> 0.0                    </td><td>...                     </td><td>24.5                    </td><td>24.5                    </td><td>                        </td><td>0                       </td><td>1                       </td><td>0                       </td><td>0                       </td><td>0                       </td><td>0                       </td><td>1                       </td></tr>\n",
       "\t<tr><td>$40,000                 </td><td>1996                    </td><td> 70                     </td><td>NA                      </td><td>8.2                     </td><td>  6                     </td><td>14.5                    </td><td> 0.0                    </td><td>0.0                     </td><td> 0.0                    </td><td>...                     </td><td>34.5                    </td><td>45.5                    </td><td>                        </td><td>0                       </td><td>0                       </td><td>1                       </td><td>0                       </td><td>0                       </td><td>0                       </td><td>0                       </td></tr>\n",
       "\t<tr><td>$50,000 Climax Show, The</td><td>1975                    </td><td> 71                     </td><td>NA                      </td><td>3.4                     </td><td> 17                     </td><td>24.5                    </td><td> 4.5                    </td><td>0.0                     </td><td>14.5                    </td><td>...                     </td><td> 0.0                    </td><td>24.5                    </td><td>                        </td><td>0                       </td><td>0                       </td><td>0                       </td><td>0                       </td><td>0                       </td><td>0                       </td><td>0                       </td></tr>\n",
       "\t<tr><td>$pent                   </td><td>2000                    </td><td> 91                     </td><td>NA                      </td><td>4.3                     </td><td> 45                     </td><td> 4.5                    </td><td> 4.5                    </td><td>4.5                     </td><td>14.5                    </td><td>...                     </td><td>14.5                    </td><td>14.5                    </td><td>                        </td><td>0                       </td><td>0                       </td><td>0                       </td><td>1                       </td><td>0                       </td><td>0                       </td><td>0                       </td></tr>\n",
       "</tbody>\n",
       "</table>\n"
      ],
      "text/latex": [
       "\\begin{tabular}{r|llllllllllllllllllllllll}\n",
       " title & year & length & budget & rating & votes & r1 & r2 & r3 & r4 & ... & r9 & r10 & mpaa & Action & Animation & Comedy & Drama & Documentary & Romance & Short\\\\\n",
       "\\hline\n",
       "\t \\$                        & 1971                       & 121                        & NA                         & 6.4                        & 348                        &  4.5                       &  4.5                       & 4.5                        &  4.5                       & ...                        &  4.5                       &  4.5                       &                            & 0                          & 0                          & 1                          & 1                          & 0                          & 0                          & 0                         \\\\\n",
       "\t \\$1000 a Touchdown        & 1939                       &  71                        & NA                         & 6.0                        &  20                        &  0.0                       & 14.5                       & 4.5                        & 24.5                       & ...                        &  4.5                       & 14.5                       &                            & 0                          & 0                          & 1                          & 0                          & 0                          & 0                          & 0                         \\\\\n",
       "\t \\$21 a Day Once a Month   & 1941                       &   7                        & NA                         & 8.2                        &   5                        &  0.0                       &  0.0                       & 0.0                        &  0.0                       & ...                        & 24.5                       & 24.5                       &                            & 0                          & 1                          & 0                          & 0                          & 0                          & 0                          & 1                         \\\\\n",
       "\t \\$40,000                  & 1996                       &  70                        & NA                         & 8.2                        &   6                        & 14.5                       &  0.0                       & 0.0                        &  0.0                       & ...                        & 34.5                       & 45.5                       &                            & 0                          & 0                          & 1                          & 0                          & 0                          & 0                          & 0                         \\\\\n",
       "\t \\$50,000 Climax Show, The & 1975                       &  71                        & NA                         & 3.4                        &  17                        & 24.5                       &  4.5                       & 0.0                        & 14.5                       & ...                        &  0.0                       & 24.5                       &                            & 0                          & 0                          & 0                          & 0                          & 0                          & 0                          & 0                         \\\\\n",
       "\t \\$pent                    & 2000                       &  91                        & NA                         & 4.3                        &  45                        &  4.5                       &  4.5                       & 4.5                        & 14.5                       & ...                        & 14.5                       & 14.5                       &                            & 0                          & 0                          & 0                          & 1                          & 0                          & 0                          & 0                         \\\\\n",
       "\\end{tabular}\n"
      ],
      "text/markdown": [
       "\n",
       "title | year | length | budget | rating | votes | r1 | r2 | r3 | r4 | ... | r9 | r10 | mpaa | Action | Animation | Comedy | Drama | Documentary | Romance | Short | \n",
       "|---|---|---|---|---|---|\n",
       "| $                        | 1971                     | 121                      | NA                       | 6.4                      | 348                      |  4.5                     |  4.5                     | 4.5                      |  4.5                     | ...                      |  4.5                     |  4.5                     |                          | 0                        | 0                        | 1                        | 1                        | 0                        | 0                        | 0                        | \n",
       "| $1000 a Touchdown        | 1939                     |  71                      | NA                       | 6.0                      |  20                      |  0.0                     | 14.5                     | 4.5                      | 24.5                     | ...                      |  4.5                     | 14.5                     |                          | 0                        | 0                        | 1                        | 0                        | 0                        | 0                        | 0                        | \n",
       "| $21 a Day Once a Month   | 1941                     |   7                      | NA                       | 8.2                      |   5                      |  0.0                     |  0.0                     | 0.0                      |  0.0                     | ...                      | 24.5                     | 24.5                     |                          | 0                        | 1                        | 0                        | 0                        | 0                        | 0                        | 1                        | \n",
       "| $40,000                  | 1996                     |  70                      | NA                       | 8.2                      |   6                      | 14.5                     |  0.0                     | 0.0                      |  0.0                     | ...                      | 34.5                     | 45.5                     |                          | 0                        | 0                        | 1                        | 0                        | 0                        | 0                        | 0                        | \n",
       "| $50,000 Climax Show, The | 1975                     |  71                      | NA                       | 3.4                      |  17                      | 24.5                     |  4.5                     | 0.0                      | 14.5                     | ...                      |  0.0                     | 24.5                     |                          | 0                        | 0                        | 0                        | 0                        | 0                        | 0                        | 0                        | \n",
       "| $pent                    | 2000                     |  91                      | NA                       | 4.3                      |  45                      |  4.5                     |  4.5                     | 4.5                      | 14.5                     | ...                      | 14.5                     | 14.5                     |                          | 0                        | 0                        | 0                        | 1                        | 0                        | 0                        | 0                        | \n",
       "\n",
       "\n"
      ],
      "text/plain": [
       "  title                    year length budget rating votes r1   r2   r3  r4  \n",
       "1 $                        1971 121    NA     6.4    348    4.5  4.5 4.5  4.5\n",
       "2 $1000 a Touchdown        1939  71    NA     6.0     20    0.0 14.5 4.5 24.5\n",
       "3 $21 a Day Once a Month   1941   7    NA     8.2      5    0.0  0.0 0.0  0.0\n",
       "4 $40,000                  1996  70    NA     8.2      6   14.5  0.0 0.0  0.0\n",
       "5 $50,000 Climax Show, The 1975  71    NA     3.4     17   24.5  4.5 0.0 14.5\n",
       "6 $pent                    2000  91    NA     4.3     45    4.5  4.5 4.5 14.5\n",
       "  ... r9   r10  mpaa Action Animation Comedy Drama Documentary Romance Short\n",
       "1 ...  4.5  4.5      0      0         1      1     0           0       0    \n",
       "2 ...  4.5 14.5      0      0         1      0     0           0       0    \n",
       "3 ... 24.5 24.5      0      1         0      0     0           0       1    \n",
       "4 ... 34.5 45.5      0      0         1      0     0           0       0    \n",
       "5 ...  0.0 24.5      0      0         0      0     0           0       0    \n",
       "6 ... 14.5 14.5      0      0         0      1     0           0       0    "
      ]
     },
     "metadata": {},
     "output_type": "display_data"
    },
    {
     "data": {},
     "metadata": {},
     "output_type": "display_data"
    },
    {
     "data": {
      "image/png": "[encoded data removed]",
      "text/plain": [
       "plot without title"
      ]
     },
     "metadata": {},
     "output_type": "display_data"
    }
   ],
   "source": [
    "library(ggplot2)\n",
    "library(dplyr)\n",
    "library(ggplot2movies)\n",
    "\n",
    "dim(movies)\n",
    "head(movies)\n",
    "\n",
    "# r1-r10 son percentil de personas que le dieron la nota # a la película.\n",
    "\n",
    "movies_hist <- ggplot(movies, aes(x=rating))\n",
    "\n",
    "movies_hist + geom_histogram(binwidth = 0.5)"
   ]
  },
  {
   "cell_type": "code",
   "execution_count": 6,
   "metadata": {},
   "outputs": [
    {
     "data": {},
     "metadata": {},
     "output_type": "display_data"
    },
    {
     "data": {
      "image/png": "[encoded data removed]",
      "text/plain": [
       "plot without title"
      ]
     },
     "metadata": {},
     "output_type": "display_data"
    }
   ],
   "source": [
    "movies_simple <- movies %>% select(title, rating, budget) %>% mutate(rating = round(rating, 0)) %>%\n",
    "        group_by(rating) %>% summarise(count=n())\n",
    "\n",
    "#movies_simple\n",
    "\n",
    "movies_hist + geom_histogram(binwidth = 1, aes(x=rating))"
   ]
  },
  {
   "cell_type": "code",
   "execution_count": 10,
   "metadata": {},
   "outputs": [
    {
     "data": {},
     "metadata": {},
     "output_type": "display_data"
    },
    {
     "data": {
      "image/png": "[encoded data removed]",
      "text/plain": [
       "plot without title"
      ]
     },
     "metadata": {},
     "output_type": "display_data"
    }
   ],
   "source": [
    "ggplot(movies, aes(x=rating, y=..count../sum(..count..))) + \n",
    "    geom_histogram(binwidth=0.5) + ylab(\"% movies\")"
   ]
  },
  {
   "cell_type": "code",
   "execution_count": 7,
   "metadata": {},
   "outputs": [
    {
     "data": {},
     "metadata": {},
     "output_type": "display_data"
    },
    {
     "data": {
      "image/png": "[encoded data removed]",
      "text/plain": [
       "plot without title"
      ]
     },
     "metadata": {},
     "output_type": "display_data"
    }
   ],
   "source": [
    "movies_hist + geom_histogram(binwidth = 1, aes(x=rating, y=..count../sum(..count..)))"
   ]
  },
  {
   "cell_type": "code",
   "execution_count": null,
   "metadata": {
    "collapsed": true
   },
   "outputs": [],
   "source": [
    "library(dplyr)\n",
    "\n",
    "movies_hist + geom_histogram(binwidth=0.5, aes(x=budget, y=..count../sum(..count..))) + \n",
    "scale_x_continuous(breaks=seq(0, 200, 10)) + ylab(\"proporción de películas\")"
   ]
  },
  {
   "cell_type": "markdown",
   "metadata": {},
   "source": [
    "## Dibujar un histograma\n",
    "\n",
    "Lo interesante es tener una buena visualización: tener la buena forma. \n",
    "\n",
    "Tienen dos propiedades:\n",
    "    \n",
    "        * bins son contiguos.\n",
    "        * área es proporcional al número de elementos contenidos en el bin.\n",
    "        \n",
    "altura = (# de elementos en el bin)/(largo del bin)\n",
    "\n"
   ]
  },
  {
   "cell_type": "code",
   "execution_count": 14,
   "metadata": {
    "scrolled": true
   },
   "outputs": [
    {
     "data": {
      "text/html": [
       "<table>\n",
       "<thead><tr><th scope=col>Trip.ID</th><th scope=col>Duration</th><th scope=col>Start.Date</th><th scope=col>Start.Station</th><th scope=col>Start.Terminal</th><th scope=col>End.Date</th><th scope=col>End.Station</th><th scope=col>End.Terminal</th><th scope=col>Bike..</th><th scope=col>Subscriber.Type</th><th scope=col>Zip.Code</th></tr></thead>\n",
       "<tbody>\n",
       "\t<tr><td>913460                                       </td><td> 765                                         </td><td>8/31/2015 23:26                              </td><td>Harry Bridges Plaza (Ferry Building)         </td><td>50                                           </td><td>8/31/2015 23:39                              </td><td>San Francisco Caltrain (Townsend at 4th)     </td><td>70                                           </td><td>288                                          </td><td>Subscriber                                   </td><td>2139                                         </td></tr>\n",
       "\t<tr><td>913459                                       </td><td>1036                                         </td><td>8/31/2015 23:11                              </td><td>San Antonio Shopping Center                  </td><td>31                                           </td><td>8/31/2015 23:28                              </td><td>Mountain View City Hall                      </td><td>27                                           </td><td> 35                                          </td><td>Subscriber                                   </td><td>95032                                        </td></tr>\n",
       "\t<tr><td>913455                                       </td><td> 307                                         </td><td>8/31/2015 23:13                              </td><td>Post at Kearny                               </td><td>47                                           </td><td>8/31/2015 23:18                              </td><td>2nd at South Park                            </td><td>64                                           </td><td>468                                          </td><td>Subscriber                                   </td><td>94107                                        </td></tr>\n",
       "\t<tr><td>913454                                       </td><td> 409                                         </td><td>8/31/2015 23:10                              </td><td>San Jose City Hall                           </td><td>10                                           </td><td>8/31/2015 23:17                              </td><td>San Salvador at 1st                          </td><td> 8                                           </td><td> 68                                          </td><td>Subscriber                                   </td><td>95113                                        </td></tr>\n",
       "\t<tr><td>913453                                       </td><td> 789                                         </td><td>8/31/2015 23:09                              </td><td>Embarcadero at Folsom                        </td><td>51                                           </td><td>8/31/2015 23:22                              </td><td>Embarcadero at Sansome                       </td><td>60                                           </td><td>487                                          </td><td>Customer                                     </td><td>9069                                         </td></tr>\n",
       "\t<tr><td>913452                                       </td><td> 293                                         </td><td>8/31/2015 23:07                              </td><td>Yerba Buena Center of the Arts (3rd @ Howard)</td><td>68                                           </td><td>8/31/2015 23:12                              </td><td>San Francisco Caltrain (Townsend at 4th)     </td><td>70                                           </td><td>538                                          </td><td>Subscriber                                   </td><td>94118                                        </td></tr>\n",
       "</tbody>\n",
       "</table>\n"
      ],
      "text/latex": [
       "\\begin{tabular}{r|lllllllllll}\n",
       " Trip.ID & Duration & Start.Date & Start.Station & Start.Terminal & End.Date & End.Station & End.Terminal & Bike.. & Subscriber.Type & Zip.Code\\\\\n",
       "\\hline\n",
       "\t 913460                                        &  765                                          & 8/31/2015 23:26                               & Harry Bridges Plaza (Ferry Building)          & 50                                            & 8/31/2015 23:39                               & San Francisco Caltrain (Townsend at 4th)      & 70                                            & 288                                           & Subscriber                                    & 2139                                         \\\\\n",
       "\t 913459                                        & 1036                                          & 8/31/2015 23:11                               & San Antonio Shopping Center                   & 31                                            & 8/31/2015 23:28                               & Mountain View City Hall                       & 27                                            &  35                                           & Subscriber                                    & 95032                                        \\\\\n",
       "\t 913455                                        &  307                                          & 8/31/2015 23:13                               & Post at Kearny                                & 47                                            & 8/31/2015 23:18                               & 2nd at South Park                             & 64                                            & 468                                           & Subscriber                                    & 94107                                        \\\\\n",
       "\t 913454                                        &  409                                          & 8/31/2015 23:10                               & San Jose City Hall                            & 10                                            & 8/31/2015 23:17                               & San Salvador at 1st                           &  8                                            &  68                                           & Subscriber                                    & 95113                                        \\\\\n",
       "\t 913453                                        &  789                                          & 8/31/2015 23:09                               & Embarcadero at Folsom                         & 51                                            & 8/31/2015 23:22                               & Embarcadero at Sansome                        & 60                                            & 487                                           & Customer                                      & 9069                                         \\\\\n",
       "\t 913452                                        &  293                                          & 8/31/2015 23:07                               & Yerba Buena Center of the Arts (3rd @ Howard) & 68                                            & 8/31/2015 23:12                               & San Francisco Caltrain (Townsend at 4th)      & 70                                            & 538                                           & Subscriber                                    & 94118                                        \\\\\n",
       "\\end{tabular}\n"
      ],
      "text/markdown": [
       "\n",
       "Trip.ID | Duration | Start.Date | Start.Station | Start.Terminal | End.Date | End.Station | End.Terminal | Bike.. | Subscriber.Type | Zip.Code | \n",
       "|---|---|---|---|---|---|\n",
       "| 913460                                        |  765                                          | 8/31/2015 23:26                               | Harry Bridges Plaza (Ferry Building)          | 50                                            | 8/31/2015 23:39                               | San Francisco Caltrain (Townsend at 4th)      | 70                                            | 288                                           | Subscriber                                    | 2139                                          | \n",
       "| 913459                                        | 1036                                          | 8/31/2015 23:11                               | San Antonio Shopping Center                   | 31                                            | 8/31/2015 23:28                               | Mountain View City Hall                       | 27                                            |  35                                           | Subscriber                                    | 95032                                         | \n",
       "| 913455                                        |  307                                          | 8/31/2015 23:13                               | Post at Kearny                                | 47                                            | 8/31/2015 23:18                               | 2nd at South Park                             | 64                                            | 468                                           | Subscriber                                    | 94107                                         | \n",
       "| 913454                                        |  409                                          | 8/31/2015 23:10                               | San Jose City Hall                            | 10                                            | 8/31/2015 23:17                               | San Salvador at 1st                           |  8                                            |  68                                           | Subscriber                                    | 95113                                         | \n",
       "| 913453                                        |  789                                          | 8/31/2015 23:09                               | Embarcadero at Folsom                         | 51                                            | 8/31/2015 23:22                               | Embarcadero at Sansome                        | 60                                            | 487                                           | Customer                                      | 9069                                          | \n",
       "| 913452                                        |  293                                          | 8/31/2015 23:07                               | Yerba Buena Center of the Arts (3rd @ Howard) | 68                                            | 8/31/2015 23:12                               | San Francisco Caltrain (Townsend at 4th)      | 70                                            | 538                                           | Subscriber                                    | 94118                                         | \n",
       "\n",
       "\n"
      ],
      "text/plain": [
       "  Trip.ID Duration Start.Date     \n",
       "1 913460   765     8/31/2015 23:26\n",
       "2 913459  1036     8/31/2015 23:11\n",
       "3 913455   307     8/31/2015 23:13\n",
       "4 913454   409     8/31/2015 23:10\n",
       "5 913453   789     8/31/2015 23:09\n",
       "6 913452   293     8/31/2015 23:07\n",
       "  Start.Station                                 Start.Terminal End.Date       \n",
       "1 Harry Bridges Plaza (Ferry Building)          50             8/31/2015 23:39\n",
       "2 San Antonio Shopping Center                   31             8/31/2015 23:28\n",
       "3 Post at Kearny                                47             8/31/2015 23:18\n",
       "4 San Jose City Hall                            10             8/31/2015 23:17\n",
       "5 Embarcadero at Folsom                         51             8/31/2015 23:22\n",
       "6 Yerba Buena Center of the Arts (3rd @ Howard) 68             8/31/2015 23:12\n",
       "  End.Station                              End.Terminal Bike.. Subscriber.Type\n",
       "1 San Francisco Caltrain (Townsend at 4th) 70           288    Subscriber     \n",
       "2 Mountain View City Hall                  27            35    Subscriber     \n",
       "3 2nd at South Park                        64           468    Subscriber     \n",
       "4 San Salvador at 1st                       8            68    Subscriber     \n",
       "5 Embarcadero at Sansome                   60           487    Customer       \n",
       "6 San Francisco Caltrain (Townsend at 4th) 70           538    Subscriber     \n",
       "  Zip.Code\n",
       "1 2139    \n",
       "2 95032   \n",
       "3 94107   \n",
       "4 95113   \n",
       "5 9069    \n",
       "6 94118   "
      ]
     },
     "metadata": {},
     "output_type": "display_data"
    }
   ],
   "source": [
    "trips <- read.csv('C:/Users/Personal/Data-Science-Students/Tables/babs_open_data_year_2/201508_trip_data.csv', \n",
    "                  stringsAsFactors=FALSE)\n",
    "\n",
    "head(trips)"
   ]
  },
  {
   "cell_type": "code",
   "execution_count": 16,
   "metadata": {},
   "outputs": [
    {
     "data": {
      "text/html": [
       "287840"
      ],
      "text/latex": [
       "287840"
      ],
      "text/markdown": [
       "287840"
      ],
      "text/plain": [
       "[1] 287840"
      ]
     },
     "metadata": {},
     "output_type": "display_data"
    }
   ],
   "source": [
    "max(trips$Duration/60)"
   ]
  },
  {
   "cell_type": "code",
   "execution_count": 23,
   "metadata": {},
   "outputs": [
    {
     "name": "stderr",
     "output_type": "stream",
     "text": [
      "`stat_bin()` using `bins = 30`. Pick better value with `binwidth`.\n"
     ]
    },
    {
     "data": {},
     "metadata": {},
     "output_type": "display_data"
    },
    {
     "data": {
      "image/png": "[encoded data removed]",
      "text/plain": [
       "plot without title"
      ]
     },
     "metadata": {},
     "output_type": "display_data"
    }
   ],
   "source": [
    "viajes <- trips %>% filter(Duration < 30*60) # menos de 30 mins\n",
    "\n",
    "ggplot(viajes, aes(x=Duration, y=..count../sum(..count..))) + geom_histogram()"
   ]
  },
  {
   "cell_type": "code",
   "execution_count": 27,
   "metadata": {},
   "outputs": [
    {
     "data": {},
     "metadata": {},
     "output_type": "display_data"
    },
    {
     "data": {
      "image/png": "[encoded data removed]",
      "text/plain": [
       "plot without title"
      ]
     },
     "metadata": {},
     "output_type": "display_data"
    }
   ],
   "source": [
    "ggplot(viajes, aes(x=Duration, y=..count../sum(..count..))) + geom_histogram(breaks = seq(0,2000,by=60)) + ylab(\"% viajes\")"
   ]
  },
  {
   "cell_type": "code",
   "execution_count": 25,
   "metadata": {},
   "outputs": [
    {
     "data": {},
     "metadata": {},
     "output_type": "display_data"
    },
    {
     "data": {
      "image/png": "[encoded data removed]",
      "text/plain": [
       "plot without title"
      ]
     },
     "metadata": {},
     "output_type": "display_data"
    }
   ],
   "source": [
    "ggplot(viajes) + geom_histogram(breaks = seq(0,2000,by=2*60), aes(x=Duration, y = (..count..)/sum(..count..))) +\n",
    "    ylab(\"porcentaje de viajes\")\n",
    "\n",
    "# cuidado con los detalles: prueben varios binwidths."
   ]
  },
  {
   "cell_type": "code",
   "execution_count": 153,
   "metadata": {},
   "outputs": [
    {
     "data": {},
     "metadata": {},
     "output_type": "display_data"
    },
    {
     "data": {
      "image/png": "[encoded data removed]",
      "text/plain": [
       "plot without title"
      ]
     },
     "metadata": {},
     "output_type": "display_data"
    }
   ],
   "source": [
    "ggplot(viajes) + geom_histogram(breaks = seq(0,2000,by=5), aes(x=Duration, y=(..count..)/sum(..count..))) +\n",
    "    ylab(\"porcentaje de viajes\")\n",
    "\n",
    "# cuidado con los detalles: prueben varios binwidths."
   ]
  },
  {
   "cell_type": "code",
   "execution_count": 57,
   "metadata": {},
   "outputs": [
    {
     "data": {
      "text/html": [
       "<table>\n",
       "<thead><tr><th scope=col>PDT</th><th scope=col>Max.TemperatureF</th><th scope=col>Mean.TemperatureF</th><th scope=col>Min.TemperatureF</th><th scope=col>Max.Dew.PointF</th><th scope=col>MeanDew.PointF</th><th scope=col>Min.DewpointF</th><th scope=col>Max.Humidity</th><th scope=col>Mean.Humidity</th><th scope=col>Min.Humidity</th><th scope=col>...</th><th scope=col>Mean.VisibilityMiles</th><th scope=col>Min.VisibilityMiles</th><th scope=col>Max.Wind.SpeedMPH</th><th scope=col>Mean.Wind.SpeedMPH</th><th scope=col>Max.Gust.SpeedMPH</th><th scope=col>PrecipitationIn</th><th scope=col>CloudCover</th><th scope=col>Events</th><th scope=col>WindDirDegrees</th><th scope=col>Zip</th></tr></thead>\n",
       "<tbody>\n",
       "\t<tr><td>9/1/2014</td><td>83      </td><td>70      </td><td>57      </td><td>58      </td><td>56      </td><td>52      </td><td>86      </td><td>64      </td><td>42      </td><td>...     </td><td>10      </td><td> 8      </td><td>16      </td><td>7       </td><td>20      </td><td>0       </td><td>0       </td><td>        </td><td>290     </td><td>94107   </td></tr>\n",
       "\t<tr><td>9/2/2014</td><td>72      </td><td>66      </td><td>60      </td><td>58      </td><td>57      </td><td>55      </td><td>84      </td><td>73      </td><td>61      </td><td>...     </td><td>10      </td><td> 7      </td><td>21      </td><td>8       </td><td>NA      </td><td>0       </td><td>5       </td><td>        </td><td>290     </td><td>94107   </td></tr>\n",
       "\t<tr><td>9/3/2014</td><td>76      </td><td>69      </td><td>61      </td><td>57      </td><td>56      </td><td>55      </td><td>84      </td><td>69      </td><td>53      </td><td>...     </td><td>10      </td><td>10      </td><td>21      </td><td>8       </td><td>24      </td><td>0       </td><td>4       </td><td>        </td><td>276     </td><td>94107   </td></tr>\n",
       "\t<tr><td>9/4/2014</td><td>74      </td><td>68      </td><td>61      </td><td>57      </td><td>57      </td><td>56      </td><td>84      </td><td>71      </td><td>57      </td><td>...     </td><td>10      </td><td> 8      </td><td>22      </td><td>8       </td><td>25      </td><td>0       </td><td>5       </td><td>        </td><td>301     </td><td>94107   </td></tr>\n",
       "\t<tr><td>9/5/2014</td><td>72      </td><td>66      </td><td>60      </td><td>57      </td><td>56      </td><td>54      </td><td>84      </td><td>71      </td><td>57      </td><td>...     </td><td> 9      </td><td> 7      </td><td>18      </td><td>8       </td><td>32      </td><td>0       </td><td>4       </td><td>        </td><td>309     </td><td>94107   </td></tr>\n",
       "\t<tr><td>9/6/2014</td><td>72      </td><td>66      </td><td>60      </td><td>55      </td><td>54      </td><td>52      </td><td>84      </td><td>69      </td><td>53      </td><td>...     </td><td> 9      </td><td> 7      </td><td>17      </td><td>9       </td><td>30      </td><td>0       </td><td>4       </td><td>        </td><td>290     </td><td>94107   </td></tr>\n",
       "</tbody>\n",
       "</table>\n"
      ],
      "text/latex": [
       "\\begin{tabular}{r|llllllllllllllllllllllll}\n",
       " PDT & Max.TemperatureF & Mean.TemperatureF & Min.TemperatureF & Max.Dew.PointF & MeanDew.PointF & Min.DewpointF & Max.Humidity & Mean.Humidity & Min.Humidity & ... & Mean.VisibilityMiles & Min.VisibilityMiles & Max.Wind.SpeedMPH & Mean.Wind.SpeedMPH & Max.Gust.SpeedMPH & PrecipitationIn & CloudCover & Events & WindDirDegrees & Zip\\\\\n",
       "\\hline\n",
       "\t 9/1/2014 & 83       & 70       & 57       & 58       & 56       & 52       & 86       & 64       & 42       & ...      & 10       &  8       & 16       & 7        & 20       & 0        & 0        &          & 290      & 94107   \\\\\n",
       "\t 9/2/2014 & 72       & 66       & 60       & 58       & 57       & 55       & 84       & 73       & 61       & ...      & 10       &  7       & 21       & 8        & NA       & 0        & 5        &          & 290      & 94107   \\\\\n",
       "\t 9/3/2014 & 76       & 69       & 61       & 57       & 56       & 55       & 84       & 69       & 53       & ...      & 10       & 10       & 21       & 8        & 24       & 0        & 4        &          & 276      & 94107   \\\\\n",
       "\t 9/4/2014 & 74       & 68       & 61       & 57       & 57       & 56       & 84       & 71       & 57       & ...      & 10       &  8       & 22       & 8        & 25       & 0        & 5        &          & 301      & 94107   \\\\\n",
       "\t 9/5/2014 & 72       & 66       & 60       & 57       & 56       & 54       & 84       & 71       & 57       & ...      &  9       &  7       & 18       & 8        & 32       & 0        & 4        &          & 309      & 94107   \\\\\n",
       "\t 9/6/2014 & 72       & 66       & 60       & 55       & 54       & 52       & 84       & 69       & 53       & ...      &  9       &  7       & 17       & 9        & 30       & 0        & 4        &          & 290      & 94107   \\\\\n",
       "\\end{tabular}\n"
      ],
      "text/markdown": [
       "\n",
       "PDT | Max.TemperatureF | Mean.TemperatureF | Min.TemperatureF | Max.Dew.PointF | MeanDew.PointF | Min.DewpointF | Max.Humidity | Mean.Humidity | Min.Humidity | ... | Mean.VisibilityMiles | Min.VisibilityMiles | Max.Wind.SpeedMPH | Mean.Wind.SpeedMPH | Max.Gust.SpeedMPH | PrecipitationIn | CloudCover | Events | WindDirDegrees | Zip | \n",
       "|---|---|---|---|---|---|\n",
       "| 9/1/2014 | 83       | 70       | 57       | 58       | 56       | 52       | 86       | 64       | 42       | ...      | 10       |  8       | 16       | 7        | 20       | 0        | 0        |          | 290      | 94107    | \n",
       "| 9/2/2014 | 72       | 66       | 60       | 58       | 57       | 55       | 84       | 73       | 61       | ...      | 10       |  7       | 21       | 8        | NA       | 0        | 5        |          | 290      | 94107    | \n",
       "| 9/3/2014 | 76       | 69       | 61       | 57       | 56       | 55       | 84       | 69       | 53       | ...      | 10       | 10       | 21       | 8        | 24       | 0        | 4        |          | 276      | 94107    | \n",
       "| 9/4/2014 | 74       | 68       | 61       | 57       | 57       | 56       | 84       | 71       | 57       | ...      | 10       |  8       | 22       | 8        | 25       | 0        | 5        |          | 301      | 94107    | \n",
       "| 9/5/2014 | 72       | 66       | 60       | 57       | 56       | 54       | 84       | 71       | 57       | ...      |  9       |  7       | 18       | 8        | 32       | 0        | 4        |          | 309      | 94107    | \n",
       "| 9/6/2014 | 72       | 66       | 60       | 55       | 54       | 52       | 84       | 69       | 53       | ...      |  9       |  7       | 17       | 9        | 30       | 0        | 4        |          | 290      | 94107    | \n",
       "\n",
       "\n"
      ],
      "text/plain": [
       "  PDT      Max.TemperatureF Mean.TemperatureF Min.TemperatureF Max.Dew.PointF\n",
       "1 9/1/2014 83               70                57               58            \n",
       "2 9/2/2014 72               66                60               58            \n",
       "3 9/3/2014 76               69                61               57            \n",
       "4 9/4/2014 74               68                61               57            \n",
       "5 9/5/2014 72               66                60               57            \n",
       "6 9/6/2014 72               66                60               55            \n",
       "  MeanDew.PointF Min.DewpointF Max.Humidity Mean.Humidity Min.Humidity ...\n",
       "1 56             52            86           64            42           ...\n",
       "2 57             55            84           73            61           ...\n",
       "3 56             55            84           69            53           ...\n",
       "4 57             56            84           71            57           ...\n",
       "5 56             54            84           71            57           ...\n",
       "6 54             52            84           69            53           ...\n",
       "  Mean.VisibilityMiles Min.VisibilityMiles Max.Wind.SpeedMPH Mean.Wind.SpeedMPH\n",
       "1 10                    8                  16                7                 \n",
       "2 10                    7                  21                8                 \n",
       "3 10                   10                  21                8                 \n",
       "4 10                    8                  22                8                 \n",
       "5  9                    7                  18                8                 \n",
       "6  9                    7                  17                9                 \n",
       "  Max.Gust.SpeedMPH PrecipitationIn CloudCover Events WindDirDegrees Zip  \n",
       "1 20                0               0                 290            94107\n",
       "2 NA                0               5                 290            94107\n",
       "3 24                0               4                 276            94107\n",
       "4 25                0               5                 301            94107\n",
       "5 32                0               4                 309            94107\n",
       "6 30                0               4                 290            94107"
      ]
     },
     "metadata": {},
     "output_type": "display_data"
    },
    {
     "data": {
      "text/html": [
       "<ol class=list-inline>\n",
       "\t<li>1825</li>\n",
       "\t<li>3</li>\n",
       "</ol>\n"
      ],
      "text/latex": [
       "\\begin{enumerate*}\n",
       "\\item 1825\n",
       "\\item 3\n",
       "\\end{enumerate*}\n"
      ],
      "text/markdown": [
       "1. 1825\n",
       "2. 3\n",
       "\n",
       "\n"
      ],
      "text/plain": [
       "[1] 1825    3"
      ]
     },
     "metadata": {},
     "output_type": "display_data"
    },
    {
     "data": {
      "text/html": [
       "<table>\n",
       "<thead><tr><th scope=col>Fecha</th><th scope=col>Alta</th><th scope=col>Baja</th></tr></thead>\n",
       "<tbody>\n",
       "\t<tr><td>9/1/2014</td><td>28      </td><td>14      </td></tr>\n",
       "\t<tr><td>9/2/2014</td><td>22      </td><td>16      </td></tr>\n",
       "\t<tr><td>9/3/2014</td><td>24      </td><td>16      </td></tr>\n",
       "\t<tr><td>9/4/2014</td><td>23      </td><td>16      </td></tr>\n",
       "\t<tr><td>9/5/2014</td><td>22      </td><td>16      </td></tr>\n",
       "\t<tr><td>9/6/2014</td><td>22      </td><td>16      </td></tr>\n",
       "</tbody>\n",
       "</table>\n"
      ],
      "text/latex": [
       "\\begin{tabular}{r|lll}\n",
       " Fecha & Alta & Baja\\\\\n",
       "\\hline\n",
       "\t 9/1/2014 & 28       & 14      \\\\\n",
       "\t 9/2/2014 & 22       & 16      \\\\\n",
       "\t 9/3/2014 & 24       & 16      \\\\\n",
       "\t 9/4/2014 & 23       & 16      \\\\\n",
       "\t 9/5/2014 & 22       & 16      \\\\\n",
       "\t 9/6/2014 & 22       & 16      \\\\\n",
       "\\end{tabular}\n"
      ],
      "text/markdown": [
       "\n",
       "Fecha | Alta | Baja | \n",
       "|---|---|---|---|---|---|\n",
       "| 9/1/2014 | 28       | 14       | \n",
       "| 9/2/2014 | 22       | 16       | \n",
       "| 9/3/2014 | 24       | 16       | \n",
       "| 9/4/2014 | 23       | 16       | \n",
       "| 9/5/2014 | 22       | 16       | \n",
       "| 9/6/2014 | 22       | 16       | \n",
       "\n",
       "\n"
      ],
      "text/plain": [
       "  Fecha    Alta Baja\n",
       "1 9/1/2014 28   14  \n",
       "2 9/2/2014 22   16  \n",
       "3 9/3/2014 24   16  \n",
       "4 9/4/2014 23   16  \n",
       "5 9/5/2014 22   16  \n",
       "6 9/6/2014 22   16  "
      ]
     },
     "metadata": {},
     "output_type": "display_data"
    },
    {
     "data": {
      "text/html": [
       "<table>\n",
       "<thead><tr><th scope=col>Fecha</th><th scope=col>Alta</th><th scope=col>Baja</th></tr></thead>\n",
       "<tbody>\n",
       "\t<tr><td>9/1/2014</td><td>83      </td><td>57      </td></tr>\n",
       "\t<tr><td>9/2/2014</td><td>72      </td><td>60      </td></tr>\n",
       "\t<tr><td>9/3/2014</td><td>76      </td><td>61      </td></tr>\n",
       "\t<tr><td>9/4/2014</td><td>74      </td><td>61      </td></tr>\n",
       "\t<tr><td>9/5/2014</td><td>72      </td><td>60      </td></tr>\n",
       "\t<tr><td>9/6/2014</td><td>72      </td><td>60      </td></tr>\n",
       "</tbody>\n",
       "</table>\n"
      ],
      "text/latex": [
       "\\begin{tabular}{r|lll}\n",
       " Fecha & Alta & Baja\\\\\n",
       "\\hline\n",
       "\t 9/1/2014 & 83       & 57      \\\\\n",
       "\t 9/2/2014 & 72       & 60      \\\\\n",
       "\t 9/3/2014 & 76       & 61      \\\\\n",
       "\t 9/4/2014 & 74       & 61      \\\\\n",
       "\t 9/5/2014 & 72       & 60      \\\\\n",
       "\t 9/6/2014 & 72       & 60      \\\\\n",
       "\\end{tabular}\n"
      ],
      "text/markdown": [
       "\n",
       "Fecha | Alta | Baja | \n",
       "|---|---|---|---|---|---|\n",
       "| 9/1/2014 | 83       | 57       | \n",
       "| 9/2/2014 | 72       | 60       | \n",
       "| 9/3/2014 | 76       | 61       | \n",
       "| 9/4/2014 | 74       | 61       | \n",
       "| 9/5/2014 | 72       | 60       | \n",
       "| 9/6/2014 | 72       | 60       | \n",
       "\n",
       "\n"
      ],
      "text/plain": [
       "  Fecha    Alta Baja\n",
       "1 9/1/2014 83   57  \n",
       "2 9/2/2014 72   60  \n",
       "3 9/3/2014 76   61  \n",
       "4 9/4/2014 74   61  \n",
       "5 9/5/2014 72   60  \n",
       "6 9/6/2014 72   60  "
      ]
     },
     "metadata": {},
     "output_type": "display_data"
    }
   ],
   "source": [
    "clima <- read.csv('C:/Users/Personal/Data-Science-Students/Tables/babs_open_data_year_2/201508_weather_data.csv', \n",
    "                  stringsAsFactors=FALSE)\n",
    "head(clima)\n",
    "\n",
    "clima.bicis <- clima %>% select(PDT, Max.TemperatureF, Min.TemperatureF) %>% \n",
    "mutate(Max.TemperatureF = round((Max.TemperatureF - 32)*5/9, 0), Min.TemperatureF = round((Min.TemperatureF - 32)*5/9, 0)) %>% \n",
    "rename(Fecha = PDT, Alta = Max.TemperatureF, Baja = Min.TemperatureF) \n",
    "\n",
    "\n",
    "clima.curso <- clima %>% select(Fecha=PDT, Alta=Max.TemperatureF, Baja=Min.TemperatureF)\n",
    "\n",
    "dim(clima.bicis)\n",
    "\n",
    "head(clima.bicis)\n",
    "head(clima.curso)"
   ]
  },
  {
   "cell_type": "code",
   "execution_count": 38,
   "metadata": {},
   "outputs": [
    {
     "name": "stderr",
     "output_type": "stream",
     "text": [
      "Warning message:\n",
      "\"Removed 4 rows containing non-finite values (stat_bin).\""
     ]
    },
    {
     "data": {},
     "metadata": {},
     "output_type": "display_data"
    },
    {
     "data": {
      "image/png": "[encoded data removed]",
      "text/plain": [
       "plot without title"
      ]
     },
     "metadata": {},
     "output_type": "display_data"
    }
   ],
   "source": [
    "ggplot(clima.bicis, aes(x=Alta, y = (..count..)/sum(..count..))) + geom_histogram(breaks = seq(0,45,by=5))"
   ]
  },
  {
   "cell_type": "code",
   "execution_count": 42,
   "metadata": {},
   "outputs": [
    {
     "name": "stderr",
     "output_type": "stream",
     "text": [
      "Warning message:\n",
      "\"Removed 4 rows containing non-finite values (stat_bin).\""
     ]
    },
    {
     "data": {},
     "metadata": {},
     "output_type": "display_data"
    },
    {
     "data": {
      "image/png": "[encoded data removed]",
      "text/plain": [
       "plot without title"
      ]
     },
     "metadata": {},
     "output_type": "display_data"
    }
   ],
   "source": [
    "ggplot(clima.bicis, aes(x=Baja, y = (..count..)/sum(..count..))) + geom_histogram(breaks = seq(0,45,by=5))"
   ]
  },
  {
   "cell_type": "code",
   "execution_count": 58,
   "metadata": {},
   "outputs": [
    {
     "name": "stderr",
     "output_type": "stream",
     "text": [
      "Warning message:\n",
      "\"Removed 4 rows containing non-finite values (stat_bin).\"Warning message:\n",
      "\"Removed 4 rows containing non-finite values (stat_bin).\""
     ]
    },
    {
     "data": {},
     "metadata": {},
     "output_type": "display_data"
    },
    {
     "data": {
      "image/png": "[encoded data removed]",
      "text/plain": [
       "plot without title"
      ]
     },
     "metadata": {},
     "output_type": "display_data"
    }
   ],
   "source": [
    "# Podemos comparar dos histogramas:\n",
    "\n",
    "ggplot(clima.bicis) + \n",
    "        geom_histogram(breaks = seq(0,40,by=5), aes(x=Alta, y = (..count..)/sum(..count..)), fill=\"red\", alpha=0.3) +\n",
    "        geom_histogram(breaks = seq(0,40,by=5), aes(x=Baja, y = (..count..)/sum(..count..)), fill=\"blue\", alpha=0.3)"
   ]
  },
  {
   "cell_type": "markdown",
   "metadata": {},
   "source": [
    "## Preguntas:\n",
    "\n",
    "        *Cuál es la proporción de días que tienen una temperatura Alta entre 15 y 19 grados?\n",
    "        *Cuál es para temperaturas Bajas de mas de 5 grados?\n",
    "        *Cuántos días tuvieron una diferencia de temperatura mayor a 15 grados?"
   ]
  },
  {
   "cell_type": "code",
   "execution_count": 54,
   "metadata": {},
   "outputs": [
    {
     "data": {
      "text/html": [
       "<table>\n",
       "<thead><tr><th scope=col>Fecha</th><th scope=col>Alta</th><th scope=col>Baja</th><th scope=col>diferencia</th></tr></thead>\n",
       "<tbody>\n",
       "\t<tr><td>9/1/2014</td><td>28      </td><td>14      </td><td>14      </td></tr>\n",
       "\t<tr><td>9/2/2014</td><td>22      </td><td>16      </td><td> 6      </td></tr>\n",
       "\t<tr><td>9/3/2014</td><td>24      </td><td>16      </td><td> 8      </td></tr>\n",
       "\t<tr><td>9/4/2014</td><td>23      </td><td>16      </td><td> 7      </td></tr>\n",
       "\t<tr><td>9/5/2014</td><td>22      </td><td>16      </td><td> 6      </td></tr>\n",
       "\t<tr><td>9/6/2014</td><td>22      </td><td>16      </td><td> 6      </td></tr>\n",
       "</tbody>\n",
       "</table>\n"
      ],
      "text/latex": [
       "\\begin{tabular}{r|llll}\n",
       " Fecha & Alta & Baja & diferencia\\\\\n",
       "\\hline\n",
       "\t 9/1/2014 & 28       & 14       & 14      \\\\\n",
       "\t 9/2/2014 & 22       & 16       &  6      \\\\\n",
       "\t 9/3/2014 & 24       & 16       &  8      \\\\\n",
       "\t 9/4/2014 & 23       & 16       &  7      \\\\\n",
       "\t 9/5/2014 & 22       & 16       &  6      \\\\\n",
       "\t 9/6/2014 & 22       & 16       &  6      \\\\\n",
       "\\end{tabular}\n"
      ],
      "text/markdown": [
       "\n",
       "Fecha | Alta | Baja | diferencia | \n",
       "|---|---|---|---|---|---|\n",
       "| 9/1/2014 | 28       | 14       | 14       | \n",
       "| 9/2/2014 | 22       | 16       |  6       | \n",
       "| 9/3/2014 | 24       | 16       |  8       | \n",
       "| 9/4/2014 | 23       | 16       |  7       | \n",
       "| 9/5/2014 | 22       | 16       |  6       | \n",
       "| 9/6/2014 | 22       | 16       |  6       | \n",
       "\n",
       "\n"
      ],
      "text/plain": [
       "  Fecha    Alta Baja diferencia\n",
       "1 9/1/2014 28   14   14        \n",
       "2 9/2/2014 22   16    6        \n",
       "3 9/3/2014 24   16    8        \n",
       "4 9/4/2014 23   16    7        \n",
       "5 9/5/2014 22   16    6        \n",
       "6 9/6/2014 22   16    6        "
      ]
     },
     "metadata": {},
     "output_type": "display_data"
    }
   ],
   "source": [
    "clima.dif <- clima.bicis %>% mutate(diferencia = Alta - Baja)\n",
    "head(clima.dif)"
   ]
  },
  {
   "cell_type": "code",
   "execution_count": 53,
   "metadata": {},
   "outputs": [
    {
     "name": "stderr",
     "output_type": "stream",
     "text": [
      "Warning message:\n",
      "\"Removed 4 rows containing non-finite values (stat_bin).\""
     ]
    },
    {
     "data": {},
     "metadata": {},
     "output_type": "display_data"
    },
    {
     "data": {
      "image/png": "[encoded data removed]",
      "text/plain": [
       "plot without title"
      ]
     },
     "metadata": {},
     "output_type": "display_data"
    }
   ],
   "source": [
    "ggplot(clima.dif, aes(x=diferencia, y = (..count..)/sum(..count..))) + \n",
    "        geom_histogram(breaks = seq(0,40,by=2))  \n",
    "\n",
    "# Dos picos? Pueden ser dos tipos de clima? Uno caliente y el otro frio?"
   ]
  }
 ],
 "metadata": {
  "anaconda-cloud": {},
  "kernelspec": {
   "display_name": "R 3.3",
   "language": "R",
   "name": "ir33"
  },
  "language_info": {
   "codemirror_mode": "r",
   "file_extension": ".r",
   "mimetype": "text/x-r-source",
   "name": "R",
   "pygments_lexer": "r",
   "version": "3.3.3"
  }
 },
 "nbformat": 4,
 "nbformat_minor": 1
}
