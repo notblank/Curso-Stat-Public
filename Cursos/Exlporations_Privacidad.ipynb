{
 "cells": [
  {
   "cell_type": "markdown",
   "metadata": {},
   "source": [
    "# Privacidad: \n",
    "\n",
    "\"The right to be left alone\".\n",
    "Samuel Warren and Luis Braendis. \n",
    "\n",
    "\n",
    "## Control sobre quien puede obtenr y usar info sobre mi.\n",
    "\n",
    "Manipulación (Facebook mensajes peuden hacer que mas gente vote).\n",
    "\n",
    "Como quiero presentarme! Control sobre mi imagen.\n",
    "\n",
    "## Pricipios de privacidad:\n",
    "\n",
    "Avisar, consentir(opt-in/opt-out), acceso."
   ]
  },
  {
   "cell_type": "markdown",
   "metadata": {},
   "source": [
    "## Contextual Integrity\n",
    "Helen Niessenbaum\n",
    "\n",
    "\n",
    "Depende del contexto. \n",
    "\n",
    "\n",
    "Cuando información que proviene de un contexto es usada en otro para otros propósitos. "
   ]
  },
  {
   "cell_type": "markdown",
   "metadata": {},
   "source": [
    "## Informational privacy and Self-autonomy \n",
    "\n",
    "Record médico. Qué tal si tengo una enfermedad terminal? \n",
    "\n",
    "autonomy -> Control sobre tu vida. \n"
   ]
  },
  {
   "cell_type": "markdown",
   "metadata": {},
   "source": [
    "## Qué tipo de info puedo obtener? \n",
    "## Qué tipo de conclusiones puedo sacar usando esa info? \n",
    "## Qué opciones tengo? \n",
    "\n"
   ]
  },
  {
   "cell_type": "code",
   "execution_count": 7,
   "metadata": {
    "collapsed": false
   },
   "outputs": [
    {
     "data": {
      "text/html": [
       "<table>\n",
       "<thead><tr><th scope=col>red_VRM</th><th scope=col>red_Timestamp</th><th scope=col>Location.1</th></tr></thead>\n",
       "<tbody>\n",
       "\t<tr><td>6XIP596                 </td><td>01/31/2014 12:16:00 PM  </td><td>(37.797603, -122.215841)</td></tr>\n",
       "\t<tr><td>6XIP596                 </td><td>01/31/2014 12:14:00 PM  </td><td>(37.80018, -122.226263) </td></tr>\n",
       "\t<tr><td>6DXZ576                 </td><td>01/31/2014 12:14:00 PM  </td><td>(37.800573, -122.22805) </td></tr>\n",
       "\t<tr><td>6XIP596                 </td><td>01/31/2014 12:14:00 PM  </td><td>(37.803296, -122.23239) </td></tr>\n",
       "\t<tr><td>6DXZ576                 </td><td>01/31/2014 12:13:00 PM  </td><td>(37.806338, -122.237468)</td></tr>\n",
       "\t<tr><td>4AAW048                 </td><td>01/31/2014 09:06:00 AM  </td><td>(37.817095, -122.26999) </td></tr>\n",
       "</tbody>\n",
       "</table>\n"
      ],
      "text/latex": [
       "\\begin{tabular}{r|lll}\n",
       " red\\_VRM & red\\_Timestamp & Location.1\\\\\n",
       "\\hline\n",
       "\t 6XIP596                  & 01/31/2014 12:16:00 PM   & (37.797603, -122.215841)\\\\\n",
       "\t 6XIP596                  & 01/31/2014 12:14:00 PM   & (37.80018, -122.226263) \\\\\n",
       "\t 6DXZ576                  & 01/31/2014 12:14:00 PM   & (37.800573, -122.22805) \\\\\n",
       "\t 6XIP596                  & 01/31/2014 12:14:00 PM   & (37.803296, -122.23239) \\\\\n",
       "\t 6DXZ576                  & 01/31/2014 12:13:00 PM   & (37.806338, -122.237468)\\\\\n",
       "\t 4AAW048                  & 01/31/2014 09:06:00 AM   & (37.817095, -122.26999) \\\\\n",
       "\\end{tabular}\n"
      ],
      "text/markdown": [
       "\n",
       "red_VRM | red_Timestamp | Location.1 | \n",
       "|---|---|---|---|---|---|\n",
       "| 6XIP596                  | 01/31/2014 12:16:00 PM   | (37.797603, -122.215841) | \n",
       "| 6XIP596                  | 01/31/2014 12:14:00 PM   | (37.80018, -122.226263)  | \n",
       "| 6DXZ576                  | 01/31/2014 12:14:00 PM   | (37.800573, -122.22805)  | \n",
       "| 6XIP596                  | 01/31/2014 12:14:00 PM   | (37.803296, -122.23239)  | \n",
       "| 6DXZ576                  | 01/31/2014 12:13:00 PM   | (37.806338, -122.237468) | \n",
       "| 4AAW048                  | 01/31/2014 09:06:00 AM   | (37.817095, -122.26999)  | \n",
       "\n",
       "\n"
      ],
      "text/plain": [
       "  red_VRM red_Timestamp          Location.1              \n",
       "1 6XIP596 01/31/2014 12:16:00 PM (37.797603, -122.215841)\n",
       "2 6XIP596 01/31/2014 12:14:00 PM (37.80018, -122.226263) \n",
       "3 6DXZ576 01/31/2014 12:14:00 PM (37.800573, -122.22805) \n",
       "4 6XIP596 01/31/2014 12:14:00 PM (37.803296, -122.23239) \n",
       "5 6DXZ576 01/31/2014 12:13:00 PM (37.806338, -122.237468)\n",
       "6 4AAW048 01/31/2014 09:06:00 AM (37.817095, -122.26999) "
      ]
     },
     "metadata": {},
     "output_type": "display_data"
    }
   ],
   "source": [
    "# https://data.oaklandnet.com/browse?q=alpr\n",
    "\n",
    "library(readxl)\n",
    "library(dplyr)\n",
    "library(ggplot2)\n",
    "\n",
    "OaklandLicense <- read.csv(\"C:/Users/Personal/Data-Science-Students/Tables/All_license_plate_reader_data__ALPR__12_19_2013-1_31_2014.csv\", \n",
    "                            sep=\",\", header=T)\n",
    "head(OaklandLicense)"
   ]
  },
  {
   "cell_type": "code",
   "execution_count": 8,
   "metadata": {
    "collapsed": false
   },
   "outputs": [
    {
     "data": {
      "text/html": [
       "<table>\n",
       "<thead><tr><th scope=col>red_VRM</th><th scope=col>red_Timestamp</th><th scope=col>Location.1</th></tr></thead>\n",
       "<tbody>\n",
       "\t<tr><td>6FCH845                 </td><td>12/31/2013 10:09:00 AM  </td><td>(37.807556, -122.278485)</td></tr>\n",
       "</tbody>\n",
       "</table>\n"
      ],
      "text/latex": [
       "\\begin{tabular}{r|lll}\n",
       " red\\_VRM & red\\_Timestamp & Location.1\\\\\n",
       "\\hline\n",
       "\t 6FCH845                  & 12/31/2013 10:09:00 AM   & (37.807556, -122.278485)\\\\\n",
       "\\end{tabular}\n"
      ],
      "text/markdown": [
       "\n",
       "red_VRM | red_Timestamp | Location.1 | \n",
       "|---|\n",
       "| 6FCH845                  | 12/31/2013 10:09:00 AM   | (37.807556, -122.278485) | \n",
       "\n",
       "\n"
      ],
      "text/plain": [
       "  red_VRM red_Timestamp          Location.1              \n",
       "1 6FCH845 12/31/2013 10:09:00 AM (37.807556, -122.278485)"
      ]
     },
     "metadata": {},
     "output_type": "display_data"
    }
   ],
   "source": [
    "OaklandLicense %>% filter(red_VRM == \"6FCH845\")"
   ]
  }
 ],
 "metadata": {
  "anaconda-cloud": {},
  "kernelspec": {
   "display_name": "R 3.2",
   "language": "R",
   "name": "ir32"
  },
  "language_info": {
   "codemirror_mode": "r",
   "file_extension": ".r",
   "mimetype": "text/x-r-source",
   "name": "R",
   "pygments_lexer": "r",
   "version": "3.3.2"
  }
 },
 "nbformat": 4,
 "nbformat_minor": 1
}
