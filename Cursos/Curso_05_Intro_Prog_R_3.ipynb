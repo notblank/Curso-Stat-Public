{
 "cells": [
  {
   "cell_type": "code",
   "execution_count": 1,
   "metadata": {
    "scrolled": true
   },
   "outputs": [
    {
     "name": "stderr",
     "output_type": "stream",
     "text": [
      "\n",
      "Attaching package: ‘dplyr’\n",
      "\n",
      "The following objects are masked from ‘package:stats’:\n",
      "\n",
      "    filter, lag\n",
      "\n",
      "The following objects are masked from ‘package:base’:\n",
      "\n",
      "    intersect, setdiff, setequal, union\n",
      "\n"
     ]
    }
   ],
   "source": [
    "library(dplyr)\n",
    "\n",
    "pop_us = read.table(file = \"../tablas/pop_us.csv\", sep = ',', header = T)"
   ]
  },
  {
   "cell_type": "code",
   "execution_count": 2,
   "metadata": {},
   "outputs": [
    {
     "data": {
      "text/html": [
       "<table>\n",
       "<caption>A data.frame: 6 × 6</caption>\n",
       "<thead>\n",
       "\t<tr><th></th><th scope=col>SEX</th><th scope=col>AGE</th><th scope=col>pop_2010</th><th scope=col>pop_2014</th><th scope=col>Cambio</th><th scope=col>Crecimiento</th></tr>\n",
       "\t<tr><th></th><th scope=col>&lt;int&gt;</th><th scope=col>&lt;int&gt;</th><th scope=col>&lt;int&gt;</th><th scope=col>&lt;int&gt;</th><th scope=col>&lt;int&gt;</th><th scope=col>&lt;dbl&gt;</th></tr>\n",
       "</thead>\n",
       "<tbody>\n",
       "\t<tr><th scope=row>1</th><td>0</td><td>0</td><td>3951330</td><td>3948350</td><td>  -2980</td><td>-0.0001885975</td></tr>\n",
       "\t<tr><th scope=row>2</th><td>0</td><td>1</td><td>3957888</td><td>3962123</td><td>   4235</td><td> 0.0002673965</td></tr>\n",
       "\t<tr><th scope=row>3</th><td>0</td><td>2</td><td>4090862</td><td>3957772</td><td>-133090</td><td>-0.0082345253</td></tr>\n",
       "\t<tr><th scope=row>4</th><td>0</td><td>3</td><td>4111920</td><td>4005190</td><td>-106730</td><td>-0.0065531967</td></tr>\n",
       "\t<tr><th scope=row>5</th><td>0</td><td>4</td><td>4077552</td><td>4003448</td><td> -74104</td><td>-0.0045747086</td></tr>\n",
       "\t<tr><th scope=row>6</th><td>0</td><td>5</td><td>4064653</td><td>4004858</td><td> -59795</td><td>-0.0036982078</td></tr>\n",
       "</tbody>\n",
       "</table>\n"
      ],
      "text/latex": [
       "A data.frame: 6 × 6\n",
       "\\begin{tabular}{r|llllll}\n",
       "  & SEX & AGE & pop\\_2010 & pop\\_2014 & Cambio & Crecimiento\\\\\n",
       "  & <int> & <int> & <int> & <int> & <int> & <dbl>\\\\\n",
       "\\hline\n",
       "\t1 & 0 & 0 & 3951330 & 3948350 &   -2980 & -0.0001885975\\\\\n",
       "\t2 & 0 & 1 & 3957888 & 3962123 &    4235 &  0.0002673965\\\\\n",
       "\t3 & 0 & 2 & 4090862 & 3957772 & -133090 & -0.0082345253\\\\\n",
       "\t4 & 0 & 3 & 4111920 & 4005190 & -106730 & -0.0065531967\\\\\n",
       "\t5 & 0 & 4 & 4077552 & 4003448 &  -74104 & -0.0045747086\\\\\n",
       "\t6 & 0 & 5 & 4064653 & 4004858 &  -59795 & -0.0036982078\\\\\n",
       "\\end{tabular}\n"
      ],
      "text/markdown": [
       "\n",
       "A data.frame: 6 × 6\n",
       "\n",
       "| <!--/--> | SEX &lt;int&gt; | AGE &lt;int&gt; | pop_2010 &lt;int&gt; | pop_2014 &lt;int&gt; | Cambio &lt;int&gt; | Crecimiento &lt;dbl&gt; |\n",
       "|---|---|---|---|---|---|---|\n",
       "| 1 | 0 | 0 | 3951330 | 3948350 |   -2980 | -0.0001885975 |\n",
       "| 2 | 0 | 1 | 3957888 | 3962123 |    4235 |  0.0002673965 |\n",
       "| 3 | 0 | 2 | 4090862 | 3957772 | -133090 | -0.0082345253 |\n",
       "| 4 | 0 | 3 | 4111920 | 4005190 | -106730 | -0.0065531967 |\n",
       "| 5 | 0 | 4 | 4077552 | 4003448 |  -74104 | -0.0045747086 |\n",
       "| 6 | 0 | 5 | 4064653 | 4004858 |  -59795 | -0.0036982078 |\n",
       "\n"
      ],
      "text/plain": [
       "  SEX AGE pop_2010 pop_2014 Cambio  Crecimiento  \n",
       "1 0   0   3951330  3948350    -2980 -0.0001885975\n",
       "2 0   1   3957888  3962123     4235  0.0002673965\n",
       "3 0   2   4090862  3957772  -133090 -0.0082345253\n",
       "4 0   3   4111920  4005190  -106730 -0.0065531967\n",
       "5 0   4   4077552  4003448   -74104 -0.0045747086\n",
       "6 0   5   4064653  4004858   -59795 -0.0036982078"
      ]
     },
     "metadata": {},
     "output_type": "display_data"
    }
   ],
   "source": [
    "pop_Simple <- select(pop_us, SEX, \n",
    "                             AGE, \n",
    "                             pop_2010 = POPESTIMATE2010, \n",
    "                             pop_2014 = POPESTIMATE2014)\n",
    "\n",
    "pop_Simple <- mutate(pop_Simple, Cambio = pop_2014 - pop_2010, \n",
    "                     Crecimiento = (pop_2014/pop_2010)^(1/4) - 1)\n",
    "\n",
    "head(pop_Simple)"
   ]
  },
  {
   "cell_type": "code",
   "execution_count": 3,
   "metadata": {},
   "outputs": [
    {
     "data": {
      "text/html": [
       "<table>\n",
       "<caption>A data.frame: 10 × 6</caption>\n",
       "<thead>\n",
       "\t<tr><th></th><th scope=col>SEX</th><th scope=col>AGE</th><th scope=col>pop_2010</th><th scope=col>pop_2014</th><th scope=col>Cambio</th><th scope=col>Crecimiento</th></tr>\n",
       "\t<tr><th></th><th scope=col>&lt;int&gt;</th><th scope=col>&lt;int&gt;</th><th scope=col>&lt;int&gt;</th><th scope=col>&lt;int&gt;</th><th scope=col>&lt;int&gt;</th><th scope=col>&lt;dbl&gt;</th></tr>\n",
       "</thead>\n",
       "<tbody>\n",
       "\t<tr><th scope=row>1</th><td>2</td><td>0</td><td>1932910</td><td>1930493</td><td> -2417</td><td>-0.0003127583</td></tr>\n",
       "\t<tr><th scope=row>2</th><td>2</td><td>1</td><td>1937556</td><td>1938870</td><td>  1314</td><td> 0.0001695004</td></tr>\n",
       "\t<tr><th scope=row>3</th><td>2</td><td>2</td><td>2002177</td><td>1935270</td><td>-66907</td><td>-0.0084610613</td></tr>\n",
       "\t<tr><th scope=row>4</th><td>2</td><td>3</td><td>2010648</td><td>1956572</td><td>-54076</td><td>-0.0067925992</td></tr>\n",
       "\t<tr><th scope=row>5</th><td>2</td><td>4</td><td>1993240</td><td>1959950</td><td>-33290</td><td>-0.0042017709</td></tr>\n",
       "\t<tr><th scope=row>6</th><td>2</td><td>5</td><td>1988080</td><td>1961391</td><td>-26689</td><td>-0.0033731564</td></tr>\n",
       "\t<tr><th scope=row>7</th><td>2</td><td>6</td><td>1993603</td><td>2024024</td><td> 30421</td><td> 0.0037931897</td></tr>\n",
       "\t<tr><th scope=row>8</th><td>2</td><td>7</td><td>1979908</td><td>2031760</td><td> 51852</td><td> 0.0064839387</td></tr>\n",
       "\t<tr><th scope=row>9</th><td>2</td><td>8</td><td>1971142</td><td>2014402</td><td> 43260</td><td> 0.0054420814</td></tr>\n",
       "\t<tr><th scope=row>10</th><td>2</td><td>9</td><td>2018378</td><td>2009560</td><td> -8818</td><td>-0.0010940076</td></tr>\n",
       "</tbody>\n",
       "</table>\n"
      ],
      "text/latex": [
       "A data.frame: 10 × 6\n",
       "\\begin{tabular}{r|llllll}\n",
       "  & SEX & AGE & pop\\_2010 & pop\\_2014 & Cambio & Crecimiento\\\\\n",
       "  & <int> & <int> & <int> & <int> & <int> & <dbl>\\\\\n",
       "\\hline\n",
       "\t1 & 2 & 0 & 1932910 & 1930493 &  -2417 & -0.0003127583\\\\\n",
       "\t2 & 2 & 1 & 1937556 & 1938870 &   1314 &  0.0001695004\\\\\n",
       "\t3 & 2 & 2 & 2002177 & 1935270 & -66907 & -0.0084610613\\\\\n",
       "\t4 & 2 & 3 & 2010648 & 1956572 & -54076 & -0.0067925992\\\\\n",
       "\t5 & 2 & 4 & 1993240 & 1959950 & -33290 & -0.0042017709\\\\\n",
       "\t6 & 2 & 5 & 1988080 & 1961391 & -26689 & -0.0033731564\\\\\n",
       "\t7 & 2 & 6 & 1993603 & 2024024 &  30421 &  0.0037931897\\\\\n",
       "\t8 & 2 & 7 & 1979908 & 2031760 &  51852 &  0.0064839387\\\\\n",
       "\t9 & 2 & 8 & 1971142 & 2014402 &  43260 &  0.0054420814\\\\\n",
       "\t10 & 2 & 9 & 2018378 & 2009560 &  -8818 & -0.0010940076\\\\\n",
       "\\end{tabular}\n"
      ],
      "text/markdown": [
       "\n",
       "A data.frame: 10 × 6\n",
       "\n",
       "| <!--/--> | SEX &lt;int&gt; | AGE &lt;int&gt; | pop_2010 &lt;int&gt; | pop_2014 &lt;int&gt; | Cambio &lt;int&gt; | Crecimiento &lt;dbl&gt; |\n",
       "|---|---|---|---|---|---|---|\n",
       "| 1 | 2 | 0 | 1932910 | 1930493 |  -2417 | -0.0003127583 |\n",
       "| 2 | 2 | 1 | 1937556 | 1938870 |   1314 |  0.0001695004 |\n",
       "| 3 | 2 | 2 | 2002177 | 1935270 | -66907 | -0.0084610613 |\n",
       "| 4 | 2 | 3 | 2010648 | 1956572 | -54076 | -0.0067925992 |\n",
       "| 5 | 2 | 4 | 1993240 | 1959950 | -33290 | -0.0042017709 |\n",
       "| 6 | 2 | 5 | 1988080 | 1961391 | -26689 | -0.0033731564 |\n",
       "| 7 | 2 | 6 | 1993603 | 2024024 |  30421 |  0.0037931897 |\n",
       "| 8 | 2 | 7 | 1979908 | 2031760 |  51852 |  0.0064839387 |\n",
       "| 9 | 2 | 8 | 1971142 | 2014402 |  43260 |  0.0054420814 |\n",
       "| 10 | 2 | 9 | 2018378 | 2009560 |  -8818 | -0.0010940076 |\n",
       "\n"
      ],
      "text/plain": [
       "   SEX AGE pop_2010 pop_2014 Cambio Crecimiento  \n",
       "1  2   0   1932910  1930493   -2417 -0.0003127583\n",
       "2  2   1   1937556  1938870    1314  0.0001695004\n",
       "3  2   2   2002177  1935270  -66907 -0.0084610613\n",
       "4  2   3   2010648  1956572  -54076 -0.0067925992\n",
       "5  2   4   1993240  1959950  -33290 -0.0042017709\n",
       "6  2   5   1988080  1961391  -26689 -0.0033731564\n",
       "7  2   6   1993603  2024024   30421  0.0037931897\n",
       "8  2   7   1979908  2031760   51852  0.0064839387\n",
       "9  2   8   1971142  2014402   43260  0.0054420814\n",
       "10 2   9   2018378  2009560   -8818 -0.0010940076"
      ]
     },
     "metadata": {},
     "output_type": "display_data"
    }
   ],
   "source": [
    "hombres <- filter(pop_Simple, SEX == 1, AGE != 999)\n",
    "mujeres <- filter(pop_Simple, SEX == 2, AGE != 999) \n",
    "mujeres[1:10, ] # mas niños de 6 años, recesión 2008. https://www.wsj.com/articles/u-s-birthrate-hits-turning-point-1434513662"
   ]
  },
  {
   "cell_type": "markdown",
   "metadata": {},
   "source": [
    "## Encontrar la edad con la mayoría de mujeres en el 2014.\n",
    "\n",
    "http://www.wsj.com/articles/u-s-birthrate-hits-turning-point-1434513662"
   ]
  },
  {
   "cell_type": "code",
   "execution_count": 4,
   "metadata": {},
   "outputs": [
    {
     "data": {
      "text/html": [
       "<table>\n",
       "<caption>A data.frame: 6 × 6</caption>\n",
       "<thead>\n",
       "\t<tr><th></th><th scope=col>SEX</th><th scope=col>AGE</th><th scope=col>pop_2010</th><th scope=col>pop_2014</th><th scope=col>Cambio</th><th scope=col>Crecimiento</th></tr>\n",
       "\t<tr><th></th><th scope=col>&lt;int&gt;</th><th scope=col>&lt;int&gt;</th><th scope=col>&lt;int&gt;</th><th scope=col>&lt;int&gt;</th><th scope=col>&lt;int&gt;</th><th scope=col>&lt;dbl&gt;</th></tr>\n",
       "</thead>\n",
       "<tbody>\n",
       "\t<tr><th scope=row>1</th><td>2</td><td>54</td><td>2196798</td><td>2331961</td><td>135163</td><td> 0.0150391414</td></tr>\n",
       "\t<tr><th scope=row>2</th><td>2</td><td>53</td><td>2268457</td><td>2316131</td><td> 47674</td><td> 0.0052131053</td></tr>\n",
       "\t<tr><th scope=row>3</th><td>2</td><td>24</td><td>2082209</td><td>2301237</td><td>219028</td><td> 0.0253195948</td></tr>\n",
       "\t<tr><th scope=row>4</th><td>2</td><td>23</td><td>2066126</td><td>2298701</td><td>232575</td><td> 0.0270259579</td></tr>\n",
       "\t<tr><th scope=row>5</th><td>2</td><td>51</td><td>2289164</td><td>2283261</td><td> -5903</td><td>-0.0006452920</td></tr>\n",
       "\t<tr><th scope=row>6</th><td>2</td><td>52</td><td>2283408</td><td>2282051</td><td> -1357</td><td>-0.0001486049</td></tr>\n",
       "</tbody>\n",
       "</table>\n"
      ],
      "text/latex": [
       "A data.frame: 6 × 6\n",
       "\\begin{tabular}{r|llllll}\n",
       "  & SEX & AGE & pop\\_2010 & pop\\_2014 & Cambio & Crecimiento\\\\\n",
       "  & <int> & <int> & <int> & <int> & <int> & <dbl>\\\\\n",
       "\\hline\n",
       "\t1 & 2 & 54 & 2196798 & 2331961 & 135163 &  0.0150391414\\\\\n",
       "\t2 & 2 & 53 & 2268457 & 2316131 &  47674 &  0.0052131053\\\\\n",
       "\t3 & 2 & 24 & 2082209 & 2301237 & 219028 &  0.0253195948\\\\\n",
       "\t4 & 2 & 23 & 2066126 & 2298701 & 232575 &  0.0270259579\\\\\n",
       "\t5 & 2 & 51 & 2289164 & 2283261 &  -5903 & -0.0006452920\\\\\n",
       "\t6 & 2 & 52 & 2283408 & 2282051 &  -1357 & -0.0001486049\\\\\n",
       "\\end{tabular}\n"
      ],
      "text/markdown": [
       "\n",
       "A data.frame: 6 × 6\n",
       "\n",
       "| <!--/--> | SEX &lt;int&gt; | AGE &lt;int&gt; | pop_2010 &lt;int&gt; | pop_2014 &lt;int&gt; | Cambio &lt;int&gt; | Crecimiento &lt;dbl&gt; |\n",
       "|---|---|---|---|---|---|---|\n",
       "| 1 | 2 | 54 | 2196798 | 2331961 | 135163 |  0.0150391414 |\n",
       "| 2 | 2 | 53 | 2268457 | 2316131 |  47674 |  0.0052131053 |\n",
       "| 3 | 2 | 24 | 2082209 | 2301237 | 219028 |  0.0253195948 |\n",
       "| 4 | 2 | 23 | 2066126 | 2298701 | 232575 |  0.0270259579 |\n",
       "| 5 | 2 | 51 | 2289164 | 2283261 |  -5903 | -0.0006452920 |\n",
       "| 6 | 2 | 52 | 2283408 | 2282051 |  -1357 | -0.0001486049 |\n",
       "\n"
      ],
      "text/plain": [
       "  SEX AGE pop_2010 pop_2014 Cambio Crecimiento  \n",
       "1 2   54  2196798  2331961  135163  0.0150391414\n",
       "2 2   53  2268457  2316131   47674  0.0052131053\n",
       "3 2   24  2082209  2301237  219028  0.0253195948\n",
       "4 2   23  2066126  2298701  232575  0.0270259579\n",
       "5 2   51  2289164  2283261   -5903 -0.0006452920\n",
       "6 2   52  2283408  2282051   -1357 -0.0001486049"
      ]
     },
     "metadata": {},
     "output_type": "display_data"
    },
    {
     "data": {
      "text/html": [
       "<table>\n",
       "<caption>A data.frame: 1 × 6</caption>\n",
       "<thead>\n",
       "\t<tr><th scope=col>SEX</th><th scope=col>AGE</th><th scope=col>pop_2010</th><th scope=col>pop_2014</th><th scope=col>Cambio</th><th scope=col>Crecimiento</th></tr>\n",
       "\t<tr><th scope=col>&lt;int&gt;</th><th scope=col>&lt;int&gt;</th><th scope=col>&lt;int&gt;</th><th scope=col>&lt;int&gt;</th><th scope=col>&lt;int&gt;</th><th scope=col>&lt;dbl&gt;</th></tr>\n",
       "</thead>\n",
       "<tbody>\n",
       "\t<tr><td>2</td><td>54</td><td>2196798</td><td>2331961</td><td>135163</td><td>0.01503914</td></tr>\n",
       "</tbody>\n",
       "</table>\n"
      ],
      "text/latex": [
       "A data.frame: 1 × 6\n",
       "\\begin{tabular}{llllll}\n",
       " SEX & AGE & pop\\_2010 & pop\\_2014 & Cambio & Crecimiento\\\\\n",
       " <int> & <int> & <int> & <int> & <int> & <dbl>\\\\\n",
       "\\hline\n",
       "\t 2 & 54 & 2196798 & 2331961 & 135163 & 0.01503914\\\\\n",
       "\\end{tabular}\n"
      ],
      "text/markdown": [
       "\n",
       "A data.frame: 1 × 6\n",
       "\n",
       "| SEX &lt;int&gt; | AGE &lt;int&gt; | pop_2010 &lt;int&gt; | pop_2014 &lt;int&gt; | Cambio &lt;int&gt; | Crecimiento &lt;dbl&gt; |\n",
       "|---|---|---|---|---|---|\n",
       "| 2 | 54 | 2196798 | 2331961 | 135163 | 0.01503914 |\n",
       "\n"
      ],
      "text/plain": [
       "  SEX AGE pop_2010 pop_2014 Cambio Crecimiento\n",
       "1 2   54  2196798  2331961  135163 0.01503914 "
      ]
     },
     "metadata": {},
     "output_type": "display_data"
    },
    {
     "data": {
      "text/html": [
       "<table>\n",
       "<caption>A data.frame: 1 × 6</caption>\n",
       "<thead>\n",
       "\t<tr><th scope=col>SEX</th><th scope=col>AGE</th><th scope=col>pop_2010</th><th scope=col>pop_2014</th><th scope=col>Cambio</th><th scope=col>Crecimiento</th></tr>\n",
       "\t<tr><th scope=col>&lt;int&gt;</th><th scope=col>&lt;int&gt;</th><th scope=col>&lt;int&gt;</th><th scope=col>&lt;int&gt;</th><th scope=col>&lt;int&gt;</th><th scope=col>&lt;dbl&gt;</th></tr>\n",
       "</thead>\n",
       "<tbody>\n",
       "\t<tr><td>2</td><td>54</td><td>2196798</td><td>2331961</td><td>135163</td><td>0.01503914</td></tr>\n",
       "</tbody>\n",
       "</table>\n"
      ],
      "text/latex": [
       "A data.frame: 1 × 6\n",
       "\\begin{tabular}{llllll}\n",
       " SEX & AGE & pop\\_2010 & pop\\_2014 & Cambio & Crecimiento\\\\\n",
       " <int> & <int> & <int> & <int> & <int> & <dbl>\\\\\n",
       "\\hline\n",
       "\t 2 & 54 & 2196798 & 2331961 & 135163 & 0.01503914\\\\\n",
       "\\end{tabular}\n"
      ],
      "text/markdown": [
       "\n",
       "A data.frame: 1 × 6\n",
       "\n",
       "| SEX &lt;int&gt; | AGE &lt;int&gt; | pop_2010 &lt;int&gt; | pop_2014 &lt;int&gt; | Cambio &lt;int&gt; | Crecimiento &lt;dbl&gt; |\n",
       "|---|---|---|---|---|---|\n",
       "| 2 | 54 | 2196798 | 2331961 | 135163 | 0.01503914 |\n",
       "\n"
      ],
      "text/plain": [
       "  SEX AGE pop_2010 pop_2014 Cambio Crecimiento\n",
       "1 2   54  2196798  2331961  135163 0.01503914 "
      ]
     },
     "metadata": {},
     "output_type": "display_data"
    }
   ],
   "source": [
    "head(arrange(mujeres, desc(pop_2014)))\n",
    "\n",
    "# la fila:\n",
    "filter(mujeres, pop_2014 == max(pop_2014))\n",
    "\n",
    "# Para la edad:\n",
    "filter(mujeres, pop_2014 == max(pop_2014))\n"
   ]
  },
  {
   "cell_type": "code",
   "execution_count": 5,
   "metadata": {},
   "outputs": [
    {
     "data": {
      "text/html": [
       "<table>\n",
       "<caption>A data.frame: 6 × 6</caption>\n",
       "<thead>\n",
       "\t<tr><th></th><th scope=col>SEX</th><th scope=col>AGE</th><th scope=col>pop_2010</th><th scope=col>pop_2014</th><th scope=col>Cambio</th><th scope=col>Crecimiento</th></tr>\n",
       "\t<tr><th></th><th scope=col>&lt;int&gt;</th><th scope=col>&lt;int&gt;</th><th scope=col>&lt;int&gt;</th><th scope=col>&lt;int&gt;</th><th scope=col>&lt;int&gt;</th><th scope=col>&lt;dbl&gt;</th></tr>\n",
       "</thead>\n",
       "<tbody>\n",
       "\t<tr><th scope=row>1</th><td>2</td><td>100</td><td>  45058</td><td>  58468</td><td> 13410</td><td>0.06730018</td></tr>\n",
       "\t<tr><th scope=row>2</th><td>2</td><td> 64</td><td>1414220</td><td>1826662</td><td>412442</td><td>0.06606898</td></tr>\n",
       "\t<tr><th scope=row>3</th><td>2</td><td> 67</td><td>1423561</td><td>1832245</td><td>408684</td><td>0.06512816</td></tr>\n",
       "\t<tr><th scope=row>4</th><td>2</td><td> 71</td><td>1050351</td><td>1350392</td><td>300041</td><td>0.06483263</td></tr>\n",
       "\t<tr><th scope=row>5</th><td>2</td><td> 66</td><td>1381541</td><td>1758649</td><td>377108</td><td>0.06219401</td></tr>\n",
       "\t<tr><th scope=row>6</th><td>2</td><td> 65</td><td>1405839</td><td>1776761</td><td>370922</td><td>0.06028680</td></tr>\n",
       "</tbody>\n",
       "</table>\n"
      ],
      "text/latex": [
       "A data.frame: 6 × 6\n",
       "\\begin{tabular}{r|llllll}\n",
       "  & SEX & AGE & pop\\_2010 & pop\\_2014 & Cambio & Crecimiento\\\\\n",
       "  & <int> & <int> & <int> & <int> & <int> & <dbl>\\\\\n",
       "\\hline\n",
       "\t1 & 2 & 100 &   45058 &   58468 &  13410 & 0.06730018\\\\\n",
       "\t2 & 2 &  64 & 1414220 & 1826662 & 412442 & 0.06606898\\\\\n",
       "\t3 & 2 &  67 & 1423561 & 1832245 & 408684 & 0.06512816\\\\\n",
       "\t4 & 2 &  71 & 1050351 & 1350392 & 300041 & 0.06483263\\\\\n",
       "\t5 & 2 &  66 & 1381541 & 1758649 & 377108 & 0.06219401\\\\\n",
       "\t6 & 2 &  65 & 1405839 & 1776761 & 370922 & 0.06028680\\\\\n",
       "\\end{tabular}\n"
      ],
      "text/markdown": [
       "\n",
       "A data.frame: 6 × 6\n",
       "\n",
       "| <!--/--> | SEX &lt;int&gt; | AGE &lt;int&gt; | pop_2010 &lt;int&gt; | pop_2014 &lt;int&gt; | Cambio &lt;int&gt; | Crecimiento &lt;dbl&gt; |\n",
       "|---|---|---|---|---|---|---|\n",
       "| 1 | 2 | 100 |   45058 |   58468 |  13410 | 0.06730018 |\n",
       "| 2 | 2 |  64 | 1414220 | 1826662 | 412442 | 0.06606898 |\n",
       "| 3 | 2 |  67 | 1423561 | 1832245 | 408684 | 0.06512816 |\n",
       "| 4 | 2 |  71 | 1050351 | 1350392 | 300041 | 0.06483263 |\n",
       "| 5 | 2 |  66 | 1381541 | 1758649 | 377108 | 0.06219401 |\n",
       "| 6 | 2 |  65 | 1405839 | 1776761 | 370922 | 0.06028680 |\n",
       "\n"
      ],
      "text/plain": [
       "  SEX AGE pop_2010 pop_2014 Cambio Crecimiento\n",
       "1 2   100   45058    58468   13410 0.06730018 \n",
       "2 2    64 1414220  1826662  412442 0.06606898 \n",
       "3 2    67 1423561  1832245  408684 0.06512816 \n",
       "4 2    71 1050351  1350392  300041 0.06483263 \n",
       "5 2    66 1381541  1758649  377108 0.06219401 \n",
       "6 2    65 1405839  1776761  370922 0.06028680 "
      ]
     },
     "metadata": {},
     "output_type": "display_data"
    }
   ],
   "source": [
    "head(arrange(mujeres, desc(Crecimiento)))"
   ]
  },
  {
   "cell_type": "code",
   "execution_count": 7,
   "metadata": {},
   "outputs": [
    {
     "data": {
      "text/html": [
       "<table>\n",
       "<caption>A data.frame: 20 × 6</caption>\n",
       "<thead>\n",
       "\t<tr><th></th><th scope=col>SEX</th><th scope=col>AGE</th><th scope=col>pop_2010</th><th scope=col>pop_2014</th><th scope=col>Cambio</th><th scope=col>Crecimiento</th></tr>\n",
       "\t<tr><th></th><th scope=col>&lt;int&gt;</th><th scope=col>&lt;int&gt;</th><th scope=col>&lt;int&gt;</th><th scope=col>&lt;int&gt;</th><th scope=col>&lt;int&gt;</th><th scope=col>&lt;dbl&gt;</th></tr>\n",
       "</thead>\n",
       "<tbody>\n",
       "\t<tr><th scope=row>1</th><td>1</td><td>23</td><td>2151095</td><td>2399883</td><td> 248788</td><td> 0.0277384852</td></tr>\n",
       "\t<tr><th scope=row>2</th><td>1</td><td>24</td><td>2161380</td><td>2391398</td><td> 230018</td><td> 0.0256051272</td></tr>\n",
       "\t<tr><th scope=row>3</th><td>1</td><td>22</td><td>2188228</td><td>2367842</td><td> 179614</td><td> 0.0199174850</td></tr>\n",
       "\t<tr><th scope=row>4</th><td>1</td><td>21</td><td>2241095</td><td>2310734</td><td>  69639</td><td> 0.0076794966</td></tr>\n",
       "\t<tr><th scope=row>5</th><td>1</td><td>25</td><td>2177171</td><td>2295836</td><td> 118665</td><td> 0.0133560861</td></tr>\n",
       "\t<tr><th scope=row>6</th><td>1</td><td>20</td><td>2331846</td><td>2269570</td><td> -62276</td><td>-0.0067446129</td></tr>\n",
       "\t<tr><th scope=row>7</th><td>1</td><td>54</td><td>2091677</td><td>2242828</td><td> 151151</td><td> 0.0175958733</td></tr>\n",
       "\t<tr><th scope=row>8</th><td>1</td><td>26</td><td>2102375</td><td>2240026</td><td> 137651</td><td> 0.0159813104</td></tr>\n",
       "\t<tr><th scope=row>9</th><td>1</td><td>19</td><td>2334906</td><td>2220790</td><td>-114116</td><td>-0.0124490230</td></tr>\n",
       "\t<tr><th scope=row>10</th><td>1</td><td>53</td><td>2170965</td><td>2219617</td><td>  48652</td><td> 0.0055561005</td></tr>\n",
       "\t<tr><th scope=row>11</th><td>1</td><td>29</td><td>2112348</td><td>2217913</td><td> 105565</td><td> 0.0122662556</td></tr>\n",
       "\t<tr><th scope=row>12</th><td>1</td><td>50</td><td>2290902</td><td>2211607</td><td> -79295</td><td>-0.0087678923</td></tr>\n",
       "\t<tr><th scope=row>13</th><td>1</td><td>28</td><td>2135020</td><td>2207185</td><td>  72165</td><td> 0.0083451113</td></tr>\n",
       "\t<tr><th scope=row>14</th><td>1</td><td>51</td><td>2209830</td><td>2205405</td><td>  -4425</td><td>-0.0005009805</td></tr>\n",
       "\t<tr><th scope=row>15</th><td>1</td><td>27</td><td>2135214</td><td>2200429</td><td>  65215</td><td> 0.0075497229</td></tr>\n",
       "\t<tr><th scope=row>16</th><td>1</td><td>52</td><td>2197222</td><td>2198124</td><td>    902</td><td> 0.0001026138</td></tr>\n",
       "\t<tr><th scope=row>17</th><td>1</td><td>34</td><td>1908761</td><td>2192455</td><td> 283694</td><td> 0.0352489146</td></tr>\n",
       "\t<tr><th scope=row>18</th><td>1</td><td>44</td><td>2074606</td><td>2184235</td><td> 109629</td><td> 0.0129568207</td></tr>\n",
       "\t<tr><th scope=row>19</th><td>1</td><td>49</td><td>2262482</td><td>2179993</td><td> -82489</td><td>-0.0092422194</td></tr>\n",
       "\t<tr><th scope=row>20</th><td>1</td><td>31</td><td>2026467</td><td>2169725</td><td> 143258</td><td> 0.0172232765</td></tr>\n",
       "</tbody>\n",
       "</table>\n"
      ],
      "text/latex": [
       "A data.frame: 20 × 6\n",
       "\\begin{tabular}{r|llllll}\n",
       "  & SEX & AGE & pop\\_2010 & pop\\_2014 & Cambio & Crecimiento\\\\\n",
       "  & <int> & <int> & <int> & <int> & <int> & <dbl>\\\\\n",
       "\\hline\n",
       "\t1 & 1 & 23 & 2151095 & 2399883 &  248788 &  0.0277384852\\\\\n",
       "\t2 & 1 & 24 & 2161380 & 2391398 &  230018 &  0.0256051272\\\\\n",
       "\t3 & 1 & 22 & 2188228 & 2367842 &  179614 &  0.0199174850\\\\\n",
       "\t4 & 1 & 21 & 2241095 & 2310734 &   69639 &  0.0076794966\\\\\n",
       "\t5 & 1 & 25 & 2177171 & 2295836 &  118665 &  0.0133560861\\\\\n",
       "\t6 & 1 & 20 & 2331846 & 2269570 &  -62276 & -0.0067446129\\\\\n",
       "\t7 & 1 & 54 & 2091677 & 2242828 &  151151 &  0.0175958733\\\\\n",
       "\t8 & 1 & 26 & 2102375 & 2240026 &  137651 &  0.0159813104\\\\\n",
       "\t9 & 1 & 19 & 2334906 & 2220790 & -114116 & -0.0124490230\\\\\n",
       "\t10 & 1 & 53 & 2170965 & 2219617 &   48652 &  0.0055561005\\\\\n",
       "\t11 & 1 & 29 & 2112348 & 2217913 &  105565 &  0.0122662556\\\\\n",
       "\t12 & 1 & 50 & 2290902 & 2211607 &  -79295 & -0.0087678923\\\\\n",
       "\t13 & 1 & 28 & 2135020 & 2207185 &   72165 &  0.0083451113\\\\\n",
       "\t14 & 1 & 51 & 2209830 & 2205405 &   -4425 & -0.0005009805\\\\\n",
       "\t15 & 1 & 27 & 2135214 & 2200429 &   65215 &  0.0075497229\\\\\n",
       "\t16 & 1 & 52 & 2197222 & 2198124 &     902 &  0.0001026138\\\\\n",
       "\t17 & 1 & 34 & 1908761 & 2192455 &  283694 &  0.0352489146\\\\\n",
       "\t18 & 1 & 44 & 2074606 & 2184235 &  109629 &  0.0129568207\\\\\n",
       "\t19 & 1 & 49 & 2262482 & 2179993 &  -82489 & -0.0092422194\\\\\n",
       "\t20 & 1 & 31 & 2026467 & 2169725 &  143258 &  0.0172232765\\\\\n",
       "\\end{tabular}\n"
      ],
      "text/markdown": [
       "\n",
       "A data.frame: 20 × 6\n",
       "\n",
       "| <!--/--> | SEX &lt;int&gt; | AGE &lt;int&gt; | pop_2010 &lt;int&gt; | pop_2014 &lt;int&gt; | Cambio &lt;int&gt; | Crecimiento &lt;dbl&gt; |\n",
       "|---|---|---|---|---|---|---|\n",
       "| 1 | 1 | 23 | 2151095 | 2399883 |  248788 |  0.0277384852 |\n",
       "| 2 | 1 | 24 | 2161380 | 2391398 |  230018 |  0.0256051272 |\n",
       "| 3 | 1 | 22 | 2188228 | 2367842 |  179614 |  0.0199174850 |\n",
       "| 4 | 1 | 21 | 2241095 | 2310734 |   69639 |  0.0076794966 |\n",
       "| 5 | 1 | 25 | 2177171 | 2295836 |  118665 |  0.0133560861 |\n",
       "| 6 | 1 | 20 | 2331846 | 2269570 |  -62276 | -0.0067446129 |\n",
       "| 7 | 1 | 54 | 2091677 | 2242828 |  151151 |  0.0175958733 |\n",
       "| 8 | 1 | 26 | 2102375 | 2240026 |  137651 |  0.0159813104 |\n",
       "| 9 | 1 | 19 | 2334906 | 2220790 | -114116 | -0.0124490230 |\n",
       "| 10 | 1 | 53 | 2170965 | 2219617 |   48652 |  0.0055561005 |\n",
       "| 11 | 1 | 29 | 2112348 | 2217913 |  105565 |  0.0122662556 |\n",
       "| 12 | 1 | 50 | 2290902 | 2211607 |  -79295 | -0.0087678923 |\n",
       "| 13 | 1 | 28 | 2135020 | 2207185 |   72165 |  0.0083451113 |\n",
       "| 14 | 1 | 51 | 2209830 | 2205405 |   -4425 | -0.0005009805 |\n",
       "| 15 | 1 | 27 | 2135214 | 2200429 |   65215 |  0.0075497229 |\n",
       "| 16 | 1 | 52 | 2197222 | 2198124 |     902 |  0.0001026138 |\n",
       "| 17 | 1 | 34 | 1908761 | 2192455 |  283694 |  0.0352489146 |\n",
       "| 18 | 1 | 44 | 2074606 | 2184235 |  109629 |  0.0129568207 |\n",
       "| 19 | 1 | 49 | 2262482 | 2179993 |  -82489 | -0.0092422194 |\n",
       "| 20 | 1 | 31 | 2026467 | 2169725 |  143258 |  0.0172232765 |\n",
       "\n"
      ],
      "text/plain": [
       "   SEX AGE pop_2010 pop_2014 Cambio  Crecimiento  \n",
       "1  1   23  2151095  2399883   248788  0.0277384852\n",
       "2  1   24  2161380  2391398   230018  0.0256051272\n",
       "3  1   22  2188228  2367842   179614  0.0199174850\n",
       "4  1   21  2241095  2310734    69639  0.0076794966\n",
       "5  1   25  2177171  2295836   118665  0.0133560861\n",
       "6  1   20  2331846  2269570   -62276 -0.0067446129\n",
       "7  1   54  2091677  2242828   151151  0.0175958733\n",
       "8  1   26  2102375  2240026   137651  0.0159813104\n",
       "9  1   19  2334906  2220790  -114116 -0.0124490230\n",
       "10 1   53  2170965  2219617    48652  0.0055561005\n",
       "11 1   29  2112348  2217913   105565  0.0122662556\n",
       "12 1   50  2290902  2211607   -79295 -0.0087678923\n",
       "13 1   28  2135020  2207185    72165  0.0083451113\n",
       "14 1   51  2209830  2205405    -4425 -0.0005009805\n",
       "15 1   27  2135214  2200429    65215  0.0075497229\n",
       "16 1   52  2197222  2198124      902  0.0001026138\n",
       "17 1   34  1908761  2192455   283694  0.0352489146\n",
       "18 1   44  2074606  2184235   109629  0.0129568207\n",
       "19 1   49  2262482  2179993   -82489 -0.0092422194\n",
       "20 1   31  2026467  2169725   143258  0.0172232765"
      ]
     },
     "metadata": {},
     "output_type": "display_data"
    }
   ],
   "source": [
    "arrange(hombres, desc(pop_2014))[1:20,]"
   ]
  },
  {
   "cell_type": "code",
   "execution_count": 9,
   "metadata": {},
   "outputs": [
    {
     "data": {
      "text/html": [
       "<table>\n",
       "<caption>A data.frame: 1 × 6</caption>\n",
       "<thead>\n",
       "\t<tr><th scope=col>SEX</th><th scope=col>AGE</th><th scope=col>pop_2010</th><th scope=col>pop_2014</th><th scope=col>Cambio</th><th scope=col>Crecimiento</th></tr>\n",
       "\t<tr><th scope=col>&lt;int&gt;</th><th scope=col>&lt;int&gt;</th><th scope=col>&lt;int&gt;</th><th scope=col>&lt;int&gt;</th><th scope=col>&lt;int&gt;</th><th scope=col>&lt;dbl&gt;</th></tr>\n",
       "</thead>\n",
       "<tbody>\n",
       "\t<tr><td>1</td><td>23</td><td>2151095</td><td>2399883</td><td>248788</td><td>0.02773849</td></tr>\n",
       "</tbody>\n",
       "</table>\n"
      ],
      "text/latex": [
       "A data.frame: 1 × 6\n",
       "\\begin{tabular}{llllll}\n",
       " SEX & AGE & pop\\_2010 & pop\\_2014 & Cambio & Crecimiento\\\\\n",
       " <int> & <int> & <int> & <int> & <int> & <dbl>\\\\\n",
       "\\hline\n",
       "\t 1 & 23 & 2151095 & 2399883 & 248788 & 0.02773849\\\\\n",
       "\\end{tabular}\n"
      ],
      "text/markdown": [
       "\n",
       "A data.frame: 1 × 6\n",
       "\n",
       "| SEX &lt;int&gt; | AGE &lt;int&gt; | pop_2010 &lt;int&gt; | pop_2014 &lt;int&gt; | Cambio &lt;int&gt; | Crecimiento &lt;dbl&gt; |\n",
       "|---|---|---|---|---|---|\n",
       "| 1 | 23 | 2151095 | 2399883 | 248788 | 0.02773849 |\n",
       "\n"
      ],
      "text/plain": [
       "  SEX AGE pop_2010 pop_2014 Cambio Crecimiento\n",
       "1 1   23  2151095  2399883  248788 0.02773849 "
      ]
     },
     "metadata": {},
     "output_type": "display_data"
    }
   ],
   "source": [
    "# Para la edad:\n",
    "filter(hombres, pop_2014 == max(pop_2014))"
   ]
  },
  {
   "cell_type": "code",
   "execution_count": 10,
   "metadata": {},
   "outputs": [
    {
     "data": {
      "text/html": [
       "<table>\n",
       "<caption>A data.frame: 4 × 6</caption>\n",
       "<thead>\n",
       "\t<tr><th scope=col>SEX</th><th scope=col>AGE</th><th scope=col>pop_2010</th><th scope=col>pop_2014</th><th scope=col>Cambio</th><th scope=col>Crecimiento</th></tr>\n",
       "\t<tr><th scope=col>&lt;int&gt;</th><th scope=col>&lt;int&gt;</th><th scope=col>&lt;int&gt;</th><th scope=col>&lt;int&gt;</th><th scope=col>&lt;int&gt;</th><th scope=col>&lt;dbl&gt;</th></tr>\n",
       "</thead>\n",
       "<tbody>\n",
       "\t<tr><td>1</td><td>64</td><td>1291843</td><td>1661474</td><td>369631</td><td>0.06492973</td></tr>\n",
       "\t<tr><td>1</td><td>65</td><td>1272693</td><td>1607688</td><td>334995</td><td>0.06015540</td></tr>\n",
       "\t<tr><td>1</td><td>66</td><td>1239805</td><td>1589127</td><td>349322</td><td>0.06402371</td></tr>\n",
       "\t<tr><td>1</td><td>67</td><td>1270148</td><td>1653257</td><td>383109</td><td>0.06812360</td></tr>\n",
       "</tbody>\n",
       "</table>\n"
      ],
      "text/latex": [
       "A data.frame: 4 × 6\n",
       "\\begin{tabular}{llllll}\n",
       " SEX & AGE & pop\\_2010 & pop\\_2014 & Cambio & Crecimiento\\\\\n",
       " <int> & <int> & <int> & <int> & <int> & <dbl>\\\\\n",
       "\\hline\n",
       "\t 1 & 64 & 1291843 & 1661474 & 369631 & 0.06492973\\\\\n",
       "\t 1 & 65 & 1272693 & 1607688 & 334995 & 0.06015540\\\\\n",
       "\t 1 & 66 & 1239805 & 1589127 & 349322 & 0.06402371\\\\\n",
       "\t 1 & 67 & 1270148 & 1653257 & 383109 & 0.06812360\\\\\n",
       "\\end{tabular}\n"
      ],
      "text/markdown": [
       "\n",
       "A data.frame: 4 × 6\n",
       "\n",
       "| SEX &lt;int&gt; | AGE &lt;int&gt; | pop_2010 &lt;int&gt; | pop_2014 &lt;int&gt; | Cambio &lt;int&gt; | Crecimiento &lt;dbl&gt; |\n",
       "|---|---|---|---|---|---|\n",
       "| 1 | 64 | 1291843 | 1661474 | 369631 | 0.06492973 |\n",
       "| 1 | 65 | 1272693 | 1607688 | 334995 | 0.06015540 |\n",
       "| 1 | 66 | 1239805 | 1589127 | 349322 | 0.06402371 |\n",
       "| 1 | 67 | 1270148 | 1653257 | 383109 | 0.06812360 |\n",
       "\n"
      ],
      "text/plain": [
       "  SEX AGE pop_2010 pop_2014 Cambio Crecimiento\n",
       "1 1   64  1291843  1661474  369631 0.06492973 \n",
       "2 1   65  1272693  1607688  334995 0.06015540 \n",
       "3 1   66  1239805  1589127  349322 0.06402371 \n",
       "4 1   67  1270148  1653257  383109 0.06812360 "
      ]
     },
     "metadata": {},
     "output_type": "display_data"
    }
   ],
   "source": [
    "filter(hombres, Cambio > 300000) # baby boomers? Por qué solo 4 filas? "
   ]
  },
  {
   "cell_type": "code",
   "execution_count": 11,
   "metadata": {
    "scrolled": true
   },
   "outputs": [
    {
     "data": {
      "text/html": [
       "<table>\n",
       "<caption>A data.frame: 14 × 6</caption>\n",
       "<thead>\n",
       "\t<tr><th scope=col>SEX</th><th scope=col>AGE</th><th scope=col>pop_2010</th><th scope=col>pop_2014</th><th scope=col>Cambio</th><th scope=col>Crecimiento</th></tr>\n",
       "\t<tr><th scope=col>&lt;int&gt;</th><th scope=col>&lt;int&gt;</th><th scope=col>&lt;int&gt;</th><th scope=col>&lt;int&gt;</th><th scope=col>&lt;int&gt;</th><th scope=col>&lt;dbl&gt;</th></tr>\n",
       "</thead>\n",
       "<tbody>\n",
       "\t<tr><td>1</td><td>56</td><td>1984480</td><td>2140722</td><td>156242</td><td> 0.01912719</td></tr>\n",
       "\t<tr><td>1</td><td>57</td><td>1910028</td><td>2110149</td><td>200121</td><td> 0.02522302</td></tr>\n",
       "\t<tr><td>1</td><td>58</td><td>1838703</td><td>2027959</td><td>189256</td><td> 0.02479476</td></tr>\n",
       "\t<tr><td>1</td><td>59</td><td>1779504</td><td>2006900</td><td>227396</td><td> 0.03052063</td></tr>\n",
       "\t<tr><td>1</td><td>60</td><td>1742232</td><td>1914009</td><td>171777</td><td> 0.02378673</td></tr>\n",
       "\t<tr><td>1</td><td>61</td><td>1691413</td><td>1837080</td><td>145667</td><td> 0.02086802</td></tr>\n",
       "\t<tr><td>1</td><td>62</td><td>1679074</td><td>1763504</td><td> 84430</td><td> 0.01234060</td></tr>\n",
       "\t<tr><td>1</td><td>63</td><td>1753914</td><td>1701827</td><td>-52087</td><td>-0.00750854</td></tr>\n",
       "\t<tr><td>1</td><td>64</td><td>1291843</td><td>1661474</td><td>369631</td><td> 0.06492973</td></tr>\n",
       "\t<tr><td>1</td><td>65</td><td>1272693</td><td>1607688</td><td>334995</td><td> 0.06015540</td></tr>\n",
       "\t<tr><td>1</td><td>66</td><td>1239805</td><td>1589127</td><td>349322</td><td> 0.06402371</td></tr>\n",
       "\t<tr><td>1</td><td>67</td><td>1270148</td><td>1653257</td><td>383109</td><td> 0.06812360</td></tr>\n",
       "\t<tr><td>1</td><td>68</td><td>1105702</td><td>1211480</td><td>105778</td><td> 0.02310342</td></tr>\n",
       "\t<tr><td>1</td><td>69</td><td>1006786</td><td>1187554</td><td>180768</td><td> 0.04214716</td></tr>\n",
       "</tbody>\n",
       "</table>\n"
      ],
      "text/latex": [
       "A data.frame: 14 × 6\n",
       "\\begin{tabular}{llllll}\n",
       " SEX & AGE & pop\\_2010 & pop\\_2014 & Cambio & Crecimiento\\\\\n",
       " <int> & <int> & <int> & <int> & <int> & <dbl>\\\\\n",
       "\\hline\n",
       "\t 1 & 56 & 1984480 & 2140722 & 156242 &  0.01912719\\\\\n",
       "\t 1 & 57 & 1910028 & 2110149 & 200121 &  0.02522302\\\\\n",
       "\t 1 & 58 & 1838703 & 2027959 & 189256 &  0.02479476\\\\\n",
       "\t 1 & 59 & 1779504 & 2006900 & 227396 &  0.03052063\\\\\n",
       "\t 1 & 60 & 1742232 & 1914009 & 171777 &  0.02378673\\\\\n",
       "\t 1 & 61 & 1691413 & 1837080 & 145667 &  0.02086802\\\\\n",
       "\t 1 & 62 & 1679074 & 1763504 &  84430 &  0.01234060\\\\\n",
       "\t 1 & 63 & 1753914 & 1701827 & -52087 & -0.00750854\\\\\n",
       "\t 1 & 64 & 1291843 & 1661474 & 369631 &  0.06492973\\\\\n",
       "\t 1 & 65 & 1272693 & 1607688 & 334995 &  0.06015540\\\\\n",
       "\t 1 & 66 & 1239805 & 1589127 & 349322 &  0.06402371\\\\\n",
       "\t 1 & 67 & 1270148 & 1653257 & 383109 &  0.06812360\\\\\n",
       "\t 1 & 68 & 1105702 & 1211480 & 105778 &  0.02310342\\\\\n",
       "\t 1 & 69 & 1006786 & 1187554 & 180768 &  0.04214716\\\\\n",
       "\\end{tabular}\n"
      ],
      "text/markdown": [
       "\n",
       "A data.frame: 14 × 6\n",
       "\n",
       "| SEX &lt;int&gt; | AGE &lt;int&gt; | pop_2010 &lt;int&gt; | pop_2014 &lt;int&gt; | Cambio &lt;int&gt; | Crecimiento &lt;dbl&gt; |\n",
       "|---|---|---|---|---|---|\n",
       "| 1 | 56 | 1984480 | 2140722 | 156242 |  0.01912719 |\n",
       "| 1 | 57 | 1910028 | 2110149 | 200121 |  0.02522302 |\n",
       "| 1 | 58 | 1838703 | 2027959 | 189256 |  0.02479476 |\n",
       "| 1 | 59 | 1779504 | 2006900 | 227396 |  0.03052063 |\n",
       "| 1 | 60 | 1742232 | 1914009 | 171777 |  0.02378673 |\n",
       "| 1 | 61 | 1691413 | 1837080 | 145667 |  0.02086802 |\n",
       "| 1 | 62 | 1679074 | 1763504 |  84430 |  0.01234060 |\n",
       "| 1 | 63 | 1753914 | 1701827 | -52087 | -0.00750854 |\n",
       "| 1 | 64 | 1291843 | 1661474 | 369631 |  0.06492973 |\n",
       "| 1 | 65 | 1272693 | 1607688 | 334995 |  0.06015540 |\n",
       "| 1 | 66 | 1239805 | 1589127 | 349322 |  0.06402371 |\n",
       "| 1 | 67 | 1270148 | 1653257 | 383109 |  0.06812360 |\n",
       "| 1 | 68 | 1105702 | 1211480 | 105778 |  0.02310342 |\n",
       "| 1 | 69 | 1006786 | 1187554 | 180768 |  0.04214716 |\n",
       "\n"
      ],
      "text/plain": [
       "   SEX AGE pop_2010 pop_2014 Cambio Crecimiento\n",
       "1  1   56  1984480  2140722  156242  0.01912719\n",
       "2  1   57  1910028  2110149  200121  0.02522302\n",
       "3  1   58  1838703  2027959  189256  0.02479476\n",
       "4  1   59  1779504  2006900  227396  0.03052063\n",
       "5  1   60  1742232  1914009  171777  0.02378673\n",
       "6  1   61  1691413  1837080  145667  0.02086802\n",
       "7  1   62  1679074  1763504   84430  0.01234060\n",
       "8  1   63  1753914  1701827  -52087 -0.00750854\n",
       "9  1   64  1291843  1661474  369631  0.06492973\n",
       "10 1   65  1272693  1607688  334995  0.06015540\n",
       "11 1   66  1239805  1589127  349322  0.06402371\n",
       "12 1   67  1270148  1653257  383109  0.06812360\n",
       "13 1   68  1105702  1211480  105778  0.02310342\n",
       "14 1   69  1006786  1187554  180768  0.04214716"
      ]
     },
     "metadata": {},
     "output_type": "display_data"
    }
   ],
   "source": [
    "filter(hombres, AGE > 55 & AGE < 70) # Ver 63-64 tiene 4 filas porque 2014 - 2010 = 4."
   ]
  },
  {
   "cell_type": "markdown",
   "metadata": {},
   "source": [
    "La población sube y luego baja. El fenómeno está descrito por las dos columnas. "
   ]
  },
  {
   "cell_type": "markdown",
   "metadata": {},
   "source": [
    "# Funciones\n",
    "\n"
   ]
  },
  {
   "cell_type": "code",
   "execution_count": 12,
   "metadata": {},
   "outputs": [],
   "source": [
    "spread <- function(valores){\n",
    "    # intput: valores: vector de números. \n",
    "    # output: distancia entre el max y el min de los números.\n",
    "    \n",
    "    max(valores) - min(valores)\n",
    "}"
   ]
  },
  {
   "cell_type": "code",
   "execution_count": 13,
   "metadata": {},
   "outputs": [
    {
     "data": {
      "text/html": [
       "99"
      ],
      "text/latex": [
       "99"
      ],
      "text/markdown": [
       "99"
      ],
      "text/plain": [
       "[1] 99"
      ]
     },
     "metadata": {},
     "output_type": "display_data"
    },
    {
     "data": {
      "text/html": [
       "8"
      ],
      "text/latex": [
       "8"
      ],
      "text/markdown": [
       "8"
      ],
      "text/plain": [
       "[1] 8"
      ]
     },
     "metadata": {},
     "output_type": "display_data"
    }
   ],
   "source": [
    "spread(1:100)\n",
    "spread(c(1,2,5,5,7,8,9,9,9,9,9))"
   ]
  },
  {
   "cell_type": "code",
   "execution_count": 14,
   "metadata": {},
   "outputs": [
    {
     "data": {
      "text/html": [
       "0.25"
      ],
      "text/latex": [
       "0.25"
      ],
      "text/markdown": [
       "0.25"
      ],
      "text/plain": [
       "[1] 0.25"
      ]
     },
     "metadata": {},
     "output_type": "display_data"
    },
    {
     "data": {
      "text/html": [
       "25"
      ],
      "text/latex": [
       "25"
      ],
      "text/markdown": [
       "25"
      ],
      "text/plain": [
       "[1] 25"
      ]
     },
     "metadata": {},
     "output_type": "display_data"
    },
    {
     "data": {
      "text/html": [
       "0.666666666666667"
      ],
      "text/latex": [
       "0.666666666666667"
      ],
      "text/markdown": [
       "0.666666666666667"
      ],
      "text/plain": [
       "[1] 0.6666667"
      ]
     },
     "metadata": {},
     "output_type": "display_data"
    },
    {
     "data": {
      "text/html": [
       "66.67"
      ],
      "text/latex": [
       "66.67"
      ],
      "text/markdown": [
       "66.67"
      ],
      "text/plain": [
       "[1] 66.67"
      ]
     },
     "metadata": {},
     "output_type": "display_data"
    }
   ],
   "source": [
    "cuarto <- 1/4\n",
    "cuarto\n",
    "\n",
    "cuarto*100\n",
    "\n",
    "dosTercios <- 2/3\n",
    "dosTercios\n",
    "\n",
    "round(dosTercios*100, 2)"
   ]
  },
  {
   "cell_type": "code",
   "execution_count": 15,
   "metadata": {},
   "outputs": [],
   "source": [
    "porcentaje <- function(x){\n",
    "    round(100 * x, 2)\n",
    "}"
   ]
  },
  {
   "cell_type": "code",
   "execution_count": 16,
   "metadata": {},
   "outputs": [
    {
     "data": {
      "text/html": [
       "50"
      ],
      "text/latex": [
       "50"
      ],
      "text/markdown": [
       "50"
      ],
      "text/plain": [
       "[1] 50"
      ]
     },
     "metadata": {},
     "output_type": "display_data"
    },
    {
     "data": {
      "text/html": [
       "0"
      ],
      "text/latex": [
       "0"
      ],
      "text/markdown": [
       "0"
      ],
      "text/plain": [
       "[1] 0"
      ]
     },
     "metadata": {},
     "output_type": "display_data"
    }
   ],
   "source": [
    "porcentaje(1/2)\n",
    "porcentaje(1/60000)"
   ]
  },
  {
   "cell_type": "code",
   "execution_count": 17,
   "metadata": {},
   "outputs": [
    {
     "data": {
      "text/html": [
       "0"
      ],
      "text/latex": [
       "0"
      ],
      "text/markdown": [
       "0"
      ],
      "text/plain": [
       "[1] 0"
      ]
     },
     "metadata": {},
     "output_type": "display_data"
    }
   ],
   "source": [
    "round(100*1/60000, 2)"
   ]
  },
  {
   "cell_type": "code",
   "execution_count": 18,
   "metadata": {},
   "outputs": [],
   "source": [
    "porcentaje <- function(x){\n",
    "    # input: x = número entre 0 y 1.\n",
    "    # output: escritura en porcentaje de x.\n",
    "    \n",
    "    if(x < 0.00005){\n",
    "        x*100\n",
    "    }\n",
    "    else{\n",
    "        round(100*x, 2)\n",
    "    }\n",
    "    \n",
    "}"
   ]
  },
  {
   "cell_type": "code",
   "execution_count": 19,
   "metadata": {},
   "outputs": [
    {
     "data": {
      "text/html": [
       "0.00166666666666667"
      ],
      "text/latex": [
       "0.00166666666666667"
      ],
      "text/markdown": [
       "0.00166666666666667"
      ],
      "text/plain": [
       "[1] 0.001666667"
      ]
     },
     "metadata": {},
     "output_type": "display_data"
    },
    {
     "data": {
      "text/html": [
       "20"
      ],
      "text/latex": [
       "20"
      ],
      "text/markdown": [
       "20"
      ],
      "text/plain": [
       "[1] 20"
      ]
     },
     "metadata": {},
     "output_type": "display_data"
    }
   ],
   "source": [
    "porcentaje(1/60000)\n",
    "porcentaje(1/5)"
   ]
  },
  {
   "cell_type": "markdown",
   "metadata": {},
   "source": [
    "Pueden usar cualquier cosas como argunmento"
   ]
  },
  {
   "cell_type": "code",
   "execution_count": 20,
   "metadata": {},
   "outputs": [
    {
     "data": {
      "text/html": [
       "<table>\n",
       "<caption>A data.frame: 3 × 6</caption>\n",
       "<thead>\n",
       "\t<tr><th scope=col>SEX</th><th scope=col>AGE</th><th scope=col>pop_2010</th><th scope=col>pop_2014</th><th scope=col>Cambio</th><th scope=col>Crecimiento</th></tr>\n",
       "\t<tr><th scope=col>&lt;int&gt;</th><th scope=col>&lt;int&gt;</th><th scope=col>&lt;int&gt;</th><th scope=col>&lt;int&gt;</th><th scope=col>&lt;int&gt;</th><th scope=col>&lt;dbl&gt;</th></tr>\n",
       "</thead>\n",
       "<tbody>\n",
       "\t<tr><td>1</td><td>16</td><td>2215032</td><td>2130938</td><td> -84094</td><td>-0.009629485</td></tr>\n",
       "\t<tr><td>1</td><td>17</td><td>2252838</td><td>2138809</td><td>-114029</td><td>-0.012901459</td></tr>\n",
       "\t<tr><td>1</td><td>18</td><td>2305733</td><td>2165062</td><td>-140671</td><td>-0.015614222</td></tr>\n",
       "</tbody>\n",
       "</table>\n"
      ],
      "text/latex": [
       "A data.frame: 3 × 6\n",
       "\\begin{tabular}{llllll}\n",
       " SEX & AGE & pop\\_2010 & pop\\_2014 & Cambio & Crecimiento\\\\\n",
       " <int> & <int> & <int> & <int> & <int> & <dbl>\\\\\n",
       "\\hline\n",
       "\t 1 & 16 & 2215032 & 2130938 &  -84094 & -0.009629485\\\\\n",
       "\t 1 & 17 & 2252838 & 2138809 & -114029 & -0.012901459\\\\\n",
       "\t 1 & 18 & 2305733 & 2165062 & -140671 & -0.015614222\\\\\n",
       "\\end{tabular}\n"
      ],
      "text/markdown": [
       "\n",
       "A data.frame: 3 × 6\n",
       "\n",
       "| SEX &lt;int&gt; | AGE &lt;int&gt; | pop_2010 &lt;int&gt; | pop_2014 &lt;int&gt; | Cambio &lt;int&gt; | Crecimiento &lt;dbl&gt; |\n",
       "|---|---|---|---|---|---|\n",
       "| 1 | 16 | 2215032 | 2130938 |  -84094 | -0.009629485 |\n",
       "| 1 | 17 | 2252838 | 2138809 | -114029 | -0.012901459 |\n",
       "| 1 | 18 | 2305733 | 2165062 | -140671 | -0.015614222 |\n",
       "\n"
      ],
      "text/plain": [
       "  SEX AGE pop_2010 pop_2014 Cambio  Crecimiento \n",
       "1 1   16  2215032  2130938   -84094 -0.009629485\n",
       "2 1   17  2252838  2138809  -114029 -0.012901459\n",
       "3 1   18  2305733  2165062  -140671 -0.015614222"
      ]
     },
     "metadata": {},
     "output_type": "display_data"
    },
    {
     "data": {
      "text/html": [
       "<table>\n",
       "<caption>A data.frame: 3 × 6</caption>\n",
       "<thead>\n",
       "\t<tr><th scope=col>SEX</th><th scope=col>AGE</th><th scope=col>pop_2010</th><th scope=col>pop_2014</th><th scope=col>Cambio</th><th scope=col>Crecimiento</th></tr>\n",
       "\t<tr><th scope=col>&lt;int&gt;</th><th scope=col>&lt;int&gt;</th><th scope=col>&lt;int&gt;</th><th scope=col>&lt;int&gt;</th><th scope=col>&lt;int&gt;</th><th scope=col>&lt;dbl&gt;</th></tr>\n",
       "</thead>\n",
       "<tbody>\n",
       "\t<tr><td>2</td><td>16</td><td>2098220</td><td>2036296</td><td> -61924</td><td>-0.007461249</td></tr>\n",
       "\t<tr><td>2</td><td>17</td><td>2123530</td><td>2045897</td><td> -77633</td><td>-0.009267657</td></tr>\n",
       "\t<tr><td>2</td><td>18</td><td>2185272</td><td>2060528</td><td>-124744</td><td>-0.014587074</td></tr>\n",
       "</tbody>\n",
       "</table>\n"
      ],
      "text/latex": [
       "A data.frame: 3 × 6\n",
       "\\begin{tabular}{llllll}\n",
       " SEX & AGE & pop\\_2010 & pop\\_2014 & Cambio & Crecimiento\\\\\n",
       " <int> & <int> & <int> & <int> & <int> & <dbl>\\\\\n",
       "\\hline\n",
       "\t 2 & 16 & 2098220 & 2036296 &  -61924 & -0.007461249\\\\\n",
       "\t 2 & 17 & 2123530 & 2045897 &  -77633 & -0.009267657\\\\\n",
       "\t 2 & 18 & 2185272 & 2060528 & -124744 & -0.014587074\\\\\n",
       "\\end{tabular}\n"
      ],
      "text/markdown": [
       "\n",
       "A data.frame: 3 × 6\n",
       "\n",
       "| SEX &lt;int&gt; | AGE &lt;int&gt; | pop_2010 &lt;int&gt; | pop_2014 &lt;int&gt; | Cambio &lt;int&gt; | Crecimiento &lt;dbl&gt; |\n",
       "|---|---|---|---|---|---|\n",
       "| 2 | 16 | 2098220 | 2036296 |  -61924 | -0.007461249 |\n",
       "| 2 | 17 | 2123530 | 2045897 |  -77633 | -0.009267657 |\n",
       "| 2 | 18 | 2185272 | 2060528 | -124744 | -0.014587074 |\n",
       "\n"
      ],
      "text/plain": [
       "  SEX AGE pop_2010 pop_2014 Cambio  Crecimiento \n",
       "1 2   16  2098220  2036296   -61924 -0.007461249\n",
       "2 2   17  2123530  2045897   -77633 -0.009267657\n",
       "3 2   18  2185272  2060528  -124744 -0.014587074"
      ]
     },
     "metadata": {},
     "output_type": "display_data"
    }
   ],
   "source": [
    "adolescentes.votantes <- function(df){\n",
    "    #filter(df, AGE == 18 | AGE == 19)\n",
    "    filter(df, AGE > 15 & AGE < 19 )\n",
    "}\n",
    "\n",
    "adolescentes.votantes(hombres)\n",
    "adolescentes.votantes(mujeres)"
   ]
  },
  {
   "cell_type": "code",
   "execution_count": 21,
   "metadata": {},
   "outputs": [
    {
     "name": "stderr",
     "output_type": "stream",
     "text": [
      "Warning message in if (x < 5e-05) {:\n",
      "“the condition has length > 1 and only the first element will be used”"
     ]
    },
    {
     "data": {
      "text/html": [
       "<table>\n",
       "<caption>A data.frame: 6 × 6</caption>\n",
       "<thead>\n",
       "\t<tr><th></th><th scope=col>AGE</th><th scope=col>SEX</th><th scope=col>pop_2014</th><th scope=col>pop_2010</th><th scope=col>Cambio</th><th scope=col>Crecimiento</th></tr>\n",
       "\t<tr><th></th><th scope=col>&lt;int&gt;</th><th scope=col>&lt;int&gt;</th><th scope=col>&lt;int&gt;</th><th scope=col>&lt;int&gt;</th><th scope=col>&lt;int&gt;</th><th scope=col>&lt;dbl&gt;</th></tr>\n",
       "</thead>\n",
       "<tbody>\n",
       "\t<tr><th scope=row>1</th><td>0</td><td>0</td><td>3948350</td><td>3951330</td><td>  -2980</td><td>-0.07541764</td></tr>\n",
       "\t<tr><th scope=row>2</th><td>1</td><td>0</td><td>3962123</td><td>3957888</td><td>   4235</td><td> 0.10700151</td></tr>\n",
       "\t<tr><th scope=row>3</th><td>2</td><td>0</td><td>3957772</td><td>4090862</td><td>-133090</td><td>-3.25334856</td></tr>\n",
       "\t<tr><th scope=row>4</th><td>3</td><td>0</td><td>4005190</td><td>4111920</td><td>-106730</td><td>-2.59562443</td></tr>\n",
       "\t<tr><th scope=row>5</th><td>4</td><td>0</td><td>4003448</td><td>4077552</td><td> -74104</td><td>-1.81736493</td></tr>\n",
       "\t<tr><th scope=row>6</th><td>5</td><td>0</td><td>4004858</td><td>4064653</td><td> -59795</td><td>-1.47109729</td></tr>\n",
       "</tbody>\n",
       "</table>\n"
      ],
      "text/latex": [
       "A data.frame: 6 × 6\n",
       "\\begin{tabular}{r|llllll}\n",
       "  & AGE & SEX & pop\\_2014 & pop\\_2010 & Cambio & Crecimiento\\\\\n",
       "  & <int> & <int> & <int> & <int> & <int> & <dbl>\\\\\n",
       "\\hline\n",
       "\t1 & 0 & 0 & 3948350 & 3951330 &   -2980 & -0.07541764\\\\\n",
       "\t2 & 1 & 0 & 3962123 & 3957888 &    4235 &  0.10700151\\\\\n",
       "\t3 & 2 & 0 & 3957772 & 4090862 & -133090 & -3.25334856\\\\\n",
       "\t4 & 3 & 0 & 4005190 & 4111920 & -106730 & -2.59562443\\\\\n",
       "\t5 & 4 & 0 & 4003448 & 4077552 &  -74104 & -1.81736493\\\\\n",
       "\t6 & 5 & 0 & 4004858 & 4064653 &  -59795 & -1.47109729\\\\\n",
       "\\end{tabular}\n"
      ],
      "text/markdown": [
       "\n",
       "A data.frame: 6 × 6\n",
       "\n",
       "| <!--/--> | AGE &lt;int&gt; | SEX &lt;int&gt; | pop_2014 &lt;int&gt; | pop_2010 &lt;int&gt; | Cambio &lt;int&gt; | Crecimiento &lt;dbl&gt; |\n",
       "|---|---|---|---|---|---|---|\n",
       "| 1 | 0 | 0 | 3948350 | 3951330 |   -2980 | -0.07541764 |\n",
       "| 2 | 1 | 0 | 3962123 | 3957888 |    4235 |  0.10700151 |\n",
       "| 3 | 2 | 0 | 3957772 | 4090862 | -133090 | -3.25334856 |\n",
       "| 4 | 3 | 0 | 4005190 | 4111920 | -106730 | -2.59562443 |\n",
       "| 5 | 4 | 0 | 4003448 | 4077552 |  -74104 | -1.81736493 |\n",
       "| 6 | 5 | 0 | 4004858 | 4064653 |  -59795 | -1.47109729 |\n",
       "\n"
      ],
      "text/plain": [
       "  AGE SEX pop_2014 pop_2010 Cambio  Crecimiento\n",
       "1 0   0   3948350  3951330    -2980 -0.07541764\n",
       "2 1   0   3962123  3957888     4235  0.10700151\n",
       "3 2   0   3957772  4090862  -133090 -3.25334856\n",
       "4 3   0   4005190  4111920  -106730 -2.59562443\n",
       "5 4   0   4003448  4077552   -74104 -1.81736493\n",
       "6 5   0   4004858  4064653   -59795 -1.47109729"
      ]
     },
     "metadata": {},
     "output_type": "display_data"
    }
   ],
   "source": [
    "pop_Simple <- pop_us %>% select(AGE, SEX, \n",
    "                      pop_2014=POPESTIMATE2014, \n",
    "                      pop_2010=POPESTIMATE2010) %>%\n",
    "                    mutate(Cambio = pop_2014 - pop_2010, \n",
    "                    Crecimiento = porcentaje(pop_2014/pop_2010 - 1))\n",
    "\n",
    "head(pop_Simple)"
   ]
  },
  {
   "cell_type": "code",
   "execution_count": null,
   "metadata": {},
   "outputs": [],
   "source": []
  },
  {
   "cell_type": "code",
   "execution_count": null,
   "metadata": {},
   "outputs": [],
   "source": []
  }
 ],
 "metadata": {
  "anaconda-cloud": {},
  "kernelspec": {
   "display_name": "R",
   "language": "R",
   "name": "ir"
  },
  "language_info": {
   "codemirror_mode": "r",
   "file_extension": ".r",
   "mimetype": "text/x-r-source",
   "name": "R",
   "pygments_lexer": "r",
   "version": "3.6.3"
  }
 },
 "nbformat": 4,
 "nbformat_minor": 1
}
